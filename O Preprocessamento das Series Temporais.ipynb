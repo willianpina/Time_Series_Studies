{
 "cells": [
  {
   "cell_type": "markdown",
   "source": [
    "<h1 align=''center>Pré-processamento das Séries Temporais</h1>\n",
    "<p align = 'center'><img src = \"https://deak.com.br/wp-content/uploads/2016/02/fev_5-1800x541-1.png\", height=\"350\", width=\"600\"></p>\n",
    "<p align = \"justify\">O<b> pré-processamento de uma Série Temporal </b> é uma parte importante do Machine Learning, que por vezes é negligenciada por muitos Cientistas de Dados. Diversos livros na literatura especializada, não abordam essa prática com a devida atenção que deve ser dispensada. Os reflexos de um mau pré-processamento ocorrem na fase de implementação do algoritmo apontando para resultados com baixa qualidade. É bem verdade que é normal as pessoas serem atraídas pela performace/implementação dos algoritmo de <i>Machine Learning</i> e relegarem as ações de pré-processamento ao segundo plano.</p>\n",
    "<p align ='justify'>Um fato a ser considerado é que o pré-processamento é, em alguns conjuntos de dados, uma tarefa bem fácil de se executar e que tem um grande impacto no resultado da performance do modelo de <i>Machine Learning</i>. E em relação a isso é válido lembrar a seguinte expressão \"Lixo que entra, Lixo que sai\".</p>\n",
    "<h3>O pré-processamento</h3>\n",
    "<p align = 'justify'>Quem trabalha com a Análise de Dados sabe que por vezes as fontes dos dados são diversas e isso causa muita confusão na hora da aplicação dos modelos. As inconsistências, erros de gravação, múltiplas fontes de dados são alguns dos desafios que os cientistas de dados ou Engenheiros de Dados lidam diariamente para prover a melhor qualidade dos dados para as aplicações previstas.</p>\n",
    "<p align =' justify'>algumas técnicas são importantes para a implementação de um bom pré-processamento:</p>\n",
    "<li><i>Feature transforms</i>: realiza adaptações no conjunto de dados.</li>\n",
    "<li><i>Feature engineering</i>: constroí outras características a partir dos dados, criando um complexidade positiva no modelo.</li>\n",
    "\n",
    "<p align='justify'> A nossa meta é conseguir extrair características do conjunto de dados que nos possibilitem tornar o modelo mais fácil para o treinamento e avaliação ou para melhorar a qualidade das predições do modelo, de forma a ter características que apontem para a variável alvo.</p>\n",
    "\n",
    "<h3><i>Features Transforms</i></h3>\n",
    "<p align=\"justify\">Muitos modelos partem do princípio que os dados estão organizados em uma Distribuição Normal. Infelizmente esta não é a realidade, frequentemente os dados encontrados não estão em uma distribuição normal, e isto pode afetar os resultados dos modelos.</p>\n",
    "\n",
    "<h4><i>Scaling</i></h4>\n",
    "<p align='justify'>Existem 2(dois) métodos mais comuns para lidar com o escalonamento: <b>Min-Max scaling</b> e o <b>Z-score normalization</b>.</p>\n",
    "\n",
    "<h4>Transformações Logarítmicas e de Poder</h4>\n",
    "<p align='justify'>A transformação logaritmo é aplicação em cada valor de <i>x</i> pelo <i>log(x)</i>. A função logarítmica é o inverso da função exponencial,e com isso é importante lembrar que o intervalo entre 0 e 1 é o limite da função. A escolha da transformação logarítmica é para tornar as características mais próximas da distribuição normal.</p>\n",
    "<p>As transformações de poder buscam preservar a ordem original. As duas principais transformações de poder são:</p>\n",
    "<li><i>Box-Cox transformation</i></li>\n",
    "<li><i>Yeo-Johnson</i></li>\n",
    "\n",
    "<h4>Imputações</h4>\n",
    "<p align='justify'>A definição de <b>imputações</b> é a substituição de valores omissos. Para isso, existem 2 (duas) técnicas importantes para imputações:</p>\n",
    "<li>Unitária - Onde os valores são substituídos por 0 ou pela média.</li>\n",
    "<li>Baseada no modelo - Onde os valores são substituídos pelas predições de um modelo de <i>Machine Learning.<i/></li>\n",
    "\n",
    "\n",
    "<h3><i>Feature Engineering</i></h3>\n",
    "<p align='justify'>Como foi falado, o objetivo do <i>feature engineering</i> é produzir novas <i>features</i> que possam nos ajudar no processo de <i>Machine Learning</i>.</p>\n",
    "\n",
    "<h4>Características relacionadas à data-hora</h4>\n",
    "<p align='justify'>Se tivermos as datas completas (dias-mês-ano) poderemos extraír as informações relativas apenas ao ano, aos meses, entre outras, e com isso contruir novas características. De igual forma, poderemos fazer com os horários, poderemos extraír as informações de durante o expediente ou fora do expediente, no período de almoço ou nos intervalos dos turnos previstos, entre outras características. Para executar essa tarefa existem algumas bibliotecas no Python para facilitar as transformações que porventura viermos a produzir nos dados originais.</p>\n"
   ],
   "metadata": {
    "collapsed": false
   }
  },
  {
   "cell_type": "markdown",
   "source": [
    "<h2>Transformações na Prática</h2>"
   ],
   "metadata": {
    "collapsed": false
   }
  },
  {
   "cell_type": "code",
   "execution_count": 183,
   "metadata": {
    "collapsed": true
   },
   "outputs": [
    {
     "data": {
      "text/plain": "<Figure size 864x360 with 1 Axes>",
      "image/png": "[encoded data removed]"
     },
     "metadata": {
      "needs_background": "light"
     },
     "output_type": "display_data"
    }
   ],
   "source": [
    "import matplotlib.pyplot as plt\n",
    "import pandas as pd\n",
    "from scipy.optimize import minimize\n",
    "import numpy as np\n",
    "np.random.seed(0)\n",
    "pts = 10000\n",
    "vals = np.random.lognormal(0, 1.0, pts)\n",
    "plt.figure(figsize=(12,5))\n",
    "plt.hist(vals, bins=20, density=True)\n",
    "plt.yscale(\"log\")\n",
    "plt.ylabel(\"frequency\")\n",
    "plt.xlabel(\"value range\")\n",
    "plt.grid(False)"
   ]
  },
  {
   "cell_type": "code",
   "execution_count": 184,
   "outputs": [
    {
     "name": "stdout",
     "output_type": "stream",
     "text": [
      "Significancia: 0.00\n",
      "Significancia: 0.00\n"
     ]
    },
    {
     "data": {
      "text/plain": "<Figure size 432x288 with 1 Axes>",
      "image/png": "[encoded data removed]"
     },
     "metadata": {
      "needs_background": "light"
     },
     "output_type": "display_data"
    }
   ],
   "source": [
    "# Aplicando a Transformação Normalização Padrão para Z-Scores\n",
    "from sklearn.preprocessing import StandardScaler, minmax_scale\n",
    "from scipy.stats import normaltest\n",
    "scaler = StandardScaler()\n",
    "vals_mm = minmax_scale(vals)\n",
    "vals_ss = scaler.fit_transform(vals.reshape(-1, 1))\n",
    "_, p = normaltest(vals_ss.squeeze())\n",
    "print(f\"Significancia: {p:.2f}\")\n",
    "\n",
    "_, p = normaltest(vals_mm.squeeze())\n",
    "print(f\"Significancia: {p:.2f}\")\n",
    "\n",
    "plt.scatter(vals, vals_ss, alpha=0.3)\n",
    "plt.ylabel(\"standard scaled\")\n",
    "plt.xlabel(\"original\")\n",
    "plt.show()"
   ],
   "metadata": {
    "collapsed": false,
    "pycharm": {
     "name": "#%%\n"
    }
   }
  },
  {
   "cell_type": "code",
   "execution_count": 185,
   "outputs": [
    {
     "name": "stdout",
     "output_type": "stream",
     "text": [
      "Significância: 0.31\n"
     ]
    },
    {
     "data": {
      "text/plain": "<Figure size 432x288 with 1 Axes>",
      "image/png": "[encoded data removed]"
     },
     "metadata": {
      "needs_background": "light"
     },
     "output_type": "display_data"
    }
   ],
   "source": [
    "# Apresentando a Transformação Logarítmica\n",
    "from statsmodels.stats.diagnostic import kstest_normal\n",
    "\n",
    "log_transformed = np.log(vals)\n",
    "_, p = kstest_normal(log_transformed)  # stats.normaltest\n",
    "print(f\"Significância: {p:.2f}\")\n",
    "np.std(log_transformed)\n",
    "np.mean(log_transformed)\n",
    "plt.hist(log_transformed, bins=20, density=True)\n",
    "#plt.yscale(\"log\")\n",
    "plt.ylabel(\"Frequência\")\n",
    "plt.xlabel(\"Intervalo de Valor\")\n",
    "plt.show()"
   ],
   "metadata": {
    "collapsed": false,
    "pycharm": {
     "name": "#%%\n"
    }
   }
  },
  {
   "cell_type": "code",
   "execution_count": 186,
   "outputs": [
    {
     "name": "stdout",
     "output_type": "stream",
     "text": [
      "Significância: 0.46\n"
     ]
    },
    {
     "data": {
      "text/plain": "<Figure size 432x288 with 1 Axes>",
      "image/png": "[encoded data removed]"
     },
     "metadata": {
      "needs_background": "light"
     },
     "output_type": "display_data"
    }
   ],
   "source": [
    "from scipy.stats import boxcox\n",
    "vals_bc = boxcox(vals, 0.0)\n",
    "_, p = normaltest(vals_bc)\n",
    "print(f\"Significância: {p:.2f}\")\n",
    "plt.hist(vals_bc, bins=20, density=True)\n",
    "plt.ylabel(\"Frequência\")\n",
    "plt.xlabel(\"Intervalo de Valor\")\n",
    "plt.show()"
   ],
   "metadata": {
    "collapsed": false,
    "pycharm": {
     "name": "#%%\n"
    }
   }
  },
  {
   "cell_type": "code",
   "execution_count": 187,
   "outputs": [
    {
     "data": {
      "text/plain": "Month                   0\nDayOfWeek               0\nFlightDate              0\nReporting_Airline       0\nOrigin                  0\nDest                    0\nCRSDepTime              0\nCRSArrTime              0\nDepTime                 0\nArrTime                 0\nArrDelay                0\nArrDelayMinutes         0\nCarrierDelay         2486\nWeatherDelay         2486\nNASDelay             2486\nSecurityDelay        2486\nLateAircraftDelay    2486\nDepDelay                0\nDepDelayMinutes         0\nDivDistance          2855\nDivArrDelay          2855\ndtype: int64"
     },
     "execution_count": 187,
     "metadata": {},
     "output_type": "execute_result"
    }
   ],
   "source": [
    "# Temos valores Faltosos\n",
    "voos  = pd.read_csv('data/lax_to_jfk.csv')\n",
    "voos.isnull().sum()"
   ],
   "metadata": {
    "collapsed": false,
    "pycharm": {
     "name": "#%%\n"
    }
   }
  },
  {
   "cell_type": "code",
   "execution_count": 188,
   "outputs": [
    {
     "data": {
      "text/plain": "array([[18.04878049,  0.99728997],\n       [18.04878049,  0.99728997],\n       [18.04878049,  0.99728997],\n       [18.04878049,  0.99728997],\n       [18.04878049,  0.99728997],\n       [18.04878049,  0.99728997],\n       [18.04878049,  0.99728997],\n       [18.04878049,  0.99728997],\n       [18.04878049,  0.99728997],\n       [18.04878049,  0.99728997]])"
     },
     "execution_count": 188,
     "metadata": {},
     "output_type": "execute_result"
    }
   ],
   "source": [
    "# Imputations\n",
    "import numpy as np\n",
    "from sklearn.impute import SimpleImputer\n",
    "imp_mean = SimpleImputer(missing_values=np.nan, strategy='mean')\n",
    "imp_mean.fit_transform(np.array(voos[['CarrierDelay', 'WeatherDelay']]))[:10]"
   ],
   "metadata": {
    "collapsed": false,
    "pycharm": {
     "name": "#%%\n"
    }
   }
  },
  {
   "cell_type": "code",
   "execution_count": 189,
   "outputs": [
    {
     "data": {
      "text/plain": "[(datetime.date(2022, 1, 1), 'New year'),\n (datetime.date(2022, 1, 25), 'Anniversary of the city of São Paulo'),\n (datetime.date(2022, 3, 1), 'Carnaval'),\n (datetime.date(2022, 4, 15), 'Sexta-feira da Paixão'),\n (datetime.date(2022, 4, 17), 'Easter Sunday'),\n (datetime.date(2022, 4, 21), \"Tiradentes' Day\"),\n (datetime.date(2022, 5, 1), 'Labour Day'),\n (datetime.date(2022, 6, 16), 'Corpus Christi'),\n (datetime.date(2022, 7, 9), 'Constitutional Revolution of 1932'),\n (datetime.date(2022, 9, 7), 'Independence Day'),\n (datetime.date(2022, 10, 12), 'Our Lady of Aparecida'),\n (datetime.date(2022, 11, 2), \"All Souls' Day\"),\n (datetime.date(2022, 11, 15), 'Republic Day'),\n (datetime.date(2022, 11, 20), 'Dia da Consciência Negra'),\n (datetime.date(2022, 12, 25), 'Christmas Day')]"
     },
     "execution_count": 189,
     "metadata": {},
     "output_type": "execute_result"
    }
   ],
   "source": [
    "from typing import List\n",
    "from dateutil.relativedelta import relativedelta, TH\n",
    "import datetime\n",
    "\n",
    "from workalendar.america.brazil import BrazilSaoPauloCity\n",
    "BrazilSaoPauloCity().holidays()"
   ],
   "metadata": {
    "collapsed": false,
    "pycharm": {
     "name": "#%%\n"
    }
   }
  },
  {
   "cell_type": "code",
   "execution_count": 190,
   "outputs": [],
   "source": [
    "def create_custom_holidays(year) -> List:\n",
    "    custom_holidays = BrazilSaoPauloCity().holidays()\n",
    "    custom_holidays.append((\n",
    "        (datetime.datetime(year, 11, 1) + relativedelta(weekday=TH(+4)) + datetime.timedelta(days=1)).date(),\n",
    "        \"Black Friday\"))\n",
    "    return {k: v for (k, v) in custom_holidays}\n",
    "\n",
    "custom_holidays = create_custom_holidays(2022)"
   ],
   "metadata": {
    "collapsed": false,
    "pycharm": {
     "name": "#%%\n"
    }
   }
  },
  {
   "cell_type": "code",
   "execution_count": 191,
   "outputs": [
    {
     "data": {
      "text/plain": "{datetime.date(2022, 1, 1): 'New year',\n datetime.date(2022, 1, 25): 'Anniversary of the city of São Paulo',\n datetime.date(2022, 3, 1): 'Carnaval',\n datetime.date(2022, 4, 15): 'Sexta-feira da Paixão',\n datetime.date(2022, 4, 17): 'Easter Sunday',\n datetime.date(2022, 4, 21): \"Tiradentes' Day\",\n datetime.date(2022, 5, 1): 'Labour Day',\n datetime.date(2022, 6, 16): 'Corpus Christi',\n datetime.date(2022, 7, 9): 'Constitutional Revolution of 1932',\n datetime.date(2022, 9, 7): 'Independence Day',\n datetime.date(2022, 10, 12): 'Our Lady of Aparecida',\n datetime.date(2022, 11, 2): \"All Souls' Day\",\n datetime.date(2022, 11, 15): 'Republic Day',\n datetime.date(2022, 11, 20): 'Dia da Consciência Negra',\n datetime.date(2022, 12, 25): 'Christmas Day',\n datetime.date(2022, 11, 25): 'Black Friday'}"
     },
     "execution_count": 191,
     "metadata": {},
     "output_type": "execute_result"
    }
   ],
   "source": [
    "custom_holidays"
   ],
   "metadata": {
    "collapsed": false,
    "pycharm": {
     "name": "#%%\n"
    }
   }
  },
  {
   "cell_type": "code",
   "execution_count": 192,
   "outputs": [
    {
     "data": {
      "text/plain": "False"
     },
     "execution_count": 192,
     "metadata": {},
     "output_type": "execute_result"
    }
   ],
   "source": [
    "def is_holiday(current_date: datetime.date):\n",
    "    \"\"\"Determina se é um Feriado\"\"\"\n",
    "    return custom_holidays.get(current_date, False)\n",
    "\n",
    "today = datetime.date(2022, 3, 13)\n",
    "is_holiday(today)"
   ],
   "metadata": {
    "collapsed": false,
    "pycharm": {
     "name": "#%%\n"
    }
   }
  },
  {
   "cell_type": "code",
   "execution_count": 193,
   "outputs": [],
   "source": [
    "# Dia de Pagamento\n",
    "# Imagine que as pessoas recebem pagamentos no  meio do mês ou no final do mês."
   ],
   "metadata": {
    "collapsed": false,
    "pycharm": {
     "name": "#%%\n"
    }
   }
  },
  {
   "cell_type": "code",
   "execution_count": 194,
   "outputs": [
    {
     "data": {
      "text/plain": "25"
     },
     "execution_count": 194,
     "metadata": {},
     "output_type": "execute_result"
    }
   ],
   "source": [
    "# Função que captura a última Sexta-Feira do Mês\n",
    "import calendar\n",
    "def get_last_friday(current_date: datetime.date, weekday=calendar.\n",
    "                    FRIDAY):\n",
    "    return max(week[weekday]\n",
    "               for week in calendar.monthcalendar(\n",
    "        current_date.year, current_date.month\n",
    "    ))\n",
    "get_last_friday(today)"
   ],
   "metadata": {
    "collapsed": false,
    "pycharm": {
     "name": "#%%\n"
    }
   }
  },
  {
   "cell_type": "code",
   "execution_count": 195,
   "outputs": [
    {
     "data": {
      "text/plain": "'Inverno'"
     },
     "execution_count": 195,
     "metadata": {},
     "output_type": "execute_result"
    }
   ],
   "source": [
    "# Estação do ano\n",
    "YEAR = 2021\n",
    "estacao = [\n",
    "    ('Inverno', (datetime.date(YEAR, 1, 1), datetime.date(YEAR, 3, 20))),\n",
    "    ('Primavera', (datetime.date(YEAR, 3, 21), datetime.date(YEAR, 6, 20))),\n",
    "    ('Verão', (datetime.date(YEAR, 6, 21), datetime.date(YEAR, 9, 22))),\n",
    "    ('Outorno', (datetime.date(YEAR, 9, 23), datetime.date(YEAR, 12, 20))),\n",
    "    ('Inverno', (datetime.date(YEAR, 12, 21), datetime.date(YEAR, 12, 31)))\n",
    "]\n",
    "def is_in_interval(current_date: datetime.date, seasons):\n",
    "    return next(season for season, (start, end) in seasons\n",
    "                if start <= current_date.replace(year=YEAR) <= end)\n",
    "\n",
    "\n",
    "is_in_interval(today, estacao)"
   ],
   "metadata": {
    "collapsed": false,
    "pycharm": {
     "name": "#%%\n"
    }
   }
  },
  {
   "cell_type": "code",
   "execution_count": 196,
   "outputs": [
    {
     "data": {
      "text/plain": "(23, 8)"
     },
     "execution_count": 196,
     "metadata": {},
     "output_type": "execute_result"
    }
   ],
   "source": [
    "# Dias úteis\n",
    "def get_dias_uteis(current_date: datetime.date):\n",
    "    last_day = calendar.monthrange(current_date.year, current_date.\n",
    "                                   month)[1]\n",
    "    rng = pd.date_range(current_date.replace(day=1), periods=last_day, freq='D')\n",
    "    dias_uteis = pd.bdate_range(rng[0], rng[-1])\n",
    "    return len(dias_uteis), last_day - len(dias_uteis)\n",
    "\n",
    "get_dias_uteis(datetime.date.today())"
   ],
   "metadata": {
    "collapsed": false,
    "pycharm": {
     "name": "#%%\n"
    }
   }
  },
  {
   "cell_type": "code",
   "execution_count": null,
   "outputs": [],
   "source": [
    "# Extrações automatizadas\n",
    "\n",
    "vendas = pd.read_csv('data/sales.csv')\n",
    "vendas = vendas.set_index('date')\n",
    "vendas['index'] = vendas.index\n",
    "import featuretools as ft\n",
    "from featuretools.primitives import Day,Month, Year, Weekday\n",
    "\n",
    "es = ft.EntitySet()\n",
    "es.add_dataframe(dataframe=vendas, dataframe_name=\"main_dataframe\")\n",
    "fm, features = ft.dfs(\n",
    "\tentityset=es,\n",
    "    target_dataframe_name='main_dataframe',\n",
    "\tmax_depth = 1,\n",
    "\ttrans_primitives=[Day, Month,Year, Weekday]\n",
    ")"
   ],
   "metadata": {
    "collapsed": false,
    "pycharm": {
     "name": "#%%\n",
     "is_executing": true
    }
   }
  },
  {
   "cell_type": "code",
   "execution_count": 198,
   "outputs": [
    {
     "data": {
      "text/plain": "                 id  store_nbr      family  sales  onpromotion DAY(index)  \\\nUnnamed: 0                                                                  \n0                 0          1  AUTOMOTIVE    0.0            0          1   \n1782           1782          1  AUTOMOTIVE    2.0            0          2   \n3564           3564          1  AUTOMOTIVE    3.0            0          3   \n5346           5346          1  AUTOMOTIVE    3.0            0          4   \n7128           7128          1  AUTOMOTIVE    5.0            0          5   \n...             ...        ...         ...    ...          ...        ...   \n2991978     2991978          1  AUTOMOTIVE    1.0            0         11   \n2993760     2993760          1  AUTOMOTIVE    6.0            0         12   \n2995542     2995542          1  AUTOMOTIVE    1.0            0         13   \n2997324     2997324          1  AUTOMOTIVE    1.0            0         14   \n2999106     2999106          1  AUTOMOTIVE    4.0            0         15   \n\n           MONTH(index) WEEKDAY(index) YEAR(index)  \nUnnamed: 0                                          \n0                     1              1        2013  \n1782                  1              2        2013  \n3564                  1              3        2013  \n5346                  1              4        2013  \n7128                  1              5        2013  \n...                 ...            ...         ...  \n2991978               8              4        2017  \n2993760               8              5        2017  \n2995542               8              6        2017  \n2997324               8              0        2017  \n2999106               8              1        2017  \n\n[1684 rows x 9 columns]",
      "text/html": "<div>\n<style scoped>\n    .dataframe tbody tr th:only-of-type {\n        vertical-align: middle;\n    }\n\n    .dataframe tbody tr th {\n        vertical-align: top;\n    }\n\n    .dataframe thead th {\n        text-align: right;\n    }\n</style>\n<table border=\"1\" class=\"dataframe\">\n  <thead>\n    <tr style=\"text-align: right;\">\n      <th></th>\n      <th>id</th>\n      <th>store_nbr</th>\n      <th>family</th>\n      <th>sales</th>\n      <th>onpromotion</th>\n      <th>DAY(index)</th>\n      <th>MONTH(index)</th>\n      <th>WEEKDAY(index)</th>\n      <th>YEAR(index)</th>\n    </tr>\n    <tr>\n      <th>Unnamed: 0</th>\n      <th></th>\n      <th></th>\n      <th></th>\n      <th></th>\n      <th></th>\n      <th></th>\n      <th></th>\n      <th></th>\n      <th></th>\n    </tr>\n  </thead>\n  <tbody>\n    <tr>\n      <th>0</th>\n      <td>0</td>\n      <td>1</td>\n      <td>AUTOMOTIVE</td>\n      <td>0.0</td>\n      <td>0</td>\n      <td>1</td>\n      <td>1</td>\n      <td>1</td>\n      <td>2013</td>\n    </tr>\n    <tr>\n      <th>1782</th>\n      <td>1782</td>\n      <td>1</td>\n      <td>AUTOMOTIVE</td>\n      <td>2.0</td>\n      <td>0</td>\n      <td>2</td>\n      <td>1</td>\n      <td>2</td>\n      <td>2013</td>\n    </tr>\n    <tr>\n      <th>3564</th>\n      <td>3564</td>\n      <td>1</td>\n      <td>AUTOMOTIVE</td>\n      <td>3.0</td>\n      <td>0</td>\n      <td>3</td>\n      <td>1</td>\n      <td>3</td>\n      <td>2013</td>\n    </tr>\n    <tr>\n      <th>5346</th>\n      <td>5346</td>\n      <td>1</td>\n      <td>AUTOMOTIVE</td>\n      <td>3.0</td>\n      <td>0</td>\n      <td>4</td>\n      <td>1</td>\n      <td>4</td>\n      <td>2013</td>\n    </tr>\n    <tr>\n      <th>7128</th>\n      <td>7128</td>\n      <td>1</td>\n      <td>AUTOMOTIVE</td>\n      <td>5.0</td>\n      <td>0</td>\n      <td>5</td>\n      <td>1</td>\n      <td>5</td>\n      <td>2013</td>\n    </tr>\n    <tr>\n      <th>...</th>\n      <td>...</td>\n      <td>...</td>\n      <td>...</td>\n      <td>...</td>\n      <td>...</td>\n      <td>...</td>\n      <td>...</td>\n      <td>...</td>\n      <td>...</td>\n    </tr>\n    <tr>\n      <th>2991978</th>\n      <td>2991978</td>\n      <td>1</td>\n      <td>AUTOMOTIVE</td>\n      <td>1.0</td>\n      <td>0</td>\n      <td>11</td>\n      <td>8</td>\n      <td>4</td>\n      <td>2017</td>\n    </tr>\n    <tr>\n      <th>2993760</th>\n      <td>2993760</td>\n      <td>1</td>\n      <td>AUTOMOTIVE</td>\n      <td>6.0</td>\n      <td>0</td>\n      <td>12</td>\n      <td>8</td>\n      <td>5</td>\n      <td>2017</td>\n    </tr>\n    <tr>\n      <th>2995542</th>\n      <td>2995542</td>\n      <td>1</td>\n      <td>AUTOMOTIVE</td>\n      <td>1.0</td>\n      <td>0</td>\n      <td>13</td>\n      <td>8</td>\n      <td>6</td>\n      <td>2017</td>\n    </tr>\n    <tr>\n      <th>2997324</th>\n      <td>2997324</td>\n      <td>1</td>\n      <td>AUTOMOTIVE</td>\n      <td>1.0</td>\n      <td>0</td>\n      <td>14</td>\n      <td>8</td>\n      <td>0</td>\n      <td>2017</td>\n    </tr>\n    <tr>\n      <th>2999106</th>\n      <td>2999106</td>\n      <td>1</td>\n      <td>AUTOMOTIVE</td>\n      <td>4.0</td>\n      <td>0</td>\n      <td>15</td>\n      <td>8</td>\n      <td>1</td>\n      <td>2017</td>\n    </tr>\n  </tbody>\n</table>\n<p>1684 rows × 9 columns</p>\n</div>"
     },
     "execution_count": 198,
     "metadata": {},
     "output_type": "execute_result"
    }
   ],
   "source": [
    "# Outro dataset com novas features (DAY, MONTH, WEEKDAY e YEAR)\n",
    "fm"
   ],
   "metadata": {
    "collapsed": false,
    "pycharm": {
     "name": "#%%\n"
    }
   }
  }
 ],
 "metadata": {
  "kernelspec": {
   "display_name": "Python 3",
   "language": "python",
   "name": "python3"
  },
  "language_info": {
   "codemirror_mode": {
    "name": "ipython",
    "version": 2
   },
   "file_extension": ".py",
   "mimetype": "text/x-python",
   "name": "python",
   "nbconvert_exporter": "python",
   "pygments_lexer": "ipython2",
   "version": "2.7.6"
  }
 },
 "nbformat": 4,
 "nbformat_minor": 0
}