{
 "cells": [
  {
   "cell_type": "markdown",
   "source": [
    "<h1 align=\"center\"><i>Machine Learning</i> para Séries Temporais</h1>\n",
    "<p align='center'><img src=https://www.analyticssteps.com/backend/media/thumbnail/6350483/7807104_1578230927_time_analysis_tittle-banner%20(1).jpg width=\"650\" height=\"300\"></p>\n",
    "\n",
    "<p align=\"justify\">O <i>Machine Learning</i> pode ser empregado nas Séries Temporais para explicar problemas de classificação, regressão, segmentação, detecção de anomalias e predição.</p>\n",
    "\n",
    "<h2>Machine Learning com as Séries Temporais</h2>\n",
    "<p align=\"justify\">Existem inúmeras abordagens para as aplicações de algoritmos de <i>Machine Learning</i> para as Séries Temporais envolvendo o campo da economia, medicina, meteorologia, demografia, ciências sociais, marketing digital, entre outras.</p>\n",
    "\n",
    "<p align='justify'>De maneira sumária, os principais problemas podem ser resumidos da seguinte forma:</p>\n",
    "<li align=\"justify\"><b>Curve Fitting</b>: ou Ajuste da Curva é uma tarefa que visa encontrar uma função (curva) para uma série de pontos. Esta função matemática é definida por parâmetros,e os parâmetros são adaptados são adaptadors para ajustar a Série Temporal por intermédio da Otimização. O ajusto desta curva pode ser utilizada em aplicações que envolvam o auxílio visual em Gráficos ou para realizar inferências (extrapolação).</li>\n",
    "\n",
    "<li align=\"justify\"><b>Regressão</b>: é, em suma, uma abordagem estatística para encontrar as relações entre variáveis independentes (features) e as variáveis independentes (targets).</li>\n",
    "\n",
    "<li align=\"justify\"><b>Classificação</b>: é quando o problema envolve assinalar um rótulo para a Série Temporal. A principal diferença para a Regressão é que a predição é uma variável categórica e na regressão é uma variável contínua.</li>\n",
    "\n",
    "<li align=\"justify\"><b>Segmentação ou Clusterização</b>: é o processo de agrupar partes da Série Temporal em <i>clusters</i>(ou segmentos) de diferentes regimes, comportamentos, entre outros.</li>\n",
    "\n",
    "<li align=\"justify\"><b>Detecção de Anomalias</b>: é a tarefa de conhecida como detecção de <i>outlier</i> que são eventos raros ou que se apresentam como fora da normalidade. Em alguns casos, esses eventos são chamados de ruídos, mudanças de regimes, entre outros.</li>\n",
    "\n",
    "<li align=\"justify\"><b>Predição</b>: nada mais é que olhar para o futuro. As previsões são baseadas somente nos valores da Série Temporal ou em outras variáveis. Cabe ressaltar que o contrário de Predição é Retrocesso. Neste processo, com base nos dados da série temporal, pode retroceder no tempo antes dos dados estarem disponíveis.</li>\n",
    "<li align=\"justify\"><b>Aprendizagem por Reforço</b>: é baseado na maximização das recompensas esperadas de uma Série Temporal. Uma característica do Aprendizado por Reforço nas Séries Temporais é que ele é empregado em um ambiente altamente instavel (com alta variação) ou, geralmente, com poucos dados informados.</li>\n",
    "\n"
   ],
   "metadata": {
    "collapsed": false
   }
  },
  {
   "cell_type": "markdown",
   "source": [
    "<h2>Categorias de Machine Learning</h2>\n",
    "<p align='justify'>Atualmente, existem 3 (três) categorias, conforme a seguir:</p>\n",
    "<li align='justify'><b>Supervisionado:</b> As váriáveis são mapeadas na saída em um processo conhecido por predição ou inferência. Neste processo, os parâmetros são estimados em relação aos rótulos. Neste contexto, é primordial que tenhamos uma variável <i>target</i> para que possamos avaliar cada observação. Não podemos esquecer que as variáveis de saída podem ser únicas ou multiplas.</li>\n",
    "<li align='justify'><b>Não Supervisionado:</b> a tarefa apresentada ao algoritmo está em categorizar as observações baseadas nas suas características.</li>\n",
    "<li align='justify'><b>Apredizado por Reforço:</b> um agente interage com o ambiente através das ações e recebe o retorno na forma de recompensas.</li>"
   ],
   "metadata": {
    "collapsed": false
   }
  },
  {
   "cell_type": "markdown",
   "source": [
    "<h2>O fluxo das atividades do <i>Machine Learning</i></h2>\n",
    "<p align='justify'>No <i>Machine Learning</i>, nós lidamos com dados numéricos em formato tabular (Tabela, matriz, entre outros) de tamanho N xM. Cada linha representa uma observação e cada coluna representa uma característica (<i>feature</i>).\n",
    "<p align='justify'> O interessante é que, nos problemas que envolvem Séries Temporais, a coluna relacionada ao Tempo/Data/Período não necessáriamente serve como uma característica, mas como um índice para segmentar ou ordenar os dados. As colunas relacionadas às datas ou tempos pode ser transformadas em outras características para serem utilizadas no <i>Machine Learning</i> após serem pré-processadas.</p>\n",
    "<p align='justify'>De maneira geral, nós seguimos o seguinte fluxo de transformações no <i>Machine Learning</i>:</p>\n",
    "<p align='center'><img src=https://i.imgur.com/33zhCJj.png><p/>\n",
    "<p align='center'><b>Fonte: </b><i>https://gabrielschade.github.io/2018/01/17/azure-machine-learning-2.html</i><p/>"
   ],
   "metadata": {
    "collapsed": false
   }
  },
  {
   "cell_type": "markdown",
   "source": [
    "<h2>Validação Cruzada (Cross Validation)</h2>\n",
    "<blockquote><i>Todos os modelos estão errados, mas alguns são úteis. (George Box)</i></blockquote>\n",
    "<p align=\"justify\">Os modelos tomam decisões repetidas, dados os parâmetros corretos, e estas decisões podem estar livres de vieses congnitivosque influênciam a tomada de decisão do homem. O ponto é ter certeza que o modelo desenvolvido é útil pela validação de sua performace. Para isso, nós testamos o modelo com dados que não foram utilizados no treinamento. Isto é chamado <b>Validação Cruzada (Cross-Validation)</b>.</p>\n",
    "<p align='center'> <img src=https://d1m75rqqgidzqn.cloudfront.net/wp-data/2020/07/15185319/blogs-15-7-2020-02-1024x565.jpg></p>\n",
    "<p align='center'><b>Fonte: </b><i>https://www.analyticsvidhya.com/blog/2021/05/importance-of-cross-validation-are-evaluation-metrics-enough/</i><p/>\n",
    "<p align='justify'>Em regra, no <i>Machine Learning</i> nós deveríamos embaralhar os dados randomicamente antes de dividí-los em Conjunto de Treinamento e Conjunto de Teste. Porém, nas Séries Temporais nós iremos utilizar os dados mais antigos no conjunto de treinamento e os dados mais novos para o conjunto de teste. Por exemplo, se tivéssemos uma série temporal com dados referentes ao período de 1 ano (janeiro a dezembro), nós iríamos treinar o modelo com os meses de janeiro a setembro (9 meses) e testaríamos nos meses de outubro a dezembro (3 meses).</p>\n",
    "\n",
    "<p align=\"justify\">Enquanto a <b>função de perda</b> é parte da otimização para treinar o modelo, a <b>métrica</b> é utilizada para avaliar o modelo. É bom começar um projeto com uma avaliação de como medir a performance. A escolha de boas medidas de performance ajudam a solucionar os problemas de negócio. Neste contexto, alguns algoritmos são bastante flexíveis na escolha de funções, outros não. Mas nós podemos medir a perfomance com métricas diferentes.</p>\n"
   ],
   "metadata": {
    "collapsed": false
   }
  },
  {
   "cell_type": "markdown",
   "source": [
    "<h2>Métricas de Erro para Séries Temporais</h2>"
   ],
   "metadata": {
    "collapsed": false
   }
  },
  {
   "cell_type": "code",
   "execution_count": null,
   "metadata": {
    "collapsed": true
   },
   "outputs": [],
   "source": []
  }
 ],
 "metadata": {
  "kernelspec": {
   "display_name": "Python 3",
   "language": "python",
   "name": "python3"
  },
  "language_info": {
   "codemirror_mode": {
    "name": "ipython",
    "version": 2
   },
   "file_extension": ".py",
   "mimetype": "text/x-python",
   "name": "python",
   "nbconvert_exporter": "python",
   "pygments_lexer": "ipython2",
   "version": "2.7.6"
  }
 },
 "nbformat": 4,
 "nbformat_minor": 0
}