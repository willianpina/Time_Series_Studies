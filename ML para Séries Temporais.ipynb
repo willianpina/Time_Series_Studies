{
 "cells": [
  {
   "cell_type": "markdown",
   "source": [
    "<h1 align=\"center\"><i>Machine Learning</i> para Séries Temporais</h1>\n",
    "<p align='center'><img src=https://www.analyticssteps.com/backend/media/thumbnail/6350483/7807104_1578230927_time_analysis_tittle-banner%20(1).jpg width=\"650\" height=\"300\"></p>\n",
    "\n",
    "<p align=\"justify\">O <i>Machine Learning</i> pode ser empregado nas Séries Temporais para explicar problemas de classificação, regressão, segmentação, detecção de anomalias e predição.</p>\n",
    "\n",
    "<h2>Machine Learning com as Séries Temporais</h2>\n",
    "<p align=\"justify\">Existem inúmeras abordagens para as aplicações de algoritmos de <i>Machine Learning</i> para as Séries Temporais envolvendo o campo da economia, medicina, meteorologia, demografia, ciências sociais, marketing digital, entre outras.</p>\n",
    "\n",
    "<p align='justify'>De maneira sumária, os principais problemas podem ser resumidos da seguinte forma:</p>\n",
    "<li align=\"justify\"><b>Curve Fitting</b>: ou Ajuste da Curva é uma tarefa que visa encontrar uma função (curva) para uma série de pontos. Esta função matemática é definida por parâmetros,e os parâmetros são adaptados são adaptadors para ajustar a Série Temporal por intermédio da Otimização. O ajusto desta curva pode ser utilizada em aplicações que envolvam o auxílio visual em Gráficos ou para realizar inferências (extrapolação).</li>\n",
    "\n",
    "<li align=\"justify\"><b>Regressão</b>: é, em suma, uma abordagem estatística para encontrar as relações entre variáveis independentes (features) e as variáveis independentes (targets).</li>\n",
    "\n",
    "<li align=\"justify\"><b>Classificação</b>: é quando o problema envolve assinalar um rótulo para a Série Temporal. A principal diferença para a Regressão é que a predição é uma variável categórica e na regressão é uma variável contínua.</li>\n",
    "\n",
    "<li align=\"justify\"><b>Segmentação ou Clusterização</b>: é o processo de agrupar partes da Série Temporal em <i>clusters</i>(ou segmentos) de diferentes regimes, comportamentos, entre outros.</li>\n",
    "\n",
    "<li align=\"justify\"><b>Detecção de Anomalias</b>: é a tarefa de conhecida como detecção de <i>outlier</i> que são eventos raros ou que se apresentam como fora da normalidade. Em alguns casos, esses eventos são chamados de ruídos, mudanças de regimes, entre outros.</li>\n",
    "\n",
    "<li align=\"justify\"><b>Predição</b>: nada mais é que olhar para o futuro. As previsões são baseadas somente nos valores da Série Temporal ou em outras variáveis. Cabe ressaltar que o contrário de Predição é Retrocesso. Neste processo, com base nos dados da série temporal, pode retroceder no tempo antes dos dados estarem disponíveis.</li>\n",
    "<li align=\"justify\"><b>Aprendizagem por Reforço</b>: é baseado na maximização das recompensas esperadas de uma Série Temporal. Uma característica do Aprendizado por Reforço nas Séries Temporais é que ele é empregado em um ambiente altamente instavel (com alta variação) ou, geralmente, com poucos dados informados.</li>\n",
    "\n"
   ],
   "metadata": {
    "collapsed": false
   }
  },
  {
   "cell_type": "markdown",
   "source": [
    "<h2>Categorias de Machine Learning</h2>\n",
    "<p align='justify'>Atualmente, existem 3 (três) categorias, conforme a seguir:</p>\n",
    "<li align='justify'><b>Supervisionado:</b> As váriáveis são mapeadas na saída em um processo conhecido por predição ou inferência. Neste processo, os parâmetros são estimados em relação aos rótulos. Neste contexto, é primordial que tenhamos uma variável <i>target</i> para que possamos avaliar cada observação. Não podemos esquecer que as variáveis de saída podem ser únicas ou multiplas.</li>\n",
    "<li align='justify'><b>Não Supervisionado:</b> a tarefa apresentada ao algoritmo está em categorizar as observações baseadas nas suas características.</li>\n",
    "<li align='justify'><b>Apredizado por Reforço:</b> um agente interage com o ambiente através das ações e recebe o retorno na forma de recompensas.</li>"
   ],
   "metadata": {
    "collapsed": false
   }
  },
  {
   "cell_type": "markdown",
   "source": [
    "<h2>O fluxo das atividades do <i>Machine Learning</i></h2>\n",
    "<p align='justify'>No <i>Machine Learning</i>, nós lidamos com dados numéricos em formato tabular (Tabela, matriz, entre outros) de tamanho N xM. Cada linha representa uma observação e cada coluna representa uma característica (<i>feature</i>).\n",
    "<p align='justify'> O interessante é que, nos problemas que envolvem Séries Temporais, a coluna relacionada ao Tempo/Data/Período não necessáriamente serve como uma característica, mas como um índice para segmentar ou ordenar os dados. As colunas relacionadas às datas ou tempos pode ser transformadas em outras características para serem utilizadas no <i>Machine Learning</i> após serem pré-processadas.</p>\n",
    "<p align='justify'>De maneira geral, nós seguimos o seguinte fluxo de transformações no <i>Machine Learning</i>:</p>\n",
    "<p align='center'><img src=https://i.imgur.com/33zhCJj.png><p/>\n",
    "<p align='center'><b>Fonte: </b><i>https://gabrielschade.github.io/2018/01/17/azure-machine-learning-2.html</i><p/>"
   ],
   "metadata": {
    "collapsed": false
   }
  },
  {
   "cell_type": "markdown",
   "source": [
    "<h2>Validação Cruzada (Cross Validation)</h2>\n",
    "<blockquote><i>Todos os modelos estão errados, mas alguns são úteis. (George Box)</i></blockquote>\n",
    "<p align=\"justify\">Os modelos tomam decisões repetidas, dados os parâmetros corretos, e estas decisões podem estar livres de vieses congnitivosque influênciam a tomada de decisão do homem. O ponto é ter certeza que o modelo desenvolvido é útil pela validação de sua performace. Para isso, nós testamos o modelo com dados que não foram utilizados no treinamento. Isto é chamado <b>Validação Cruzada (Cross-Validation)</b>.</p>\n",
    "<p align='center'> <img src=https://d1m75rqqgidzqn.cloudfront.net/wp-data/2020/07/15185319/blogs-15-7-2020-02-1024x565.jpg></p>\n",
    "<p align='center'><b>Fonte: </b><i>https://www.analyticsvidhya.com/blog/2021/05/importance-of-cross-validation-are-evaluation-metrics-enough/</i><p/>\n",
    "<p align='justify'>Em regra, no <i>Machine Learning</i> nós deveríamos embaralhar os dados randomicamente antes de dividí-los em Conjunto de Treinamento e Conjunto de Teste. Porém, nas Séries Temporais nós iremos utilizar os dados mais antigos no conjunto de treinamento e os dados mais novos para o conjunto de teste. Por exemplo, se tivéssemos uma série temporal com dados referentes ao período de 1 ano (janeiro a dezembro), nós iríamos treinar o modelo com os meses de janeiro a setembro (9 meses) e testaríamos nos meses de outubro a dezembro (3 meses).</p>\n",
    "\n",
    "<p align=\"justify\">Enquanto a <b>função de perda</b> é parte da otimização para treinar o modelo, a <b>métrica</b> é utilizada para avaliar o modelo. É bom começar um projeto com uma avaliação de como medir a performance. A escolha de boas medidas de performance ajudam a solucionar os problemas de negócio. Neste contexto, alguns algoritmos são bastante flexíveis na escolha de funções, outros não. Mas nós podemos medir a perfomance com métricas diferentes.</p>\n"
   ],
   "metadata": {
    "collapsed": false
   }
  },
  {
   "cell_type": "markdown",
   "source": [
    "<h2>Métricas de Erro para Séries Temporais</h2>\n",
    "<p align='justify'>Os dados de uma Série Temporal é definida por um conjunto de pontos de dados que contém detalhes sobre diferentes pontos no espaço-tempo. Geralmente, os dados de uma Série Temporal contém dados observados ou amostrados em um intervalo igual de tempo. Para esse conjunto de dados devemos escolher uma métrica favorável a capturar a performance que nós queremos alcançar.</p>\n",
    "<p align='justify'>Normalmente, nós começamos com modelos mais simples (<i>Baseline)</i> e, então, vamos aperfeiçoando de acordo com as nossas métricas. Em se tratando de metricas de erro, quanto menor for valor, melhor a predição.Não existe uma única métrica para qualquer aplicação arbitrária ou conjunto de dados. Dependendo do Conjunto de dados, talvez será necessário pesquisar ou tentar diferentes métricas e avaliar qual melhor se adequa ao objetivo. Em alguns casos, pode-se até definir sua própria métrica.</p)\n",
    "\n",
    "<h3> Regressão</h3>\n",
    "<p align='justify'>No treinamento, o modelo de Regressão apresenta um resultado que pode ser utilizado para comparar o valor de  saída com os valores do conjunto de treinamento. Na validação, podemos utilizar a mesma medida para calcular o quão bom foi as previsões em relação ao conjunto de testes. A métrica de erro vai calcular a diferença entre os valores preditos bela o modelo e os valores atuais. Na prática, as métricas mais populares são o <b>Erro Quadrático Médio (MSE), o Erro Absoluto Médio (MAE) e o Erro de Raíz Quadrático Médio (RMSE)</b>.</p>\n",
    "\n",
    "<li align='justify'>Erro Quadrático Médio (MSE): calcula-se o resíduo de cada ponto, elevamos ao quadrado para que erros positivos e negativos não se anulem, e então calculamos a média desses erros quadrados. Um MSE de 0 indica uma perfeita performance.</li>\n",
    "<li align='justify'>Erro Absoluto Médio (MAE): parecido com o MSE, só que em vez de calcular o valor quadrado dos resíduos, nós tomamos os valores absolutos. Em termos de <i>outliers</i>, o MSE pune valores que se apresentam como extremos, enquanto o MAE é mais tolerante.</li>\n",
    "<li align='justify'>Erro de Raíz Quadrático Médio (RMSE): é uma versão escalada do MSE.</li>\n"
   ],
   "metadata": {
    "collapsed": false
   }
  },
  {
   "cell_type": "markdown",
   "source": [
    "<h2>Classificação</h2>\n",
    "<p align=\"justify\">Muitas métricas são específicas para classificações mais binárias (duas classes), embora alguns deles possam ser estendidos para o caso de Classificação Multi-Classe, onde o número de classes é maior que duas. Na classificação binária podemos contrastar as predições contra os valores reais em uma <b>Matriz de Confusão</b>, onde as predições e os valores atuais são tabulados em uma tabela:</p>\n",
    "<p align='center'> <img src=https://miro.medium.com/max/673/0*2P6umVUPINLuRiQY.png></p>\n",
    "<p align='center'><b>Fonte:</b><i> https://miro.medium.com/max/673/0*2P6umVUPINLuRiQY.png</i></p>\n",
    "<p align='justify'>Além da Matriz de Confusão, podemos calcular as métricas referentes a <i>Precision</i>, a <i>Recall</i> e a integração de ambas por intermédio da <i>F1 Score</i>.</p>\n",
    "<p align ='center'><img src=https://ichi.pro/assets/images/max/724/1*7J08ekAwupLBegeUI8muHA.png></p>\n",
    "<p align ='center'><img src=https://ichi.pro/assets/images/max/724/1*nbp0NvIPFXQusupY_wHmfw.png></p>\n",
    "<p align ='justify'>Outra métrica muito útil é a Curva do Operador-Receptor (ROC), que plota a taxa de verdadeiros positivos (TPR) contra a taxa de falsos positivos (FPR). A taxa de falsos positivos é também chamada de taxa de falsos alarmes.</p>\n",
    "<p align ='center'><img src=https://upload.wikimedia.org/wikipedia/commons/thumb/3/3d/Curva_ROC.svg/330px-Curva_ROC.svg.png></p>\n",
    "<p align ='justify'>Outra métrica menos comum é o Índice de Correlação, apresentada por Karl Pearson como medida de associação categórica-contínua.</p>"
   ],
   "metadata": {
    "collapsed": false
   }
  },
  {
   "cell_type": "markdown",
   "source": [
    "<h2>Comparando Séries Temporais</h2>\n",
    "<p align='justify'>Invariavelmente, as medidas de similitaridade têm suas aplicações nas Séries Temporais na indexação para recuperar uma pesquisa, no agrupamento, na previsão, regressão e classificação. Porém, se houver duas sequências temporais semelhantes, como medir essa semalhança. A forma mais simples seria utilizar a Correação de Pearson, entretando outras medidas são mais informativas.</p>\n",
    "<p align='justify'>A distância Euclidiana, de forma genérica, é aplicada em qualquer par de vetores, incluindo as Séries Temporais. Ela pode ser útil, se calcularmos a distância euclidiana sobre a série temporais que foi transformada pelo Coeficiente Fast Fourier para um domínio de frequência.\n",
    "<p align='justify'>O Dynamic Time Warping (DTW) é um dos algoritmos para medir a similiaridade entre duas sequências temporais, que podem variar em velocidade.</p>\n",
    "<p align='justify'>A Causalidade de Granger determina se uma série temporal pode prever a outra, e ela se baseia em 2 (dois) princípios:</p>\n",
    "<li align='justify'>A causa deve preceder o efeito.</li>\n",
    "<li align='justify'>A causa tem um único efeito sobre o resultado.</li>\n"
   ],
   "metadata": {
    "collapsed": false
   }
  },
  {
   "cell_type": "markdown",
   "source": [
    "<h2>Abordagens baseadas em distâncias</h2>\n",
    "<p align='justify'>Muitos algoritmos se utilizam das distâncias entre os pontos para mensurar suas inferências. Citamos como exemplo o <i>KNN (K-NEAREST-NEIGHBOR)</i> que captura as amostras de treinamento e, por ocasião da inferência, a predição toma por base os k-vizinhos mais próximo, com base na distância entre as amostras. Outra medida para as Séries Temporais é a Dynamic Time Warping (DTW) e Distância Euclidiana que se utilizam das medidas de distância.</p>\n",
    "<p align='justify'>Outra abordagem técnica bastante utilizada é tentar extrair as <i>features</i> das Séries Temporais e armazená-las para depois utilizá-las nos algorítimos KNN.</p>"
   ],
   "metadata": {
    "collapsed": false,
    "pycharm": {
     "name": "#%% md\n"
    }
   }
  }
 ],
 "metadata": {
  "kernelspec": {
   "display_name": "Python 3",
   "language": "python",
   "name": "python3"
  },
  "language_info": {
   "codemirror_mode": {
    "name": "ipython",
    "version": 2
   },
   "file_extension": ".py",
   "mimetype": "text/x-python",
   "name": "python",
   "nbconvert_exporter": "python",
   "pygments_lexer": "ipython2",
   "version": "2.7.6"
  }
 },
 "nbformat": 4,
 "nbformat_minor": 0
}