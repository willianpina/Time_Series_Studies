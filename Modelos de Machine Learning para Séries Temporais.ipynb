{
 "cells": [
  {
   "cell_type": "markdown",
   "metadata": {
    "collapsed": true,
    "pycharm": {
     "name": "#%% md\n"
    }
   },
   "source": [
    "<h1 align=\"center\">Modelos de Machine Learning para Séries Temporais</h1>\n",
    "<p align=\"center\"><img src=https://ichi.pro/assets/images/max/724/0*k2bCMOixbQLU0UDA length=300, width=450></p>"
   ]
  },
  {
   "cell_type": "markdown",
   "source": [
    "<p align=\"justify\">Neste tópico, passaremos pelos métodos utilizados como linha de base <i>Baseline</i> ou que se destaca pelo desempenho ou facilidade de uso ou aplicabilidade. Os algoritmos que veremos são considerados pelo seu alto desempenho em termos de previsão.</p>"
   ],
   "metadata": {
    "collapsed": false
   }
  },
  {
   "cell_type": "markdown",
   "source": [
    "<h2>Métodos e Bibliotecas de Machine Learning para Séries Temporais</h2>\n",
    "<p align =\"justify\">Ao longo dos estudos, foram apresentadas os seguintes algoritmos: SilverKite, gradient boosting e K-nearst neighbors. Recentemente, a biblioteca Kats do Facebook e a Greykite ganharam destaque por conta da sua performance e desempenho nas tarefas de predição. Porém, a TSFresh e a SkTime constam como 1º e 2º lugar, respectivamente, dentre todas as bibliotecas lançadas até o momento. Uma questão importante a ser considerada é a Validação, que veremos em seguida.</p>"
   ],
   "metadata": {
    "collapsed": false
   }
  },
  {
   "cell_type": "markdown",
   "source": [
    "<h2>Validação</h2>"
   ],
   "metadata": {
    "collapsed": false
   }
  }
 ],
 "metadata": {
  "kernelspec": {
   "display_name": "Python 3",
   "language": "python",
   "name": "python3"
  },
  "language_info": {
   "codemirror_mode": {
    "name": "ipython",
    "version": 2
   },
   "file_extension": ".py",
   "mimetype": "text/x-python",
   "name": "python",
   "nbconvert_exporter": "python",
   "pygments_lexer": "ipython2",
   "version": "2.7.6"
  }
 },
 "nbformat": 4,
 "nbformat_minor": 0
}