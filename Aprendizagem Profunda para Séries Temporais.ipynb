{
 "cells": [
  {
   "cell_type": "markdown",
   "metadata": {},
   "source": [
    "<h1 align='center'>Aprendizagem Profunda para Séries Temporais</h1>\n",
    "<p align=\"center\"><img src= https://media-exp1.licdn.com/dms/image/C4E12AQFdokK0C2s_Jg/article-cover_image-shrink_720_1280/0/1532552837990?e=1652918400&v=beta&t=mXqTtqQOuLvkZMioNLU8kkxXRcm4ogDbF6PAWJVKHE0 heigth=350 width=600></p>\n",
    "\n",
    "<p align=\"justify\">O aprendizado profundo é um subcampo do aprendizado de máquina preocupado com algoritmos relacionados às redes neurais. Redes neurais, ou, mais precisamente, redes neurais artificiais(RNAs) receberam esse nome por causa da associação com os neurônios biológicos em formato de redes no cérebro humano.</p>\n",
    "<p align='justify'>Nos últimos anos, o aprendizado profundo vem aprimorando o estado da arte em muitos campos de aplicação. Isso vale para conjuntos de dados não estruturados, como texto, imagens, vídeo e áudio. No entanto, os conjuntos de dados tabulares e séries temporais até agora se mostraram menos passíveis de aprendizado profundo.</p>\n",
    "\n",
    "<p align=\"justify\">Entre as contribuições que o aprendizado profundo foi capaz de trazer para séries temporais estão o <i>Data Augmentation</i> (Aumento de Dados), o <i>Transfer Learning</i> (Aprendizado por Transferência), as previsões de séries temporais de sequência longa e Geração de dados com Redes Adversariais Generativas (GANs). No entanto, é muito recente que as abordagens de aprendizagem profunda tornaram-se competitivas em relação às tarefas de previsão, classificação e regressão.</p>\n",
    "\n",
    "<p align=\"justify\">Nos últimos anos, houve uma proliferação de redes neurais profundas, com melhorias em vários domínios de aplicação, em particular, as imagens, o processamento de linguagem e som. A vantagem potencial dos modelos de aprendizado profundo é que eles podem ser muito mais precisos do que outros tipos de modelos, dominando as áreas como visão, som e Processamento de Linguagem Natural (PNL).</p>\n",
    "\n",
    "<p align=\"justify\">Muitos algoritmos de aprendizado profundo foram aplicados mais recentemente para as séries temporais, tanto com as séries temporais univariadas e como as multivariadas. As arquiteturas de modelo abrangem redes neurais recorrentes (RNNs), as <i>Long short-term Memory</i> (LTSM) e os modelos transformador (<i>Transformer</i>) e convolucional, ou diferentes tipos de codificadores automáticos.</p>\n",
    "\n",
    "<p align=\"justify\">É dificil superar as abordagens de linha de base, como o Vizinho Mais Próximo com <i>Dynamic Time Warping</i> (DTW) e, em seguida,abordagens de última geração. O modelo mais competitivo, em termos de desempenho, é o HIVE-COTE (Coletivo de Votos Hierárquicos de Ensembles Baseados em Transformação), que consiste em um conjunto de modelos de aprendizado de máquina  – muito caros em termos de recursos, devido ao número de cálculos e o longo tempo de execução.</p>\n",
    "\n",
    "<p align=\"justify\">Existem alguns modelos que são extremamente bons para Aprendizado Profundo nas Séries Temporais:</p>\n",
    "<li><a href=https://github.com/hfawaz/dl-4-tsc>dl-4-ts</a> pertencente às bibliotecas do TensorFlow e Keras.</li>\n",
    "<li><a href=https://www.sktime.org/en/stable/>Sktime-DL</a> pertencente às bibliotecas do TensorFlow e Keras.</li>\n",
    "<li><a href=https://ts.gluon.ai/>Gluon-TS</a> pertencente à biblioteca do MXNET.</li>\n",
    "<li><a href=https://pytorch-forecasting.readthedocs.io/en/stable/>Pytorch Forecasting</a> pertencente à biblioteca do Pytorch Lightning.</li>"
   ]
  },
  {
   "cell_type": "markdown",
   "metadata": {},
   "source": [
    "<h2>Autoencoders</h2>\n",
    "<p align=\"justify\">Autoencoders (AEs) são redes neurais artificiais que aprendem a comprimir eficientemente e codificar dados e são treinadas em erros de reconstrução. Uma AE linear básica é, essencialmente, equivalente a uma Análise de ComponenteS Principais (PCA), embora, na prática, as AEs sejam frequentemente regularizadas.<p>\n",
    "<p align = \"center\"><img src=https://www.deeplearningbook.com.br/wp-content/uploads/2019/11/mushroom_encoder.png></p>\n",
    "<p align='center'>Fonte: <i>https://www.deeplearningbook.com.br</i></p>\n",
    "<p align='justify'>Os codificadores e descodificadores são os mesmo nesta arquitetura, o que depende do domínio. Por exemplo, em relação às imagens, elas contêm convoluções como a <i>LeNet</i>. Para modelar a dependência do tempo, podemos incluir convoluções causais ou camadas recorrentes, como forma de modelar a dependência do tempo. As redes AEs são uma forma natural de reduzir os ruídos existentes, e são utilizadas para a detectar anomalias em séries temporais.</p>\n",
    "\n"
   ]
  },
  {
   "cell_type": "markdown",
   "metadata": {},
   "source": [
    "<h2>InceptionTime</h2>\n",
    "<p align='justify'>A arquitectura Inception consiste em camadas de alimentação e convolutivas, semelhantes à <i>LeNet</i>. Uma variante de 22 (vinte e duas)camadas foi chamada <i>GoogleLetNet</i> (em alternativa: Inception - Modelo Versão 1). De forma bem básica, o modelo de início consiste em módulos (\"módulos de início\") que concatenam convoluções de diferentes tamanhos juntos.</p>"
   ]
  },
  {
   "cell_type": "markdown",
   "metadata": {},
   "source": [
    "<h2>DeepAR</h2>\n",
    "<p align='justify'>DeepAR foi concebido para a previsão da demanda e consiste numa arquitectura RNN que incorpora uma probabilidade binomial negativa para os dados de contagem sem limites que podem estendem-se por várias ordens de grandeza. A amostragem de Monte Carlo é utilizada para calcular estimativas de quantis para todos os sub-ranges no horizonte de previsão. Para o caso em que as magnitudes da série temporal variam muito, foi introduzida uma escala de parâmetros de média e variância da probabilidade binomial negativa por fatores que dependem da média da série temporal e da saída da rede.</p>"
   ]
  },
  {
   "cell_type": "markdown",
   "metadata": {},
   "source": [
    "<h2>N-BEATS</h2>\n",
    "<p align='justify'>É uma arquitetura de modelo para previsão univariada de pontos de uma série temporal com base em ligações residuais para trás e para a frente e uma rede multicamadas muito profunda de neurónios <i>ReLU</i> ligados. A rede N-BEATS utiliza aprendizagem profunda primitiva, tais como resíduos\n",
    "blocos, em vez de quaisquer componentes específicos da série temporal, além disso, é a primeira arquitetura desenvolvida para demonstrar que a aprendizagem profunda sem componentes específicos da série temporal pode superar algumas abordagens estatísticas bem estabelecidas.</p>"
   ]
  },
  {
   "cell_type": "markdown",
   "metadata": {},
   "source": [
    "<h2>Redes Neurais Recorrentes (RNN)</h2>\n",
    "<p align='justify'>As RNNs, particularmente as LSTMs, têm sido muito aplicadas à eletricidade multivariada para previsão de consumo. A previsão do consumo de eletricidade é uma longa sequência de séries temporais, onde é necessário capturar com precisão o acoplamento de correlação de longo alcance entre itens de uma sequência ao longo do tempo.</p>"
   ]
  },
  {
   "cell_type": "markdown",
   "metadata": {},
   "source": [
    "<h2>Redes Convolucionais (ConvNets)</h2>\n",
    "<p align='justify'>Os pesquisadores compararam as redes genéricas convolutivas e as recorrentes como a LSTM/GRU para modelagem de sequências através de uma vasta gama de tarefas. Durante a pesquisa, descobriram que a arquitetura de uma Rede Convolucional Temporal(TCN) tem um desempenho melhor que as RNNs do tipo LSTMs, demonstrando ao mesmo tempo ter uma memória eficaz mais longa. A característica mais importante das convoluções nos TCNs é que elas são causais. Uma convolução é causal se a sua saída for o resultado apenas de entradas atuais e passadas.</p>"
   ]
  },
  {
   "cell_type": "markdown",
   "metadata": {},
   "source": [
    "<h2>Arquiteturas <i>Transformer</i></h2>\n",
    "<p align='justify'>As <i>Transformers</i> introduziram dois blocos de construção - multi-head attention e posicional embeddings. Em vez de trabalhar sequencialmente, essas sequências são processadas como um todo em vez de item por item. Elas empregam a auto-atenção, onde as notas de similaridade\n",
    "entre os itens de uma frase são armazenadas.</p>"
   ]
  },
  {
   "cell_type": "markdown",
   "metadata": {},
   "source": [
    "<h2>Aplicações</h2>\n",
    "<h4>Rede Densamente Conectada</h4>"
   ]
  },
  {
   "cell_type": "code",
   "execution_count": 118,
   "metadata": {},
   "outputs": [
    {
     "data": {
      "text/html": [
       "<div>\n",
       "<style scoped>\n",
       "    .dataframe tbody tr th:only-of-type {\n",
       "        vertical-align: middle;\n",
       "    }\n",
       "\n",
       "    .dataframe tbody tr th {\n",
       "        vertical-align: top;\n",
       "    }\n",
       "\n",
       "    .dataframe thead th {\n",
       "        text-align: right;\n",
       "    }\n",
       "</style>\n",
       "<table border=\"1\" class=\"dataframe\">\n",
       "  <thead>\n",
       "    <tr style=\"text-align: right;\">\n",
       "      <th></th>\n",
       "      <th>Passangers</th>\n",
       "    </tr>\n",
       "    <tr>\n",
       "      <th>Date</th>\n",
       "      <th></th>\n",
       "    </tr>\n",
       "  </thead>\n",
       "  <tbody>\n",
       "    <tr>\n",
       "      <th>1949-01</th>\n",
       "      <td>112</td>\n",
       "    </tr>\n",
       "    <tr>\n",
       "      <th>1949-02</th>\n",
       "      <td>118</td>\n",
       "    </tr>\n",
       "    <tr>\n",
       "      <th>1949-03</th>\n",
       "      <td>132</td>\n",
       "    </tr>\n",
       "    <tr>\n",
       "      <th>1949-04</th>\n",
       "      <td>129</td>\n",
       "    </tr>\n",
       "    <tr>\n",
       "      <th>1949-05</th>\n",
       "      <td>121</td>\n",
       "    </tr>\n",
       "    <tr>\n",
       "      <th>...</th>\n",
       "      <td>...</td>\n",
       "    </tr>\n",
       "    <tr>\n",
       "      <th>1960-08</th>\n",
       "      <td>606</td>\n",
       "    </tr>\n",
       "    <tr>\n",
       "      <th>1960-09</th>\n",
       "      <td>508</td>\n",
       "    </tr>\n",
       "    <tr>\n",
       "      <th>1960-10</th>\n",
       "      <td>461</td>\n",
       "    </tr>\n",
       "    <tr>\n",
       "      <th>1960-11</th>\n",
       "      <td>390</td>\n",
       "    </tr>\n",
       "    <tr>\n",
       "      <th>1960-12</th>\n",
       "      <td>432</td>\n",
       "    </tr>\n",
       "  </tbody>\n",
       "</table>\n",
       "<p>144 rows × 1 columns</p>\n",
       "</div>"
      ],
      "text/plain": [
       "         Passangers\n",
       "Date               \n",
       "1949-01         112\n",
       "1949-02         118\n",
       "1949-03         132\n",
       "1949-04         129\n",
       "1949-05         121\n",
       "...             ...\n",
       "1960-08         606\n",
       "1960-09         508\n",
       "1960-10         461\n",
       "1960-11         390\n",
       "1960-12         432\n",
       "\n",
       "[144 rows x 1 columns]"
      ]
     },
     "execution_count": 118,
     "metadata": {},
     "output_type": "execute_result"
    }
   ],
   "source": [
    "import pandas as pd\n",
    "from sklearn.model_selection import train_test_split\n",
    "import tensorflow as tf\n",
    "import tensorflow.keras as keras\n",
    "import matplotlib.pyplot as plt\n",
    "\n",
    "\n",
    "path = \"data\\AirPassengers.csv\"\n",
    "passageiros = pd.read_csv(path)\n",
    "passageiros = passageiros.rename(columns={\"#Passengers\":\"Passangers\", \"Month\":\"Date\"})\n",
    "passageiros['Date'] = pd.to_datetime(passageiros.Date).dt.strftime('%Y-%m')\n",
    "passageiros = passageiros.set_index(passageiros['Date'])\n",
    "passageiros.drop(['Date'], axis=1,inplace=True)\n",
    "passageiros"
   ]
  },
  {
   "cell_type": "code",
   "execution_count": 119,
   "metadata": {},
   "outputs": [],
   "source": [
    "# Vamos construir uma MLP\n",
    "\n",
    "DROPOUT_RATIO = 0.2 # Ajuda a reduzir o Overfitting. Aqui no caso removeremos 20% dos casos randomicamente.\n",
    "HIDDEN_NEURONS = 10  \n",
    "\n",
    "callback = tf.keras.callbacks.EarlyStopping(monitor='loss', patience=3) # Aqui iremos parar se a perda ('loss') não melhorar 3 vezes seguidas. \n",
    "\n",
    "def create_model(passengers):\n",
    "  input_layer = keras.layers.Input(len(passengers.columns))\n",
    "\n",
    "  hiden_layer = keras.layers.Dropout(DROPOUT_RATIO)(input_layer)\n",
    "  hiden_layer = keras.layers.Dense(HIDDEN_NEURONS, activation='relu')(hiden_layer)\n",
    "\n",
    "  output_layer = keras.layers.Dropout(DROPOUT_RATIO)(hiden_layer)\n",
    "  output_layer = keras.layers.Dense(1)(output_layer)\n",
    "\n",
    "  model = keras.models.Model(inputs=input_layer, outputs=output_layer)\n",
    "\n",
    "  model.compile(loss='mse', optimizer=keras.optimizers.Adagrad(),\n",
    "    metrics=[keras.metrics.RootMeanSquaredError(), keras.metrics.MeanAbsoluteError()])\n",
    "  return model"
   ]
  },
  {
   "cell_type": "code",
   "execution_count": 120,
   "metadata": {},
   "outputs": [
    {
     "name": "stdout",
     "output_type": "stream",
     "text": [
      "Epoch 1/100\n",
      "WARNING:tensorflow:AutoGraph could not transform <function Model.make_train_function.<locals>.train_function at 0x00000214AEC081F0> and will run it as-is.\n",
      "Please report this to the TensorFlow team. When filing the bug, set the verbosity to 10 (on Linux, `export AUTOGRAPH_VERBOSITY=10`) and attach the full output.\n",
      "Cause: module 'gast' has no attribute 'Constant'\n",
      "To silence this warning, decorate the function with @tf.autograph.experimental.do_not_convert\n",
      "WARNING: AutoGraph could not transform <function Model.make_train_function.<locals>.train_function at 0x00000214AEC081F0> and will run it as-is.\n",
      "Please report this to the TensorFlow team. When filing the bug, set the verbosity to 10 (on Linux, `export AUTOGRAPH_VERBOSITY=10`) and attach the full output.\n",
      "Cause: module 'gast' has no attribute 'Constant'\n",
      "To silence this warning, decorate the function with @tf.autograph.experimental.do_not_convert\n",
      "4/4 [==============================] - 0s 1ms/step - loss: 16992.0020 - root_mean_squared_error: 130.3534 - mean_absolute_error: 104.3020\n",
      "Epoch 2/100\n",
      "4/4 [==============================] - 0s 1ms/step - loss: 21073.1074 - root_mean_squared_error: 145.1658 - mean_absolute_error: 114.0979\n",
      "Epoch 3/100\n",
      "4/4 [==============================] - 0s 1ms/step - loss: 20947.8281 - root_mean_squared_error: 144.7336 - mean_absolute_error: 115.5405\n",
      "Epoch 4/100\n",
      "4/4 [==============================] - 0s 1ms/step - loss: 14402.2021 - root_mean_squared_error: 120.0092 - mean_absolute_error: 88.8293\n",
      "Epoch 5/100\n",
      "4/4 [==============================] - 0s 1ms/step - loss: 23308.2500 - root_mean_squared_error: 152.6704 - mean_absolute_error: 115.9363\n",
      "Epoch 6/100\n",
      "4/4 [==============================] - 0s 1ms/step - loss: 21350.0625 - root_mean_squared_error: 146.1166 - mean_absolute_error: 112.4071\n",
      "Epoch 7/100\n",
      "4/4 [==============================] - 0s 1ms/step - loss: 17267.3105 - root_mean_squared_error: 131.4051 - mean_absolute_error: 100.3566\n"
     ]
    },
    {
     "data": {
      "text/plain": [
       "<keras.callbacks.History at 0x214aec9c760>"
      ]
     },
     "execution_count": 120,
     "metadata": {},
     "output_type": "execute_result"
    }
   ],
   "source": [
    "# Vamos separar os conjuntos de Treinamento e Testes\n",
    "X_train, X_test, y_train, y_test = train_test_split(passageiros, passageiros.Passangers.shift(-1), shuffle=False)\n",
    "\n",
    "# Criando o Modelo Densamente Conectada (FCN)\n",
    "model = create_model(passageiros)\n",
    "\n",
    "# Ajustando o Modelo\n",
    "model.fit(X_train,y_train, epochs=100, callbacks=[callback])\n"
   ]
  },
  {
   "cell_type": "code",
   "execution_count": 121,
   "metadata": {},
   "outputs": [
    {
     "name": "stdout",
     "output_type": "stream",
     "text": [
      "WARNING:tensorflow:AutoGraph could not transform <function Model.make_predict_function.<locals>.predict_function at 0x00000214AEC78B80> and will run it as-is.\n",
      "Please report this to the TensorFlow team. When filing the bug, set the verbosity to 10 (on Linux, `export AUTOGRAPH_VERBOSITY=10`) and attach the full output.\n",
      "Cause: module 'gast' has no attribute 'Constant'\n",
      "To silence this warning, decorate the function with @tf.autograph.experimental.do_not_convert\n",
      "WARNING: AutoGraph could not transform <function Model.make_predict_function.<locals>.predict_function at 0x00000214AEC78B80> and will run it as-is.\n",
      "Please report this to the TensorFlow team. When filing the bug, set the verbosity to 10 (on Linux, `export AUTOGRAPH_VERBOSITY=10`) and attach the full output.\n",
      "Cause: module 'gast' has no attribute 'Constant'\n",
      "To silence this warning, decorate the function with @tf.autograph.experimental.do_not_convert\n",
      "WARNING:tensorflow:5 out of the last 9 calls to <function Model.make_predict_function.<locals>.predict_function at 0x00000214AEC78B80> triggered tf.function retracing. Tracing is expensive and the excessive number of tracings could be due to (1) creating @tf.function repeatedly in a loop, (2) passing tensors with different shapes, (3) passing Python objects instead of tensors. For (1), please define your @tf.function outside of the loop. For (2), @tf.function has experimental_relax_shapes=True option that relaxes argument shapes that can avoid unnecessary retracing. For (3), please refer to https://www.tensorflow.org/guide/function#controlling_retracing and https://www.tensorflow.org/api_docs/python/tf/function for  more details.\n"
     ]
    }
   ],
   "source": [
    "# Fazendo previsões\n",
    "\n",
    "predicted = model.predict(X_test)"
   ]
  },
  {
   "cell_type": "code",
   "execution_count": 122,
   "metadata": {},
   "outputs": [
    {
     "data": {
      "image/png": "[encoded data removed]",
      "text/plain": [
       "<Figure size 1152x432 with 1 Axes>"
      ]
     },
     "metadata": {
      "needs_background": "light"
     },
     "output_type": "display_data"
    }
   ],
   "source": [
    "# Visualizando as Previsões em relação aos Valores Atuais\n",
    "\n",
    "def show_result(y_test, predicted):\n",
    "    plt.figure(figsize=(16, 6))\n",
    "    plt.plot(y_test.index, predicted, 'o-', label=\"predicted\")\n",
    "    plt.plot(y_test.index, y_test, '.-', label=\"actual\")\n",
    "    plt.xticks(rotation='65')\n",
    "    plt.ylabel(\"Passengers\")\n",
    "    plt.legend()\n",
    "\n",
    "show_result(y_test,predicted)"
   ]
  },
  {
   "cell_type": "code",
   "execution_count": null,
   "metadata": {},
   "outputs": [],
   "source": []
  },
  {
   "cell_type": "code",
   "execution_count": 126,
   "metadata": {},
   "outputs": [
    {
     "ename": "AttributeError",
     "evalue": "'Index' object has no attribute 'dt'",
     "output_type": "error",
     "traceback": [
      "\u001b[1;31m---------------------------------------------------------------------------\u001b[0m",
      "\u001b[1;31mAttributeError\u001b[0m                            Traceback (most recent call last)",
      "\u001b[1;32mc:\\Users\\willi\\OneDrive\\Documentos\\4. GitHub\\Time_Series_Studies\\Aprendizagem Profunda para Séries Temporais.ipynb Cell 15'\u001b[0m in \u001b[0;36m<cell line: 1>\u001b[1;34m()\u001b[0m\n\u001b[1;32m----> <a href='vscode-notebook-cell:/c%3A/Users/willi/OneDrive/Documentos/4.%20GitHub/Time_Series_Studies/Aprendizagem%20Profunda%20para%20S%C3%A9ries%20Temporais.ipynb#ch0000015?line=0'>1</a>\u001b[0m passageiros[\u001b[39m\"\u001b[39m\u001b[39mmonth\u001b[39m\u001b[39m\"\u001b[39m] \u001b[39m=\u001b[39m passageiros\u001b[39m.\u001b[39;49mindex\u001b[39m.\u001b[39;49mdt\u001b[39m.\u001b[39mmonth\u001b[39m.\u001b[39mvalues\n\u001b[0;32m      <a href='vscode-notebook-cell:/c%3A/Users/willi/OneDrive/Documentos/4.%20GitHub/Time_Series_Studies/Aprendizagem%20Profunda%20para%20S%C3%A9ries%20Temporais.ipynb#ch0000015?line=1'>2</a>\u001b[0m passageiros[\u001b[39m\"\u001b[39m\u001b[39myear\u001b[39m\u001b[39m\"\u001b[39m] \u001b[39m=\u001b[39m passageiros\u001b[39m.\u001b[39mindex\u001b[39m.\u001b[39myear\u001b[39m.\u001b[39mvalues\n",
      "\u001b[1;31mAttributeError\u001b[0m: 'Index' object has no attribute 'dt'"
     ]
    }
   ],
   "source": [
    "passageiros[\"month\"] = passageiros.index.dt.month.values\n",
    "passageiros[\"year\"] = passageiros.index.year.values\n",
    "\n"
   ]
  },
  {
   "cell_type": "code",
   "execution_count": 124,
   "metadata": {},
   "outputs": [
    {
     "name": "stdout",
     "output_type": "stream",
     "text": [
      "Epoch 1/100\n",
      "WARNING:tensorflow:AutoGraph could not transform <function Model.make_train_function.<locals>.train_function at 0x00000214AEFBD280> and will run it as-is.\n",
      "Please report this to the TensorFlow team. When filing the bug, set the verbosity to 10 (on Linux, `export AUTOGRAPH_VERBOSITY=10`) and attach the full output.\n",
      "Cause: module 'gast' has no attribute 'Constant'\n",
      "To silence this warning, decorate the function with @tf.autograph.experimental.do_not_convert\n",
      "WARNING: AutoGraph could not transform <function Model.make_train_function.<locals>.train_function at 0x00000214AEFBD280> and will run it as-is.\n",
      "Please report this to the TensorFlow team. When filing the bug, set the verbosity to 10 (on Linux, `export AUTOGRAPH_VERBOSITY=10`) and attach the full output.\n",
      "Cause: module 'gast' has no attribute 'Constant'\n",
      "To silence this warning, decorate the function with @tf.autograph.experimental.do_not_convert\n",
      "4/4 [==============================] - 0s 674us/step - loss: 109595.2422 - root_mean_squared_error: 331.0517 - mean_absolute_error: 306.9897\n",
      "Epoch 2/100\n",
      "4/4 [==============================] - 0s 999us/step - loss: 107521.6016 - root_mean_squared_error: 327.9049 - mean_absolute_error: 300.7339\n",
      "Epoch 3/100\n",
      "4/4 [==============================] - 0s 666us/step - loss: 94223.3438 - root_mean_squared_error: 306.9582 - mean_absolute_error: 285.7013\n",
      "Epoch 4/100\n",
      "4/4 [==============================] - 0s 1ms/step - loss: 102620.1406 - root_mean_squared_error: 320.3438 - mean_absolute_error: 297.5059\n",
      "Epoch 5/100\n",
      "4/4 [==============================] - 0s 994us/step - loss: 99058.8125 - root_mean_squared_error: 314.7361 - mean_absolute_error: 290.9997\n",
      "Epoch 6/100\n",
      "4/4 [==============================] - 0s 999us/step - loss: 107027.8203 - root_mean_squared_error: 327.1511 - mean_absolute_error: 302.6346\n",
      "WARNING:tensorflow:AutoGraph could not transform <function Model.make_predict_function.<locals>.predict_function at 0x00000214AEFBDA60> and will run it as-is.\n",
      "Please report this to the TensorFlow team. When filing the bug, set the verbosity to 10 (on Linux, `export AUTOGRAPH_VERBOSITY=10`) and attach the full output.\n",
      "Cause: module 'gast' has no attribute 'Constant'\n",
      "To silence this warning, decorate the function with @tf.autograph.experimental.do_not_convert\n",
      "WARNING: AutoGraph could not transform <function Model.make_predict_function.<locals>.predict_function at 0x00000214AEFBDA60> and will run it as-is.\n",
      "Please report this to the TensorFlow team. When filing the bug, set the verbosity to 10 (on Linux, `export AUTOGRAPH_VERBOSITY=10`) and attach the full output.\n",
      "Cause: module 'gast' has no attribute 'Constant'\n",
      "To silence this warning, decorate the function with @tf.autograph.experimental.do_not_convert\n",
      "WARNING:tensorflow:6 out of the last 11 calls to <function Model.make_predict_function.<locals>.predict_function at 0x00000214AEFBDA60> triggered tf.function retracing. Tracing is expensive and the excessive number of tracings could be due to (1) creating @tf.function repeatedly in a loop, (2) passing tensors with different shapes, (3) passing Python objects instead of tensors. For (1), please define your @tf.function outside of the loop. For (2), @tf.function has experimental_relax_shapes=True option that relaxes argument shapes that can avoid unnecessary retracing. For (3), please refer to https://www.tensorflow.org/guide/function#controlling_retracing and https://www.tensorflow.org/api_docs/python/tf/function for  more details.\n"
     ]
    }
   ],
   "source": [
    "model = create_model(passageiros)\n",
    "X_train, X_test, y_train, y_test = train_test_split(passageiros, passageiros.Passangers.shift(-1), shuffle=False)\n",
    "model.fit(X_train, y_train, epochs=100, callbacks=[callback])\n",
    "predicted = model.predict(X_test)"
   ]
  }
 ],
 "metadata": {
  "interpreter": {
   "hash": "f8bbe703e4409461e5c1796f0c401e26e62f32801f1a5b19455b89c31c613fbe"
  },
  "kernelspec": {
   "display_name": "Python 3.9.7 ('base')",
   "language": "python",
   "name": "python3"
  },
  "language_info": {
   "codemirror_mode": {
    "name": "ipython",
    "version": 3
   },
   "file_extension": ".py",
   "mimetype": "text/x-python",
   "name": "python",
   "nbconvert_exporter": "python",
   "pygments_lexer": "ipython3",
   "version": "3.9.7"
  },
  "orig_nbformat": 4
 },
 "nbformat": 4,
 "nbformat_minor": 2
}
