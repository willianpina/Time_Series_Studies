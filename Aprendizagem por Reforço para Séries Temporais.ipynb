{
 "cells": [
  {
   "cell_type": "markdown",
   "metadata": {},
   "source": [
    "<h1 align=\"center\">Aprendizagem por Reforço para as Séries Temporais</h1>\n",
    "<p align='center'><img src = https://datapeaker.com/wp-content/uploads/2021/09/496302-1548589.jpg></p>\n",
    "<p align='justify'>A Aprendizagem por Reforço é um paradigma amplamente bem sucedido para problemas de controle e optimização da função que não requer dados rotulados. É uma estrutura poderosa para uma aprendizagem autónoma orientada pela experiência, em que um agente interage diretamente com o ambiente através de ações e melhora a sua eficiência por tentativa e erro.</p>"
   ]
  },
  {
   "cell_type": "markdown",
   "metadata": {},
   "source": [
    "<p align='justify'>A Aprendizagem por Reforço é um dos principais paradigmas na aprendizagem de máquina no que se refere aos métodos supervisionados e não supervisionados. Uma distinção importante é que os métodos supervisionados ou os métodos não supervisionados são passivos, respondendo apenas às mudanças, enquanto que na Aprendizagem por Reforço é ativa, no sentido de mudar o ambiente e procurar novos dados. Na realidade, a partir da perpectiva da Aprendizagem de Máquina, os algoritmos de aprendizagem de reforço podem ser vistos como alternados entre encontrar bons dados e fazer uma aprendizagem supervisionada sobre esses dados.</p>\n",
    "<p align=\"justify\">Na Aprendizagem por Reforço, um agente interage com o ambiente através das ações e recebe <i>feedback</i> sob a forma de recompensas. Ao contrário do que acontece na aprendizagem supervisionado, não há dados rotulados disponíveis, mas sim, o ambiente é que explorado com base na expectativa de recompensas cumulativas.</p>\n",
    "\n",
    "<p align=\"justify\">Conceitualmente, a aprendizagem por reforço é uma abordagem em que um agente interage diretamente com o ambiente através de ações. O agente aprende através de tentativa e erro para maximizar a recompensa.</p>"
   ]
  },
  {
   "cell_type": "markdown",
   "metadata": {},
   "source": [
    "<h2><i>Bandit Algorithms</i></h2>\n",
    "<p align='justify'>O <i>Multi-Armed Bandit</i> (MAB) é um problema clássico de aprendizagem por reforço, em que um jogador é confrontado com um <i>slot machine</i> (bandido) que tem alavancas k (braços), cada com uma distribuição de recompensas diferente. O objectivo do agente é maximizar a sua distribuição cumulativa de recompensa com base em julgamentos. O <i>Bandit learning</i> refere-se a algoritmos que tem como objetivo optimizar uma função objetiva estacionário desconhecida.</p>"
   ]
  },
  {
   "cell_type": "markdown",
   "metadata": {},
   "source": [
    "<h2><i>Deep Q-Learning</i></h2>\n",
    "<p align='justify'>O <i>Q-Learning</i> é um algoritmo para aprender o valor de uma ação num determinado estado. O <i>Q-learning</i> gira em torno da representação do recompensa esperada por uma ação tomada num determinado estado.</p>"
   ]
  },
  {
   "cell_type": "markdown",
   "metadata": {},
   "source": [
    "<h2>Aplicações</h2>"
   ]
  },
  {
   "cell_type": "markdown",
   "metadata": {},
   "source": [
    "<h3>Recomendações</h3>"
   ]
  },
  {
   "cell_type": "code",
   "execution_count": 1,
   "metadata": {},
   "outputs": [],
   "source": [
    "# Importando as Bibliotecas\n",
    "import pandas as pd\n",
    "from tqdm import trange\n",
    "import matplotlib.pyplot as plt\n",
    "from mab_ranking.bandits.rank_bandits import IndependentBandits\n",
    "from mab_ranking.bandits.bandits import DirichletThompsonSampling\n",
    "from sklearn.cluster import KMeans\n",
    "from sklearn.preprocessing import StandardScaler"
   ]
  },
  {
   "cell_type": "code",
   "execution_count": 2,
   "metadata": {},
   "outputs": [
    {
     "data": {
      "text/html": [
       "<div>\n",
       "<style scoped>\n",
       "    .dataframe tbody tr th:only-of-type {\n",
       "        vertical-align: middle;\n",
       "    }\n",
       "\n",
       "    .dataframe tbody tr th {\n",
       "        vertical-align: top;\n",
       "    }\n",
       "\n",
       "    .dataframe thead th {\n",
       "        text-align: right;\n",
       "    }\n",
       "</style>\n",
       "<table border=\"1\" class=\"dataframe\">\n",
       "  <thead>\n",
       "    <tr style=\"text-align: right;\">\n",
       "      <th></th>\n",
       "      <th>0</th>\n",
       "      <th>1</th>\n",
       "      <th>2</th>\n",
       "      <th>3</th>\n",
       "      <th>4</th>\n",
       "      <th>5</th>\n",
       "      <th>6</th>\n",
       "      <th>7</th>\n",
       "      <th>8</th>\n",
       "      <th>9</th>\n",
       "      <th>...</th>\n",
       "      <th>141</th>\n",
       "      <th>142</th>\n",
       "      <th>143</th>\n",
       "      <th>144</th>\n",
       "      <th>145</th>\n",
       "      <th>146</th>\n",
       "      <th>147</th>\n",
       "      <th>148</th>\n",
       "      <th>149</th>\n",
       "      <th>150</th>\n",
       "    </tr>\n",
       "    <tr>\n",
       "      <th>users</th>\n",
       "      <th></th>\n",
       "      <th></th>\n",
       "      <th></th>\n",
       "      <th></th>\n",
       "      <th></th>\n",
       "      <th></th>\n",
       "      <th></th>\n",
       "      <th></th>\n",
       "      <th></th>\n",
       "      <th></th>\n",
       "      <th></th>\n",
       "      <th></th>\n",
       "      <th></th>\n",
       "      <th></th>\n",
       "      <th></th>\n",
       "      <th></th>\n",
       "      <th></th>\n",
       "      <th></th>\n",
       "      <th></th>\n",
       "      <th></th>\n",
       "      <th></th>\n",
       "    </tr>\n",
       "  </thead>\n",
       "  <tbody>\n",
       "    <tr>\n",
       "      <th>0</th>\n",
       "      <td>1.0</td>\n",
       "      <td>0.0</td>\n",
       "      <td>0.0</td>\n",
       "      <td>0.0</td>\n",
       "      <td>0.0</td>\n",
       "      <td>0.0</td>\n",
       "      <td>0.0</td>\n",
       "      <td>0.0</td>\n",
       "      <td>0.0</td>\n",
       "      <td>0.0</td>\n",
       "      <td>...</td>\n",
       "      <td>0.0</td>\n",
       "      <td>0.0</td>\n",
       "      <td>0.0</td>\n",
       "      <td>0.0</td>\n",
       "      <td>0.0</td>\n",
       "      <td>0.0</td>\n",
       "      <td>0.0</td>\n",
       "      <td>0.0</td>\n",
       "      <td>0.0</td>\n",
       "      <td>0.0</td>\n",
       "    </tr>\n",
       "    <tr>\n",
       "      <th>1</th>\n",
       "      <td>1.0</td>\n",
       "      <td>0.0</td>\n",
       "      <td>0.0</td>\n",
       "      <td>0.0</td>\n",
       "      <td>0.0</td>\n",
       "      <td>0.0</td>\n",
       "      <td>0.0</td>\n",
       "      <td>1.0</td>\n",
       "      <td>1.0</td>\n",
       "      <td>0.0</td>\n",
       "      <td>...</td>\n",
       "      <td>0.0</td>\n",
       "      <td>0.0</td>\n",
       "      <td>0.0</td>\n",
       "      <td>0.0</td>\n",
       "      <td>0.0</td>\n",
       "      <td>0.0</td>\n",
       "      <td>0.0</td>\n",
       "      <td>0.0</td>\n",
       "      <td>0.0</td>\n",
       "      <td>0.0</td>\n",
       "    </tr>\n",
       "    <tr>\n",
       "      <th>2</th>\n",
       "      <td>1.0</td>\n",
       "      <td>0.0</td>\n",
       "      <td>0.0</td>\n",
       "      <td>0.0</td>\n",
       "      <td>0.0</td>\n",
       "      <td>0.0</td>\n",
       "      <td>0.0</td>\n",
       "      <td>0.0</td>\n",
       "      <td>0.0</td>\n",
       "      <td>0.0</td>\n",
       "      <td>...</td>\n",
       "      <td>0.0</td>\n",
       "      <td>0.0</td>\n",
       "      <td>0.0</td>\n",
       "      <td>0.0</td>\n",
       "      <td>0.0</td>\n",
       "      <td>0.0</td>\n",
       "      <td>0.0</td>\n",
       "      <td>0.0</td>\n",
       "      <td>0.0</td>\n",
       "      <td>0.0</td>\n",
       "    </tr>\n",
       "    <tr>\n",
       "      <th>3</th>\n",
       "      <td>1.0</td>\n",
       "      <td>0.0</td>\n",
       "      <td>0.0</td>\n",
       "      <td>0.0</td>\n",
       "      <td>0.0</td>\n",
       "      <td>0.0</td>\n",
       "      <td>0.0</td>\n",
       "      <td>0.0</td>\n",
       "      <td>0.0</td>\n",
       "      <td>0.0</td>\n",
       "      <td>...</td>\n",
       "      <td>0.0</td>\n",
       "      <td>0.0</td>\n",
       "      <td>0.0</td>\n",
       "      <td>0.0</td>\n",
       "      <td>0.0</td>\n",
       "      <td>0.0</td>\n",
       "      <td>0.0</td>\n",
       "      <td>0.0</td>\n",
       "      <td>0.0</td>\n",
       "      <td>0.0</td>\n",
       "    </tr>\n",
       "    <tr>\n",
       "      <th>4</th>\n",
       "      <td>1.0</td>\n",
       "      <td>0.0</td>\n",
       "      <td>0.0</td>\n",
       "      <td>0.0</td>\n",
       "      <td>0.0</td>\n",
       "      <td>0.0</td>\n",
       "      <td>0.0</td>\n",
       "      <td>0.0</td>\n",
       "      <td>0.0</td>\n",
       "      <td>0.0</td>\n",
       "      <td>...</td>\n",
       "      <td>0.0</td>\n",
       "      <td>0.0</td>\n",
       "      <td>0.0</td>\n",
       "      <td>0.0</td>\n",
       "      <td>0.0</td>\n",
       "      <td>0.0</td>\n",
       "      <td>0.0</td>\n",
       "      <td>0.0</td>\n",
       "      <td>0.0</td>\n",
       "      <td>0.0</td>\n",
       "    </tr>\n",
       "    <tr>\n",
       "      <th>...</th>\n",
       "      <td>...</td>\n",
       "      <td>...</td>\n",
       "      <td>...</td>\n",
       "      <td>...</td>\n",
       "      <td>...</td>\n",
       "      <td>...</td>\n",
       "      <td>...</td>\n",
       "      <td>...</td>\n",
       "      <td>...</td>\n",
       "      <td>...</td>\n",
       "      <td>...</td>\n",
       "      <td>...</td>\n",
       "      <td>...</td>\n",
       "      <td>...</td>\n",
       "      <td>...</td>\n",
       "      <td>...</td>\n",
       "      <td>...</td>\n",
       "      <td>...</td>\n",
       "      <td>...</td>\n",
       "      <td>...</td>\n",
       "      <td>...</td>\n",
       "    </tr>\n",
       "    <tr>\n",
       "      <th>50687</th>\n",
       "      <td>1.0</td>\n",
       "      <td>0.0</td>\n",
       "      <td>0.0</td>\n",
       "      <td>0.0</td>\n",
       "      <td>0.0</td>\n",
       "      <td>0.0</td>\n",
       "      <td>0.0</td>\n",
       "      <td>0.0</td>\n",
       "      <td>0.0</td>\n",
       "      <td>0.0</td>\n",
       "      <td>...</td>\n",
       "      <td>0.0</td>\n",
       "      <td>0.0</td>\n",
       "      <td>0.0</td>\n",
       "      <td>0.0</td>\n",
       "      <td>0.0</td>\n",
       "      <td>0.0</td>\n",
       "      <td>0.0</td>\n",
       "      <td>0.0</td>\n",
       "      <td>0.0</td>\n",
       "      <td>0.0</td>\n",
       "    </tr>\n",
       "    <tr>\n",
       "      <th>50688</th>\n",
       "      <td>1.0</td>\n",
       "      <td>0.0</td>\n",
       "      <td>0.0</td>\n",
       "      <td>0.0</td>\n",
       "      <td>0.0</td>\n",
       "      <td>0.0</td>\n",
       "      <td>0.0</td>\n",
       "      <td>0.0</td>\n",
       "      <td>0.0</td>\n",
       "      <td>0.0</td>\n",
       "      <td>...</td>\n",
       "      <td>0.0</td>\n",
       "      <td>0.0</td>\n",
       "      <td>0.0</td>\n",
       "      <td>0.0</td>\n",
       "      <td>0.0</td>\n",
       "      <td>0.0</td>\n",
       "      <td>0.0</td>\n",
       "      <td>0.0</td>\n",
       "      <td>0.0</td>\n",
       "      <td>0.0</td>\n",
       "    </tr>\n",
       "    <tr>\n",
       "      <th>50689</th>\n",
       "      <td>1.0</td>\n",
       "      <td>0.0</td>\n",
       "      <td>0.0</td>\n",
       "      <td>0.0</td>\n",
       "      <td>0.0</td>\n",
       "      <td>0.0</td>\n",
       "      <td>0.0</td>\n",
       "      <td>0.0</td>\n",
       "      <td>0.0</td>\n",
       "      <td>0.0</td>\n",
       "      <td>...</td>\n",
       "      <td>0.0</td>\n",
       "      <td>0.0</td>\n",
       "      <td>0.0</td>\n",
       "      <td>0.0</td>\n",
       "      <td>0.0</td>\n",
       "      <td>0.0</td>\n",
       "      <td>0.0</td>\n",
       "      <td>0.0</td>\n",
       "      <td>0.0</td>\n",
       "      <td>0.0</td>\n",
       "    </tr>\n",
       "    <tr>\n",
       "      <th>50690</th>\n",
       "      <td>1.0</td>\n",
       "      <td>0.0</td>\n",
       "      <td>0.0</td>\n",
       "      <td>0.0</td>\n",
       "      <td>0.0</td>\n",
       "      <td>0.0</td>\n",
       "      <td>0.0</td>\n",
       "      <td>0.0</td>\n",
       "      <td>0.0</td>\n",
       "      <td>0.0</td>\n",
       "      <td>...</td>\n",
       "      <td>0.0</td>\n",
       "      <td>0.0</td>\n",
       "      <td>0.0</td>\n",
       "      <td>0.0</td>\n",
       "      <td>0.0</td>\n",
       "      <td>0.0</td>\n",
       "      <td>0.0</td>\n",
       "      <td>0.0</td>\n",
       "      <td>0.0</td>\n",
       "      <td>0.0</td>\n",
       "    </tr>\n",
       "    <tr>\n",
       "      <th>50691</th>\n",
       "      <td>1.0</td>\n",
       "      <td>0.0</td>\n",
       "      <td>0.0</td>\n",
       "      <td>0.0</td>\n",
       "      <td>0.0</td>\n",
       "      <td>0.0</td>\n",
       "      <td>0.0</td>\n",
       "      <td>0.0</td>\n",
       "      <td>0.0</td>\n",
       "      <td>0.0</td>\n",
       "      <td>...</td>\n",
       "      <td>1.0</td>\n",
       "      <td>1.0</td>\n",
       "      <td>1.0</td>\n",
       "      <td>1.0</td>\n",
       "      <td>1.0</td>\n",
       "      <td>1.0</td>\n",
       "      <td>1.0</td>\n",
       "      <td>1.0</td>\n",
       "      <td>1.0</td>\n",
       "      <td>1.0</td>\n",
       "    </tr>\n",
       "  </tbody>\n",
       "</table>\n",
       "<p>49961 rows × 151 columns</p>\n",
       "</div>"
      ],
      "text/plain": [
       "       0    1    2    3    4    5    6    7    8    9    ...  141  142  143  \\\n",
       "users                                                    ...                  \n",
       "0      1.0  0.0  0.0  0.0  0.0  0.0  0.0  0.0  0.0  0.0  ...  0.0  0.0  0.0   \n",
       "1      1.0  0.0  0.0  0.0  0.0  0.0  0.0  1.0  1.0  0.0  ...  0.0  0.0  0.0   \n",
       "2      1.0  0.0  0.0  0.0  0.0  0.0  0.0  0.0  0.0  0.0  ...  0.0  0.0  0.0   \n",
       "3      1.0  0.0  0.0  0.0  0.0  0.0  0.0  0.0  0.0  0.0  ...  0.0  0.0  0.0   \n",
       "4      1.0  0.0  0.0  0.0  0.0  0.0  0.0  0.0  0.0  0.0  ...  0.0  0.0  0.0   \n",
       "...    ...  ...  ...  ...  ...  ...  ...  ...  ...  ...  ...  ...  ...  ...   \n",
       "50687  1.0  0.0  0.0  0.0  0.0  0.0  0.0  0.0  0.0  0.0  ...  0.0  0.0  0.0   \n",
       "50688  1.0  0.0  0.0  0.0  0.0  0.0  0.0  0.0  0.0  0.0  ...  0.0  0.0  0.0   \n",
       "50689  1.0  0.0  0.0  0.0  0.0  0.0  0.0  0.0  0.0  0.0  ...  0.0  0.0  0.0   \n",
       "50690  1.0  0.0  0.0  0.0  0.0  0.0  0.0  0.0  0.0  0.0  ...  0.0  0.0  0.0   \n",
       "50691  1.0  0.0  0.0  0.0  0.0  0.0  0.0  0.0  0.0  0.0  ...  1.0  1.0  1.0   \n",
       "\n",
       "       144  145  146  147  148  149  150  \n",
       "users                                     \n",
       "0      0.0  0.0  0.0  0.0  0.0  0.0  0.0  \n",
       "1      0.0  0.0  0.0  0.0  0.0  0.0  0.0  \n",
       "2      0.0  0.0  0.0  0.0  0.0  0.0  0.0  \n",
       "3      0.0  0.0  0.0  0.0  0.0  0.0  0.0  \n",
       "4      0.0  0.0  0.0  0.0  0.0  0.0  0.0  \n",
       "...    ...  ...  ...  ...  ...  ...  ...  \n",
       "50687  0.0  0.0  0.0  0.0  0.0  0.0  0.0  \n",
       "50688  0.0  0.0  0.0  0.0  0.0  0.0  0.0  \n",
       "50689  0.0  0.0  0.0  0.0  0.0  0.0  0.0  \n",
       "50690  0.0  0.0  0.0  0.0  0.0  0.0  0.0  \n",
       "50691  1.0  1.0  1.0  1.0  1.0  1.0  1.0  \n",
       "\n",
       "[49961 rows x 151 columns]"
      ]
     },
     "execution_count": 2,
     "metadata": {},
     "output_type": "execute_result"
    }
   ],
   "source": [
    "# Carregando os dados\n",
    "\n",
    "url = \"https://raw.githubusercontent.com/benman1/Machine-Learning-for-Time-Series-with-Python/main/chapter11/jesterfinal151cols.csv\"\n",
    "jester_data = pd.read_csv(url, header=None)\n",
    "jester_data.index.name = 'users'\n",
    "for col in jester_data.columns:\n",
    "    jester_data[col] = jester_data[col].apply(lambda x: 0.0 if x>=99 or x<7.0 else 1.0)\n",
    "jester_data = jester_data[jester_data.sum(axis=1) > 0]\n",
    "jester_data"
   ]
  },
  {
   "cell_type": "code",
   "execution_count": 3,
   "metadata": {},
   "outputs": [
    {
     "name": "stderr",
     "output_type": "stream",
     "text": [
      "100%|██████████| 7000/7000 [00:47<00:00, 146.62it/s]\n"
     ]
    }
   ],
   "source": [
    "# Escolhemos bandits com amostras Thompson da Beta Distribution e recomendamos as melhores 10 piadas. \n",
    "independent_bandits = IndependentBandits(\n",
    "    num_arms = jester_data.shape[1],\n",
    "    num_ranks = 10,\n",
    "    bandit_class = DirichletThompsonSampling\n",
    ")\n",
    "\n",
    "# Começar a simulação. O nosso caso hipotético website tem muitas visitas e receberemos o feedback sobre as 10 piadas que mostraremos como escolhidas.\n",
    "num_steps = 7000\n",
    "hit_rates = []\n",
    "for _ in trange(1, num_steps + 1):\n",
    "    selected_items = set(independent_bandits.choose())\n",
    "    # Escolher um usuário de forma aleatória\n",
    "    random_user = jester_data.sample().iloc[0, :]\n",
    "    ground_truth = set(random_user[random_user == 1].index)\n",
    "    hit_rate = len(ground_truth.intersection(selected_items)) / len(ground_truth)\n",
    "    feedback_list = [1.0 if item in ground_truth else 0.0 for item in selected_items]\n",
    "    independent_bandits.update(selected_items, feedback_list)\n",
    "    hit_rates.append(hit_rate)"
   ]
  },
  {
   "cell_type": "markdown",
   "metadata": {},
   "source": [
    "<p align=\"justify\">Nós simulamos 7.000 interações (visitas). A cada visita, mudaremos nossas escolhas de acordo com as expectativas de recompensas atualizadas.</p>"
   ]
  },
  {
   "cell_type": "code",
   "execution_count": 4,
   "metadata": {},
   "outputs": [
    {
     "data": {
      "image/png": "[encoded data removed]",
      "text/plain": [
       "<Figure size 864x432 with 1 Axes>"
      ]
     },
     "metadata": {
      "needs_background": "light"
     },
     "output_type": "display_data"
    }
   ],
   "source": [
    "# Vamos plotar a taxa de acerto, as piadas que os utilizadoes estão selecioando.\n",
    "stats = pd.Series(hit_rates)\n",
    "plt.figure(figsize=(12, 6))\n",
    "plt.plot(stats.index, stats.rolling(200).mean(), \"--\")\n",
    "plt.xlabel('Iteration')\n",
    "plt.ylabel('Hit rate')\n",
    "plt.show()\n",
    "\n",
    "# Foi introduzida uma média móvel (mais de 200 interações) para obter um gráfico mais suave!"
   ]
  },
  {
   "cell_type": "markdown",
   "metadata": {},
   "source": [
    "<p align=\"justify\">A biblioteca <i>mab-ranking</i> suporta a informação contextual, então podemos experimentar fornecendo uma informação adicional. Vamos imaginar esta informação como diferentes grupos de usuários (<i>cohorts</i>). Nós poderíamos pensar em usuários que utilizam diferentes funcionalidades de pesquisa ou filtros no nosso site imaginário, como por exemplo \"piadas mais recentes\" ou \"mais populares\". De forma alternativa, poderiam ser de regiões diferentes. Ou pode ser uma categoria de <i>timestamp</i> que corresponde à hora do dia das visitas dos usuários ao nosso site.</p>"
   ]
  },
  {
   "cell_type": "code",
   "execution_count": 5,
   "metadata": {},
   "outputs": [
    {
     "name": "stderr",
     "output_type": "stream",
     "text": [
      "100%|██████████| 7000/7000 [00:46<00:00, 149.44it/s]\n"
     ]
    }
   ],
   "source": [
    "# Vamos agrupar ps utilizadores pelas suas preferências e utilizaremos os clusters.\n",
    "\n",
    "scaler = StandardScaler().fit(jester_data)\n",
    "kmeans = KMeans(n_clusters=5, random_state=0).fit(scaler.transform(jester_data)) # Criamos 5 grupos de usuários.\n",
    "contexts = pd.Series(kmeans.labels_, index=jester_data.index)\n",
    "\n",
    "# Vamos resetar nosso bandits\n",
    "independent_bandits = IndependentBandits(\n",
    "num_arms=jester_data.shape[1],\n",
    "num_ranks=10,\n",
    "bandit_class=DirichletThompsonSampling\n",
    ")\n",
    "\n",
    "# Vamos gerar a simulação de novo!!\n",
    "hit_rates = []\n",
    "for _ in trange(1, num_steps + 1):\n",
    "    selected_items = set(independent_bandits.choose())\n",
    "    # Escolher um usuário de forma aleatória\n",
    "    random_user = jester_data.sample().iloc[0, :]\n",
    "    ground_truth = set(random_user[random_user == 1].index)\n",
    "    hit_rate = len(ground_truth.intersection(selected_items)) / len(ground_truth)\n",
    "    feedback_list = [1.0 if item in ground_truth else 0.0 for item in selected_items]\n",
    "    independent_bandits.update(selected_items, feedback_list)\n",
    "    hit_rates.append(hit_rate)"
   ]
  },
  {
   "cell_type": "code",
   "execution_count": 6,
   "metadata": {},
   "outputs": [
    {
     "data": {
      "image/png": "[encoded data removed]",
      "text/plain": [
       "<Figure size 864x432 with 1 Axes>"
      ]
     },
     "metadata": {
      "needs_background": "light"
     },
     "output_type": "display_data"
    }
   ],
   "source": [
    "# Plotando novamente!!\n",
    "stats = pd.Series(hit_rates)\n",
    "plt.figure(figsize=(12, 6))\n",
    "plt.plot(stats.index, stats.rolling(200).mean(), \"--\")\n",
    "plt.xlabel('Iteration')\n",
    "plt.ylabel('Hit rate')\n",
    "\n",
    "plt.show()"
   ]
  },
  {
   "cell_type": "markdown",
   "metadata": {},
   "source": [
    "<p align=\"justify\">Podemos ver que a taxa de sucesso é um pouco mais elevada do que anteriormente. Este modelo ignora a ordem das anedotas recomendadas no nosso hipotético website. Existem outras implementações <i>bandits</i> que modelam as fileiras. Um exercício divertido é criar um modelo probabilístico de expectativas de recompensa.</p>"
   ]
  },
  {
   "cell_type": "markdown",
   "metadata": {},
   "source": [
    "<h4>Negociações com DQN</h4>\n",
    "<p align=\"justify\">Este tutorial é baseado na biblioteca do <i>TensorTrade</i> que utilizaremos neste exemplo.O <i>TensorTrade</i> é uma estrutura para a construção, formação, avaliação e implementação de algoritmos de <i>trading</i> robustos utilizando a aprendizagem por reforço.</p>"
   ]
  },
  {
   "cell_type": "code",
   "execution_count": 7,
   "metadata": {},
   "outputs": [],
   "source": [
    "# Importando as Bibliotecas\n",
    "import pandas as pd\n",
    "import tensortrade.env.default as default\n",
    "\n",
    "from tensortrade.data.cdd import CryptoDataDownload\n",
    "from tensortrade.feed.core import Stream, DataFeed\n",
    "from tensortrade.oms.exchanges import Exchange\n",
    "from tensortrade.oms.services.execution.simulated import execute_order\n",
    "from tensortrade.oms.instruments import USD, BTC, ETH\n",
    "from tensortrade.oms.wallets import Wallet, Portfolio\n",
    "from tensortrade.agents import DQNAgent"
   ]
  },
  {
   "cell_type": "markdown",
   "metadata": {},
   "source": [
    "<p align='justify'>Estas importações referem-se a serviços de utilidade pública para a troca (simulada), o portifólio e o ambiente. Além disso, existem utilitários para o carregamento e alimentação dos dados na simulação, constantes para a conversão de moeda, e finalmente, há um <i>deep Q-agent</i>, que consiste de uma <i>Deep Q-Network</i>(DQN).</p>"
   ]
  },
  {
   "cell_type": "code",
   "execution_count": 8,
   "metadata": {},
   "outputs": [
    {
     "data": {
      "text/html": [
       "<div>\n",
       "<style scoped>\n",
       "    .dataframe tbody tr th:only-of-type {\n",
       "        vertical-align: middle;\n",
       "    }\n",
       "\n",
       "    .dataframe tbody tr th {\n",
       "        vertical-align: top;\n",
       "    }\n",
       "\n",
       "    .dataframe thead th {\n",
       "        text-align: right;\n",
       "    }\n",
       "</style>\n",
       "<table border=\"1\" class=\"dataframe\">\n",
       "  <thead>\n",
       "    <tr style=\"text-align: right;\">\n",
       "      <th></th>\n",
       "      <th>date</th>\n",
       "      <th>unix</th>\n",
       "      <th>open</th>\n",
       "      <th>high</th>\n",
       "      <th>low</th>\n",
       "      <th>close</th>\n",
       "      <th>volume</th>\n",
       "    </tr>\n",
       "  </thead>\n",
       "  <tbody>\n",
       "    <tr>\n",
       "      <th>0</th>\n",
       "      <td>2018-05-15 06:00:00</td>\n",
       "      <td>1526364000</td>\n",
       "      <td>8733.86</td>\n",
       "      <td>8796.68</td>\n",
       "      <td>8707.28</td>\n",
       "      <td>8740.99</td>\n",
       "      <td>559.93</td>\n",
       "    </tr>\n",
       "    <tr>\n",
       "      <th>1</th>\n",
       "      <td>2018-05-15 07:00:00</td>\n",
       "      <td>1526367600</td>\n",
       "      <td>8740.99</td>\n",
       "      <td>8766.00</td>\n",
       "      <td>8721.11</td>\n",
       "      <td>8739.00</td>\n",
       "      <td>273.58</td>\n",
       "    </tr>\n",
       "    <tr>\n",
       "      <th>2</th>\n",
       "      <td>2018-05-15 08:00:00</td>\n",
       "      <td>1526371200</td>\n",
       "      <td>8739.00</td>\n",
       "      <td>8750.27</td>\n",
       "      <td>8660.53</td>\n",
       "      <td>8728.49</td>\n",
       "      <td>917.79</td>\n",
       "    </tr>\n",
       "    <tr>\n",
       "      <th>3</th>\n",
       "      <td>2018-05-15 09:00:00</td>\n",
       "      <td>1526374800</td>\n",
       "      <td>8728.49</td>\n",
       "      <td>8754.40</td>\n",
       "      <td>8701.35</td>\n",
       "      <td>8708.32</td>\n",
       "      <td>182.62</td>\n",
       "    </tr>\n",
       "    <tr>\n",
       "      <th>4</th>\n",
       "      <td>2018-05-15 10:00:00</td>\n",
       "      <td>1526378400</td>\n",
       "      <td>8708.32</td>\n",
       "      <td>8865.00</td>\n",
       "      <td>8695.11</td>\n",
       "      <td>8795.90</td>\n",
       "      <td>1260.69</td>\n",
       "    </tr>\n",
       "  </tbody>\n",
       "</table>\n",
       "</div>"
      ],
      "text/plain": [
       "                 date        unix     open     high      low    close   volume\n",
       "0 2018-05-15 06:00:00  1526364000  8733.86  8796.68  8707.28  8740.99   559.93\n",
       "1 2018-05-15 07:00:00  1526367600  8740.99  8766.00  8721.11  8739.00   273.58\n",
       "2 2018-05-15 08:00:00  1526371200  8739.00  8750.27  8660.53  8728.49   917.79\n",
       "3 2018-05-15 09:00:00  1526374800  8728.49  8754.40  8701.35  8708.32   182.62\n",
       "4 2018-05-15 10:00:00  1526378400  8708.32  8865.00  8695.11  8795.90  1260.69"
      ]
     },
     "execution_count": 8,
     "metadata": {},
     "output_type": "execute_result"
    }
   ],
   "source": [
    "# Carregando o histórico dos preços de Criptomoedas.\n",
    "\n",
    "cdd = CryptoDataDownload()\n",
    "data = cdd.fetch('Bitstamp', 'USD', 'BTC', '1h')\n",
    "data.head()"
   ]
  },
  {
   "cell_type": "code",
   "execution_count": 9,
   "metadata": {},
   "outputs": [],
   "source": [
    "# Criando indicadores\n",
    "def rsi(price: Stream[float], period: float) -> Stream[float]:\n",
    "    r = price.diff()\n",
    "    upside = r.clamp_min(0).abs()\n",
    "    downside = r.clamp_max(0).abs()\n",
    "    rs = upside.ewm(alpha=1 / period).mean() / downside.ewm(alpha=1 / period).mean()\n",
    "    return 100*(1 - (1 + rs) ** -1)\n",
    "\n",
    "\n",
    "def macd(price: Stream[float], fast: float, slow: float, signal: float) -> Stream[float]:\n",
    "    fm = price.ewm(span=fast, adjust=False).mean()\n",
    "    sm = price.ewm(span=slow, adjust=False).mean()\n",
    "    md = fm - sm\n",
    "    signal = md - md.ewm(span=signal, adjust=False).mean()\n",
    "    return signal## Create features with the feed module\n",
    "\n",
    "# Escolhendo o fechamento dos preços\n",
    "features = []\n",
    "for c in data.columns[1:]:\n",
    "    s = Stream.source(list(data[c]), dtype=\"float\").rename(data[c].name)\n",
    "    features += [s]\n",
    "\n",
    "cp = Stream.select(features, lambda s: s.name == \"close\")\n",
    "\n",
    "# Adicionando 3 características (Indicador de Tendência, RSI, MACD):\n",
    "features = [\n",
    "    cp.log().diff().rename(\"lr\"),\n",
    "    rsi(cp, period=20).rename(\"rsi\"),\n",
    "    macd(cp, fast=10, slow=50, signal=5).rename(\"macd\")\n",
    "]\n",
    "\n",
    "feed = DataFeed(features)\n",
    "feed.compile()"
   ]
  },
  {
   "cell_type": "code",
   "execution_count": 10,
   "metadata": {},
   "outputs": [
    {
     "name": "stdout",
     "output_type": "stream",
     "text": [
      "{'lr': nan, 'rsi': nan, 'macd': 0.0}\n",
      "{'lr': -0.00022768891842694927, 'rsi': 0.0, 'macd': -0.1891859774210995}\n",
      "{'lr': -0.0012033785355889393, 'rsi': 0.0, 'macd': -1.2726616061000744}\n",
      "{'lr': -0.0023134975946028646, 'rsi': 0.0, 'macd': -3.6577343503541435}\n",
      "{'lr': 0.01000681330867259, 'rsi': 74.26253567956897, 'macd': 3.7087743627464844}\n"
     ]
    }
   ],
   "source": [
    "for i in range(5):\n",
    "    print(feed.next())"
   ]
  },
  {
   "cell_type": "markdown",
   "metadata": {},
   "source": [
    "<p align=\"justify\">A <i>Exchange</i> é a interface que nos permitirá executar as ordens. Uma <i>exchange</i> necessita de um nome, um serviço de execução, e um fluxos de dados de preços. Atualmente, o <i>TensorTrade</i> suporta um serviço de execução simulada utilizando dados simulados ou estocásticos.</p>"
   ]
  },
  {
   "cell_type": "code",
   "execution_count": 11,
   "metadata": {},
   "outputs": [],
   "source": [
    "# Criando um borker e um Portifólio\n",
    "bitstamp = Exchange(\"bitstamp\", service=execute_order)(\n",
    "    Stream.source(list(data[\"close\"]), dtype=\"float\").rename(\"USD-BTC\")\n",
    ")\n",
    "\n",
    "portfolio = Portfolio(USD, [\n",
    "    Wallet(bitstamp, 10000 * USD),\n",
    "    Wallet(bitstamp, 10 * BTC)\n",
    "])"
   ]
  },
  {
   "cell_type": "markdown",
   "metadata": {},
   "source": [
    "<p align=\"justify\"> Um portofólio pode ser qualquer combinação de trocas e instrumentos que a troca suporte.</p>"
   ]
  },
  {
   "cell_type": "code",
   "execution_count": 12,
   "metadata": {},
   "outputs": [
    {
     "data": {
      "text/plain": [
       "{'internal': {'bitstamp:/USD-BTC': 8740.99,\n",
       "  'bitstamp:/USD:/free': 10000.0,\n",
       "  'bitstamp:/USD:/locked': 0.0,\n",
       "  'bitstamp:/USD:/total': 10000.0,\n",
       "  'bitstamp:/BTC:/free': 10.0,\n",
       "  'bitstamp:/BTC:/locked': 0.0,\n",
       "  'bitstamp:/BTC:/total': 10.0,\n",
       "  'bitstamp:/BTC:/worth': 87409.9,\n",
       "  'net_worth': 97409.9},\n",
       " 'external': {'lr': nan, 'rsi': nan, 'macd': 0.0},\n",
       " 'renderer': {'date': Timestamp('2018-05-15 06:00:00'),\n",
       "  'open': 8733.86,\n",
       "  'high': 8796.68,\n",
       "  'low': 8707.28,\n",
       "  'close': 8740.99,\n",
       "  'volume': 559.93}}"
      ]
     },
     "execution_count": 12,
     "metadata": {},
     "output_type": "execute_result"
    }
   ],
   "source": [
    "# Renderizar:\n",
    "renderer_feed = DataFeed([\n",
    "    Stream.source(list(data[\"date\"])).rename(\"date\"),\n",
    "    Stream.source(list(data[\"open\"]), dtype=\"float\").rename(\"open\"),\n",
    "    Stream.source(list(data[\"high\"]), dtype=\"float\").rename(\"high\"),\n",
    "    Stream.source(list(data[\"low\"]), dtype=\"float\").rename(\"low\"),\n",
    "    Stream.source(list(data[\"close\"]), dtype=\"float\").rename(\"close\"), \n",
    "    Stream.source(list(data[\"volume\"]), dtype=\"float\").rename(\"volume\") \n",
    "])\n",
    "\n",
    "# O Ambiente de Trading:\n",
    "env = default.create(\n",
    "    portfolio=portfolio,\n",
    "    action_scheme=\"managed-risk\",\n",
    "    reward_scheme=\"risk-adjusted\",\n",
    "    feed=feed,\n",
    "    renderer_feed=renderer_feed,\n",
    "    renderer=default.renderers.PlotlyTradingChart(),\n",
    "    window_size=20\n",
    ")\n",
    "\n",
    "env.observer.feed.next()"
   ]
  },
  {
   "cell_type": "code",
   "execution_count": 13,
   "metadata": {},
   "outputs": [
    {
     "name": "stderr",
     "output_type": "stream",
     "text": [
      "C:\\Users\\willi\\AppData\\Local\\Temp\\ipykernel_18436\\1864819480.py:2: DeprecationWarning: Call to deprecated class DQNAgent. (Builtin agents are being deprecated in favor of external implementations (ie: Ray)) -- Deprecated since version 1.0.4.\n",
      "  agent = DQNAgent(env)\n",
      "C:\\Users\\willi\\anaconda3\\lib\\site-packages\\deprecated\\classic.py:173: DeprecationWarning: Call to deprecated class Agent. (Builtin agents are being deprecated in favor of external implementations (ie: Ray)) -- Deprecated since version 1.0.4.\n",
      "  return old_new1(cls, *args, **kwargs)\n",
      "C:\\Users\\willi\\anaconda3\\lib\\site-packages\\tensortrade\\agents\\dqn_agent.py:304: DeprecationWarning: Call to deprecated class ReplayMemory. (Builtin agents are being deprecated in favor of external implementations (ie: Ray)) -- Deprecated since version 1.0.4.\n",
      "  memory = ReplayMemory(memory_capacity, transition_type=DQNTransition)\n"
     ]
    },
    {
     "name": "stdout",
     "output_type": "stream",
     "text": [
      "====      AGENT ID: 46e73c33-4fe0-4d6c-8619-64ad57ccade4      ====\n"
     ]
    },
    {
     "data": {
      "application/vnd.jupyter.widget-view+json": {
       "model_id": "a46f5e755d6048fca6f2305516d12de0",
       "version_major": 2,
       "version_minor": 0
      },
      "text/plain": [
       "FigureWidget({\n",
       "    'data': [{'name': 'Price',\n",
       "              'showlegend': False,\n",
       "              'type': 'candle…"
      ]
     },
     "metadata": {},
     "output_type": "display_data"
    },
    {
     "data": {
      "application/vnd.plotly.v1+json": {
       "config": {
        "plotlyServerURL": "https://plot.ly"
       },
       "data": [
        {
         "close": [
          8740.99,
          8739,
          8728.49,
          8708.32,
          8795.9,
          8760,
          8760,
          8759.23,
          8517.77,
          8520.3,
          8535.23,
          8546.34,
          8526.65,
          8555.6,
          8512.1,
          8492.28,
          8460,
          8474.99,
          8455.92,
          8326.28,
          8133.43
         ],
         "high": [
          8796.68,
          8766,
          8750.27,
          8754.4,
          8865,
          8821.19,
          8798.6,
          8771.02,
          8761.7,
          8553.67,
          8589.1,
          8579.48,
          8555.51,
          8583.6,
          8569.92,
          8555.54,
          8557.51,
          8505,
          8505.33,
          8478.29,
          8339.81
         ],
         "low": [
          8707.28,
          8721.11,
          8660.53,
          8701.35,
          8695.11,
          8740.54,
          8741.52,
          8700,
          8467.42,
          8477.89,
          8500.78,
          8500,
          8400,
          8451.05,
          8461.38,
          8481.24,
          8420.37,
          8450,
          8430.94,
          8275.02,
          8100.01
         ],
         "name": "Price",
         "open": [
          8733.86,
          8740.99,
          8739,
          8728.49,
          8708.32,
          8795.9,
          8760,
          8760,
          8759.23,
          8517.77,
          8520.3,
          8535.23,
          8546.34,
          8526.65,
          8555.6,
          8512.1,
          8492.28,
          8460,
          8474.99,
          8455.92,
          8326.28
         ],
         "showlegend": false,
         "type": "candlestick",
         "uid": "50305746-acbe-483f-b8bd-5ee326eca239",
         "xaxis": "x",
         "yaxis": "y"
        },
        {
         "marker": {
          "color": "DodgerBlue"
         },
         "name": "Volume",
         "showlegend": false,
         "type": "bar",
         "uid": "0b0694af-d058-44fd-a8e6-b25a9a83e2b0",
         "xaxis": "x2",
         "y": [
          559.93,
          273.58,
          917.79,
          182.62,
          1260.69,
          324.11,
          324.2,
          730.67,
          1341.75,
          792.07,
          385.69,
          475.08,
          877.26,
          670.49,
          610.97,
          168.99,
          305.92,
          136.05,
          154.26,
          1070.93,
          1710.2
         ],
         "yaxis": "y2"
        },
        {
         "mode": "lines",
         "name": "bitstamp:/USD-BTC",
         "type": "scatter",
         "uid": "7633330c-73a6-45ce-bf50-e1d3eb811fe9",
         "xaxis": "x3",
         "y": [
          8740.99,
          8739,
          8728.49,
          8708.32,
          8795.9,
          8760,
          8760,
          8759.23,
          8517.77,
          8520.3,
          8535.23,
          8546.34,
          8526.65,
          8555.6,
          8512.1,
          8492.28,
          8460,
          8474.99,
          8455.92,
          8326.28,
          8133.43
         ],
         "yaxis": "y3"
        },
        {
         "mode": "lines",
         "name": "bitstamp:/USD:/free",
         "type": "scatter",
         "uid": "b7b5fee1-fcd9-4177-863c-64eba3d65df3",
         "xaxis": "x3",
         "y": [
          10000,
          10000,
          10000,
          2000,
          2000,
          2000,
          2000,
          2000,
          2000,
          2000,
          2000,
          2000,
          2000,
          2000,
          2000,
          2000,
          2000,
          2000,
          2000,
          2000,
          9585.64
         ],
         "yaxis": "y3"
        },
        {
         "mode": "lines",
         "name": "bitstamp:/USD:/locked",
         "type": "scatter",
         "uid": "99dd8a26-fe84-43a4-af3c-0c42748827c8",
         "xaxis": "x3",
         "y": [
          0,
          0,
          0,
          0,
          0,
          0,
          0,
          0,
          0,
          0,
          0,
          0,
          0,
          0,
          0,
          0,
          0,
          0,
          0,
          0,
          0
         ],
         "yaxis": "y3"
        },
        {
         "mode": "lines",
         "name": "bitstamp:/USD:/total",
         "type": "scatter",
         "uid": "bc6113cd-7ed0-47a2-b189-fba82d6153a0",
         "xaxis": "x3",
         "y": [
          10000,
          10000,
          10000,
          2000,
          2000,
          2000,
          2000,
          2000,
          2000,
          2000,
          2000,
          2000,
          2000,
          2000,
          2000,
          2000,
          2000,
          2000,
          2000,
          2000,
          9585.64
         ],
         "yaxis": "y3"
        },
        {
         "mode": "lines",
         "name": "bitstamp:/BTC:/free",
         "type": "scatter",
         "uid": "b9fb4513-0222-404a-adfd-0daee901fb10",
         "xaxis": "x3",
         "y": [
          10,
          10,
          10,
          10,
          10,
          10,
          10,
          10,
          10,
          10,
          10,
          10,
          10,
          10,
          10,
          10,
          10,
          10,
          10,
          10,
          10
         ],
         "yaxis": "y3"
        },
        {
         "mode": "lines",
         "name": "bitstamp:/BTC:/locked",
         "type": "scatter",
         "uid": "b528086b-2a60-427d-8bfd-a138812a9361",
         "xaxis": "x3",
         "y": [
          0,
          0,
          0,
          0.91378921,
          0.91378921,
          0.91378921,
          0.91378921,
          0.91378921,
          0.91378921,
          0.91378921,
          0.91378921,
          0.91378921,
          0.91378921,
          0.91378921,
          0.91378921,
          0.91378921,
          0.91378921,
          0.91378921,
          0.91378921,
          0.91378921,
          0
         ],
         "yaxis": "y3"
        },
        {
         "mode": "lines",
         "name": "bitstamp:/BTC:/total",
         "type": "scatter",
         "uid": "2ffc07fd-84ea-4e58-918c-419a185df287",
         "xaxis": "x3",
         "y": [
          10,
          10,
          10,
          10.91378921,
          10.91378921,
          10.91378921,
          10.91378921,
          10.91378921,
          10.91378921,
          10.91378921,
          10.91378921,
          10.91378921,
          10.91378921,
          10.91378921,
          10.91378921,
          10.91378921,
          10.91378921,
          10.91378921,
          10.91378921,
          10.91378921,
          10
         ],
         "yaxis": "y3"
        },
        {
         "mode": "lines",
         "name": "bitstamp:/BTC:/worth",
         "type": "scatter",
         "uid": "66a51bd5-08f5-4308-b164-b740b790d342",
         "xaxis": "x3",
         "y": [
          87409.9,
          87390,
          87284.9,
          95040.76885322719,
          95996.59851223898,
          95604.79347959999,
          95604.79347959999,
          95596.38986190829,
          92961.1463192617,
          92988.75820596298,
          93151.70107886828,
          93272.9532769914,
          93058.06076744648,
          93374.014965076,
          92899.265134441,
          92682.9538322988,
          92330.65671659999,
          92494.25441685789,
          92286.12845662319,
          90871.2648234388,
          81334.3
         ],
         "yaxis": "y3"
        },
        {
         "mode": "lines",
         "name": "net_worth",
         "type": "scatter",
         "uid": "81910362-5a88-461a-9686-2e0579338611",
         "xaxis": "x3",
         "y": [
          97409.9,
          97390,
          97284.9,
          97040.76885322719,
          97996.59851223898,
          97604.79347959999,
          97604.79347959999,
          97596.38986190829,
          94961.1463192617,
          94988.75820596298,
          95151.70107886828,
          95272.9532769914,
          95058.06076744648,
          95374.014965076,
          94899.265134441,
          94682.9538322988,
          94330.65671659999,
          94494.25441685789,
          94286.12845662319,
          92871.2648234388,
          90919.94
         ],
         "yaxis": "y3"
        },
        {
         "marker": {
          "color": "DarkGreen"
         },
         "mode": "lines",
         "name": "Net Worth",
         "type": "scatter",
         "uid": "2a16b7a4-6c62-48f6-86ee-f813f28782f1",
         "xaxis": "x4",
         "y": [
          97409.9,
          97390,
          97284.9,
          97040.76885322719,
          97996.59851223898,
          97604.79347959999,
          97604.79347959999,
          97596.38986190829,
          94961.1463192617,
          94988.75820596298,
          95151.70107886828,
          95272.9532769914,
          95058.06076744648,
          95374.014965076,
          94899.265134441,
          94682.9538322988,
          94330.65671659999,
          94494.25441685789,
          94286.12845662319,
          92871.2648234388,
          90919.94
         ],
         "yaxis": "y4"
        }
       ],
       "layout": {
        "annotations": [
         {
          "arrowcolor": "FireBrick",
          "arrowhead": 2,
          "arrowsize": 0.8,
          "arrowwidth": 4,
          "ax": 0,
          "ay": -15,
          "hoverlabel": {
           "bgcolor": "FireBrick"
          },
          "hovertext": "Step 20 [2018-05-16 01:00:00]<br>SELL 0.91104784 BTC @ 8326.28 USD MARKET<br>Total: 7585.64 USD - Comm.: 0.00274137 BTC",
          "opacity": 0.6,
          "showarrow": true,
          "x": 19,
          "xref": "x",
          "y": 8326.28,
          "yref": "y"
         },
         {
          "arrowcolor": "DarkGreen",
          "arrowhead": 2,
          "arrowsize": 0.8,
          "arrowwidth": 4,
          "ax": 0,
          "ay": 15,
          "hoverlabel": {
           "bgcolor": "DarkGreen"
          },
          "hovertext": "Step 3 [2018-05-15 08:00:00]<br>BUY 0.91378921 BTC @ 8728.49 USD MARKET<br>Total: 7976.0 USD - Comm.: 24.00 USD",
          "opacity": 0.6,
          "showarrow": true,
          "x": 2,
          "xref": "x",
          "y": 8728.49,
          "yref": "y"
         }
        ],
        "margin": {
         "t": 50
        },
        "template": {
         "data": {
          "bar": [
           {
            "error_x": {
             "color": "#2a3f5f"
            },
            "error_y": {
             "color": "#2a3f5f"
            },
            "marker": {
             "line": {
              "color": "white",
              "width": 0.5
             },
             "pattern": {
              "fillmode": "overlay",
              "size": 10,
              "solidity": 0.2
             }
            },
            "type": "bar"
           }
          ],
          "barpolar": [
           {
            "marker": {
             "line": {
              "color": "white",
              "width": 0.5
             },
             "pattern": {
              "fillmode": "overlay",
              "size": 10,
              "solidity": 0.2
             }
            },
            "type": "barpolar"
           }
          ],
          "carpet": [
           {
            "aaxis": {
             "endlinecolor": "#2a3f5f",
             "gridcolor": "#C8D4E3",
             "linecolor": "#C8D4E3",
             "minorgridcolor": "#C8D4E3",
             "startlinecolor": "#2a3f5f"
            },
            "baxis": {
             "endlinecolor": "#2a3f5f",
             "gridcolor": "#C8D4E3",
             "linecolor": "#C8D4E3",
             "minorgridcolor": "#C8D4E3",
             "startlinecolor": "#2a3f5f"
            },
            "type": "carpet"
           }
          ],
          "choropleth": [
           {
            "colorbar": {
             "outlinewidth": 0,
             "ticks": ""
            },
            "type": "choropleth"
           }
          ],
          "contour": [
           {
            "colorbar": {
             "outlinewidth": 0,
             "ticks": ""
            },
            "colorscale": [
             [
              0,
              "#0d0887"
             ],
             [
              0.1111111111111111,
              "#46039f"
             ],
             [
              0.2222222222222222,
              "#7201a8"
             ],
             [
              0.3333333333333333,
              "#9c179e"
             ],
             [
              0.4444444444444444,
              "#bd3786"
             ],
             [
              0.5555555555555556,
              "#d8576b"
             ],
             [
              0.6666666666666666,
              "#ed7953"
             ],
             [
              0.7777777777777778,
              "#fb9f3a"
             ],
             [
              0.8888888888888888,
              "#fdca26"
             ],
             [
              1,
              "#f0f921"
             ]
            ],
            "type": "contour"
           }
          ],
          "contourcarpet": [
           {
            "colorbar": {
             "outlinewidth": 0,
             "ticks": ""
            },
            "type": "contourcarpet"
           }
          ],
          "heatmap": [
           {
            "colorbar": {
             "outlinewidth": 0,
             "ticks": ""
            },
            "colorscale": [
             [
              0,
              "#0d0887"
             ],
             [
              0.1111111111111111,
              "#46039f"
             ],
             [
              0.2222222222222222,
              "#7201a8"
             ],
             [
              0.3333333333333333,
              "#9c179e"
             ],
             [
              0.4444444444444444,
              "#bd3786"
             ],
             [
              0.5555555555555556,
              "#d8576b"
             ],
             [
              0.6666666666666666,
              "#ed7953"
             ],
             [
              0.7777777777777778,
              "#fb9f3a"
             ],
             [
              0.8888888888888888,
              "#fdca26"
             ],
             [
              1,
              "#f0f921"
             ]
            ],
            "type": "heatmap"
           }
          ],
          "heatmapgl": [
           {
            "colorbar": {
             "outlinewidth": 0,
             "ticks": ""
            },
            "colorscale": [
             [
              0,
              "#0d0887"
             ],
             [
              0.1111111111111111,
              "#46039f"
             ],
             [
              0.2222222222222222,
              "#7201a8"
             ],
             [
              0.3333333333333333,
              "#9c179e"
             ],
             [
              0.4444444444444444,
              "#bd3786"
             ],
             [
              0.5555555555555556,
              "#d8576b"
             ],
             [
              0.6666666666666666,
              "#ed7953"
             ],
             [
              0.7777777777777778,
              "#fb9f3a"
             ],
             [
              0.8888888888888888,
              "#fdca26"
             ],
             [
              1,
              "#f0f921"
             ]
            ],
            "type": "heatmapgl"
           }
          ],
          "histogram": [
           {
            "marker": {
             "pattern": {
              "fillmode": "overlay",
              "size": 10,
              "solidity": 0.2
             }
            },
            "type": "histogram"
           }
          ],
          "histogram2d": [
           {
            "colorbar": {
             "outlinewidth": 0,
             "ticks": ""
            },
            "colorscale": [
             [
              0,
              "#0d0887"
             ],
             [
              0.1111111111111111,
              "#46039f"
             ],
             [
              0.2222222222222222,
              "#7201a8"
             ],
             [
              0.3333333333333333,
              "#9c179e"
             ],
             [
              0.4444444444444444,
              "#bd3786"
             ],
             [
              0.5555555555555556,
              "#d8576b"
             ],
             [
              0.6666666666666666,
              "#ed7953"
             ],
             [
              0.7777777777777778,
              "#fb9f3a"
             ],
             [
              0.8888888888888888,
              "#fdca26"
             ],
             [
              1,
              "#f0f921"
             ]
            ],
            "type": "histogram2d"
           }
          ],
          "histogram2dcontour": [
           {
            "colorbar": {
             "outlinewidth": 0,
             "ticks": ""
            },
            "colorscale": [
             [
              0,
              "#0d0887"
             ],
             [
              0.1111111111111111,
              "#46039f"
             ],
             [
              0.2222222222222222,
              "#7201a8"
             ],
             [
              0.3333333333333333,
              "#9c179e"
             ],
             [
              0.4444444444444444,
              "#bd3786"
             ],
             [
              0.5555555555555556,
              "#d8576b"
             ],
             [
              0.6666666666666666,
              "#ed7953"
             ],
             [
              0.7777777777777778,
              "#fb9f3a"
             ],
             [
              0.8888888888888888,
              "#fdca26"
             ],
             [
              1,
              "#f0f921"
             ]
            ],
            "type": "histogram2dcontour"
           }
          ],
          "mesh3d": [
           {
            "colorbar": {
             "outlinewidth": 0,
             "ticks": ""
            },
            "type": "mesh3d"
           }
          ],
          "parcoords": [
           {
            "line": {
             "colorbar": {
              "outlinewidth": 0,
              "ticks": ""
             }
            },
            "type": "parcoords"
           }
          ],
          "pie": [
           {
            "automargin": true,
            "type": "pie"
           }
          ],
          "scatter": [
           {
            "marker": {
             "colorbar": {
              "outlinewidth": 0,
              "ticks": ""
             }
            },
            "type": "scatter"
           }
          ],
          "scatter3d": [
           {
            "line": {
             "colorbar": {
              "outlinewidth": 0,
              "ticks": ""
             }
            },
            "marker": {
             "colorbar": {
              "outlinewidth": 0,
              "ticks": ""
             }
            },
            "type": "scatter3d"
           }
          ],
          "scattercarpet": [
           {
            "marker": {
             "colorbar": {
              "outlinewidth": 0,
              "ticks": ""
             }
            },
            "type": "scattercarpet"
           }
          ],
          "scattergeo": [
           {
            "marker": {
             "colorbar": {
              "outlinewidth": 0,
              "ticks": ""
             }
            },
            "type": "scattergeo"
           }
          ],
          "scattergl": [
           {
            "marker": {
             "colorbar": {
              "outlinewidth": 0,
              "ticks": ""
             }
            },
            "type": "scattergl"
           }
          ],
          "scattermapbox": [
           {
            "marker": {
             "colorbar": {
              "outlinewidth": 0,
              "ticks": ""
             }
            },
            "type": "scattermapbox"
           }
          ],
          "scatterpolar": [
           {
            "marker": {
             "colorbar": {
              "outlinewidth": 0,
              "ticks": ""
             }
            },
            "type": "scatterpolar"
           }
          ],
          "scatterpolargl": [
           {
            "marker": {
             "colorbar": {
              "outlinewidth": 0,
              "ticks": ""
             }
            },
            "type": "scatterpolargl"
           }
          ],
          "scatterternary": [
           {
            "marker": {
             "colorbar": {
              "outlinewidth": 0,
              "ticks": ""
             }
            },
            "type": "scatterternary"
           }
          ],
          "surface": [
           {
            "colorbar": {
             "outlinewidth": 0,
             "ticks": ""
            },
            "colorscale": [
             [
              0,
              "#0d0887"
             ],
             [
              0.1111111111111111,
              "#46039f"
             ],
             [
              0.2222222222222222,
              "#7201a8"
             ],
             [
              0.3333333333333333,
              "#9c179e"
             ],
             [
              0.4444444444444444,
              "#bd3786"
             ],
             [
              0.5555555555555556,
              "#d8576b"
             ],
             [
              0.6666666666666666,
              "#ed7953"
             ],
             [
              0.7777777777777778,
              "#fb9f3a"
             ],
             [
              0.8888888888888888,
              "#fdca26"
             ],
             [
              1,
              "#f0f921"
             ]
            ],
            "type": "surface"
           }
          ],
          "table": [
           {
            "cells": {
             "fill": {
              "color": "#EBF0F8"
             },
             "line": {
              "color": "white"
             }
            },
            "header": {
             "fill": {
              "color": "#C8D4E3"
             },
             "line": {
              "color": "white"
             }
            },
            "type": "table"
           }
          ]
         },
         "layout": {
          "annotationdefaults": {
           "arrowcolor": "#2a3f5f",
           "arrowhead": 0,
           "arrowwidth": 1
          },
          "autotypenumbers": "strict",
          "coloraxis": {
           "colorbar": {
            "outlinewidth": 0,
            "ticks": ""
           }
          },
          "colorscale": {
           "diverging": [
            [
             0,
             "#8e0152"
            ],
            [
             0.1,
             "#c51b7d"
            ],
            [
             0.2,
             "#de77ae"
            ],
            [
             0.3,
             "#f1b6da"
            ],
            [
             0.4,
             "#fde0ef"
            ],
            [
             0.5,
             "#f7f7f7"
            ],
            [
             0.6,
             "#e6f5d0"
            ],
            [
             0.7,
             "#b8e186"
            ],
            [
             0.8,
             "#7fbc41"
            ],
            [
             0.9,
             "#4d9221"
            ],
            [
             1,
             "#276419"
            ]
           ],
           "sequential": [
            [
             0,
             "#0d0887"
            ],
            [
             0.1111111111111111,
             "#46039f"
            ],
            [
             0.2222222222222222,
             "#7201a8"
            ],
            [
             0.3333333333333333,
             "#9c179e"
            ],
            [
             0.4444444444444444,
             "#bd3786"
            ],
            [
             0.5555555555555556,
             "#d8576b"
            ],
            [
             0.6666666666666666,
             "#ed7953"
            ],
            [
             0.7777777777777778,
             "#fb9f3a"
            ],
            [
             0.8888888888888888,
             "#fdca26"
            ],
            [
             1,
             "#f0f921"
            ]
           ],
           "sequentialminus": [
            [
             0,
             "#0d0887"
            ],
            [
             0.1111111111111111,
             "#46039f"
            ],
            [
             0.2222222222222222,
             "#7201a8"
            ],
            [
             0.3333333333333333,
             "#9c179e"
            ],
            [
             0.4444444444444444,
             "#bd3786"
            ],
            [
             0.5555555555555556,
             "#d8576b"
            ],
            [
             0.6666666666666666,
             "#ed7953"
            ],
            [
             0.7777777777777778,
             "#fb9f3a"
            ],
            [
             0.8888888888888888,
             "#fdca26"
            ],
            [
             1,
             "#f0f921"
            ]
           ]
          },
          "colorway": [
           "#636efa",
           "#EF553B",
           "#00cc96",
           "#ab63fa",
           "#FFA15A",
           "#19d3f3",
           "#FF6692",
           "#B6E880",
           "#FF97FF",
           "#FECB52"
          ],
          "font": {
           "color": "#2a3f5f"
          },
          "geo": {
           "bgcolor": "white",
           "lakecolor": "white",
           "landcolor": "white",
           "showlakes": true,
           "showland": true,
           "subunitcolor": "#C8D4E3"
          },
          "hoverlabel": {
           "align": "left"
          },
          "hovermode": "closest",
          "mapbox": {
           "style": "light"
          },
          "paper_bgcolor": "white",
          "plot_bgcolor": "white",
          "polar": {
           "angularaxis": {
            "gridcolor": "#EBF0F8",
            "linecolor": "#EBF0F8",
            "ticks": ""
           },
           "bgcolor": "white",
           "radialaxis": {
            "gridcolor": "#EBF0F8",
            "linecolor": "#EBF0F8",
            "ticks": ""
           }
          },
          "scene": {
           "xaxis": {
            "backgroundcolor": "white",
            "gridcolor": "#DFE8F3",
            "gridwidth": 2,
            "linecolor": "#EBF0F8",
            "showbackground": true,
            "ticks": "",
            "zerolinecolor": "#EBF0F8"
           },
           "yaxis": {
            "backgroundcolor": "white",
            "gridcolor": "#DFE8F3",
            "gridwidth": 2,
            "linecolor": "#EBF0F8",
            "showbackground": true,
            "ticks": "",
            "zerolinecolor": "#EBF0F8"
           },
           "zaxis": {
            "backgroundcolor": "white",
            "gridcolor": "#DFE8F3",
            "gridwidth": 2,
            "linecolor": "#EBF0F8",
            "showbackground": true,
            "ticks": "",
            "zerolinecolor": "#EBF0F8"
           }
          },
          "shapedefaults": {
           "line": {
            "color": "#2a3f5f"
           }
          },
          "ternary": {
           "aaxis": {
            "gridcolor": "#DFE8F3",
            "linecolor": "#A2B1C6",
            "ticks": ""
           },
           "baxis": {
            "gridcolor": "#DFE8F3",
            "linecolor": "#A2B1C6",
            "ticks": ""
           },
           "bgcolor": "white",
           "caxis": {
            "gridcolor": "#DFE8F3",
            "linecolor": "#A2B1C6",
            "ticks": ""
           }
          },
          "title": {
           "x": 0.05
          },
          "xaxis": {
           "automargin": true,
           "gridcolor": "#EBF0F8",
           "linecolor": "#EBF0F8",
           "ticks": "",
           "title": {
            "standoff": 15
           },
           "zerolinecolor": "#EBF0F8",
           "zerolinewidth": 2
          },
          "yaxis": {
           "automargin": true,
           "gridcolor": "#EBF0F8",
           "linecolor": "#EBF0F8",
           "ticks": "",
           "title": {
            "standoff": 15
           },
           "zerolinecolor": "#EBF0F8",
           "zerolinewidth": 2
          }
         }
        },
        "title": {
         "text": "[2022-04-10 00:08:16] Episode: 2/2 Step: 21/200"
        },
        "xaxis": {
         "anchor": "y",
         "domain": [
          0,
          1
         ],
         "gridcolor": "Gainsboro",
         "linecolor": "Grey",
         "matches": "x4",
         "rangeslider": {
          "visible": false
         },
         "showticklabels": false,
         "title": {
          "font": {
           "size": 12
          },
          "standoff": 7,
          "text": "Price"
         }
        },
        "xaxis2": {
         "anchor": "y2",
         "domain": [
          0,
          1
         ],
         "gridcolor": "Gainsboro",
         "linecolor": "Grey",
         "matches": "x4",
         "showticklabels": false,
         "title": {
          "font": {
           "size": 12
          },
          "standoff": 7,
          "text": "Volume"
         }
        },
        "xaxis3": {
         "anchor": "y3",
         "domain": [
          0,
          1
         ],
         "gridcolor": "Gainsboro",
         "linecolor": "Grey",
         "matches": "x4",
         "showticklabels": false,
         "title": {
          "font": {
           "size": 12
          },
          "standoff": 7,
          "text": "Performance"
         }
        },
        "xaxis4": {
         "anchor": "y4",
         "domain": [
          0,
          1
         ],
         "gridcolor": "Gainsboro",
         "linecolor": "Grey",
         "title": {
          "font": {
           "size": 12
          },
          "standoff": 7,
          "text": "Net Worth"
         }
        },
        "yaxis": {
         "anchor": "x",
         "domain": [
          0.49950000000000006,
          1
         ],
         "gridcolor": "Gainsboro",
         "linecolor": "Grey"
        },
        "yaxis2": {
         "anchor": "x2",
         "domain": [
          0.333,
          0.46950000000000003
         ],
         "gridcolor": "Gainsboro",
         "linecolor": "Grey"
        },
        "yaxis3": {
         "anchor": "x3",
         "domain": [
          0.1665,
          0.30300000000000005
         ],
         "gridcolor": "Gainsboro",
         "linecolor": "Grey"
        },
        "yaxis4": {
         "anchor": "x4",
         "domain": [
          0,
          0.1365
         ],
         "gridcolor": "Gainsboro",
         "linecolor": "Grey"
        }
       }
      }
     },
     "metadata": {},
     "output_type": "display_data"
    },
    {
     "data": {
      "application/vnd.jupyter.widget-view+json": {
       "model_id": "a46f5e755d6048fca6f2305516d12de0",
       "version_major": 2,
       "version_minor": 0
      },
      "text/plain": [
       "FigureWidget({\n",
       "    'data': [{'close': array([8740.99, 8739.  , 8728.49, 8708.32, 8795.9 , 8760.  , 8760.  , 87…"
      ]
     },
     "metadata": {},
     "output_type": "display_data"
    },
    {
     "data": {
      "application/vnd.plotly.v1+json": {
       "config": {
        "plotlyServerURL": "https://plot.ly"
       },
       "data": [
        {
         "close": [
          8740.99,
          8739,
          8728.49,
          8708.32,
          8795.9,
          8760,
          8760,
          8759.23,
          8517.77,
          8520.3,
          8535.23,
          8546.34,
          8526.65,
          8555.6,
          8512.1,
          8492.28,
          8460,
          8474.99,
          8455.92,
          8326.28,
          8133.43,
          8164.79,
          8229.38,
          8220.4,
          8238.8,
          8232.99,
          8207.48,
          8243.45,
          8371.13,
          8373,
          8365.08,
          8179.99,
          8225,
          8285.8,
          8273.4,
          8297.4,
          8279.89,
          8252.72,
          8302.18,
          8295.85,
          8277.25
         ],
         "high": [
          8796.68,
          8766,
          8750.27,
          8754.4,
          8865,
          8821.19,
          8798.6,
          8771.02,
          8761.7,
          8553.67,
          8589.1,
          8579.48,
          8555.51,
          8583.6,
          8569.92,
          8555.54,
          8557.51,
          8505,
          8505.33,
          8478.29,
          8339.81,
          8217.44,
          8252.72,
          8248.63,
          8267.12,
          8255,
          8261.24,
          8263.93,
          8455.66,
          8439.44,
          8399.1,
          8381.73,
          8229.91,
          8377.29,
          8329.1,
          8350,
          8346.95,
          8377.29,
          8311.35,
          8319.96,
          8398.24
         ],
         "low": [
          8707.28,
          8721.11,
          8660.53,
          8701.35,
          8695.11,
          8740.54,
          8741.52,
          8700,
          8467.42,
          8477.89,
          8500.78,
          8500,
          8400,
          8451.05,
          8461.38,
          8481.24,
          8420.37,
          8450,
          8430.94,
          8275.02,
          8100.01,
          8122.56,
          8157.01,
          8166.25,
          8176.91,
          8213.79,
          8200,
          8207.48,
          8237.1,
          8370,
          8356.4,
          8145.1,
          8173.6,
          8211.8,
          8201,
          8250.9,
          8266.46,
          8252.72,
          8232.14,
          8268.37,
          8277.25
         ],
         "name": "Price",
         "open": [
          8733.86,
          8740.99,
          8739,
          8728.49,
          8708.32,
          8795.9,
          8760,
          8760,
          8759.23,
          8517.77,
          8520.3,
          8535.23,
          8546.34,
          8526.65,
          8555.6,
          8512.1,
          8492.28,
          8460,
          8474.99,
          8455.92,
          8326.28,
          8133.43,
          8164.79,
          8229.38,
          8220.4,
          8238.8,
          8232.99,
          8207.48,
          8243.45,
          8371.13,
          8373,
          8365.08,
          8179.99,
          8225,
          8285.8,
          8273.4,
          8297.4,
          8279.89,
          8252.72,
          8302.18,
          8295.85
         ],
         "showlegend": false,
         "type": "candlestick",
         "uid": "50305746-acbe-483f-b8bd-5ee326eca239",
         "xaxis": "x",
         "yaxis": "y"
        },
        {
         "marker": {
          "color": "DodgerBlue"
         },
         "name": "Volume",
         "showlegend": false,
         "type": "bar",
         "uid": "0b0694af-d058-44fd-a8e6-b25a9a83e2b0",
         "xaxis": "x2",
         "y": [
          559.93,
          273.58,
          917.79,
          182.62,
          1260.69,
          324.11,
          324.2,
          730.67,
          1341.75,
          792.07,
          385.69,
          475.08,
          877.26,
          670.49,
          610.97,
          168.99,
          305.92,
          136.05,
          154.26,
          1070.93,
          1710.2,
          492.8,
          630.72,
          620.93,
          586.34,
          304.52,
          450.97,
          182.36,
          915.32,
          319.29,
          362.01,
          1046.38,
          357.91,
          561.2,
          322.53,
          1073.71,
          237.21,
          251.2,
          359.73,
          117.23,
          363.17
         ],
         "yaxis": "y2"
        },
        {
         "mode": "lines",
         "name": "bitstamp:/USD-BTC",
         "type": "scatter",
         "uid": "7633330c-73a6-45ce-bf50-e1d3eb811fe9",
         "xaxis": "x3",
         "y": [
          8740.99,
          8739,
          8728.49,
          8708.32,
          8795.9,
          8760,
          8760,
          8759.23,
          8517.77,
          8520.3,
          8535.23,
          8546.34,
          8526.65,
          8555.6,
          8512.1,
          8492.28,
          8460,
          8474.99,
          8455.92,
          8326.28,
          8133.43,
          8164.79,
          8229.38,
          8220.4,
          8238.8,
          8232.99,
          8207.48,
          8243.45,
          8371.13,
          8373,
          8365.08,
          8179.99,
          8225,
          8285.8,
          8273.4,
          8297.4,
          8279.89,
          8252.72,
          8302.18,
          8295.85,
          8277.25
         ],
         "yaxis": "y3"
        },
        {
         "mode": "lines",
         "name": "bitstamp:/USD:/free",
         "type": "scatter",
         "uid": "b7b5fee1-fcd9-4177-863c-64eba3d65df3",
         "xaxis": "x3",
         "y": [
          10000,
          10000,
          10000,
          2000,
          2000,
          2000,
          2000,
          2000,
          2000,
          2000,
          2000,
          2000,
          2000,
          2000,
          2000,
          2000,
          2000,
          2000,
          2000,
          2000,
          9585.64,
          9585.64,
          9585.64,
          9585.64,
          9585.64,
          1917.13,
          1917.13,
          1917.13,
          1917.13,
          9662.13,
          9662.13,
          9662.13,
          9662.13,
          9662.13,
          9662.13,
          9662.13,
          9662.13,
          9662.13,
          9662.13,
          9662.13,
          9662.13
         ],
         "yaxis": "y3"
        },
        {
         "mode": "lines",
         "name": "bitstamp:/USD:/locked",
         "type": "scatter",
         "uid": "99dd8a26-fe84-43a4-af3c-0c42748827c8",
         "xaxis": "x3",
         "y": [
          0,
          0,
          0,
          0,
          0,
          0,
          0,
          0,
          0,
          0,
          0,
          0,
          0,
          0,
          0,
          0,
          0,
          0,
          0,
          0,
          0,
          0,
          0,
          0,
          0,
          0,
          0,
          0,
          0,
          0,
          0,
          0,
          0,
          0,
          0,
          0,
          0,
          0,
          0,
          0,
          0
         ],
         "yaxis": "y3"
        },
        {
         "mode": "lines",
         "name": "bitstamp:/USD:/total",
         "type": "scatter",
         "uid": "bc6113cd-7ed0-47a2-b189-fba82d6153a0",
         "xaxis": "x3",
         "y": [
          10000,
          10000,
          10000,
          2000,
          2000,
          2000,
          2000,
          2000,
          2000,
          2000,
          2000,
          2000,
          2000,
          2000,
          2000,
          2000,
          2000,
          2000,
          2000,
          2000,
          9585.64,
          9585.64,
          9585.64,
          9585.64,
          9585.64,
          1917.13,
          1917.13,
          1917.13,
          1917.13,
          9662.13,
          9662.13,
          9662.13,
          9662.13,
          9662.13,
          9662.13,
          9662.13,
          9662.13,
          9662.13,
          9662.13,
          9662.13,
          9662.13
         ],
         "yaxis": "y3"
        },
        {
         "mode": "lines",
         "name": "bitstamp:/BTC:/free",
         "type": "scatter",
         "uid": "b9fb4513-0222-404a-adfd-0daee901fb10",
         "xaxis": "x3",
         "y": [
          10,
          10,
          10,
          10,
          10,
          10,
          10,
          10,
          10,
          10,
          10,
          10,
          10,
          10,
          10,
          10,
          10,
          10,
          10,
          10,
          10,
          10,
          10,
          10,
          10,
          10,
          10,
          10,
          10,
          10,
          10,
          10,
          10,
          10,
          10,
          10,
          10,
          10,
          10,
          10,
          10
         ],
         "yaxis": "y3"
        },
        {
         "mode": "lines",
         "name": "bitstamp:/BTC:/locked",
         "type": "scatter",
         "uid": "b528086b-2a60-427d-8bfd-a138812a9361",
         "xaxis": "x3",
         "y": [
          0,
          0,
          0,
          0.91378921,
          0.91378921,
          0.91378921,
          0.91378921,
          0.91378921,
          0.91378921,
          0.91378921,
          0.91378921,
          0.91378921,
          0.91378921,
          0.91378921,
          0.91378921,
          0.91378921,
          0.91378921,
          0.91378921,
          0.91378921,
          0.91378921,
          0,
          0,
          0,
          0,
          0,
          0.92798709,
          0.92798709,
          0.92798709,
          0.92798709,
          0,
          0,
          0,
          0,
          0,
          0,
          0,
          0,
          0,
          0,
          0,
          0
         ],
         "yaxis": "y3"
        },
        {
         "mode": "lines",
         "name": "bitstamp:/BTC:/total",
         "type": "scatter",
         "uid": "2ffc07fd-84ea-4e58-918c-419a185df287",
         "xaxis": "x3",
         "y": [
          10,
          10,
          10,
          10.91378921,
          10.91378921,
          10.91378921,
          10.91378921,
          10.91378921,
          10.91378921,
          10.91378921,
          10.91378921,
          10.91378921,
          10.91378921,
          10.91378921,
          10.91378921,
          10.91378921,
          10.91378921,
          10.91378921,
          10.91378921,
          10.91378921,
          10,
          10,
          10,
          10,
          10,
          10.92798709,
          10.92798709,
          10.92798709,
          10.92798709,
          10,
          10,
          10,
          10,
          10,
          10,
          10,
          10,
          10,
          10,
          10,
          10
         ],
         "yaxis": "y3"
        },
        {
         "mode": "lines",
         "name": "bitstamp:/BTC:/worth",
         "type": "scatter",
         "uid": "66a51bd5-08f5-4308-b164-b740b790d342",
         "xaxis": "x3",
         "y": [
          87409.9,
          87390,
          87284.9,
          95040.76885322719,
          95996.59851223898,
          95604.79347959999,
          95604.79347959999,
          95596.38986190829,
          92961.1463192617,
          92988.75820596298,
          93151.70107886828,
          93272.9532769914,
          93058.06076744648,
          93374.014965076,
          92899.265134441,
          92682.9538322988,
          92330.65671659999,
          92494.25441685789,
          92286.12845662319,
          90871.2648234388,
          81334.3,
          81647.9,
          82293.79999999999,
          82204,
          82388,
          89970.0084320991,
          89691.23548143319,
          90084.3151770605,
          91479.6005687117,
          83730,
          83650.8,
          81799.9,
          82250,
          82858,
          82734,
          82974,
          82798.9,
          82527.2,
          83021.8,
          82958.5,
          82772.5
         ],
         "yaxis": "y3"
        },
        {
         "mode": "lines",
         "name": "net_worth",
         "type": "scatter",
         "uid": "81910362-5a88-461a-9686-2e0579338611",
         "xaxis": "x3",
         "y": [
          97409.9,
          97390,
          97284.9,
          97040.76885322719,
          97996.59851223898,
          97604.79347959999,
          97604.79347959999,
          97596.38986190829,
          94961.1463192617,
          94988.75820596298,
          95151.70107886828,
          95272.9532769914,
          95058.06076744648,
          95374.014965076,
          94899.265134441,
          94682.9538322988,
          94330.65671659999,
          94494.25441685789,
          94286.12845662319,
          92871.2648234388,
          90919.94,
          91233.54,
          91879.43999999999,
          91789.64,
          91973.64,
          91887.1384320991,
          91608.3654814332,
          92001.44517706051,
          93396.7305687117,
          93392.13,
          93312.93000000001,
          91462.03,
          91912.13,
          92520.13,
          92396.13,
          92636.13,
          92461.03,
          92189.33,
          92683.93000000001,
          92620.63,
          92434.63
         ],
         "yaxis": "y3"
        },
        {
         "marker": {
          "color": "DarkGreen"
         },
         "mode": "lines",
         "name": "Net Worth",
         "type": "scatter",
         "uid": "2a16b7a4-6c62-48f6-86ee-f813f28782f1",
         "xaxis": "x4",
         "y": [
          97409.9,
          97390,
          97284.9,
          97040.76885322719,
          97996.59851223898,
          97604.79347959999,
          97604.79347959999,
          97596.38986190829,
          94961.1463192617,
          94988.75820596298,
          95151.70107886828,
          95272.9532769914,
          95058.06076744648,
          95374.014965076,
          94899.265134441,
          94682.9538322988,
          94330.65671659999,
          94494.25441685789,
          94286.12845662319,
          92871.2648234388,
          90919.94,
          91233.54,
          91879.43999999999,
          91789.64,
          91973.64,
          91887.1384320991,
          91608.3654814332,
          92001.44517706051,
          93396.7305687117,
          93392.13,
          93312.93000000001,
          91462.03,
          91912.13,
          92520.13,
          92396.13,
          92636.13,
          92461.03,
          92189.33,
          92683.93000000001,
          92620.63,
          92434.63
         ],
         "yaxis": "y4"
        }
       ],
       "layout": {
        "annotations": [
         {
          "arrowcolor": "FireBrick",
          "arrowhead": 2,
          "arrowsize": 0.8,
          "arrowwidth": 4,
          "ax": 0,
          "ay": -15,
          "hoverlabel": {
           "bgcolor": "FireBrick"
          },
          "hovertext": "Step 20 [2018-05-16 01:00:00]<br>SELL 0.91104784 BTC @ 8326.28 USD MARKET<br>Total: 7585.64 USD - Comm.: 0.00274137 BTC",
          "opacity": 0.6,
          "showarrow": true,
          "x": 19,
          "xref": "x",
          "y": 8326.28,
          "yref": "y"
         },
         {
          "arrowcolor": "DarkGreen",
          "arrowhead": 2,
          "arrowsize": 0.8,
          "arrowwidth": 4,
          "ax": 0,
          "ay": 15,
          "hoverlabel": {
           "bgcolor": "DarkGreen"
          },
          "hovertext": "Step 3 [2018-05-15 08:00:00]<br>BUY 0.91378921 BTC @ 8728.49 USD MARKET<br>Total: 7976.0 USD - Comm.: 24.00 USD",
          "opacity": 0.6,
          "showarrow": true,
          "x": 2,
          "xref": "x",
          "y": 8728.49,
          "yref": "y"
         },
         {
          "arrowcolor": "FireBrick",
          "arrowhead": 2,
          "arrowsize": 0.8,
          "arrowwidth": 4,
          "ax": 0,
          "ay": -15,
          "hoverlabel": {
           "bgcolor": "FireBrick"
          },
          "hovertext": "Step 29 [2018-05-16 10:00:00]<br>SELL 0.92520313 BTC @ 8371.13 USD MARKET<br>Total: 7745.0 USD - Comm.: 0.00278396 BTC",
          "opacity": 0.6,
          "showarrow": true,
          "x": 28,
          "xref": "x",
          "y": 8371.13,
          "yref": "y"
         },
         {
          "arrowcolor": "DarkGreen",
          "arrowhead": 2,
          "arrowsize": 0.8,
          "arrowwidth": 4,
          "ax": 0,
          "ay": 15,
          "hoverlabel": {
           "bgcolor": "DarkGreen"
          },
          "hovertext": "Step 25 [2018-05-16 06:00:00]<br>BUY 0.92798709 BTC @ 8238.8 USD MARKET<br>Total: 7645.5 USD - Comm.: 23.01 USD",
          "opacity": 0.6,
          "showarrow": true,
          "x": 24,
          "xref": "x",
          "y": 8238.8,
          "yref": "y"
         }
        ],
        "margin": {
         "t": 50
        },
        "template": {
         "data": {
          "bar": [
           {
            "error_x": {
             "color": "#2a3f5f"
            },
            "error_y": {
             "color": "#2a3f5f"
            },
            "marker": {
             "line": {
              "color": "white",
              "width": 0.5
             },
             "pattern": {
              "fillmode": "overlay",
              "size": 10,
              "solidity": 0.2
             }
            },
            "type": "bar"
           }
          ],
          "barpolar": [
           {
            "marker": {
             "line": {
              "color": "white",
              "width": 0.5
             },
             "pattern": {
              "fillmode": "overlay",
              "size": 10,
              "solidity": 0.2
             }
            },
            "type": "barpolar"
           }
          ],
          "carpet": [
           {
            "aaxis": {
             "endlinecolor": "#2a3f5f",
             "gridcolor": "#C8D4E3",
             "linecolor": "#C8D4E3",
             "minorgridcolor": "#C8D4E3",
             "startlinecolor": "#2a3f5f"
            },
            "baxis": {
             "endlinecolor": "#2a3f5f",
             "gridcolor": "#C8D4E3",
             "linecolor": "#C8D4E3",
             "minorgridcolor": "#C8D4E3",
             "startlinecolor": "#2a3f5f"
            },
            "type": "carpet"
           }
          ],
          "choropleth": [
           {
            "colorbar": {
             "outlinewidth": 0,
             "ticks": ""
            },
            "type": "choropleth"
           }
          ],
          "contour": [
           {
            "colorbar": {
             "outlinewidth": 0,
             "ticks": ""
            },
            "colorscale": [
             [
              0,
              "#0d0887"
             ],
             [
              0.1111111111111111,
              "#46039f"
             ],
             [
              0.2222222222222222,
              "#7201a8"
             ],
             [
              0.3333333333333333,
              "#9c179e"
             ],
             [
              0.4444444444444444,
              "#bd3786"
             ],
             [
              0.5555555555555556,
              "#d8576b"
             ],
             [
              0.6666666666666666,
              "#ed7953"
             ],
             [
              0.7777777777777778,
              "#fb9f3a"
             ],
             [
              0.8888888888888888,
              "#fdca26"
             ],
             [
              1,
              "#f0f921"
             ]
            ],
            "type": "contour"
           }
          ],
          "contourcarpet": [
           {
            "colorbar": {
             "outlinewidth": 0,
             "ticks": ""
            },
            "type": "contourcarpet"
           }
          ],
          "heatmap": [
           {
            "colorbar": {
             "outlinewidth": 0,
             "ticks": ""
            },
            "colorscale": [
             [
              0,
              "#0d0887"
             ],
             [
              0.1111111111111111,
              "#46039f"
             ],
             [
              0.2222222222222222,
              "#7201a8"
             ],
             [
              0.3333333333333333,
              "#9c179e"
             ],
             [
              0.4444444444444444,
              "#bd3786"
             ],
             [
              0.5555555555555556,
              "#d8576b"
             ],
             [
              0.6666666666666666,
              "#ed7953"
             ],
             [
              0.7777777777777778,
              "#fb9f3a"
             ],
             [
              0.8888888888888888,
              "#fdca26"
             ],
             [
              1,
              "#f0f921"
             ]
            ],
            "type": "heatmap"
           }
          ],
          "heatmapgl": [
           {
            "colorbar": {
             "outlinewidth": 0,
             "ticks": ""
            },
            "colorscale": [
             [
              0,
              "#0d0887"
             ],
             [
              0.1111111111111111,
              "#46039f"
             ],
             [
              0.2222222222222222,
              "#7201a8"
             ],
             [
              0.3333333333333333,
              "#9c179e"
             ],
             [
              0.4444444444444444,
              "#bd3786"
             ],
             [
              0.5555555555555556,
              "#d8576b"
             ],
             [
              0.6666666666666666,
              "#ed7953"
             ],
             [
              0.7777777777777778,
              "#fb9f3a"
             ],
             [
              0.8888888888888888,
              "#fdca26"
             ],
             [
              1,
              "#f0f921"
             ]
            ],
            "type": "heatmapgl"
           }
          ],
          "histogram": [
           {
            "marker": {
             "pattern": {
              "fillmode": "overlay",
              "size": 10,
              "solidity": 0.2
             }
            },
            "type": "histogram"
           }
          ],
          "histogram2d": [
           {
            "colorbar": {
             "outlinewidth": 0,
             "ticks": ""
            },
            "colorscale": [
             [
              0,
              "#0d0887"
             ],
             [
              0.1111111111111111,
              "#46039f"
             ],
             [
              0.2222222222222222,
              "#7201a8"
             ],
             [
              0.3333333333333333,
              "#9c179e"
             ],
             [
              0.4444444444444444,
              "#bd3786"
             ],
             [
              0.5555555555555556,
              "#d8576b"
             ],
             [
              0.6666666666666666,
              "#ed7953"
             ],
             [
              0.7777777777777778,
              "#fb9f3a"
             ],
             [
              0.8888888888888888,
              "#fdca26"
             ],
             [
              1,
              "#f0f921"
             ]
            ],
            "type": "histogram2d"
           }
          ],
          "histogram2dcontour": [
           {
            "colorbar": {
             "outlinewidth": 0,
             "ticks": ""
            },
            "colorscale": [
             [
              0,
              "#0d0887"
             ],
             [
              0.1111111111111111,
              "#46039f"
             ],
             [
              0.2222222222222222,
              "#7201a8"
             ],
             [
              0.3333333333333333,
              "#9c179e"
             ],
             [
              0.4444444444444444,
              "#bd3786"
             ],
             [
              0.5555555555555556,
              "#d8576b"
             ],
             [
              0.6666666666666666,
              "#ed7953"
             ],
             [
              0.7777777777777778,
              "#fb9f3a"
             ],
             [
              0.8888888888888888,
              "#fdca26"
             ],
             [
              1,
              "#f0f921"
             ]
            ],
            "type": "histogram2dcontour"
           }
          ],
          "mesh3d": [
           {
            "colorbar": {
             "outlinewidth": 0,
             "ticks": ""
            },
            "type": "mesh3d"
           }
          ],
          "parcoords": [
           {
            "line": {
             "colorbar": {
              "outlinewidth": 0,
              "ticks": ""
             }
            },
            "type": "parcoords"
           }
          ],
          "pie": [
           {
            "automargin": true,
            "type": "pie"
           }
          ],
          "scatter": [
           {
            "marker": {
             "colorbar": {
              "outlinewidth": 0,
              "ticks": ""
             }
            },
            "type": "scatter"
           }
          ],
          "scatter3d": [
           {
            "line": {
             "colorbar": {
              "outlinewidth": 0,
              "ticks": ""
             }
            },
            "marker": {
             "colorbar": {
              "outlinewidth": 0,
              "ticks": ""
             }
            },
            "type": "scatter3d"
           }
          ],
          "scattercarpet": [
           {
            "marker": {
             "colorbar": {
              "outlinewidth": 0,
              "ticks": ""
             }
            },
            "type": "scattercarpet"
           }
          ],
          "scattergeo": [
           {
            "marker": {
             "colorbar": {
              "outlinewidth": 0,
              "ticks": ""
             }
            },
            "type": "scattergeo"
           }
          ],
          "scattergl": [
           {
            "marker": {
             "colorbar": {
              "outlinewidth": 0,
              "ticks": ""
             }
            },
            "type": "scattergl"
           }
          ],
          "scattermapbox": [
           {
            "marker": {
             "colorbar": {
              "outlinewidth": 0,
              "ticks": ""
             }
            },
            "type": "scattermapbox"
           }
          ],
          "scatterpolar": [
           {
            "marker": {
             "colorbar": {
              "outlinewidth": 0,
              "ticks": ""
             }
            },
            "type": "scatterpolar"
           }
          ],
          "scatterpolargl": [
           {
            "marker": {
             "colorbar": {
              "outlinewidth": 0,
              "ticks": ""
             }
            },
            "type": "scatterpolargl"
           }
          ],
          "scatterternary": [
           {
            "marker": {
             "colorbar": {
              "outlinewidth": 0,
              "ticks": ""
             }
            },
            "type": "scatterternary"
           }
          ],
          "surface": [
           {
            "colorbar": {
             "outlinewidth": 0,
             "ticks": ""
            },
            "colorscale": [
             [
              0,
              "#0d0887"
             ],
             [
              0.1111111111111111,
              "#46039f"
             ],
             [
              0.2222222222222222,
              "#7201a8"
             ],
             [
              0.3333333333333333,
              "#9c179e"
             ],
             [
              0.4444444444444444,
              "#bd3786"
             ],
             [
              0.5555555555555556,
              "#d8576b"
             ],
             [
              0.6666666666666666,
              "#ed7953"
             ],
             [
              0.7777777777777778,
              "#fb9f3a"
             ],
             [
              0.8888888888888888,
              "#fdca26"
             ],
             [
              1,
              "#f0f921"
             ]
            ],
            "type": "surface"
           }
          ],
          "table": [
           {
            "cells": {
             "fill": {
              "color": "#EBF0F8"
             },
             "line": {
              "color": "white"
             }
            },
            "header": {
             "fill": {
              "color": "#C8D4E3"
             },
             "line": {
              "color": "white"
             }
            },
            "type": "table"
           }
          ]
         },
         "layout": {
          "annotationdefaults": {
           "arrowcolor": "#2a3f5f",
           "arrowhead": 0,
           "arrowwidth": 1
          },
          "autotypenumbers": "strict",
          "coloraxis": {
           "colorbar": {
            "outlinewidth": 0,
            "ticks": ""
           }
          },
          "colorscale": {
           "diverging": [
            [
             0,
             "#8e0152"
            ],
            [
             0.1,
             "#c51b7d"
            ],
            [
             0.2,
             "#de77ae"
            ],
            [
             0.3,
             "#f1b6da"
            ],
            [
             0.4,
             "#fde0ef"
            ],
            [
             0.5,
             "#f7f7f7"
            ],
            [
             0.6,
             "#e6f5d0"
            ],
            [
             0.7,
             "#b8e186"
            ],
            [
             0.8,
             "#7fbc41"
            ],
            [
             0.9,
             "#4d9221"
            ],
            [
             1,
             "#276419"
            ]
           ],
           "sequential": [
            [
             0,
             "#0d0887"
            ],
            [
             0.1111111111111111,
             "#46039f"
            ],
            [
             0.2222222222222222,
             "#7201a8"
            ],
            [
             0.3333333333333333,
             "#9c179e"
            ],
            [
             0.4444444444444444,
             "#bd3786"
            ],
            [
             0.5555555555555556,
             "#d8576b"
            ],
            [
             0.6666666666666666,
             "#ed7953"
            ],
            [
             0.7777777777777778,
             "#fb9f3a"
            ],
            [
             0.8888888888888888,
             "#fdca26"
            ],
            [
             1,
             "#f0f921"
            ]
           ],
           "sequentialminus": [
            [
             0,
             "#0d0887"
            ],
            [
             0.1111111111111111,
             "#46039f"
            ],
            [
             0.2222222222222222,
             "#7201a8"
            ],
            [
             0.3333333333333333,
             "#9c179e"
            ],
            [
             0.4444444444444444,
             "#bd3786"
            ],
            [
             0.5555555555555556,
             "#d8576b"
            ],
            [
             0.6666666666666666,
             "#ed7953"
            ],
            [
             0.7777777777777778,
             "#fb9f3a"
            ],
            [
             0.8888888888888888,
             "#fdca26"
            ],
            [
             1,
             "#f0f921"
            ]
           ]
          },
          "colorway": [
           "#636efa",
           "#EF553B",
           "#00cc96",
           "#ab63fa",
           "#FFA15A",
           "#19d3f3",
           "#FF6692",
           "#B6E880",
           "#FF97FF",
           "#FECB52"
          ],
          "font": {
           "color": "#2a3f5f"
          },
          "geo": {
           "bgcolor": "white",
           "lakecolor": "white",
           "landcolor": "white",
           "showlakes": true,
           "showland": true,
           "subunitcolor": "#C8D4E3"
          },
          "hoverlabel": {
           "align": "left"
          },
          "hovermode": "closest",
          "mapbox": {
           "style": "light"
          },
          "paper_bgcolor": "white",
          "plot_bgcolor": "white",
          "polar": {
           "angularaxis": {
            "gridcolor": "#EBF0F8",
            "linecolor": "#EBF0F8",
            "ticks": ""
           },
           "bgcolor": "white",
           "radialaxis": {
            "gridcolor": "#EBF0F8",
            "linecolor": "#EBF0F8",
            "ticks": ""
           }
          },
          "scene": {
           "xaxis": {
            "backgroundcolor": "white",
            "gridcolor": "#DFE8F3",
            "gridwidth": 2,
            "linecolor": "#EBF0F8",
            "showbackground": true,
            "ticks": "",
            "zerolinecolor": "#EBF0F8"
           },
           "yaxis": {
            "backgroundcolor": "white",
            "gridcolor": "#DFE8F3",
            "gridwidth": 2,
            "linecolor": "#EBF0F8",
            "showbackground": true,
            "ticks": "",
            "zerolinecolor": "#EBF0F8"
           },
           "zaxis": {
            "backgroundcolor": "white",
            "gridcolor": "#DFE8F3",
            "gridwidth": 2,
            "linecolor": "#EBF0F8",
            "showbackground": true,
            "ticks": "",
            "zerolinecolor": "#EBF0F8"
           }
          },
          "shapedefaults": {
           "line": {
            "color": "#2a3f5f"
           }
          },
          "ternary": {
           "aaxis": {
            "gridcolor": "#DFE8F3",
            "linecolor": "#A2B1C6",
            "ticks": ""
           },
           "baxis": {
            "gridcolor": "#DFE8F3",
            "linecolor": "#A2B1C6",
            "ticks": ""
           },
           "bgcolor": "white",
           "caxis": {
            "gridcolor": "#DFE8F3",
            "linecolor": "#A2B1C6",
            "ticks": ""
           }
          },
          "title": {
           "x": 0.05
          },
          "xaxis": {
           "automargin": true,
           "gridcolor": "#EBF0F8",
           "linecolor": "#EBF0F8",
           "ticks": "",
           "title": {
            "standoff": 15
           },
           "zerolinecolor": "#EBF0F8",
           "zerolinewidth": 2
          },
          "yaxis": {
           "automargin": true,
           "gridcolor": "#EBF0F8",
           "linecolor": "#EBF0F8",
           "ticks": "",
           "title": {
            "standoff": 15
           },
           "zerolinecolor": "#EBF0F8",
           "zerolinewidth": 2
          }
         }
        },
        "title": {
         "text": "[2022-04-10 00:08:22] Episode: 2/2 Step: 41/200"
        },
        "xaxis": {
         "anchor": "y",
         "domain": [
          0,
          1
         ],
         "gridcolor": "Gainsboro",
         "linecolor": "Grey",
         "matches": "x4",
         "rangeslider": {
          "visible": false
         },
         "showticklabels": false,
         "title": {
          "font": {
           "size": 12
          },
          "standoff": 7,
          "text": "Price"
         }
        },
        "xaxis2": {
         "anchor": "y2",
         "domain": [
          0,
          1
         ],
         "gridcolor": "Gainsboro",
         "linecolor": "Grey",
         "matches": "x4",
         "showticklabels": false,
         "title": {
          "font": {
           "size": 12
          },
          "standoff": 7,
          "text": "Volume"
         }
        },
        "xaxis3": {
         "anchor": "y3",
         "domain": [
          0,
          1
         ],
         "gridcolor": "Gainsboro",
         "linecolor": "Grey",
         "matches": "x4",
         "showticklabels": false,
         "title": {
          "font": {
           "size": 12
          },
          "standoff": 7,
          "text": "Performance"
         }
        },
        "xaxis4": {
         "anchor": "y4",
         "domain": [
          0,
          1
         ],
         "gridcolor": "Gainsboro",
         "linecolor": "Grey",
         "title": {
          "font": {
           "size": 12
          },
          "standoff": 7,
          "text": "Net Worth"
         }
        },
        "yaxis": {
         "anchor": "x",
         "domain": [
          0.49950000000000006,
          1
         ],
         "gridcolor": "Gainsboro",
         "linecolor": "Grey"
        },
        "yaxis2": {
         "anchor": "x2",
         "domain": [
          0.333,
          0.46950000000000003
         ],
         "gridcolor": "Gainsboro",
         "linecolor": "Grey"
        },
        "yaxis3": {
         "anchor": "x3",
         "domain": [
          0.1665,
          0.30300000000000005
         ],
         "gridcolor": "Gainsboro",
         "linecolor": "Grey"
        },
        "yaxis4": {
         "anchor": "x4",
         "domain": [
          0,
          0.1365
         ],
         "gridcolor": "Gainsboro",
         "linecolor": "Grey"
        }
       }
      }
     },
     "metadata": {},
     "output_type": "display_data"
    },
    {
     "data": {
      "application/vnd.jupyter.widget-view+json": {
       "model_id": "a46f5e755d6048fca6f2305516d12de0",
       "version_major": 2,
       "version_minor": 0
      },
      "text/plain": [
       "FigureWidget({\n",
       "    'data': [{'close': array([8740.99, 8739.  , 8728.49, 8708.32, 8795.9 , 8760.  , 8760.  , 87…"
      ]
     },
     "metadata": {},
     "output_type": "display_data"
    },
    {
     "data": {
      "application/vnd.plotly.v1+json": {
       "config": {
        "plotlyServerURL": "https://plot.ly"
       },
       "data": [
        {
         "close": [
          8740.99,
          8739,
          8728.49,
          8708.32,
          8795.9,
          8760,
          8760,
          8759.23,
          8517.77,
          8520.3,
          8535.23,
          8546.34,
          8526.65,
          8555.6,
          8512.1,
          8492.28,
          8460,
          8474.99,
          8455.92,
          8326.28,
          8133.43,
          8164.79,
          8229.38,
          8220.4,
          8238.8,
          8232.99,
          8207.48,
          8243.45,
          8371.13,
          8373,
          8365.08,
          8179.99,
          8225,
          8285.8,
          8273.4,
          8297.4,
          8279.89,
          8252.72,
          8302.18,
          8295.85,
          8277.25,
          8346.59,
          8358.3,
          8375.1,
          8368.62,
          8366.72,
          8314.77,
          8363.7,
          8344.16,
          8247.4,
          8277.4,
          8291.67,
          8307.89,
          8298.9,
          8269.47,
          8300.98,
          8318.49,
          8306.39,
          8276.43,
          8257.69,
          8166
         ],
         "high": [
          8796.68,
          8766,
          8750.27,
          8754.4,
          8865,
          8821.19,
          8798.6,
          8771.02,
          8761.7,
          8553.67,
          8589.1,
          8579.48,
          8555.51,
          8583.6,
          8569.92,
          8555.54,
          8557.51,
          8505,
          8505.33,
          8478.29,
          8339.81,
          8217.44,
          8252.72,
          8248.63,
          8267.12,
          8255,
          8261.24,
          8263.93,
          8455.66,
          8439.44,
          8399.1,
          8381.73,
          8229.91,
          8377.29,
          8329.1,
          8350,
          8346.95,
          8377.29,
          8311.35,
          8319.96,
          8398.24,
          8372.58,
          8399.99,
          8386.53,
          8400,
          8500,
          8381,
          8371.3,
          8382.41,
          8351,
          8292.99,
          8325.8,
          8318.99,
          8324.9,
          8335.56,
          8309.4,
          8377.29,
          8330.41,
          8328.23,
          8284.36,
          8274.83
         ],
         "low": [
          8707.28,
          8721.11,
          8660.53,
          8701.35,
          8695.11,
          8740.54,
          8741.52,
          8700,
          8467.42,
          8477.89,
          8500.78,
          8500,
          8400,
          8451.05,
          8461.38,
          8481.24,
          8420.37,
          8450,
          8430.94,
          8275.02,
          8100.01,
          8122.56,
          8157.01,
          8166.25,
          8176.91,
          8213.79,
          8200,
          8207.48,
          8237.1,
          8370,
          8356.4,
          8145.1,
          8173.6,
          8211.8,
          8201,
          8250.9,
          8266.46,
          8252.72,
          8232.14,
          8268.37,
          8277.25,
          8277.25,
          8314.78,
          8314.77,
          8350.07,
          8331.39,
          8314.77,
          8275.45,
          8335.49,
          8191.14,
          8227.7,
          8264.13,
          8249.93,
          8269.52,
          8219.44,
          8262.68,
          8286.65,
          8289.87,
          8232.14,
          8232.14,
          8110.02
         ],
         "name": "Price",
         "open": [
          8733.86,
          8740.99,
          8739,
          8728.49,
          8708.32,
          8795.9,
          8760,
          8760,
          8759.23,
          8517.77,
          8520.3,
          8535.23,
          8546.34,
          8526.65,
          8555.6,
          8512.1,
          8492.28,
          8460,
          8474.99,
          8455.92,
          8326.28,
          8133.43,
          8164.79,
          8229.38,
          8220.4,
          8238.8,
          8232.99,
          8207.48,
          8243.45,
          8371.13,
          8373,
          8365.08,
          8179.99,
          8225,
          8285.8,
          8273.4,
          8297.4,
          8279.89,
          8252.72,
          8302.18,
          8295.85,
          8277.25,
          8346.59,
          8358.3,
          8375.1,
          8368.62,
          8366.72,
          8314.77,
          8363.7,
          8344.16,
          8247.4,
          8277.4,
          8291.67,
          8307.89,
          8298.9,
          8269.47,
          8300.98,
          8318.49,
          8306.39,
          8276.43,
          8257.69
         ],
         "showlegend": false,
         "type": "candlestick",
         "uid": "50305746-acbe-483f-b8bd-5ee326eca239",
         "xaxis": "x",
         "yaxis": "y"
        },
        {
         "marker": {
          "color": "DodgerBlue"
         },
         "name": "Volume",
         "showlegend": false,
         "type": "bar",
         "uid": "0b0694af-d058-44fd-a8e6-b25a9a83e2b0",
         "xaxis": "x2",
         "y": [
          559.93,
          273.58,
          917.79,
          182.62,
          1260.69,
          324.11,
          324.2,
          730.67,
          1341.75,
          792.07,
          385.69,
          475.08,
          877.26,
          670.49,
          610.97,
          168.99,
          305.92,
          136.05,
          154.26,
          1070.93,
          1710.2,
          492.8,
          630.72,
          620.93,
          586.34,
          304.52,
          450.97,
          182.36,
          915.32,
          319.29,
          362.01,
          1046.38,
          357.91,
          561.2,
          322.53,
          1073.71,
          237.21,
          251.2,
          359.73,
          117.23,
          363.17,
          214.18,
          171.64,
          258.58,
          299.52,
          718.98,
          119.7,
          405.25,
          210.77,
          714.82,
          215.97,
          164.2,
          201.55,
          203.41,
          886.82,
          95.49,
          499.67,
          172.77,
          355.39,
          255.27,
          591.06
         ],
         "yaxis": "y2"
        },
        {
         "mode": "lines",
         "name": "bitstamp:/USD-BTC",
         "type": "scatter",
         "uid": "7633330c-73a6-45ce-bf50-e1d3eb811fe9",
         "xaxis": "x3",
         "y": [
          8740.99,
          8739,
          8728.49,
          8708.32,
          8795.9,
          8760,
          8760,
          8759.23,
          8517.77,
          8520.3,
          8535.23,
          8546.34,
          8526.65,
          8555.6,
          8512.1,
          8492.28,
          8460,
          8474.99,
          8455.92,
          8326.28,
          8133.43,
          8164.79,
          8229.38,
          8220.4,
          8238.8,
          8232.99,
          8207.48,
          8243.45,
          8371.13,
          8373,
          8365.08,
          8179.99,
          8225,
          8285.8,
          8273.4,
          8297.4,
          8279.89,
          8252.72,
          8302.18,
          8295.85,
          8277.25,
          8346.59,
          8358.3,
          8375.1,
          8368.62,
          8366.72,
          8314.77,
          8363.7,
          8344.16,
          8247.4,
          8277.4,
          8291.67,
          8307.89,
          8298.9,
          8269.47,
          8300.98,
          8318.49,
          8306.39,
          8276.43,
          8257.69,
          8166
         ],
         "yaxis": "y3"
        },
        {
         "mode": "lines",
         "name": "bitstamp:/USD:/free",
         "type": "scatter",
         "uid": "b7b5fee1-fcd9-4177-863c-64eba3d65df3",
         "xaxis": "x3",
         "y": [
          10000,
          10000,
          10000,
          2000,
          2000,
          2000,
          2000,
          2000,
          2000,
          2000,
          2000,
          2000,
          2000,
          2000,
          2000,
          2000,
          2000,
          2000,
          2000,
          2000,
          9585.64,
          9585.64,
          9585.64,
          9585.64,
          9585.64,
          1917.13,
          1917.13,
          1917.13,
          1917.13,
          9662.13,
          9662.13,
          9662.13,
          9662.13,
          9662.13,
          9662.13,
          9662.13,
          9662.13,
          9662.13,
          9662.13,
          9662.13,
          9662.13,
          9662.13,
          9662.13,
          9662.13,
          9662.13,
          5797.28,
          5797.28,
          5797.28,
          5797.28,
          5797.28,
          5797.28,
          5797.28,
          5797.28,
          5797.28,
          5797.28,
          5797.28,
          5797.28,
          5797.28,
          5797.28,
          5797.28,
          5797.28
         ],
         "yaxis": "y3"
        },
        {
         "mode": "lines",
         "name": "bitstamp:/USD:/locked",
         "type": "scatter",
         "uid": "99dd8a26-fe84-43a4-af3c-0c42748827c8",
         "xaxis": "x3",
         "y": [
          0,
          0,
          0,
          0,
          0,
          0,
          0,
          0,
          0,
          0,
          0,
          0,
          0,
          0,
          0,
          0,
          0,
          0,
          0,
          0,
          0,
          0,
          0,
          0,
          0,
          0,
          0,
          0,
          0,
          0,
          0,
          0,
          0,
          0,
          0,
          0,
          0,
          0,
          0,
          0,
          0,
          0,
          0,
          0,
          0,
          0,
          0,
          0,
          0,
          0,
          0,
          0,
          0,
          0,
          0,
          0,
          0,
          0,
          0,
          0,
          0
         ],
         "yaxis": "y3"
        },
        {
         "mode": "lines",
         "name": "bitstamp:/USD:/total",
         "type": "scatter",
         "uid": "bc6113cd-7ed0-47a2-b189-fba82d6153a0",
         "xaxis": "x3",
         "y": [
          10000,
          10000,
          10000,
          2000,
          2000,
          2000,
          2000,
          2000,
          2000,
          2000,
          2000,
          2000,
          2000,
          2000,
          2000,
          2000,
          2000,
          2000,
          2000,
          2000,
          9585.64,
          9585.64,
          9585.64,
          9585.64,
          9585.64,
          1917.13,
          1917.13,
          1917.13,
          1917.13,
          9662.13,
          9662.13,
          9662.13,
          9662.13,
          9662.13,
          9662.13,
          9662.13,
          9662.13,
          9662.13,
          9662.13,
          9662.13,
          9662.13,
          9662.13,
          9662.13,
          9662.13,
          9662.13,
          5797.28,
          5797.28,
          5797.28,
          5797.28,
          5797.28,
          5797.28,
          5797.28,
          5797.28,
          5797.28,
          5797.28,
          5797.28,
          5797.28,
          5797.28,
          5797.28,
          5797.28,
          5797.28
         ],
         "yaxis": "y3"
        },
        {
         "mode": "lines",
         "name": "bitstamp:/BTC:/free",
         "type": "scatter",
         "uid": "b9fb4513-0222-404a-adfd-0daee901fb10",
         "xaxis": "x3",
         "y": [
          10,
          10,
          10,
          10,
          10,
          10,
          10,
          10,
          10,
          10,
          10,
          10,
          10,
          10,
          10,
          10,
          10,
          10,
          10,
          10,
          10,
          10,
          10,
          10,
          10,
          10,
          10,
          10,
          10,
          10,
          10,
          10,
          10,
          10,
          10,
          10,
          10,
          10,
          10,
          10,
          10,
          10,
          10,
          10,
          10,
          10,
          10,
          10,
          10,
          10,
          10,
          10,
          10,
          10,
          10,
          10,
          10,
          10,
          10,
          10,
          10
         ],
         "yaxis": "y3"
        },
        {
         "mode": "lines",
         "name": "bitstamp:/BTC:/locked",
         "type": "scatter",
         "uid": "b528086b-2a60-427d-8bfd-a138812a9361",
         "xaxis": "x3",
         "y": [
          0,
          0,
          0,
          0.91378921,
          0.91378921,
          0.91378921,
          0.91378921,
          0.91378921,
          0.91378921,
          0.91378921,
          0.91378921,
          0.91378921,
          0.91378921,
          0.91378921,
          0.91378921,
          0.91378921,
          0.91378921,
          0.91378921,
          0.91378921,
          0.91378921,
          0,
          0,
          0,
          0,
          0,
          0.92798709,
          0.92798709,
          0.92798709,
          0.92798709,
          0,
          0,
          0,
          0,
          0,
          0,
          0,
          0,
          0,
          0,
          0,
          0,
          0,
          0,
          0,
          0,
          0.46044151,
          0.46044151,
          0.46044151,
          0.46044151,
          0.46044151,
          0.46044151,
          0.46044151,
          0.46044151,
          0.46044151,
          0.46044151,
          0.46044151,
          0.46044151,
          0.46044151,
          0.46044151,
          0.46044151,
          0.46044151
         ],
         "yaxis": "y3"
        },
        {
         "mode": "lines",
         "name": "bitstamp:/BTC:/total",
         "type": "scatter",
         "uid": "2ffc07fd-84ea-4e58-918c-419a185df287",
         "xaxis": "x3",
         "y": [
          10,
          10,
          10,
          10.91378921,
          10.91378921,
          10.91378921,
          10.91378921,
          10.91378921,
          10.91378921,
          10.91378921,
          10.91378921,
          10.91378921,
          10.91378921,
          10.91378921,
          10.91378921,
          10.91378921,
          10.91378921,
          10.91378921,
          10.91378921,
          10.91378921,
          10,
          10,
          10,
          10,
          10,
          10.92798709,
          10.92798709,
          10.92798709,
          10.92798709,
          10,
          10,
          10,
          10,
          10,
          10,
          10,
          10,
          10,
          10,
          10,
          10,
          10,
          10,
          10,
          10,
          10.46044151,
          10.46044151,
          10.46044151,
          10.46044151,
          10.46044151,
          10.46044151,
          10.46044151,
          10.46044151,
          10.46044151,
          10.46044151,
          10.46044151,
          10.46044151,
          10.46044151,
          10.46044151,
          10.46044151,
          10.46044151
         ],
         "yaxis": "y3"
        },
        {
         "mode": "lines",
         "name": "bitstamp:/BTC:/worth",
         "type": "scatter",
         "uid": "66a51bd5-08f5-4308-b164-b740b790d342",
         "xaxis": "x3",
         "y": [
          87409.9,
          87390,
          87284.9,
          95040.76885322719,
          95996.59851223898,
          95604.79347959999,
          95604.79347959999,
          95596.38986190829,
          92961.1463192617,
          92988.75820596298,
          93151.70107886828,
          93272.9532769914,
          93058.06076744648,
          93374.014965076,
          92899.265134441,
          92682.9538322988,
          92330.65671659999,
          92494.25441685789,
          92286.12845662319,
          90871.2648234388,
          81334.3,
          81647.9,
          82293.79999999999,
          82204,
          82388,
          89970.0084320991,
          89691.23548143319,
          90084.3151770605,
          91479.6005687117,
          83730,
          83650.8,
          81799.9,
          82250,
          82858,
          82734,
          82974,
          82798.9,
          82527.2,
          83021.8,
          82958.5,
          82772.5,
          83465.9,
          83583,
          83751,
          83686.20000000001,
          87519.5851905472,
          86976.16525410271,
          87487.99465718701,
          87283.59763008161,
          86271.445309574,
          86585.258554874,
          86734.5290552217,
          86904.1974165139,
          86810.158047339,
          86502.3072536997,
          86831.9157656798,
          87015.07809651991,
          86888.5067542489,
          86575.11192660932,
          86379.0832527119,
          85419.96537066001
         ],
         "yaxis": "y3"
        },
        {
         "mode": "lines",
         "name": "net_worth",
         "type": "scatter",
         "uid": "81910362-5a88-461a-9686-2e0579338611",
         "xaxis": "x3",
         "y": [
          97409.9,
          97390,
          97284.9,
          97040.76885322719,
          97996.59851223898,
          97604.79347959999,
          97604.79347959999,
          97596.38986190829,
          94961.1463192617,
          94988.75820596298,
          95151.70107886828,
          95272.9532769914,
          95058.06076744648,
          95374.014965076,
          94899.265134441,
          94682.9538322988,
          94330.65671659999,
          94494.25441685789,
          94286.12845662319,
          92871.2648234388,
          90919.94,
          91233.54,
          91879.43999999999,
          91789.64,
          91973.64,
          91887.1384320991,
          91608.3654814332,
          92001.44517706051,
          93396.7305687117,
          93392.13,
          93312.93000000001,
          91462.03,
          91912.13,
          92520.13,
          92396.13,
          92636.13,
          92461.03,
          92189.33,
          92683.93000000001,
          92620.63,
          92434.63,
          93128.03,
          93245.13,
          93413.13,
          93348.33000000002,
          93316.86519054719,
          92773.44525410271,
          93285.27465718701,
          93080.87763008161,
          92068.725309574,
          92382.538554874,
          92531.8090552217,
          92701.4774165139,
          92607.438047339,
          92299.5872536997,
          92629.1957656798,
          92812.3580965199,
          92685.7867542489,
          92372.39192660931,
          92176.3632527119,
          91217.24537066
         ],
         "yaxis": "y3"
        },
        {
         "marker": {
          "color": "DarkGreen"
         },
         "mode": "lines",
         "name": "Net Worth",
         "type": "scatter",
         "uid": "2a16b7a4-6c62-48f6-86ee-f813f28782f1",
         "xaxis": "x4",
         "y": [
          97409.9,
          97390,
          97284.9,
          97040.76885322719,
          97996.59851223898,
          97604.79347959999,
          97604.79347959999,
          97596.38986190829,
          94961.1463192617,
          94988.75820596298,
          95151.70107886828,
          95272.9532769914,
          95058.06076744648,
          95374.014965076,
          94899.265134441,
          94682.9538322988,
          94330.65671659999,
          94494.25441685789,
          94286.12845662319,
          92871.2648234388,
          90919.94,
          91233.54,
          91879.43999999999,
          91789.64,
          91973.64,
          91887.1384320991,
          91608.3654814332,
          92001.44517706051,
          93396.7305687117,
          93392.13,
          93312.93000000001,
          91462.03,
          91912.13,
          92520.13,
          92396.13,
          92636.13,
          92461.03,
          92189.33,
          92683.93000000001,
          92620.63,
          92434.63,
          93128.03,
          93245.13,
          93413.13,
          93348.33000000002,
          93316.86519054719,
          92773.44525410271,
          93285.27465718701,
          93080.87763008161,
          92068.725309574,
          92382.538554874,
          92531.8090552217,
          92701.4774165139,
          92607.438047339,
          92299.5872536997,
          92629.1957656798,
          92812.3580965199,
          92685.7867542489,
          92372.39192660931,
          92176.3632527119,
          91217.24537066
         ],
         "yaxis": "y4"
        }
       ],
       "layout": {
        "annotations": [
         {
          "arrowcolor": "FireBrick",
          "arrowhead": 2,
          "arrowsize": 0.8,
          "arrowwidth": 4,
          "ax": 0,
          "ay": -15,
          "hoverlabel": {
           "bgcolor": "FireBrick"
          },
          "hovertext": "Step 20 [2018-05-16 01:00:00]<br>SELL 0.91104784 BTC @ 8326.28 USD MARKET<br>Total: 7585.64 USD - Comm.: 0.00274137 BTC",
          "opacity": 0.6,
          "showarrow": true,
          "x": 19,
          "xref": "x",
          "y": 8326.28,
          "yref": "y"
         },
         {
          "arrowcolor": "DarkGreen",
          "arrowhead": 2,
          "arrowsize": 0.8,
          "arrowwidth": 4,
          "ax": 0,
          "ay": 15,
          "hoverlabel": {
           "bgcolor": "DarkGreen"
          },
          "hovertext": "Step 3 [2018-05-15 08:00:00]<br>BUY 0.91378921 BTC @ 8728.49 USD MARKET<br>Total: 7976.0 USD - Comm.: 24.00 USD",
          "opacity": 0.6,
          "showarrow": true,
          "x": 2,
          "xref": "x",
          "y": 8728.49,
          "yref": "y"
         },
         {
          "arrowcolor": "FireBrick",
          "arrowhead": 2,
          "arrowsize": 0.8,
          "arrowwidth": 4,
          "ax": 0,
          "ay": -15,
          "hoverlabel": {
           "bgcolor": "FireBrick"
          },
          "hovertext": "Step 29 [2018-05-16 10:00:00]<br>SELL 0.92520313 BTC @ 8371.13 USD MARKET<br>Total: 7745.0 USD - Comm.: 0.00278396 BTC",
          "opacity": 0.6,
          "showarrow": true,
          "x": 28,
          "xref": "x",
          "y": 8371.13,
          "yref": "y"
         },
         {
          "arrowcolor": "DarkGreen",
          "arrowhead": 2,
          "arrowsize": 0.8,
          "arrowwidth": 4,
          "ax": 0,
          "ay": 15,
          "hoverlabel": {
           "bgcolor": "DarkGreen"
          },
          "hovertext": "Step 25 [2018-05-16 06:00:00]<br>BUY 0.92798709 BTC @ 8238.8 USD MARKET<br>Total: 7645.5 USD - Comm.: 23.01 USD",
          "opacity": 0.6,
          "showarrow": true,
          "x": 24,
          "xref": "x",
          "y": 8238.8,
          "yref": "y"
         },
         {
          "arrowcolor": "DarkGreen",
          "arrowhead": 2,
          "arrowsize": 0.8,
          "arrowwidth": 4,
          "ax": 0,
          "ay": 15,
          "hoverlabel": {
           "bgcolor": "DarkGreen"
          },
          "hovertext": "Step 45 [2018-05-17 02:00:00]<br>BUY 0.46044151 BTC @ 8368.62 USD MARKET<br>Total: 3853.26 USD - Comm.: 11.59 USD",
          "opacity": 0.6,
          "showarrow": true,
          "x": 44,
          "xref": "x",
          "y": 8368.62,
          "yref": "y"
         }
        ],
        "margin": {
         "t": 50
        },
        "template": {
         "data": {
          "bar": [
           {
            "error_x": {
             "color": "#2a3f5f"
            },
            "error_y": {
             "color": "#2a3f5f"
            },
            "marker": {
             "line": {
              "color": "white",
              "width": 0.5
             },
             "pattern": {
              "fillmode": "overlay",
              "size": 10,
              "solidity": 0.2
             }
            },
            "type": "bar"
           }
          ],
          "barpolar": [
           {
            "marker": {
             "line": {
              "color": "white",
              "width": 0.5
             },
             "pattern": {
              "fillmode": "overlay",
              "size": 10,
              "solidity": 0.2
             }
            },
            "type": "barpolar"
           }
          ],
          "carpet": [
           {
            "aaxis": {
             "endlinecolor": "#2a3f5f",
             "gridcolor": "#C8D4E3",
             "linecolor": "#C8D4E3",
             "minorgridcolor": "#C8D4E3",
             "startlinecolor": "#2a3f5f"
            },
            "baxis": {
             "endlinecolor": "#2a3f5f",
             "gridcolor": "#C8D4E3",
             "linecolor": "#C8D4E3",
             "minorgridcolor": "#C8D4E3",
             "startlinecolor": "#2a3f5f"
            },
            "type": "carpet"
           }
          ],
          "choropleth": [
           {
            "colorbar": {
             "outlinewidth": 0,
             "ticks": ""
            },
            "type": "choropleth"
           }
          ],
          "contour": [
           {
            "colorbar": {
             "outlinewidth": 0,
             "ticks": ""
            },
            "colorscale": [
             [
              0,
              "#0d0887"
             ],
             [
              0.1111111111111111,
              "#46039f"
             ],
             [
              0.2222222222222222,
              "#7201a8"
             ],
             [
              0.3333333333333333,
              "#9c179e"
             ],
             [
              0.4444444444444444,
              "#bd3786"
             ],
             [
              0.5555555555555556,
              "#d8576b"
             ],
             [
              0.6666666666666666,
              "#ed7953"
             ],
             [
              0.7777777777777778,
              "#fb9f3a"
             ],
             [
              0.8888888888888888,
              "#fdca26"
             ],
             [
              1,
              "#f0f921"
             ]
            ],
            "type": "contour"
           }
          ],
          "contourcarpet": [
           {
            "colorbar": {
             "outlinewidth": 0,
             "ticks": ""
            },
            "type": "contourcarpet"
           }
          ],
          "heatmap": [
           {
            "colorbar": {
             "outlinewidth": 0,
             "ticks": ""
            },
            "colorscale": [
             [
              0,
              "#0d0887"
             ],
             [
              0.1111111111111111,
              "#46039f"
             ],
             [
              0.2222222222222222,
              "#7201a8"
             ],
             [
              0.3333333333333333,
              "#9c179e"
             ],
             [
              0.4444444444444444,
              "#bd3786"
             ],
             [
              0.5555555555555556,
              "#d8576b"
             ],
             [
              0.6666666666666666,
              "#ed7953"
             ],
             [
              0.7777777777777778,
              "#fb9f3a"
             ],
             [
              0.8888888888888888,
              "#fdca26"
             ],
             [
              1,
              "#f0f921"
             ]
            ],
            "type": "heatmap"
           }
          ],
          "heatmapgl": [
           {
            "colorbar": {
             "outlinewidth": 0,
             "ticks": ""
            },
            "colorscale": [
             [
              0,
              "#0d0887"
             ],
             [
              0.1111111111111111,
              "#46039f"
             ],
             [
              0.2222222222222222,
              "#7201a8"
             ],
             [
              0.3333333333333333,
              "#9c179e"
             ],
             [
              0.4444444444444444,
              "#bd3786"
             ],
             [
              0.5555555555555556,
              "#d8576b"
             ],
             [
              0.6666666666666666,
              "#ed7953"
             ],
             [
              0.7777777777777778,
              "#fb9f3a"
             ],
             [
              0.8888888888888888,
              "#fdca26"
             ],
             [
              1,
              "#f0f921"
             ]
            ],
            "type": "heatmapgl"
           }
          ],
          "histogram": [
           {
            "marker": {
             "pattern": {
              "fillmode": "overlay",
              "size": 10,
              "solidity": 0.2
             }
            },
            "type": "histogram"
           }
          ],
          "histogram2d": [
           {
            "colorbar": {
             "outlinewidth": 0,
             "ticks": ""
            },
            "colorscale": [
             [
              0,
              "#0d0887"
             ],
             [
              0.1111111111111111,
              "#46039f"
             ],
             [
              0.2222222222222222,
              "#7201a8"
             ],
             [
              0.3333333333333333,
              "#9c179e"
             ],
             [
              0.4444444444444444,
              "#bd3786"
             ],
             [
              0.5555555555555556,
              "#d8576b"
             ],
             [
              0.6666666666666666,
              "#ed7953"
             ],
             [
              0.7777777777777778,
              "#fb9f3a"
             ],
             [
              0.8888888888888888,
              "#fdca26"
             ],
             [
              1,
              "#f0f921"
             ]
            ],
            "type": "histogram2d"
           }
          ],
          "histogram2dcontour": [
           {
            "colorbar": {
             "outlinewidth": 0,
             "ticks": ""
            },
            "colorscale": [
             [
              0,
              "#0d0887"
             ],
             [
              0.1111111111111111,
              "#46039f"
             ],
             [
              0.2222222222222222,
              "#7201a8"
             ],
             [
              0.3333333333333333,
              "#9c179e"
             ],
             [
              0.4444444444444444,
              "#bd3786"
             ],
             [
              0.5555555555555556,
              "#d8576b"
             ],
             [
              0.6666666666666666,
              "#ed7953"
             ],
             [
              0.7777777777777778,
              "#fb9f3a"
             ],
             [
              0.8888888888888888,
              "#fdca26"
             ],
             [
              1,
              "#f0f921"
             ]
            ],
            "type": "histogram2dcontour"
           }
          ],
          "mesh3d": [
           {
            "colorbar": {
             "outlinewidth": 0,
             "ticks": ""
            },
            "type": "mesh3d"
           }
          ],
          "parcoords": [
           {
            "line": {
             "colorbar": {
              "outlinewidth": 0,
              "ticks": ""
             }
            },
            "type": "parcoords"
           }
          ],
          "pie": [
           {
            "automargin": true,
            "type": "pie"
           }
          ],
          "scatter": [
           {
            "marker": {
             "colorbar": {
              "outlinewidth": 0,
              "ticks": ""
             }
            },
            "type": "scatter"
           }
          ],
          "scatter3d": [
           {
            "line": {
             "colorbar": {
              "outlinewidth": 0,
              "ticks": ""
             }
            },
            "marker": {
             "colorbar": {
              "outlinewidth": 0,
              "ticks": ""
             }
            },
            "type": "scatter3d"
           }
          ],
          "scattercarpet": [
           {
            "marker": {
             "colorbar": {
              "outlinewidth": 0,
              "ticks": ""
             }
            },
            "type": "scattercarpet"
           }
          ],
          "scattergeo": [
           {
            "marker": {
             "colorbar": {
              "outlinewidth": 0,
              "ticks": ""
             }
            },
            "type": "scattergeo"
           }
          ],
          "scattergl": [
           {
            "marker": {
             "colorbar": {
              "outlinewidth": 0,
              "ticks": ""
             }
            },
            "type": "scattergl"
           }
          ],
          "scattermapbox": [
           {
            "marker": {
             "colorbar": {
              "outlinewidth": 0,
              "ticks": ""
             }
            },
            "type": "scattermapbox"
           }
          ],
          "scatterpolar": [
           {
            "marker": {
             "colorbar": {
              "outlinewidth": 0,
              "ticks": ""
             }
            },
            "type": "scatterpolar"
           }
          ],
          "scatterpolargl": [
           {
            "marker": {
             "colorbar": {
              "outlinewidth": 0,
              "ticks": ""
             }
            },
            "type": "scatterpolargl"
           }
          ],
          "scatterternary": [
           {
            "marker": {
             "colorbar": {
              "outlinewidth": 0,
              "ticks": ""
             }
            },
            "type": "scatterternary"
           }
          ],
          "surface": [
           {
            "colorbar": {
             "outlinewidth": 0,
             "ticks": ""
            },
            "colorscale": [
             [
              0,
              "#0d0887"
             ],
             [
              0.1111111111111111,
              "#46039f"
             ],
             [
              0.2222222222222222,
              "#7201a8"
             ],
             [
              0.3333333333333333,
              "#9c179e"
             ],
             [
              0.4444444444444444,
              "#bd3786"
             ],
             [
              0.5555555555555556,
              "#d8576b"
             ],
             [
              0.6666666666666666,
              "#ed7953"
             ],
             [
              0.7777777777777778,
              "#fb9f3a"
             ],
             [
              0.8888888888888888,
              "#fdca26"
             ],
             [
              1,
              "#f0f921"
             ]
            ],
            "type": "surface"
           }
          ],
          "table": [
           {
            "cells": {
             "fill": {
              "color": "#EBF0F8"
             },
             "line": {
              "color": "white"
             }
            },
            "header": {
             "fill": {
              "color": "#C8D4E3"
             },
             "line": {
              "color": "white"
             }
            },
            "type": "table"
           }
          ]
         },
         "layout": {
          "annotationdefaults": {
           "arrowcolor": "#2a3f5f",
           "arrowhead": 0,
           "arrowwidth": 1
          },
          "autotypenumbers": "strict",
          "coloraxis": {
           "colorbar": {
            "outlinewidth": 0,
            "ticks": ""
           }
          },
          "colorscale": {
           "diverging": [
            [
             0,
             "#8e0152"
            ],
            [
             0.1,
             "#c51b7d"
            ],
            [
             0.2,
             "#de77ae"
            ],
            [
             0.3,
             "#f1b6da"
            ],
            [
             0.4,
             "#fde0ef"
            ],
            [
             0.5,
             "#f7f7f7"
            ],
            [
             0.6,
             "#e6f5d0"
            ],
            [
             0.7,
             "#b8e186"
            ],
            [
             0.8,
             "#7fbc41"
            ],
            [
             0.9,
             "#4d9221"
            ],
            [
             1,
             "#276419"
            ]
           ],
           "sequential": [
            [
             0,
             "#0d0887"
            ],
            [
             0.1111111111111111,
             "#46039f"
            ],
            [
             0.2222222222222222,
             "#7201a8"
            ],
            [
             0.3333333333333333,
             "#9c179e"
            ],
            [
             0.4444444444444444,
             "#bd3786"
            ],
            [
             0.5555555555555556,
             "#d8576b"
            ],
            [
             0.6666666666666666,
             "#ed7953"
            ],
            [
             0.7777777777777778,
             "#fb9f3a"
            ],
            [
             0.8888888888888888,
             "#fdca26"
            ],
            [
             1,
             "#f0f921"
            ]
           ],
           "sequentialminus": [
            [
             0,
             "#0d0887"
            ],
            [
             0.1111111111111111,
             "#46039f"
            ],
            [
             0.2222222222222222,
             "#7201a8"
            ],
            [
             0.3333333333333333,
             "#9c179e"
            ],
            [
             0.4444444444444444,
             "#bd3786"
            ],
            [
             0.5555555555555556,
             "#d8576b"
            ],
            [
             0.6666666666666666,
             "#ed7953"
            ],
            [
             0.7777777777777778,
             "#fb9f3a"
            ],
            [
             0.8888888888888888,
             "#fdca26"
            ],
            [
             1,
             "#f0f921"
            ]
           ]
          },
          "colorway": [
           "#636efa",
           "#EF553B",
           "#00cc96",
           "#ab63fa",
           "#FFA15A",
           "#19d3f3",
           "#FF6692",
           "#B6E880",
           "#FF97FF",
           "#FECB52"
          ],
          "font": {
           "color": "#2a3f5f"
          },
          "geo": {
           "bgcolor": "white",
           "lakecolor": "white",
           "landcolor": "white",
           "showlakes": true,
           "showland": true,
           "subunitcolor": "#C8D4E3"
          },
          "hoverlabel": {
           "align": "left"
          },
          "hovermode": "closest",
          "mapbox": {
           "style": "light"
          },
          "paper_bgcolor": "white",
          "plot_bgcolor": "white",
          "polar": {
           "angularaxis": {
            "gridcolor": "#EBF0F8",
            "linecolor": "#EBF0F8",
            "ticks": ""
           },
           "bgcolor": "white",
           "radialaxis": {
            "gridcolor": "#EBF0F8",
            "linecolor": "#EBF0F8",
            "ticks": ""
           }
          },
          "scene": {
           "xaxis": {
            "backgroundcolor": "white",
            "gridcolor": "#DFE8F3",
            "gridwidth": 2,
            "linecolor": "#EBF0F8",
            "showbackground": true,
            "ticks": "",
            "zerolinecolor": "#EBF0F8"
           },
           "yaxis": {
            "backgroundcolor": "white",
            "gridcolor": "#DFE8F3",
            "gridwidth": 2,
            "linecolor": "#EBF0F8",
            "showbackground": true,
            "ticks": "",
            "zerolinecolor": "#EBF0F8"
           },
           "zaxis": {
            "backgroundcolor": "white",
            "gridcolor": "#DFE8F3",
            "gridwidth": 2,
            "linecolor": "#EBF0F8",
            "showbackground": true,
            "ticks": "",
            "zerolinecolor": "#EBF0F8"
           }
          },
          "shapedefaults": {
           "line": {
            "color": "#2a3f5f"
           }
          },
          "ternary": {
           "aaxis": {
            "gridcolor": "#DFE8F3",
            "linecolor": "#A2B1C6",
            "ticks": ""
           },
           "baxis": {
            "gridcolor": "#DFE8F3",
            "linecolor": "#A2B1C6",
            "ticks": ""
           },
           "bgcolor": "white",
           "caxis": {
            "gridcolor": "#DFE8F3",
            "linecolor": "#A2B1C6",
            "ticks": ""
           }
          },
          "title": {
           "x": 0.05
          },
          "xaxis": {
           "automargin": true,
           "gridcolor": "#EBF0F8",
           "linecolor": "#EBF0F8",
           "ticks": "",
           "title": {
            "standoff": 15
           },
           "zerolinecolor": "#EBF0F8",
           "zerolinewidth": 2
          },
          "yaxis": {
           "automargin": true,
           "gridcolor": "#EBF0F8",
           "linecolor": "#EBF0F8",
           "ticks": "",
           "title": {
            "standoff": 15
           },
           "zerolinecolor": "#EBF0F8",
           "zerolinewidth": 2
          }
         }
        },
        "title": {
         "text": "[2022-04-10 00:08:29] Episode: 2/2 Step: 61/200"
        },
        "xaxis": {
         "anchor": "y",
         "domain": [
          0,
          1
         ],
         "gridcolor": "Gainsboro",
         "linecolor": "Grey",
         "matches": "x4",
         "rangeslider": {
          "visible": false
         },
         "showticklabels": false,
         "title": {
          "font": {
           "size": 12
          },
          "standoff": 7,
          "text": "Price"
         }
        },
        "xaxis2": {
         "anchor": "y2",
         "domain": [
          0,
          1
         ],
         "gridcolor": "Gainsboro",
         "linecolor": "Grey",
         "matches": "x4",
         "showticklabels": false,
         "title": {
          "font": {
           "size": 12
          },
          "standoff": 7,
          "text": "Volume"
         }
        },
        "xaxis3": {
         "anchor": "y3",
         "domain": [
          0,
          1
         ],
         "gridcolor": "Gainsboro",
         "linecolor": "Grey",
         "matches": "x4",
         "showticklabels": false,
         "title": {
          "font": {
           "size": 12
          },
          "standoff": 7,
          "text": "Performance"
         }
        },
        "xaxis4": {
         "anchor": "y4",
         "domain": [
          0,
          1
         ],
         "gridcolor": "Gainsboro",
         "linecolor": "Grey",
         "title": {
          "font": {
           "size": 12
          },
          "standoff": 7,
          "text": "Net Worth"
         }
        },
        "yaxis": {
         "anchor": "x",
         "domain": [
          0.49950000000000006,
          1
         ],
         "gridcolor": "Gainsboro",
         "linecolor": "Grey"
        },
        "yaxis2": {
         "anchor": "x2",
         "domain": [
          0.333,
          0.46950000000000003
         ],
         "gridcolor": "Gainsboro",
         "linecolor": "Grey"
        },
        "yaxis3": {
         "anchor": "x3",
         "domain": [
          0.1665,
          0.30300000000000005
         ],
         "gridcolor": "Gainsboro",
         "linecolor": "Grey"
        },
        "yaxis4": {
         "anchor": "x4",
         "domain": [
          0,
          0.1365
         ],
         "gridcolor": "Gainsboro",
         "linecolor": "Grey"
        }
       }
      }
     },
     "metadata": {},
     "output_type": "display_data"
    },
    {
     "data": {
      "application/vnd.jupyter.widget-view+json": {
       "model_id": "a46f5e755d6048fca6f2305516d12de0",
       "version_major": 2,
       "version_minor": 0
      },
      "text/plain": [
       "FigureWidget({\n",
       "    'data': [{'close': array([8740.99, 8739.  , 8728.49, 8708.32, 8795.9 , 8760.  , 8760.  , 87…"
      ]
     },
     "metadata": {},
     "output_type": "display_data"
    },
    {
     "data": {
      "application/vnd.plotly.v1+json": {
       "config": {
        "plotlyServerURL": "https://plot.ly"
       },
       "data": [
        {
         "close": [
          8740.99,
          8739,
          8728.49,
          8708.32,
          8795.9,
          8760,
          8760,
          8759.23,
          8517.77,
          8520.3,
          8535.23,
          8546.34,
          8526.65,
          8555.6,
          8512.1,
          8492.28,
          8460,
          8474.99,
          8455.92,
          8326.28,
          8133.43,
          8164.79,
          8229.38,
          8220.4,
          8238.8,
          8232.99,
          8207.48,
          8243.45,
          8371.13,
          8373,
          8365.08,
          8179.99,
          8225,
          8285.8,
          8273.4,
          8297.4,
          8279.89,
          8252.72,
          8302.18,
          8295.85,
          8277.25,
          8346.59,
          8358.3,
          8375.1,
          8368.62,
          8366.72,
          8314.77,
          8363.7,
          8344.16,
          8247.4,
          8277.4,
          8291.67,
          8307.89,
          8298.9,
          8269.47,
          8300.98,
          8318.49,
          8306.39,
          8276.43,
          8257.69,
          8166,
          8176.33,
          8200.7,
          8155.41,
          8080,
          8067.03,
          7958.08,
          7974.25,
          7998.5,
          7991.99,
          8022.7,
          8042.97,
          7965.67,
          8088.95,
          8122.19,
          8107.99,
          8137.73,
          8115,
          8107,
          8094.4,
          8080.01
         ],
         "high": [
          8796.68,
          8766,
          8750.27,
          8754.4,
          8865,
          8821.19,
          8798.6,
          8771.02,
          8761.7,
          8553.67,
          8589.1,
          8579.48,
          8555.51,
          8583.6,
          8569.92,
          8555.54,
          8557.51,
          8505,
          8505.33,
          8478.29,
          8339.81,
          8217.44,
          8252.72,
          8248.63,
          8267.12,
          8255,
          8261.24,
          8263.93,
          8455.66,
          8439.44,
          8399.1,
          8381.73,
          8229.91,
          8377.29,
          8329.1,
          8350,
          8346.95,
          8377.29,
          8311.35,
          8319.96,
          8398.24,
          8372.58,
          8399.99,
          8386.53,
          8400,
          8500,
          8381,
          8371.3,
          8382.41,
          8351,
          8292.99,
          8325.8,
          8318.99,
          8324.9,
          8335.56,
          8309.4,
          8377.29,
          8330.41,
          8328.23,
          8284.36,
          8274.83,
          8200,
          8232.14,
          8213.97,
          8155.41,
          8108.28,
          8068.92,
          8019.9,
          8026.66,
          8025,
          8104.69,
          8061.39,
          8045.99,
          8170.71,
          8144.16,
          8139.99,
          8152.99,
          8137.73,
          8143.72,
          8129.99,
          8106.76
         ],
         "low": [
          8707.28,
          8721.11,
          8660.53,
          8701.35,
          8695.11,
          8740.54,
          8741.52,
          8700,
          8467.42,
          8477.89,
          8500.78,
          8500,
          8400,
          8451.05,
          8461.38,
          8481.24,
          8420.37,
          8450,
          8430.94,
          8275.02,
          8100.01,
          8122.56,
          8157.01,
          8166.25,
          8176.91,
          8213.79,
          8200,
          8207.48,
          8237.1,
          8370,
          8356.4,
          8145.1,
          8173.6,
          8211.8,
          8201,
          8250.9,
          8266.46,
          8252.72,
          8232.14,
          8268.37,
          8277.25,
          8277.25,
          8314.78,
          8314.77,
          8350.07,
          8331.39,
          8314.77,
          8275.45,
          8335.49,
          8191.14,
          8227.7,
          8264.13,
          8249.93,
          8269.52,
          8219.44,
          8262.68,
          8286.65,
          8289.87,
          8232.14,
          8232.14,
          8110.02,
          8154.95,
          8168.6,
          8151,
          7980,
          8005.95,
          7929.53,
          7931.03,
          7950,
          7980.58,
          7991.99,
          7992.75,
          7953.4,
          7965.67,
          8085.94,
          8078.48,
          8092.9,
          8049.22,
          8079.46,
          8062.12,
          8043.96
         ],
         "name": "Price",
         "open": [
          8733.86,
          8740.99,
          8739,
          8728.49,
          8708.32,
          8795.9,
          8760,
          8760,
          8759.23,
          8517.77,
          8520.3,
          8535.23,
          8546.34,
          8526.65,
          8555.6,
          8512.1,
          8492.28,
          8460,
          8474.99,
          8455.92,
          8326.28,
          8133.43,
          8164.79,
          8229.38,
          8220.4,
          8238.8,
          8232.99,
          8207.48,
          8243.45,
          8371.13,
          8373,
          8365.08,
          8179.99,
          8225,
          8285.8,
          8273.4,
          8297.4,
          8279.89,
          8252.72,
          8302.18,
          8295.85,
          8277.25,
          8346.59,
          8358.3,
          8375.1,
          8368.62,
          8366.72,
          8314.77,
          8363.7,
          8344.16,
          8247.4,
          8277.4,
          8291.67,
          8307.89,
          8298.9,
          8269.47,
          8300.98,
          8318.49,
          8306.39,
          8276.43,
          8257.69,
          8166,
          8176.33,
          8200.7,
          8155.41,
          8080,
          8067.03,
          7958.08,
          7974.25,
          7998.5,
          7991.99,
          8022.7,
          8042.97,
          7965.67,
          8088.95,
          8122.19,
          8107.99,
          8137.73,
          8115,
          8107,
          8094.4
         ],
         "showlegend": false,
         "type": "candlestick",
         "uid": "50305746-acbe-483f-b8bd-5ee326eca239",
         "xaxis": "x",
         "yaxis": "y"
        },
        {
         "marker": {
          "color": "DodgerBlue"
         },
         "name": "Volume",
         "showlegend": false,
         "type": "bar",
         "uid": "0b0694af-d058-44fd-a8e6-b25a9a83e2b0",
         "xaxis": "x2",
         "y": [
          559.93,
          273.58,
          917.79,
          182.62,
          1260.69,
          324.11,
          324.2,
          730.67,
          1341.75,
          792.07,
          385.69,
          475.08,
          877.26,
          670.49,
          610.97,
          168.99,
          305.92,
          136.05,
          154.26,
          1070.93,
          1710.2,
          492.8,
          630.72,
          620.93,
          586.34,
          304.52,
          450.97,
          182.36,
          915.32,
          319.29,
          362.01,
          1046.38,
          357.91,
          561.2,
          322.53,
          1073.71,
          237.21,
          251.2,
          359.73,
          117.23,
          363.17,
          214.18,
          171.64,
          258.58,
          299.52,
          718.98,
          119.7,
          405.25,
          210.77,
          714.82,
          215.97,
          164.2,
          201.55,
          203.41,
          886.82,
          95.49,
          499.67,
          172.77,
          355.39,
          255.27,
          591.06,
          133.1,
          149.13,
          87.55,
          1061.54,
          286.94,
          524.42,
          316,
          441.43,
          189.7,
          844.94,
          155.34,
          257.56,
          610.69,
          217.97,
          173.18,
          218.06,
          372.97,
          484.39,
          248.1,
          162.35
         ],
         "yaxis": "y2"
        },
        {
         "mode": "lines",
         "name": "bitstamp:/USD-BTC",
         "type": "scatter",
         "uid": "7633330c-73a6-45ce-bf50-e1d3eb811fe9",
         "xaxis": "x3",
         "y": [
          8740.99,
          8739,
          8728.49,
          8708.32,
          8795.9,
          8760,
          8760,
          8759.23,
          8517.77,
          8520.3,
          8535.23,
          8546.34,
          8526.65,
          8555.6,
          8512.1,
          8492.28,
          8460,
          8474.99,
          8455.92,
          8326.28,
          8133.43,
          8164.79,
          8229.38,
          8220.4,
          8238.8,
          8232.99,
          8207.48,
          8243.45,
          8371.13,
          8373,
          8365.08,
          8179.99,
          8225,
          8285.8,
          8273.4,
          8297.4,
          8279.89,
          8252.72,
          8302.18,
          8295.85,
          8277.25,
          8346.59,
          8358.3,
          8375.1,
          8368.62,
          8366.72,
          8314.77,
          8363.7,
          8344.16,
          8247.4,
          8277.4,
          8291.67,
          8307.89,
          8298.9,
          8269.47,
          8300.98,
          8318.49,
          8306.39,
          8276.43,
          8257.69,
          8166,
          8176.33,
          8200.7,
          8155.41,
          8080,
          8067.03,
          7958.08,
          7974.25,
          7998.5,
          7991.99,
          8022.7,
          8042.97,
          7965.67,
          8088.95,
          8122.19,
          8107.99,
          8137.73,
          8115,
          8107,
          8094.4,
          8080.01
         ],
         "yaxis": "y3"
        },
        {
         "mode": "lines",
         "name": "bitstamp:/USD:/free",
         "type": "scatter",
         "uid": "b7b5fee1-fcd9-4177-863c-64eba3d65df3",
         "xaxis": "x3",
         "y": [
          10000,
          10000,
          10000,
          2000,
          2000,
          2000,
          2000,
          2000,
          2000,
          2000,
          2000,
          2000,
          2000,
          2000,
          2000,
          2000,
          2000,
          2000,
          2000,
          2000,
          9585.64,
          9585.64,
          9585.64,
          9585.64,
          9585.64,
          1917.13,
          1917.13,
          1917.13,
          1917.13,
          9662.13,
          9662.13,
          9662.13,
          9662.13,
          9662.13,
          9662.13,
          9662.13,
          9662.13,
          9662.13,
          9662.13,
          9662.13,
          9662.13,
          9662.13,
          9662.13,
          9662.13,
          9662.13,
          5797.28,
          5797.28,
          5797.28,
          5797.28,
          5797.28,
          5797.28,
          5797.28,
          5797.28,
          5797.28,
          5797.28,
          5797.28,
          5797.28,
          5797.28,
          5797.28,
          5797.28,
          5797.28,
          9545.97,
          9545.97,
          9545.97,
          9545.97,
          9545.97,
          9545.97,
          9545.97,
          9545.97,
          9545.97,
          9545.97,
          9545.97,
          9545.97,
          9545.97,
          9545.97,
          9545.97,
          9545.97,
          9545.97,
          9545.97,
          9545.97,
          9545.97
         ],
         "yaxis": "y3"
        },
        {
         "mode": "lines",
         "name": "bitstamp:/USD:/locked",
         "type": "scatter",
         "uid": "99dd8a26-fe84-43a4-af3c-0c42748827c8",
         "xaxis": "x3",
         "y": [
          0,
          0,
          0,
          0,
          0,
          0,
          0,
          0,
          0,
          0,
          0,
          0,
          0,
          0,
          0,
          0,
          0,
          0,
          0,
          0,
          0,
          0,
          0,
          0,
          0,
          0,
          0,
          0,
          0,
          0,
          0,
          0,
          0,
          0,
          0,
          0,
          0,
          0,
          0,
          0,
          0,
          0,
          0,
          0,
          0,
          0,
          0,
          0,
          0,
          0,
          0,
          0,
          0,
          0,
          0,
          0,
          0,
          0,
          0,
          0,
          0,
          0,
          0,
          0,
          0,
          0,
          0,
          0,
          0,
          0,
          0,
          0,
          0,
          0,
          0,
          0,
          0,
          0,
          0,
          0,
          0
         ],
         "yaxis": "y3"
        },
        {
         "mode": "lines",
         "name": "bitstamp:/USD:/total",
         "type": "scatter",
         "uid": "bc6113cd-7ed0-47a2-b189-fba82d6153a0",
         "xaxis": "x3",
         "y": [
          10000,
          10000,
          10000,
          2000,
          2000,
          2000,
          2000,
          2000,
          2000,
          2000,
          2000,
          2000,
          2000,
          2000,
          2000,
          2000,
          2000,
          2000,
          2000,
          2000,
          9585.64,
          9585.64,
          9585.64,
          9585.64,
          9585.64,
          1917.13,
          1917.13,
          1917.13,
          1917.13,
          9662.13,
          9662.13,
          9662.13,
          9662.13,
          9662.13,
          9662.13,
          9662.13,
          9662.13,
          9662.13,
          9662.13,
          9662.13,
          9662.13,
          9662.13,
          9662.13,
          9662.13,
          9662.13,
          5797.28,
          5797.28,
          5797.28,
          5797.28,
          5797.28,
          5797.28,
          5797.28,
          5797.28,
          5797.28,
          5797.28,
          5797.28,
          5797.28,
          5797.28,
          5797.28,
          5797.28,
          5797.28,
          9545.97,
          9545.97,
          9545.97,
          9545.97,
          9545.97,
          9545.97,
          9545.97,
          9545.97,
          9545.97,
          9545.97,
          9545.97,
          9545.97,
          9545.97,
          9545.97,
          9545.97,
          9545.97,
          9545.97,
          9545.97,
          9545.97,
          9545.97
         ],
         "yaxis": "y3"
        },
        {
         "mode": "lines",
         "name": "bitstamp:/BTC:/free",
         "type": "scatter",
         "uid": "b9fb4513-0222-404a-adfd-0daee901fb10",
         "xaxis": "x3",
         "y": [
          10,
          10,
          10,
          10,
          10,
          10,
          10,
          10,
          10,
          10,
          10,
          10,
          10,
          10,
          10,
          10,
          10,
          10,
          10,
          10,
          10,
          10,
          10,
          10,
          10,
          10,
          10,
          10,
          10,
          10,
          10,
          10,
          10,
          10,
          10,
          10,
          10,
          10,
          10,
          10,
          10,
          10,
          10,
          10,
          10,
          10,
          10,
          10,
          10,
          10,
          10,
          10,
          10,
          10,
          10,
          10,
          10,
          10,
          10,
          10,
          10,
          10,
          10,
          10,
          10,
          10,
          10,
          10,
          10,
          10,
          10,
          10,
          10,
          10,
          10,
          10,
          10,
          10,
          10,
          10,
          10
         ],
         "yaxis": "y3"
        },
        {
         "mode": "lines",
         "name": "bitstamp:/BTC:/locked",
         "type": "scatter",
         "uid": "b528086b-2a60-427d-8bfd-a138812a9361",
         "xaxis": "x3",
         "y": [
          0,
          0,
          0,
          0.91378921,
          0.91378921,
          0.91378921,
          0.91378921,
          0.91378921,
          0.91378921,
          0.91378921,
          0.91378921,
          0.91378921,
          0.91378921,
          0.91378921,
          0.91378921,
          0.91378921,
          0.91378921,
          0.91378921,
          0.91378921,
          0.91378921,
          0,
          0,
          0,
          0,
          0,
          0.92798709,
          0.92798709,
          0.92798709,
          0.92798709,
          0,
          0,
          0,
          0,
          0,
          0,
          0,
          0,
          0,
          0,
          0,
          0,
          0,
          0,
          0,
          0,
          0.46044151,
          0.46044151,
          0.46044151,
          0.46044151,
          0.46044151,
          0.46044151,
          0.46044151,
          0.46044151,
          0.46044151,
          0.46044151,
          0.46044151,
          0.46044151,
          0.46044151,
          0.46044151,
          0.46044151,
          0.46044151,
          0,
          0,
          0,
          0,
          0,
          0,
          0,
          0,
          0,
          0,
          0,
          0,
          0,
          0,
          0,
          0,
          0,
          0,
          0,
          0
         ],
         "yaxis": "y3"
        },
        {
         "mode": "lines",
         "name": "bitstamp:/BTC:/total",
         "type": "scatter",
         "uid": "2ffc07fd-84ea-4e58-918c-419a185df287",
         "xaxis": "x3",
         "y": [
          10,
          10,
          10,
          10.91378921,
          10.91378921,
          10.91378921,
          10.91378921,
          10.91378921,
          10.91378921,
          10.91378921,
          10.91378921,
          10.91378921,
          10.91378921,
          10.91378921,
          10.91378921,
          10.91378921,
          10.91378921,
          10.91378921,
          10.91378921,
          10.91378921,
          10,
          10,
          10,
          10,
          10,
          10.92798709,
          10.92798709,
          10.92798709,
          10.92798709,
          10,
          10,
          10,
          10,
          10,
          10,
          10,
          10,
          10,
          10,
          10,
          10,
          10,
          10,
          10,
          10,
          10.46044151,
          10.46044151,
          10.46044151,
          10.46044151,
          10.46044151,
          10.46044151,
          10.46044151,
          10.46044151,
          10.46044151,
          10.46044151,
          10.46044151,
          10.46044151,
          10.46044151,
          10.46044151,
          10.46044151,
          10.46044151,
          10,
          10,
          10,
          10,
          10,
          10,
          10,
          10,
          10,
          10,
          10,
          10,
          10,
          10,
          10,
          10,
          10,
          10,
          10,
          10
         ],
         "yaxis": "y3"
        },
        {
         "mode": "lines",
         "name": "bitstamp:/BTC:/worth",
         "type": "scatter",
         "uid": "66a51bd5-08f5-4308-b164-b740b790d342",
         "xaxis": "x3",
         "y": [
          87409.9,
          87390,
          87284.9,
          95040.76885322719,
          95996.59851223898,
          95604.79347959999,
          95604.79347959999,
          95596.38986190829,
          92961.1463192617,
          92988.75820596298,
          93151.70107886828,
          93272.9532769914,
          93058.06076744648,
          93374.014965076,
          92899.265134441,
          92682.9538322988,
          92330.65671659999,
          92494.25441685789,
          92286.12845662319,
          90871.2648234388,
          81334.3,
          81647.9,
          82293.79999999999,
          82204,
          82388,
          89970.0084320991,
          89691.23548143319,
          90084.3151770605,
          91479.6005687117,
          83730,
          83650.8,
          81799.9,
          82250,
          82858,
          82734,
          82974,
          82798.9,
          82527.2,
          83021.8,
          82958.5,
          82772.5,
          83465.9,
          83583,
          83751,
          83686.20000000001,
          87519.5851905472,
          86976.16525410271,
          87487.99465718701,
          87283.59763008161,
          86271.445309574,
          86585.258554874,
          86734.5290552217,
          86904.1974165139,
          86810.158047339,
          86502.3072536997,
          86831.9157656798,
          87015.07809651991,
          86888.5067542489,
          86575.11192660932,
          86379.0832527119,
          85419.96537066001,
          81763.3,
          82007,
          81554.1,
          80800,
          80670.3,
          79580.8,
          79742.5,
          79985,
          79919.9,
          80227,
          80429.7,
          79656.7,
          80889.5,
          81221.9,
          81079.9,
          81377.29999999999,
          81150,
          81070,
          80944,
          80800.1
         ],
         "yaxis": "y3"
        },
        {
         "mode": "lines",
         "name": "net_worth",
         "type": "scatter",
         "uid": "81910362-5a88-461a-9686-2e0579338611",
         "xaxis": "x3",
         "y": [
          97409.9,
          97390,
          97284.9,
          97040.76885322719,
          97996.59851223898,
          97604.79347959999,
          97604.79347959999,
          97596.38986190829,
          94961.1463192617,
          94988.75820596298,
          95151.70107886828,
          95272.9532769914,
          95058.06076744648,
          95374.014965076,
          94899.265134441,
          94682.9538322988,
          94330.65671659999,
          94494.25441685789,
          94286.12845662319,
          92871.2648234388,
          90919.94,
          91233.54,
          91879.43999999999,
          91789.64,
          91973.64,
          91887.1384320991,
          91608.3654814332,
          92001.44517706051,
          93396.7305687117,
          93392.13,
          93312.93000000001,
          91462.03,
          91912.13,
          92520.13,
          92396.13,
          92636.13,
          92461.03,
          92189.33,
          92683.93000000001,
          92620.63,
          92434.63,
          93128.03,
          93245.13,
          93413.13,
          93348.33000000002,
          93316.86519054719,
          92773.44525410271,
          93285.27465718701,
          93080.87763008161,
          92068.725309574,
          92382.538554874,
          92531.8090552217,
          92701.4774165139,
          92607.438047339,
          92299.5872536997,
          92629.1957656798,
          92812.3580965199,
          92685.7867542489,
          92372.39192660931,
          92176.3632527119,
          91217.24537066,
          91309.27,
          91552.97,
          91100.07,
          90345.97,
          90216.27,
          89126.77,
          89288.47,
          89530.97,
          89465.87,
          89772.97,
          89975.67,
          89202.67,
          90435.47,
          90767.87,
          90625.87,
          90923.26999999999,
          90695.97,
          90615.97,
          90489.97,
          90346.07
         ],
         "yaxis": "y3"
        },
        {
         "marker": {
          "color": "DarkGreen"
         },
         "mode": "lines",
         "name": "Net Worth",
         "type": "scatter",
         "uid": "2a16b7a4-6c62-48f6-86ee-f813f28782f1",
         "xaxis": "x4",
         "y": [
          97409.9,
          97390,
          97284.9,
          97040.76885322719,
          97996.59851223898,
          97604.79347959999,
          97604.79347959999,
          97596.38986190829,
          94961.1463192617,
          94988.75820596298,
          95151.70107886828,
          95272.9532769914,
          95058.06076744648,
          95374.014965076,
          94899.265134441,
          94682.9538322988,
          94330.65671659999,
          94494.25441685789,
          94286.12845662319,
          92871.2648234388,
          90919.94,
          91233.54,
          91879.43999999999,
          91789.64,
          91973.64,
          91887.1384320991,
          91608.3654814332,
          92001.44517706051,
          93396.7305687117,
          93392.13,
          93312.93000000001,
          91462.03,
          91912.13,
          92520.13,
          92396.13,
          92636.13,
          92461.03,
          92189.33,
          92683.93000000001,
          92620.63,
          92434.63,
          93128.03,
          93245.13,
          93413.13,
          93348.33000000002,
          93316.86519054719,
          92773.44525410271,
          93285.27465718701,
          93080.87763008161,
          92068.725309574,
          92382.538554874,
          92531.8090552217,
          92701.4774165139,
          92607.438047339,
          92299.5872536997,
          92629.1957656798,
          92812.3580965199,
          92685.7867542489,
          92372.39192660931,
          92176.3632527119,
          91217.24537066,
          91309.27,
          91552.97,
          91100.07,
          90345.97,
          90216.27,
          89126.77,
          89288.47,
          89530.97,
          89465.87,
          89772.97,
          89975.67,
          89202.67,
          90435.47,
          90767.87,
          90625.87,
          90923.26999999999,
          90695.97,
          90615.97,
          90489.97,
          90346.07
         ],
         "yaxis": "y4"
        }
       ],
       "layout": {
        "annotations": [
         {
          "arrowcolor": "FireBrick",
          "arrowhead": 2,
          "arrowsize": 0.8,
          "arrowwidth": 4,
          "ax": 0,
          "ay": -15,
          "hoverlabel": {
           "bgcolor": "FireBrick"
          },
          "hovertext": "Step 20 [2018-05-16 01:00:00]<br>SELL 0.91104784 BTC @ 8326.28 USD MARKET<br>Total: 7585.64 USD - Comm.: 0.00274137 BTC",
          "opacity": 0.6,
          "showarrow": true,
          "x": 19,
          "xref": "x",
          "y": 8326.28,
          "yref": "y"
         },
         {
          "arrowcolor": "DarkGreen",
          "arrowhead": 2,
          "arrowsize": 0.8,
          "arrowwidth": 4,
          "ax": 0,
          "ay": 15,
          "hoverlabel": {
           "bgcolor": "DarkGreen"
          },
          "hovertext": "Step 3 [2018-05-15 08:00:00]<br>BUY 0.91378921 BTC @ 8728.49 USD MARKET<br>Total: 7976.0 USD - Comm.: 24.00 USD",
          "opacity": 0.6,
          "showarrow": true,
          "x": 2,
          "xref": "x",
          "y": 8728.49,
          "yref": "y"
         },
         {
          "arrowcolor": "FireBrick",
          "arrowhead": 2,
          "arrowsize": 0.8,
          "arrowwidth": 4,
          "ax": 0,
          "ay": -15,
          "hoverlabel": {
           "bgcolor": "FireBrick"
          },
          "hovertext": "Step 29 [2018-05-16 10:00:00]<br>SELL 0.92520313 BTC @ 8371.13 USD MARKET<br>Total: 7745.0 USD - Comm.: 0.00278396 BTC",
          "opacity": 0.6,
          "showarrow": true,
          "x": 28,
          "xref": "x",
          "y": 8371.13,
          "yref": "y"
         },
         {
          "arrowcolor": "DarkGreen",
          "arrowhead": 2,
          "arrowsize": 0.8,
          "arrowwidth": 4,
          "ax": 0,
          "ay": 15,
          "hoverlabel": {
           "bgcolor": "DarkGreen"
          },
          "hovertext": "Step 25 [2018-05-16 06:00:00]<br>BUY 0.92798709 BTC @ 8238.8 USD MARKET<br>Total: 7645.5 USD - Comm.: 23.01 USD",
          "opacity": 0.6,
          "showarrow": true,
          "x": 24,
          "xref": "x",
          "y": 8238.8,
          "yref": "y"
         },
         {
          "arrowcolor": "DarkGreen",
          "arrowhead": 2,
          "arrowsize": 0.8,
          "arrowwidth": 4,
          "ax": 0,
          "ay": 15,
          "hoverlabel": {
           "bgcolor": "DarkGreen"
          },
          "hovertext": "Step 45 [2018-05-17 02:00:00]<br>BUY 0.46044151 BTC @ 8368.62 USD MARKET<br>Total: 3853.26 USD - Comm.: 11.59 USD",
          "opacity": 0.6,
          "showarrow": true,
          "x": 44,
          "xref": "x",
          "y": 8368.62,
          "yref": "y"
         },
         {
          "arrowcolor": "FireBrick",
          "arrowhead": 2,
          "arrowsize": 0.8,
          "arrowwidth": 4,
          "ax": 0,
          "ay": -15,
          "hoverlabel": {
           "bgcolor": "FireBrick"
          },
          "hovertext": "Step 61 [2018-05-17 18:00:00]<br>SELL 0.45906019 BTC @ 8166.0 USD MARKET<br>Total: 3748.69 USD - Comm.: 0.00138132 BTC",
          "opacity": 0.6,
          "showarrow": true,
          "x": 60,
          "xref": "x",
          "y": 8166,
          "yref": "y"
         }
        ],
        "margin": {
         "t": 50
        },
        "template": {
         "data": {
          "bar": [
           {
            "error_x": {
             "color": "#2a3f5f"
            },
            "error_y": {
             "color": "#2a3f5f"
            },
            "marker": {
             "line": {
              "color": "white",
              "width": 0.5
             },
             "pattern": {
              "fillmode": "overlay",
              "size": 10,
              "solidity": 0.2
             }
            },
            "type": "bar"
           }
          ],
          "barpolar": [
           {
            "marker": {
             "line": {
              "color": "white",
              "width": 0.5
             },
             "pattern": {
              "fillmode": "overlay",
              "size": 10,
              "solidity": 0.2
             }
            },
            "type": "barpolar"
           }
          ],
          "carpet": [
           {
            "aaxis": {
             "endlinecolor": "#2a3f5f",
             "gridcolor": "#C8D4E3",
             "linecolor": "#C8D4E3",
             "minorgridcolor": "#C8D4E3",
             "startlinecolor": "#2a3f5f"
            },
            "baxis": {
             "endlinecolor": "#2a3f5f",
             "gridcolor": "#C8D4E3",
             "linecolor": "#C8D4E3",
             "minorgridcolor": "#C8D4E3",
             "startlinecolor": "#2a3f5f"
            },
            "type": "carpet"
           }
          ],
          "choropleth": [
           {
            "colorbar": {
             "outlinewidth": 0,
             "ticks": ""
            },
            "type": "choropleth"
           }
          ],
          "contour": [
           {
            "colorbar": {
             "outlinewidth": 0,
             "ticks": ""
            },
            "colorscale": [
             [
              0,
              "#0d0887"
             ],
             [
              0.1111111111111111,
              "#46039f"
             ],
             [
              0.2222222222222222,
              "#7201a8"
             ],
             [
              0.3333333333333333,
              "#9c179e"
             ],
             [
              0.4444444444444444,
              "#bd3786"
             ],
             [
              0.5555555555555556,
              "#d8576b"
             ],
             [
              0.6666666666666666,
              "#ed7953"
             ],
             [
              0.7777777777777778,
              "#fb9f3a"
             ],
             [
              0.8888888888888888,
              "#fdca26"
             ],
             [
              1,
              "#f0f921"
             ]
            ],
            "type": "contour"
           }
          ],
          "contourcarpet": [
           {
            "colorbar": {
             "outlinewidth": 0,
             "ticks": ""
            },
            "type": "contourcarpet"
           }
          ],
          "heatmap": [
           {
            "colorbar": {
             "outlinewidth": 0,
             "ticks": ""
            },
            "colorscale": [
             [
              0,
              "#0d0887"
             ],
             [
              0.1111111111111111,
              "#46039f"
             ],
             [
              0.2222222222222222,
              "#7201a8"
             ],
             [
              0.3333333333333333,
              "#9c179e"
             ],
             [
              0.4444444444444444,
              "#bd3786"
             ],
             [
              0.5555555555555556,
              "#d8576b"
             ],
             [
              0.6666666666666666,
              "#ed7953"
             ],
             [
              0.7777777777777778,
              "#fb9f3a"
             ],
             [
              0.8888888888888888,
              "#fdca26"
             ],
             [
              1,
              "#f0f921"
             ]
            ],
            "type": "heatmap"
           }
          ],
          "heatmapgl": [
           {
            "colorbar": {
             "outlinewidth": 0,
             "ticks": ""
            },
            "colorscale": [
             [
              0,
              "#0d0887"
             ],
             [
              0.1111111111111111,
              "#46039f"
             ],
             [
              0.2222222222222222,
              "#7201a8"
             ],
             [
              0.3333333333333333,
              "#9c179e"
             ],
             [
              0.4444444444444444,
              "#bd3786"
             ],
             [
              0.5555555555555556,
              "#d8576b"
             ],
             [
              0.6666666666666666,
              "#ed7953"
             ],
             [
              0.7777777777777778,
              "#fb9f3a"
             ],
             [
              0.8888888888888888,
              "#fdca26"
             ],
             [
              1,
              "#f0f921"
             ]
            ],
            "type": "heatmapgl"
           }
          ],
          "histogram": [
           {
            "marker": {
             "pattern": {
              "fillmode": "overlay",
              "size": 10,
              "solidity": 0.2
             }
            },
            "type": "histogram"
           }
          ],
          "histogram2d": [
           {
            "colorbar": {
             "outlinewidth": 0,
             "ticks": ""
            },
            "colorscale": [
             [
              0,
              "#0d0887"
             ],
             [
              0.1111111111111111,
              "#46039f"
             ],
             [
              0.2222222222222222,
              "#7201a8"
             ],
             [
              0.3333333333333333,
              "#9c179e"
             ],
             [
              0.4444444444444444,
              "#bd3786"
             ],
             [
              0.5555555555555556,
              "#d8576b"
             ],
             [
              0.6666666666666666,
              "#ed7953"
             ],
             [
              0.7777777777777778,
              "#fb9f3a"
             ],
             [
              0.8888888888888888,
              "#fdca26"
             ],
             [
              1,
              "#f0f921"
             ]
            ],
            "type": "histogram2d"
           }
          ],
          "histogram2dcontour": [
           {
            "colorbar": {
             "outlinewidth": 0,
             "ticks": ""
            },
            "colorscale": [
             [
              0,
              "#0d0887"
             ],
             [
              0.1111111111111111,
              "#46039f"
             ],
             [
              0.2222222222222222,
              "#7201a8"
             ],
             [
              0.3333333333333333,
              "#9c179e"
             ],
             [
              0.4444444444444444,
              "#bd3786"
             ],
             [
              0.5555555555555556,
              "#d8576b"
             ],
             [
              0.6666666666666666,
              "#ed7953"
             ],
             [
              0.7777777777777778,
              "#fb9f3a"
             ],
             [
              0.8888888888888888,
              "#fdca26"
             ],
             [
              1,
              "#f0f921"
             ]
            ],
            "type": "histogram2dcontour"
           }
          ],
          "mesh3d": [
           {
            "colorbar": {
             "outlinewidth": 0,
             "ticks": ""
            },
            "type": "mesh3d"
           }
          ],
          "parcoords": [
           {
            "line": {
             "colorbar": {
              "outlinewidth": 0,
              "ticks": ""
             }
            },
            "type": "parcoords"
           }
          ],
          "pie": [
           {
            "automargin": true,
            "type": "pie"
           }
          ],
          "scatter": [
           {
            "marker": {
             "colorbar": {
              "outlinewidth": 0,
              "ticks": ""
             }
            },
            "type": "scatter"
           }
          ],
          "scatter3d": [
           {
            "line": {
             "colorbar": {
              "outlinewidth": 0,
              "ticks": ""
             }
            },
            "marker": {
             "colorbar": {
              "outlinewidth": 0,
              "ticks": ""
             }
            },
            "type": "scatter3d"
           }
          ],
          "scattercarpet": [
           {
            "marker": {
             "colorbar": {
              "outlinewidth": 0,
              "ticks": ""
             }
            },
            "type": "scattercarpet"
           }
          ],
          "scattergeo": [
           {
            "marker": {
             "colorbar": {
              "outlinewidth": 0,
              "ticks": ""
             }
            },
            "type": "scattergeo"
           }
          ],
          "scattergl": [
           {
            "marker": {
             "colorbar": {
              "outlinewidth": 0,
              "ticks": ""
             }
            },
            "type": "scattergl"
           }
          ],
          "scattermapbox": [
           {
            "marker": {
             "colorbar": {
              "outlinewidth": 0,
              "ticks": ""
             }
            },
            "type": "scattermapbox"
           }
          ],
          "scatterpolar": [
           {
            "marker": {
             "colorbar": {
              "outlinewidth": 0,
              "ticks": ""
             }
            },
            "type": "scatterpolar"
           }
          ],
          "scatterpolargl": [
           {
            "marker": {
             "colorbar": {
              "outlinewidth": 0,
              "ticks": ""
             }
            },
            "type": "scatterpolargl"
           }
          ],
          "scatterternary": [
           {
            "marker": {
             "colorbar": {
              "outlinewidth": 0,
              "ticks": ""
             }
            },
            "type": "scatterternary"
           }
          ],
          "surface": [
           {
            "colorbar": {
             "outlinewidth": 0,
             "ticks": ""
            },
            "colorscale": [
             [
              0,
              "#0d0887"
             ],
             [
              0.1111111111111111,
              "#46039f"
             ],
             [
              0.2222222222222222,
              "#7201a8"
             ],
             [
              0.3333333333333333,
              "#9c179e"
             ],
             [
              0.4444444444444444,
              "#bd3786"
             ],
             [
              0.5555555555555556,
              "#d8576b"
             ],
             [
              0.6666666666666666,
              "#ed7953"
             ],
             [
              0.7777777777777778,
              "#fb9f3a"
             ],
             [
              0.8888888888888888,
              "#fdca26"
             ],
             [
              1,
              "#f0f921"
             ]
            ],
            "type": "surface"
           }
          ],
          "table": [
           {
            "cells": {
             "fill": {
              "color": "#EBF0F8"
             },
             "line": {
              "color": "white"
             }
            },
            "header": {
             "fill": {
              "color": "#C8D4E3"
             },
             "line": {
              "color": "white"
             }
            },
            "type": "table"
           }
          ]
         },
         "layout": {
          "annotationdefaults": {
           "arrowcolor": "#2a3f5f",
           "arrowhead": 0,
           "arrowwidth": 1
          },
          "autotypenumbers": "strict",
          "coloraxis": {
           "colorbar": {
            "outlinewidth": 0,
            "ticks": ""
           }
          },
          "colorscale": {
           "diverging": [
            [
             0,
             "#8e0152"
            ],
            [
             0.1,
             "#c51b7d"
            ],
            [
             0.2,
             "#de77ae"
            ],
            [
             0.3,
             "#f1b6da"
            ],
            [
             0.4,
             "#fde0ef"
            ],
            [
             0.5,
             "#f7f7f7"
            ],
            [
             0.6,
             "#e6f5d0"
            ],
            [
             0.7,
             "#b8e186"
            ],
            [
             0.8,
             "#7fbc41"
            ],
            [
             0.9,
             "#4d9221"
            ],
            [
             1,
             "#276419"
            ]
           ],
           "sequential": [
            [
             0,
             "#0d0887"
            ],
            [
             0.1111111111111111,
             "#46039f"
            ],
            [
             0.2222222222222222,
             "#7201a8"
            ],
            [
             0.3333333333333333,
             "#9c179e"
            ],
            [
             0.4444444444444444,
             "#bd3786"
            ],
            [
             0.5555555555555556,
             "#d8576b"
            ],
            [
             0.6666666666666666,
             "#ed7953"
            ],
            [
             0.7777777777777778,
             "#fb9f3a"
            ],
            [
             0.8888888888888888,
             "#fdca26"
            ],
            [
             1,
             "#f0f921"
            ]
           ],
           "sequentialminus": [
            [
             0,
             "#0d0887"
            ],
            [
             0.1111111111111111,
             "#46039f"
            ],
            [
             0.2222222222222222,
             "#7201a8"
            ],
            [
             0.3333333333333333,
             "#9c179e"
            ],
            [
             0.4444444444444444,
             "#bd3786"
            ],
            [
             0.5555555555555556,
             "#d8576b"
            ],
            [
             0.6666666666666666,
             "#ed7953"
            ],
            [
             0.7777777777777778,
             "#fb9f3a"
            ],
            [
             0.8888888888888888,
             "#fdca26"
            ],
            [
             1,
             "#f0f921"
            ]
           ]
          },
          "colorway": [
           "#636efa",
           "#EF553B",
           "#00cc96",
           "#ab63fa",
           "#FFA15A",
           "#19d3f3",
           "#FF6692",
           "#B6E880",
           "#FF97FF",
           "#FECB52"
          ],
          "font": {
           "color": "#2a3f5f"
          },
          "geo": {
           "bgcolor": "white",
           "lakecolor": "white",
           "landcolor": "white",
           "showlakes": true,
           "showland": true,
           "subunitcolor": "#C8D4E3"
          },
          "hoverlabel": {
           "align": "left"
          },
          "hovermode": "closest",
          "mapbox": {
           "style": "light"
          },
          "paper_bgcolor": "white",
          "plot_bgcolor": "white",
          "polar": {
           "angularaxis": {
            "gridcolor": "#EBF0F8",
            "linecolor": "#EBF0F8",
            "ticks": ""
           },
           "bgcolor": "white",
           "radialaxis": {
            "gridcolor": "#EBF0F8",
            "linecolor": "#EBF0F8",
            "ticks": ""
           }
          },
          "scene": {
           "xaxis": {
            "backgroundcolor": "white",
            "gridcolor": "#DFE8F3",
            "gridwidth": 2,
            "linecolor": "#EBF0F8",
            "showbackground": true,
            "ticks": "",
            "zerolinecolor": "#EBF0F8"
           },
           "yaxis": {
            "backgroundcolor": "white",
            "gridcolor": "#DFE8F3",
            "gridwidth": 2,
            "linecolor": "#EBF0F8",
            "showbackground": true,
            "ticks": "",
            "zerolinecolor": "#EBF0F8"
           },
           "zaxis": {
            "backgroundcolor": "white",
            "gridcolor": "#DFE8F3",
            "gridwidth": 2,
            "linecolor": "#EBF0F8",
            "showbackground": true,
            "ticks": "",
            "zerolinecolor": "#EBF0F8"
           }
          },
          "shapedefaults": {
           "line": {
            "color": "#2a3f5f"
           }
          },
          "ternary": {
           "aaxis": {
            "gridcolor": "#DFE8F3",
            "linecolor": "#A2B1C6",
            "ticks": ""
           },
           "baxis": {
            "gridcolor": "#DFE8F3",
            "linecolor": "#A2B1C6",
            "ticks": ""
           },
           "bgcolor": "white",
           "caxis": {
            "gridcolor": "#DFE8F3",
            "linecolor": "#A2B1C6",
            "ticks": ""
           }
          },
          "title": {
           "x": 0.05
          },
          "xaxis": {
           "automargin": true,
           "gridcolor": "#EBF0F8",
           "linecolor": "#EBF0F8",
           "ticks": "",
           "title": {
            "standoff": 15
           },
           "zerolinecolor": "#EBF0F8",
           "zerolinewidth": 2
          },
          "yaxis": {
           "automargin": true,
           "gridcolor": "#EBF0F8",
           "linecolor": "#EBF0F8",
           "ticks": "",
           "title": {
            "standoff": 15
           },
           "zerolinecolor": "#EBF0F8",
           "zerolinewidth": 2
          }
         }
        },
        "title": {
         "text": "[2022-04-10 00:08:36] Episode: 2/2 Step: 81/200"
        },
        "xaxis": {
         "anchor": "y",
         "domain": [
          0,
          1
         ],
         "gridcolor": "Gainsboro",
         "linecolor": "Grey",
         "matches": "x4",
         "rangeslider": {
          "visible": false
         },
         "showticklabels": false,
         "title": {
          "font": {
           "size": 12
          },
          "standoff": 7,
          "text": "Price"
         }
        },
        "xaxis2": {
         "anchor": "y2",
         "domain": [
          0,
          1
         ],
         "gridcolor": "Gainsboro",
         "linecolor": "Grey",
         "matches": "x4",
         "showticklabels": false,
         "title": {
          "font": {
           "size": 12
          },
          "standoff": 7,
          "text": "Volume"
         }
        },
        "xaxis3": {
         "anchor": "y3",
         "domain": [
          0,
          1
         ],
         "gridcolor": "Gainsboro",
         "linecolor": "Grey",
         "matches": "x4",
         "showticklabels": false,
         "title": {
          "font": {
           "size": 12
          },
          "standoff": 7,
          "text": "Performance"
         }
        },
        "xaxis4": {
         "anchor": "y4",
         "domain": [
          0,
          1
         ],
         "gridcolor": "Gainsboro",
         "linecolor": "Grey",
         "title": {
          "font": {
           "size": 12
          },
          "standoff": 7,
          "text": "Net Worth"
         }
        },
        "yaxis": {
         "anchor": "x",
         "domain": [
          0.49950000000000006,
          1
         ],
         "gridcolor": "Gainsboro",
         "linecolor": "Grey"
        },
        "yaxis2": {
         "anchor": "x2",
         "domain": [
          0.333,
          0.46950000000000003
         ],
         "gridcolor": "Gainsboro",
         "linecolor": "Grey"
        },
        "yaxis3": {
         "anchor": "x3",
         "domain": [
          0.1665,
          0.30300000000000005
         ],
         "gridcolor": "Gainsboro",
         "linecolor": "Grey"
        },
        "yaxis4": {
         "anchor": "x4",
         "domain": [
          0,
          0.1365
         ],
         "gridcolor": "Gainsboro",
         "linecolor": "Grey"
        }
       }
      }
     },
     "metadata": {},
     "output_type": "display_data"
    },
    {
     "data": {
      "application/vnd.jupyter.widget-view+json": {
       "model_id": "a46f5e755d6048fca6f2305516d12de0",
       "version_major": 2,
       "version_minor": 0
      },
      "text/plain": [
       "FigureWidget({\n",
       "    'data': [{'close': array([8740.99, 8739.  , 8728.49, 8708.32, 8795.9 , 8760.  , 8760.  , 87…"
      ]
     },
     "metadata": {},
     "output_type": "display_data"
    },
    {
     "data": {
      "application/vnd.plotly.v1+json": {
       "config": {
        "plotlyServerURL": "https://plot.ly"
       },
       "data": [
        {
         "close": [
          8740.99,
          8739,
          8728.49,
          8708.32,
          8795.9,
          8760,
          8760,
          8759.23,
          8517.77,
          8520.3,
          8535.23,
          8546.34,
          8526.65,
          8555.6,
          8512.1,
          8492.28,
          8460,
          8474.99,
          8455.92,
          8326.28,
          8133.43,
          8164.79,
          8229.38,
          8220.4,
          8238.8,
          8232.99,
          8207.48,
          8243.45,
          8371.13,
          8373,
          8365.08,
          8179.99,
          8225,
          8285.8,
          8273.4,
          8297.4,
          8279.89,
          8252.72,
          8302.18,
          8295.85,
          8277.25,
          8346.59,
          8358.3,
          8375.1,
          8368.62,
          8366.72,
          8314.77,
          8363.7,
          8344.16,
          8247.4,
          8277.4,
          8291.67,
          8307.89,
          8298.9,
          8269.47,
          8300.98,
          8318.49,
          8306.39,
          8276.43,
          8257.69,
          8166,
          8176.33,
          8200.7,
          8155.41,
          8080,
          8067.03,
          7958.08,
          7974.25,
          7998.5,
          7991.99,
          8022.7,
          8042.97,
          7965.67,
          8088.95,
          8122.19,
          8107.99,
          8137.73,
          8115,
          8107,
          8094.4,
          8080.01,
          8117.09,
          8126.99,
          8110.95,
          8215.39,
          8231.42,
          8240.13,
          8235,
          8219.9,
          8248.87,
          8213.5,
          8200.99,
          8200,
          8237.3,
          8228.13,
          8240.83,
          8214.9,
          8170.07,
          8229.87,
          8205.87,
          8252.56
         ],
         "high": [
          8796.68,
          8766,
          8750.27,
          8754.4,
          8865,
          8821.19,
          8798.6,
          8771.02,
          8761.7,
          8553.67,
          8589.1,
          8579.48,
          8555.51,
          8583.6,
          8569.92,
          8555.54,
          8557.51,
          8505,
          8505.33,
          8478.29,
          8339.81,
          8217.44,
          8252.72,
          8248.63,
          8267.12,
          8255,
          8261.24,
          8263.93,
          8455.66,
          8439.44,
          8399.1,
          8381.73,
          8229.91,
          8377.29,
          8329.1,
          8350,
          8346.95,
          8377.29,
          8311.35,
          8319.96,
          8398.24,
          8372.58,
          8399.99,
          8386.53,
          8400,
          8500,
          8381,
          8371.3,
          8382.41,
          8351,
          8292.99,
          8325.8,
          8318.99,
          8324.9,
          8335.56,
          8309.4,
          8377.29,
          8330.41,
          8328.23,
          8284.36,
          8274.83,
          8200,
          8232.14,
          8213.97,
          8155.41,
          8108.28,
          8068.92,
          8019.9,
          8026.66,
          8025,
          8104.69,
          8061.39,
          8045.99,
          8170.71,
          8144.16,
          8139.99,
          8152.99,
          8137.73,
          8143.72,
          8129.99,
          8106.76,
          8139,
          8152.04,
          8146.99,
          8232.14,
          8275.1,
          8256.12,
          8274.1,
          8255.8,
          8253.97,
          8261.09,
          8235.76,
          8227,
          8273.36,
          8264.21,
          8250,
          8250.86,
          8235.77,
          8232.12,
          8232.14,
          8252.72
         ],
         "low": [
          8707.28,
          8721.11,
          8660.53,
          8701.35,
          8695.11,
          8740.54,
          8741.52,
          8700,
          8467.42,
          8477.89,
          8500.78,
          8500,
          8400,
          8451.05,
          8461.38,
          8481.24,
          8420.37,
          8450,
          8430.94,
          8275.02,
          8100.01,
          8122.56,
          8157.01,
          8166.25,
          8176.91,
          8213.79,
          8200,
          8207.48,
          8237.1,
          8370,
          8356.4,
          8145.1,
          8173.6,
          8211.8,
          8201,
          8250.9,
          8266.46,
          8252.72,
          8232.14,
          8268.37,
          8277.25,
          8277.25,
          8314.78,
          8314.77,
          8350.07,
          8331.39,
          8314.77,
          8275.45,
          8335.49,
          8191.14,
          8227.7,
          8264.13,
          8249.93,
          8269.52,
          8219.44,
          8262.68,
          8286.65,
          8289.87,
          8232.14,
          8232.14,
          8110.02,
          8154.95,
          8168.6,
          8151,
          7980,
          8005.95,
          7929.53,
          7931.03,
          7950,
          7980.58,
          7991.99,
          7992.75,
          7953.4,
          7965.67,
          8085.94,
          8078.48,
          8092.9,
          8049.22,
          8079.46,
          8062.12,
          8043.96,
          8063.1,
          8088.46,
          8094.43,
          8088.46,
          8191.14,
          8212,
          8224.5,
          8211,
          8211.01,
          8210.03,
          8158.27,
          8177.65,
          8179.41,
          8221.92,
          8217.32,
          8213.52,
          8141.08,
          8146.1,
          8186.03,
          8197.09
         ],
         "name": "Price",
         "open": [
          8733.86,
          8740.99,
          8739,
          8728.49,
          8708.32,
          8795.9,
          8760,
          8760,
          8759.23,
          8517.77,
          8520.3,
          8535.23,
          8546.34,
          8526.65,
          8555.6,
          8512.1,
          8492.28,
          8460,
          8474.99,
          8455.92,
          8326.28,
          8133.43,
          8164.79,
          8229.38,
          8220.4,
          8238.8,
          8232.99,
          8207.48,
          8243.45,
          8371.13,
          8373,
          8365.08,
          8179.99,
          8225,
          8285.8,
          8273.4,
          8297.4,
          8279.89,
          8252.72,
          8302.18,
          8295.85,
          8277.25,
          8346.59,
          8358.3,
          8375.1,
          8368.62,
          8366.72,
          8314.77,
          8363.7,
          8344.16,
          8247.4,
          8277.4,
          8291.67,
          8307.89,
          8298.9,
          8269.47,
          8300.98,
          8318.49,
          8306.39,
          8276.43,
          8257.69,
          8166,
          8176.33,
          8200.7,
          8155.41,
          8080,
          8067.03,
          7958.08,
          7974.25,
          7998.5,
          7991.99,
          8022.7,
          8042.97,
          7965.67,
          8088.95,
          8122.19,
          8107.99,
          8137.73,
          8115,
          8107,
          8094.4,
          8080.01,
          8117.09,
          8126.99,
          8110.95,
          8215.39,
          8231.42,
          8240.13,
          8235,
          8219.9,
          8248.87,
          8213.5,
          8200.99,
          8200,
          8237.3,
          8228.13,
          8240.83,
          8214.9,
          8170.07,
          8229.87,
          8205.87
         ],
         "showlegend": false,
         "type": "candlestick",
         "uid": "50305746-acbe-483f-b8bd-5ee326eca239",
         "xaxis": "x",
         "yaxis": "y"
        },
        {
         "marker": {
          "color": "DodgerBlue"
         },
         "name": "Volume",
         "showlegend": false,
         "type": "bar",
         "uid": "0b0694af-d058-44fd-a8e6-b25a9a83e2b0",
         "xaxis": "x2",
         "y": [
          559.93,
          273.58,
          917.79,
          182.62,
          1260.69,
          324.11,
          324.2,
          730.67,
          1341.75,
          792.07,
          385.69,
          475.08,
          877.26,
          670.49,
          610.97,
          168.99,
          305.92,
          136.05,
          154.26,
          1070.93,
          1710.2,
          492.8,
          630.72,
          620.93,
          586.34,
          304.52,
          450.97,
          182.36,
          915.32,
          319.29,
          362.01,
          1046.38,
          357.91,
          561.2,
          322.53,
          1073.71,
          237.21,
          251.2,
          359.73,
          117.23,
          363.17,
          214.18,
          171.64,
          258.58,
          299.52,
          718.98,
          119.7,
          405.25,
          210.77,
          714.82,
          215.97,
          164.2,
          201.55,
          203.41,
          886.82,
          95.49,
          499.67,
          172.77,
          355.39,
          255.27,
          591.06,
          133.1,
          149.13,
          87.55,
          1061.54,
          286.94,
          524.42,
          316,
          441.43,
          189.7,
          844.94,
          155.34,
          257.56,
          610.69,
          217.97,
          173.18,
          218.06,
          372.97,
          484.39,
          248.1,
          162.35,
          303.42,
          290.69,
          160.93,
          369.4,
          487.27,
          93.35,
          96.68,
          72.14,
          90.22,
          168.52,
          203.15,
          71.42,
          464.56,
          57,
          89.42,
          49.47,
          200.05,
          254.37,
          65.05,
          118.19
         ],
         "yaxis": "y2"
        },
        {
         "mode": "lines",
         "name": "bitstamp:/USD-BTC",
         "type": "scatter",
         "uid": "7633330c-73a6-45ce-bf50-e1d3eb811fe9",
         "xaxis": "x3",
         "y": [
          8740.99,
          8739,
          8728.49,
          8708.32,
          8795.9,
          8760,
          8760,
          8759.23,
          8517.77,
          8520.3,
          8535.23,
          8546.34,
          8526.65,
          8555.6,
          8512.1,
          8492.28,
          8460,
          8474.99,
          8455.92,
          8326.28,
          8133.43,
          8164.79,
          8229.38,
          8220.4,
          8238.8,
          8232.99,
          8207.48,
          8243.45,
          8371.13,
          8373,
          8365.08,
          8179.99,
          8225,
          8285.8,
          8273.4,
          8297.4,
          8279.89,
          8252.72,
          8302.18,
          8295.85,
          8277.25,
          8346.59,
          8358.3,
          8375.1,
          8368.62,
          8366.72,
          8314.77,
          8363.7,
          8344.16,
          8247.4,
          8277.4,
          8291.67,
          8307.89,
          8298.9,
          8269.47,
          8300.98,
          8318.49,
          8306.39,
          8276.43,
          8257.69,
          8166,
          8176.33,
          8200.7,
          8155.41,
          8080,
          8067.03,
          7958.08,
          7974.25,
          7998.5,
          7991.99,
          8022.7,
          8042.97,
          7965.67,
          8088.95,
          8122.19,
          8107.99,
          8137.73,
          8115,
          8107,
          8094.4,
          8080.01,
          8117.09,
          8126.99,
          8110.95,
          8215.39,
          8231.42,
          8240.13,
          8235,
          8219.9,
          8248.87,
          8213.5,
          8200.99,
          8200,
          8237.3,
          8228.13,
          8240.83,
          8214.9,
          8170.07,
          8229.87,
          8205.87,
          8252.56
         ],
         "yaxis": "y3"
        },
        {
         "mode": "lines",
         "name": "bitstamp:/USD:/free",
         "type": "scatter",
         "uid": "b7b5fee1-fcd9-4177-863c-64eba3d65df3",
         "xaxis": "x3",
         "y": [
          10000,
          10000,
          10000,
          2000,
          2000,
          2000,
          2000,
          2000,
          2000,
          2000,
          2000,
          2000,
          2000,
          2000,
          2000,
          2000,
          2000,
          2000,
          2000,
          2000,
          9585.64,
          9585.64,
          9585.64,
          9585.64,
          9585.64,
          1917.13,
          1917.13,
          1917.13,
          1917.13,
          9662.13,
          9662.13,
          9662.13,
          9662.13,
          9662.13,
          9662.13,
          9662.13,
          9662.13,
          9662.13,
          9662.13,
          9662.13,
          9662.13,
          9662.13,
          9662.13,
          9662.13,
          9662.13,
          5797.28,
          5797.28,
          5797.28,
          5797.28,
          5797.28,
          5797.28,
          5797.28,
          5797.28,
          5797.28,
          5797.28,
          5797.28,
          5797.28,
          5797.28,
          5797.28,
          5797.28,
          5797.28,
          9545.97,
          9545.97,
          9545.97,
          9545.97,
          9545.97,
          9545.97,
          9545.97,
          9545.97,
          9545.97,
          9545.97,
          9545.97,
          9545.97,
          9545.97,
          9545.97,
          9545.97,
          9545.97,
          9545.97,
          9545.97,
          9545.97,
          9545.97,
          9545.97,
          9545.97,
          9545.97,
          9545.97,
          9545.97,
          9545.97,
          9545.97,
          9545.97,
          9545.97,
          9545.97,
          9545.97,
          9545.97,
          9545.97,
          9545.97,
          9545.97,
          9545.97,
          9545.97,
          9545.97,
          9545.97,
          9545.97
         ],
         "yaxis": "y3"
        },
        {
         "mode": "lines",
         "name": "bitstamp:/USD:/locked",
         "type": "scatter",
         "uid": "99dd8a26-fe84-43a4-af3c-0c42748827c8",
         "xaxis": "x3",
         "y": [
          0,
          0,
          0,
          0,
          0,
          0,
          0,
          0,
          0,
          0,
          0,
          0,
          0,
          0,
          0,
          0,
          0,
          0,
          0,
          0,
          0,
          0,
          0,
          0,
          0,
          0,
          0,
          0,
          0,
          0,
          0,
          0,
          0,
          0,
          0,
          0,
          0,
          0,
          0,
          0,
          0,
          0,
          0,
          0,
          0,
          0,
          0,
          0,
          0,
          0,
          0,
          0,
          0,
          0,
          0,
          0,
          0,
          0,
          0,
          0,
          0,
          0,
          0,
          0,
          0,
          0,
          0,
          0,
          0,
          0,
          0,
          0,
          0,
          0,
          0,
          0,
          0,
          0,
          0,
          0,
          0,
          0,
          0,
          0,
          0,
          0,
          0,
          0,
          0,
          0,
          0,
          0,
          0,
          0,
          0,
          0,
          0,
          0,
          0,
          0,
          0
         ],
         "yaxis": "y3"
        },
        {
         "mode": "lines",
         "name": "bitstamp:/USD:/total",
         "type": "scatter",
         "uid": "bc6113cd-7ed0-47a2-b189-fba82d6153a0",
         "xaxis": "x3",
         "y": [
          10000,
          10000,
          10000,
          2000,
          2000,
          2000,
          2000,
          2000,
          2000,
          2000,
          2000,
          2000,
          2000,
          2000,
          2000,
          2000,
          2000,
          2000,
          2000,
          2000,
          9585.64,
          9585.64,
          9585.64,
          9585.64,
          9585.64,
          1917.13,
          1917.13,
          1917.13,
          1917.13,
          9662.13,
          9662.13,
          9662.13,
          9662.13,
          9662.13,
          9662.13,
          9662.13,
          9662.13,
          9662.13,
          9662.13,
          9662.13,
          9662.13,
          9662.13,
          9662.13,
          9662.13,
          9662.13,
          5797.28,
          5797.28,
          5797.28,
          5797.28,
          5797.28,
          5797.28,
          5797.28,
          5797.28,
          5797.28,
          5797.28,
          5797.28,
          5797.28,
          5797.28,
          5797.28,
          5797.28,
          5797.28,
          9545.97,
          9545.97,
          9545.97,
          9545.97,
          9545.97,
          9545.97,
          9545.97,
          9545.97,
          9545.97,
          9545.97,
          9545.97,
          9545.97,
          9545.97,
          9545.97,
          9545.97,
          9545.97,
          9545.97,
          9545.97,
          9545.97,
          9545.97,
          9545.97,
          9545.97,
          9545.97,
          9545.97,
          9545.97,
          9545.97,
          9545.97,
          9545.97,
          9545.97,
          9545.97,
          9545.97,
          9545.97,
          9545.97,
          9545.97,
          9545.97,
          9545.97,
          9545.97,
          9545.97,
          9545.97,
          9545.97
         ],
         "yaxis": "y3"
        },
        {
         "mode": "lines",
         "name": "bitstamp:/BTC:/free",
         "type": "scatter",
         "uid": "b9fb4513-0222-404a-adfd-0daee901fb10",
         "xaxis": "x3",
         "y": [
          10,
          10,
          10,
          10,
          10,
          10,
          10,
          10,
          10,
          10,
          10,
          10,
          10,
          10,
          10,
          10,
          10,
          10,
          10,
          10,
          10,
          10,
          10,
          10,
          10,
          10,
          10,
          10,
          10,
          10,
          10,
          10,
          10,
          10,
          10,
          10,
          10,
          10,
          10,
          10,
          10,
          10,
          10,
          10,
          10,
          10,
          10,
          10,
          10,
          10,
          10,
          10,
          10,
          10,
          10,
          10,
          10,
          10,
          10,
          10,
          10,
          10,
          10,
          10,
          10,
          10,
          10,
          10,
          10,
          10,
          10,
          10,
          10,
          10,
          10,
          10,
          10,
          10,
          10,
          10,
          10,
          10,
          10,
          10,
          10,
          10,
          10,
          10,
          10,
          10,
          10,
          10,
          10,
          10,
          10,
          10,
          10,
          10,
          10,
          10,
          10
         ],
         "yaxis": "y3"
        },
        {
         "mode": "lines",
         "name": "bitstamp:/BTC:/locked",
         "type": "scatter",
         "uid": "b528086b-2a60-427d-8bfd-a138812a9361",
         "xaxis": "x3",
         "y": [
          0,
          0,
          0,
          0.91378921,
          0.91378921,
          0.91378921,
          0.91378921,
          0.91378921,
          0.91378921,
          0.91378921,
          0.91378921,
          0.91378921,
          0.91378921,
          0.91378921,
          0.91378921,
          0.91378921,
          0.91378921,
          0.91378921,
          0.91378921,
          0.91378921,
          0,
          0,
          0,
          0,
          0,
          0.92798709,
          0.92798709,
          0.92798709,
          0.92798709,
          0,
          0,
          0,
          0,
          0,
          0,
          0,
          0,
          0,
          0,
          0,
          0,
          0,
          0,
          0,
          0,
          0.46044151,
          0.46044151,
          0.46044151,
          0.46044151,
          0.46044151,
          0.46044151,
          0.46044151,
          0.46044151,
          0.46044151,
          0.46044151,
          0.46044151,
          0.46044151,
          0.46044151,
          0.46044151,
          0.46044151,
          0.46044151,
          0,
          0,
          0,
          0,
          0,
          0,
          0,
          0,
          0,
          0,
          0,
          0,
          0,
          0,
          0,
          0,
          0,
          0,
          0,
          0,
          0,
          0,
          0,
          0,
          0,
          0,
          0,
          0,
          0,
          0,
          0,
          0,
          0,
          0,
          0,
          0,
          0,
          0,
          0,
          0
         ],
         "yaxis": "y3"
        },
        {
         "mode": "lines",
         "name": "bitstamp:/BTC:/total",
         "type": "scatter",
         "uid": "2ffc07fd-84ea-4e58-918c-419a185df287",
         "xaxis": "x3",
         "y": [
          10,
          10,
          10,
          10.91378921,
          10.91378921,
          10.91378921,
          10.91378921,
          10.91378921,
          10.91378921,
          10.91378921,
          10.91378921,
          10.91378921,
          10.91378921,
          10.91378921,
          10.91378921,
          10.91378921,
          10.91378921,
          10.91378921,
          10.91378921,
          10.91378921,
          10,
          10,
          10,
          10,
          10,
          10.92798709,
          10.92798709,
          10.92798709,
          10.92798709,
          10,
          10,
          10,
          10,
          10,
          10,
          10,
          10,
          10,
          10,
          10,
          10,
          10,
          10,
          10,
          10,
          10.46044151,
          10.46044151,
          10.46044151,
          10.46044151,
          10.46044151,
          10.46044151,
          10.46044151,
          10.46044151,
          10.46044151,
          10.46044151,
          10.46044151,
          10.46044151,
          10.46044151,
          10.46044151,
          10.46044151,
          10.46044151,
          10,
          10,
          10,
          10,
          10,
          10,
          10,
          10,
          10,
          10,
          10,
          10,
          10,
          10,
          10,
          10,
          10,
          10,
          10,
          10,
          10,
          10,
          10,
          10,
          10,
          10,
          10,
          10,
          10,
          10,
          10,
          10,
          10,
          10,
          10,
          10,
          10,
          10,
          10,
          10
         ],
         "yaxis": "y3"
        },
        {
         "mode": "lines",
         "name": "bitstamp:/BTC:/worth",
         "type": "scatter",
         "uid": "66a51bd5-08f5-4308-b164-b740b790d342",
         "xaxis": "x3",
         "y": [
          87409.9,
          87390,
          87284.9,
          95040.76885322719,
          95996.59851223898,
          95604.79347959999,
          95604.79347959999,
          95596.38986190829,
          92961.1463192617,
          92988.75820596298,
          93151.70107886828,
          93272.9532769914,
          93058.06076744648,
          93374.014965076,
          92899.265134441,
          92682.9538322988,
          92330.65671659999,
          92494.25441685789,
          92286.12845662319,
          90871.2648234388,
          81334.3,
          81647.9,
          82293.79999999999,
          82204,
          82388,
          89970.0084320991,
          89691.23548143319,
          90084.3151770605,
          91479.6005687117,
          83730,
          83650.8,
          81799.9,
          82250,
          82858,
          82734,
          82974,
          82798.9,
          82527.2,
          83021.8,
          82958.5,
          82772.5,
          83465.9,
          83583,
          83751,
          83686.20000000001,
          87519.5851905472,
          86976.16525410271,
          87487.99465718701,
          87283.59763008161,
          86271.445309574,
          86585.258554874,
          86734.5290552217,
          86904.1974165139,
          86810.158047339,
          86502.3072536997,
          86831.9157656798,
          87015.07809651991,
          86888.5067542489,
          86575.11192660932,
          86379.0832527119,
          85419.96537066001,
          81763.3,
          82007,
          81554.1,
          80800,
          80670.3,
          79580.8,
          79742.5,
          79985,
          79919.9,
          80227,
          80429.7,
          79656.7,
          80889.5,
          81221.9,
          81079.9,
          81377.29999999999,
          81150,
          81070,
          80944,
          80800.1,
          81170.9,
          81269.9,
          81109.5,
          82153.9,
          82314.2,
          82401.29999999999,
          82350,
          82199,
          82488.70000000001,
          82135,
          82009.9,
          82000,
          82373,
          82281.29999999999,
          82408.3,
          82149,
          81700.7,
          82298.70000000001,
          82058.70000000001,
          82525.59999999999
         ],
         "yaxis": "y3"
        },
        {
         "mode": "lines",
         "name": "net_worth",
         "type": "scatter",
         "uid": "81910362-5a88-461a-9686-2e0579338611",
         "xaxis": "x3",
         "y": [
          97409.9,
          97390,
          97284.9,
          97040.76885322719,
          97996.59851223898,
          97604.79347959999,
          97604.79347959999,
          97596.38986190829,
          94961.1463192617,
          94988.75820596298,
          95151.70107886828,
          95272.9532769914,
          95058.06076744648,
          95374.014965076,
          94899.265134441,
          94682.9538322988,
          94330.65671659999,
          94494.25441685789,
          94286.12845662319,
          92871.2648234388,
          90919.94,
          91233.54,
          91879.43999999999,
          91789.64,
          91973.64,
          91887.1384320991,
          91608.3654814332,
          92001.44517706051,
          93396.7305687117,
          93392.13,
          93312.93000000001,
          91462.03,
          91912.13,
          92520.13,
          92396.13,
          92636.13,
          92461.03,
          92189.33,
          92683.93000000001,
          92620.63,
          92434.63,
          93128.03,
          93245.13,
          93413.13,
          93348.33000000002,
          93316.86519054719,
          92773.44525410271,
          93285.27465718701,
          93080.87763008161,
          92068.725309574,
          92382.538554874,
          92531.8090552217,
          92701.4774165139,
          92607.438047339,
          92299.5872536997,
          92629.1957656798,
          92812.3580965199,
          92685.7867542489,
          92372.39192660931,
          92176.3632527119,
          91217.24537066,
          91309.27,
          91552.97,
          91100.07,
          90345.97,
          90216.27,
          89126.77,
          89288.47,
          89530.97,
          89465.87,
          89772.97,
          89975.67,
          89202.67,
          90435.47,
          90767.87,
          90625.87,
          90923.26999999999,
          90695.97,
          90615.97,
          90489.97,
          90346.07,
          90716.87,
          90815.87,
          90655.47,
          91699.87,
          91860.17,
          91947.26999999999,
          91895.97,
          91744.97,
          92034.67000000001,
          91680.97,
          91555.87,
          91545.97,
          91918.97,
          91827.26999999999,
          91954.27,
          91694.97,
          91246.67,
          91844.67000000001,
          91604.67000000001,
          92071.56999999999
         ],
         "yaxis": "y3"
        },
        {
         "marker": {
          "color": "DarkGreen"
         },
         "mode": "lines",
         "name": "Net Worth",
         "type": "scatter",
         "uid": "2a16b7a4-6c62-48f6-86ee-f813f28782f1",
         "xaxis": "x4",
         "y": [
          97409.9,
          97390,
          97284.9,
          97040.76885322719,
          97996.59851223898,
          97604.79347959999,
          97604.79347959999,
          97596.38986190829,
          94961.1463192617,
          94988.75820596298,
          95151.70107886828,
          95272.9532769914,
          95058.06076744648,
          95374.014965076,
          94899.265134441,
          94682.9538322988,
          94330.65671659999,
          94494.25441685789,
          94286.12845662319,
          92871.2648234388,
          90919.94,
          91233.54,
          91879.43999999999,
          91789.64,
          91973.64,
          91887.1384320991,
          91608.3654814332,
          92001.44517706051,
          93396.7305687117,
          93392.13,
          93312.93000000001,
          91462.03,
          91912.13,
          92520.13,
          92396.13,
          92636.13,
          92461.03,
          92189.33,
          92683.93000000001,
          92620.63,
          92434.63,
          93128.03,
          93245.13,
          93413.13,
          93348.33000000002,
          93316.86519054719,
          92773.44525410271,
          93285.27465718701,
          93080.87763008161,
          92068.725309574,
          92382.538554874,
          92531.8090552217,
          92701.4774165139,
          92607.438047339,
          92299.5872536997,
          92629.1957656798,
          92812.3580965199,
          92685.7867542489,
          92372.39192660931,
          92176.3632527119,
          91217.24537066,
          91309.27,
          91552.97,
          91100.07,
          90345.97,
          90216.27,
          89126.77,
          89288.47,
          89530.97,
          89465.87,
          89772.97,
          89975.67,
          89202.67,
          90435.47,
          90767.87,
          90625.87,
          90923.26999999999,
          90695.97,
          90615.97,
          90489.97,
          90346.07,
          90716.87,
          90815.87,
          90655.47,
          91699.87,
          91860.17,
          91947.26999999999,
          91895.97,
          91744.97,
          92034.67000000001,
          91680.97,
          91555.87,
          91545.97,
          91918.97,
          91827.26999999999,
          91954.27,
          91694.97,
          91246.67,
          91844.67000000001,
          91604.67000000001,
          92071.56999999999
         ],
         "yaxis": "y4"
        }
       ],
       "layout": {
        "annotations": [
         {
          "arrowcolor": "FireBrick",
          "arrowhead": 2,
          "arrowsize": 0.8,
          "arrowwidth": 4,
          "ax": 0,
          "ay": -15,
          "hoverlabel": {
           "bgcolor": "FireBrick"
          },
          "hovertext": "Step 20 [2018-05-16 01:00:00]<br>SELL 0.91104784 BTC @ 8326.28 USD MARKET<br>Total: 7585.64 USD - Comm.: 0.00274137 BTC",
          "opacity": 0.6,
          "showarrow": true,
          "x": 19,
          "xref": "x",
          "y": 8326.28,
          "yref": "y"
         },
         {
          "arrowcolor": "DarkGreen",
          "arrowhead": 2,
          "arrowsize": 0.8,
          "arrowwidth": 4,
          "ax": 0,
          "ay": 15,
          "hoverlabel": {
           "bgcolor": "DarkGreen"
          },
          "hovertext": "Step 3 [2018-05-15 08:00:00]<br>BUY 0.91378921 BTC @ 8728.49 USD MARKET<br>Total: 7976.0 USD - Comm.: 24.00 USD",
          "opacity": 0.6,
          "showarrow": true,
          "x": 2,
          "xref": "x",
          "y": 8728.49,
          "yref": "y"
         },
         {
          "arrowcolor": "FireBrick",
          "arrowhead": 2,
          "arrowsize": 0.8,
          "arrowwidth": 4,
          "ax": 0,
          "ay": -15,
          "hoverlabel": {
           "bgcolor": "FireBrick"
          },
          "hovertext": "Step 29 [2018-05-16 10:00:00]<br>SELL 0.92520313 BTC @ 8371.13 USD MARKET<br>Total: 7745.0 USD - Comm.: 0.00278396 BTC",
          "opacity": 0.6,
          "showarrow": true,
          "x": 28,
          "xref": "x",
          "y": 8371.13,
          "yref": "y"
         },
         {
          "arrowcolor": "DarkGreen",
          "arrowhead": 2,
          "arrowsize": 0.8,
          "arrowwidth": 4,
          "ax": 0,
          "ay": 15,
          "hoverlabel": {
           "bgcolor": "DarkGreen"
          },
          "hovertext": "Step 25 [2018-05-16 06:00:00]<br>BUY 0.92798709 BTC @ 8238.8 USD MARKET<br>Total: 7645.5 USD - Comm.: 23.01 USD",
          "opacity": 0.6,
          "showarrow": true,
          "x": 24,
          "xref": "x",
          "y": 8238.8,
          "yref": "y"
         },
         {
          "arrowcolor": "DarkGreen",
          "arrowhead": 2,
          "arrowsize": 0.8,
          "arrowwidth": 4,
          "ax": 0,
          "ay": 15,
          "hoverlabel": {
           "bgcolor": "DarkGreen"
          },
          "hovertext": "Step 45 [2018-05-17 02:00:00]<br>BUY 0.46044151 BTC @ 8368.62 USD MARKET<br>Total: 3853.26 USD - Comm.: 11.59 USD",
          "opacity": 0.6,
          "showarrow": true,
          "x": 44,
          "xref": "x",
          "y": 8368.62,
          "yref": "y"
         },
         {
          "arrowcolor": "FireBrick",
          "arrowhead": 2,
          "arrowsize": 0.8,
          "arrowwidth": 4,
          "ax": 0,
          "ay": -15,
          "hoverlabel": {
           "bgcolor": "FireBrick"
          },
          "hovertext": "Step 61 [2018-05-17 18:00:00]<br>SELL 0.45906019 BTC @ 8166.0 USD MARKET<br>Total: 3748.69 USD - Comm.: 0.00138132 BTC",
          "opacity": 0.6,
          "showarrow": true,
          "x": 60,
          "xref": "x",
          "y": 8166,
          "yref": "y"
         }
        ],
        "margin": {
         "t": 50
        },
        "template": {
         "data": {
          "bar": [
           {
            "error_x": {
             "color": "#2a3f5f"
            },
            "error_y": {
             "color": "#2a3f5f"
            },
            "marker": {
             "line": {
              "color": "white",
              "width": 0.5
             },
             "pattern": {
              "fillmode": "overlay",
              "size": 10,
              "solidity": 0.2
             }
            },
            "type": "bar"
           }
          ],
          "barpolar": [
           {
            "marker": {
             "line": {
              "color": "white",
              "width": 0.5
             },
             "pattern": {
              "fillmode": "overlay",
              "size": 10,
              "solidity": 0.2
             }
            },
            "type": "barpolar"
           }
          ],
          "carpet": [
           {
            "aaxis": {
             "endlinecolor": "#2a3f5f",
             "gridcolor": "#C8D4E3",
             "linecolor": "#C8D4E3",
             "minorgridcolor": "#C8D4E3",
             "startlinecolor": "#2a3f5f"
            },
            "baxis": {
             "endlinecolor": "#2a3f5f",
             "gridcolor": "#C8D4E3",
             "linecolor": "#C8D4E3",
             "minorgridcolor": "#C8D4E3",
             "startlinecolor": "#2a3f5f"
            },
            "type": "carpet"
           }
          ],
          "choropleth": [
           {
            "colorbar": {
             "outlinewidth": 0,
             "ticks": ""
            },
            "type": "choropleth"
           }
          ],
          "contour": [
           {
            "colorbar": {
             "outlinewidth": 0,
             "ticks": ""
            },
            "colorscale": [
             [
              0,
              "#0d0887"
             ],
             [
              0.1111111111111111,
              "#46039f"
             ],
             [
              0.2222222222222222,
              "#7201a8"
             ],
             [
              0.3333333333333333,
              "#9c179e"
             ],
             [
              0.4444444444444444,
              "#bd3786"
             ],
             [
              0.5555555555555556,
              "#d8576b"
             ],
             [
              0.6666666666666666,
              "#ed7953"
             ],
             [
              0.7777777777777778,
              "#fb9f3a"
             ],
             [
              0.8888888888888888,
              "#fdca26"
             ],
             [
              1,
              "#f0f921"
             ]
            ],
            "type": "contour"
           }
          ],
          "contourcarpet": [
           {
            "colorbar": {
             "outlinewidth": 0,
             "ticks": ""
            },
            "type": "contourcarpet"
           }
          ],
          "heatmap": [
           {
            "colorbar": {
             "outlinewidth": 0,
             "ticks": ""
            },
            "colorscale": [
             [
              0,
              "#0d0887"
             ],
             [
              0.1111111111111111,
              "#46039f"
             ],
             [
              0.2222222222222222,
              "#7201a8"
             ],
             [
              0.3333333333333333,
              "#9c179e"
             ],
             [
              0.4444444444444444,
              "#bd3786"
             ],
             [
              0.5555555555555556,
              "#d8576b"
             ],
             [
              0.6666666666666666,
              "#ed7953"
             ],
             [
              0.7777777777777778,
              "#fb9f3a"
             ],
             [
              0.8888888888888888,
              "#fdca26"
             ],
             [
              1,
              "#f0f921"
             ]
            ],
            "type": "heatmap"
           }
          ],
          "heatmapgl": [
           {
            "colorbar": {
             "outlinewidth": 0,
             "ticks": ""
            },
            "colorscale": [
             [
              0,
              "#0d0887"
             ],
             [
              0.1111111111111111,
              "#46039f"
             ],
             [
              0.2222222222222222,
              "#7201a8"
             ],
             [
              0.3333333333333333,
              "#9c179e"
             ],
             [
              0.4444444444444444,
              "#bd3786"
             ],
             [
              0.5555555555555556,
              "#d8576b"
             ],
             [
              0.6666666666666666,
              "#ed7953"
             ],
             [
              0.7777777777777778,
              "#fb9f3a"
             ],
             [
              0.8888888888888888,
              "#fdca26"
             ],
             [
              1,
              "#f0f921"
             ]
            ],
            "type": "heatmapgl"
           }
          ],
          "histogram": [
           {
            "marker": {
             "pattern": {
              "fillmode": "overlay",
              "size": 10,
              "solidity": 0.2
             }
            },
            "type": "histogram"
           }
          ],
          "histogram2d": [
           {
            "colorbar": {
             "outlinewidth": 0,
             "ticks": ""
            },
            "colorscale": [
             [
              0,
              "#0d0887"
             ],
             [
              0.1111111111111111,
              "#46039f"
             ],
             [
              0.2222222222222222,
              "#7201a8"
             ],
             [
              0.3333333333333333,
              "#9c179e"
             ],
             [
              0.4444444444444444,
              "#bd3786"
             ],
             [
              0.5555555555555556,
              "#d8576b"
             ],
             [
              0.6666666666666666,
              "#ed7953"
             ],
             [
              0.7777777777777778,
              "#fb9f3a"
             ],
             [
              0.8888888888888888,
              "#fdca26"
             ],
             [
              1,
              "#f0f921"
             ]
            ],
            "type": "histogram2d"
           }
          ],
          "histogram2dcontour": [
           {
            "colorbar": {
             "outlinewidth": 0,
             "ticks": ""
            },
            "colorscale": [
             [
              0,
              "#0d0887"
             ],
             [
              0.1111111111111111,
              "#46039f"
             ],
             [
              0.2222222222222222,
              "#7201a8"
             ],
             [
              0.3333333333333333,
              "#9c179e"
             ],
             [
              0.4444444444444444,
              "#bd3786"
             ],
             [
              0.5555555555555556,
              "#d8576b"
             ],
             [
              0.6666666666666666,
              "#ed7953"
             ],
             [
              0.7777777777777778,
              "#fb9f3a"
             ],
             [
              0.8888888888888888,
              "#fdca26"
             ],
             [
              1,
              "#f0f921"
             ]
            ],
            "type": "histogram2dcontour"
           }
          ],
          "mesh3d": [
           {
            "colorbar": {
             "outlinewidth": 0,
             "ticks": ""
            },
            "type": "mesh3d"
           }
          ],
          "parcoords": [
           {
            "line": {
             "colorbar": {
              "outlinewidth": 0,
              "ticks": ""
             }
            },
            "type": "parcoords"
           }
          ],
          "pie": [
           {
            "automargin": true,
            "type": "pie"
           }
          ],
          "scatter": [
           {
            "marker": {
             "colorbar": {
              "outlinewidth": 0,
              "ticks": ""
             }
            },
            "type": "scatter"
           }
          ],
          "scatter3d": [
           {
            "line": {
             "colorbar": {
              "outlinewidth": 0,
              "ticks": ""
             }
            },
            "marker": {
             "colorbar": {
              "outlinewidth": 0,
              "ticks": ""
             }
            },
            "type": "scatter3d"
           }
          ],
          "scattercarpet": [
           {
            "marker": {
             "colorbar": {
              "outlinewidth": 0,
              "ticks": ""
             }
            },
            "type": "scattercarpet"
           }
          ],
          "scattergeo": [
           {
            "marker": {
             "colorbar": {
              "outlinewidth": 0,
              "ticks": ""
             }
            },
            "type": "scattergeo"
           }
          ],
          "scattergl": [
           {
            "marker": {
             "colorbar": {
              "outlinewidth": 0,
              "ticks": ""
             }
            },
            "type": "scattergl"
           }
          ],
          "scattermapbox": [
           {
            "marker": {
             "colorbar": {
              "outlinewidth": 0,
              "ticks": ""
             }
            },
            "type": "scattermapbox"
           }
          ],
          "scatterpolar": [
           {
            "marker": {
             "colorbar": {
              "outlinewidth": 0,
              "ticks": ""
             }
            },
            "type": "scatterpolar"
           }
          ],
          "scatterpolargl": [
           {
            "marker": {
             "colorbar": {
              "outlinewidth": 0,
              "ticks": ""
             }
            },
            "type": "scatterpolargl"
           }
          ],
          "scatterternary": [
           {
            "marker": {
             "colorbar": {
              "outlinewidth": 0,
              "ticks": ""
             }
            },
            "type": "scatterternary"
           }
          ],
          "surface": [
           {
            "colorbar": {
             "outlinewidth": 0,
             "ticks": ""
            },
            "colorscale": [
             [
              0,
              "#0d0887"
             ],
             [
              0.1111111111111111,
              "#46039f"
             ],
             [
              0.2222222222222222,
              "#7201a8"
             ],
             [
              0.3333333333333333,
              "#9c179e"
             ],
             [
              0.4444444444444444,
              "#bd3786"
             ],
             [
              0.5555555555555556,
              "#d8576b"
             ],
             [
              0.6666666666666666,
              "#ed7953"
             ],
             [
              0.7777777777777778,
              "#fb9f3a"
             ],
             [
              0.8888888888888888,
              "#fdca26"
             ],
             [
              1,
              "#f0f921"
             ]
            ],
            "type": "surface"
           }
          ],
          "table": [
           {
            "cells": {
             "fill": {
              "color": "#EBF0F8"
             },
             "line": {
              "color": "white"
             }
            },
            "header": {
             "fill": {
              "color": "#C8D4E3"
             },
             "line": {
              "color": "white"
             }
            },
            "type": "table"
           }
          ]
         },
         "layout": {
          "annotationdefaults": {
           "arrowcolor": "#2a3f5f",
           "arrowhead": 0,
           "arrowwidth": 1
          },
          "autotypenumbers": "strict",
          "coloraxis": {
           "colorbar": {
            "outlinewidth": 0,
            "ticks": ""
           }
          },
          "colorscale": {
           "diverging": [
            [
             0,
             "#8e0152"
            ],
            [
             0.1,
             "#c51b7d"
            ],
            [
             0.2,
             "#de77ae"
            ],
            [
             0.3,
             "#f1b6da"
            ],
            [
             0.4,
             "#fde0ef"
            ],
            [
             0.5,
             "#f7f7f7"
            ],
            [
             0.6,
             "#e6f5d0"
            ],
            [
             0.7,
             "#b8e186"
            ],
            [
             0.8,
             "#7fbc41"
            ],
            [
             0.9,
             "#4d9221"
            ],
            [
             1,
             "#276419"
            ]
           ],
           "sequential": [
            [
             0,
             "#0d0887"
            ],
            [
             0.1111111111111111,
             "#46039f"
            ],
            [
             0.2222222222222222,
             "#7201a8"
            ],
            [
             0.3333333333333333,
             "#9c179e"
            ],
            [
             0.4444444444444444,
             "#bd3786"
            ],
            [
             0.5555555555555556,
             "#d8576b"
            ],
            [
             0.6666666666666666,
             "#ed7953"
            ],
            [
             0.7777777777777778,
             "#fb9f3a"
            ],
            [
             0.8888888888888888,
             "#fdca26"
            ],
            [
             1,
             "#f0f921"
            ]
           ],
           "sequentialminus": [
            [
             0,
             "#0d0887"
            ],
            [
             0.1111111111111111,
             "#46039f"
            ],
            [
             0.2222222222222222,
             "#7201a8"
            ],
            [
             0.3333333333333333,
             "#9c179e"
            ],
            [
             0.4444444444444444,
             "#bd3786"
            ],
            [
             0.5555555555555556,
             "#d8576b"
            ],
            [
             0.6666666666666666,
             "#ed7953"
            ],
            [
             0.7777777777777778,
             "#fb9f3a"
            ],
            [
             0.8888888888888888,
             "#fdca26"
            ],
            [
             1,
             "#f0f921"
            ]
           ]
          },
          "colorway": [
           "#636efa",
           "#EF553B",
           "#00cc96",
           "#ab63fa",
           "#FFA15A",
           "#19d3f3",
           "#FF6692",
           "#B6E880",
           "#FF97FF",
           "#FECB52"
          ],
          "font": {
           "color": "#2a3f5f"
          },
          "geo": {
           "bgcolor": "white",
           "lakecolor": "white",
           "landcolor": "white",
           "showlakes": true,
           "showland": true,
           "subunitcolor": "#C8D4E3"
          },
          "hoverlabel": {
           "align": "left"
          },
          "hovermode": "closest",
          "mapbox": {
           "style": "light"
          },
          "paper_bgcolor": "white",
          "plot_bgcolor": "white",
          "polar": {
           "angularaxis": {
            "gridcolor": "#EBF0F8",
            "linecolor": "#EBF0F8",
            "ticks": ""
           },
           "bgcolor": "white",
           "radialaxis": {
            "gridcolor": "#EBF0F8",
            "linecolor": "#EBF0F8",
            "ticks": ""
           }
          },
          "scene": {
           "xaxis": {
            "backgroundcolor": "white",
            "gridcolor": "#DFE8F3",
            "gridwidth": 2,
            "linecolor": "#EBF0F8",
            "showbackground": true,
            "ticks": "",
            "zerolinecolor": "#EBF0F8"
           },
           "yaxis": {
            "backgroundcolor": "white",
            "gridcolor": "#DFE8F3",
            "gridwidth": 2,
            "linecolor": "#EBF0F8",
            "showbackground": true,
            "ticks": "",
            "zerolinecolor": "#EBF0F8"
           },
           "zaxis": {
            "backgroundcolor": "white",
            "gridcolor": "#DFE8F3",
            "gridwidth": 2,
            "linecolor": "#EBF0F8",
            "showbackground": true,
            "ticks": "",
            "zerolinecolor": "#EBF0F8"
           }
          },
          "shapedefaults": {
           "line": {
            "color": "#2a3f5f"
           }
          },
          "ternary": {
           "aaxis": {
            "gridcolor": "#DFE8F3",
            "linecolor": "#A2B1C6",
            "ticks": ""
           },
           "baxis": {
            "gridcolor": "#DFE8F3",
            "linecolor": "#A2B1C6",
            "ticks": ""
           },
           "bgcolor": "white",
           "caxis": {
            "gridcolor": "#DFE8F3",
            "linecolor": "#A2B1C6",
            "ticks": ""
           }
          },
          "title": {
           "x": 0.05
          },
          "xaxis": {
           "automargin": true,
           "gridcolor": "#EBF0F8",
           "linecolor": "#EBF0F8",
           "ticks": "",
           "title": {
            "standoff": 15
           },
           "zerolinecolor": "#EBF0F8",
           "zerolinewidth": 2
          },
          "yaxis": {
           "automargin": true,
           "gridcolor": "#EBF0F8",
           "linecolor": "#EBF0F8",
           "ticks": "",
           "title": {
            "standoff": 15
           },
           "zerolinecolor": "#EBF0F8",
           "zerolinewidth": 2
          }
         }
        },
        "title": {
         "text": "[2022-04-10 00:08:42] Episode: 2/2 Step: 101/200"
        },
        "xaxis": {
         "anchor": "y",
         "domain": [
          0,
          1
         ],
         "gridcolor": "Gainsboro",
         "linecolor": "Grey",
         "matches": "x4",
         "rangeslider": {
          "visible": false
         },
         "showticklabels": false,
         "title": {
          "font": {
           "size": 12
          },
          "standoff": 7,
          "text": "Price"
         }
        },
        "xaxis2": {
         "anchor": "y2",
         "domain": [
          0,
          1
         ],
         "gridcolor": "Gainsboro",
         "linecolor": "Grey",
         "matches": "x4",
         "showticklabels": false,
         "title": {
          "font": {
           "size": 12
          },
          "standoff": 7,
          "text": "Volume"
         }
        },
        "xaxis3": {
         "anchor": "y3",
         "domain": [
          0,
          1
         ],
         "gridcolor": "Gainsboro",
         "linecolor": "Grey",
         "matches": "x4",
         "showticklabels": false,
         "title": {
          "font": {
           "size": 12
          },
          "standoff": 7,
          "text": "Performance"
         }
        },
        "xaxis4": {
         "anchor": "y4",
         "domain": [
          0,
          1
         ],
         "gridcolor": "Gainsboro",
         "linecolor": "Grey",
         "title": {
          "font": {
           "size": 12
          },
          "standoff": 7,
          "text": "Net Worth"
         }
        },
        "yaxis": {
         "anchor": "x",
         "domain": [
          0.49950000000000006,
          1
         ],
         "gridcolor": "Gainsboro",
         "linecolor": "Grey"
        },
        "yaxis2": {
         "anchor": "x2",
         "domain": [
          0.333,
          0.46950000000000003
         ],
         "gridcolor": "Gainsboro",
         "linecolor": "Grey"
        },
        "yaxis3": {
         "anchor": "x3",
         "domain": [
          0.1665,
          0.30300000000000005
         ],
         "gridcolor": "Gainsboro",
         "linecolor": "Grey"
        },
        "yaxis4": {
         "anchor": "x4",
         "domain": [
          0,
          0.1365
         ],
         "gridcolor": "Gainsboro",
         "linecolor": "Grey"
        }
       }
      }
     },
     "metadata": {},
     "output_type": "display_data"
    },
    {
     "data": {
      "application/vnd.jupyter.widget-view+json": {
       "model_id": "a46f5e755d6048fca6f2305516d12de0",
       "version_major": 2,
       "version_minor": 0
      },
      "text/plain": [
       "FigureWidget({\n",
       "    'data': [{'close': array([8740.99, 8739.  , 8728.49, 8708.32, 8795.9 , 8760.  , 8760.  , 87…"
      ]
     },
     "metadata": {},
     "output_type": "display_data"
    },
    {
     "data": {
      "application/vnd.plotly.v1+json": {
       "config": {
        "plotlyServerURL": "https://plot.ly"
       },
       "data": [
        {
         "close": [
          8740.99,
          8739,
          8728.49,
          8708.32,
          8795.9,
          8760,
          8760,
          8759.23,
          8517.77,
          8520.3,
          8535.23,
          8546.34,
          8526.65,
          8555.6,
          8512.1,
          8492.28,
          8460,
          8474.99,
          8455.92,
          8326.28,
          8133.43,
          8164.79,
          8229.38,
          8220.4,
          8238.8,
          8232.99,
          8207.48,
          8243.45,
          8371.13,
          8373,
          8365.08,
          8179.99,
          8225,
          8285.8,
          8273.4,
          8297.4,
          8279.89,
          8252.72,
          8302.18,
          8295.85,
          8277.25,
          8346.59,
          8358.3,
          8375.1,
          8368.62,
          8366.72,
          8314.77,
          8363.7,
          8344.16,
          8247.4,
          8277.4,
          8291.67,
          8307.89,
          8298.9,
          8269.47,
          8300.98,
          8318.49,
          8306.39,
          8276.43,
          8257.69,
          8166,
          8176.33,
          8200.7,
          8155.41,
          8080,
          8067.03,
          7958.08,
          7974.25,
          7998.5,
          7991.99,
          8022.7,
          8042.97,
          7965.67,
          8088.95,
          8122.19,
          8107.99,
          8137.73,
          8115,
          8107,
          8094.4,
          8080.01,
          8117.09,
          8126.99,
          8110.95,
          8215.39,
          8231.42,
          8240.13,
          8235,
          8219.9,
          8248.87,
          8213.5,
          8200.99,
          8200,
          8237.3,
          8228.13,
          8240.83,
          8214.9,
          8170.07,
          8229.87,
          8205.87,
          8252.56,
          8365,
          8348.65,
          8303.99,
          8310.48,
          8310,
          8289.87,
          8304.99,
          8301.35,
          8313.12,
          8240.07,
          8199.99,
          8226.98,
          8231.2,
          8198.89,
          8215.85,
          8279.99,
          8255.08,
          8270.4,
          8244.24,
          8239.12
         ],
         "high": [
          8796.68,
          8766,
          8750.27,
          8754.4,
          8865,
          8821.19,
          8798.6,
          8771.02,
          8761.7,
          8553.67,
          8589.1,
          8579.48,
          8555.51,
          8583.6,
          8569.92,
          8555.54,
          8557.51,
          8505,
          8505.33,
          8478.29,
          8339.81,
          8217.44,
          8252.72,
          8248.63,
          8267.12,
          8255,
          8261.24,
          8263.93,
          8455.66,
          8439.44,
          8399.1,
          8381.73,
          8229.91,
          8377.29,
          8329.1,
          8350,
          8346.95,
          8377.29,
          8311.35,
          8319.96,
          8398.24,
          8372.58,
          8399.99,
          8386.53,
          8400,
          8500,
          8381,
          8371.3,
          8382.41,
          8351,
          8292.99,
          8325.8,
          8318.99,
          8324.9,
          8335.56,
          8309.4,
          8377.29,
          8330.41,
          8328.23,
          8284.36,
          8274.83,
          8200,
          8232.14,
          8213.97,
          8155.41,
          8108.28,
          8068.92,
          8019.9,
          8026.66,
          8025,
          8104.69,
          8061.39,
          8045.99,
          8170.71,
          8144.16,
          8139.99,
          8152.99,
          8137.73,
          8143.72,
          8129.99,
          8106.76,
          8139,
          8152.04,
          8146.99,
          8232.14,
          8275.1,
          8256.12,
          8274.1,
          8255.8,
          8253.97,
          8261.09,
          8235.76,
          8227,
          8273.36,
          8264.21,
          8250,
          8250.86,
          8235.77,
          8232.12,
          8232.14,
          8252.72,
          8370,
          8395,
          8374.48,
          8331,
          8319.43,
          8323.4,
          8314.55,
          8330.62,
          8314.8,
          8323.99,
          8263.03,
          8247.78,
          8253.75,
          8237.89,
          8235,
          8279.99,
          8290,
          8278.71,
          8275.34,
          8279.31
         ],
         "low": [
          8707.28,
          8721.11,
          8660.53,
          8701.35,
          8695.11,
          8740.54,
          8741.52,
          8700,
          8467.42,
          8477.89,
          8500.78,
          8500,
          8400,
          8451.05,
          8461.38,
          8481.24,
          8420.37,
          8450,
          8430.94,
          8275.02,
          8100.01,
          8122.56,
          8157.01,
          8166.25,
          8176.91,
          8213.79,
          8200,
          8207.48,
          8237.1,
          8370,
          8356.4,
          8145.1,
          8173.6,
          8211.8,
          8201,
          8250.9,
          8266.46,
          8252.72,
          8232.14,
          8268.37,
          8277.25,
          8277.25,
          8314.78,
          8314.77,
          8350.07,
          8331.39,
          8314.77,
          8275.45,
          8335.49,
          8191.14,
          8227.7,
          8264.13,
          8249.93,
          8269.52,
          8219.44,
          8262.68,
          8286.65,
          8289.87,
          8232.14,
          8232.14,
          8110.02,
          8154.95,
          8168.6,
          8151,
          7980,
          8005.95,
          7929.53,
          7931.03,
          7950,
          7980.58,
          7991.99,
          7992.75,
          7953.4,
          7965.67,
          8085.94,
          8078.48,
          8092.9,
          8049.22,
          8079.46,
          8062.12,
          8043.96,
          8063.1,
          8088.46,
          8094.43,
          8088.46,
          8191.14,
          8212,
          8224.5,
          8211,
          8211.01,
          8210.03,
          8158.27,
          8177.65,
          8179.41,
          8221.92,
          8217.32,
          8213.52,
          8141.08,
          8146.1,
          8186.03,
          8197.09,
          8231.21,
          8323.82,
          8296,
          8296.31,
          8282.65,
          8280,
          8273.36,
          8290.08,
          8277.93,
          8240.07,
          8191.14,
          8178,
          8193.7,
          8180,
          8170.71,
          8215.53,
          8240.02,
          8237.17,
          8237.17,
          8239.12
         ],
         "name": "Price",
         "open": [
          8733.86,
          8740.99,
          8739,
          8728.49,
          8708.32,
          8795.9,
          8760,
          8760,
          8759.23,
          8517.77,
          8520.3,
          8535.23,
          8546.34,
          8526.65,
          8555.6,
          8512.1,
          8492.28,
          8460,
          8474.99,
          8455.92,
          8326.28,
          8133.43,
          8164.79,
          8229.38,
          8220.4,
          8238.8,
          8232.99,
          8207.48,
          8243.45,
          8371.13,
          8373,
          8365.08,
          8179.99,
          8225,
          8285.8,
          8273.4,
          8297.4,
          8279.89,
          8252.72,
          8302.18,
          8295.85,
          8277.25,
          8346.59,
          8358.3,
          8375.1,
          8368.62,
          8366.72,
          8314.77,
          8363.7,
          8344.16,
          8247.4,
          8277.4,
          8291.67,
          8307.89,
          8298.9,
          8269.47,
          8300.98,
          8318.49,
          8306.39,
          8276.43,
          8257.69,
          8166,
          8176.33,
          8200.7,
          8155.41,
          8080,
          8067.03,
          7958.08,
          7974.25,
          7998.5,
          7991.99,
          8022.7,
          8042.97,
          7965.67,
          8088.95,
          8122.19,
          8107.99,
          8137.73,
          8115,
          8107,
          8094.4,
          8080.01,
          8117.09,
          8126.99,
          8110.95,
          8215.39,
          8231.42,
          8240.13,
          8235,
          8219.9,
          8248.87,
          8213.5,
          8200.99,
          8200,
          8237.3,
          8228.13,
          8240.83,
          8214.9,
          8170.07,
          8229.87,
          8205.87,
          8252.56,
          8365,
          8348.65,
          8303.99,
          8310.48,
          8310,
          8289.87,
          8304.99,
          8301.35,
          8313.12,
          8240.07,
          8199.99,
          8226.98,
          8231.2,
          8198.89,
          8215.85,
          8279.99,
          8255.08,
          8270.4,
          8244.24
         ],
         "showlegend": false,
         "type": "candlestick",
         "uid": "50305746-acbe-483f-b8bd-5ee326eca239",
         "xaxis": "x",
         "yaxis": "y"
        },
        {
         "marker": {
          "color": "DodgerBlue"
         },
         "name": "Volume",
         "showlegend": false,
         "type": "bar",
         "uid": "0b0694af-d058-44fd-a8e6-b25a9a83e2b0",
         "xaxis": "x2",
         "y": [
          559.93,
          273.58,
          917.79,
          182.62,
          1260.69,
          324.11,
          324.2,
          730.67,
          1341.75,
          792.07,
          385.69,
          475.08,
          877.26,
          670.49,
          610.97,
          168.99,
          305.92,
          136.05,
          154.26,
          1070.93,
          1710.2,
          492.8,
          630.72,
          620.93,
          586.34,
          304.52,
          450.97,
          182.36,
          915.32,
          319.29,
          362.01,
          1046.38,
          357.91,
          561.2,
          322.53,
          1073.71,
          237.21,
          251.2,
          359.73,
          117.23,
          363.17,
          214.18,
          171.64,
          258.58,
          299.52,
          718.98,
          119.7,
          405.25,
          210.77,
          714.82,
          215.97,
          164.2,
          201.55,
          203.41,
          886.82,
          95.49,
          499.67,
          172.77,
          355.39,
          255.27,
          591.06,
          133.1,
          149.13,
          87.55,
          1061.54,
          286.94,
          524.42,
          316,
          441.43,
          189.7,
          844.94,
          155.34,
          257.56,
          610.69,
          217.97,
          173.18,
          218.06,
          372.97,
          484.39,
          248.1,
          162.35,
          303.42,
          290.69,
          160.93,
          369.4,
          487.27,
          93.35,
          96.68,
          72.14,
          90.22,
          168.52,
          203.15,
          71.42,
          464.56,
          57,
          89.42,
          49.47,
          200.05,
          254.37,
          65.05,
          118.19,
          452.4,
          181.03,
          288.04,
          145.78,
          110.14,
          55.48,
          80.87,
          67.01,
          59.16,
          121.26,
          244.37,
          156.87,
          80.48,
          139.32,
          93.52,
          200.23,
          97.4,
          68.08,
          47,
          36.65
         ],
         "yaxis": "y2"
        },
        {
         "mode": "lines",
         "name": "bitstamp:/USD-BTC",
         "type": "scatter",
         "uid": "7633330c-73a6-45ce-bf50-e1d3eb811fe9",
         "xaxis": "x3",
         "y": [
          8740.99,
          8739,
          8728.49,
          8708.32,
          8795.9,
          8760,
          8760,
          8759.23,
          8517.77,
          8520.3,
          8535.23,
          8546.34,
          8526.65,
          8555.6,
          8512.1,
          8492.28,
          8460,
          8474.99,
          8455.92,
          8326.28,
          8133.43,
          8164.79,
          8229.38,
          8220.4,
          8238.8,
          8232.99,
          8207.48,
          8243.45,
          8371.13,
          8373,
          8365.08,
          8179.99,
          8225,
          8285.8,
          8273.4,
          8297.4,
          8279.89,
          8252.72,
          8302.18,
          8295.85,
          8277.25,
          8346.59,
          8358.3,
          8375.1,
          8368.62,
          8366.72,
          8314.77,
          8363.7,
          8344.16,
          8247.4,
          8277.4,
          8291.67,
          8307.89,
          8298.9,
          8269.47,
          8300.98,
          8318.49,
          8306.39,
          8276.43,
          8257.69,
          8166,
          8176.33,
          8200.7,
          8155.41,
          8080,
          8067.03,
          7958.08,
          7974.25,
          7998.5,
          7991.99,
          8022.7,
          8042.97,
          7965.67,
          8088.95,
          8122.19,
          8107.99,
          8137.73,
          8115,
          8107,
          8094.4,
          8080.01,
          8117.09,
          8126.99,
          8110.95,
          8215.39,
          8231.42,
          8240.13,
          8235,
          8219.9,
          8248.87,
          8213.5,
          8200.99,
          8200,
          8237.3,
          8228.13,
          8240.83,
          8214.9,
          8170.07,
          8229.87,
          8205.87,
          8252.56,
          8365,
          8348.65,
          8303.99,
          8310.48,
          8310,
          8289.87,
          8304.99,
          8301.35,
          8313.12,
          8240.07,
          8199.99,
          8226.98,
          8231.2,
          8198.89,
          8215.85,
          8279.99,
          8255.08,
          8270.4,
          8244.24,
          8239.12
         ],
         "yaxis": "y3"
        },
        {
         "mode": "lines",
         "name": "bitstamp:/USD:/free",
         "type": "scatter",
         "uid": "b7b5fee1-fcd9-4177-863c-64eba3d65df3",
         "xaxis": "x3",
         "y": [
          10000,
          10000,
          10000,
          2000,
          2000,
          2000,
          2000,
          2000,
          2000,
          2000,
          2000,
          2000,
          2000,
          2000,
          2000,
          2000,
          2000,
          2000,
          2000,
          2000,
          9585.64,
          9585.64,
          9585.64,
          9585.64,
          9585.64,
          1917.13,
          1917.13,
          1917.13,
          1917.13,
          9662.13,
          9662.13,
          9662.13,
          9662.13,
          9662.13,
          9662.13,
          9662.13,
          9662.13,
          9662.13,
          9662.13,
          9662.13,
          9662.13,
          9662.13,
          9662.13,
          9662.13,
          9662.13,
          5797.28,
          5797.28,
          5797.28,
          5797.28,
          5797.28,
          5797.28,
          5797.28,
          5797.28,
          5797.28,
          5797.28,
          5797.28,
          5797.28,
          5797.28,
          5797.28,
          5797.28,
          5797.28,
          9545.97,
          9545.97,
          9545.97,
          9545.97,
          9545.97,
          9545.97,
          9545.97,
          9545.97,
          9545.97,
          9545.97,
          9545.97,
          9545.97,
          9545.97,
          9545.97,
          9545.97,
          9545.97,
          9545.97,
          9545.97,
          9545.97,
          9545.97,
          9545.97,
          9545.97,
          9545.97,
          9545.97,
          9545.97,
          9545.97,
          9545.97,
          9545.97,
          9545.97,
          9545.97,
          9545.97,
          9545.97,
          9545.97,
          9545.97,
          9545.97,
          9545.97,
          9545.97,
          9545.97,
          9545.97,
          9545.97,
          9545.97,
          9545.97,
          9545.97,
          9545.97,
          9545.97,
          6682.18,
          6682.18,
          6682.18,
          6682.18,
          6682.18,
          6682.18,
          4677.53,
          4677.53,
          4677.53,
          4677.53,
          4677.53,
          4677.53,
          4677.53,
          4677.53,
          4677.53
         ],
         "yaxis": "y3"
        },
        {
         "mode": "lines",
         "name": "bitstamp:/USD:/locked",
         "type": "scatter",
         "uid": "99dd8a26-fe84-43a4-af3c-0c42748827c8",
         "xaxis": "x3",
         "y": [
          0,
          0,
          0,
          0,
          0,
          0,
          0,
          0,
          0,
          0,
          0,
          0,
          0,
          0,
          0,
          0,
          0,
          0,
          0,
          0,
          0,
          0,
          0,
          0,
          0,
          0,
          0,
          0,
          0,
          0,
          0,
          0,
          0,
          0,
          0,
          0,
          0,
          0,
          0,
          0,
          0,
          0,
          0,
          0,
          0,
          0,
          0,
          0,
          0,
          0,
          0,
          0,
          0,
          0,
          0,
          0,
          0,
          0,
          0,
          0,
          0,
          0,
          0,
          0,
          0,
          0,
          0,
          0,
          0,
          0,
          0,
          0,
          0,
          0,
          0,
          0,
          0,
          0,
          0,
          0,
          0,
          0,
          0,
          0,
          0,
          0,
          0,
          0,
          0,
          0,
          0,
          0,
          0,
          0,
          0,
          0,
          0,
          0,
          0,
          0,
          0,
          0,
          0,
          0,
          0,
          0,
          0,
          0,
          0,
          0,
          0,
          0,
          0,
          0,
          0,
          0,
          0,
          0,
          0,
          0,
          0
         ],
         "yaxis": "y3"
        },
        {
         "mode": "lines",
         "name": "bitstamp:/USD:/total",
         "type": "scatter",
         "uid": "bc6113cd-7ed0-47a2-b189-fba82d6153a0",
         "xaxis": "x3",
         "y": [
          10000,
          10000,
          10000,
          2000,
          2000,
          2000,
          2000,
          2000,
          2000,
          2000,
          2000,
          2000,
          2000,
          2000,
          2000,
          2000,
          2000,
          2000,
          2000,
          2000,
          9585.64,
          9585.64,
          9585.64,
          9585.64,
          9585.64,
          1917.13,
          1917.13,
          1917.13,
          1917.13,
          9662.13,
          9662.13,
          9662.13,
          9662.13,
          9662.13,
          9662.13,
          9662.13,
          9662.13,
          9662.13,
          9662.13,
          9662.13,
          9662.13,
          9662.13,
          9662.13,
          9662.13,
          9662.13,
          5797.28,
          5797.28,
          5797.28,
          5797.28,
          5797.28,
          5797.28,
          5797.28,
          5797.28,
          5797.28,
          5797.28,
          5797.28,
          5797.28,
          5797.28,
          5797.28,
          5797.28,
          5797.28,
          9545.97,
          9545.97,
          9545.97,
          9545.97,
          9545.97,
          9545.97,
          9545.97,
          9545.97,
          9545.97,
          9545.97,
          9545.97,
          9545.97,
          9545.97,
          9545.97,
          9545.97,
          9545.97,
          9545.97,
          9545.97,
          9545.97,
          9545.97,
          9545.97,
          9545.97,
          9545.97,
          9545.97,
          9545.97,
          9545.97,
          9545.97,
          9545.97,
          9545.97,
          9545.97,
          9545.97,
          9545.97,
          9545.97,
          9545.97,
          9545.97,
          9545.97,
          9545.97,
          9545.97,
          9545.97,
          9545.97,
          9545.97,
          9545.97,
          9545.97,
          9545.97,
          9545.97,
          6682.18,
          6682.18,
          6682.18,
          6682.18,
          6682.18,
          6682.18,
          4677.53,
          4677.53,
          4677.53,
          4677.53,
          4677.53,
          4677.53,
          4677.53,
          4677.53,
          4677.53
         ],
         "yaxis": "y3"
        },
        {
         "mode": "lines",
         "name": "bitstamp:/BTC:/free",
         "type": "scatter",
         "uid": "b9fb4513-0222-404a-adfd-0daee901fb10",
         "xaxis": "x3",
         "y": [
          10,
          10,
          10,
          10,
          10,
          10,
          10,
          10,
          10,
          10,
          10,
          10,
          10,
          10,
          10,
          10,
          10,
          10,
          10,
          10,
          10,
          10,
          10,
          10,
          10,
          10,
          10,
          10,
          10,
          10,
          10,
          10,
          10,
          10,
          10,
          10,
          10,
          10,
          10,
          10,
          10,
          10,
          10,
          10,
          10,
          10,
          10,
          10,
          10,
          10,
          10,
          10,
          10,
          10,
          10,
          10,
          10,
          10,
          10,
          10,
          10,
          10,
          10,
          10,
          10,
          10,
          10,
          10,
          10,
          10,
          10,
          10,
          10,
          10,
          10,
          10,
          10,
          10,
          10,
          10,
          10,
          10,
          10,
          10,
          10,
          10,
          10,
          10,
          10,
          10,
          10,
          10,
          10,
          10,
          10,
          10,
          10,
          10,
          10,
          10,
          10,
          10,
          10,
          10,
          10,
          10,
          10,
          10,
          10,
          10,
          10,
          10,
          10,
          10,
          10,
          10,
          10,
          10,
          10,
          10,
          10
         ],
         "yaxis": "y3"
        },
        {
         "mode": "lines",
         "name": "bitstamp:/BTC:/locked",
         "type": "scatter",
         "uid": "b528086b-2a60-427d-8bfd-a138812a9361",
         "xaxis": "x3",
         "y": [
          0,
          0,
          0,
          0.91378921,
          0.91378921,
          0.91378921,
          0.91378921,
          0.91378921,
          0.91378921,
          0.91378921,
          0.91378921,
          0.91378921,
          0.91378921,
          0.91378921,
          0.91378921,
          0.91378921,
          0.91378921,
          0.91378921,
          0.91378921,
          0.91378921,
          0,
          0,
          0,
          0,
          0,
          0.92798709,
          0.92798709,
          0.92798709,
          0.92798709,
          0,
          0,
          0,
          0,
          0,
          0,
          0,
          0,
          0,
          0,
          0,
          0,
          0,
          0,
          0,
          0,
          0.46044151,
          0.46044151,
          0.46044151,
          0.46044151,
          0.46044151,
          0.46044151,
          0.46044151,
          0.46044151,
          0.46044151,
          0.46044151,
          0.46044151,
          0.46044151,
          0.46044151,
          0.46044151,
          0.46044151,
          0.46044151,
          0,
          0,
          0,
          0,
          0,
          0,
          0,
          0,
          0,
          0,
          0,
          0,
          0,
          0,
          0,
          0,
          0,
          0,
          0,
          0,
          0,
          0,
          0,
          0,
          0,
          0,
          0,
          0,
          0,
          0,
          0,
          0,
          0,
          0,
          0,
          0,
          0,
          0,
          0,
          0,
          0,
          0,
          0,
          0,
          0,
          0.34358604,
          0.34358604,
          0.34358604,
          0.34358604,
          0.34358604,
          0.34358604,
          0.58732292,
          0.58732292,
          0.58732292,
          0.58732292,
          0.58732292,
          0.58732292,
          0.58732292,
          0.58732292,
          0.58732292
         ],
         "yaxis": "y3"
        },
        {
         "mode": "lines",
         "name": "bitstamp:/BTC:/total",
         "type": "scatter",
         "uid": "2ffc07fd-84ea-4e58-918c-419a185df287",
         "xaxis": "x3",
         "y": [
          10,
          10,
          10,
          10.91378921,
          10.91378921,
          10.91378921,
          10.91378921,
          10.91378921,
          10.91378921,
          10.91378921,
          10.91378921,
          10.91378921,
          10.91378921,
          10.91378921,
          10.91378921,
          10.91378921,
          10.91378921,
          10.91378921,
          10.91378921,
          10.91378921,
          10,
          10,
          10,
          10,
          10,
          10.92798709,
          10.92798709,
          10.92798709,
          10.92798709,
          10,
          10,
          10,
          10,
          10,
          10,
          10,
          10,
          10,
          10,
          10,
          10,
          10,
          10,
          10,
          10,
          10.46044151,
          10.46044151,
          10.46044151,
          10.46044151,
          10.46044151,
          10.46044151,
          10.46044151,
          10.46044151,
          10.46044151,
          10.46044151,
          10.46044151,
          10.46044151,
          10.46044151,
          10.46044151,
          10.46044151,
          10.46044151,
          10,
          10,
          10,
          10,
          10,
          10,
          10,
          10,
          10,
          10,
          10,
          10,
          10,
          10,
          10,
          10,
          10,
          10,
          10,
          10,
          10,
          10,
          10,
          10,
          10,
          10,
          10,
          10,
          10,
          10,
          10,
          10,
          10,
          10,
          10,
          10,
          10,
          10,
          10,
          10,
          10,
          10,
          10,
          10,
          10,
          10.34358604,
          10.34358604,
          10.34358604,
          10.34358604,
          10.34358604,
          10.34358604,
          10.58732292,
          10.58732292,
          10.58732292,
          10.58732292,
          10.58732292,
          10.58732292,
          10.58732292,
          10.58732292,
          10.58732292
         ],
         "yaxis": "y3"
        },
        {
         "mode": "lines",
         "name": "bitstamp:/BTC:/worth",
         "type": "scatter",
         "uid": "66a51bd5-08f5-4308-b164-b740b790d342",
         "xaxis": "x3",
         "y": [
          87409.9,
          87390,
          87284.9,
          95040.76885322719,
          95996.59851223898,
          95604.79347959999,
          95604.79347959999,
          95596.38986190829,
          92961.1463192617,
          92988.75820596298,
          93151.70107886828,
          93272.9532769914,
          93058.06076744648,
          93374.014965076,
          92899.265134441,
          92682.9538322988,
          92330.65671659999,
          92494.25441685789,
          92286.12845662319,
          90871.2648234388,
          81334.3,
          81647.9,
          82293.79999999999,
          82204,
          82388,
          89970.0084320991,
          89691.23548143319,
          90084.3151770605,
          91479.6005687117,
          83730,
          83650.8,
          81799.9,
          82250,
          82858,
          82734,
          82974,
          82798.9,
          82527.2,
          83021.8,
          82958.5,
          82772.5,
          83465.9,
          83583,
          83751,
          83686.20000000001,
          87519.5851905472,
          86976.16525410271,
          87487.99465718701,
          87283.59763008161,
          86271.445309574,
          86585.258554874,
          86734.5290552217,
          86904.1974165139,
          86810.158047339,
          86502.3072536997,
          86831.9157656798,
          87015.07809651991,
          86888.5067542489,
          86575.11192660932,
          86379.0832527119,
          85419.96537066001,
          81763.3,
          82007,
          81554.1,
          80800,
          80670.3,
          79580.8,
          79742.5,
          79985,
          79919.9,
          80227,
          80429.7,
          79656.7,
          80889.5,
          81221.9,
          81079.9,
          81377.29999999999,
          81150,
          81070,
          80944,
          80800.1,
          81170.9,
          81269.9,
          81109.5,
          82153.9,
          82314.2,
          82401.29999999999,
          82350,
          82199,
          82488.70000000001,
          82135,
          82009.9,
          82000,
          82373,
          82281.29999999999,
          82408.3,
          82149,
          81700.7,
          82298.70000000001,
          82058.70000000001,
          82525.59999999999,
          83650,
          83486.5,
          83039.9,
          83104.79999999999,
          83100,
          85746.9836054148,
          85903.3786263396,
          85865.727973154,
          85987.47198084481,
          85231.87302062279,
          84817.3020921396,
          87101.6939163816,
          87146.37241910401,
          86804.2960155588,
          86983.85701228201,
          87662.9279043708,
          87399.1976904336,
          87561.395477568,
          87284.4311099808,
          87230.22401663041
         ],
         "yaxis": "y3"
        },
        {
         "mode": "lines",
         "name": "net_worth",
         "type": "scatter",
         "uid": "81910362-5a88-461a-9686-2e0579338611",
         "xaxis": "x3",
         "y": [
          97409.9,
          97390,
          97284.9,
          97040.76885322719,
          97996.59851223898,
          97604.79347959999,
          97604.79347959999,
          97596.38986190829,
          94961.1463192617,
          94988.75820596298,
          95151.70107886828,
          95272.9532769914,
          95058.06076744648,
          95374.014965076,
          94899.265134441,
          94682.9538322988,
          94330.65671659999,
          94494.25441685789,
          94286.12845662319,
          92871.2648234388,
          90919.94,
          91233.54,
          91879.43999999999,
          91789.64,
          91973.64,
          91887.1384320991,
          91608.3654814332,
          92001.44517706051,
          93396.7305687117,
          93392.13,
          93312.93000000001,
          91462.03,
          91912.13,
          92520.13,
          92396.13,
          92636.13,
          92461.03,
          92189.33,
          92683.93000000001,
          92620.63,
          92434.63,
          93128.03,
          93245.13,
          93413.13,
          93348.33000000002,
          93316.86519054719,
          92773.44525410271,
          93285.27465718701,
          93080.87763008161,
          92068.725309574,
          92382.538554874,
          92531.8090552217,
          92701.4774165139,
          92607.438047339,
          92299.5872536997,
          92629.1957656798,
          92812.3580965199,
          92685.7867542489,
          92372.39192660931,
          92176.3632527119,
          91217.24537066,
          91309.27,
          91552.97,
          91100.07,
          90345.97,
          90216.27,
          89126.77,
          89288.47,
          89530.97,
          89465.87,
          89772.97,
          89975.67,
          89202.67,
          90435.47,
          90767.87,
          90625.87,
          90923.26999999999,
          90695.97,
          90615.97,
          90489.97,
          90346.07,
          90716.87,
          90815.87,
          90655.47,
          91699.87,
          91860.17,
          91947.26999999999,
          91895.97,
          91744.97,
          92034.67000000001,
          91680.97,
          91555.87,
          91545.97,
          91918.97,
          91827.26999999999,
          91954.27,
          91694.97,
          91246.67,
          91844.67000000001,
          91604.67000000001,
          92071.56999999999,
          93195.97,
          93032.47,
          92585.87,
          92650.76999999999,
          92645.97,
          92429.1636054148,
          92585.5586263396,
          92547.90797315401,
          92669.65198084482,
          91914.05302062278,
          91499.4820921396,
          91779.2239163816,
          91823.90241910401,
          91481.82601555879,
          91661.38701228201,
          92340.45790437079,
          92076.7276904336,
          92238.925477568,
          91961.9611099808,
          91907.75401663041
         ],
         "yaxis": "y3"
        },
        {
         "marker": {
          "color": "DarkGreen"
         },
         "mode": "lines",
         "name": "Net Worth",
         "type": "scatter",
         "uid": "2a16b7a4-6c62-48f6-86ee-f813f28782f1",
         "xaxis": "x4",
         "y": [
          97409.9,
          97390,
          97284.9,
          97040.76885322719,
          97996.59851223898,
          97604.79347959999,
          97604.79347959999,
          97596.38986190829,
          94961.1463192617,
          94988.75820596298,
          95151.70107886828,
          95272.9532769914,
          95058.06076744648,
          95374.014965076,
          94899.265134441,
          94682.9538322988,
          94330.65671659999,
          94494.25441685789,
          94286.12845662319,
          92871.2648234388,
          90919.94,
          91233.54,
          91879.43999999999,
          91789.64,
          91973.64,
          91887.1384320991,
          91608.3654814332,
          92001.44517706051,
          93396.7305687117,
          93392.13,
          93312.93000000001,
          91462.03,
          91912.13,
          92520.13,
          92396.13,
          92636.13,
          92461.03,
          92189.33,
          92683.93000000001,
          92620.63,
          92434.63,
          93128.03,
          93245.13,
          93413.13,
          93348.33000000002,
          93316.86519054719,
          92773.44525410271,
          93285.27465718701,
          93080.87763008161,
          92068.725309574,
          92382.538554874,
          92531.8090552217,
          92701.4774165139,
          92607.438047339,
          92299.5872536997,
          92629.1957656798,
          92812.3580965199,
          92685.7867542489,
          92372.39192660931,
          92176.3632527119,
          91217.24537066,
          91309.27,
          91552.97,
          91100.07,
          90345.97,
          90216.27,
          89126.77,
          89288.47,
          89530.97,
          89465.87,
          89772.97,
          89975.67,
          89202.67,
          90435.47,
          90767.87,
          90625.87,
          90923.26999999999,
          90695.97,
          90615.97,
          90489.97,
          90346.07,
          90716.87,
          90815.87,
          90655.47,
          91699.87,
          91860.17,
          91947.26999999999,
          91895.97,
          91744.97,
          92034.67000000001,
          91680.97,
          91555.87,
          91545.97,
          91918.97,
          91827.26999999999,
          91954.27,
          91694.97,
          91246.67,
          91844.67000000001,
          91604.67000000001,
          92071.56999999999,
          93195.97,
          93032.47,
          92585.87,
          92650.76999999999,
          92645.97,
          92429.1636054148,
          92585.5586263396,
          92547.90797315401,
          92669.65198084482,
          91914.05302062278,
          91499.4820921396,
          91779.2239163816,
          91823.90241910401,
          91481.82601555879,
          91661.38701228201,
          92340.45790437079,
          92076.7276904336,
          92238.925477568,
          91961.9611099808,
          91907.75401663041
         ],
         "yaxis": "y4"
        }
       ],
       "layout": {
        "annotations": [
         {
          "arrowcolor": "FireBrick",
          "arrowhead": 2,
          "arrowsize": 0.8,
          "arrowwidth": 4,
          "ax": 0,
          "ay": -15,
          "hoverlabel": {
           "bgcolor": "FireBrick"
          },
          "hovertext": "Step 20 [2018-05-16 01:00:00]<br>SELL 0.91104784 BTC @ 8326.28 USD MARKET<br>Total: 7585.64 USD - Comm.: 0.00274137 BTC",
          "opacity": 0.6,
          "showarrow": true,
          "x": 19,
          "xref": "x",
          "y": 8326.28,
          "yref": "y"
         },
         {
          "arrowcolor": "DarkGreen",
          "arrowhead": 2,
          "arrowsize": 0.8,
          "arrowwidth": 4,
          "ax": 0,
          "ay": 15,
          "hoverlabel": {
           "bgcolor": "DarkGreen"
          },
          "hovertext": "Step 3 [2018-05-15 08:00:00]<br>BUY 0.91378921 BTC @ 8728.49 USD MARKET<br>Total: 7976.0 USD - Comm.: 24.00 USD",
          "opacity": 0.6,
          "showarrow": true,
          "x": 2,
          "xref": "x",
          "y": 8728.49,
          "yref": "y"
         },
         {
          "arrowcolor": "FireBrick",
          "arrowhead": 2,
          "arrowsize": 0.8,
          "arrowwidth": 4,
          "ax": 0,
          "ay": -15,
          "hoverlabel": {
           "bgcolor": "FireBrick"
          },
          "hovertext": "Step 29 [2018-05-16 10:00:00]<br>SELL 0.92520313 BTC @ 8371.13 USD MARKET<br>Total: 7745.0 USD - Comm.: 0.00278396 BTC",
          "opacity": 0.6,
          "showarrow": true,
          "x": 28,
          "xref": "x",
          "y": 8371.13,
          "yref": "y"
         },
         {
          "arrowcolor": "DarkGreen",
          "arrowhead": 2,
          "arrowsize": 0.8,
          "arrowwidth": 4,
          "ax": 0,
          "ay": 15,
          "hoverlabel": {
           "bgcolor": "DarkGreen"
          },
          "hovertext": "Step 25 [2018-05-16 06:00:00]<br>BUY 0.92798709 BTC @ 8238.8 USD MARKET<br>Total: 7645.5 USD - Comm.: 23.01 USD",
          "opacity": 0.6,
          "showarrow": true,
          "x": 24,
          "xref": "x",
          "y": 8238.8,
          "yref": "y"
         },
         {
          "arrowcolor": "DarkGreen",
          "arrowhead": 2,
          "arrowsize": 0.8,
          "arrowwidth": 4,
          "ax": 0,
          "ay": 15,
          "hoverlabel": {
           "bgcolor": "DarkGreen"
          },
          "hovertext": "Step 45 [2018-05-17 02:00:00]<br>BUY 0.46044151 BTC @ 8368.62 USD MARKET<br>Total: 3853.26 USD - Comm.: 11.59 USD",
          "opacity": 0.6,
          "showarrow": true,
          "x": 44,
          "xref": "x",
          "y": 8368.62,
          "yref": "y"
         },
         {
          "arrowcolor": "FireBrick",
          "arrowhead": 2,
          "arrowsize": 0.8,
          "arrowwidth": 4,
          "ax": 0,
          "ay": -15,
          "hoverlabel": {
           "bgcolor": "FireBrick"
          },
          "hovertext": "Step 61 [2018-05-17 18:00:00]<br>SELL 0.45906019 BTC @ 8166.0 USD MARKET<br>Total: 3748.69 USD - Comm.: 0.00138132 BTC",
          "opacity": 0.6,
          "showarrow": true,
          "x": 60,
          "xref": "x",
          "y": 8166,
          "yref": "y"
         },
         {
          "arrowcolor": "DarkGreen",
          "arrowhead": 2,
          "arrowsize": 0.8,
          "arrowwidth": 4,
          "ax": 0,
          "ay": 15,
          "hoverlabel": {
           "bgcolor": "DarkGreen"
          },
          "hovertext": "Step 112 [2018-05-19 21:00:00]<br>BUY 0.24373688 BTC @ 8199.99 USD MARKET<br>Total: 1998.64 USD - Comm.: 6.01 USD",
          "opacity": 0.6,
          "showarrow": true,
          "x": 111,
          "xref": "x",
          "y": 8199.99,
          "yref": "y"
         },
         {
          "arrowcolor": "DarkGreen",
          "arrowhead": 2,
          "arrowsize": 0.8,
          "arrowwidth": 4,
          "ax": 0,
          "ay": 15,
          "hoverlabel": {
           "bgcolor": "DarkGreen"
          },
          "hovertext": "Step 106 [2018-05-19 15:00:00]<br>BUY 0.34358604 BTC @ 8310.0 USD MARKET<br>Total: 2855.2 USD - Comm.: 8.59 USD",
          "opacity": 0.6,
          "showarrow": true,
          "x": 105,
          "xref": "x",
          "y": 8310,
          "yref": "y"
         }
        ],
        "margin": {
         "t": 50
        },
        "template": {
         "data": {
          "bar": [
           {
            "error_x": {
             "color": "#2a3f5f"
            },
            "error_y": {
             "color": "#2a3f5f"
            },
            "marker": {
             "line": {
              "color": "white",
              "width": 0.5
             },
             "pattern": {
              "fillmode": "overlay",
              "size": 10,
              "solidity": 0.2
             }
            },
            "type": "bar"
           }
          ],
          "barpolar": [
           {
            "marker": {
             "line": {
              "color": "white",
              "width": 0.5
             },
             "pattern": {
              "fillmode": "overlay",
              "size": 10,
              "solidity": 0.2
             }
            },
            "type": "barpolar"
           }
          ],
          "carpet": [
           {
            "aaxis": {
             "endlinecolor": "#2a3f5f",
             "gridcolor": "#C8D4E3",
             "linecolor": "#C8D4E3",
             "minorgridcolor": "#C8D4E3",
             "startlinecolor": "#2a3f5f"
            },
            "baxis": {
             "endlinecolor": "#2a3f5f",
             "gridcolor": "#C8D4E3",
             "linecolor": "#C8D4E3",
             "minorgridcolor": "#C8D4E3",
             "startlinecolor": "#2a3f5f"
            },
            "type": "carpet"
           }
          ],
          "choropleth": [
           {
            "colorbar": {
             "outlinewidth": 0,
             "ticks": ""
            },
            "type": "choropleth"
           }
          ],
          "contour": [
           {
            "colorbar": {
             "outlinewidth": 0,
             "ticks": ""
            },
            "colorscale": [
             [
              0,
              "#0d0887"
             ],
             [
              0.1111111111111111,
              "#46039f"
             ],
             [
              0.2222222222222222,
              "#7201a8"
             ],
             [
              0.3333333333333333,
              "#9c179e"
             ],
             [
              0.4444444444444444,
              "#bd3786"
             ],
             [
              0.5555555555555556,
              "#d8576b"
             ],
             [
              0.6666666666666666,
              "#ed7953"
             ],
             [
              0.7777777777777778,
              "#fb9f3a"
             ],
             [
              0.8888888888888888,
              "#fdca26"
             ],
             [
              1,
              "#f0f921"
             ]
            ],
            "type": "contour"
           }
          ],
          "contourcarpet": [
           {
            "colorbar": {
             "outlinewidth": 0,
             "ticks": ""
            },
            "type": "contourcarpet"
           }
          ],
          "heatmap": [
           {
            "colorbar": {
             "outlinewidth": 0,
             "ticks": ""
            },
            "colorscale": [
             [
              0,
              "#0d0887"
             ],
             [
              0.1111111111111111,
              "#46039f"
             ],
             [
              0.2222222222222222,
              "#7201a8"
             ],
             [
              0.3333333333333333,
              "#9c179e"
             ],
             [
              0.4444444444444444,
              "#bd3786"
             ],
             [
              0.5555555555555556,
              "#d8576b"
             ],
             [
              0.6666666666666666,
              "#ed7953"
             ],
             [
              0.7777777777777778,
              "#fb9f3a"
             ],
             [
              0.8888888888888888,
              "#fdca26"
             ],
             [
              1,
              "#f0f921"
             ]
            ],
            "type": "heatmap"
           }
          ],
          "heatmapgl": [
           {
            "colorbar": {
             "outlinewidth": 0,
             "ticks": ""
            },
            "colorscale": [
             [
              0,
              "#0d0887"
             ],
             [
              0.1111111111111111,
              "#46039f"
             ],
             [
              0.2222222222222222,
              "#7201a8"
             ],
             [
              0.3333333333333333,
              "#9c179e"
             ],
             [
              0.4444444444444444,
              "#bd3786"
             ],
             [
              0.5555555555555556,
              "#d8576b"
             ],
             [
              0.6666666666666666,
              "#ed7953"
             ],
             [
              0.7777777777777778,
              "#fb9f3a"
             ],
             [
              0.8888888888888888,
              "#fdca26"
             ],
             [
              1,
              "#f0f921"
             ]
            ],
            "type": "heatmapgl"
           }
          ],
          "histogram": [
           {
            "marker": {
             "pattern": {
              "fillmode": "overlay",
              "size": 10,
              "solidity": 0.2
             }
            },
            "type": "histogram"
           }
          ],
          "histogram2d": [
           {
            "colorbar": {
             "outlinewidth": 0,
             "ticks": ""
            },
            "colorscale": [
             [
              0,
              "#0d0887"
             ],
             [
              0.1111111111111111,
              "#46039f"
             ],
             [
              0.2222222222222222,
              "#7201a8"
             ],
             [
              0.3333333333333333,
              "#9c179e"
             ],
             [
              0.4444444444444444,
              "#bd3786"
             ],
             [
              0.5555555555555556,
              "#d8576b"
             ],
             [
              0.6666666666666666,
              "#ed7953"
             ],
             [
              0.7777777777777778,
              "#fb9f3a"
             ],
             [
              0.8888888888888888,
              "#fdca26"
             ],
             [
              1,
              "#f0f921"
             ]
            ],
            "type": "histogram2d"
           }
          ],
          "histogram2dcontour": [
           {
            "colorbar": {
             "outlinewidth": 0,
             "ticks": ""
            },
            "colorscale": [
             [
              0,
              "#0d0887"
             ],
             [
              0.1111111111111111,
              "#46039f"
             ],
             [
              0.2222222222222222,
              "#7201a8"
             ],
             [
              0.3333333333333333,
              "#9c179e"
             ],
             [
              0.4444444444444444,
              "#bd3786"
             ],
             [
              0.5555555555555556,
              "#d8576b"
             ],
             [
              0.6666666666666666,
              "#ed7953"
             ],
             [
              0.7777777777777778,
              "#fb9f3a"
             ],
             [
              0.8888888888888888,
              "#fdca26"
             ],
             [
              1,
              "#f0f921"
             ]
            ],
            "type": "histogram2dcontour"
           }
          ],
          "mesh3d": [
           {
            "colorbar": {
             "outlinewidth": 0,
             "ticks": ""
            },
            "type": "mesh3d"
           }
          ],
          "parcoords": [
           {
            "line": {
             "colorbar": {
              "outlinewidth": 0,
              "ticks": ""
             }
            },
            "type": "parcoords"
           }
          ],
          "pie": [
           {
            "automargin": true,
            "type": "pie"
           }
          ],
          "scatter": [
           {
            "marker": {
             "colorbar": {
              "outlinewidth": 0,
              "ticks": ""
             }
            },
            "type": "scatter"
           }
          ],
          "scatter3d": [
           {
            "line": {
             "colorbar": {
              "outlinewidth": 0,
              "ticks": ""
             }
            },
            "marker": {
             "colorbar": {
              "outlinewidth": 0,
              "ticks": ""
             }
            },
            "type": "scatter3d"
           }
          ],
          "scattercarpet": [
           {
            "marker": {
             "colorbar": {
              "outlinewidth": 0,
              "ticks": ""
             }
            },
            "type": "scattercarpet"
           }
          ],
          "scattergeo": [
           {
            "marker": {
             "colorbar": {
              "outlinewidth": 0,
              "ticks": ""
             }
            },
            "type": "scattergeo"
           }
          ],
          "scattergl": [
           {
            "marker": {
             "colorbar": {
              "outlinewidth": 0,
              "ticks": ""
             }
            },
            "type": "scattergl"
           }
          ],
          "scattermapbox": [
           {
            "marker": {
             "colorbar": {
              "outlinewidth": 0,
              "ticks": ""
             }
            },
            "type": "scattermapbox"
           }
          ],
          "scatterpolar": [
           {
            "marker": {
             "colorbar": {
              "outlinewidth": 0,
              "ticks": ""
             }
            },
            "type": "scatterpolar"
           }
          ],
          "scatterpolargl": [
           {
            "marker": {
             "colorbar": {
              "outlinewidth": 0,
              "ticks": ""
             }
            },
            "type": "scatterpolargl"
           }
          ],
          "scatterternary": [
           {
            "marker": {
             "colorbar": {
              "outlinewidth": 0,
              "ticks": ""
             }
            },
            "type": "scatterternary"
           }
          ],
          "surface": [
           {
            "colorbar": {
             "outlinewidth": 0,
             "ticks": ""
            },
            "colorscale": [
             [
              0,
              "#0d0887"
             ],
             [
              0.1111111111111111,
              "#46039f"
             ],
             [
              0.2222222222222222,
              "#7201a8"
             ],
             [
              0.3333333333333333,
              "#9c179e"
             ],
             [
              0.4444444444444444,
              "#bd3786"
             ],
             [
              0.5555555555555556,
              "#d8576b"
             ],
             [
              0.6666666666666666,
              "#ed7953"
             ],
             [
              0.7777777777777778,
              "#fb9f3a"
             ],
             [
              0.8888888888888888,
              "#fdca26"
             ],
             [
              1,
              "#f0f921"
             ]
            ],
            "type": "surface"
           }
          ],
          "table": [
           {
            "cells": {
             "fill": {
              "color": "#EBF0F8"
             },
             "line": {
              "color": "white"
             }
            },
            "header": {
             "fill": {
              "color": "#C8D4E3"
             },
             "line": {
              "color": "white"
             }
            },
            "type": "table"
           }
          ]
         },
         "layout": {
          "annotationdefaults": {
           "arrowcolor": "#2a3f5f",
           "arrowhead": 0,
           "arrowwidth": 1
          },
          "autotypenumbers": "strict",
          "coloraxis": {
           "colorbar": {
            "outlinewidth": 0,
            "ticks": ""
           }
          },
          "colorscale": {
           "diverging": [
            [
             0,
             "#8e0152"
            ],
            [
             0.1,
             "#c51b7d"
            ],
            [
             0.2,
             "#de77ae"
            ],
            [
             0.3,
             "#f1b6da"
            ],
            [
             0.4,
             "#fde0ef"
            ],
            [
             0.5,
             "#f7f7f7"
            ],
            [
             0.6,
             "#e6f5d0"
            ],
            [
             0.7,
             "#b8e186"
            ],
            [
             0.8,
             "#7fbc41"
            ],
            [
             0.9,
             "#4d9221"
            ],
            [
             1,
             "#276419"
            ]
           ],
           "sequential": [
            [
             0,
             "#0d0887"
            ],
            [
             0.1111111111111111,
             "#46039f"
            ],
            [
             0.2222222222222222,
             "#7201a8"
            ],
            [
             0.3333333333333333,
             "#9c179e"
            ],
            [
             0.4444444444444444,
             "#bd3786"
            ],
            [
             0.5555555555555556,
             "#d8576b"
            ],
            [
             0.6666666666666666,
             "#ed7953"
            ],
            [
             0.7777777777777778,
             "#fb9f3a"
            ],
            [
             0.8888888888888888,
             "#fdca26"
            ],
            [
             1,
             "#f0f921"
            ]
           ],
           "sequentialminus": [
            [
             0,
             "#0d0887"
            ],
            [
             0.1111111111111111,
             "#46039f"
            ],
            [
             0.2222222222222222,
             "#7201a8"
            ],
            [
             0.3333333333333333,
             "#9c179e"
            ],
            [
             0.4444444444444444,
             "#bd3786"
            ],
            [
             0.5555555555555556,
             "#d8576b"
            ],
            [
             0.6666666666666666,
             "#ed7953"
            ],
            [
             0.7777777777777778,
             "#fb9f3a"
            ],
            [
             0.8888888888888888,
             "#fdca26"
            ],
            [
             1,
             "#f0f921"
            ]
           ]
          },
          "colorway": [
           "#636efa",
           "#EF553B",
           "#00cc96",
           "#ab63fa",
           "#FFA15A",
           "#19d3f3",
           "#FF6692",
           "#B6E880",
           "#FF97FF",
           "#FECB52"
          ],
          "font": {
           "color": "#2a3f5f"
          },
          "geo": {
           "bgcolor": "white",
           "lakecolor": "white",
           "landcolor": "white",
           "showlakes": true,
           "showland": true,
           "subunitcolor": "#C8D4E3"
          },
          "hoverlabel": {
           "align": "left"
          },
          "hovermode": "closest",
          "mapbox": {
           "style": "light"
          },
          "paper_bgcolor": "white",
          "plot_bgcolor": "white",
          "polar": {
           "angularaxis": {
            "gridcolor": "#EBF0F8",
            "linecolor": "#EBF0F8",
            "ticks": ""
           },
           "bgcolor": "white",
           "radialaxis": {
            "gridcolor": "#EBF0F8",
            "linecolor": "#EBF0F8",
            "ticks": ""
           }
          },
          "scene": {
           "xaxis": {
            "backgroundcolor": "white",
            "gridcolor": "#DFE8F3",
            "gridwidth": 2,
            "linecolor": "#EBF0F8",
            "showbackground": true,
            "ticks": "",
            "zerolinecolor": "#EBF0F8"
           },
           "yaxis": {
            "backgroundcolor": "white",
            "gridcolor": "#DFE8F3",
            "gridwidth": 2,
            "linecolor": "#EBF0F8",
            "showbackground": true,
            "ticks": "",
            "zerolinecolor": "#EBF0F8"
           },
           "zaxis": {
            "backgroundcolor": "white",
            "gridcolor": "#DFE8F3",
            "gridwidth": 2,
            "linecolor": "#EBF0F8",
            "showbackground": true,
            "ticks": "",
            "zerolinecolor": "#EBF0F8"
           }
          },
          "shapedefaults": {
           "line": {
            "color": "#2a3f5f"
           }
          },
          "ternary": {
           "aaxis": {
            "gridcolor": "#DFE8F3",
            "linecolor": "#A2B1C6",
            "ticks": ""
           },
           "baxis": {
            "gridcolor": "#DFE8F3",
            "linecolor": "#A2B1C6",
            "ticks": ""
           },
           "bgcolor": "white",
           "caxis": {
            "gridcolor": "#DFE8F3",
            "linecolor": "#A2B1C6",
            "ticks": ""
           }
          },
          "title": {
           "x": 0.05
          },
          "xaxis": {
           "automargin": true,
           "gridcolor": "#EBF0F8",
           "linecolor": "#EBF0F8",
           "ticks": "",
           "title": {
            "standoff": 15
           },
           "zerolinecolor": "#EBF0F8",
           "zerolinewidth": 2
          },
          "yaxis": {
           "automargin": true,
           "gridcolor": "#EBF0F8",
           "linecolor": "#EBF0F8",
           "ticks": "",
           "title": {
            "standoff": 15
           },
           "zerolinecolor": "#EBF0F8",
           "zerolinewidth": 2
          }
         }
        },
        "title": {
         "text": "[2022-04-10 00:08:49] Episode: 2/2 Step: 121/200"
        },
        "xaxis": {
         "anchor": "y",
         "domain": [
          0,
          1
         ],
         "gridcolor": "Gainsboro",
         "linecolor": "Grey",
         "matches": "x4",
         "rangeslider": {
          "visible": false
         },
         "showticklabels": false,
         "title": {
          "font": {
           "size": 12
          },
          "standoff": 7,
          "text": "Price"
         }
        },
        "xaxis2": {
         "anchor": "y2",
         "domain": [
          0,
          1
         ],
         "gridcolor": "Gainsboro",
         "linecolor": "Grey",
         "matches": "x4",
         "showticklabels": false,
         "title": {
          "font": {
           "size": 12
          },
          "standoff": 7,
          "text": "Volume"
         }
        },
        "xaxis3": {
         "anchor": "y3",
         "domain": [
          0,
          1
         ],
         "gridcolor": "Gainsboro",
         "linecolor": "Grey",
         "matches": "x4",
         "showticklabels": false,
         "title": {
          "font": {
           "size": 12
          },
          "standoff": 7,
          "text": "Performance"
         }
        },
        "xaxis4": {
         "anchor": "y4",
         "domain": [
          0,
          1
         ],
         "gridcolor": "Gainsboro",
         "linecolor": "Grey",
         "title": {
          "font": {
           "size": 12
          },
          "standoff": 7,
          "text": "Net Worth"
         }
        },
        "yaxis": {
         "anchor": "x",
         "domain": [
          0.49950000000000006,
          1
         ],
         "gridcolor": "Gainsboro",
         "linecolor": "Grey"
        },
        "yaxis2": {
         "anchor": "x2",
         "domain": [
          0.333,
          0.46950000000000003
         ],
         "gridcolor": "Gainsboro",
         "linecolor": "Grey"
        },
        "yaxis3": {
         "anchor": "x3",
         "domain": [
          0.1665,
          0.30300000000000005
         ],
         "gridcolor": "Gainsboro",
         "linecolor": "Grey"
        },
        "yaxis4": {
         "anchor": "x4",
         "domain": [
          0,
          0.1365
         ],
         "gridcolor": "Gainsboro",
         "linecolor": "Grey"
        }
       }
      }
     },
     "metadata": {},
     "output_type": "display_data"
    },
    {
     "data": {
      "application/vnd.jupyter.widget-view+json": {
       "model_id": "a46f5e755d6048fca6f2305516d12de0",
       "version_major": 2,
       "version_minor": 0
      },
      "text/plain": [
       "FigureWidget({\n",
       "    'data': [{'close': array([8740.99, 8739.  , 8728.49, 8708.32, 8795.9 , 8760.  , 8760.  , 87…"
      ]
     },
     "metadata": {},
     "output_type": "display_data"
    },
    {
     "data": {
      "application/vnd.plotly.v1+json": {
       "config": {
        "plotlyServerURL": "https://plot.ly"
       },
       "data": [
        {
         "close": [
          8740.99,
          8739,
          8728.49,
          8708.32,
          8795.9,
          8760,
          8760,
          8759.23,
          8517.77,
          8520.3,
          8535.23,
          8546.34,
          8526.65,
          8555.6,
          8512.1,
          8492.28,
          8460,
          8474.99,
          8455.92,
          8326.28,
          8133.43,
          8164.79,
          8229.38,
          8220.4,
          8238.8,
          8232.99,
          8207.48,
          8243.45,
          8371.13,
          8373,
          8365.08,
          8179.99,
          8225,
          8285.8,
          8273.4,
          8297.4,
          8279.89,
          8252.72,
          8302.18,
          8295.85,
          8277.25,
          8346.59,
          8358.3,
          8375.1,
          8368.62,
          8366.72,
          8314.77,
          8363.7,
          8344.16,
          8247.4,
          8277.4,
          8291.67,
          8307.89,
          8298.9,
          8269.47,
          8300.98,
          8318.49,
          8306.39,
          8276.43,
          8257.69,
          8166,
          8176.33,
          8200.7,
          8155.41,
          8080,
          8067.03,
          7958.08,
          7974.25,
          7998.5,
          7991.99,
          8022.7,
          8042.97,
          7965.67,
          8088.95,
          8122.19,
          8107.99,
          8137.73,
          8115,
          8107,
          8094.4,
          8080.01,
          8117.09,
          8126.99,
          8110.95,
          8215.39,
          8231.42,
          8240.13,
          8235,
          8219.9,
          8248.87,
          8213.5,
          8200.99,
          8200,
          8237.3,
          8228.13,
          8240.83,
          8214.9,
          8170.07,
          8229.87,
          8205.87,
          8252.56,
          8365,
          8348.65,
          8303.99,
          8310.48,
          8310,
          8289.87,
          8304.99,
          8301.35,
          8313.12,
          8240.07,
          8199.99,
          8226.98,
          8231.2,
          8198.89,
          8215.85,
          8279.99,
          8255.08,
          8270.4,
          8244.24,
          8239.12,
          8267.14,
          8282.27,
          8350.62,
          8336.6,
          8336.91,
          8311.21,
          8312.09,
          8345.19,
          8377.2,
          8481.11,
          8516.36,
          8524,
          8517.04,
          8558.5,
          8521.99,
          8484.93,
          8518.48,
          8488.99,
          8466.72,
          8492.55
         ],
         "high": [
          8796.68,
          8766,
          8750.27,
          8754.4,
          8865,
          8821.19,
          8798.6,
          8771.02,
          8761.7,
          8553.67,
          8589.1,
          8579.48,
          8555.51,
          8583.6,
          8569.92,
          8555.54,
          8557.51,
          8505,
          8505.33,
          8478.29,
          8339.81,
          8217.44,
          8252.72,
          8248.63,
          8267.12,
          8255,
          8261.24,
          8263.93,
          8455.66,
          8439.44,
          8399.1,
          8381.73,
          8229.91,
          8377.29,
          8329.1,
          8350,
          8346.95,
          8377.29,
          8311.35,
          8319.96,
          8398.24,
          8372.58,
          8399.99,
          8386.53,
          8400,
          8500,
          8381,
          8371.3,
          8382.41,
          8351,
          8292.99,
          8325.8,
          8318.99,
          8324.9,
          8335.56,
          8309.4,
          8377.29,
          8330.41,
          8328.23,
          8284.36,
          8274.83,
          8200,
          8232.14,
          8213.97,
          8155.41,
          8108.28,
          8068.92,
          8019.9,
          8026.66,
          8025,
          8104.69,
          8061.39,
          8045.99,
          8170.71,
          8144.16,
          8139.99,
          8152.99,
          8137.73,
          8143.72,
          8129.99,
          8106.76,
          8139,
          8152.04,
          8146.99,
          8232.14,
          8275.1,
          8256.12,
          8274.1,
          8255.8,
          8253.97,
          8261.09,
          8235.76,
          8227,
          8273.36,
          8264.21,
          8250,
          8250.86,
          8235.77,
          8232.12,
          8232.14,
          8252.72,
          8370,
          8395,
          8374.48,
          8331,
          8319.43,
          8323.4,
          8314.55,
          8330.62,
          8314.8,
          8323.99,
          8263.03,
          8247.78,
          8253.75,
          8237.89,
          8235,
          8279.99,
          8290,
          8278.71,
          8275.34,
          8279.31,
          8279.98,
          8294.04,
          8356.4,
          8374.94,
          8354.83,
          8360.45,
          8337.14,
          8351.97,
          8377.29,
          8549,
          8531.9,
          8551.79,
          8529.9,
          8590,
          8576.1,
          8549.89,
          8531.89,
          8550,
          8493.29,
          8522.98
         ],
         "low": [
          8707.28,
          8721.11,
          8660.53,
          8701.35,
          8695.11,
          8740.54,
          8741.52,
          8700,
          8467.42,
          8477.89,
          8500.78,
          8500,
          8400,
          8451.05,
          8461.38,
          8481.24,
          8420.37,
          8450,
          8430.94,
          8275.02,
          8100.01,
          8122.56,
          8157.01,
          8166.25,
          8176.91,
          8213.79,
          8200,
          8207.48,
          8237.1,
          8370,
          8356.4,
          8145.1,
          8173.6,
          8211.8,
          8201,
          8250.9,
          8266.46,
          8252.72,
          8232.14,
          8268.37,
          8277.25,
          8277.25,
          8314.78,
          8314.77,
          8350.07,
          8331.39,
          8314.77,
          8275.45,
          8335.49,
          8191.14,
          8227.7,
          8264.13,
          8249.93,
          8269.52,
          8219.44,
          8262.68,
          8286.65,
          8289.87,
          8232.14,
          8232.14,
          8110.02,
          8154.95,
          8168.6,
          8151,
          7980,
          8005.95,
          7929.53,
          7931.03,
          7950,
          7980.58,
          7991.99,
          7992.75,
          7953.4,
          7965.67,
          8085.94,
          8078.48,
          8092.9,
          8049.22,
          8079.46,
          8062.12,
          8043.96,
          8063.1,
          8088.46,
          8094.43,
          8088.46,
          8191.14,
          8212,
          8224.5,
          8211,
          8211.01,
          8210.03,
          8158.27,
          8177.65,
          8179.41,
          8221.92,
          8217.32,
          8213.52,
          8141.08,
          8146.1,
          8186.03,
          8197.09,
          8231.21,
          8323.82,
          8296,
          8296.31,
          8282.65,
          8280,
          8273.36,
          8290.08,
          8277.93,
          8240.07,
          8191.14,
          8178,
          8193.7,
          8180,
          8170.71,
          8215.53,
          8240.02,
          8237.17,
          8237.17,
          8239.12,
          8227.79,
          8247.57,
          8274.24,
          8326.1,
          8320.61,
          8281.31,
          8269.85,
          8311.16,
          8336.11,
          8369.86,
          8471.51,
          8511,
          8476.66,
          8507.68,
          8509.24,
          8482.53,
          8484.93,
          8450,
          8434.47,
          8461.1
         ],
         "name": "Price",
         "open": [
          8733.86,
          8740.99,
          8739,
          8728.49,
          8708.32,
          8795.9,
          8760,
          8760,
          8759.23,
          8517.77,
          8520.3,
          8535.23,
          8546.34,
          8526.65,
          8555.6,
          8512.1,
          8492.28,
          8460,
          8474.99,
          8455.92,
          8326.28,
          8133.43,
          8164.79,
          8229.38,
          8220.4,
          8238.8,
          8232.99,
          8207.48,
          8243.45,
          8371.13,
          8373,
          8365.08,
          8179.99,
          8225,
          8285.8,
          8273.4,
          8297.4,
          8279.89,
          8252.72,
          8302.18,
          8295.85,
          8277.25,
          8346.59,
          8358.3,
          8375.1,
          8368.62,
          8366.72,
          8314.77,
          8363.7,
          8344.16,
          8247.4,
          8277.4,
          8291.67,
          8307.89,
          8298.9,
          8269.47,
          8300.98,
          8318.49,
          8306.39,
          8276.43,
          8257.69,
          8166,
          8176.33,
          8200.7,
          8155.41,
          8080,
          8067.03,
          7958.08,
          7974.25,
          7998.5,
          7991.99,
          8022.7,
          8042.97,
          7965.67,
          8088.95,
          8122.19,
          8107.99,
          8137.73,
          8115,
          8107,
          8094.4,
          8080.01,
          8117.09,
          8126.99,
          8110.95,
          8215.39,
          8231.42,
          8240.13,
          8235,
          8219.9,
          8248.87,
          8213.5,
          8200.99,
          8200,
          8237.3,
          8228.13,
          8240.83,
          8214.9,
          8170.07,
          8229.87,
          8205.87,
          8252.56,
          8365,
          8348.65,
          8303.99,
          8310.48,
          8310,
          8289.87,
          8304.99,
          8301.35,
          8313.12,
          8240.07,
          8199.99,
          8226.98,
          8231.2,
          8198.89,
          8215.85,
          8279.99,
          8255.08,
          8270.4,
          8244.24,
          8239.12,
          8267.14,
          8282.27,
          8350.62,
          8336.6,
          8336.91,
          8311.21,
          8312.09,
          8345.19,
          8377.2,
          8481.11,
          8516.36,
          8524,
          8517.04,
          8558.5,
          8521.99,
          8484.93,
          8518.48,
          8488.99,
          8466.72
         ],
         "showlegend": false,
         "type": "candlestick",
         "uid": "50305746-acbe-483f-b8bd-5ee326eca239",
         "xaxis": "x",
         "yaxis": "y"
        },
        {
         "marker": {
          "color": "DodgerBlue"
         },
         "name": "Volume",
         "showlegend": false,
         "type": "bar",
         "uid": "0b0694af-d058-44fd-a8e6-b25a9a83e2b0",
         "xaxis": "x2",
         "y": [
          559.93,
          273.58,
          917.79,
          182.62,
          1260.69,
          324.11,
          324.2,
          730.67,
          1341.75,
          792.07,
          385.69,
          475.08,
          877.26,
          670.49,
          610.97,
          168.99,
          305.92,
          136.05,
          154.26,
          1070.93,
          1710.2,
          492.8,
          630.72,
          620.93,
          586.34,
          304.52,
          450.97,
          182.36,
          915.32,
          319.29,
          362.01,
          1046.38,
          357.91,
          561.2,
          322.53,
          1073.71,
          237.21,
          251.2,
          359.73,
          117.23,
          363.17,
          214.18,
          171.64,
          258.58,
          299.52,
          718.98,
          119.7,
          405.25,
          210.77,
          714.82,
          215.97,
          164.2,
          201.55,
          203.41,
          886.82,
          95.49,
          499.67,
          172.77,
          355.39,
          255.27,
          591.06,
          133.1,
          149.13,
          87.55,
          1061.54,
          286.94,
          524.42,
          316,
          441.43,
          189.7,
          844.94,
          155.34,
          257.56,
          610.69,
          217.97,
          173.18,
          218.06,
          372.97,
          484.39,
          248.1,
          162.35,
          303.42,
          290.69,
          160.93,
          369.4,
          487.27,
          93.35,
          96.68,
          72.14,
          90.22,
          168.52,
          203.15,
          71.42,
          464.56,
          57,
          89.42,
          49.47,
          200.05,
          254.37,
          65.05,
          118.19,
          452.4,
          181.03,
          288.04,
          145.78,
          110.14,
          55.48,
          80.87,
          67.01,
          59.16,
          121.26,
          244.37,
          156.87,
          80.48,
          139.32,
          93.52,
          200.23,
          97.4,
          68.08,
          47,
          36.65,
          28.75,
          182.85,
          400.18,
          288.1,
          182.94,
          777.81,
          493.59,
          118.63,
          174.37,
          901.75,
          222.45,
          113.8,
          84.2,
          261.44,
          168.78,
          111.07,
          122.12,
          267.32,
          210.39,
          211.36
         ],
         "yaxis": "y2"
        },
        {
         "mode": "lines",
         "name": "bitstamp:/USD-BTC",
         "type": "scatter",
         "uid": "7633330c-73a6-45ce-bf50-e1d3eb811fe9",
         "xaxis": "x3",
         "y": [
          8740.99,
          8739,
          8728.49,
          8708.32,
          8795.9,
          8760,
          8760,
          8759.23,
          8517.77,
          8520.3,
          8535.23,
          8546.34,
          8526.65,
          8555.6,
          8512.1,
          8492.28,
          8460,
          8474.99,
          8455.92,
          8326.28,
          8133.43,
          8164.79,
          8229.38,
          8220.4,
          8238.8,
          8232.99,
          8207.48,
          8243.45,
          8371.13,
          8373,
          8365.08,
          8179.99,
          8225,
          8285.8,
          8273.4,
          8297.4,
          8279.89,
          8252.72,
          8302.18,
          8295.85,
          8277.25,
          8346.59,
          8358.3,
          8375.1,
          8368.62,
          8366.72,
          8314.77,
          8363.7,
          8344.16,
          8247.4,
          8277.4,
          8291.67,
          8307.89,
          8298.9,
          8269.47,
          8300.98,
          8318.49,
          8306.39,
          8276.43,
          8257.69,
          8166,
          8176.33,
          8200.7,
          8155.41,
          8080,
          8067.03,
          7958.08,
          7974.25,
          7998.5,
          7991.99,
          8022.7,
          8042.97,
          7965.67,
          8088.95,
          8122.19,
          8107.99,
          8137.73,
          8115,
          8107,
          8094.4,
          8080.01,
          8117.09,
          8126.99,
          8110.95,
          8215.39,
          8231.42,
          8240.13,
          8235,
          8219.9,
          8248.87,
          8213.5,
          8200.99,
          8200,
          8237.3,
          8228.13,
          8240.83,
          8214.9,
          8170.07,
          8229.87,
          8205.87,
          8252.56,
          8365,
          8348.65,
          8303.99,
          8310.48,
          8310,
          8289.87,
          8304.99,
          8301.35,
          8313.12,
          8240.07,
          8199.99,
          8226.98,
          8231.2,
          8198.89,
          8215.85,
          8279.99,
          8255.08,
          8270.4,
          8244.24,
          8239.12,
          8267.14,
          8282.27,
          8350.62,
          8336.6,
          8336.91,
          8311.21,
          8312.09,
          8345.19,
          8377.2,
          8481.11,
          8516.36,
          8524,
          8517.04,
          8558.5,
          8521.99,
          8484.93,
          8518.48,
          8488.99,
          8466.72,
          8492.55
         ],
         "yaxis": "y3"
        },
        {
         "mode": "lines",
         "name": "bitstamp:/USD:/free",
         "type": "scatter",
         "uid": "b7b5fee1-fcd9-4177-863c-64eba3d65df3",
         "xaxis": "x3",
         "y": [
          10000,
          10000,
          10000,
          2000,
          2000,
          2000,
          2000,
          2000,
          2000,
          2000,
          2000,
          2000,
          2000,
          2000,
          2000,
          2000,
          2000,
          2000,
          2000,
          2000,
          9585.64,
          9585.64,
          9585.64,
          9585.64,
          9585.64,
          1917.13,
          1917.13,
          1917.13,
          1917.13,
          9662.13,
          9662.13,
          9662.13,
          9662.13,
          9662.13,
          9662.13,
          9662.13,
          9662.13,
          9662.13,
          9662.13,
          9662.13,
          9662.13,
          9662.13,
          9662.13,
          9662.13,
          9662.13,
          5797.28,
          5797.28,
          5797.28,
          5797.28,
          5797.28,
          5797.28,
          5797.28,
          5797.28,
          5797.28,
          5797.28,
          5797.28,
          5797.28,
          5797.28,
          5797.28,
          5797.28,
          5797.28,
          9545.97,
          9545.97,
          9545.97,
          9545.97,
          9545.97,
          9545.97,
          9545.97,
          9545.97,
          9545.97,
          9545.97,
          9545.97,
          9545.97,
          9545.97,
          9545.97,
          9545.97,
          9545.97,
          9545.97,
          9545.97,
          9545.97,
          9545.97,
          9545.97,
          9545.97,
          9545.97,
          9545.97,
          9545.97,
          9545.97,
          9545.97,
          9545.97,
          9545.97,
          9545.97,
          9545.97,
          9545.97,
          9545.97,
          9545.97,
          9545.97,
          9545.97,
          9545.97,
          9545.97,
          9545.97,
          9545.97,
          9545.97,
          9545.97,
          9545.97,
          9545.97,
          9545.97,
          6682.18,
          6682.18,
          6682.18,
          6682.18,
          6682.18,
          6682.18,
          4677.53,
          4677.53,
          4677.53,
          4677.53,
          4677.53,
          4677.53,
          4677.53,
          4677.53,
          4677.53,
          4677.53,
          4677.53,
          4677.53,
          4677.53,
          4677.53,
          4677.53,
          4677.53,
          1871.01,
          1871.01,
          1871.01,
          6837.22,
          6837.22,
          6837.22,
          6837.22,
          6837.22,
          6837.22,
          6837.22,
          6837.22,
          6837.22,
          6837.22
         ],
         "yaxis": "y3"
        },
        {
         "mode": "lines",
         "name": "bitstamp:/USD:/locked",
         "type": "scatter",
         "uid": "99dd8a26-fe84-43a4-af3c-0c42748827c8",
         "xaxis": "x3",
         "y": [
          0,
          0,
          0,
          0,
          0,
          0,
          0,
          0,
          0,
          0,
          0,
          0,
          0,
          0,
          0,
          0,
          0,
          0,
          0,
          0,
          0,
          0,
          0,
          0,
          0,
          0,
          0,
          0,
          0,
          0,
          0,
          0,
          0,
          0,
          0,
          0,
          0,
          0,
          0,
          0,
          0,
          0,
          0,
          0,
          0,
          0,
          0,
          0,
          0,
          0,
          0,
          0,
          0,
          0,
          0,
          0,
          0,
          0,
          0,
          0,
          0,
          0,
          0,
          0,
          0,
          0,
          0,
          0,
          0,
          0,
          0,
          0,
          0,
          0,
          0,
          0,
          0,
          0,
          0,
          0,
          0,
          0,
          0,
          0,
          0,
          0,
          0,
          0,
          0,
          0,
          0,
          0,
          0,
          0,
          0,
          0,
          0,
          0,
          0,
          0,
          0,
          0,
          0,
          0,
          0,
          0,
          0,
          0,
          0,
          0,
          0,
          0,
          0,
          0,
          0,
          0,
          0,
          0,
          0,
          0,
          0,
          0,
          0,
          0,
          0,
          0,
          0,
          0,
          0,
          0,
          0,
          0,
          0,
          0,
          0,
          0,
          0,
          0,
          0,
          0,
          0
         ],
         "yaxis": "y3"
        },
        {
         "mode": "lines",
         "name": "bitstamp:/USD:/total",
         "type": "scatter",
         "uid": "bc6113cd-7ed0-47a2-b189-fba82d6153a0",
         "xaxis": "x3",
         "y": [
          10000,
          10000,
          10000,
          2000,
          2000,
          2000,
          2000,
          2000,
          2000,
          2000,
          2000,
          2000,
          2000,
          2000,
          2000,
          2000,
          2000,
          2000,
          2000,
          2000,
          9585.64,
          9585.64,
          9585.64,
          9585.64,
          9585.64,
          1917.13,
          1917.13,
          1917.13,
          1917.13,
          9662.13,
          9662.13,
          9662.13,
          9662.13,
          9662.13,
          9662.13,
          9662.13,
          9662.13,
          9662.13,
          9662.13,
          9662.13,
          9662.13,
          9662.13,
          9662.13,
          9662.13,
          9662.13,
          5797.28,
          5797.28,
          5797.28,
          5797.28,
          5797.28,
          5797.28,
          5797.28,
          5797.28,
          5797.28,
          5797.28,
          5797.28,
          5797.28,
          5797.28,
          5797.28,
          5797.28,
          5797.28,
          9545.97,
          9545.97,
          9545.97,
          9545.97,
          9545.97,
          9545.97,
          9545.97,
          9545.97,
          9545.97,
          9545.97,
          9545.97,
          9545.97,
          9545.97,
          9545.97,
          9545.97,
          9545.97,
          9545.97,
          9545.97,
          9545.97,
          9545.97,
          9545.97,
          9545.97,
          9545.97,
          9545.97,
          9545.97,
          9545.97,
          9545.97,
          9545.97,
          9545.97,
          9545.97,
          9545.97,
          9545.97,
          9545.97,
          9545.97,
          9545.97,
          9545.97,
          9545.97,
          9545.97,
          9545.97,
          9545.97,
          9545.97,
          9545.97,
          9545.97,
          9545.97,
          9545.97,
          6682.18,
          6682.18,
          6682.18,
          6682.18,
          6682.18,
          6682.18,
          4677.53,
          4677.53,
          4677.53,
          4677.53,
          4677.53,
          4677.53,
          4677.53,
          4677.53,
          4677.53,
          4677.53,
          4677.53,
          4677.53,
          4677.53,
          4677.53,
          4677.53,
          4677.53,
          1871.01,
          1871.01,
          1871.01,
          6837.22,
          6837.22,
          6837.22,
          6837.22,
          6837.22,
          6837.22,
          6837.22,
          6837.22,
          6837.22,
          6837.22
         ],
         "yaxis": "y3"
        },
        {
         "mode": "lines",
         "name": "bitstamp:/BTC:/free",
         "type": "scatter",
         "uid": "b9fb4513-0222-404a-adfd-0daee901fb10",
         "xaxis": "x3",
         "y": [
          10,
          10,
          10,
          10,
          10,
          10,
          10,
          10,
          10,
          10,
          10,
          10,
          10,
          10,
          10,
          10,
          10,
          10,
          10,
          10,
          10,
          10,
          10,
          10,
          10,
          10,
          10,
          10,
          10,
          10,
          10,
          10,
          10,
          10,
          10,
          10,
          10,
          10,
          10,
          10,
          10,
          10,
          10,
          10,
          10,
          10,
          10,
          10,
          10,
          10,
          10,
          10,
          10,
          10,
          10,
          10,
          10,
          10,
          10,
          10,
          10,
          10,
          10,
          10,
          10,
          10,
          10,
          10,
          10,
          10,
          10,
          10,
          10,
          10,
          10,
          10,
          10,
          10,
          10,
          10,
          10,
          10,
          10,
          10,
          10,
          10,
          10,
          10,
          10,
          10,
          10,
          10,
          10,
          10,
          10,
          10,
          10,
          10,
          10,
          10,
          10,
          10,
          10,
          10,
          10,
          10,
          10,
          10,
          10,
          10,
          10,
          10,
          10,
          10,
          10,
          10,
          10,
          10,
          10,
          10,
          10,
          10,
          10,
          10,
          10,
          10,
          10,
          10,
          10,
          10,
          10,
          10,
          10,
          10,
          10,
          10,
          10,
          10,
          10,
          10,
          10
         ],
         "yaxis": "y3"
        },
        {
         "mode": "lines",
         "name": "bitstamp:/BTC:/locked",
         "type": "scatter",
         "uid": "b528086b-2a60-427d-8bfd-a138812a9361",
         "xaxis": "x3",
         "y": [
          0,
          0,
          0,
          0.91378921,
          0.91378921,
          0.91378921,
          0.91378921,
          0.91378921,
          0.91378921,
          0.91378921,
          0.91378921,
          0.91378921,
          0.91378921,
          0.91378921,
          0.91378921,
          0.91378921,
          0.91378921,
          0.91378921,
          0.91378921,
          0.91378921,
          0,
          0,
          0,
          0,
          0,
          0.92798709,
          0.92798709,
          0.92798709,
          0.92798709,
          0,
          0,
          0,
          0,
          0,
          0,
          0,
          0,
          0,
          0,
          0,
          0,
          0,
          0,
          0,
          0,
          0.46044151,
          0.46044151,
          0.46044151,
          0.46044151,
          0.46044151,
          0.46044151,
          0.46044151,
          0.46044151,
          0.46044151,
          0.46044151,
          0.46044151,
          0.46044151,
          0.46044151,
          0.46044151,
          0.46044151,
          0.46044151,
          0,
          0,
          0,
          0,
          0,
          0,
          0,
          0,
          0,
          0,
          0,
          0,
          0,
          0,
          0,
          0,
          0,
          0,
          0,
          0,
          0,
          0,
          0,
          0,
          0,
          0,
          0,
          0,
          0,
          0,
          0,
          0,
          0,
          0,
          0,
          0,
          0,
          0,
          0,
          0,
          0,
          0,
          0,
          0,
          0,
          0.34358604,
          0.34358604,
          0.34358604,
          0.34358604,
          0.34358604,
          0.34358604,
          0.58732292,
          0.58732292,
          0.58732292,
          0.58732292,
          0.58732292,
          0.58732292,
          0.58732292,
          0.58732292,
          0.58732292,
          0.58732292,
          0.58732292,
          0.58732292,
          0.58732292,
          0.58732292,
          0.58732292,
          0.58732292,
          0.92395306,
          0.92395306,
          0.92395306,
          0.33663014,
          0.33663014,
          0.33663014,
          0.33663014,
          0.33663014,
          0.33663014,
          0.33663014,
          0.33663014,
          0.33663014,
          0.33663014
         ],
         "yaxis": "y3"
        },
        {
         "mode": "lines",
         "name": "bitstamp:/BTC:/total",
         "type": "scatter",
         "uid": "2ffc07fd-84ea-4e58-918c-419a185df287",
         "xaxis": "x3",
         "y": [
          10,
          10,
          10,
          10.91378921,
          10.91378921,
          10.91378921,
          10.91378921,
          10.91378921,
          10.91378921,
          10.91378921,
          10.91378921,
          10.91378921,
          10.91378921,
          10.91378921,
          10.91378921,
          10.91378921,
          10.91378921,
          10.91378921,
          10.91378921,
          10.91378921,
          10,
          10,
          10,
          10,
          10,
          10.92798709,
          10.92798709,
          10.92798709,
          10.92798709,
          10,
          10,
          10,
          10,
          10,
          10,
          10,
          10,
          10,
          10,
          10,
          10,
          10,
          10,
          10,
          10,
          10.46044151,
          10.46044151,
          10.46044151,
          10.46044151,
          10.46044151,
          10.46044151,
          10.46044151,
          10.46044151,
          10.46044151,
          10.46044151,
          10.46044151,
          10.46044151,
          10.46044151,
          10.46044151,
          10.46044151,
          10.46044151,
          10,
          10,
          10,
          10,
          10,
          10,
          10,
          10,
          10,
          10,
          10,
          10,
          10,
          10,
          10,
          10,
          10,
          10,
          10,
          10,
          10,
          10,
          10,
          10,
          10,
          10,
          10,
          10,
          10,
          10,
          10,
          10,
          10,
          10,
          10,
          10,
          10,
          10,
          10,
          10,
          10,
          10,
          10,
          10,
          10,
          10.34358604,
          10.34358604,
          10.34358604,
          10.34358604,
          10.34358604,
          10.34358604,
          10.58732292,
          10.58732292,
          10.58732292,
          10.58732292,
          10.58732292,
          10.58732292,
          10.58732292,
          10.58732292,
          10.58732292,
          10.58732292,
          10.58732292,
          10.58732292,
          10.58732292,
          10.58732292,
          10.58732292,
          10.58732292,
          10.92395306,
          10.92395306,
          10.92395306,
          10.33663014,
          10.33663014,
          10.33663014,
          10.33663014,
          10.33663014,
          10.33663014,
          10.33663014,
          10.33663014,
          10.33663014,
          10.33663014
         ],
         "yaxis": "y3"
        },
        {
         "mode": "lines",
         "name": "bitstamp:/BTC:/worth",
         "type": "scatter",
         "uid": "66a51bd5-08f5-4308-b164-b740b790d342",
         "xaxis": "x3",
         "y": [
          87409.9,
          87390,
          87284.9,
          95040.76885322719,
          95996.59851223898,
          95604.79347959999,
          95604.79347959999,
          95596.38986190829,
          92961.1463192617,
          92988.75820596298,
          93151.70107886828,
          93272.9532769914,
          93058.06076744648,
          93374.014965076,
          92899.265134441,
          92682.9538322988,
          92330.65671659999,
          92494.25441685789,
          92286.12845662319,
          90871.2648234388,
          81334.3,
          81647.9,
          82293.79999999999,
          82204,
          82388,
          89970.0084320991,
          89691.23548143319,
          90084.3151770605,
          91479.6005687117,
          83730,
          83650.8,
          81799.9,
          82250,
          82858,
          82734,
          82974,
          82798.9,
          82527.2,
          83021.8,
          82958.5,
          82772.5,
          83465.9,
          83583,
          83751,
          83686.20000000001,
          87519.5851905472,
          86976.16525410271,
          87487.99465718701,
          87283.59763008161,
          86271.445309574,
          86585.258554874,
          86734.5290552217,
          86904.1974165139,
          86810.158047339,
          86502.3072536997,
          86831.9157656798,
          87015.07809651991,
          86888.5067542489,
          86575.11192660932,
          86379.0832527119,
          85419.96537066001,
          81763.3,
          82007,
          81554.1,
          80800,
          80670.3,
          79580.8,
          79742.5,
          79985,
          79919.9,
          80227,
          80429.7,
          79656.7,
          80889.5,
          81221.9,
          81079.9,
          81377.29999999999,
          81150,
          81070,
          80944,
          80800.1,
          81170.9,
          81269.9,
          81109.5,
          82153.9,
          82314.2,
          82401.29999999999,
          82350,
          82199,
          82488.70000000001,
          82135,
          82009.9,
          82000,
          82373,
          82281.29999999999,
          82408.3,
          82149,
          81700.7,
          82298.70000000001,
          82058.70000000001,
          82525.59999999999,
          83650,
          83486.5,
          83039.9,
          83104.79999999999,
          83100,
          85746.9836054148,
          85903.3786263396,
          85865.727973154,
          85987.47198084481,
          85231.87302062279,
          84817.3020921396,
          87101.6939163816,
          87146.37241910401,
          86804.2960155588,
          86983.85701228201,
          87662.9279043708,
          87399.1976904336,
          87561.395477568,
          87284.4311099808,
          87230.22401663041,
          87526.8808048488,
          87687.0670006284,
          88410.71052221041,
          88262.276254872,
          88265.5583249772,
          87993.4641259332,
          88002.7809701028,
          91162.4638367814,
          91512.13957423202,
          92647.24753669661,
          88030.46345909042,
          88109.43531336001,
          88037.49236758561,
          88466.04905319,
          88088.6586867786,
          87705.5831737902,
          88052.3771149872,
          87747.5498921586,
          87517.3531389408,
          87784.34829545699
         ],
         "yaxis": "y3"
        },
        {
         "mode": "lines",
         "name": "net_worth",
         "type": "scatter",
         "uid": "81910362-5a88-461a-9686-2e0579338611",
         "xaxis": "x3",
         "y": [
          97409.9,
          97390,
          97284.9,
          97040.76885322719,
          97996.59851223898,
          97604.79347959999,
          97604.79347959999,
          97596.38986190829,
          94961.1463192617,
          94988.75820596298,
          95151.70107886828,
          95272.9532769914,
          95058.06076744648,
          95374.014965076,
          94899.265134441,
          94682.9538322988,
          94330.65671659999,
          94494.25441685789,
          94286.12845662319,
          92871.2648234388,
          90919.94,
          91233.54,
          91879.43999999999,
          91789.64,
          91973.64,
          91887.1384320991,
          91608.3654814332,
          92001.44517706051,
          93396.7305687117,
          93392.13,
          93312.93000000001,
          91462.03,
          91912.13,
          92520.13,
          92396.13,
          92636.13,
          92461.03,
          92189.33,
          92683.93000000001,
          92620.63,
          92434.63,
          93128.03,
          93245.13,
          93413.13,
          93348.33000000002,
          93316.86519054719,
          92773.44525410271,
          93285.27465718701,
          93080.87763008161,
          92068.725309574,
          92382.538554874,
          92531.8090552217,
          92701.4774165139,
          92607.438047339,
          92299.5872536997,
          92629.1957656798,
          92812.3580965199,
          92685.7867542489,
          92372.39192660931,
          92176.3632527119,
          91217.24537066,
          91309.27,
          91552.97,
          91100.07,
          90345.97,
          90216.27,
          89126.77,
          89288.47,
          89530.97,
          89465.87,
          89772.97,
          89975.67,
          89202.67,
          90435.47,
          90767.87,
          90625.87,
          90923.26999999999,
          90695.97,
          90615.97,
          90489.97,
          90346.07,
          90716.87,
          90815.87,
          90655.47,
          91699.87,
          91860.17,
          91947.26999999999,
          91895.97,
          91744.97,
          92034.67000000001,
          91680.97,
          91555.87,
          91545.97,
          91918.97,
          91827.26999999999,
          91954.27,
          91694.97,
          91246.67,
          91844.67000000001,
          91604.67000000001,
          92071.56999999999,
          93195.97,
          93032.47,
          92585.87,
          92650.76999999999,
          92645.97,
          92429.1636054148,
          92585.5586263396,
          92547.90797315401,
          92669.65198084482,
          91914.05302062278,
          91499.4820921396,
          91779.2239163816,
          91823.90241910401,
          91481.82601555879,
          91661.38701228201,
          92340.45790437079,
          92076.7276904336,
          92238.925477568,
          91961.9611099808,
          91907.75401663041,
          92204.4108048488,
          92364.5970006284,
          93088.24052221041,
          92939.806254872,
          92943.0883249772,
          92670.9941259332,
          92680.3109701028,
          93033.4738367814,
          93383.14957423201,
          94518.2575366966,
          94867.68345909042,
          94946.65531336001,
          94874.71236758561,
          95303.26905319,
          94925.8786867786,
          94542.8031737902,
          94889.5971149872,
          94584.7698921586,
          94354.5731389408,
          94621.568295457
         ],
         "yaxis": "y3"
        },
        {
         "marker": {
          "color": "DarkGreen"
         },
         "mode": "lines",
         "name": "Net Worth",
         "type": "scatter",
         "uid": "2a16b7a4-6c62-48f6-86ee-f813f28782f1",
         "xaxis": "x4",
         "y": [
          97409.9,
          97390,
          97284.9,
          97040.76885322719,
          97996.59851223898,
          97604.79347959999,
          97604.79347959999,
          97596.38986190829,
          94961.1463192617,
          94988.75820596298,
          95151.70107886828,
          95272.9532769914,
          95058.06076744648,
          95374.014965076,
          94899.265134441,
          94682.9538322988,
          94330.65671659999,
          94494.25441685789,
          94286.12845662319,
          92871.2648234388,
          90919.94,
          91233.54,
          91879.43999999999,
          91789.64,
          91973.64,
          91887.1384320991,
          91608.3654814332,
          92001.44517706051,
          93396.7305687117,
          93392.13,
          93312.93000000001,
          91462.03,
          91912.13,
          92520.13,
          92396.13,
          92636.13,
          92461.03,
          92189.33,
          92683.93000000001,
          92620.63,
          92434.63,
          93128.03,
          93245.13,
          93413.13,
          93348.33000000002,
          93316.86519054719,
          92773.44525410271,
          93285.27465718701,
          93080.87763008161,
          92068.725309574,
          92382.538554874,
          92531.8090552217,
          92701.4774165139,
          92607.438047339,
          92299.5872536997,
          92629.1957656798,
          92812.3580965199,
          92685.7867542489,
          92372.39192660931,
          92176.3632527119,
          91217.24537066,
          91309.27,
          91552.97,
          91100.07,
          90345.97,
          90216.27,
          89126.77,
          89288.47,
          89530.97,
          89465.87,
          89772.97,
          89975.67,
          89202.67,
          90435.47,
          90767.87,
          90625.87,
          90923.26999999999,
          90695.97,
          90615.97,
          90489.97,
          90346.07,
          90716.87,
          90815.87,
          90655.47,
          91699.87,
          91860.17,
          91947.26999999999,
          91895.97,
          91744.97,
          92034.67000000001,
          91680.97,
          91555.87,
          91545.97,
          91918.97,
          91827.26999999999,
          91954.27,
          91694.97,
          91246.67,
          91844.67000000001,
          91604.67000000001,
          92071.56999999999,
          93195.97,
          93032.47,
          92585.87,
          92650.76999999999,
          92645.97,
          92429.1636054148,
          92585.5586263396,
          92547.90797315401,
          92669.65198084482,
          91914.05302062278,
          91499.4820921396,
          91779.2239163816,
          91823.90241910401,
          91481.82601555879,
          91661.38701228201,
          92340.45790437079,
          92076.7276904336,
          92238.925477568,
          91961.9611099808,
          91907.75401663041,
          92204.4108048488,
          92364.5970006284,
          93088.24052221041,
          92939.806254872,
          92943.0883249772,
          92670.9941259332,
          92680.3109701028,
          93033.4738367814,
          93383.14957423201,
          94518.2575366966,
          94867.68345909042,
          94946.65531336001,
          94874.71236758561,
          95303.26905319,
          94925.8786867786,
          94542.8031737902,
          94889.5971149872,
          94584.7698921586,
          94354.5731389408,
          94621.568295457
         ],
         "yaxis": "y4"
        }
       ],
       "layout": {
        "annotations": [
         {
          "arrowcolor": "FireBrick",
          "arrowhead": 2,
          "arrowsize": 0.8,
          "arrowwidth": 4,
          "ax": 0,
          "ay": -15,
          "hoverlabel": {
           "bgcolor": "FireBrick"
          },
          "hovertext": "Step 20 [2018-05-16 01:00:00]<br>SELL 0.91104784 BTC @ 8326.28 USD MARKET<br>Total: 7585.64 USD - Comm.: 0.00274137 BTC",
          "opacity": 0.6,
          "showarrow": true,
          "x": 19,
          "xref": "x",
          "y": 8326.28,
          "yref": "y"
         },
         {
          "arrowcolor": "DarkGreen",
          "arrowhead": 2,
          "arrowsize": 0.8,
          "arrowwidth": 4,
          "ax": 0,
          "ay": 15,
          "hoverlabel": {
           "bgcolor": "DarkGreen"
          },
          "hovertext": "Step 3 [2018-05-15 08:00:00]<br>BUY 0.91378921 BTC @ 8728.49 USD MARKET<br>Total: 7976.0 USD - Comm.: 24.00 USD",
          "opacity": 0.6,
          "showarrow": true,
          "x": 2,
          "xref": "x",
          "y": 8728.49,
          "yref": "y"
         },
         {
          "arrowcolor": "FireBrick",
          "arrowhead": 2,
          "arrowsize": 0.8,
          "arrowwidth": 4,
          "ax": 0,
          "ay": -15,
          "hoverlabel": {
           "bgcolor": "FireBrick"
          },
          "hovertext": "Step 29 [2018-05-16 10:00:00]<br>SELL 0.92520313 BTC @ 8371.13 USD MARKET<br>Total: 7745.0 USD - Comm.: 0.00278396 BTC",
          "opacity": 0.6,
          "showarrow": true,
          "x": 28,
          "xref": "x",
          "y": 8371.13,
          "yref": "y"
         },
         {
          "arrowcolor": "DarkGreen",
          "arrowhead": 2,
          "arrowsize": 0.8,
          "arrowwidth": 4,
          "ax": 0,
          "ay": 15,
          "hoverlabel": {
           "bgcolor": "DarkGreen"
          },
          "hovertext": "Step 25 [2018-05-16 06:00:00]<br>BUY 0.92798709 BTC @ 8238.8 USD MARKET<br>Total: 7645.5 USD - Comm.: 23.01 USD",
          "opacity": 0.6,
          "showarrow": true,
          "x": 24,
          "xref": "x",
          "y": 8238.8,
          "yref": "y"
         },
         {
          "arrowcolor": "DarkGreen",
          "arrowhead": 2,
          "arrowsize": 0.8,
          "arrowwidth": 4,
          "ax": 0,
          "ay": 15,
          "hoverlabel": {
           "bgcolor": "DarkGreen"
          },
          "hovertext": "Step 45 [2018-05-17 02:00:00]<br>BUY 0.46044151 BTC @ 8368.62 USD MARKET<br>Total: 3853.26 USD - Comm.: 11.59 USD",
          "opacity": 0.6,
          "showarrow": true,
          "x": 44,
          "xref": "x",
          "y": 8368.62,
          "yref": "y"
         },
         {
          "arrowcolor": "FireBrick",
          "arrowhead": 2,
          "arrowsize": 0.8,
          "arrowwidth": 4,
          "ax": 0,
          "ay": -15,
          "hoverlabel": {
           "bgcolor": "FireBrick"
          },
          "hovertext": "Step 61 [2018-05-17 18:00:00]<br>SELL 0.45906019 BTC @ 8166.0 USD MARKET<br>Total: 3748.69 USD - Comm.: 0.00138132 BTC",
          "opacity": 0.6,
          "showarrow": true,
          "x": 60,
          "xref": "x",
          "y": 8166,
          "yref": "y"
         },
         {
          "arrowcolor": "DarkGreen",
          "arrowhead": 2,
          "arrowsize": 0.8,
          "arrowwidth": 4,
          "ax": 0,
          "ay": 15,
          "hoverlabel": {
           "bgcolor": "DarkGreen"
          },
          "hovertext": "Step 112 [2018-05-19 21:00:00]<br>BUY 0.24373688 BTC @ 8199.99 USD MARKET<br>Total: 1998.64 USD - Comm.: 6.01 USD",
          "opacity": 0.6,
          "showarrow": true,
          "x": 111,
          "xref": "x",
          "y": 8199.99,
          "yref": "y"
         },
         {
          "arrowcolor": "DarkGreen",
          "arrowhead": 2,
          "arrowsize": 0.8,
          "arrowwidth": 4,
          "ax": 0,
          "ay": 15,
          "hoverlabel": {
           "bgcolor": "DarkGreen"
          },
          "hovertext": "Step 106 [2018-05-19 15:00:00]<br>BUY 0.34358604 BTC @ 8310.0 USD MARKET<br>Total: 2855.2 USD - Comm.: 8.59 USD",
          "opacity": 0.6,
          "showarrow": true,
          "x": 105,
          "xref": "x",
          "y": 8310,
          "yref": "y"
         },
         {
          "arrowcolor": "FireBrick",
          "arrowhead": 2,
          "arrowsize": 0.8,
          "arrowwidth": 4,
          "ax": 0,
          "ay": -15,
          "hoverlabel": {
           "bgcolor": "FireBrick"
          },
          "hovertext": "Step 131 [2018-05-20 16:00:00]<br>SELL 0.24300567 BTC @ 8481.11 USD MARKET<br>Total: 2060.96 USD - Comm.: 0.00073121 BTC",
          "opacity": 0.6,
          "showarrow": true,
          "x": 130,
          "xref": "x",
          "y": 8481.11,
          "yref": "y"
         },
         {
          "arrowcolor": "FireBrick",
          "arrowhead": 2,
          "arrowsize": 0.8,
          "arrowwidth": 4,
          "ax": 0,
          "ay": -15,
          "hoverlabel": {
           "bgcolor": "FireBrick"
          },
          "hovertext": "Step 131 [2018-05-20 16:00:00]<br>SELL 0.34255528 BTC @ 8481.11 USD MARKET<br>Total: 2905.25 USD - Comm.: 0.00103076 BTC",
          "opacity": 0.6,
          "showarrow": true,
          "x": 130,
          "xref": "x",
          "y": 8481.11,
          "yref": "y"
         },
         {
          "arrowcolor": "DarkGreen",
          "arrowhead": 2,
          "arrowsize": 0.8,
          "arrowwidth": 4,
          "ax": 0,
          "ay": 15,
          "hoverlabel": {
           "bgcolor": "DarkGreen"
          },
          "hovertext": "Step 128 [2018-05-20 13:00:00]<br>BUY 0.33663014 BTC @ 8312.09 USD MARKET<br>Total: 2798.1 USD - Comm.: 8.42 USD",
          "opacity": 0.6,
          "showarrow": true,
          "x": 127,
          "xref": "x",
          "y": 8312.09,
          "yref": "y"
         }
        ],
        "margin": {
         "t": 50
        },
        "template": {
         "data": {
          "bar": [
           {
            "error_x": {
             "color": "#2a3f5f"
            },
            "error_y": {
             "color": "#2a3f5f"
            },
            "marker": {
             "line": {
              "color": "white",
              "width": 0.5
             },
             "pattern": {
              "fillmode": "overlay",
              "size": 10,
              "solidity": 0.2
             }
            },
            "type": "bar"
           }
          ],
          "barpolar": [
           {
            "marker": {
             "line": {
              "color": "white",
              "width": 0.5
             },
             "pattern": {
              "fillmode": "overlay",
              "size": 10,
              "solidity": 0.2
             }
            },
            "type": "barpolar"
           }
          ],
          "carpet": [
           {
            "aaxis": {
             "endlinecolor": "#2a3f5f",
             "gridcolor": "#C8D4E3",
             "linecolor": "#C8D4E3",
             "minorgridcolor": "#C8D4E3",
             "startlinecolor": "#2a3f5f"
            },
            "baxis": {
             "endlinecolor": "#2a3f5f",
             "gridcolor": "#C8D4E3",
             "linecolor": "#C8D4E3",
             "minorgridcolor": "#C8D4E3",
             "startlinecolor": "#2a3f5f"
            },
            "type": "carpet"
           }
          ],
          "choropleth": [
           {
            "colorbar": {
             "outlinewidth": 0,
             "ticks": ""
            },
            "type": "choropleth"
           }
          ],
          "contour": [
           {
            "colorbar": {
             "outlinewidth": 0,
             "ticks": ""
            },
            "colorscale": [
             [
              0,
              "#0d0887"
             ],
             [
              0.1111111111111111,
              "#46039f"
             ],
             [
              0.2222222222222222,
              "#7201a8"
             ],
             [
              0.3333333333333333,
              "#9c179e"
             ],
             [
              0.4444444444444444,
              "#bd3786"
             ],
             [
              0.5555555555555556,
              "#d8576b"
             ],
             [
              0.6666666666666666,
              "#ed7953"
             ],
             [
              0.7777777777777778,
              "#fb9f3a"
             ],
             [
              0.8888888888888888,
              "#fdca26"
             ],
             [
              1,
              "#f0f921"
             ]
            ],
            "type": "contour"
           }
          ],
          "contourcarpet": [
           {
            "colorbar": {
             "outlinewidth": 0,
             "ticks": ""
            },
            "type": "contourcarpet"
           }
          ],
          "heatmap": [
           {
            "colorbar": {
             "outlinewidth": 0,
             "ticks": ""
            },
            "colorscale": [
             [
              0,
              "#0d0887"
             ],
             [
              0.1111111111111111,
              "#46039f"
             ],
             [
              0.2222222222222222,
              "#7201a8"
             ],
             [
              0.3333333333333333,
              "#9c179e"
             ],
             [
              0.4444444444444444,
              "#bd3786"
             ],
             [
              0.5555555555555556,
              "#d8576b"
             ],
             [
              0.6666666666666666,
              "#ed7953"
             ],
             [
              0.7777777777777778,
              "#fb9f3a"
             ],
             [
              0.8888888888888888,
              "#fdca26"
             ],
             [
              1,
              "#f0f921"
             ]
            ],
            "type": "heatmap"
           }
          ],
          "heatmapgl": [
           {
            "colorbar": {
             "outlinewidth": 0,
             "ticks": ""
            },
            "colorscale": [
             [
              0,
              "#0d0887"
             ],
             [
              0.1111111111111111,
              "#46039f"
             ],
             [
              0.2222222222222222,
              "#7201a8"
             ],
             [
              0.3333333333333333,
              "#9c179e"
             ],
             [
              0.4444444444444444,
              "#bd3786"
             ],
             [
              0.5555555555555556,
              "#d8576b"
             ],
             [
              0.6666666666666666,
              "#ed7953"
             ],
             [
              0.7777777777777778,
              "#fb9f3a"
             ],
             [
              0.8888888888888888,
              "#fdca26"
             ],
             [
              1,
              "#f0f921"
             ]
            ],
            "type": "heatmapgl"
           }
          ],
          "histogram": [
           {
            "marker": {
             "pattern": {
              "fillmode": "overlay",
              "size": 10,
              "solidity": 0.2
             }
            },
            "type": "histogram"
           }
          ],
          "histogram2d": [
           {
            "colorbar": {
             "outlinewidth": 0,
             "ticks": ""
            },
            "colorscale": [
             [
              0,
              "#0d0887"
             ],
             [
              0.1111111111111111,
              "#46039f"
             ],
             [
              0.2222222222222222,
              "#7201a8"
             ],
             [
              0.3333333333333333,
              "#9c179e"
             ],
             [
              0.4444444444444444,
              "#bd3786"
             ],
             [
              0.5555555555555556,
              "#d8576b"
             ],
             [
              0.6666666666666666,
              "#ed7953"
             ],
             [
              0.7777777777777778,
              "#fb9f3a"
             ],
             [
              0.8888888888888888,
              "#fdca26"
             ],
             [
              1,
              "#f0f921"
             ]
            ],
            "type": "histogram2d"
           }
          ],
          "histogram2dcontour": [
           {
            "colorbar": {
             "outlinewidth": 0,
             "ticks": ""
            },
            "colorscale": [
             [
              0,
              "#0d0887"
             ],
             [
              0.1111111111111111,
              "#46039f"
             ],
             [
              0.2222222222222222,
              "#7201a8"
             ],
             [
              0.3333333333333333,
              "#9c179e"
             ],
             [
              0.4444444444444444,
              "#bd3786"
             ],
             [
              0.5555555555555556,
              "#d8576b"
             ],
             [
              0.6666666666666666,
              "#ed7953"
             ],
             [
              0.7777777777777778,
              "#fb9f3a"
             ],
             [
              0.8888888888888888,
              "#fdca26"
             ],
             [
              1,
              "#f0f921"
             ]
            ],
            "type": "histogram2dcontour"
           }
          ],
          "mesh3d": [
           {
            "colorbar": {
             "outlinewidth": 0,
             "ticks": ""
            },
            "type": "mesh3d"
           }
          ],
          "parcoords": [
           {
            "line": {
             "colorbar": {
              "outlinewidth": 0,
              "ticks": ""
             }
            },
            "type": "parcoords"
           }
          ],
          "pie": [
           {
            "automargin": true,
            "type": "pie"
           }
          ],
          "scatter": [
           {
            "marker": {
             "colorbar": {
              "outlinewidth": 0,
              "ticks": ""
             }
            },
            "type": "scatter"
           }
          ],
          "scatter3d": [
           {
            "line": {
             "colorbar": {
              "outlinewidth": 0,
              "ticks": ""
             }
            },
            "marker": {
             "colorbar": {
              "outlinewidth": 0,
              "ticks": ""
             }
            },
            "type": "scatter3d"
           }
          ],
          "scattercarpet": [
           {
            "marker": {
             "colorbar": {
              "outlinewidth": 0,
              "ticks": ""
             }
            },
            "type": "scattercarpet"
           }
          ],
          "scattergeo": [
           {
            "marker": {
             "colorbar": {
              "outlinewidth": 0,
              "ticks": ""
             }
            },
            "type": "scattergeo"
           }
          ],
          "scattergl": [
           {
            "marker": {
             "colorbar": {
              "outlinewidth": 0,
              "ticks": ""
             }
            },
            "type": "scattergl"
           }
          ],
          "scattermapbox": [
           {
            "marker": {
             "colorbar": {
              "outlinewidth": 0,
              "ticks": ""
             }
            },
            "type": "scattermapbox"
           }
          ],
          "scatterpolar": [
           {
            "marker": {
             "colorbar": {
              "outlinewidth": 0,
              "ticks": ""
             }
            },
            "type": "scatterpolar"
           }
          ],
          "scatterpolargl": [
           {
            "marker": {
             "colorbar": {
              "outlinewidth": 0,
              "ticks": ""
             }
            },
            "type": "scatterpolargl"
           }
          ],
          "scatterternary": [
           {
            "marker": {
             "colorbar": {
              "outlinewidth": 0,
              "ticks": ""
             }
            },
            "type": "scatterternary"
           }
          ],
          "surface": [
           {
            "colorbar": {
             "outlinewidth": 0,
             "ticks": ""
            },
            "colorscale": [
             [
              0,
              "#0d0887"
             ],
             [
              0.1111111111111111,
              "#46039f"
             ],
             [
              0.2222222222222222,
              "#7201a8"
             ],
             [
              0.3333333333333333,
              "#9c179e"
             ],
             [
              0.4444444444444444,
              "#bd3786"
             ],
             [
              0.5555555555555556,
              "#d8576b"
             ],
             [
              0.6666666666666666,
              "#ed7953"
             ],
             [
              0.7777777777777778,
              "#fb9f3a"
             ],
             [
              0.8888888888888888,
              "#fdca26"
             ],
             [
              1,
              "#f0f921"
             ]
            ],
            "type": "surface"
           }
          ],
          "table": [
           {
            "cells": {
             "fill": {
              "color": "#EBF0F8"
             },
             "line": {
              "color": "white"
             }
            },
            "header": {
             "fill": {
              "color": "#C8D4E3"
             },
             "line": {
              "color": "white"
             }
            },
            "type": "table"
           }
          ]
         },
         "layout": {
          "annotationdefaults": {
           "arrowcolor": "#2a3f5f",
           "arrowhead": 0,
           "arrowwidth": 1
          },
          "autotypenumbers": "strict",
          "coloraxis": {
           "colorbar": {
            "outlinewidth": 0,
            "ticks": ""
           }
          },
          "colorscale": {
           "diverging": [
            [
             0,
             "#8e0152"
            ],
            [
             0.1,
             "#c51b7d"
            ],
            [
             0.2,
             "#de77ae"
            ],
            [
             0.3,
             "#f1b6da"
            ],
            [
             0.4,
             "#fde0ef"
            ],
            [
             0.5,
             "#f7f7f7"
            ],
            [
             0.6,
             "#e6f5d0"
            ],
            [
             0.7,
             "#b8e186"
            ],
            [
             0.8,
             "#7fbc41"
            ],
            [
             0.9,
             "#4d9221"
            ],
            [
             1,
             "#276419"
            ]
           ],
           "sequential": [
            [
             0,
             "#0d0887"
            ],
            [
             0.1111111111111111,
             "#46039f"
            ],
            [
             0.2222222222222222,
             "#7201a8"
            ],
            [
             0.3333333333333333,
             "#9c179e"
            ],
            [
             0.4444444444444444,
             "#bd3786"
            ],
            [
             0.5555555555555556,
             "#d8576b"
            ],
            [
             0.6666666666666666,
             "#ed7953"
            ],
            [
             0.7777777777777778,
             "#fb9f3a"
            ],
            [
             0.8888888888888888,
             "#fdca26"
            ],
            [
             1,
             "#f0f921"
            ]
           ],
           "sequentialminus": [
            [
             0,
             "#0d0887"
            ],
            [
             0.1111111111111111,
             "#46039f"
            ],
            [
             0.2222222222222222,
             "#7201a8"
            ],
            [
             0.3333333333333333,
             "#9c179e"
            ],
            [
             0.4444444444444444,
             "#bd3786"
            ],
            [
             0.5555555555555556,
             "#d8576b"
            ],
            [
             0.6666666666666666,
             "#ed7953"
            ],
            [
             0.7777777777777778,
             "#fb9f3a"
            ],
            [
             0.8888888888888888,
             "#fdca26"
            ],
            [
             1,
             "#f0f921"
            ]
           ]
          },
          "colorway": [
           "#636efa",
           "#EF553B",
           "#00cc96",
           "#ab63fa",
           "#FFA15A",
           "#19d3f3",
           "#FF6692",
           "#B6E880",
           "#FF97FF",
           "#FECB52"
          ],
          "font": {
           "color": "#2a3f5f"
          },
          "geo": {
           "bgcolor": "white",
           "lakecolor": "white",
           "landcolor": "white",
           "showlakes": true,
           "showland": true,
           "subunitcolor": "#C8D4E3"
          },
          "hoverlabel": {
           "align": "left"
          },
          "hovermode": "closest",
          "mapbox": {
           "style": "light"
          },
          "paper_bgcolor": "white",
          "plot_bgcolor": "white",
          "polar": {
           "angularaxis": {
            "gridcolor": "#EBF0F8",
            "linecolor": "#EBF0F8",
            "ticks": ""
           },
           "bgcolor": "white",
           "radialaxis": {
            "gridcolor": "#EBF0F8",
            "linecolor": "#EBF0F8",
            "ticks": ""
           }
          },
          "scene": {
           "xaxis": {
            "backgroundcolor": "white",
            "gridcolor": "#DFE8F3",
            "gridwidth": 2,
            "linecolor": "#EBF0F8",
            "showbackground": true,
            "ticks": "",
            "zerolinecolor": "#EBF0F8"
           },
           "yaxis": {
            "backgroundcolor": "white",
            "gridcolor": "#DFE8F3",
            "gridwidth": 2,
            "linecolor": "#EBF0F8",
            "showbackground": true,
            "ticks": "",
            "zerolinecolor": "#EBF0F8"
           },
           "zaxis": {
            "backgroundcolor": "white",
            "gridcolor": "#DFE8F3",
            "gridwidth": 2,
            "linecolor": "#EBF0F8",
            "showbackground": true,
            "ticks": "",
            "zerolinecolor": "#EBF0F8"
           }
          },
          "shapedefaults": {
           "line": {
            "color": "#2a3f5f"
           }
          },
          "ternary": {
           "aaxis": {
            "gridcolor": "#DFE8F3",
            "linecolor": "#A2B1C6",
            "ticks": ""
           },
           "baxis": {
            "gridcolor": "#DFE8F3",
            "linecolor": "#A2B1C6",
            "ticks": ""
           },
           "bgcolor": "white",
           "caxis": {
            "gridcolor": "#DFE8F3",
            "linecolor": "#A2B1C6",
            "ticks": ""
           }
          },
          "title": {
           "x": 0.05
          },
          "xaxis": {
           "automargin": true,
           "gridcolor": "#EBF0F8",
           "linecolor": "#EBF0F8",
           "ticks": "",
           "title": {
            "standoff": 15
           },
           "zerolinecolor": "#EBF0F8",
           "zerolinewidth": 2
          },
          "yaxis": {
           "automargin": true,
           "gridcolor": "#EBF0F8",
           "linecolor": "#EBF0F8",
           "ticks": "",
           "title": {
            "standoff": 15
           },
           "zerolinecolor": "#EBF0F8",
           "zerolinewidth": 2
          }
         }
        },
        "title": {
         "text": "[2022-04-10 00:08:56] Episode: 2/2 Step: 141/200"
        },
        "xaxis": {
         "anchor": "y",
         "domain": [
          0,
          1
         ],
         "gridcolor": "Gainsboro",
         "linecolor": "Grey",
         "matches": "x4",
         "rangeslider": {
          "visible": false
         },
         "showticklabels": false,
         "title": {
          "font": {
           "size": 12
          },
          "standoff": 7,
          "text": "Price"
         }
        },
        "xaxis2": {
         "anchor": "y2",
         "domain": [
          0,
          1
         ],
         "gridcolor": "Gainsboro",
         "linecolor": "Grey",
         "matches": "x4",
         "showticklabels": false,
         "title": {
          "font": {
           "size": 12
          },
          "standoff": 7,
          "text": "Volume"
         }
        },
        "xaxis3": {
         "anchor": "y3",
         "domain": [
          0,
          1
         ],
         "gridcolor": "Gainsboro",
         "linecolor": "Grey",
         "matches": "x4",
         "showticklabels": false,
         "title": {
          "font": {
           "size": 12
          },
          "standoff": 7,
          "text": "Performance"
         }
        },
        "xaxis4": {
         "anchor": "y4",
         "domain": [
          0,
          1
         ],
         "gridcolor": "Gainsboro",
         "linecolor": "Grey",
         "title": {
          "font": {
           "size": 12
          },
          "standoff": 7,
          "text": "Net Worth"
         }
        },
        "yaxis": {
         "anchor": "x",
         "domain": [
          0.49950000000000006,
          1
         ],
         "gridcolor": "Gainsboro",
         "linecolor": "Grey"
        },
        "yaxis2": {
         "anchor": "x2",
         "domain": [
          0.333,
          0.46950000000000003
         ],
         "gridcolor": "Gainsboro",
         "linecolor": "Grey"
        },
        "yaxis3": {
         "anchor": "x3",
         "domain": [
          0.1665,
          0.30300000000000005
         ],
         "gridcolor": "Gainsboro",
         "linecolor": "Grey"
        },
        "yaxis4": {
         "anchor": "x4",
         "domain": [
          0,
          0.1365
         ],
         "gridcolor": "Gainsboro",
         "linecolor": "Grey"
        }
       }
      }
     },
     "metadata": {},
     "output_type": "display_data"
    },
    {
     "data": {
      "application/vnd.jupyter.widget-view+json": {
       "model_id": "a46f5e755d6048fca6f2305516d12de0",
       "version_major": 2,
       "version_minor": 0
      },
      "text/plain": [
       "FigureWidget({\n",
       "    'data': [{'close': array([8740.99, 8739.  , 8728.49, 8708.32, 8795.9 , 8760.  , 8760.  , 87…"
      ]
     },
     "metadata": {},
     "output_type": "display_data"
    },
    {
     "data": {
      "application/vnd.plotly.v1+json": {
       "config": {
        "plotlyServerURL": "https://plot.ly"
       },
       "data": [
        {
         "close": [
          8740.99,
          8739,
          8728.49,
          8708.32,
          8795.9,
          8760,
          8760,
          8759.23,
          8517.77,
          8520.3,
          8535.23,
          8546.34,
          8526.65,
          8555.6,
          8512.1,
          8492.28,
          8460,
          8474.99,
          8455.92,
          8326.28,
          8133.43,
          8164.79,
          8229.38,
          8220.4,
          8238.8,
          8232.99,
          8207.48,
          8243.45,
          8371.13,
          8373,
          8365.08,
          8179.99,
          8225,
          8285.8,
          8273.4,
          8297.4,
          8279.89,
          8252.72,
          8302.18,
          8295.85,
          8277.25,
          8346.59,
          8358.3,
          8375.1,
          8368.62,
          8366.72,
          8314.77,
          8363.7,
          8344.16,
          8247.4,
          8277.4,
          8291.67,
          8307.89,
          8298.9,
          8269.47,
          8300.98,
          8318.49,
          8306.39,
          8276.43,
          8257.69,
          8166,
          8176.33,
          8200.7,
          8155.41,
          8080,
          8067.03,
          7958.08,
          7974.25,
          7998.5,
          7991.99,
          8022.7,
          8042.97,
          7965.67,
          8088.95,
          8122.19,
          8107.99,
          8137.73,
          8115,
          8107,
          8094.4,
          8080.01,
          8117.09,
          8126.99,
          8110.95,
          8215.39,
          8231.42,
          8240.13,
          8235,
          8219.9,
          8248.87,
          8213.5,
          8200.99,
          8200,
          8237.3,
          8228.13,
          8240.83,
          8214.9,
          8170.07,
          8229.87,
          8205.87,
          8252.56,
          8365,
          8348.65,
          8303.99,
          8310.48,
          8310,
          8289.87,
          8304.99,
          8301.35,
          8313.12,
          8240.07,
          8199.99,
          8226.98,
          8231.2,
          8198.89,
          8215.85,
          8279.99,
          8255.08,
          8270.4,
          8244.24,
          8239.12,
          8267.14,
          8282.27,
          8350.62,
          8336.6,
          8336.91,
          8311.21,
          8312.09,
          8345.19,
          8377.2,
          8481.11,
          8516.36,
          8524,
          8517.04,
          8558.5,
          8521.99,
          8484.93,
          8518.48,
          8488.99,
          8466.72,
          8492.55,
          8494.28,
          8510.95,
          8498.64,
          8551.1,
          8524.22,
          8510.11,
          8475.62,
          8476.58,
          8467.13,
          8499.84,
          8490.42,
          8407.09,
          8409.42,
          8400.96,
          8383.14,
          8350,
          8373.01,
          8412.8,
          8385.57,
          8408.53
         ],
         "high": [
          8796.68,
          8766,
          8750.27,
          8754.4,
          8865,
          8821.19,
          8798.6,
          8771.02,
          8761.7,
          8553.67,
          8589.1,
          8579.48,
          8555.51,
          8583.6,
          8569.92,
          8555.54,
          8557.51,
          8505,
          8505.33,
          8478.29,
          8339.81,
          8217.44,
          8252.72,
          8248.63,
          8267.12,
          8255,
          8261.24,
          8263.93,
          8455.66,
          8439.44,
          8399.1,
          8381.73,
          8229.91,
          8377.29,
          8329.1,
          8350,
          8346.95,
          8377.29,
          8311.35,
          8319.96,
          8398.24,
          8372.58,
          8399.99,
          8386.53,
          8400,
          8500,
          8381,
          8371.3,
          8382.41,
          8351,
          8292.99,
          8325.8,
          8318.99,
          8324.9,
          8335.56,
          8309.4,
          8377.29,
          8330.41,
          8328.23,
          8284.36,
          8274.83,
          8200,
          8232.14,
          8213.97,
          8155.41,
          8108.28,
          8068.92,
          8019.9,
          8026.66,
          8025,
          8104.69,
          8061.39,
          8045.99,
          8170.71,
          8144.16,
          8139.99,
          8152.99,
          8137.73,
          8143.72,
          8129.99,
          8106.76,
          8139,
          8152.04,
          8146.99,
          8232.14,
          8275.1,
          8256.12,
          8274.1,
          8255.8,
          8253.97,
          8261.09,
          8235.76,
          8227,
          8273.36,
          8264.21,
          8250,
          8250.86,
          8235.77,
          8232.12,
          8232.14,
          8252.72,
          8370,
          8395,
          8374.48,
          8331,
          8319.43,
          8323.4,
          8314.55,
          8330.62,
          8314.8,
          8323.99,
          8263.03,
          8247.78,
          8253.75,
          8237.89,
          8235,
          8279.99,
          8290,
          8278.71,
          8275.34,
          8279.31,
          8279.98,
          8294.04,
          8356.4,
          8374.94,
          8354.83,
          8360.45,
          8337.14,
          8351.97,
          8377.29,
          8549,
          8531.9,
          8551.79,
          8529.9,
          8590,
          8576.1,
          8549.89,
          8531.89,
          8550,
          8493.29,
          8522.98,
          8517,
          8537.29,
          8524.51,
          8589.1,
          8589.07,
          8536.92,
          8524.03,
          8497.8,
          8498,
          8513.5,
          8510,
          8494.7,
          8427.29,
          8419.03,
          8415.47,
          8389.99,
          8397.57,
          8455,
          8429.66,
          8412.61
         ],
         "low": [
          8707.28,
          8721.11,
          8660.53,
          8701.35,
          8695.11,
          8740.54,
          8741.52,
          8700,
          8467.42,
          8477.89,
          8500.78,
          8500,
          8400,
          8451.05,
          8461.38,
          8481.24,
          8420.37,
          8450,
          8430.94,
          8275.02,
          8100.01,
          8122.56,
          8157.01,
          8166.25,
          8176.91,
          8213.79,
          8200,
          8207.48,
          8237.1,
          8370,
          8356.4,
          8145.1,
          8173.6,
          8211.8,
          8201,
          8250.9,
          8266.46,
          8252.72,
          8232.14,
          8268.37,
          8277.25,
          8277.25,
          8314.78,
          8314.77,
          8350.07,
          8331.39,
          8314.77,
          8275.45,
          8335.49,
          8191.14,
          8227.7,
          8264.13,
          8249.93,
          8269.52,
          8219.44,
          8262.68,
          8286.65,
          8289.87,
          8232.14,
          8232.14,
          8110.02,
          8154.95,
          8168.6,
          8151,
          7980,
          8005.95,
          7929.53,
          7931.03,
          7950,
          7980.58,
          7991.99,
          7992.75,
          7953.4,
          7965.67,
          8085.94,
          8078.48,
          8092.9,
          8049.22,
          8079.46,
          8062.12,
          8043.96,
          8063.1,
          8088.46,
          8094.43,
          8088.46,
          8191.14,
          8212,
          8224.5,
          8211,
          8211.01,
          8210.03,
          8158.27,
          8177.65,
          8179.41,
          8221.92,
          8217.32,
          8213.52,
          8141.08,
          8146.1,
          8186.03,
          8197.09,
          8231.21,
          8323.82,
          8296,
          8296.31,
          8282.65,
          8280,
          8273.36,
          8290.08,
          8277.93,
          8240.07,
          8191.14,
          8178,
          8193.7,
          8180,
          8170.71,
          8215.53,
          8240.02,
          8237.17,
          8237.17,
          8239.12,
          8227.79,
          8247.57,
          8274.24,
          8326.1,
          8320.61,
          8281.31,
          8269.85,
          8311.16,
          8336.11,
          8369.86,
          8471.51,
          8511,
          8476.66,
          8507.68,
          8509.24,
          8482.53,
          8484.93,
          8450,
          8434.47,
          8461.1,
          8481,
          8480,
          8488.1,
          8471.09,
          8509.2,
          8482.64,
          8469,
          8440.4,
          8440.52,
          8461.8,
          8480,
          8358.17,
          8380.73,
          8370,
          8383.12,
          8320,
          8349.17,
          8357.11,
          8370.58,
          8367.21
         ],
         "name": "Price",
         "open": [
          8733.86,
          8740.99,
          8739,
          8728.49,
          8708.32,
          8795.9,
          8760,
          8760,
          8759.23,
          8517.77,
          8520.3,
          8535.23,
          8546.34,
          8526.65,
          8555.6,
          8512.1,
          8492.28,
          8460,
          8474.99,
          8455.92,
          8326.28,
          8133.43,
          8164.79,
          8229.38,
          8220.4,
          8238.8,
          8232.99,
          8207.48,
          8243.45,
          8371.13,
          8373,
          8365.08,
          8179.99,
          8225,
          8285.8,
          8273.4,
          8297.4,
          8279.89,
          8252.72,
          8302.18,
          8295.85,
          8277.25,
          8346.59,
          8358.3,
          8375.1,
          8368.62,
          8366.72,
          8314.77,
          8363.7,
          8344.16,
          8247.4,
          8277.4,
          8291.67,
          8307.89,
          8298.9,
          8269.47,
          8300.98,
          8318.49,
          8306.39,
          8276.43,
          8257.69,
          8166,
          8176.33,
          8200.7,
          8155.41,
          8080,
          8067.03,
          7958.08,
          7974.25,
          7998.5,
          7991.99,
          8022.7,
          8042.97,
          7965.67,
          8088.95,
          8122.19,
          8107.99,
          8137.73,
          8115,
          8107,
          8094.4,
          8080.01,
          8117.09,
          8126.99,
          8110.95,
          8215.39,
          8231.42,
          8240.13,
          8235,
          8219.9,
          8248.87,
          8213.5,
          8200.99,
          8200,
          8237.3,
          8228.13,
          8240.83,
          8214.9,
          8170.07,
          8229.87,
          8205.87,
          8252.56,
          8365,
          8348.65,
          8303.99,
          8310.48,
          8310,
          8289.87,
          8304.99,
          8301.35,
          8313.12,
          8240.07,
          8199.99,
          8226.98,
          8231.2,
          8198.89,
          8215.85,
          8279.99,
          8255.08,
          8270.4,
          8244.24,
          8239.12,
          8267.14,
          8282.27,
          8350.62,
          8336.6,
          8336.91,
          8311.21,
          8312.09,
          8345.19,
          8377.2,
          8481.11,
          8516.36,
          8524,
          8517.04,
          8558.5,
          8521.99,
          8484.93,
          8518.48,
          8488.99,
          8466.72,
          8492.55,
          8494.28,
          8510.95,
          8498.64,
          8551.1,
          8524.22,
          8510.11,
          8475.62,
          8476.58,
          8467.13,
          8499.84,
          8490.42,
          8407.09,
          8409.42,
          8400.96,
          8383.14,
          8350,
          8373.01,
          8412.8,
          8385.57
         ],
         "showlegend": false,
         "type": "candlestick",
         "uid": "50305746-acbe-483f-b8bd-5ee326eca239",
         "xaxis": "x",
         "yaxis": "y"
        },
        {
         "marker": {
          "color": "DodgerBlue"
         },
         "name": "Volume",
         "showlegend": false,
         "type": "bar",
         "uid": "0b0694af-d058-44fd-a8e6-b25a9a83e2b0",
         "xaxis": "x2",
         "y": [
          559.93,
          273.58,
          917.79,
          182.62,
          1260.69,
          324.11,
          324.2,
          730.67,
          1341.75,
          792.07,
          385.69,
          475.08,
          877.26,
          670.49,
          610.97,
          168.99,
          305.92,
          136.05,
          154.26,
          1070.93,
          1710.2,
          492.8,
          630.72,
          620.93,
          586.34,
          304.52,
          450.97,
          182.36,
          915.32,
          319.29,
          362.01,
          1046.38,
          357.91,
          561.2,
          322.53,
          1073.71,
          237.21,
          251.2,
          359.73,
          117.23,
          363.17,
          214.18,
          171.64,
          258.58,
          299.52,
          718.98,
          119.7,
          405.25,
          210.77,
          714.82,
          215.97,
          164.2,
          201.55,
          203.41,
          886.82,
          95.49,
          499.67,
          172.77,
          355.39,
          255.27,
          591.06,
          133.1,
          149.13,
          87.55,
          1061.54,
          286.94,
          524.42,
          316,
          441.43,
          189.7,
          844.94,
          155.34,
          257.56,
          610.69,
          217.97,
          173.18,
          218.06,
          372.97,
          484.39,
          248.1,
          162.35,
          303.42,
          290.69,
          160.93,
          369.4,
          487.27,
          93.35,
          96.68,
          72.14,
          90.22,
          168.52,
          203.15,
          71.42,
          464.56,
          57,
          89.42,
          49.47,
          200.05,
          254.37,
          65.05,
          118.19,
          452.4,
          181.03,
          288.04,
          145.78,
          110.14,
          55.48,
          80.87,
          67.01,
          59.16,
          121.26,
          244.37,
          156.87,
          80.48,
          139.32,
          93.52,
          200.23,
          97.4,
          68.08,
          47,
          36.65,
          28.75,
          182.85,
          400.18,
          288.1,
          182.94,
          777.81,
          493.59,
          118.63,
          174.37,
          901.75,
          222.45,
          113.8,
          84.2,
          261.44,
          168.78,
          111.07,
          122.12,
          267.32,
          210.39,
          211.36,
          146.22,
          93.39,
          89.04,
          307.59,
          307.2,
          164.24,
          151.21,
          399.77,
          362.01,
          260.85,
          232.32,
          1109.45,
          348.5,
          210.57,
          274.92,
          277.83,
          99.57,
          273.12,
          129.47,
          113.05
         ],
         "yaxis": "y2"
        },
        {
         "mode": "lines",
         "name": "bitstamp:/USD-BTC",
         "type": "scatter",
         "uid": "7633330c-73a6-45ce-bf50-e1d3eb811fe9",
         "xaxis": "x3",
         "y": [
          8740.99,
          8739,
          8728.49,
          8708.32,
          8795.9,
          8760,
          8760,
          8759.23,
          8517.77,
          8520.3,
          8535.23,
          8546.34,
          8526.65,
          8555.6,
          8512.1,
          8492.28,
          8460,
          8474.99,
          8455.92,
          8326.28,
          8133.43,
          8164.79,
          8229.38,
          8220.4,
          8238.8,
          8232.99,
          8207.48,
          8243.45,
          8371.13,
          8373,
          8365.08,
          8179.99,
          8225,
          8285.8,
          8273.4,
          8297.4,
          8279.89,
          8252.72,
          8302.18,
          8295.85,
          8277.25,
          8346.59,
          8358.3,
          8375.1,
          8368.62,
          8366.72,
          8314.77,
          8363.7,
          8344.16,
          8247.4,
          8277.4,
          8291.67,
          8307.89,
          8298.9,
          8269.47,
          8300.98,
          8318.49,
          8306.39,
          8276.43,
          8257.69,
          8166,
          8176.33,
          8200.7,
          8155.41,
          8080,
          8067.03,
          7958.08,
          7974.25,
          7998.5,
          7991.99,
          8022.7,
          8042.97,
          7965.67,
          8088.95,
          8122.19,
          8107.99,
          8137.73,
          8115,
          8107,
          8094.4,
          8080.01,
          8117.09,
          8126.99,
          8110.95,
          8215.39,
          8231.42,
          8240.13,
          8235,
          8219.9,
          8248.87,
          8213.5,
          8200.99,
          8200,
          8237.3,
          8228.13,
          8240.83,
          8214.9,
          8170.07,
          8229.87,
          8205.87,
          8252.56,
          8365,
          8348.65,
          8303.99,
          8310.48,
          8310,
          8289.87,
          8304.99,
          8301.35,
          8313.12,
          8240.07,
          8199.99,
          8226.98,
          8231.2,
          8198.89,
          8215.85,
          8279.99,
          8255.08,
          8270.4,
          8244.24,
          8239.12,
          8267.14,
          8282.27,
          8350.62,
          8336.6,
          8336.91,
          8311.21,
          8312.09,
          8345.19,
          8377.2,
          8481.11,
          8516.36,
          8524,
          8517.04,
          8558.5,
          8521.99,
          8484.93,
          8518.48,
          8488.99,
          8466.72,
          8492.55,
          8494.28,
          8510.95,
          8498.64,
          8551.1,
          8524.22,
          8510.11,
          8475.62,
          8476.58,
          8467.13,
          8499.84,
          8490.42,
          8407.09,
          8409.42,
          8400.96,
          8383.14,
          8350,
          8373.01,
          8412.8,
          8385.57,
          8408.53
         ],
         "yaxis": "y3"
        },
        {
         "mode": "lines",
         "name": "bitstamp:/USD:/free",
         "type": "scatter",
         "uid": "b7b5fee1-fcd9-4177-863c-64eba3d65df3",
         "xaxis": "x3",
         "y": [
          10000,
          10000,
          10000,
          2000,
          2000,
          2000,
          2000,
          2000,
          2000,
          2000,
          2000,
          2000,
          2000,
          2000,
          2000,
          2000,
          2000,
          2000,
          2000,
          2000,
          9585.64,
          9585.64,
          9585.64,
          9585.64,
          9585.64,
          1917.13,
          1917.13,
          1917.13,
          1917.13,
          9662.13,
          9662.13,
          9662.13,
          9662.13,
          9662.13,
          9662.13,
          9662.13,
          9662.13,
          9662.13,
          9662.13,
          9662.13,
          9662.13,
          9662.13,
          9662.13,
          9662.13,
          9662.13,
          5797.28,
          5797.28,
          5797.28,
          5797.28,
          5797.28,
          5797.28,
          5797.28,
          5797.28,
          5797.28,
          5797.28,
          5797.28,
          5797.28,
          5797.28,
          5797.28,
          5797.28,
          5797.28,
          9545.97,
          9545.97,
          9545.97,
          9545.97,
          9545.97,
          9545.97,
          9545.97,
          9545.97,
          9545.97,
          9545.97,
          9545.97,
          9545.97,
          9545.97,
          9545.97,
          9545.97,
          9545.97,
          9545.97,
          9545.97,
          9545.97,
          9545.97,
          9545.97,
          9545.97,
          9545.97,
          9545.97,
          9545.97,
          9545.97,
          9545.97,
          9545.97,
          9545.97,
          9545.97,
          9545.97,
          9545.97,
          9545.97,
          9545.97,
          9545.97,
          9545.97,
          9545.97,
          9545.97,
          9545.97,
          9545.97,
          9545.97,
          9545.97,
          9545.97,
          9545.97,
          9545.97,
          6682.18,
          6682.18,
          6682.18,
          6682.18,
          6682.18,
          6682.18,
          4677.53,
          4677.53,
          4677.53,
          4677.53,
          4677.53,
          4677.53,
          4677.53,
          4677.53,
          4677.53,
          4677.53,
          4677.53,
          4677.53,
          4677.53,
          4677.53,
          4677.53,
          4677.53,
          1871.01,
          1871.01,
          1871.01,
          6837.22,
          6837.22,
          6837.22,
          6837.22,
          6837.22,
          6837.22,
          6837.22,
          6837.22,
          6837.22,
          6837.22,
          6837.22,
          3418.61,
          3418.61,
          3418.61,
          3418.61,
          3418.61,
          3418.61,
          3418.61,
          3418.61,
          3418.61,
          3418.61,
          3418.61,
          3418.61,
          3418.61,
          3418.61,
          3418.61,
          3418.61,
          3418.61,
          3418.61,
          3418.61
         ],
         "yaxis": "y3"
        },
        {
         "mode": "lines",
         "name": "bitstamp:/USD:/locked",
         "type": "scatter",
         "uid": "99dd8a26-fe84-43a4-af3c-0c42748827c8",
         "xaxis": "x3",
         "y": [
          0,
          0,
          0,
          0,
          0,
          0,
          0,
          0,
          0,
          0,
          0,
          0,
          0,
          0,
          0,
          0,
          0,
          0,
          0,
          0,
          0,
          0,
          0,
          0,
          0,
          0,
          0,
          0,
          0,
          0,
          0,
          0,
          0,
          0,
          0,
          0,
          0,
          0,
          0,
          0,
          0,
          0,
          0,
          0,
          0,
          0,
          0,
          0,
          0,
          0,
          0,
          0,
          0,
          0,
          0,
          0,
          0,
          0,
          0,
          0,
          0,
          0,
          0,
          0,
          0,
          0,
          0,
          0,
          0,
          0,
          0,
          0,
          0,
          0,
          0,
          0,
          0,
          0,
          0,
          0,
          0,
          0,
          0,
          0,
          0,
          0,
          0,
          0,
          0,
          0,
          0,
          0,
          0,
          0,
          0,
          0,
          0,
          0,
          0,
          0,
          0,
          0,
          0,
          0,
          0,
          0,
          0,
          0,
          0,
          0,
          0,
          0,
          0,
          0,
          0,
          0,
          0,
          0,
          0,
          0,
          0,
          0,
          0,
          0,
          0,
          0,
          0,
          0,
          0,
          0,
          0,
          0,
          0,
          0,
          0,
          0,
          0,
          0,
          0,
          0,
          0,
          0,
          0,
          0,
          0,
          0,
          0,
          0,
          0,
          0,
          0,
          0,
          0,
          0,
          0,
          0,
          0,
          0,
          0,
          0,
          0
         ],
         "yaxis": "y3"
        },
        {
         "mode": "lines",
         "name": "bitstamp:/USD:/total",
         "type": "scatter",
         "uid": "bc6113cd-7ed0-47a2-b189-fba82d6153a0",
         "xaxis": "x3",
         "y": [
          10000,
          10000,
          10000,
          2000,
          2000,
          2000,
          2000,
          2000,
          2000,
          2000,
          2000,
          2000,
          2000,
          2000,
          2000,
          2000,
          2000,
          2000,
          2000,
          2000,
          9585.64,
          9585.64,
          9585.64,
          9585.64,
          9585.64,
          1917.13,
          1917.13,
          1917.13,
          1917.13,
          9662.13,
          9662.13,
          9662.13,
          9662.13,
          9662.13,
          9662.13,
          9662.13,
          9662.13,
          9662.13,
          9662.13,
          9662.13,
          9662.13,
          9662.13,
          9662.13,
          9662.13,
          9662.13,
          5797.28,
          5797.28,
          5797.28,
          5797.28,
          5797.28,
          5797.28,
          5797.28,
          5797.28,
          5797.28,
          5797.28,
          5797.28,
          5797.28,
          5797.28,
          5797.28,
          5797.28,
          5797.28,
          9545.97,
          9545.97,
          9545.97,
          9545.97,
          9545.97,
          9545.97,
          9545.97,
          9545.97,
          9545.97,
          9545.97,
          9545.97,
          9545.97,
          9545.97,
          9545.97,
          9545.97,
          9545.97,
          9545.97,
          9545.97,
          9545.97,
          9545.97,
          9545.97,
          9545.97,
          9545.97,
          9545.97,
          9545.97,
          9545.97,
          9545.97,
          9545.97,
          9545.97,
          9545.97,
          9545.97,
          9545.97,
          9545.97,
          9545.97,
          9545.97,
          9545.97,
          9545.97,
          9545.97,
          9545.97,
          9545.97,
          9545.97,
          9545.97,
          9545.97,
          9545.97,
          9545.97,
          6682.18,
          6682.18,
          6682.18,
          6682.18,
          6682.18,
          6682.18,
          4677.53,
          4677.53,
          4677.53,
          4677.53,
          4677.53,
          4677.53,
          4677.53,
          4677.53,
          4677.53,
          4677.53,
          4677.53,
          4677.53,
          4677.53,
          4677.53,
          4677.53,
          4677.53,
          1871.01,
          1871.01,
          1871.01,
          6837.22,
          6837.22,
          6837.22,
          6837.22,
          6837.22,
          6837.22,
          6837.22,
          6837.22,
          6837.22,
          6837.22,
          6837.22,
          3418.61,
          3418.61,
          3418.61,
          3418.61,
          3418.61,
          3418.61,
          3418.61,
          3418.61,
          3418.61,
          3418.61,
          3418.61,
          3418.61,
          3418.61,
          3418.61,
          3418.61,
          3418.61,
          3418.61,
          3418.61,
          3418.61
         ],
         "yaxis": "y3"
        },
        {
         "mode": "lines",
         "name": "bitstamp:/BTC:/free",
         "type": "scatter",
         "uid": "b9fb4513-0222-404a-adfd-0daee901fb10",
         "xaxis": "x3",
         "y": [
          10,
          10,
          10,
          10,
          10,
          10,
          10,
          10,
          10,
          10,
          10,
          10,
          10,
          10,
          10,
          10,
          10,
          10,
          10,
          10,
          10,
          10,
          10,
          10,
          10,
          10,
          10,
          10,
          10,
          10,
          10,
          10,
          10,
          10,
          10,
          10,
          10,
          10,
          10,
          10,
          10,
          10,
          10,
          10,
          10,
          10,
          10,
          10,
          10,
          10,
          10,
          10,
          10,
          10,
          10,
          10,
          10,
          10,
          10,
          10,
          10,
          10,
          10,
          10,
          10,
          10,
          10,
          10,
          10,
          10,
          10,
          10,
          10,
          10,
          10,
          10,
          10,
          10,
          10,
          10,
          10,
          10,
          10,
          10,
          10,
          10,
          10,
          10,
          10,
          10,
          10,
          10,
          10,
          10,
          10,
          10,
          10,
          10,
          10,
          10,
          10,
          10,
          10,
          10,
          10,
          10,
          10,
          10,
          10,
          10,
          10,
          10,
          10,
          10,
          10,
          10,
          10,
          10,
          10,
          10,
          10,
          10,
          10,
          10,
          10,
          10,
          10,
          10,
          10,
          10,
          10,
          10,
          10,
          10,
          10,
          10,
          10,
          10,
          10,
          10,
          10,
          10,
          10,
          10,
          10,
          10,
          10,
          10,
          10,
          10,
          10,
          10,
          10,
          10,
          10,
          10,
          10,
          10,
          10,
          10,
          10
         ],
         "yaxis": "y3"
        },
        {
         "mode": "lines",
         "name": "bitstamp:/BTC:/locked",
         "type": "scatter",
         "uid": "b528086b-2a60-427d-8bfd-a138812a9361",
         "xaxis": "x3",
         "y": [
          0,
          0,
          0,
          0.91378921,
          0.91378921,
          0.91378921,
          0.91378921,
          0.91378921,
          0.91378921,
          0.91378921,
          0.91378921,
          0.91378921,
          0.91378921,
          0.91378921,
          0.91378921,
          0.91378921,
          0.91378921,
          0.91378921,
          0.91378921,
          0.91378921,
          0,
          0,
          0,
          0,
          0,
          0.92798709,
          0.92798709,
          0.92798709,
          0.92798709,
          0,
          0,
          0,
          0,
          0,
          0,
          0,
          0,
          0,
          0,
          0,
          0,
          0,
          0,
          0,
          0,
          0.46044151,
          0.46044151,
          0.46044151,
          0.46044151,
          0.46044151,
          0.46044151,
          0.46044151,
          0.46044151,
          0.46044151,
          0.46044151,
          0.46044151,
          0.46044151,
          0.46044151,
          0.46044151,
          0.46044151,
          0.46044151,
          0,
          0,
          0,
          0,
          0,
          0,
          0,
          0,
          0,
          0,
          0,
          0,
          0,
          0,
          0,
          0,
          0,
          0,
          0,
          0,
          0,
          0,
          0,
          0,
          0,
          0,
          0,
          0,
          0,
          0,
          0,
          0,
          0,
          0,
          0,
          0,
          0,
          0,
          0,
          0,
          0,
          0,
          0,
          0,
          0,
          0.34358604,
          0.34358604,
          0.34358604,
          0.34358604,
          0.34358604,
          0.34358604,
          0.58732292,
          0.58732292,
          0.58732292,
          0.58732292,
          0.58732292,
          0.58732292,
          0.58732292,
          0.58732292,
          0.58732292,
          0.58732292,
          0.58732292,
          0.58732292,
          0.58732292,
          0.58732292,
          0.58732292,
          0.58732292,
          0.92395306,
          0.92395306,
          0.92395306,
          0.33663014,
          0.33663014,
          0.33663014,
          0.33663014,
          0.33663014,
          0.33663014,
          0.33663014,
          0.33663014,
          0.33663014,
          0.33663014,
          0.33663014,
          0.73788251,
          0.73788251,
          0.73788251,
          0.73788251,
          0.73788251,
          0.73788251,
          0.73788251,
          0.73788251,
          0.73788251,
          0.73788251,
          0.73788251,
          0.73788251,
          0.73788251,
          0.73788251,
          0.73788251,
          0.73788251,
          0.73788251,
          0.73788251,
          0.73788251
         ],
         "yaxis": "y3"
        },
        {
         "mode": "lines",
         "name": "bitstamp:/BTC:/total",
         "type": "scatter",
         "uid": "2ffc07fd-84ea-4e58-918c-419a185df287",
         "xaxis": "x3",
         "y": [
          10,
          10,
          10,
          10.91378921,
          10.91378921,
          10.91378921,
          10.91378921,
          10.91378921,
          10.91378921,
          10.91378921,
          10.91378921,
          10.91378921,
          10.91378921,
          10.91378921,
          10.91378921,
          10.91378921,
          10.91378921,
          10.91378921,
          10.91378921,
          10.91378921,
          10,
          10,
          10,
          10,
          10,
          10.92798709,
          10.92798709,
          10.92798709,
          10.92798709,
          10,
          10,
          10,
          10,
          10,
          10,
          10,
          10,
          10,
          10,
          10,
          10,
          10,
          10,
          10,
          10,
          10.46044151,
          10.46044151,
          10.46044151,
          10.46044151,
          10.46044151,
          10.46044151,
          10.46044151,
          10.46044151,
          10.46044151,
          10.46044151,
          10.46044151,
          10.46044151,
          10.46044151,
          10.46044151,
          10.46044151,
          10.46044151,
          10,
          10,
          10,
          10,
          10,
          10,
          10,
          10,
          10,
          10,
          10,
          10,
          10,
          10,
          10,
          10,
          10,
          10,
          10,
          10,
          10,
          10,
          10,
          10,
          10,
          10,
          10,
          10,
          10,
          10,
          10,
          10,
          10,
          10,
          10,
          10,
          10,
          10,
          10,
          10,
          10,
          10,
          10,
          10,
          10,
          10.34358604,
          10.34358604,
          10.34358604,
          10.34358604,
          10.34358604,
          10.34358604,
          10.58732292,
          10.58732292,
          10.58732292,
          10.58732292,
          10.58732292,
          10.58732292,
          10.58732292,
          10.58732292,
          10.58732292,
          10.58732292,
          10.58732292,
          10.58732292,
          10.58732292,
          10.58732292,
          10.58732292,
          10.58732292,
          10.92395306,
          10.92395306,
          10.92395306,
          10.33663014,
          10.33663014,
          10.33663014,
          10.33663014,
          10.33663014,
          10.33663014,
          10.33663014,
          10.33663014,
          10.33663014,
          10.33663014,
          10.33663014,
          10.73788251,
          10.73788251,
          10.73788251,
          10.73788251,
          10.73788251,
          10.73788251,
          10.73788251,
          10.73788251,
          10.73788251,
          10.73788251,
          10.73788251,
          10.73788251,
          10.73788251,
          10.73788251,
          10.73788251,
          10.73788251,
          10.73788251,
          10.73788251,
          10.73788251
         ],
         "yaxis": "y3"
        },
        {
         "mode": "lines",
         "name": "bitstamp:/BTC:/worth",
         "type": "scatter",
         "uid": "66a51bd5-08f5-4308-b164-b740b790d342",
         "xaxis": "x3",
         "y": [
          87409.9,
          87390,
          87284.9,
          95040.76885322719,
          95996.59851223898,
          95604.79347959999,
          95604.79347959999,
          95596.38986190829,
          92961.1463192617,
          92988.75820596298,
          93151.70107886828,
          93272.9532769914,
          93058.06076744648,
          93374.014965076,
          92899.265134441,
          92682.9538322988,
          92330.65671659999,
          92494.25441685789,
          92286.12845662319,
          90871.2648234388,
          81334.3,
          81647.9,
          82293.79999999999,
          82204,
          82388,
          89970.0084320991,
          89691.23548143319,
          90084.3151770605,
          91479.6005687117,
          83730,
          83650.8,
          81799.9,
          82250,
          82858,
          82734,
          82974,
          82798.9,
          82527.2,
          83021.8,
          82958.5,
          82772.5,
          83465.9,
          83583,
          83751,
          83686.20000000001,
          87519.5851905472,
          86976.16525410271,
          87487.99465718701,
          87283.59763008161,
          86271.445309574,
          86585.258554874,
          86734.5290552217,
          86904.1974165139,
          86810.158047339,
          86502.3072536997,
          86831.9157656798,
          87015.07809651991,
          86888.5067542489,
          86575.11192660932,
          86379.0832527119,
          85419.96537066001,
          81763.3,
          82007,
          81554.1,
          80800,
          80670.3,
          79580.8,
          79742.5,
          79985,
          79919.9,
          80227,
          80429.7,
          79656.7,
          80889.5,
          81221.9,
          81079.9,
          81377.29999999999,
          81150,
          81070,
          80944,
          80800.1,
          81170.9,
          81269.9,
          81109.5,
          82153.9,
          82314.2,
          82401.29999999999,
          82350,
          82199,
          82488.70000000001,
          82135,
          82009.9,
          82000,
          82373,
          82281.29999999999,
          82408.3,
          82149,
          81700.7,
          82298.70000000001,
          82058.70000000001,
          82525.59999999999,
          83650,
          83486.5,
          83039.9,
          83104.79999999999,
          83100,
          85746.9836054148,
          85903.3786263396,
          85865.727973154,
          85987.47198084481,
          85231.87302062279,
          84817.3020921396,
          87101.6939163816,
          87146.37241910401,
          86804.2960155588,
          86983.85701228201,
          87662.9279043708,
          87399.1976904336,
          87561.395477568,
          87284.4311099808,
          87230.22401663041,
          87526.8808048488,
          87687.0670006284,
          88410.71052221041,
          88262.276254872,
          88265.5583249772,
          87993.4641259332,
          88002.7809701028,
          91162.4638367814,
          91512.13957423202,
          92647.24753669661,
          88030.46345909042,
          88109.43531336001,
          88037.49236758561,
          88466.04905319,
          88088.6586867786,
          87705.5831737902,
          88052.3771149872,
          87747.5498921586,
          87517.3531389408,
          87784.34829545699,
          87802.23066559921,
          91389.58114848452,
          91257.3978147864,
          91820.707131261,
          91532.07284939219,
          91380.56132717611,
          91010.21175940621,
          91020.5201266158,
          90919.04713689629,
          91270.2832737984,
          91169.1324205542,
          90274.34467099591,
          90299.3639372442,
          90208.5214512096,
          90017.1723848814,
          89661.31895850001,
          89908.39763505511,
          90335.657980128,
          90043.2654393807,
          90289.8072218103
         ],
         "yaxis": "y3"
        },
        {
         "mode": "lines",
         "name": "net_worth",
         "type": "scatter",
         "uid": "81910362-5a88-461a-9686-2e0579338611",
         "xaxis": "x3",
         "y": [
          97409.9,
          97390,
          97284.9,
          97040.76885322719,
          97996.59851223898,
          97604.79347959999,
          97604.79347959999,
          97596.38986190829,
          94961.1463192617,
          94988.75820596298,
          95151.70107886828,
          95272.9532769914,
          95058.06076744648,
          95374.014965076,
          94899.265134441,
          94682.9538322988,
          94330.65671659999,
          94494.25441685789,
          94286.12845662319,
          92871.2648234388,
          90919.94,
          91233.54,
          91879.43999999999,
          91789.64,
          91973.64,
          91887.1384320991,
          91608.3654814332,
          92001.44517706051,
          93396.7305687117,
          93392.13,
          93312.93000000001,
          91462.03,
          91912.13,
          92520.13,
          92396.13,
          92636.13,
          92461.03,
          92189.33,
          92683.93000000001,
          92620.63,
          92434.63,
          93128.03,
          93245.13,
          93413.13,
          93348.33000000002,
          93316.86519054719,
          92773.44525410271,
          93285.27465718701,
          93080.87763008161,
          92068.725309574,
          92382.538554874,
          92531.8090552217,
          92701.4774165139,
          92607.438047339,
          92299.5872536997,
          92629.1957656798,
          92812.3580965199,
          92685.7867542489,
          92372.39192660931,
          92176.3632527119,
          91217.24537066,
          91309.27,
          91552.97,
          91100.07,
          90345.97,
          90216.27,
          89126.77,
          89288.47,
          89530.97,
          89465.87,
          89772.97,
          89975.67,
          89202.67,
          90435.47,
          90767.87,
          90625.87,
          90923.26999999999,
          90695.97,
          90615.97,
          90489.97,
          90346.07,
          90716.87,
          90815.87,
          90655.47,
          91699.87,
          91860.17,
          91947.26999999999,
          91895.97,
          91744.97,
          92034.67000000001,
          91680.97,
          91555.87,
          91545.97,
          91918.97,
          91827.26999999999,
          91954.27,
          91694.97,
          91246.67,
          91844.67000000001,
          91604.67000000001,
          92071.56999999999,
          93195.97,
          93032.47,
          92585.87,
          92650.76999999999,
          92645.97,
          92429.1636054148,
          92585.5586263396,
          92547.90797315401,
          92669.65198084482,
          91914.05302062278,
          91499.4820921396,
          91779.2239163816,
          91823.90241910401,
          91481.82601555879,
          91661.38701228201,
          92340.45790437079,
          92076.7276904336,
          92238.925477568,
          91961.9611099808,
          91907.75401663041,
          92204.4108048488,
          92364.5970006284,
          93088.24052221041,
          92939.806254872,
          92943.0883249772,
          92670.9941259332,
          92680.3109701028,
          93033.4738367814,
          93383.14957423201,
          94518.2575366966,
          94867.68345909042,
          94946.65531336001,
          94874.71236758561,
          95303.26905319,
          94925.8786867786,
          94542.8031737902,
          94889.5971149872,
          94584.7698921586,
          94354.5731389408,
          94621.568295457,
          94639.45066559922,
          94808.19114848452,
          94676.0078147864,
          95239.317131261,
          94950.6828493922,
          94799.17132717611,
          94428.82175940622,
          94439.1301266158,
          94337.65713689629,
          94688.8932737984,
          94587.7424205542,
          93692.95467099591,
          93717.9739372442,
          93627.1314512096,
          93435.7823848814,
          93079.92895850001,
          93327.00763505511,
          93754.267980128,
          93461.8754393807,
          93708.4172218103
         ],
         "yaxis": "y3"
        },
        {
         "marker": {
          "color": "DarkGreen"
         },
         "mode": "lines",
         "name": "Net Worth",
         "type": "scatter",
         "uid": "2a16b7a4-6c62-48f6-86ee-f813f28782f1",
         "xaxis": "x4",
         "y": [
          97409.9,
          97390,
          97284.9,
          97040.76885322719,
          97996.59851223898,
          97604.79347959999,
          97604.79347959999,
          97596.38986190829,
          94961.1463192617,
          94988.75820596298,
          95151.70107886828,
          95272.9532769914,
          95058.06076744648,
          95374.014965076,
          94899.265134441,
          94682.9538322988,
          94330.65671659999,
          94494.25441685789,
          94286.12845662319,
          92871.2648234388,
          90919.94,
          91233.54,
          91879.43999999999,
          91789.64,
          91973.64,
          91887.1384320991,
          91608.3654814332,
          92001.44517706051,
          93396.7305687117,
          93392.13,
          93312.93000000001,
          91462.03,
          91912.13,
          92520.13,
          92396.13,
          92636.13,
          92461.03,
          92189.33,
          92683.93000000001,
          92620.63,
          92434.63,
          93128.03,
          93245.13,
          93413.13,
          93348.33000000002,
          93316.86519054719,
          92773.44525410271,
          93285.27465718701,
          93080.87763008161,
          92068.725309574,
          92382.538554874,
          92531.8090552217,
          92701.4774165139,
          92607.438047339,
          92299.5872536997,
          92629.1957656798,
          92812.3580965199,
          92685.7867542489,
          92372.39192660931,
          92176.3632527119,
          91217.24537066,
          91309.27,
          91552.97,
          91100.07,
          90345.97,
          90216.27,
          89126.77,
          89288.47,
          89530.97,
          89465.87,
          89772.97,
          89975.67,
          89202.67,
          90435.47,
          90767.87,
          90625.87,
          90923.26999999999,
          90695.97,
          90615.97,
          90489.97,
          90346.07,
          90716.87,
          90815.87,
          90655.47,
          91699.87,
          91860.17,
          91947.26999999999,
          91895.97,
          91744.97,
          92034.67000000001,
          91680.97,
          91555.87,
          91545.97,
          91918.97,
          91827.26999999999,
          91954.27,
          91694.97,
          91246.67,
          91844.67000000001,
          91604.67000000001,
          92071.56999999999,
          93195.97,
          93032.47,
          92585.87,
          92650.76999999999,
          92645.97,
          92429.1636054148,
          92585.5586263396,
          92547.90797315401,
          92669.65198084482,
          91914.05302062278,
          91499.4820921396,
          91779.2239163816,
          91823.90241910401,
          91481.82601555879,
          91661.38701228201,
          92340.45790437079,
          92076.7276904336,
          92238.925477568,
          91961.9611099808,
          91907.75401663041,
          92204.4108048488,
          92364.5970006284,
          93088.24052221041,
          92939.806254872,
          92943.0883249772,
          92670.9941259332,
          92680.3109701028,
          93033.4738367814,
          93383.14957423201,
          94518.2575366966,
          94867.68345909042,
          94946.65531336001,
          94874.71236758561,
          95303.26905319,
          94925.8786867786,
          94542.8031737902,
          94889.5971149872,
          94584.7698921586,
          94354.5731389408,
          94621.568295457,
          94639.45066559922,
          94808.19114848452,
          94676.0078147864,
          95239.317131261,
          94950.6828493922,
          94799.17132717611,
          94428.82175940622,
          94439.1301266158,
          94337.65713689629,
          94688.8932737984,
          94587.7424205542,
          93692.95467099591,
          93717.9739372442,
          93627.1314512096,
          93435.7823848814,
          93079.92895850001,
          93327.00763505511,
          93754.267980128,
          93461.8754393807,
          93708.4172218103
         ],
         "yaxis": "y4"
        }
       ],
       "layout": {
        "annotations": [
         {
          "arrowcolor": "FireBrick",
          "arrowhead": 2,
          "arrowsize": 0.8,
          "arrowwidth": 4,
          "ax": 0,
          "ay": -15,
          "hoverlabel": {
           "bgcolor": "FireBrick"
          },
          "hovertext": "Step 20 [2018-05-16 01:00:00]<br>SELL 0.91104784 BTC @ 8326.28 USD MARKET<br>Total: 7585.64 USD - Comm.: 0.00274137 BTC",
          "opacity": 0.6,
          "showarrow": true,
          "x": 19,
          "xref": "x",
          "y": 8326.28,
          "yref": "y"
         },
         {
          "arrowcolor": "DarkGreen",
          "arrowhead": 2,
          "arrowsize": 0.8,
          "arrowwidth": 4,
          "ax": 0,
          "ay": 15,
          "hoverlabel": {
           "bgcolor": "DarkGreen"
          },
          "hovertext": "Step 3 [2018-05-15 08:00:00]<br>BUY 0.91378921 BTC @ 8728.49 USD MARKET<br>Total: 7976.0 USD - Comm.: 24.00 USD",
          "opacity": 0.6,
          "showarrow": true,
          "x": 2,
          "xref": "x",
          "y": 8728.49,
          "yref": "y"
         },
         {
          "arrowcolor": "FireBrick",
          "arrowhead": 2,
          "arrowsize": 0.8,
          "arrowwidth": 4,
          "ax": 0,
          "ay": -15,
          "hoverlabel": {
           "bgcolor": "FireBrick"
          },
          "hovertext": "Step 29 [2018-05-16 10:00:00]<br>SELL 0.92520313 BTC @ 8371.13 USD MARKET<br>Total: 7745.0 USD - Comm.: 0.00278396 BTC",
          "opacity": 0.6,
          "showarrow": true,
          "x": 28,
          "xref": "x",
          "y": 8371.13,
          "yref": "y"
         },
         {
          "arrowcolor": "DarkGreen",
          "arrowhead": 2,
          "arrowsize": 0.8,
          "arrowwidth": 4,
          "ax": 0,
          "ay": 15,
          "hoverlabel": {
           "bgcolor": "DarkGreen"
          },
          "hovertext": "Step 25 [2018-05-16 06:00:00]<br>BUY 0.92798709 BTC @ 8238.8 USD MARKET<br>Total: 7645.5 USD - Comm.: 23.01 USD",
          "opacity": 0.6,
          "showarrow": true,
          "x": 24,
          "xref": "x",
          "y": 8238.8,
          "yref": "y"
         },
         {
          "arrowcolor": "DarkGreen",
          "arrowhead": 2,
          "arrowsize": 0.8,
          "arrowwidth": 4,
          "ax": 0,
          "ay": 15,
          "hoverlabel": {
           "bgcolor": "DarkGreen"
          },
          "hovertext": "Step 45 [2018-05-17 02:00:00]<br>BUY 0.46044151 BTC @ 8368.62 USD MARKET<br>Total: 3853.26 USD - Comm.: 11.59 USD",
          "opacity": 0.6,
          "showarrow": true,
          "x": 44,
          "xref": "x",
          "y": 8368.62,
          "yref": "y"
         },
         {
          "arrowcolor": "FireBrick",
          "arrowhead": 2,
          "arrowsize": 0.8,
          "arrowwidth": 4,
          "ax": 0,
          "ay": -15,
          "hoverlabel": {
           "bgcolor": "FireBrick"
          },
          "hovertext": "Step 61 [2018-05-17 18:00:00]<br>SELL 0.45906019 BTC @ 8166.0 USD MARKET<br>Total: 3748.69 USD - Comm.: 0.00138132 BTC",
          "opacity": 0.6,
          "showarrow": true,
          "x": 60,
          "xref": "x",
          "y": 8166,
          "yref": "y"
         },
         {
          "arrowcolor": "DarkGreen",
          "arrowhead": 2,
          "arrowsize": 0.8,
          "arrowwidth": 4,
          "ax": 0,
          "ay": 15,
          "hoverlabel": {
           "bgcolor": "DarkGreen"
          },
          "hovertext": "Step 112 [2018-05-19 21:00:00]<br>BUY 0.24373688 BTC @ 8199.99 USD MARKET<br>Total: 1998.64 USD - Comm.: 6.01 USD",
          "opacity": 0.6,
          "showarrow": true,
          "x": 111,
          "xref": "x",
          "y": 8199.99,
          "yref": "y"
         },
         {
          "arrowcolor": "DarkGreen",
          "arrowhead": 2,
          "arrowsize": 0.8,
          "arrowwidth": 4,
          "ax": 0,
          "ay": 15,
          "hoverlabel": {
           "bgcolor": "DarkGreen"
          },
          "hovertext": "Step 106 [2018-05-19 15:00:00]<br>BUY 0.34358604 BTC @ 8310.0 USD MARKET<br>Total: 2855.2 USD - Comm.: 8.59 USD",
          "opacity": 0.6,
          "showarrow": true,
          "x": 105,
          "xref": "x",
          "y": 8310,
          "yref": "y"
         },
         {
          "arrowcolor": "FireBrick",
          "arrowhead": 2,
          "arrowsize": 0.8,
          "arrowwidth": 4,
          "ax": 0,
          "ay": -15,
          "hoverlabel": {
           "bgcolor": "FireBrick"
          },
          "hovertext": "Step 131 [2018-05-20 16:00:00]<br>SELL 0.24300567 BTC @ 8481.11 USD MARKET<br>Total: 2060.96 USD - Comm.: 0.00073121 BTC",
          "opacity": 0.6,
          "showarrow": true,
          "x": 130,
          "xref": "x",
          "y": 8481.11,
          "yref": "y"
         },
         {
          "arrowcolor": "FireBrick",
          "arrowhead": 2,
          "arrowsize": 0.8,
          "arrowwidth": 4,
          "ax": 0,
          "ay": -15,
          "hoverlabel": {
           "bgcolor": "FireBrick"
          },
          "hovertext": "Step 131 [2018-05-20 16:00:00]<br>SELL 0.34255528 BTC @ 8481.11 USD MARKET<br>Total: 2905.25 USD - Comm.: 0.00103076 BTC",
          "opacity": 0.6,
          "showarrow": true,
          "x": 130,
          "xref": "x",
          "y": 8481.11,
          "yref": "y"
         },
         {
          "arrowcolor": "DarkGreen",
          "arrowhead": 2,
          "arrowsize": 0.8,
          "arrowwidth": 4,
          "ax": 0,
          "ay": 15,
          "hoverlabel": {
           "bgcolor": "DarkGreen"
          },
          "hovertext": "Step 128 [2018-05-20 13:00:00]<br>BUY 0.33663014 BTC @ 8312.09 USD MARKET<br>Total: 2798.1 USD - Comm.: 8.42 USD",
          "opacity": 0.6,
          "showarrow": true,
          "x": 127,
          "xref": "x",
          "y": 8312.09,
          "yref": "y"
         },
         {
          "arrowcolor": "DarkGreen",
          "arrowhead": 2,
          "arrowsize": 0.8,
          "arrowwidth": 4,
          "ax": 0,
          "ay": 15,
          "hoverlabel": {
           "bgcolor": "DarkGreen"
          },
          "hovertext": "Step 142 [2018-05-21 03:00:00]<br>BUY 0.40125237 BTC @ 8494.28 USD MARKET<br>Total: 3408.35 USD - Comm.: 10.26 USD",
          "opacity": 0.6,
          "showarrow": true,
          "x": 141,
          "xref": "x",
          "y": 8494.28,
          "yref": "y"
         }
        ],
        "margin": {
         "t": 50
        },
        "template": {
         "data": {
          "bar": [
           {
            "error_x": {
             "color": "#2a3f5f"
            },
            "error_y": {
             "color": "#2a3f5f"
            },
            "marker": {
             "line": {
              "color": "white",
              "width": 0.5
             },
             "pattern": {
              "fillmode": "overlay",
              "size": 10,
              "solidity": 0.2
             }
            },
            "type": "bar"
           }
          ],
          "barpolar": [
           {
            "marker": {
             "line": {
              "color": "white",
              "width": 0.5
             },
             "pattern": {
              "fillmode": "overlay",
              "size": 10,
              "solidity": 0.2
             }
            },
            "type": "barpolar"
           }
          ],
          "carpet": [
           {
            "aaxis": {
             "endlinecolor": "#2a3f5f",
             "gridcolor": "#C8D4E3",
             "linecolor": "#C8D4E3",
             "minorgridcolor": "#C8D4E3",
             "startlinecolor": "#2a3f5f"
            },
            "baxis": {
             "endlinecolor": "#2a3f5f",
             "gridcolor": "#C8D4E3",
             "linecolor": "#C8D4E3",
             "minorgridcolor": "#C8D4E3",
             "startlinecolor": "#2a3f5f"
            },
            "type": "carpet"
           }
          ],
          "choropleth": [
           {
            "colorbar": {
             "outlinewidth": 0,
             "ticks": ""
            },
            "type": "choropleth"
           }
          ],
          "contour": [
           {
            "colorbar": {
             "outlinewidth": 0,
             "ticks": ""
            },
            "colorscale": [
             [
              0,
              "#0d0887"
             ],
             [
              0.1111111111111111,
              "#46039f"
             ],
             [
              0.2222222222222222,
              "#7201a8"
             ],
             [
              0.3333333333333333,
              "#9c179e"
             ],
             [
              0.4444444444444444,
              "#bd3786"
             ],
             [
              0.5555555555555556,
              "#d8576b"
             ],
             [
              0.6666666666666666,
              "#ed7953"
             ],
             [
              0.7777777777777778,
              "#fb9f3a"
             ],
             [
              0.8888888888888888,
              "#fdca26"
             ],
             [
              1,
              "#f0f921"
             ]
            ],
            "type": "contour"
           }
          ],
          "contourcarpet": [
           {
            "colorbar": {
             "outlinewidth": 0,
             "ticks": ""
            },
            "type": "contourcarpet"
           }
          ],
          "heatmap": [
           {
            "colorbar": {
             "outlinewidth": 0,
             "ticks": ""
            },
            "colorscale": [
             [
              0,
              "#0d0887"
             ],
             [
              0.1111111111111111,
              "#46039f"
             ],
             [
              0.2222222222222222,
              "#7201a8"
             ],
             [
              0.3333333333333333,
              "#9c179e"
             ],
             [
              0.4444444444444444,
              "#bd3786"
             ],
             [
              0.5555555555555556,
              "#d8576b"
             ],
             [
              0.6666666666666666,
              "#ed7953"
             ],
             [
              0.7777777777777778,
              "#fb9f3a"
             ],
             [
              0.8888888888888888,
              "#fdca26"
             ],
             [
              1,
              "#f0f921"
             ]
            ],
            "type": "heatmap"
           }
          ],
          "heatmapgl": [
           {
            "colorbar": {
             "outlinewidth": 0,
             "ticks": ""
            },
            "colorscale": [
             [
              0,
              "#0d0887"
             ],
             [
              0.1111111111111111,
              "#46039f"
             ],
             [
              0.2222222222222222,
              "#7201a8"
             ],
             [
              0.3333333333333333,
              "#9c179e"
             ],
             [
              0.4444444444444444,
              "#bd3786"
             ],
             [
              0.5555555555555556,
              "#d8576b"
             ],
             [
              0.6666666666666666,
              "#ed7953"
             ],
             [
              0.7777777777777778,
              "#fb9f3a"
             ],
             [
              0.8888888888888888,
              "#fdca26"
             ],
             [
              1,
              "#f0f921"
             ]
            ],
            "type": "heatmapgl"
           }
          ],
          "histogram": [
           {
            "marker": {
             "pattern": {
              "fillmode": "overlay",
              "size": 10,
              "solidity": 0.2
             }
            },
            "type": "histogram"
           }
          ],
          "histogram2d": [
           {
            "colorbar": {
             "outlinewidth": 0,
             "ticks": ""
            },
            "colorscale": [
             [
              0,
              "#0d0887"
             ],
             [
              0.1111111111111111,
              "#46039f"
             ],
             [
              0.2222222222222222,
              "#7201a8"
             ],
             [
              0.3333333333333333,
              "#9c179e"
             ],
             [
              0.4444444444444444,
              "#bd3786"
             ],
             [
              0.5555555555555556,
              "#d8576b"
             ],
             [
              0.6666666666666666,
              "#ed7953"
             ],
             [
              0.7777777777777778,
              "#fb9f3a"
             ],
             [
              0.8888888888888888,
              "#fdca26"
             ],
             [
              1,
              "#f0f921"
             ]
            ],
            "type": "histogram2d"
           }
          ],
          "histogram2dcontour": [
           {
            "colorbar": {
             "outlinewidth": 0,
             "ticks": ""
            },
            "colorscale": [
             [
              0,
              "#0d0887"
             ],
             [
              0.1111111111111111,
              "#46039f"
             ],
             [
              0.2222222222222222,
              "#7201a8"
             ],
             [
              0.3333333333333333,
              "#9c179e"
             ],
             [
              0.4444444444444444,
              "#bd3786"
             ],
             [
              0.5555555555555556,
              "#d8576b"
             ],
             [
              0.6666666666666666,
              "#ed7953"
             ],
             [
              0.7777777777777778,
              "#fb9f3a"
             ],
             [
              0.8888888888888888,
              "#fdca26"
             ],
             [
              1,
              "#f0f921"
             ]
            ],
            "type": "histogram2dcontour"
           }
          ],
          "mesh3d": [
           {
            "colorbar": {
             "outlinewidth": 0,
             "ticks": ""
            },
            "type": "mesh3d"
           }
          ],
          "parcoords": [
           {
            "line": {
             "colorbar": {
              "outlinewidth": 0,
              "ticks": ""
             }
            },
            "type": "parcoords"
           }
          ],
          "pie": [
           {
            "automargin": true,
            "type": "pie"
           }
          ],
          "scatter": [
           {
            "marker": {
             "colorbar": {
              "outlinewidth": 0,
              "ticks": ""
             }
            },
            "type": "scatter"
           }
          ],
          "scatter3d": [
           {
            "line": {
             "colorbar": {
              "outlinewidth": 0,
              "ticks": ""
             }
            },
            "marker": {
             "colorbar": {
              "outlinewidth": 0,
              "ticks": ""
             }
            },
            "type": "scatter3d"
           }
          ],
          "scattercarpet": [
           {
            "marker": {
             "colorbar": {
              "outlinewidth": 0,
              "ticks": ""
             }
            },
            "type": "scattercarpet"
           }
          ],
          "scattergeo": [
           {
            "marker": {
             "colorbar": {
              "outlinewidth": 0,
              "ticks": ""
             }
            },
            "type": "scattergeo"
           }
          ],
          "scattergl": [
           {
            "marker": {
             "colorbar": {
              "outlinewidth": 0,
              "ticks": ""
             }
            },
            "type": "scattergl"
           }
          ],
          "scattermapbox": [
           {
            "marker": {
             "colorbar": {
              "outlinewidth": 0,
              "ticks": ""
             }
            },
            "type": "scattermapbox"
           }
          ],
          "scatterpolar": [
           {
            "marker": {
             "colorbar": {
              "outlinewidth": 0,
              "ticks": ""
             }
            },
            "type": "scatterpolar"
           }
          ],
          "scatterpolargl": [
           {
            "marker": {
             "colorbar": {
              "outlinewidth": 0,
              "ticks": ""
             }
            },
            "type": "scatterpolargl"
           }
          ],
          "scatterternary": [
           {
            "marker": {
             "colorbar": {
              "outlinewidth": 0,
              "ticks": ""
             }
            },
            "type": "scatterternary"
           }
          ],
          "surface": [
           {
            "colorbar": {
             "outlinewidth": 0,
             "ticks": ""
            },
            "colorscale": [
             [
              0,
              "#0d0887"
             ],
             [
              0.1111111111111111,
              "#46039f"
             ],
             [
              0.2222222222222222,
              "#7201a8"
             ],
             [
              0.3333333333333333,
              "#9c179e"
             ],
             [
              0.4444444444444444,
              "#bd3786"
             ],
             [
              0.5555555555555556,
              "#d8576b"
             ],
             [
              0.6666666666666666,
              "#ed7953"
             ],
             [
              0.7777777777777778,
              "#fb9f3a"
             ],
             [
              0.8888888888888888,
              "#fdca26"
             ],
             [
              1,
              "#f0f921"
             ]
            ],
            "type": "surface"
           }
          ],
          "table": [
           {
            "cells": {
             "fill": {
              "color": "#EBF0F8"
             },
             "line": {
              "color": "white"
             }
            },
            "header": {
             "fill": {
              "color": "#C8D4E3"
             },
             "line": {
              "color": "white"
             }
            },
            "type": "table"
           }
          ]
         },
         "layout": {
          "annotationdefaults": {
           "arrowcolor": "#2a3f5f",
           "arrowhead": 0,
           "arrowwidth": 1
          },
          "autotypenumbers": "strict",
          "coloraxis": {
           "colorbar": {
            "outlinewidth": 0,
            "ticks": ""
           }
          },
          "colorscale": {
           "diverging": [
            [
             0,
             "#8e0152"
            ],
            [
             0.1,
             "#c51b7d"
            ],
            [
             0.2,
             "#de77ae"
            ],
            [
             0.3,
             "#f1b6da"
            ],
            [
             0.4,
             "#fde0ef"
            ],
            [
             0.5,
             "#f7f7f7"
            ],
            [
             0.6,
             "#e6f5d0"
            ],
            [
             0.7,
             "#b8e186"
            ],
            [
             0.8,
             "#7fbc41"
            ],
            [
             0.9,
             "#4d9221"
            ],
            [
             1,
             "#276419"
            ]
           ],
           "sequential": [
            [
             0,
             "#0d0887"
            ],
            [
             0.1111111111111111,
             "#46039f"
            ],
            [
             0.2222222222222222,
             "#7201a8"
            ],
            [
             0.3333333333333333,
             "#9c179e"
            ],
            [
             0.4444444444444444,
             "#bd3786"
            ],
            [
             0.5555555555555556,
             "#d8576b"
            ],
            [
             0.6666666666666666,
             "#ed7953"
            ],
            [
             0.7777777777777778,
             "#fb9f3a"
            ],
            [
             0.8888888888888888,
             "#fdca26"
            ],
            [
             1,
             "#f0f921"
            ]
           ],
           "sequentialminus": [
            [
             0,
             "#0d0887"
            ],
            [
             0.1111111111111111,
             "#46039f"
            ],
            [
             0.2222222222222222,
             "#7201a8"
            ],
            [
             0.3333333333333333,
             "#9c179e"
            ],
            [
             0.4444444444444444,
             "#bd3786"
            ],
            [
             0.5555555555555556,
             "#d8576b"
            ],
            [
             0.6666666666666666,
             "#ed7953"
            ],
            [
             0.7777777777777778,
             "#fb9f3a"
            ],
            [
             0.8888888888888888,
             "#fdca26"
            ],
            [
             1,
             "#f0f921"
            ]
           ]
          },
          "colorway": [
           "#636efa",
           "#EF553B",
           "#00cc96",
           "#ab63fa",
           "#FFA15A",
           "#19d3f3",
           "#FF6692",
           "#B6E880",
           "#FF97FF",
           "#FECB52"
          ],
          "font": {
           "color": "#2a3f5f"
          },
          "geo": {
           "bgcolor": "white",
           "lakecolor": "white",
           "landcolor": "white",
           "showlakes": true,
           "showland": true,
           "subunitcolor": "#C8D4E3"
          },
          "hoverlabel": {
           "align": "left"
          },
          "hovermode": "closest",
          "mapbox": {
           "style": "light"
          },
          "paper_bgcolor": "white",
          "plot_bgcolor": "white",
          "polar": {
           "angularaxis": {
            "gridcolor": "#EBF0F8",
            "linecolor": "#EBF0F8",
            "ticks": ""
           },
           "bgcolor": "white",
           "radialaxis": {
            "gridcolor": "#EBF0F8",
            "linecolor": "#EBF0F8",
            "ticks": ""
           }
          },
          "scene": {
           "xaxis": {
            "backgroundcolor": "white",
            "gridcolor": "#DFE8F3",
            "gridwidth": 2,
            "linecolor": "#EBF0F8",
            "showbackground": true,
            "ticks": "",
            "zerolinecolor": "#EBF0F8"
           },
           "yaxis": {
            "backgroundcolor": "white",
            "gridcolor": "#DFE8F3",
            "gridwidth": 2,
            "linecolor": "#EBF0F8",
            "showbackground": true,
            "ticks": "",
            "zerolinecolor": "#EBF0F8"
           },
           "zaxis": {
            "backgroundcolor": "white",
            "gridcolor": "#DFE8F3",
            "gridwidth": 2,
            "linecolor": "#EBF0F8",
            "showbackground": true,
            "ticks": "",
            "zerolinecolor": "#EBF0F8"
           }
          },
          "shapedefaults": {
           "line": {
            "color": "#2a3f5f"
           }
          },
          "ternary": {
           "aaxis": {
            "gridcolor": "#DFE8F3",
            "linecolor": "#A2B1C6",
            "ticks": ""
           },
           "baxis": {
            "gridcolor": "#DFE8F3",
            "linecolor": "#A2B1C6",
            "ticks": ""
           },
           "bgcolor": "white",
           "caxis": {
            "gridcolor": "#DFE8F3",
            "linecolor": "#A2B1C6",
            "ticks": ""
           }
          },
          "title": {
           "x": 0.05
          },
          "xaxis": {
           "automargin": true,
           "gridcolor": "#EBF0F8",
           "linecolor": "#EBF0F8",
           "ticks": "",
           "title": {
            "standoff": 15
           },
           "zerolinecolor": "#EBF0F8",
           "zerolinewidth": 2
          },
          "yaxis": {
           "automargin": true,
           "gridcolor": "#EBF0F8",
           "linecolor": "#EBF0F8",
           "ticks": "",
           "title": {
            "standoff": 15
           },
           "zerolinecolor": "#EBF0F8",
           "zerolinewidth": 2
          }
         }
        },
        "title": {
         "text": "[2022-04-10 00:09:03] Episode: 2/2 Step: 161/200"
        },
        "xaxis": {
         "anchor": "y",
         "domain": [
          0,
          1
         ],
         "gridcolor": "Gainsboro",
         "linecolor": "Grey",
         "matches": "x4",
         "rangeslider": {
          "visible": false
         },
         "showticklabels": false,
         "title": {
          "font": {
           "size": 12
          },
          "standoff": 7,
          "text": "Price"
         }
        },
        "xaxis2": {
         "anchor": "y2",
         "domain": [
          0,
          1
         ],
         "gridcolor": "Gainsboro",
         "linecolor": "Grey",
         "matches": "x4",
         "showticklabels": false,
         "title": {
          "font": {
           "size": 12
          },
          "standoff": 7,
          "text": "Volume"
         }
        },
        "xaxis3": {
         "anchor": "y3",
         "domain": [
          0,
          1
         ],
         "gridcolor": "Gainsboro",
         "linecolor": "Grey",
         "matches": "x4",
         "showticklabels": false,
         "title": {
          "font": {
           "size": 12
          },
          "standoff": 7,
          "text": "Performance"
         }
        },
        "xaxis4": {
         "anchor": "y4",
         "domain": [
          0,
          1
         ],
         "gridcolor": "Gainsboro",
         "linecolor": "Grey",
         "title": {
          "font": {
           "size": 12
          },
          "standoff": 7,
          "text": "Net Worth"
         }
        },
        "yaxis": {
         "anchor": "x",
         "domain": [
          0.49950000000000006,
          1
         ],
         "gridcolor": "Gainsboro",
         "linecolor": "Grey"
        },
        "yaxis2": {
         "anchor": "x2",
         "domain": [
          0.333,
          0.46950000000000003
         ],
         "gridcolor": "Gainsboro",
         "linecolor": "Grey"
        },
        "yaxis3": {
         "anchor": "x3",
         "domain": [
          0.1665,
          0.30300000000000005
         ],
         "gridcolor": "Gainsboro",
         "linecolor": "Grey"
        },
        "yaxis4": {
         "anchor": "x4",
         "domain": [
          0,
          0.1365
         ],
         "gridcolor": "Gainsboro",
         "linecolor": "Grey"
        }
       }
      }
     },
     "metadata": {},
     "output_type": "display_data"
    },
    {
     "data": {
      "application/vnd.jupyter.widget-view+json": {
       "model_id": "a46f5e755d6048fca6f2305516d12de0",
       "version_major": 2,
       "version_minor": 0
      },
      "text/plain": [
       "FigureWidget({\n",
       "    'data': [{'close': array([8740.99, 8739.  , 8728.49, 8708.32, 8795.9 , 8760.  , 8760.  , 87…"
      ]
     },
     "metadata": {},
     "output_type": "display_data"
    },
    {
     "data": {
      "application/vnd.plotly.v1+json": {
       "config": {
        "plotlyServerURL": "https://plot.ly"
       },
       "data": [
        {
         "close": [
          8740.99,
          8739,
          8728.49,
          8708.32,
          8795.9,
          8760,
          8760,
          8759.23,
          8517.77,
          8520.3,
          8535.23,
          8546.34,
          8526.65,
          8555.6,
          8512.1,
          8492.28,
          8460,
          8474.99,
          8455.92,
          8326.28,
          8133.43,
          8164.79,
          8229.38,
          8220.4,
          8238.8,
          8232.99,
          8207.48,
          8243.45,
          8371.13,
          8373,
          8365.08,
          8179.99,
          8225,
          8285.8,
          8273.4,
          8297.4,
          8279.89,
          8252.72,
          8302.18,
          8295.85,
          8277.25,
          8346.59,
          8358.3,
          8375.1,
          8368.62,
          8366.72,
          8314.77,
          8363.7,
          8344.16,
          8247.4,
          8277.4,
          8291.67,
          8307.89,
          8298.9,
          8269.47,
          8300.98,
          8318.49,
          8306.39,
          8276.43,
          8257.69,
          8166,
          8176.33,
          8200.7,
          8155.41,
          8080,
          8067.03,
          7958.08,
          7974.25,
          7998.5,
          7991.99,
          8022.7,
          8042.97,
          7965.67,
          8088.95,
          8122.19,
          8107.99,
          8137.73,
          8115,
          8107,
          8094.4,
          8080.01,
          8117.09,
          8126.99,
          8110.95,
          8215.39,
          8231.42,
          8240.13,
          8235,
          8219.9,
          8248.87,
          8213.5,
          8200.99,
          8200,
          8237.3,
          8228.13,
          8240.83,
          8214.9,
          8170.07,
          8229.87,
          8205.87,
          8252.56,
          8365,
          8348.65,
          8303.99,
          8310.48,
          8310,
          8289.87,
          8304.99,
          8301.35,
          8313.12,
          8240.07,
          8199.99,
          8226.98,
          8231.2,
          8198.89,
          8215.85,
          8279.99,
          8255.08,
          8270.4,
          8244.24,
          8239.12,
          8267.14,
          8282.27,
          8350.62,
          8336.6,
          8336.91,
          8311.21,
          8312.09,
          8345.19,
          8377.2,
          8481.11,
          8516.36,
          8524,
          8517.04,
          8558.5,
          8521.99,
          8484.93,
          8518.48,
          8488.99,
          8466.72,
          8492.55,
          8494.28,
          8510.95,
          8498.64,
          8551.1,
          8524.22,
          8510.11,
          8475.62,
          8476.58,
          8467.13,
          8499.84,
          8490.42,
          8407.09,
          8409.42,
          8400.96,
          8383.14,
          8350,
          8373.01,
          8412.8,
          8385.57,
          8408.53,
          8391.76,
          8367.36,
          8280.24,
          8297.91,
          8333.99,
          8285.29,
          8280,
          8317.02,
          8320.16,
          8295.9,
          8245.47,
          8264.98,
          8200,
          8170,
          8217,
          8231.63,
          8232.8,
          8225.38,
          8200.01,
          8219.98
         ],
         "high": [
          8796.68,
          8766,
          8750.27,
          8754.4,
          8865,
          8821.19,
          8798.6,
          8771.02,
          8761.7,
          8553.67,
          8589.1,
          8579.48,
          8555.51,
          8583.6,
          8569.92,
          8555.54,
          8557.51,
          8505,
          8505.33,
          8478.29,
          8339.81,
          8217.44,
          8252.72,
          8248.63,
          8267.12,
          8255,
          8261.24,
          8263.93,
          8455.66,
          8439.44,
          8399.1,
          8381.73,
          8229.91,
          8377.29,
          8329.1,
          8350,
          8346.95,
          8377.29,
          8311.35,
          8319.96,
          8398.24,
          8372.58,
          8399.99,
          8386.53,
          8400,
          8500,
          8381,
          8371.3,
          8382.41,
          8351,
          8292.99,
          8325.8,
          8318.99,
          8324.9,
          8335.56,
          8309.4,
          8377.29,
          8330.41,
          8328.23,
          8284.36,
          8274.83,
          8200,
          8232.14,
          8213.97,
          8155.41,
          8108.28,
          8068.92,
          8019.9,
          8026.66,
          8025,
          8104.69,
          8061.39,
          8045.99,
          8170.71,
          8144.16,
          8139.99,
          8152.99,
          8137.73,
          8143.72,
          8129.99,
          8106.76,
          8139,
          8152.04,
          8146.99,
          8232.14,
          8275.1,
          8256.12,
          8274.1,
          8255.8,
          8253.97,
          8261.09,
          8235.76,
          8227,
          8273.36,
          8264.21,
          8250,
          8250.86,
          8235.77,
          8232.12,
          8232.14,
          8252.72,
          8370,
          8395,
          8374.48,
          8331,
          8319.43,
          8323.4,
          8314.55,
          8330.62,
          8314.8,
          8323.99,
          8263.03,
          8247.78,
          8253.75,
          8237.89,
          8235,
          8279.99,
          8290,
          8278.71,
          8275.34,
          8279.31,
          8279.98,
          8294.04,
          8356.4,
          8374.94,
          8354.83,
          8360.45,
          8337.14,
          8351.97,
          8377.29,
          8549,
          8531.9,
          8551.79,
          8529.9,
          8590,
          8576.1,
          8549.89,
          8531.89,
          8550,
          8493.29,
          8522.98,
          8517,
          8537.29,
          8524.51,
          8589.1,
          8589.07,
          8536.92,
          8524.03,
          8497.8,
          8498,
          8513.5,
          8510,
          8494.7,
          8427.29,
          8419.03,
          8415.47,
          8389.99,
          8397.57,
          8455,
          8429.66,
          8412.61,
          8424,
          8417.65,
          8369.7,
          8326.5,
          8336.65,
          8333.99,
          8314.32,
          8355.97,
          8333.49,
          8325.6,
          8296.01,
          8264.98,
          8271.31,
          8200,
          8232.14,
          8246,
          8248.94,
          8259.95,
          8242.49,
          8232.04
         ],
         "low": [
          8707.28,
          8721.11,
          8660.53,
          8701.35,
          8695.11,
          8740.54,
          8741.52,
          8700,
          8467.42,
          8477.89,
          8500.78,
          8500,
          8400,
          8451.05,
          8461.38,
          8481.24,
          8420.37,
          8450,
          8430.94,
          8275.02,
          8100.01,
          8122.56,
          8157.01,
          8166.25,
          8176.91,
          8213.79,
          8200,
          8207.48,
          8237.1,
          8370,
          8356.4,
          8145.1,
          8173.6,
          8211.8,
          8201,
          8250.9,
          8266.46,
          8252.72,
          8232.14,
          8268.37,
          8277.25,
          8277.25,
          8314.78,
          8314.77,
          8350.07,
          8331.39,
          8314.77,
          8275.45,
          8335.49,
          8191.14,
          8227.7,
          8264.13,
          8249.93,
          8269.52,
          8219.44,
          8262.68,
          8286.65,
          8289.87,
          8232.14,
          8232.14,
          8110.02,
          8154.95,
          8168.6,
          8151,
          7980,
          8005.95,
          7929.53,
          7931.03,
          7950,
          7980.58,
          7991.99,
          7992.75,
          7953.4,
          7965.67,
          8085.94,
          8078.48,
          8092.9,
          8049.22,
          8079.46,
          8062.12,
          8043.96,
          8063.1,
          8088.46,
          8094.43,
          8088.46,
          8191.14,
          8212,
          8224.5,
          8211,
          8211.01,
          8210.03,
          8158.27,
          8177.65,
          8179.41,
          8221.92,
          8217.32,
          8213.52,
          8141.08,
          8146.1,
          8186.03,
          8197.09,
          8231.21,
          8323.82,
          8296,
          8296.31,
          8282.65,
          8280,
          8273.36,
          8290.08,
          8277.93,
          8240.07,
          8191.14,
          8178,
          8193.7,
          8180,
          8170.71,
          8215.53,
          8240.02,
          8237.17,
          8237.17,
          8239.12,
          8227.79,
          8247.57,
          8274.24,
          8326.1,
          8320.61,
          8281.31,
          8269.85,
          8311.16,
          8336.11,
          8369.86,
          8471.51,
          8511,
          8476.66,
          8507.68,
          8509.24,
          8482.53,
          8484.93,
          8450,
          8434.47,
          8461.1,
          8481,
          8480,
          8488.1,
          8471.09,
          8509.2,
          8482.64,
          8469,
          8440.4,
          8440.52,
          8461.8,
          8480,
          8358.17,
          8380.73,
          8370,
          8383.12,
          8320,
          8349.17,
          8357.11,
          8370.58,
          8367.21,
          8376.99,
          8335.6,
          8252.72,
          8264.49,
          8282.59,
          8271.09,
          8261.52,
          8280,
          8297,
          8290,
          8220,
          8230.45,
          8180,
          8119.38,
          8170,
          8189.84,
          8210.76,
          8212.68,
          8200,
          8186
         ],
         "name": "Price",
         "open": [
          8733.86,
          8740.99,
          8739,
          8728.49,
          8708.32,
          8795.9,
          8760,
          8760,
          8759.23,
          8517.77,
          8520.3,
          8535.23,
          8546.34,
          8526.65,
          8555.6,
          8512.1,
          8492.28,
          8460,
          8474.99,
          8455.92,
          8326.28,
          8133.43,
          8164.79,
          8229.38,
          8220.4,
          8238.8,
          8232.99,
          8207.48,
          8243.45,
          8371.13,
          8373,
          8365.08,
          8179.99,
          8225,
          8285.8,
          8273.4,
          8297.4,
          8279.89,
          8252.72,
          8302.18,
          8295.85,
          8277.25,
          8346.59,
          8358.3,
          8375.1,
          8368.62,
          8366.72,
          8314.77,
          8363.7,
          8344.16,
          8247.4,
          8277.4,
          8291.67,
          8307.89,
          8298.9,
          8269.47,
          8300.98,
          8318.49,
          8306.39,
          8276.43,
          8257.69,
          8166,
          8176.33,
          8200.7,
          8155.41,
          8080,
          8067.03,
          7958.08,
          7974.25,
          7998.5,
          7991.99,
          8022.7,
          8042.97,
          7965.67,
          8088.95,
          8122.19,
          8107.99,
          8137.73,
          8115,
          8107,
          8094.4,
          8080.01,
          8117.09,
          8126.99,
          8110.95,
          8215.39,
          8231.42,
          8240.13,
          8235,
          8219.9,
          8248.87,
          8213.5,
          8200.99,
          8200,
          8237.3,
          8228.13,
          8240.83,
          8214.9,
          8170.07,
          8229.87,
          8205.87,
          8252.56,
          8365,
          8348.65,
          8303.99,
          8310.48,
          8310,
          8289.87,
          8304.99,
          8301.35,
          8313.12,
          8240.07,
          8199.99,
          8226.98,
          8231.2,
          8198.89,
          8215.85,
          8279.99,
          8255.08,
          8270.4,
          8244.24,
          8239.12,
          8267.14,
          8282.27,
          8350.62,
          8336.6,
          8336.91,
          8311.21,
          8312.09,
          8345.19,
          8377.2,
          8481.11,
          8516.36,
          8524,
          8517.04,
          8558.5,
          8521.99,
          8484.93,
          8518.48,
          8488.99,
          8466.72,
          8492.55,
          8494.28,
          8510.95,
          8498.64,
          8551.1,
          8524.22,
          8510.11,
          8475.62,
          8476.58,
          8467.13,
          8499.84,
          8490.42,
          8407.09,
          8409.42,
          8400.96,
          8383.14,
          8350,
          8373.01,
          8412.8,
          8385.57,
          8408.53,
          8391.76,
          8367.36,
          8280.24,
          8297.91,
          8333.99,
          8285.29,
          8280,
          8317.02,
          8320.16,
          8295.9,
          8245.47,
          8264.98,
          8200,
          8170,
          8217,
          8231.63,
          8232.8,
          8225.38,
          8200.01
         ],
         "showlegend": false,
         "type": "candlestick",
         "uid": "50305746-acbe-483f-b8bd-5ee326eca239",
         "xaxis": "x",
         "yaxis": "y"
        },
        {
         "marker": {
          "color": "DodgerBlue"
         },
         "name": "Volume",
         "showlegend": false,
         "type": "bar",
         "uid": "0b0694af-d058-44fd-a8e6-b25a9a83e2b0",
         "xaxis": "x2",
         "y": [
          559.93,
          273.58,
          917.79,
          182.62,
          1260.69,
          324.11,
          324.2,
          730.67,
          1341.75,
          792.07,
          385.69,
          475.08,
          877.26,
          670.49,
          610.97,
          168.99,
          305.92,
          136.05,
          154.26,
          1070.93,
          1710.2,
          492.8,
          630.72,
          620.93,
          586.34,
          304.52,
          450.97,
          182.36,
          915.32,
          319.29,
          362.01,
          1046.38,
          357.91,
          561.2,
          322.53,
          1073.71,
          237.21,
          251.2,
          359.73,
          117.23,
          363.17,
          214.18,
          171.64,
          258.58,
          299.52,
          718.98,
          119.7,
          405.25,
          210.77,
          714.82,
          215.97,
          164.2,
          201.55,
          203.41,
          886.82,
          95.49,
          499.67,
          172.77,
          355.39,
          255.27,
          591.06,
          133.1,
          149.13,
          87.55,
          1061.54,
          286.94,
          524.42,
          316,
          441.43,
          189.7,
          844.94,
          155.34,
          257.56,
          610.69,
          217.97,
          173.18,
          218.06,
          372.97,
          484.39,
          248.1,
          162.35,
          303.42,
          290.69,
          160.93,
          369.4,
          487.27,
          93.35,
          96.68,
          72.14,
          90.22,
          168.52,
          203.15,
          71.42,
          464.56,
          57,
          89.42,
          49.47,
          200.05,
          254.37,
          65.05,
          118.19,
          452.4,
          181.03,
          288.04,
          145.78,
          110.14,
          55.48,
          80.87,
          67.01,
          59.16,
          121.26,
          244.37,
          156.87,
          80.48,
          139.32,
          93.52,
          200.23,
          97.4,
          68.08,
          47,
          36.65,
          28.75,
          182.85,
          400.18,
          288.1,
          182.94,
          777.81,
          493.59,
          118.63,
          174.37,
          901.75,
          222.45,
          113.8,
          84.2,
          261.44,
          168.78,
          111.07,
          122.12,
          267.32,
          210.39,
          211.36,
          146.22,
          93.39,
          89.04,
          307.59,
          307.2,
          164.24,
          151.21,
          399.77,
          362.01,
          260.85,
          232.32,
          1109.45,
          348.5,
          210.57,
          274.92,
          277.83,
          99.57,
          273.12,
          129.47,
          113.05,
          87.6,
          159.37,
          433.28,
          133.29,
          200.57,
          210.33,
          206.4,
          357.53,
          107.43,
          116.54,
          479.07,
          290.38,
          812.96,
          1542.87,
          430.36,
          312.54,
          132.75,
          333.64,
          205.86,
          120.33
         ],
         "yaxis": "y2"
        },
        {
         "mode": "lines",
         "name": "bitstamp:/USD-BTC",
         "type": "scatter",
         "uid": "7633330c-73a6-45ce-bf50-e1d3eb811fe9",
         "xaxis": "x3",
         "y": [
          8740.99,
          8739,
          8728.49,
          8708.32,
          8795.9,
          8760,
          8760,
          8759.23,
          8517.77,
          8520.3,
          8535.23,
          8546.34,
          8526.65,
          8555.6,
          8512.1,
          8492.28,
          8460,
          8474.99,
          8455.92,
          8326.28,
          8133.43,
          8164.79,
          8229.38,
          8220.4,
          8238.8,
          8232.99,
          8207.48,
          8243.45,
          8371.13,
          8373,
          8365.08,
          8179.99,
          8225,
          8285.8,
          8273.4,
          8297.4,
          8279.89,
          8252.72,
          8302.18,
          8295.85,
          8277.25,
          8346.59,
          8358.3,
          8375.1,
          8368.62,
          8366.72,
          8314.77,
          8363.7,
          8344.16,
          8247.4,
          8277.4,
          8291.67,
          8307.89,
          8298.9,
          8269.47,
          8300.98,
          8318.49,
          8306.39,
          8276.43,
          8257.69,
          8166,
          8176.33,
          8200.7,
          8155.41,
          8080,
          8067.03,
          7958.08,
          7974.25,
          7998.5,
          7991.99,
          8022.7,
          8042.97,
          7965.67,
          8088.95,
          8122.19,
          8107.99,
          8137.73,
          8115,
          8107,
          8094.4,
          8080.01,
          8117.09,
          8126.99,
          8110.95,
          8215.39,
          8231.42,
          8240.13,
          8235,
          8219.9,
          8248.87,
          8213.5,
          8200.99,
          8200,
          8237.3,
          8228.13,
          8240.83,
          8214.9,
          8170.07,
          8229.87,
          8205.87,
          8252.56,
          8365,
          8348.65,
          8303.99,
          8310.48,
          8310,
          8289.87,
          8304.99,
          8301.35,
          8313.12,
          8240.07,
          8199.99,
          8226.98,
          8231.2,
          8198.89,
          8215.85,
          8279.99,
          8255.08,
          8270.4,
          8244.24,
          8239.12,
          8267.14,
          8282.27,
          8350.62,
          8336.6,
          8336.91,
          8311.21,
          8312.09,
          8345.19,
          8377.2,
          8481.11,
          8516.36,
          8524,
          8517.04,
          8558.5,
          8521.99,
          8484.93,
          8518.48,
          8488.99,
          8466.72,
          8492.55,
          8494.28,
          8510.95,
          8498.64,
          8551.1,
          8524.22,
          8510.11,
          8475.62,
          8476.58,
          8467.13,
          8499.84,
          8490.42,
          8407.09,
          8409.42,
          8400.96,
          8383.14,
          8350,
          8373.01,
          8412.8,
          8385.57,
          8408.53,
          8391.76,
          8367.36,
          8280.24,
          8297.91,
          8333.99,
          8285.29,
          8280,
          8317.02,
          8320.16,
          8295.9,
          8245.47,
          8264.98,
          8200,
          8170,
          8217,
          8231.63,
          8232.8,
          8225.38,
          8200.01,
          8219.98
         ],
         "yaxis": "y3"
        },
        {
         "mode": "lines",
         "name": "bitstamp:/USD:/free",
         "type": "scatter",
         "uid": "b7b5fee1-fcd9-4177-863c-64eba3d65df3",
         "xaxis": "x3",
         "y": [
          10000,
          10000,
          10000,
          2000,
          2000,
          2000,
          2000,
          2000,
          2000,
          2000,
          2000,
          2000,
          2000,
          2000,
          2000,
          2000,
          2000,
          2000,
          2000,
          2000,
          9585.64,
          9585.64,
          9585.64,
          9585.64,
          9585.64,
          1917.13,
          1917.13,
          1917.13,
          1917.13,
          9662.13,
          9662.13,
          9662.13,
          9662.13,
          9662.13,
          9662.13,
          9662.13,
          9662.13,
          9662.13,
          9662.13,
          9662.13,
          9662.13,
          9662.13,
          9662.13,
          9662.13,
          9662.13,
          5797.28,
          5797.28,
          5797.28,
          5797.28,
          5797.28,
          5797.28,
          5797.28,
          5797.28,
          5797.28,
          5797.28,
          5797.28,
          5797.28,
          5797.28,
          5797.28,
          5797.28,
          5797.28,
          9545.97,
          9545.97,
          9545.97,
          9545.97,
          9545.97,
          9545.97,
          9545.97,
          9545.97,
          9545.97,
          9545.97,
          9545.97,
          9545.97,
          9545.97,
          9545.97,
          9545.97,
          9545.97,
          9545.97,
          9545.97,
          9545.97,
          9545.97,
          9545.97,
          9545.97,
          9545.97,
          9545.97,
          9545.97,
          9545.97,
          9545.97,
          9545.97,
          9545.97,
          9545.97,
          9545.97,
          9545.97,
          9545.97,
          9545.97,
          9545.97,
          9545.97,
          9545.97,
          9545.97,
          9545.97,
          9545.97,
          9545.97,
          9545.97,
          9545.97,
          9545.97,
          9545.97,
          6682.18,
          6682.18,
          6682.18,
          6682.18,
          6682.18,
          6682.18,
          4677.53,
          4677.53,
          4677.53,
          4677.53,
          4677.53,
          4677.53,
          4677.53,
          4677.53,
          4677.53,
          4677.53,
          4677.53,
          4677.53,
          4677.53,
          4677.53,
          4677.53,
          4677.53,
          1871.01,
          1871.01,
          1871.01,
          6837.22,
          6837.22,
          6837.22,
          6837.22,
          6837.22,
          6837.22,
          6837.22,
          6837.22,
          6837.22,
          6837.22,
          6837.22,
          3418.61,
          3418.61,
          3418.61,
          3418.61,
          3418.61,
          3418.61,
          3418.61,
          3418.61,
          3418.61,
          3418.61,
          3418.61,
          3418.61,
          3418.61,
          3418.61,
          3418.61,
          3418.61,
          3418.61,
          3418.61,
          3418.61,
          3418.61,
          3418.61,
          3418.61,
          6731.11,
          0,
          0,
          0,
          0,
          0,
          0,
          0,
          0,
          0,
          0,
          0,
          0,
          0,
          0,
          0,
          0
         ],
         "yaxis": "y3"
        },
        {
         "mode": "lines",
         "name": "bitstamp:/USD:/locked",
         "type": "scatter",
         "uid": "99dd8a26-fe84-43a4-af3c-0c42748827c8",
         "xaxis": "x3",
         "y": [
          0,
          0,
          0,
          0,
          0,
          0,
          0,
          0,
          0,
          0,
          0,
          0,
          0,
          0,
          0,
          0,
          0,
          0,
          0,
          0,
          0,
          0,
          0,
          0,
          0,
          0,
          0,
          0,
          0,
          0,
          0,
          0,
          0,
          0,
          0,
          0,
          0,
          0,
          0,
          0,
          0,
          0,
          0,
          0,
          0,
          0,
          0,
          0,
          0,
          0,
          0,
          0,
          0,
          0,
          0,
          0,
          0,
          0,
          0,
          0,
          0,
          0,
          0,
          0,
          0,
          0,
          0,
          0,
          0,
          0,
          0,
          0,
          0,
          0,
          0,
          0,
          0,
          0,
          0,
          0,
          0,
          0,
          0,
          0,
          0,
          0,
          0,
          0,
          0,
          0,
          0,
          0,
          0,
          0,
          0,
          0,
          0,
          0,
          0,
          0,
          0,
          0,
          0,
          0,
          0,
          0,
          0,
          0,
          0,
          0,
          0,
          0,
          0,
          0,
          0,
          0,
          0,
          0,
          0,
          0,
          0,
          0,
          0,
          0,
          0,
          0,
          0,
          0,
          0,
          0,
          0,
          0,
          0,
          0,
          0,
          0,
          0,
          0,
          0,
          0,
          0,
          0,
          0,
          0,
          0,
          0,
          0,
          0,
          0,
          0,
          0,
          0,
          0,
          0,
          0,
          0,
          0,
          0,
          0,
          0,
          0,
          0,
          0,
          0,
          0,
          0,
          0,
          0,
          0,
          0,
          0,
          0,
          0,
          0,
          0,
          0,
          0,
          0,
          0,
          0,
          0
         ],
         "yaxis": "y3"
        },
        {
         "mode": "lines",
         "name": "bitstamp:/USD:/total",
         "type": "scatter",
         "uid": "bc6113cd-7ed0-47a2-b189-fba82d6153a0",
         "xaxis": "x3",
         "y": [
          10000,
          10000,
          10000,
          2000,
          2000,
          2000,
          2000,
          2000,
          2000,
          2000,
          2000,
          2000,
          2000,
          2000,
          2000,
          2000,
          2000,
          2000,
          2000,
          2000,
          9585.64,
          9585.64,
          9585.64,
          9585.64,
          9585.64,
          1917.13,
          1917.13,
          1917.13,
          1917.13,
          9662.13,
          9662.13,
          9662.13,
          9662.13,
          9662.13,
          9662.13,
          9662.13,
          9662.13,
          9662.13,
          9662.13,
          9662.13,
          9662.13,
          9662.13,
          9662.13,
          9662.13,
          9662.13,
          5797.28,
          5797.28,
          5797.28,
          5797.28,
          5797.28,
          5797.28,
          5797.28,
          5797.28,
          5797.28,
          5797.28,
          5797.28,
          5797.28,
          5797.28,
          5797.28,
          5797.28,
          5797.28,
          9545.97,
          9545.97,
          9545.97,
          9545.97,
          9545.97,
          9545.97,
          9545.97,
          9545.97,
          9545.97,
          9545.97,
          9545.97,
          9545.97,
          9545.97,
          9545.97,
          9545.97,
          9545.97,
          9545.97,
          9545.97,
          9545.97,
          9545.97,
          9545.97,
          9545.97,
          9545.97,
          9545.97,
          9545.97,
          9545.97,
          9545.97,
          9545.97,
          9545.97,
          9545.97,
          9545.97,
          9545.97,
          9545.97,
          9545.97,
          9545.97,
          9545.97,
          9545.97,
          9545.97,
          9545.97,
          9545.97,
          9545.97,
          9545.97,
          9545.97,
          9545.97,
          9545.97,
          6682.18,
          6682.18,
          6682.18,
          6682.18,
          6682.18,
          6682.18,
          4677.53,
          4677.53,
          4677.53,
          4677.53,
          4677.53,
          4677.53,
          4677.53,
          4677.53,
          4677.53,
          4677.53,
          4677.53,
          4677.53,
          4677.53,
          4677.53,
          4677.53,
          4677.53,
          1871.01,
          1871.01,
          1871.01,
          6837.22,
          6837.22,
          6837.22,
          6837.22,
          6837.22,
          6837.22,
          6837.22,
          6837.22,
          6837.22,
          6837.22,
          6837.22,
          3418.61,
          3418.61,
          3418.61,
          3418.61,
          3418.61,
          3418.61,
          3418.61,
          3418.61,
          3418.61,
          3418.61,
          3418.61,
          3418.61,
          3418.61,
          3418.61,
          3418.61,
          3418.61,
          3418.61,
          3418.61,
          3418.61,
          3418.61,
          3418.61,
          3418.61,
          6731.11,
          0,
          0,
          0,
          0,
          0,
          0,
          0,
          0,
          0,
          0,
          0,
          0,
          0,
          0,
          0,
          0
         ],
         "yaxis": "y3"
        },
        {
         "mode": "lines",
         "name": "bitstamp:/BTC:/free",
         "type": "scatter",
         "uid": "b9fb4513-0222-404a-adfd-0daee901fb10",
         "xaxis": "x3",
         "y": [
          10,
          10,
          10,
          10,
          10,
          10,
          10,
          10,
          10,
          10,
          10,
          10,
          10,
          10,
          10,
          10,
          10,
          10,
          10,
          10,
          10,
          10,
          10,
          10,
          10,
          10,
          10,
          10,
          10,
          10,
          10,
          10,
          10,
          10,
          10,
          10,
          10,
          10,
          10,
          10,
          10,
          10,
          10,
          10,
          10,
          10,
          10,
          10,
          10,
          10,
          10,
          10,
          10,
          10,
          10,
          10,
          10,
          10,
          10,
          10,
          10,
          10,
          10,
          10,
          10,
          10,
          10,
          10,
          10,
          10,
          10,
          10,
          10,
          10,
          10,
          10,
          10,
          10,
          10,
          10,
          10,
          10,
          10,
          10,
          10,
          10,
          10,
          10,
          10,
          10,
          10,
          10,
          10,
          10,
          10,
          10,
          10,
          10,
          10,
          10,
          10,
          10,
          10,
          10,
          10,
          10,
          10,
          10,
          10,
          10,
          10,
          10,
          10,
          10,
          10,
          10,
          10,
          10,
          10,
          10,
          10,
          10,
          10,
          10,
          10,
          10,
          10,
          10,
          10,
          10,
          10,
          10,
          10,
          10,
          10,
          10,
          10,
          10,
          10,
          10,
          10,
          10,
          10,
          10,
          10,
          10,
          10,
          10,
          10,
          10,
          10,
          10,
          10,
          10,
          10,
          10,
          10,
          10,
          10,
          10,
          10,
          10,
          10,
          10,
          10,
          10,
          10,
          10,
          10,
          10,
          10,
          10,
          10,
          10,
          10,
          10,
          10,
          10,
          10,
          10,
          10
         ],
         "yaxis": "y3"
        },
        {
         "mode": "lines",
         "name": "bitstamp:/BTC:/locked",
         "type": "scatter",
         "uid": "b528086b-2a60-427d-8bfd-a138812a9361",
         "xaxis": "x3",
         "y": [
          0,
          0,
          0,
          0.91378921,
          0.91378921,
          0.91378921,
          0.91378921,
          0.91378921,
          0.91378921,
          0.91378921,
          0.91378921,
          0.91378921,
          0.91378921,
          0.91378921,
          0.91378921,
          0.91378921,
          0.91378921,
          0.91378921,
          0.91378921,
          0.91378921,
          0,
          0,
          0,
          0,
          0,
          0.92798709,
          0.92798709,
          0.92798709,
          0.92798709,
          0,
          0,
          0,
          0,
          0,
          0,
          0,
          0,
          0,
          0,
          0,
          0,
          0,
          0,
          0,
          0,
          0.46044151,
          0.46044151,
          0.46044151,
          0.46044151,
          0.46044151,
          0.46044151,
          0.46044151,
          0.46044151,
          0.46044151,
          0.46044151,
          0.46044151,
          0.46044151,
          0.46044151,
          0.46044151,
          0.46044151,
          0.46044151,
          0,
          0,
          0,
          0,
          0,
          0,
          0,
          0,
          0,
          0,
          0,
          0,
          0,
          0,
          0,
          0,
          0,
          0,
          0,
          0,
          0,
          0,
          0,
          0,
          0,
          0,
          0,
          0,
          0,
          0,
          0,
          0,
          0,
          0,
          0,
          0,
          0,
          0,
          0,
          0,
          0,
          0,
          0,
          0,
          0,
          0.34358604,
          0.34358604,
          0.34358604,
          0.34358604,
          0.34358604,
          0.34358604,
          0.58732292,
          0.58732292,
          0.58732292,
          0.58732292,
          0.58732292,
          0.58732292,
          0.58732292,
          0.58732292,
          0.58732292,
          0.58732292,
          0.58732292,
          0.58732292,
          0.58732292,
          0.58732292,
          0.58732292,
          0.58732292,
          0.92395306,
          0.92395306,
          0.92395306,
          0.33663014,
          0.33663014,
          0.33663014,
          0.33663014,
          0.33663014,
          0.33663014,
          0.33663014,
          0.33663014,
          0.33663014,
          0.33663014,
          0.33663014,
          0.73788251,
          0.73788251,
          0.73788251,
          0.73788251,
          0.73788251,
          0.73788251,
          0.73788251,
          0.73788251,
          0.73788251,
          0.73788251,
          0.73788251,
          0.73788251,
          0.73788251,
          0.73788251,
          0.73788251,
          0.73788251,
          0.73788251,
          0.73788251,
          0.73788251,
          0.73788251,
          0.73788251,
          0.73788251,
          0.33663014,
          1.14537837,
          1.14537837,
          1.14537837,
          1.14537837,
          1.14537837,
          1.14537837,
          1.14537837,
          1.14537837,
          1.14537837,
          1.14537837,
          1.14537837,
          1.14537837,
          1.14537837,
          1.14537837,
          1.14537837,
          1.14537837
         ],
         "yaxis": "y3"
        },
        {
         "mode": "lines",
         "name": "bitstamp:/BTC:/total",
         "type": "scatter",
         "uid": "2ffc07fd-84ea-4e58-918c-419a185df287",
         "xaxis": "x3",
         "y": [
          10,
          10,
          10,
          10.91378921,
          10.91378921,
          10.91378921,
          10.91378921,
          10.91378921,
          10.91378921,
          10.91378921,
          10.91378921,
          10.91378921,
          10.91378921,
          10.91378921,
          10.91378921,
          10.91378921,
          10.91378921,
          10.91378921,
          10.91378921,
          10.91378921,
          10,
          10,
          10,
          10,
          10,
          10.92798709,
          10.92798709,
          10.92798709,
          10.92798709,
          10,
          10,
          10,
          10,
          10,
          10,
          10,
          10,
          10,
          10,
          10,
          10,
          10,
          10,
          10,
          10,
          10.46044151,
          10.46044151,
          10.46044151,
          10.46044151,
          10.46044151,
          10.46044151,
          10.46044151,
          10.46044151,
          10.46044151,
          10.46044151,
          10.46044151,
          10.46044151,
          10.46044151,
          10.46044151,
          10.46044151,
          10.46044151,
          10,
          10,
          10,
          10,
          10,
          10,
          10,
          10,
          10,
          10,
          10,
          10,
          10,
          10,
          10,
          10,
          10,
          10,
          10,
          10,
          10,
          10,
          10,
          10,
          10,
          10,
          10,
          10,
          10,
          10,
          10,
          10,
          10,
          10,
          10,
          10,
          10,
          10,
          10,
          10,
          10,
          10,
          10,
          10,
          10,
          10.34358604,
          10.34358604,
          10.34358604,
          10.34358604,
          10.34358604,
          10.34358604,
          10.58732292,
          10.58732292,
          10.58732292,
          10.58732292,
          10.58732292,
          10.58732292,
          10.58732292,
          10.58732292,
          10.58732292,
          10.58732292,
          10.58732292,
          10.58732292,
          10.58732292,
          10.58732292,
          10.58732292,
          10.58732292,
          10.92395306,
          10.92395306,
          10.92395306,
          10.33663014,
          10.33663014,
          10.33663014,
          10.33663014,
          10.33663014,
          10.33663014,
          10.33663014,
          10.33663014,
          10.33663014,
          10.33663014,
          10.33663014,
          10.73788251,
          10.73788251,
          10.73788251,
          10.73788251,
          10.73788251,
          10.73788251,
          10.73788251,
          10.73788251,
          10.73788251,
          10.73788251,
          10.73788251,
          10.73788251,
          10.73788251,
          10.73788251,
          10.73788251,
          10.73788251,
          10.73788251,
          10.73788251,
          10.73788251,
          10.73788251,
          10.73788251,
          10.73788251,
          10.33663014,
          11.14537837,
          11.14537837,
          11.14537837,
          11.14537837,
          11.14537837,
          11.14537837,
          11.14537837,
          11.14537837,
          11.14537837,
          11.14537837,
          11.14537837,
          11.14537837,
          11.14537837,
          11.14537837,
          11.14537837,
          11.14537837
         ],
         "yaxis": "y3"
        },
        {
         "mode": "lines",
         "name": "bitstamp:/BTC:/worth",
         "type": "scatter",
         "uid": "66a51bd5-08f5-4308-b164-b740b790d342",
         "xaxis": "x3",
         "y": [
          87409.9,
          87390,
          87284.9,
          95040.76885322719,
          95996.59851223898,
          95604.79347959999,
          95604.79347959999,
          95596.38986190829,
          92961.1463192617,
          92988.75820596298,
          93151.70107886828,
          93272.9532769914,
          93058.06076744648,
          93374.014965076,
          92899.265134441,
          92682.9538322988,
          92330.65671659999,
          92494.25441685789,
          92286.12845662319,
          90871.2648234388,
          81334.3,
          81647.9,
          82293.79999999999,
          82204,
          82388,
          89970.0084320991,
          89691.23548143319,
          90084.3151770605,
          91479.6005687117,
          83730,
          83650.8,
          81799.9,
          82250,
          82858,
          82734,
          82974,
          82798.9,
          82527.2,
          83021.8,
          82958.5,
          82772.5,
          83465.9,
          83583,
          83751,
          83686.20000000001,
          87519.5851905472,
          86976.16525410271,
          87487.99465718701,
          87283.59763008161,
          86271.445309574,
          86585.258554874,
          86734.5290552217,
          86904.1974165139,
          86810.158047339,
          86502.3072536997,
          86831.9157656798,
          87015.07809651991,
          86888.5067542489,
          86575.11192660932,
          86379.0832527119,
          85419.96537066001,
          81763.3,
          82007,
          81554.1,
          80800,
          80670.3,
          79580.8,
          79742.5,
          79985,
          79919.9,
          80227,
          80429.7,
          79656.7,
          80889.5,
          81221.9,
          81079.9,
          81377.29999999999,
          81150,
          81070,
          80944,
          80800.1,
          81170.9,
          81269.9,
          81109.5,
          82153.9,
          82314.2,
          82401.29999999999,
          82350,
          82199,
          82488.70000000001,
          82135,
          82009.9,
          82000,
          82373,
          82281.29999999999,
          82408.3,
          82149,
          81700.7,
          82298.70000000001,
          82058.70000000001,
          82525.59999999999,
          83650,
          83486.5,
          83039.9,
          83104.79999999999,
          83100,
          85746.9836054148,
          85903.3786263396,
          85865.727973154,
          85987.47198084481,
          85231.87302062279,
          84817.3020921396,
          87101.6939163816,
          87146.37241910401,
          86804.2960155588,
          86983.85701228201,
          87662.9279043708,
          87399.1976904336,
          87561.395477568,
          87284.4311099808,
          87230.22401663041,
          87526.8808048488,
          87687.0670006284,
          88410.71052221041,
          88262.276254872,
          88265.5583249772,
          87993.4641259332,
          88002.7809701028,
          91162.4638367814,
          91512.13957423202,
          92647.24753669661,
          88030.46345909042,
          88109.43531336001,
          88037.49236758561,
          88466.04905319,
          88088.6586867786,
          87705.5831737902,
          88052.3771149872,
          87747.5498921586,
          87517.3531389408,
          87784.34829545699,
          87802.23066559921,
          91389.58114848452,
          91257.3978147864,
          91820.707131261,
          91532.07284939219,
          91380.56132717611,
          91010.21175940621,
          91020.5201266158,
          90919.04713689629,
          91270.2832737984,
          91169.1324205542,
          90274.34467099591,
          90299.3639372442,
          90208.5214512096,
          90017.1723848814,
          89661.31895850001,
          89908.39763505511,
          90335.657980128,
          90043.2654393807,
          90289.8072218103,
          90109.73293211761,
          89847.72859887361,
          88912.2442746024,
          85772.42660500741,
          92885.4718817963,
          92342.6919551773,
          92283.7329036,
          92696.3348108574,
          92731.3312989392,
          92460.94441968299,
          91898.88298848389,
          92116.32932048259,
          91392.102634,
          91057.7412829,
          91581.57406628999,
          91744.6309518431,
          91757.671044536,
          91674.97233703059,
          91392.2140877837,
          91614.78729383259
         ],
         "yaxis": "y3"
        },
        {
         "mode": "lines",
         "name": "net_worth",
         "type": "scatter",
         "uid": "81910362-5a88-461a-9686-2e0579338611",
         "xaxis": "x3",
         "y": [
          97409.9,
          97390,
          97284.9,
          97040.76885322719,
          97996.59851223898,
          97604.79347959999,
          97604.79347959999,
          97596.38986190829,
          94961.1463192617,
          94988.75820596298,
          95151.70107886828,
          95272.9532769914,
          95058.06076744648,
          95374.014965076,
          94899.265134441,
          94682.9538322988,
          94330.65671659999,
          94494.25441685789,
          94286.12845662319,
          92871.2648234388,
          90919.94,
          91233.54,
          91879.43999999999,
          91789.64,
          91973.64,
          91887.1384320991,
          91608.3654814332,
          92001.44517706051,
          93396.7305687117,
          93392.13,
          93312.93000000001,
          91462.03,
          91912.13,
          92520.13,
          92396.13,
          92636.13,
          92461.03,
          92189.33,
          92683.93000000001,
          92620.63,
          92434.63,
          93128.03,
          93245.13,
          93413.13,
          93348.33000000002,
          93316.86519054719,
          92773.44525410271,
          93285.27465718701,
          93080.87763008161,
          92068.725309574,
          92382.538554874,
          92531.8090552217,
          92701.4774165139,
          92607.438047339,
          92299.5872536997,
          92629.1957656798,
          92812.3580965199,
          92685.7867542489,
          92372.39192660931,
          92176.3632527119,
          91217.24537066,
          91309.27,
          91552.97,
          91100.07,
          90345.97,
          90216.27,
          89126.77,
          89288.47,
          89530.97,
          89465.87,
          89772.97,
          89975.67,
          89202.67,
          90435.47,
          90767.87,
          90625.87,
          90923.26999999999,
          90695.97,
          90615.97,
          90489.97,
          90346.07,
          90716.87,
          90815.87,
          90655.47,
          91699.87,
          91860.17,
          91947.26999999999,
          91895.97,
          91744.97,
          92034.67000000001,
          91680.97,
          91555.87,
          91545.97,
          91918.97,
          91827.26999999999,
          91954.27,
          91694.97,
          91246.67,
          91844.67000000001,
          91604.67000000001,
          92071.56999999999,
          93195.97,
          93032.47,
          92585.87,
          92650.76999999999,
          92645.97,
          92429.1636054148,
          92585.5586263396,
          92547.90797315401,
          92669.65198084482,
          91914.05302062278,
          91499.4820921396,
          91779.2239163816,
          91823.90241910401,
          91481.82601555879,
          91661.38701228201,
          92340.45790437079,
          92076.7276904336,
          92238.925477568,
          91961.9611099808,
          91907.75401663041,
          92204.4108048488,
          92364.5970006284,
          93088.24052221041,
          92939.806254872,
          92943.0883249772,
          92670.9941259332,
          92680.3109701028,
          93033.4738367814,
          93383.14957423201,
          94518.2575366966,
          94867.68345909042,
          94946.65531336001,
          94874.71236758561,
          95303.26905319,
          94925.8786867786,
          94542.8031737902,
          94889.5971149872,
          94584.7698921586,
          94354.5731389408,
          94621.568295457,
          94639.45066559922,
          94808.19114848452,
          94676.0078147864,
          95239.317131261,
          94950.6828493922,
          94799.17132717611,
          94428.82175940622,
          94439.1301266158,
          94337.65713689629,
          94688.8932737984,
          94587.7424205542,
          93692.95467099591,
          93717.9739372442,
          93627.1314512096,
          93435.7823848814,
          93079.92895850001,
          93327.00763505511,
          93754.267980128,
          93461.8754393807,
          93708.4172218103,
          93528.34293211761,
          93266.33859887361,
          92330.8542746024,
          92503.53660500741,
          92885.4718817963,
          92342.6919551773,
          92283.7329036,
          92696.3348108574,
          92731.3312989392,
          92460.94441968299,
          91898.88298848389,
          92116.32932048259,
          91392.102634,
          91057.7412829,
          91581.57406628999,
          91744.6309518431,
          91757.671044536,
          91674.97233703059,
          91392.2140877837,
          91614.78729383259
         ],
         "yaxis": "y3"
        },
        {
         "marker": {
          "color": "DarkGreen"
         },
         "mode": "lines",
         "name": "Net Worth",
         "type": "scatter",
         "uid": "2a16b7a4-6c62-48f6-86ee-f813f28782f1",
         "xaxis": "x4",
         "y": [
          97409.9,
          97390,
          97284.9,
          97040.76885322719,
          97996.59851223898,
          97604.79347959999,
          97604.79347959999,
          97596.38986190829,
          94961.1463192617,
          94988.75820596298,
          95151.70107886828,
          95272.9532769914,
          95058.06076744648,
          95374.014965076,
          94899.265134441,
          94682.9538322988,
          94330.65671659999,
          94494.25441685789,
          94286.12845662319,
          92871.2648234388,
          90919.94,
          91233.54,
          91879.43999999999,
          91789.64,
          91973.64,
          91887.1384320991,
          91608.3654814332,
          92001.44517706051,
          93396.7305687117,
          93392.13,
          93312.93000000001,
          91462.03,
          91912.13,
          92520.13,
          92396.13,
          92636.13,
          92461.03,
          92189.33,
          92683.93000000001,
          92620.63,
          92434.63,
          93128.03,
          93245.13,
          93413.13,
          93348.33000000002,
          93316.86519054719,
          92773.44525410271,
          93285.27465718701,
          93080.87763008161,
          92068.725309574,
          92382.538554874,
          92531.8090552217,
          92701.4774165139,
          92607.438047339,
          92299.5872536997,
          92629.1957656798,
          92812.3580965199,
          92685.7867542489,
          92372.39192660931,
          92176.3632527119,
          91217.24537066,
          91309.27,
          91552.97,
          91100.07,
          90345.97,
          90216.27,
          89126.77,
          89288.47,
          89530.97,
          89465.87,
          89772.97,
          89975.67,
          89202.67,
          90435.47,
          90767.87,
          90625.87,
          90923.26999999999,
          90695.97,
          90615.97,
          90489.97,
          90346.07,
          90716.87,
          90815.87,
          90655.47,
          91699.87,
          91860.17,
          91947.26999999999,
          91895.97,
          91744.97,
          92034.67000000001,
          91680.97,
          91555.87,
          91545.97,
          91918.97,
          91827.26999999999,
          91954.27,
          91694.97,
          91246.67,
          91844.67000000001,
          91604.67000000001,
          92071.56999999999,
          93195.97,
          93032.47,
          92585.87,
          92650.76999999999,
          92645.97,
          92429.1636054148,
          92585.5586263396,
          92547.90797315401,
          92669.65198084482,
          91914.05302062278,
          91499.4820921396,
          91779.2239163816,
          91823.90241910401,
          91481.82601555879,
          91661.38701228201,
          92340.45790437079,
          92076.7276904336,
          92238.925477568,
          91961.9611099808,
          91907.75401663041,
          92204.4108048488,
          92364.5970006284,
          93088.24052221041,
          92939.806254872,
          92943.0883249772,
          92670.9941259332,
          92680.3109701028,
          93033.4738367814,
          93383.14957423201,
          94518.2575366966,
          94867.68345909042,
          94946.65531336001,
          94874.71236758561,
          95303.26905319,
          94925.8786867786,
          94542.8031737902,
          94889.5971149872,
          94584.7698921586,
          94354.5731389408,
          94621.568295457,
          94639.45066559922,
          94808.19114848452,
          94676.0078147864,
          95239.317131261,
          94950.6828493922,
          94799.17132717611,
          94428.82175940622,
          94439.1301266158,
          94337.65713689629,
          94688.8932737984,
          94587.7424205542,
          93692.95467099591,
          93717.9739372442,
          93627.1314512096,
          93435.7823848814,
          93079.92895850001,
          93327.00763505511,
          93754.267980128,
          93461.8754393807,
          93708.4172218103,
          93528.34293211761,
          93266.33859887361,
          92330.8542746024,
          92503.53660500741,
          92885.4718817963,
          92342.6919551773,
          92283.7329036,
          92696.3348108574,
          92731.3312989392,
          92460.94441968299,
          91898.88298848389,
          92116.32932048259,
          91392.102634,
          91057.7412829,
          91581.57406628999,
          91744.6309518431,
          91757.671044536,
          91674.97233703059,
          91392.2140877837,
          91614.78729383259
         ],
         "yaxis": "y4"
        }
       ],
       "layout": {
        "annotations": [
         {
          "arrowcolor": "FireBrick",
          "arrowhead": 2,
          "arrowsize": 0.8,
          "arrowwidth": 4,
          "ax": 0,
          "ay": -15,
          "hoverlabel": {
           "bgcolor": "FireBrick"
          },
          "hovertext": "Step 20 [2018-05-16 01:00:00]<br>SELL 0.91104784 BTC @ 8326.28 USD MARKET<br>Total: 7585.64 USD - Comm.: 0.00274137 BTC",
          "opacity": 0.6,
          "showarrow": true,
          "x": 19,
          "xref": "x",
          "y": 8326.28,
          "yref": "y"
         },
         {
          "arrowcolor": "DarkGreen",
          "arrowhead": 2,
          "arrowsize": 0.8,
          "arrowwidth": 4,
          "ax": 0,
          "ay": 15,
          "hoverlabel": {
           "bgcolor": "DarkGreen"
          },
          "hovertext": "Step 3 [2018-05-15 08:00:00]<br>BUY 0.91378921 BTC @ 8728.49 USD MARKET<br>Total: 7976.0 USD - Comm.: 24.00 USD",
          "opacity": 0.6,
          "showarrow": true,
          "x": 2,
          "xref": "x",
          "y": 8728.49,
          "yref": "y"
         },
         {
          "arrowcolor": "FireBrick",
          "arrowhead": 2,
          "arrowsize": 0.8,
          "arrowwidth": 4,
          "ax": 0,
          "ay": -15,
          "hoverlabel": {
           "bgcolor": "FireBrick"
          },
          "hovertext": "Step 29 [2018-05-16 10:00:00]<br>SELL 0.92520313 BTC @ 8371.13 USD MARKET<br>Total: 7745.0 USD - Comm.: 0.00278396 BTC",
          "opacity": 0.6,
          "showarrow": true,
          "x": 28,
          "xref": "x",
          "y": 8371.13,
          "yref": "y"
         },
         {
          "arrowcolor": "DarkGreen",
          "arrowhead": 2,
          "arrowsize": 0.8,
          "arrowwidth": 4,
          "ax": 0,
          "ay": 15,
          "hoverlabel": {
           "bgcolor": "DarkGreen"
          },
          "hovertext": "Step 25 [2018-05-16 06:00:00]<br>BUY 0.92798709 BTC @ 8238.8 USD MARKET<br>Total: 7645.5 USD - Comm.: 23.01 USD",
          "opacity": 0.6,
          "showarrow": true,
          "x": 24,
          "xref": "x",
          "y": 8238.8,
          "yref": "y"
         },
         {
          "arrowcolor": "DarkGreen",
          "arrowhead": 2,
          "arrowsize": 0.8,
          "arrowwidth": 4,
          "ax": 0,
          "ay": 15,
          "hoverlabel": {
           "bgcolor": "DarkGreen"
          },
          "hovertext": "Step 45 [2018-05-17 02:00:00]<br>BUY 0.46044151 BTC @ 8368.62 USD MARKET<br>Total: 3853.26 USD - Comm.: 11.59 USD",
          "opacity": 0.6,
          "showarrow": true,
          "x": 44,
          "xref": "x",
          "y": 8368.62,
          "yref": "y"
         },
         {
          "arrowcolor": "FireBrick",
          "arrowhead": 2,
          "arrowsize": 0.8,
          "arrowwidth": 4,
          "ax": 0,
          "ay": -15,
          "hoverlabel": {
           "bgcolor": "FireBrick"
          },
          "hovertext": "Step 61 [2018-05-17 18:00:00]<br>SELL 0.45906019 BTC @ 8166.0 USD MARKET<br>Total: 3748.69 USD - Comm.: 0.00138132 BTC",
          "opacity": 0.6,
          "showarrow": true,
          "x": 60,
          "xref": "x",
          "y": 8166,
          "yref": "y"
         },
         {
          "arrowcolor": "DarkGreen",
          "arrowhead": 2,
          "arrowsize": 0.8,
          "arrowwidth": 4,
          "ax": 0,
          "ay": 15,
          "hoverlabel": {
           "bgcolor": "DarkGreen"
          },
          "hovertext": "Step 112 [2018-05-19 21:00:00]<br>BUY 0.24373688 BTC @ 8199.99 USD MARKET<br>Total: 1998.64 USD - Comm.: 6.01 USD",
          "opacity": 0.6,
          "showarrow": true,
          "x": 111,
          "xref": "x",
          "y": 8199.99,
          "yref": "y"
         },
         {
          "arrowcolor": "DarkGreen",
          "arrowhead": 2,
          "arrowsize": 0.8,
          "arrowwidth": 4,
          "ax": 0,
          "ay": 15,
          "hoverlabel": {
           "bgcolor": "DarkGreen"
          },
          "hovertext": "Step 106 [2018-05-19 15:00:00]<br>BUY 0.34358604 BTC @ 8310.0 USD MARKET<br>Total: 2855.2 USD - Comm.: 8.59 USD",
          "opacity": 0.6,
          "showarrow": true,
          "x": 105,
          "xref": "x",
          "y": 8310,
          "yref": "y"
         },
         {
          "arrowcolor": "FireBrick",
          "arrowhead": 2,
          "arrowsize": 0.8,
          "arrowwidth": 4,
          "ax": 0,
          "ay": -15,
          "hoverlabel": {
           "bgcolor": "FireBrick"
          },
          "hovertext": "Step 131 [2018-05-20 16:00:00]<br>SELL 0.24300567 BTC @ 8481.11 USD MARKET<br>Total: 2060.96 USD - Comm.: 0.00073121 BTC",
          "opacity": 0.6,
          "showarrow": true,
          "x": 130,
          "xref": "x",
          "y": 8481.11,
          "yref": "y"
         },
         {
          "arrowcolor": "FireBrick",
          "arrowhead": 2,
          "arrowsize": 0.8,
          "arrowwidth": 4,
          "ax": 0,
          "ay": -15,
          "hoverlabel": {
           "bgcolor": "FireBrick"
          },
          "hovertext": "Step 131 [2018-05-20 16:00:00]<br>SELL 0.34255528 BTC @ 8481.11 USD MARKET<br>Total: 2905.25 USD - Comm.: 0.00103076 BTC",
          "opacity": 0.6,
          "showarrow": true,
          "x": 130,
          "xref": "x",
          "y": 8481.11,
          "yref": "y"
         },
         {
          "arrowcolor": "DarkGreen",
          "arrowhead": 2,
          "arrowsize": 0.8,
          "arrowwidth": 4,
          "ax": 0,
          "ay": 15,
          "hoverlabel": {
           "bgcolor": "DarkGreen"
          },
          "hovertext": "Step 128 [2018-05-20 13:00:00]<br>BUY 0.33663014 BTC @ 8312.09 USD MARKET<br>Total: 2798.1 USD - Comm.: 8.42 USD",
          "opacity": 0.6,
          "showarrow": true,
          "x": 127,
          "xref": "x",
          "y": 8312.09,
          "yref": "y"
         },
         {
          "arrowcolor": "DarkGreen",
          "arrowhead": 2,
          "arrowsize": 0.8,
          "arrowwidth": 4,
          "ax": 0,
          "ay": 15,
          "hoverlabel": {
           "bgcolor": "DarkGreen"
          },
          "hovertext": "Step 142 [2018-05-21 03:00:00]<br>BUY 0.40125237 BTC @ 8494.28 USD MARKET<br>Total: 3408.35 USD - Comm.: 10.26 USD",
          "opacity": 0.6,
          "showarrow": true,
          "x": 141,
          "xref": "x",
          "y": 8494.28,
          "yref": "y"
         },
         {
          "arrowcolor": "DarkGreen",
          "arrowhead": 2,
          "arrowsize": 0.8,
          "arrowwidth": 4,
          "ax": 0,
          "ay": 15,
          "hoverlabel": {
           "bgcolor": "DarkGreen"
          },
          "hovertext": "Step 165 [2018-05-22 02:00:00]<br>BUY 0.80874823 BTC @ 8297.91 USD MARKET<br>Total: 6710.92 USD - Comm.: 20.19 USD",
          "opacity": 0.6,
          "showarrow": true,
          "x": 164,
          "xref": "x",
          "y": 8297.91,
          "yref": "y"
         },
         {
          "arrowcolor": "FireBrick",
          "arrowhead": 2,
          "arrowsize": 0.8,
          "arrowwidth": 4,
          "ax": 0,
          "ay": -15,
          "hoverlabel": {
           "bgcolor": "FireBrick"
          },
          "hovertext": "Step 164 [2018-05-22 01:00:00]<br>SELL 0.40004861 BTC @ 8280.24 USD MARKET<br>Total: 3312.5 USD - Comm.: 0.00120376 BTC",
          "opacity": 0.6,
          "showarrow": true,
          "x": 163,
          "xref": "x",
          "y": 8280.24,
          "yref": "y"
         }
        ],
        "margin": {
         "t": 50
        },
        "template": {
         "data": {
          "bar": [
           {
            "error_x": {
             "color": "#2a3f5f"
            },
            "error_y": {
             "color": "#2a3f5f"
            },
            "marker": {
             "line": {
              "color": "white",
              "width": 0.5
             },
             "pattern": {
              "fillmode": "overlay",
              "size": 10,
              "solidity": 0.2
             }
            },
            "type": "bar"
           }
          ],
          "barpolar": [
           {
            "marker": {
             "line": {
              "color": "white",
              "width": 0.5
             },
             "pattern": {
              "fillmode": "overlay",
              "size": 10,
              "solidity": 0.2
             }
            },
            "type": "barpolar"
           }
          ],
          "carpet": [
           {
            "aaxis": {
             "endlinecolor": "#2a3f5f",
             "gridcolor": "#C8D4E3",
             "linecolor": "#C8D4E3",
             "minorgridcolor": "#C8D4E3",
             "startlinecolor": "#2a3f5f"
            },
            "baxis": {
             "endlinecolor": "#2a3f5f",
             "gridcolor": "#C8D4E3",
             "linecolor": "#C8D4E3",
             "minorgridcolor": "#C8D4E3",
             "startlinecolor": "#2a3f5f"
            },
            "type": "carpet"
           }
          ],
          "choropleth": [
           {
            "colorbar": {
             "outlinewidth": 0,
             "ticks": ""
            },
            "type": "choropleth"
           }
          ],
          "contour": [
           {
            "colorbar": {
             "outlinewidth": 0,
             "ticks": ""
            },
            "colorscale": [
             [
              0,
              "#0d0887"
             ],
             [
              0.1111111111111111,
              "#46039f"
             ],
             [
              0.2222222222222222,
              "#7201a8"
             ],
             [
              0.3333333333333333,
              "#9c179e"
             ],
             [
              0.4444444444444444,
              "#bd3786"
             ],
             [
              0.5555555555555556,
              "#d8576b"
             ],
             [
              0.6666666666666666,
              "#ed7953"
             ],
             [
              0.7777777777777778,
              "#fb9f3a"
             ],
             [
              0.8888888888888888,
              "#fdca26"
             ],
             [
              1,
              "#f0f921"
             ]
            ],
            "type": "contour"
           }
          ],
          "contourcarpet": [
           {
            "colorbar": {
             "outlinewidth": 0,
             "ticks": ""
            },
            "type": "contourcarpet"
           }
          ],
          "heatmap": [
           {
            "colorbar": {
             "outlinewidth": 0,
             "ticks": ""
            },
            "colorscale": [
             [
              0,
              "#0d0887"
             ],
             [
              0.1111111111111111,
              "#46039f"
             ],
             [
              0.2222222222222222,
              "#7201a8"
             ],
             [
              0.3333333333333333,
              "#9c179e"
             ],
             [
              0.4444444444444444,
              "#bd3786"
             ],
             [
              0.5555555555555556,
              "#d8576b"
             ],
             [
              0.6666666666666666,
              "#ed7953"
             ],
             [
              0.7777777777777778,
              "#fb9f3a"
             ],
             [
              0.8888888888888888,
              "#fdca26"
             ],
             [
              1,
              "#f0f921"
             ]
            ],
            "type": "heatmap"
           }
          ],
          "heatmapgl": [
           {
            "colorbar": {
             "outlinewidth": 0,
             "ticks": ""
            },
            "colorscale": [
             [
              0,
              "#0d0887"
             ],
             [
              0.1111111111111111,
              "#46039f"
             ],
             [
              0.2222222222222222,
              "#7201a8"
             ],
             [
              0.3333333333333333,
              "#9c179e"
             ],
             [
              0.4444444444444444,
              "#bd3786"
             ],
             [
              0.5555555555555556,
              "#d8576b"
             ],
             [
              0.6666666666666666,
              "#ed7953"
             ],
             [
              0.7777777777777778,
              "#fb9f3a"
             ],
             [
              0.8888888888888888,
              "#fdca26"
             ],
             [
              1,
              "#f0f921"
             ]
            ],
            "type": "heatmapgl"
           }
          ],
          "histogram": [
           {
            "marker": {
             "pattern": {
              "fillmode": "overlay",
              "size": 10,
              "solidity": 0.2
             }
            },
            "type": "histogram"
           }
          ],
          "histogram2d": [
           {
            "colorbar": {
             "outlinewidth": 0,
             "ticks": ""
            },
            "colorscale": [
             [
              0,
              "#0d0887"
             ],
             [
              0.1111111111111111,
              "#46039f"
             ],
             [
              0.2222222222222222,
              "#7201a8"
             ],
             [
              0.3333333333333333,
              "#9c179e"
             ],
             [
              0.4444444444444444,
              "#bd3786"
             ],
             [
              0.5555555555555556,
              "#d8576b"
             ],
             [
              0.6666666666666666,
              "#ed7953"
             ],
             [
              0.7777777777777778,
              "#fb9f3a"
             ],
             [
              0.8888888888888888,
              "#fdca26"
             ],
             [
              1,
              "#f0f921"
             ]
            ],
            "type": "histogram2d"
           }
          ],
          "histogram2dcontour": [
           {
            "colorbar": {
             "outlinewidth": 0,
             "ticks": ""
            },
            "colorscale": [
             [
              0,
              "#0d0887"
             ],
             [
              0.1111111111111111,
              "#46039f"
             ],
             [
              0.2222222222222222,
              "#7201a8"
             ],
             [
              0.3333333333333333,
              "#9c179e"
             ],
             [
              0.4444444444444444,
              "#bd3786"
             ],
             [
              0.5555555555555556,
              "#d8576b"
             ],
             [
              0.6666666666666666,
              "#ed7953"
             ],
             [
              0.7777777777777778,
              "#fb9f3a"
             ],
             [
              0.8888888888888888,
              "#fdca26"
             ],
             [
              1,
              "#f0f921"
             ]
            ],
            "type": "histogram2dcontour"
           }
          ],
          "mesh3d": [
           {
            "colorbar": {
             "outlinewidth": 0,
             "ticks": ""
            },
            "type": "mesh3d"
           }
          ],
          "parcoords": [
           {
            "line": {
             "colorbar": {
              "outlinewidth": 0,
              "ticks": ""
             }
            },
            "type": "parcoords"
           }
          ],
          "pie": [
           {
            "automargin": true,
            "type": "pie"
           }
          ],
          "scatter": [
           {
            "marker": {
             "colorbar": {
              "outlinewidth": 0,
              "ticks": ""
             }
            },
            "type": "scatter"
           }
          ],
          "scatter3d": [
           {
            "line": {
             "colorbar": {
              "outlinewidth": 0,
              "ticks": ""
             }
            },
            "marker": {
             "colorbar": {
              "outlinewidth": 0,
              "ticks": ""
             }
            },
            "type": "scatter3d"
           }
          ],
          "scattercarpet": [
           {
            "marker": {
             "colorbar": {
              "outlinewidth": 0,
              "ticks": ""
             }
            },
            "type": "scattercarpet"
           }
          ],
          "scattergeo": [
           {
            "marker": {
             "colorbar": {
              "outlinewidth": 0,
              "ticks": ""
             }
            },
            "type": "scattergeo"
           }
          ],
          "scattergl": [
           {
            "marker": {
             "colorbar": {
              "outlinewidth": 0,
              "ticks": ""
             }
            },
            "type": "scattergl"
           }
          ],
          "scattermapbox": [
           {
            "marker": {
             "colorbar": {
              "outlinewidth": 0,
              "ticks": ""
             }
            },
            "type": "scattermapbox"
           }
          ],
          "scatterpolar": [
           {
            "marker": {
             "colorbar": {
              "outlinewidth": 0,
              "ticks": ""
             }
            },
            "type": "scatterpolar"
           }
          ],
          "scatterpolargl": [
           {
            "marker": {
             "colorbar": {
              "outlinewidth": 0,
              "ticks": ""
             }
            },
            "type": "scatterpolargl"
           }
          ],
          "scatterternary": [
           {
            "marker": {
             "colorbar": {
              "outlinewidth": 0,
              "ticks": ""
             }
            },
            "type": "scatterternary"
           }
          ],
          "surface": [
           {
            "colorbar": {
             "outlinewidth": 0,
             "ticks": ""
            },
            "colorscale": [
             [
              0,
              "#0d0887"
             ],
             [
              0.1111111111111111,
              "#46039f"
             ],
             [
              0.2222222222222222,
              "#7201a8"
             ],
             [
              0.3333333333333333,
              "#9c179e"
             ],
             [
              0.4444444444444444,
              "#bd3786"
             ],
             [
              0.5555555555555556,
              "#d8576b"
             ],
             [
              0.6666666666666666,
              "#ed7953"
             ],
             [
              0.7777777777777778,
              "#fb9f3a"
             ],
             [
              0.8888888888888888,
              "#fdca26"
             ],
             [
              1,
              "#f0f921"
             ]
            ],
            "type": "surface"
           }
          ],
          "table": [
           {
            "cells": {
             "fill": {
              "color": "#EBF0F8"
             },
             "line": {
              "color": "white"
             }
            },
            "header": {
             "fill": {
              "color": "#C8D4E3"
             },
             "line": {
              "color": "white"
             }
            },
            "type": "table"
           }
          ]
         },
         "layout": {
          "annotationdefaults": {
           "arrowcolor": "#2a3f5f",
           "arrowhead": 0,
           "arrowwidth": 1
          },
          "autotypenumbers": "strict",
          "coloraxis": {
           "colorbar": {
            "outlinewidth": 0,
            "ticks": ""
           }
          },
          "colorscale": {
           "diverging": [
            [
             0,
             "#8e0152"
            ],
            [
             0.1,
             "#c51b7d"
            ],
            [
             0.2,
             "#de77ae"
            ],
            [
             0.3,
             "#f1b6da"
            ],
            [
             0.4,
             "#fde0ef"
            ],
            [
             0.5,
             "#f7f7f7"
            ],
            [
             0.6,
             "#e6f5d0"
            ],
            [
             0.7,
             "#b8e186"
            ],
            [
             0.8,
             "#7fbc41"
            ],
            [
             0.9,
             "#4d9221"
            ],
            [
             1,
             "#276419"
            ]
           ],
           "sequential": [
            [
             0,
             "#0d0887"
            ],
            [
             0.1111111111111111,
             "#46039f"
            ],
            [
             0.2222222222222222,
             "#7201a8"
            ],
            [
             0.3333333333333333,
             "#9c179e"
            ],
            [
             0.4444444444444444,
             "#bd3786"
            ],
            [
             0.5555555555555556,
             "#d8576b"
            ],
            [
             0.6666666666666666,
             "#ed7953"
            ],
            [
             0.7777777777777778,
             "#fb9f3a"
            ],
            [
             0.8888888888888888,
             "#fdca26"
            ],
            [
             1,
             "#f0f921"
            ]
           ],
           "sequentialminus": [
            [
             0,
             "#0d0887"
            ],
            [
             0.1111111111111111,
             "#46039f"
            ],
            [
             0.2222222222222222,
             "#7201a8"
            ],
            [
             0.3333333333333333,
             "#9c179e"
            ],
            [
             0.4444444444444444,
             "#bd3786"
            ],
            [
             0.5555555555555556,
             "#d8576b"
            ],
            [
             0.6666666666666666,
             "#ed7953"
            ],
            [
             0.7777777777777778,
             "#fb9f3a"
            ],
            [
             0.8888888888888888,
             "#fdca26"
            ],
            [
             1,
             "#f0f921"
            ]
           ]
          },
          "colorway": [
           "#636efa",
           "#EF553B",
           "#00cc96",
           "#ab63fa",
           "#FFA15A",
           "#19d3f3",
           "#FF6692",
           "#B6E880",
           "#FF97FF",
           "#FECB52"
          ],
          "font": {
           "color": "#2a3f5f"
          },
          "geo": {
           "bgcolor": "white",
           "lakecolor": "white",
           "landcolor": "white",
           "showlakes": true,
           "showland": true,
           "subunitcolor": "#C8D4E3"
          },
          "hoverlabel": {
           "align": "left"
          },
          "hovermode": "closest",
          "mapbox": {
           "style": "light"
          },
          "paper_bgcolor": "white",
          "plot_bgcolor": "white",
          "polar": {
           "angularaxis": {
            "gridcolor": "#EBF0F8",
            "linecolor": "#EBF0F8",
            "ticks": ""
           },
           "bgcolor": "white",
           "radialaxis": {
            "gridcolor": "#EBF0F8",
            "linecolor": "#EBF0F8",
            "ticks": ""
           }
          },
          "scene": {
           "xaxis": {
            "backgroundcolor": "white",
            "gridcolor": "#DFE8F3",
            "gridwidth": 2,
            "linecolor": "#EBF0F8",
            "showbackground": true,
            "ticks": "",
            "zerolinecolor": "#EBF0F8"
           },
           "yaxis": {
            "backgroundcolor": "white",
            "gridcolor": "#DFE8F3",
            "gridwidth": 2,
            "linecolor": "#EBF0F8",
            "showbackground": true,
            "ticks": "",
            "zerolinecolor": "#EBF0F8"
           },
           "zaxis": {
            "backgroundcolor": "white",
            "gridcolor": "#DFE8F3",
            "gridwidth": 2,
            "linecolor": "#EBF0F8",
            "showbackground": true,
            "ticks": "",
            "zerolinecolor": "#EBF0F8"
           }
          },
          "shapedefaults": {
           "line": {
            "color": "#2a3f5f"
           }
          },
          "ternary": {
           "aaxis": {
            "gridcolor": "#DFE8F3",
            "linecolor": "#A2B1C6",
            "ticks": ""
           },
           "baxis": {
            "gridcolor": "#DFE8F3",
            "linecolor": "#A2B1C6",
            "ticks": ""
           },
           "bgcolor": "white",
           "caxis": {
            "gridcolor": "#DFE8F3",
            "linecolor": "#A2B1C6",
            "ticks": ""
           }
          },
          "title": {
           "x": 0.05
          },
          "xaxis": {
           "automargin": true,
           "gridcolor": "#EBF0F8",
           "linecolor": "#EBF0F8",
           "ticks": "",
           "title": {
            "standoff": 15
           },
           "zerolinecolor": "#EBF0F8",
           "zerolinewidth": 2
          },
          "yaxis": {
           "automargin": true,
           "gridcolor": "#EBF0F8",
           "linecolor": "#EBF0F8",
           "ticks": "",
           "title": {
            "standoff": 15
           },
           "zerolinecolor": "#EBF0F8",
           "zerolinewidth": 2
          }
         }
        },
        "title": {
         "text": "[2022-04-10 00:09:10] Episode: 2/2 Step: 181/200"
        },
        "xaxis": {
         "anchor": "y",
         "domain": [
          0,
          1
         ],
         "gridcolor": "Gainsboro",
         "linecolor": "Grey",
         "matches": "x4",
         "rangeslider": {
          "visible": false
         },
         "showticklabels": false,
         "title": {
          "font": {
           "size": 12
          },
          "standoff": 7,
          "text": "Price"
         }
        },
        "xaxis2": {
         "anchor": "y2",
         "domain": [
          0,
          1
         ],
         "gridcolor": "Gainsboro",
         "linecolor": "Grey",
         "matches": "x4",
         "showticklabels": false,
         "title": {
          "font": {
           "size": 12
          },
          "standoff": 7,
          "text": "Volume"
         }
        },
        "xaxis3": {
         "anchor": "y3",
         "domain": [
          0,
          1
         ],
         "gridcolor": "Gainsboro",
         "linecolor": "Grey",
         "matches": "x4",
         "showticklabels": false,
         "title": {
          "font": {
           "size": 12
          },
          "standoff": 7,
          "text": "Performance"
         }
        },
        "xaxis4": {
         "anchor": "y4",
         "domain": [
          0,
          1
         ],
         "gridcolor": "Gainsboro",
         "linecolor": "Grey",
         "title": {
          "font": {
           "size": 12
          },
          "standoff": 7,
          "text": "Net Worth"
         }
        },
        "yaxis": {
         "anchor": "x",
         "domain": [
          0.49950000000000006,
          1
         ],
         "gridcolor": "Gainsboro",
         "linecolor": "Grey"
        },
        "yaxis2": {
         "anchor": "x2",
         "domain": [
          0.333,
          0.46950000000000003
         ],
         "gridcolor": "Gainsboro",
         "linecolor": "Grey"
        },
        "yaxis3": {
         "anchor": "x3",
         "domain": [
          0.1665,
          0.30300000000000005
         ],
         "gridcolor": "Gainsboro",
         "linecolor": "Grey"
        },
        "yaxis4": {
         "anchor": "x4",
         "domain": [
          0,
          0.1365
         ],
         "gridcolor": "Gainsboro",
         "linecolor": "Grey"
        }
       }
      }
     },
     "metadata": {},
     "output_type": "display_data"
    },
    {
     "data": {
      "application/vnd.jupyter.widget-view+json": {
       "model_id": "a46f5e755d6048fca6f2305516d12de0",
       "version_major": 2,
       "version_minor": 0
      },
      "text/plain": [
       "FigureWidget({\n",
       "    'data': [{'close': array([8740.99, 8739.  , 8728.49, 8708.32, 8795.9 , 8760.  , 8760.  , 87…"
      ]
     },
     "metadata": {},
     "output_type": "display_data"
    },
    {
     "data": {
      "application/vnd.plotly.v1+json": {
       "config": {
        "plotlyServerURL": "https://plot.ly"
       },
       "data": [
        {
         "close": [
          8740.99,
          8739,
          8728.49,
          8708.32,
          8795.9,
          8760,
          8760,
          8759.23,
          8517.77,
          8520.3,
          8535.23,
          8546.34,
          8526.65,
          8555.6,
          8512.1,
          8492.28,
          8460,
          8474.99,
          8455.92,
          8326.28,
          8133.43,
          8164.79,
          8229.38,
          8220.4,
          8238.8,
          8232.99,
          8207.48,
          8243.45,
          8371.13,
          8373,
          8365.08,
          8179.99,
          8225,
          8285.8,
          8273.4,
          8297.4,
          8279.89,
          8252.72,
          8302.18,
          8295.85,
          8277.25,
          8346.59,
          8358.3,
          8375.1,
          8368.62,
          8366.72,
          8314.77,
          8363.7,
          8344.16,
          8247.4,
          8277.4,
          8291.67,
          8307.89,
          8298.9,
          8269.47,
          8300.98,
          8318.49,
          8306.39,
          8276.43,
          8257.69,
          8166,
          8176.33,
          8200.7,
          8155.41,
          8080,
          8067.03,
          7958.08,
          7974.25,
          7998.5,
          7991.99,
          8022.7,
          8042.97,
          7965.67,
          8088.95,
          8122.19,
          8107.99,
          8137.73,
          8115,
          8107,
          8094.4,
          8080.01,
          8117.09,
          8126.99,
          8110.95,
          8215.39,
          8231.42,
          8240.13,
          8235,
          8219.9,
          8248.87,
          8213.5,
          8200.99,
          8200,
          8237.3,
          8228.13,
          8240.83,
          8214.9,
          8170.07,
          8229.87,
          8205.87,
          8252.56,
          8365,
          8348.65,
          8303.99,
          8310.48,
          8310,
          8289.87,
          8304.99,
          8301.35,
          8313.12,
          8240.07,
          8199.99,
          8226.98,
          8231.2,
          8198.89,
          8215.85,
          8279.99,
          8255.08,
          8270.4,
          8244.24,
          8239.12,
          8267.14,
          8282.27,
          8350.62,
          8336.6,
          8336.91,
          8311.21,
          8312.09,
          8345.19,
          8377.2,
          8481.11,
          8516.36,
          8524,
          8517.04,
          8558.5,
          8521.99,
          8484.93,
          8518.48,
          8488.99,
          8466.72,
          8492.55,
          8494.28,
          8510.95,
          8498.64,
          8551.1,
          8524.22,
          8510.11,
          8475.62,
          8476.58,
          8467.13,
          8499.84,
          8490.42,
          8407.09,
          8409.42,
          8400.96,
          8383.14,
          8350,
          8373.01,
          8412.8,
          8385.57,
          8408.53,
          8391.76,
          8367.36,
          8280.24,
          8297.91,
          8333.99,
          8285.29,
          8280,
          8317.02,
          8320.16,
          8295.9,
          8245.47,
          8264.98,
          8200,
          8170,
          8217,
          8231.63,
          8232.8,
          8225.38,
          8200.01,
          8219.98,
          8187.98,
          8100.32,
          8076.99,
          7964.73,
          7984.08,
          7949.35,
          7900.61,
          7895.5,
          7960,
          7900,
          7921.99,
          7943.07,
          7856.37,
          7848.3,
          7852.68,
          7847.1,
          7849.31,
          7911.83,
          7901.01,
          7887
         ],
         "high": [
          8796.68,
          8766,
          8750.27,
          8754.4,
          8865,
          8821.19,
          8798.6,
          8771.02,
          8761.7,
          8553.67,
          8589.1,
          8579.48,
          8555.51,
          8583.6,
          8569.92,
          8555.54,
          8557.51,
          8505,
          8505.33,
          8478.29,
          8339.81,
          8217.44,
          8252.72,
          8248.63,
          8267.12,
          8255,
          8261.24,
          8263.93,
          8455.66,
          8439.44,
          8399.1,
          8381.73,
          8229.91,
          8377.29,
          8329.1,
          8350,
          8346.95,
          8377.29,
          8311.35,
          8319.96,
          8398.24,
          8372.58,
          8399.99,
          8386.53,
          8400,
          8500,
          8381,
          8371.3,
          8382.41,
          8351,
          8292.99,
          8325.8,
          8318.99,
          8324.9,
          8335.56,
          8309.4,
          8377.29,
          8330.41,
          8328.23,
          8284.36,
          8274.83,
          8200,
          8232.14,
          8213.97,
          8155.41,
          8108.28,
          8068.92,
          8019.9,
          8026.66,
          8025,
          8104.69,
          8061.39,
          8045.99,
          8170.71,
          8144.16,
          8139.99,
          8152.99,
          8137.73,
          8143.72,
          8129.99,
          8106.76,
          8139,
          8152.04,
          8146.99,
          8232.14,
          8275.1,
          8256.12,
          8274.1,
          8255.8,
          8253.97,
          8261.09,
          8235.76,
          8227,
          8273.36,
          8264.21,
          8250,
          8250.86,
          8235.77,
          8232.12,
          8232.14,
          8252.72,
          8370,
          8395,
          8374.48,
          8331,
          8319.43,
          8323.4,
          8314.55,
          8330.62,
          8314.8,
          8323.99,
          8263.03,
          8247.78,
          8253.75,
          8237.89,
          8235,
          8279.99,
          8290,
          8278.71,
          8275.34,
          8279.31,
          8279.98,
          8294.04,
          8356.4,
          8374.94,
          8354.83,
          8360.45,
          8337.14,
          8351.97,
          8377.29,
          8549,
          8531.9,
          8551.79,
          8529.9,
          8590,
          8576.1,
          8549.89,
          8531.89,
          8550,
          8493.29,
          8522.98,
          8517,
          8537.29,
          8524.51,
          8589.1,
          8589.07,
          8536.92,
          8524.03,
          8497.8,
          8498,
          8513.5,
          8510,
          8494.7,
          8427.29,
          8419.03,
          8415.47,
          8389.99,
          8397.57,
          8455,
          8429.66,
          8412.61,
          8424,
          8417.65,
          8369.7,
          8326.5,
          8336.65,
          8333.99,
          8314.32,
          8355.97,
          8333.49,
          8325.6,
          8296.01,
          8264.98,
          8271.31,
          8200,
          8232.14,
          8246,
          8248.94,
          8259.95,
          8242.49,
          8232.04,
          8230.9,
          8205,
          8118.98,
          8103.07,
          8040.95,
          8032.01,
          7960.25,
          7920,
          7960,
          7960,
          7935,
          7960.99,
          7951.38,
          7888.92,
          7870,
          7909.75,
          7882.27,
          7949.27,
          7944.73,
          7916.48
         ],
         "low": [
          8707.28,
          8721.11,
          8660.53,
          8701.35,
          8695.11,
          8740.54,
          8741.52,
          8700,
          8467.42,
          8477.89,
          8500.78,
          8500,
          8400,
          8451.05,
          8461.38,
          8481.24,
          8420.37,
          8450,
          8430.94,
          8275.02,
          8100.01,
          8122.56,
          8157.01,
          8166.25,
          8176.91,
          8213.79,
          8200,
          8207.48,
          8237.1,
          8370,
          8356.4,
          8145.1,
          8173.6,
          8211.8,
          8201,
          8250.9,
          8266.46,
          8252.72,
          8232.14,
          8268.37,
          8277.25,
          8277.25,
          8314.78,
          8314.77,
          8350.07,
          8331.39,
          8314.77,
          8275.45,
          8335.49,
          8191.14,
          8227.7,
          8264.13,
          8249.93,
          8269.52,
          8219.44,
          8262.68,
          8286.65,
          8289.87,
          8232.14,
          8232.14,
          8110.02,
          8154.95,
          8168.6,
          8151,
          7980,
          8005.95,
          7929.53,
          7931.03,
          7950,
          7980.58,
          7991.99,
          7992.75,
          7953.4,
          7965.67,
          8085.94,
          8078.48,
          8092.9,
          8049.22,
          8079.46,
          8062.12,
          8043.96,
          8063.1,
          8088.46,
          8094.43,
          8088.46,
          8191.14,
          8212,
          8224.5,
          8211,
          8211.01,
          8210.03,
          8158.27,
          8177.65,
          8179.41,
          8221.92,
          8217.32,
          8213.52,
          8141.08,
          8146.1,
          8186.03,
          8197.09,
          8231.21,
          8323.82,
          8296,
          8296.31,
          8282.65,
          8280,
          8273.36,
          8290.08,
          8277.93,
          8240.07,
          8191.14,
          8178,
          8193.7,
          8180,
          8170.71,
          8215.53,
          8240.02,
          8237.17,
          8237.17,
          8239.12,
          8227.79,
          8247.57,
          8274.24,
          8326.1,
          8320.61,
          8281.31,
          8269.85,
          8311.16,
          8336.11,
          8369.86,
          8471.51,
          8511,
          8476.66,
          8507.68,
          8509.24,
          8482.53,
          8484.93,
          8450,
          8434.47,
          8461.1,
          8481,
          8480,
          8488.1,
          8471.09,
          8509.2,
          8482.64,
          8469,
          8440.4,
          8440.52,
          8461.8,
          8480,
          8358.17,
          8380.73,
          8370,
          8383.12,
          8320,
          8349.17,
          8357.11,
          8370.58,
          8367.21,
          8376.99,
          8335.6,
          8252.72,
          8264.49,
          8282.59,
          8271.09,
          8261.52,
          8280,
          8297,
          8290,
          8220,
          8230.45,
          8180,
          8119.38,
          8170,
          8189.84,
          8210.76,
          8212.68,
          8200,
          8186,
          8161.77,
          8063.15,
          8050.01,
          7951.41,
          7964.73,
          7949.35,
          7861.32,
          7865,
          7886.48,
          7870.35,
          7885.2,
          7896.41,
          7811.62,
          7808.05,
          7808,
          7836.79,
          7801.02,
          7847.36,
          7883,
          7850.72
         ],
         "name": "Price",
         "open": [
          8733.86,
          8740.99,
          8739,
          8728.49,
          8708.32,
          8795.9,
          8760,
          8760,
          8759.23,
          8517.77,
          8520.3,
          8535.23,
          8546.34,
          8526.65,
          8555.6,
          8512.1,
          8492.28,
          8460,
          8474.99,
          8455.92,
          8326.28,
          8133.43,
          8164.79,
          8229.38,
          8220.4,
          8238.8,
          8232.99,
          8207.48,
          8243.45,
          8371.13,
          8373,
          8365.08,
          8179.99,
          8225,
          8285.8,
          8273.4,
          8297.4,
          8279.89,
          8252.72,
          8302.18,
          8295.85,
          8277.25,
          8346.59,
          8358.3,
          8375.1,
          8368.62,
          8366.72,
          8314.77,
          8363.7,
          8344.16,
          8247.4,
          8277.4,
          8291.67,
          8307.89,
          8298.9,
          8269.47,
          8300.98,
          8318.49,
          8306.39,
          8276.43,
          8257.69,
          8166,
          8176.33,
          8200.7,
          8155.41,
          8080,
          8067.03,
          7958.08,
          7974.25,
          7998.5,
          7991.99,
          8022.7,
          8042.97,
          7965.67,
          8088.95,
          8122.19,
          8107.99,
          8137.73,
          8115,
          8107,
          8094.4,
          8080.01,
          8117.09,
          8126.99,
          8110.95,
          8215.39,
          8231.42,
          8240.13,
          8235,
          8219.9,
          8248.87,
          8213.5,
          8200.99,
          8200,
          8237.3,
          8228.13,
          8240.83,
          8214.9,
          8170.07,
          8229.87,
          8205.87,
          8252.56,
          8365,
          8348.65,
          8303.99,
          8310.48,
          8310,
          8289.87,
          8304.99,
          8301.35,
          8313.12,
          8240.07,
          8199.99,
          8226.98,
          8231.2,
          8198.89,
          8215.85,
          8279.99,
          8255.08,
          8270.4,
          8244.24,
          8239.12,
          8267.14,
          8282.27,
          8350.62,
          8336.6,
          8336.91,
          8311.21,
          8312.09,
          8345.19,
          8377.2,
          8481.11,
          8516.36,
          8524,
          8517.04,
          8558.5,
          8521.99,
          8484.93,
          8518.48,
          8488.99,
          8466.72,
          8492.55,
          8494.28,
          8510.95,
          8498.64,
          8551.1,
          8524.22,
          8510.11,
          8475.62,
          8476.58,
          8467.13,
          8499.84,
          8490.42,
          8407.09,
          8409.42,
          8400.96,
          8383.14,
          8350,
          8373.01,
          8412.8,
          8385.57,
          8408.53,
          8391.76,
          8367.36,
          8280.24,
          8297.91,
          8333.99,
          8285.29,
          8280,
          8317.02,
          8320.16,
          8295.9,
          8245.47,
          8264.98,
          8200,
          8170,
          8217,
          8231.63,
          8232.8,
          8225.38,
          8200.01,
          8219.98,
          8187.98,
          8100.32,
          8076.99,
          7964.73,
          7984.08,
          7949.35,
          7900.61,
          7895.5,
          7960,
          7900,
          7921.99,
          7943.07,
          7856.37,
          7848.3,
          7852.68,
          7847.1,
          7849.31,
          7911.83,
          7901.01
         ],
         "showlegend": false,
         "type": "candlestick",
         "uid": "50305746-acbe-483f-b8bd-5ee326eca239",
         "xaxis": "x",
         "yaxis": "y"
        },
        {
         "marker": {
          "color": "DodgerBlue"
         },
         "name": "Volume",
         "showlegend": false,
         "type": "bar",
         "uid": "0b0694af-d058-44fd-a8e6-b25a9a83e2b0",
         "xaxis": "x2",
         "y": [
          559.93,
          273.58,
          917.79,
          182.62,
          1260.69,
          324.11,
          324.2,
          730.67,
          1341.75,
          792.07,
          385.69,
          475.08,
          877.26,
          670.49,
          610.97,
          168.99,
          305.92,
          136.05,
          154.26,
          1070.93,
          1710.2,
          492.8,
          630.72,
          620.93,
          586.34,
          304.52,
          450.97,
          182.36,
          915.32,
          319.29,
          362.01,
          1046.38,
          357.91,
          561.2,
          322.53,
          1073.71,
          237.21,
          251.2,
          359.73,
          117.23,
          363.17,
          214.18,
          171.64,
          258.58,
          299.52,
          718.98,
          119.7,
          405.25,
          210.77,
          714.82,
          215.97,
          164.2,
          201.55,
          203.41,
          886.82,
          95.49,
          499.67,
          172.77,
          355.39,
          255.27,
          591.06,
          133.1,
          149.13,
          87.55,
          1061.54,
          286.94,
          524.42,
          316,
          441.43,
          189.7,
          844.94,
          155.34,
          257.56,
          610.69,
          217.97,
          173.18,
          218.06,
          372.97,
          484.39,
          248.1,
          162.35,
          303.42,
          290.69,
          160.93,
          369.4,
          487.27,
          93.35,
          96.68,
          72.14,
          90.22,
          168.52,
          203.15,
          71.42,
          464.56,
          57,
          89.42,
          49.47,
          200.05,
          254.37,
          65.05,
          118.19,
          452.4,
          181.03,
          288.04,
          145.78,
          110.14,
          55.48,
          80.87,
          67.01,
          59.16,
          121.26,
          244.37,
          156.87,
          80.48,
          139.32,
          93.52,
          200.23,
          97.4,
          68.08,
          47,
          36.65,
          28.75,
          182.85,
          400.18,
          288.1,
          182.94,
          777.81,
          493.59,
          118.63,
          174.37,
          901.75,
          222.45,
          113.8,
          84.2,
          261.44,
          168.78,
          111.07,
          122.12,
          267.32,
          210.39,
          211.36,
          146.22,
          93.39,
          89.04,
          307.59,
          307.2,
          164.24,
          151.21,
          399.77,
          362.01,
          260.85,
          232.32,
          1109.45,
          348.5,
          210.57,
          274.92,
          277.83,
          99.57,
          273.12,
          129.47,
          113.05,
          87.6,
          159.37,
          433.28,
          133.29,
          200.57,
          210.33,
          206.4,
          357.53,
          107.43,
          116.54,
          479.07,
          290.38,
          812.96,
          1542.87,
          430.36,
          312.54,
          132.75,
          333.64,
          205.86,
          120.33,
          263.1,
          457.64,
          451.55,
          962.22,
          381.04,
          386.95,
          905.87,
          453.48,
          542.31,
          476.48,
          341.79,
          654.23,
          769.1,
          719.94,
          523.05,
          409.37,
          255.12,
          551.86,
          340.62,
          488.69
         ],
         "yaxis": "y2"
        },
        {
         "mode": "lines",
         "name": "bitstamp:/USD-BTC",
         "type": "scatter",
         "uid": "7633330c-73a6-45ce-bf50-e1d3eb811fe9",
         "xaxis": "x3",
         "y": [
          8740.99,
          8739,
          8728.49,
          8708.32,
          8795.9,
          8760,
          8760,
          8759.23,
          8517.77,
          8520.3,
          8535.23,
          8546.34,
          8526.65,
          8555.6,
          8512.1,
          8492.28,
          8460,
          8474.99,
          8455.92,
          8326.28,
          8133.43,
          8164.79,
          8229.38,
          8220.4,
          8238.8,
          8232.99,
          8207.48,
          8243.45,
          8371.13,
          8373,
          8365.08,
          8179.99,
          8225,
          8285.8,
          8273.4,
          8297.4,
          8279.89,
          8252.72,
          8302.18,
          8295.85,
          8277.25,
          8346.59,
          8358.3,
          8375.1,
          8368.62,
          8366.72,
          8314.77,
          8363.7,
          8344.16,
          8247.4,
          8277.4,
          8291.67,
          8307.89,
          8298.9,
          8269.47,
          8300.98,
          8318.49,
          8306.39,
          8276.43,
          8257.69,
          8166,
          8176.33,
          8200.7,
          8155.41,
          8080,
          8067.03,
          7958.08,
          7974.25,
          7998.5,
          7991.99,
          8022.7,
          8042.97,
          7965.67,
          8088.95,
          8122.19,
          8107.99,
          8137.73,
          8115,
          8107,
          8094.4,
          8080.01,
          8117.09,
          8126.99,
          8110.95,
          8215.39,
          8231.42,
          8240.13,
          8235,
          8219.9,
          8248.87,
          8213.5,
          8200.99,
          8200,
          8237.3,
          8228.13,
          8240.83,
          8214.9,
          8170.07,
          8229.87,
          8205.87,
          8252.56,
          8365,
          8348.65,
          8303.99,
          8310.48,
          8310,
          8289.87,
          8304.99,
          8301.35,
          8313.12,
          8240.07,
          8199.99,
          8226.98,
          8231.2,
          8198.89,
          8215.85,
          8279.99,
          8255.08,
          8270.4,
          8244.24,
          8239.12,
          8267.14,
          8282.27,
          8350.62,
          8336.6,
          8336.91,
          8311.21,
          8312.09,
          8345.19,
          8377.2,
          8481.11,
          8516.36,
          8524,
          8517.04,
          8558.5,
          8521.99,
          8484.93,
          8518.48,
          8488.99,
          8466.72,
          8492.55,
          8494.28,
          8510.95,
          8498.64,
          8551.1,
          8524.22,
          8510.11,
          8475.62,
          8476.58,
          8467.13,
          8499.84,
          8490.42,
          8407.09,
          8409.42,
          8400.96,
          8383.14,
          8350,
          8373.01,
          8412.8,
          8385.57,
          8408.53,
          8391.76,
          8367.36,
          8280.24,
          8297.91,
          8333.99,
          8285.29,
          8280,
          8317.02,
          8320.16,
          8295.9,
          8245.47,
          8264.98,
          8200,
          8170,
          8217,
          8231.63,
          8232.8,
          8225.38,
          8200.01,
          8219.98,
          8187.98,
          8100.32,
          8076.99,
          7964.73,
          7984.08,
          7949.35,
          7900.61,
          7895.5,
          7960,
          7900,
          7921.99,
          7943.07,
          7856.37,
          7848.3,
          7852.68,
          7847.1,
          7849.31,
          7911.83,
          7901.01,
          7887
         ],
         "yaxis": "y3"
        },
        {
         "mode": "lines",
         "name": "bitstamp:/USD:/free",
         "type": "scatter",
         "uid": "b7b5fee1-fcd9-4177-863c-64eba3d65df3",
         "xaxis": "x3",
         "y": [
          10000,
          10000,
          10000,
          2000,
          2000,
          2000,
          2000,
          2000,
          2000,
          2000,
          2000,
          2000,
          2000,
          2000,
          2000,
          2000,
          2000,
          2000,
          2000,
          2000,
          9585.64,
          9585.64,
          9585.64,
          9585.64,
          9585.64,
          1917.13,
          1917.13,
          1917.13,
          1917.13,
          9662.13,
          9662.13,
          9662.13,
          9662.13,
          9662.13,
          9662.13,
          9662.13,
          9662.13,
          9662.13,
          9662.13,
          9662.13,
          9662.13,
          9662.13,
          9662.13,
          9662.13,
          9662.13,
          5797.28,
          5797.28,
          5797.28,
          5797.28,
          5797.28,
          5797.28,
          5797.28,
          5797.28,
          5797.28,
          5797.28,
          5797.28,
          5797.28,
          5797.28,
          5797.28,
          5797.28,
          5797.28,
          9545.97,
          9545.97,
          9545.97,
          9545.97,
          9545.97,
          9545.97,
          9545.97,
          9545.97,
          9545.97,
          9545.97,
          9545.97,
          9545.97,
          9545.97,
          9545.97,
          9545.97,
          9545.97,
          9545.97,
          9545.97,
          9545.97,
          9545.97,
          9545.97,
          9545.97,
          9545.97,
          9545.97,
          9545.97,
          9545.97,
          9545.97,
          9545.97,
          9545.97,
          9545.97,
          9545.97,
          9545.97,
          9545.97,
          9545.97,
          9545.97,
          9545.97,
          9545.97,
          9545.97,
          9545.97,
          9545.97,
          9545.97,
          9545.97,
          9545.97,
          9545.97,
          9545.97,
          6682.18,
          6682.18,
          6682.18,
          6682.18,
          6682.18,
          6682.18,
          4677.53,
          4677.53,
          4677.53,
          4677.53,
          4677.53,
          4677.53,
          4677.53,
          4677.53,
          4677.53,
          4677.53,
          4677.53,
          4677.53,
          4677.53,
          4677.53,
          4677.53,
          4677.53,
          1871.01,
          1871.01,
          1871.01,
          6837.22,
          6837.22,
          6837.22,
          6837.22,
          6837.22,
          6837.22,
          6837.22,
          6837.22,
          6837.22,
          6837.22,
          6837.22,
          3418.61,
          3418.61,
          3418.61,
          3418.61,
          3418.61,
          3418.61,
          3418.61,
          3418.61,
          3418.61,
          3418.61,
          3418.61,
          3418.61,
          3418.61,
          3418.61,
          3418.61,
          3418.61,
          3418.61,
          3418.61,
          3418.61,
          3418.61,
          3418.61,
          3418.61,
          6731.11,
          0,
          0,
          0,
          0,
          0,
          0,
          0,
          0,
          0,
          0,
          0,
          0,
          0,
          0,
          0,
          0,
          0,
          0,
          0,
          0,
          9095.26,
          9095.26,
          9095.26,
          9095.26,
          9095.26,
          9095.26,
          9095.26,
          9095.26,
          9095.26,
          9095.26,
          9095.26,
          9095.26,
          9095.26,
          9095.26,
          9095.26,
          9095.26
         ],
         "yaxis": "y3"
        },
        {
         "mode": "lines",
         "name": "bitstamp:/USD:/locked",
         "type": "scatter",
         "uid": "99dd8a26-fe84-43a4-af3c-0c42748827c8",
         "xaxis": "x3",
         "y": [
          0,
          0,
          0,
          0,
          0,
          0,
          0,
          0,
          0,
          0,
          0,
          0,
          0,
          0,
          0,
          0,
          0,
          0,
          0,
          0,
          0,
          0,
          0,
          0,
          0,
          0,
          0,
          0,
          0,
          0,
          0,
          0,
          0,
          0,
          0,
          0,
          0,
          0,
          0,
          0,
          0,
          0,
          0,
          0,
          0,
          0,
          0,
          0,
          0,
          0,
          0,
          0,
          0,
          0,
          0,
          0,
          0,
          0,
          0,
          0,
          0,
          0,
          0,
          0,
          0,
          0,
          0,
          0,
          0,
          0,
          0,
          0,
          0,
          0,
          0,
          0,
          0,
          0,
          0,
          0,
          0,
          0,
          0,
          0,
          0,
          0,
          0,
          0,
          0,
          0,
          0,
          0,
          0,
          0,
          0,
          0,
          0,
          0,
          0,
          0,
          0,
          0,
          0,
          0,
          0,
          0,
          0,
          0,
          0,
          0,
          0,
          0,
          0,
          0,
          0,
          0,
          0,
          0,
          0,
          0,
          0,
          0,
          0,
          0,
          0,
          0,
          0,
          0,
          0,
          0,
          0,
          0,
          0,
          0,
          0,
          0,
          0,
          0,
          0,
          0,
          0,
          0,
          0,
          0,
          0,
          0,
          0,
          0,
          0,
          0,
          0,
          0,
          0,
          0,
          0,
          0,
          0,
          0,
          0,
          0,
          0,
          0,
          0,
          0,
          0,
          0,
          0,
          0,
          0,
          0,
          0,
          0,
          0,
          0,
          0,
          0,
          0,
          0,
          0,
          0,
          0,
          0,
          0,
          0,
          0,
          0,
          0,
          0,
          0,
          0,
          0,
          0,
          0,
          0,
          0,
          0,
          0,
          0,
          0,
          0,
          0
         ],
         "yaxis": "y3"
        },
        {
         "mode": "lines",
         "name": "bitstamp:/USD:/total",
         "type": "scatter",
         "uid": "bc6113cd-7ed0-47a2-b189-fba82d6153a0",
         "xaxis": "x3",
         "y": [
          10000,
          10000,
          10000,
          2000,
          2000,
          2000,
          2000,
          2000,
          2000,
          2000,
          2000,
          2000,
          2000,
          2000,
          2000,
          2000,
          2000,
          2000,
          2000,
          2000,
          9585.64,
          9585.64,
          9585.64,
          9585.64,
          9585.64,
          1917.13,
          1917.13,
          1917.13,
          1917.13,
          9662.13,
          9662.13,
          9662.13,
          9662.13,
          9662.13,
          9662.13,
          9662.13,
          9662.13,
          9662.13,
          9662.13,
          9662.13,
          9662.13,
          9662.13,
          9662.13,
          9662.13,
          9662.13,
          5797.28,
          5797.28,
          5797.28,
          5797.28,
          5797.28,
          5797.28,
          5797.28,
          5797.28,
          5797.28,
          5797.28,
          5797.28,
          5797.28,
          5797.28,
          5797.28,
          5797.28,
          5797.28,
          9545.97,
          9545.97,
          9545.97,
          9545.97,
          9545.97,
          9545.97,
          9545.97,
          9545.97,
          9545.97,
          9545.97,
          9545.97,
          9545.97,
          9545.97,
          9545.97,
          9545.97,
          9545.97,
          9545.97,
          9545.97,
          9545.97,
          9545.97,
          9545.97,
          9545.97,
          9545.97,
          9545.97,
          9545.97,
          9545.97,
          9545.97,
          9545.97,
          9545.97,
          9545.97,
          9545.97,
          9545.97,
          9545.97,
          9545.97,
          9545.97,
          9545.97,
          9545.97,
          9545.97,
          9545.97,
          9545.97,
          9545.97,
          9545.97,
          9545.97,
          9545.97,
          9545.97,
          6682.18,
          6682.18,
          6682.18,
          6682.18,
          6682.18,
          6682.18,
          4677.53,
          4677.53,
          4677.53,
          4677.53,
          4677.53,
          4677.53,
          4677.53,
          4677.53,
          4677.53,
          4677.53,
          4677.53,
          4677.53,
          4677.53,
          4677.53,
          4677.53,
          4677.53,
          1871.01,
          1871.01,
          1871.01,
          6837.22,
          6837.22,
          6837.22,
          6837.22,
          6837.22,
          6837.22,
          6837.22,
          6837.22,
          6837.22,
          6837.22,
          6837.22,
          3418.61,
          3418.61,
          3418.61,
          3418.61,
          3418.61,
          3418.61,
          3418.61,
          3418.61,
          3418.61,
          3418.61,
          3418.61,
          3418.61,
          3418.61,
          3418.61,
          3418.61,
          3418.61,
          3418.61,
          3418.61,
          3418.61,
          3418.61,
          3418.61,
          3418.61,
          6731.11,
          0,
          0,
          0,
          0,
          0,
          0,
          0,
          0,
          0,
          0,
          0,
          0,
          0,
          0,
          0,
          0,
          0,
          0,
          0,
          0,
          9095.26,
          9095.26,
          9095.26,
          9095.26,
          9095.26,
          9095.26,
          9095.26,
          9095.26,
          9095.26,
          9095.26,
          9095.26,
          9095.26,
          9095.26,
          9095.26,
          9095.26,
          9095.26
         ],
         "yaxis": "y3"
        },
        {
         "mode": "lines",
         "name": "bitstamp:/BTC:/free",
         "type": "scatter",
         "uid": "b9fb4513-0222-404a-adfd-0daee901fb10",
         "xaxis": "x3",
         "y": [
          10,
          10,
          10,
          10,
          10,
          10,
          10,
          10,
          10,
          10,
          10,
          10,
          10,
          10,
          10,
          10,
          10,
          10,
          10,
          10,
          10,
          10,
          10,
          10,
          10,
          10,
          10,
          10,
          10,
          10,
          10,
          10,
          10,
          10,
          10,
          10,
          10,
          10,
          10,
          10,
          10,
          10,
          10,
          10,
          10,
          10,
          10,
          10,
          10,
          10,
          10,
          10,
          10,
          10,
          10,
          10,
          10,
          10,
          10,
          10,
          10,
          10,
          10,
          10,
          10,
          10,
          10,
          10,
          10,
          10,
          10,
          10,
          10,
          10,
          10,
          10,
          10,
          10,
          10,
          10,
          10,
          10,
          10,
          10,
          10,
          10,
          10,
          10,
          10,
          10,
          10,
          10,
          10,
          10,
          10,
          10,
          10,
          10,
          10,
          10,
          10,
          10,
          10,
          10,
          10,
          10,
          10,
          10,
          10,
          10,
          10,
          10,
          10,
          10,
          10,
          10,
          10,
          10,
          10,
          10,
          10,
          10,
          10,
          10,
          10,
          10,
          10,
          10,
          10,
          10,
          10,
          10,
          10,
          10,
          10,
          10,
          10,
          10,
          10,
          10,
          10,
          10,
          10,
          10,
          10,
          10,
          10,
          10,
          10,
          10,
          10,
          10,
          10,
          10,
          10,
          10,
          10,
          10,
          10,
          10,
          10,
          10,
          10,
          10,
          10,
          10,
          10,
          10,
          10,
          10,
          10,
          10,
          10,
          10,
          10,
          10,
          10,
          10,
          10,
          10,
          10,
          10,
          10,
          10,
          10,
          10,
          10,
          10,
          10,
          10,
          10,
          10,
          10,
          10,
          10,
          10,
          10,
          10,
          10,
          10,
          10
         ],
         "yaxis": "y3"
        },
        {
         "mode": "lines",
         "name": "bitstamp:/BTC:/locked",
         "type": "scatter",
         "uid": "b528086b-2a60-427d-8bfd-a138812a9361",
         "xaxis": "x3",
         "y": [
          0,
          0,
          0,
          0.91378921,
          0.91378921,
          0.91378921,
          0.91378921,
          0.91378921,
          0.91378921,
          0.91378921,
          0.91378921,
          0.91378921,
          0.91378921,
          0.91378921,
          0.91378921,
          0.91378921,
          0.91378921,
          0.91378921,
          0.91378921,
          0.91378921,
          0,
          0,
          0,
          0,
          0,
          0.92798709,
          0.92798709,
          0.92798709,
          0.92798709,
          0,
          0,
          0,
          0,
          0,
          0,
          0,
          0,
          0,
          0,
          0,
          0,
          0,
          0,
          0,
          0,
          0.46044151,
          0.46044151,
          0.46044151,
          0.46044151,
          0.46044151,
          0.46044151,
          0.46044151,
          0.46044151,
          0.46044151,
          0.46044151,
          0.46044151,
          0.46044151,
          0.46044151,
          0.46044151,
          0.46044151,
          0.46044151,
          0,
          0,
          0,
          0,
          0,
          0,
          0,
          0,
          0,
          0,
          0,
          0,
          0,
          0,
          0,
          0,
          0,
          0,
          0,
          0,
          0,
          0,
          0,
          0,
          0,
          0,
          0,
          0,
          0,
          0,
          0,
          0,
          0,
          0,
          0,
          0,
          0,
          0,
          0,
          0,
          0,
          0,
          0,
          0,
          0,
          0.34358604,
          0.34358604,
          0.34358604,
          0.34358604,
          0.34358604,
          0.34358604,
          0.58732292,
          0.58732292,
          0.58732292,
          0.58732292,
          0.58732292,
          0.58732292,
          0.58732292,
          0.58732292,
          0.58732292,
          0.58732292,
          0.58732292,
          0.58732292,
          0.58732292,
          0.58732292,
          0.58732292,
          0.58732292,
          0.92395306,
          0.92395306,
          0.92395306,
          0.33663014,
          0.33663014,
          0.33663014,
          0.33663014,
          0.33663014,
          0.33663014,
          0.33663014,
          0.33663014,
          0.33663014,
          0.33663014,
          0.33663014,
          0.73788251,
          0.73788251,
          0.73788251,
          0.73788251,
          0.73788251,
          0.73788251,
          0.73788251,
          0.73788251,
          0.73788251,
          0.73788251,
          0.73788251,
          0.73788251,
          0.73788251,
          0.73788251,
          0.73788251,
          0.73788251,
          0.73788251,
          0.73788251,
          0.73788251,
          0.73788251,
          0.73788251,
          0.73788251,
          0.33663014,
          1.14537837,
          1.14537837,
          1.14537837,
          1.14537837,
          1.14537837,
          1.14537837,
          1.14537837,
          1.14537837,
          1.14537837,
          1.14537837,
          1.14537837,
          1.14537837,
          1.14537837,
          1.14537837,
          1.14537837,
          1.14537837,
          1.14537837,
          1.14537837,
          1.14537837,
          1.14537837,
          0,
          0,
          0,
          0,
          0,
          0,
          0,
          0,
          0,
          0,
          0,
          0,
          0,
          0,
          0,
          0
         ],
         "yaxis": "y3"
        },
        {
         "mode": "lines",
         "name": "bitstamp:/BTC:/total",
         "type": "scatter",
         "uid": "2ffc07fd-84ea-4e58-918c-419a185df287",
         "xaxis": "x3",
         "y": [
          10,
          10,
          10,
          10.91378921,
          10.91378921,
          10.91378921,
          10.91378921,
          10.91378921,
          10.91378921,
          10.91378921,
          10.91378921,
          10.91378921,
          10.91378921,
          10.91378921,
          10.91378921,
          10.91378921,
          10.91378921,
          10.91378921,
          10.91378921,
          10.91378921,
          10,
          10,
          10,
          10,
          10,
          10.92798709,
          10.92798709,
          10.92798709,
          10.92798709,
          10,
          10,
          10,
          10,
          10,
          10,
          10,
          10,
          10,
          10,
          10,
          10,
          10,
          10,
          10,
          10,
          10.46044151,
          10.46044151,
          10.46044151,
          10.46044151,
          10.46044151,
          10.46044151,
          10.46044151,
          10.46044151,
          10.46044151,
          10.46044151,
          10.46044151,
          10.46044151,
          10.46044151,
          10.46044151,
          10.46044151,
          10.46044151,
          10,
          10,
          10,
          10,
          10,
          10,
          10,
          10,
          10,
          10,
          10,
          10,
          10,
          10,
          10,
          10,
          10,
          10,
          10,
          10,
          10,
          10,
          10,
          10,
          10,
          10,
          10,
          10,
          10,
          10,
          10,
          10,
          10,
          10,
          10,
          10,
          10,
          10,
          10,
          10,
          10,
          10,
          10,
          10,
          10,
          10.34358604,
          10.34358604,
          10.34358604,
          10.34358604,
          10.34358604,
          10.34358604,
          10.58732292,
          10.58732292,
          10.58732292,
          10.58732292,
          10.58732292,
          10.58732292,
          10.58732292,
          10.58732292,
          10.58732292,
          10.58732292,
          10.58732292,
          10.58732292,
          10.58732292,
          10.58732292,
          10.58732292,
          10.58732292,
          10.92395306,
          10.92395306,
          10.92395306,
          10.33663014,
          10.33663014,
          10.33663014,
          10.33663014,
          10.33663014,
          10.33663014,
          10.33663014,
          10.33663014,
          10.33663014,
          10.33663014,
          10.33663014,
          10.73788251,
          10.73788251,
          10.73788251,
          10.73788251,
          10.73788251,
          10.73788251,
          10.73788251,
          10.73788251,
          10.73788251,
          10.73788251,
          10.73788251,
          10.73788251,
          10.73788251,
          10.73788251,
          10.73788251,
          10.73788251,
          10.73788251,
          10.73788251,
          10.73788251,
          10.73788251,
          10.73788251,
          10.73788251,
          10.33663014,
          11.14537837,
          11.14537837,
          11.14537837,
          11.14537837,
          11.14537837,
          11.14537837,
          11.14537837,
          11.14537837,
          11.14537837,
          11.14537837,
          11.14537837,
          11.14537837,
          11.14537837,
          11.14537837,
          11.14537837,
          11.14537837,
          11.14537837,
          11.14537837,
          11.14537837,
          11.14537837,
          10,
          10,
          10,
          10,
          10,
          10,
          10,
          10,
          10,
          10,
          10,
          10,
          10,
          10,
          10,
          10
         ],
         "yaxis": "y3"
        },
        {
         "mode": "lines",
         "name": "bitstamp:/BTC:/worth",
         "type": "scatter",
         "uid": "66a51bd5-08f5-4308-b164-b740b790d342",
         "xaxis": "x3",
         "y": [
          87409.9,
          87390,
          87284.9,
          95040.76885322719,
          95996.59851223898,
          95604.79347959999,
          95604.79347959999,
          95596.38986190829,
          92961.1463192617,
          92988.75820596298,
          93151.70107886828,
          93272.9532769914,
          93058.06076744648,
          93374.014965076,
          92899.265134441,
          92682.9538322988,
          92330.65671659999,
          92494.25441685789,
          92286.12845662319,
          90871.2648234388,
          81334.3,
          81647.9,
          82293.79999999999,
          82204,
          82388,
          89970.0084320991,
          89691.23548143319,
          90084.3151770605,
          91479.6005687117,
          83730,
          83650.8,
          81799.9,
          82250,
          82858,
          82734,
          82974,
          82798.9,
          82527.2,
          83021.8,
          82958.5,
          82772.5,
          83465.9,
          83583,
          83751,
          83686.20000000001,
          87519.5851905472,
          86976.16525410271,
          87487.99465718701,
          87283.59763008161,
          86271.445309574,
          86585.258554874,
          86734.5290552217,
          86904.1974165139,
          86810.158047339,
          86502.3072536997,
          86831.9157656798,
          87015.07809651991,
          86888.5067542489,
          86575.11192660932,
          86379.0832527119,
          85419.96537066001,
          81763.3,
          82007,
          81554.1,
          80800,
          80670.3,
          79580.8,
          79742.5,
          79985,
          79919.9,
          80227,
          80429.7,
          79656.7,
          80889.5,
          81221.9,
          81079.9,
          81377.29999999999,
          81150,
          81070,
          80944,
          80800.1,
          81170.9,
          81269.9,
          81109.5,
          82153.9,
          82314.2,
          82401.29999999999,
          82350,
          82199,
          82488.70000000001,
          82135,
          82009.9,
          82000,
          82373,
          82281.29999999999,
          82408.3,
          82149,
          81700.7,
          82298.70000000001,
          82058.70000000001,
          82525.59999999999,
          83650,
          83486.5,
          83039.9,
          83104.79999999999,
          83100,
          85746.9836054148,
          85903.3786263396,
          85865.727973154,
          85987.47198084481,
          85231.87302062279,
          84817.3020921396,
          87101.6939163816,
          87146.37241910401,
          86804.2960155588,
          86983.85701228201,
          87662.9279043708,
          87399.1976904336,
          87561.395477568,
          87284.4311099808,
          87230.22401663041,
          87526.8808048488,
          87687.0670006284,
          88410.71052221041,
          88262.276254872,
          88265.5583249772,
          87993.4641259332,
          88002.7809701028,
          91162.4638367814,
          91512.13957423202,
          92647.24753669661,
          88030.46345909042,
          88109.43531336001,
          88037.49236758561,
          88466.04905319,
          88088.6586867786,
          87705.5831737902,
          88052.3771149872,
          87747.5498921586,
          87517.3531389408,
          87784.34829545699,
          87802.23066559921,
          91389.58114848452,
          91257.3978147864,
          91820.707131261,
          91532.07284939219,
          91380.56132717611,
          91010.21175940621,
          91020.5201266158,
          90919.04713689629,
          91270.2832737984,
          91169.1324205542,
          90274.34467099591,
          90299.3639372442,
          90208.5214512096,
          90017.1723848814,
          89661.31895850001,
          89908.39763505511,
          90335.657980128,
          90043.2654393807,
          90289.8072218103,
          90109.73293211761,
          89847.72859887361,
          88912.2442746024,
          85772.42660500741,
          92885.4718817963,
          92342.6919551773,
          92283.7329036,
          92696.3348108574,
          92731.3312989392,
          92460.94441968299,
          91898.88298848389,
          92116.32932048259,
          91392.102634,
          91057.7412829,
          91581.57406628999,
          91744.6309518431,
          91757.671044536,
          91674.97233703059,
          91392.2140877837,
          91614.78729383259,
          91258.13518599259,
          90281.13131807839,
          90021.10964070629,
          88769.9294648901,
          79840.8,
          79493.5,
          79006.09999999999,
          78955,
          79600,
          79000,
          79219.9,
          79430.7,
          78563.7,
          78483,
          78526.8,
          78471,
          78493.1,
          79118.3,
          79010.1,
          78870
         ],
         "yaxis": "y3"
        },
        {
         "mode": "lines",
         "name": "net_worth",
         "type": "scatter",
         "uid": "81910362-5a88-461a-9686-2e0579338611",
         "xaxis": "x3",
         "y": [
          97409.9,
          97390,
          97284.9,
          97040.76885322719,
          97996.59851223898,
          97604.79347959999,
          97604.79347959999,
          97596.38986190829,
          94961.1463192617,
          94988.75820596298,
          95151.70107886828,
          95272.9532769914,
          95058.06076744648,
          95374.014965076,
          94899.265134441,
          94682.9538322988,
          94330.65671659999,
          94494.25441685789,
          94286.12845662319,
          92871.2648234388,
          90919.94,
          91233.54,
          91879.43999999999,
          91789.64,
          91973.64,
          91887.1384320991,
          91608.3654814332,
          92001.44517706051,
          93396.7305687117,
          93392.13,
          93312.93000000001,
          91462.03,
          91912.13,
          92520.13,
          92396.13,
          92636.13,
          92461.03,
          92189.33,
          92683.93000000001,
          92620.63,
          92434.63,
          93128.03,
          93245.13,
          93413.13,
          93348.33000000002,
          93316.86519054719,
          92773.44525410271,
          93285.27465718701,
          93080.87763008161,
          92068.725309574,
          92382.538554874,
          92531.8090552217,
          92701.4774165139,
          92607.438047339,
          92299.5872536997,
          92629.1957656798,
          92812.3580965199,
          92685.7867542489,
          92372.39192660931,
          92176.3632527119,
          91217.24537066,
          91309.27,
          91552.97,
          91100.07,
          90345.97,
          90216.27,
          89126.77,
          89288.47,
          89530.97,
          89465.87,
          89772.97,
          89975.67,
          89202.67,
          90435.47,
          90767.87,
          90625.87,
          90923.26999999999,
          90695.97,
          90615.97,
          90489.97,
          90346.07,
          90716.87,
          90815.87,
          90655.47,
          91699.87,
          91860.17,
          91947.26999999999,
          91895.97,
          91744.97,
          92034.67000000001,
          91680.97,
          91555.87,
          91545.97,
          91918.97,
          91827.26999999999,
          91954.27,
          91694.97,
          91246.67,
          91844.67000000001,
          91604.67000000001,
          92071.56999999999,
          93195.97,
          93032.47,
          92585.87,
          92650.76999999999,
          92645.97,
          92429.1636054148,
          92585.5586263396,
          92547.90797315401,
          92669.65198084482,
          91914.05302062278,
          91499.4820921396,
          91779.2239163816,
          91823.90241910401,
          91481.82601555879,
          91661.38701228201,
          92340.45790437079,
          92076.7276904336,
          92238.925477568,
          91961.9611099808,
          91907.75401663041,
          92204.4108048488,
          92364.5970006284,
          93088.24052221041,
          92939.806254872,
          92943.0883249772,
          92670.9941259332,
          92680.3109701028,
          93033.4738367814,
          93383.14957423201,
          94518.2575366966,
          94867.68345909042,
          94946.65531336001,
          94874.71236758561,
          95303.26905319,
          94925.8786867786,
          94542.8031737902,
          94889.5971149872,
          94584.7698921586,
          94354.5731389408,
          94621.568295457,
          94639.45066559922,
          94808.19114848452,
          94676.0078147864,
          95239.317131261,
          94950.6828493922,
          94799.17132717611,
          94428.82175940622,
          94439.1301266158,
          94337.65713689629,
          94688.8932737984,
          94587.7424205542,
          93692.95467099591,
          93717.9739372442,
          93627.1314512096,
          93435.7823848814,
          93079.92895850001,
          93327.00763505511,
          93754.267980128,
          93461.8754393807,
          93708.4172218103,
          93528.34293211761,
          93266.33859887361,
          92330.8542746024,
          92503.53660500741,
          92885.4718817963,
          92342.6919551773,
          92283.7329036,
          92696.3348108574,
          92731.3312989392,
          92460.94441968299,
          91898.88298848389,
          92116.32932048259,
          91392.102634,
          91057.7412829,
          91581.57406628999,
          91744.6309518431,
          91757.671044536,
          91674.97233703059,
          91392.2140877837,
          91614.78729383259,
          91258.13518599259,
          90281.13131807839,
          90021.10964070629,
          88769.9294648901,
          88936.06,
          88588.76,
          88101.35999999999,
          88050.26,
          88695.26,
          88095.26,
          88315.15999999999,
          88525.95999999999,
          87658.95999999999,
          87578.26,
          87622.06,
          87566.26,
          87588.36,
          88213.56,
          88105.36,
          87965.26
         ],
         "yaxis": "y3"
        },
        {
         "marker": {
          "color": "DarkGreen"
         },
         "mode": "lines",
         "name": "Net Worth",
         "type": "scatter",
         "uid": "2a16b7a4-6c62-48f6-86ee-f813f28782f1",
         "xaxis": "x4",
         "y": [
          97409.9,
          97390,
          97284.9,
          97040.76885322719,
          97996.59851223898,
          97604.79347959999,
          97604.79347959999,
          97596.38986190829,
          94961.1463192617,
          94988.75820596298,
          95151.70107886828,
          95272.9532769914,
          95058.06076744648,
          95374.014965076,
          94899.265134441,
          94682.9538322988,
          94330.65671659999,
          94494.25441685789,
          94286.12845662319,
          92871.2648234388,
          90919.94,
          91233.54,
          91879.43999999999,
          91789.64,
          91973.64,
          91887.1384320991,
          91608.3654814332,
          92001.44517706051,
          93396.7305687117,
          93392.13,
          93312.93000000001,
          91462.03,
          91912.13,
          92520.13,
          92396.13,
          92636.13,
          92461.03,
          92189.33,
          92683.93000000001,
          92620.63,
          92434.63,
          93128.03,
          93245.13,
          93413.13,
          93348.33000000002,
          93316.86519054719,
          92773.44525410271,
          93285.27465718701,
          93080.87763008161,
          92068.725309574,
          92382.538554874,
          92531.8090552217,
          92701.4774165139,
          92607.438047339,
          92299.5872536997,
          92629.1957656798,
          92812.3580965199,
          92685.7867542489,
          92372.39192660931,
          92176.3632527119,
          91217.24537066,
          91309.27,
          91552.97,
          91100.07,
          90345.97,
          90216.27,
          89126.77,
          89288.47,
          89530.97,
          89465.87,
          89772.97,
          89975.67,
          89202.67,
          90435.47,
          90767.87,
          90625.87,
          90923.26999999999,
          90695.97,
          90615.97,
          90489.97,
          90346.07,
          90716.87,
          90815.87,
          90655.47,
          91699.87,
          91860.17,
          91947.26999999999,
          91895.97,
          91744.97,
          92034.67000000001,
          91680.97,
          91555.87,
          91545.97,
          91918.97,
          91827.26999999999,
          91954.27,
          91694.97,
          91246.67,
          91844.67000000001,
          91604.67000000001,
          92071.56999999999,
          93195.97,
          93032.47,
          92585.87,
          92650.76999999999,
          92645.97,
          92429.1636054148,
          92585.5586263396,
          92547.90797315401,
          92669.65198084482,
          91914.05302062278,
          91499.4820921396,
          91779.2239163816,
          91823.90241910401,
          91481.82601555879,
          91661.38701228201,
          92340.45790437079,
          92076.7276904336,
          92238.925477568,
          91961.9611099808,
          91907.75401663041,
          92204.4108048488,
          92364.5970006284,
          93088.24052221041,
          92939.806254872,
          92943.0883249772,
          92670.9941259332,
          92680.3109701028,
          93033.4738367814,
          93383.14957423201,
          94518.2575366966,
          94867.68345909042,
          94946.65531336001,
          94874.71236758561,
          95303.26905319,
          94925.8786867786,
          94542.8031737902,
          94889.5971149872,
          94584.7698921586,
          94354.5731389408,
          94621.568295457,
          94639.45066559922,
          94808.19114848452,
          94676.0078147864,
          95239.317131261,
          94950.6828493922,
          94799.17132717611,
          94428.82175940622,
          94439.1301266158,
          94337.65713689629,
          94688.8932737984,
          94587.7424205542,
          93692.95467099591,
          93717.9739372442,
          93627.1314512096,
          93435.7823848814,
          93079.92895850001,
          93327.00763505511,
          93754.267980128,
          93461.8754393807,
          93708.4172218103,
          93528.34293211761,
          93266.33859887361,
          92330.8542746024,
          92503.53660500741,
          92885.4718817963,
          92342.6919551773,
          92283.7329036,
          92696.3348108574,
          92731.3312989392,
          92460.94441968299,
          91898.88298848389,
          92116.32932048259,
          91392.102634,
          91057.7412829,
          91581.57406628999,
          91744.6309518431,
          91757.671044536,
          91674.97233703059,
          91392.2140877837,
          91614.78729383259,
          91258.13518599259,
          90281.13131807839,
          90021.10964070629,
          88769.9294648901,
          88936.06,
          88588.76,
          88101.35999999999,
          88050.26,
          88695.26,
          88095.26,
          88315.15999999999,
          88525.95999999999,
          87658.95999999999,
          87578.26,
          87622.06,
          87566.26,
          87588.36,
          88213.56,
          88105.36,
          87965.26
         ],
         "yaxis": "y4"
        }
       ],
       "layout": {
        "annotations": [
         {
          "arrowcolor": "FireBrick",
          "arrowhead": 2,
          "arrowsize": 0.8,
          "arrowwidth": 4,
          "ax": 0,
          "ay": -15,
          "hoverlabel": {
           "bgcolor": "FireBrick"
          },
          "hovertext": "Step 20 [2018-05-16 01:00:00]<br>SELL 0.91104784 BTC @ 8326.28 USD MARKET<br>Total: 7585.64 USD - Comm.: 0.00274137 BTC",
          "opacity": 0.6,
          "showarrow": true,
          "x": 19,
          "xref": "x",
          "y": 8326.28,
          "yref": "y"
         },
         {
          "arrowcolor": "DarkGreen",
          "arrowhead": 2,
          "arrowsize": 0.8,
          "arrowwidth": 4,
          "ax": 0,
          "ay": 15,
          "hoverlabel": {
           "bgcolor": "DarkGreen"
          },
          "hovertext": "Step 3 [2018-05-15 08:00:00]<br>BUY 0.91378921 BTC @ 8728.49 USD MARKET<br>Total: 7976.0 USD - Comm.: 24.00 USD",
          "opacity": 0.6,
          "showarrow": true,
          "x": 2,
          "xref": "x",
          "y": 8728.49,
          "yref": "y"
         },
         {
          "arrowcolor": "FireBrick",
          "arrowhead": 2,
          "arrowsize": 0.8,
          "arrowwidth": 4,
          "ax": 0,
          "ay": -15,
          "hoverlabel": {
           "bgcolor": "FireBrick"
          },
          "hovertext": "Step 29 [2018-05-16 10:00:00]<br>SELL 0.92520313 BTC @ 8371.13 USD MARKET<br>Total: 7745.0 USD - Comm.: 0.00278396 BTC",
          "opacity": 0.6,
          "showarrow": true,
          "x": 28,
          "xref": "x",
          "y": 8371.13,
          "yref": "y"
         },
         {
          "arrowcolor": "DarkGreen",
          "arrowhead": 2,
          "arrowsize": 0.8,
          "arrowwidth": 4,
          "ax": 0,
          "ay": 15,
          "hoverlabel": {
           "bgcolor": "DarkGreen"
          },
          "hovertext": "Step 25 [2018-05-16 06:00:00]<br>BUY 0.92798709 BTC @ 8238.8 USD MARKET<br>Total: 7645.5 USD - Comm.: 23.01 USD",
          "opacity": 0.6,
          "showarrow": true,
          "x": 24,
          "xref": "x",
          "y": 8238.8,
          "yref": "y"
         },
         {
          "arrowcolor": "DarkGreen",
          "arrowhead": 2,
          "arrowsize": 0.8,
          "arrowwidth": 4,
          "ax": 0,
          "ay": 15,
          "hoverlabel": {
           "bgcolor": "DarkGreen"
          },
          "hovertext": "Step 45 [2018-05-17 02:00:00]<br>BUY 0.46044151 BTC @ 8368.62 USD MARKET<br>Total: 3853.26 USD - Comm.: 11.59 USD",
          "opacity": 0.6,
          "showarrow": true,
          "x": 44,
          "xref": "x",
          "y": 8368.62,
          "yref": "y"
         },
         {
          "arrowcolor": "FireBrick",
          "arrowhead": 2,
          "arrowsize": 0.8,
          "arrowwidth": 4,
          "ax": 0,
          "ay": -15,
          "hoverlabel": {
           "bgcolor": "FireBrick"
          },
          "hovertext": "Step 61 [2018-05-17 18:00:00]<br>SELL 0.45906019 BTC @ 8166.0 USD MARKET<br>Total: 3748.69 USD - Comm.: 0.00138132 BTC",
          "opacity": 0.6,
          "showarrow": true,
          "x": 60,
          "xref": "x",
          "y": 8166,
          "yref": "y"
         },
         {
          "arrowcolor": "DarkGreen",
          "arrowhead": 2,
          "arrowsize": 0.8,
          "arrowwidth": 4,
          "ax": 0,
          "ay": 15,
          "hoverlabel": {
           "bgcolor": "DarkGreen"
          },
          "hovertext": "Step 112 [2018-05-19 21:00:00]<br>BUY 0.24373688 BTC @ 8199.99 USD MARKET<br>Total: 1998.64 USD - Comm.: 6.01 USD",
          "opacity": 0.6,
          "showarrow": true,
          "x": 111,
          "xref": "x",
          "y": 8199.99,
          "yref": "y"
         },
         {
          "arrowcolor": "DarkGreen",
          "arrowhead": 2,
          "arrowsize": 0.8,
          "arrowwidth": 4,
          "ax": 0,
          "ay": 15,
          "hoverlabel": {
           "bgcolor": "DarkGreen"
          },
          "hovertext": "Step 106 [2018-05-19 15:00:00]<br>BUY 0.34358604 BTC @ 8310.0 USD MARKET<br>Total: 2855.2 USD - Comm.: 8.59 USD",
          "opacity": 0.6,
          "showarrow": true,
          "x": 105,
          "xref": "x",
          "y": 8310,
          "yref": "y"
         },
         {
          "arrowcolor": "FireBrick",
          "arrowhead": 2,
          "arrowsize": 0.8,
          "arrowwidth": 4,
          "ax": 0,
          "ay": -15,
          "hoverlabel": {
           "bgcolor": "FireBrick"
          },
          "hovertext": "Step 131 [2018-05-20 16:00:00]<br>SELL 0.24300567 BTC @ 8481.11 USD MARKET<br>Total: 2060.96 USD - Comm.: 0.00073121 BTC",
          "opacity": 0.6,
          "showarrow": true,
          "x": 130,
          "xref": "x",
          "y": 8481.11,
          "yref": "y"
         },
         {
          "arrowcolor": "FireBrick",
          "arrowhead": 2,
          "arrowsize": 0.8,
          "arrowwidth": 4,
          "ax": 0,
          "ay": -15,
          "hoverlabel": {
           "bgcolor": "FireBrick"
          },
          "hovertext": "Step 131 [2018-05-20 16:00:00]<br>SELL 0.34255528 BTC @ 8481.11 USD MARKET<br>Total: 2905.25 USD - Comm.: 0.00103076 BTC",
          "opacity": 0.6,
          "showarrow": true,
          "x": 130,
          "xref": "x",
          "y": 8481.11,
          "yref": "y"
         },
         {
          "arrowcolor": "DarkGreen",
          "arrowhead": 2,
          "arrowsize": 0.8,
          "arrowwidth": 4,
          "ax": 0,
          "ay": 15,
          "hoverlabel": {
           "bgcolor": "DarkGreen"
          },
          "hovertext": "Step 128 [2018-05-20 13:00:00]<br>BUY 0.33663014 BTC @ 8312.09 USD MARKET<br>Total: 2798.1 USD - Comm.: 8.42 USD",
          "opacity": 0.6,
          "showarrow": true,
          "x": 127,
          "xref": "x",
          "y": 8312.09,
          "yref": "y"
         },
         {
          "arrowcolor": "DarkGreen",
          "arrowhead": 2,
          "arrowsize": 0.8,
          "arrowwidth": 4,
          "ax": 0,
          "ay": 15,
          "hoverlabel": {
           "bgcolor": "DarkGreen"
          },
          "hovertext": "Step 142 [2018-05-21 03:00:00]<br>BUY 0.40125237 BTC @ 8494.28 USD MARKET<br>Total: 3408.35 USD - Comm.: 10.26 USD",
          "opacity": 0.6,
          "showarrow": true,
          "x": 141,
          "xref": "x",
          "y": 8494.28,
          "yref": "y"
         },
         {
          "arrowcolor": "DarkGreen",
          "arrowhead": 2,
          "arrowsize": 0.8,
          "arrowwidth": 4,
          "ax": 0,
          "ay": 15,
          "hoverlabel": {
           "bgcolor": "DarkGreen"
          },
          "hovertext": "Step 165 [2018-05-22 02:00:00]<br>BUY 0.80874823 BTC @ 8297.91 USD MARKET<br>Total: 6710.92 USD - Comm.: 20.19 USD",
          "opacity": 0.6,
          "showarrow": true,
          "x": 164,
          "xref": "x",
          "y": 8297.91,
          "yref": "y"
         },
         {
          "arrowcolor": "FireBrick",
          "arrowhead": 2,
          "arrowsize": 0.8,
          "arrowwidth": 4,
          "ax": 0,
          "ay": -15,
          "hoverlabel": {
           "bgcolor": "FireBrick"
          },
          "hovertext": "Step 164 [2018-05-22 01:00:00]<br>SELL 0.40004861 BTC @ 8280.24 USD MARKET<br>Total: 3312.5 USD - Comm.: 0.00120376 BTC",
          "opacity": 0.6,
          "showarrow": true,
          "x": 163,
          "xref": "x",
          "y": 8280.24,
          "yref": "y"
         },
         {
          "arrowcolor": "FireBrick",
          "arrowhead": 2,
          "arrowsize": 0.8,
          "arrowwidth": 4,
          "ax": 0,
          "ay": -15,
          "hoverlabel": {
           "bgcolor": "FireBrick"
          },
          "hovertext": "Step 185 [2018-05-22 22:00:00]<br>SELL 0.80632199 BTC @ 7964.73 USD MARKET<br>Total: 6422.14 USD - Comm.: 0.00242624 BTC",
          "opacity": 0.6,
          "showarrow": true,
          "x": 184,
          "xref": "x",
          "y": 7964.73,
          "yref": "y"
         },
         {
          "arrowcolor": "FireBrick",
          "arrowhead": 2,
          "arrowsize": 0.8,
          "arrowwidth": 4,
          "ax": 0,
          "ay": -15,
          "hoverlabel": {
           "bgcolor": "FireBrick"
          },
          "hovertext": "Step 185 [2018-05-22 22:00:00]<br>SELL 0.33562025 BTC @ 7964.73 USD MARKET<br>Total: 2673.12 USD - Comm.: 0.00100989 BTC",
          "opacity": 0.6,
          "showarrow": true,
          "x": 184,
          "xref": "x",
          "y": 7964.73,
          "yref": "y"
         }
        ],
        "margin": {
         "t": 50
        },
        "template": {
         "data": {
          "bar": [
           {
            "error_x": {
             "color": "#2a3f5f"
            },
            "error_y": {
             "color": "#2a3f5f"
            },
            "marker": {
             "line": {
              "color": "white",
              "width": 0.5
             },
             "pattern": {
              "fillmode": "overlay",
              "size": 10,
              "solidity": 0.2
             }
            },
            "type": "bar"
           }
          ],
          "barpolar": [
           {
            "marker": {
             "line": {
              "color": "white",
              "width": 0.5
             },
             "pattern": {
              "fillmode": "overlay",
              "size": 10,
              "solidity": 0.2
             }
            },
            "type": "barpolar"
           }
          ],
          "carpet": [
           {
            "aaxis": {
             "endlinecolor": "#2a3f5f",
             "gridcolor": "#C8D4E3",
             "linecolor": "#C8D4E3",
             "minorgridcolor": "#C8D4E3",
             "startlinecolor": "#2a3f5f"
            },
            "baxis": {
             "endlinecolor": "#2a3f5f",
             "gridcolor": "#C8D4E3",
             "linecolor": "#C8D4E3",
             "minorgridcolor": "#C8D4E3",
             "startlinecolor": "#2a3f5f"
            },
            "type": "carpet"
           }
          ],
          "choropleth": [
           {
            "colorbar": {
             "outlinewidth": 0,
             "ticks": ""
            },
            "type": "choropleth"
           }
          ],
          "contour": [
           {
            "colorbar": {
             "outlinewidth": 0,
             "ticks": ""
            },
            "colorscale": [
             [
              0,
              "#0d0887"
             ],
             [
              0.1111111111111111,
              "#46039f"
             ],
             [
              0.2222222222222222,
              "#7201a8"
             ],
             [
              0.3333333333333333,
              "#9c179e"
             ],
             [
              0.4444444444444444,
              "#bd3786"
             ],
             [
              0.5555555555555556,
              "#d8576b"
             ],
             [
              0.6666666666666666,
              "#ed7953"
             ],
             [
              0.7777777777777778,
              "#fb9f3a"
             ],
             [
              0.8888888888888888,
              "#fdca26"
             ],
             [
              1,
              "#f0f921"
             ]
            ],
            "type": "contour"
           }
          ],
          "contourcarpet": [
           {
            "colorbar": {
             "outlinewidth": 0,
             "ticks": ""
            },
            "type": "contourcarpet"
           }
          ],
          "heatmap": [
           {
            "colorbar": {
             "outlinewidth": 0,
             "ticks": ""
            },
            "colorscale": [
             [
              0,
              "#0d0887"
             ],
             [
              0.1111111111111111,
              "#46039f"
             ],
             [
              0.2222222222222222,
              "#7201a8"
             ],
             [
              0.3333333333333333,
              "#9c179e"
             ],
             [
              0.4444444444444444,
              "#bd3786"
             ],
             [
              0.5555555555555556,
              "#d8576b"
             ],
             [
              0.6666666666666666,
              "#ed7953"
             ],
             [
              0.7777777777777778,
              "#fb9f3a"
             ],
             [
              0.8888888888888888,
              "#fdca26"
             ],
             [
              1,
              "#f0f921"
             ]
            ],
            "type": "heatmap"
           }
          ],
          "heatmapgl": [
           {
            "colorbar": {
             "outlinewidth": 0,
             "ticks": ""
            },
            "colorscale": [
             [
              0,
              "#0d0887"
             ],
             [
              0.1111111111111111,
              "#46039f"
             ],
             [
              0.2222222222222222,
              "#7201a8"
             ],
             [
              0.3333333333333333,
              "#9c179e"
             ],
             [
              0.4444444444444444,
              "#bd3786"
             ],
             [
              0.5555555555555556,
              "#d8576b"
             ],
             [
              0.6666666666666666,
              "#ed7953"
             ],
             [
              0.7777777777777778,
              "#fb9f3a"
             ],
             [
              0.8888888888888888,
              "#fdca26"
             ],
             [
              1,
              "#f0f921"
             ]
            ],
            "type": "heatmapgl"
           }
          ],
          "histogram": [
           {
            "marker": {
             "pattern": {
              "fillmode": "overlay",
              "size": 10,
              "solidity": 0.2
             }
            },
            "type": "histogram"
           }
          ],
          "histogram2d": [
           {
            "colorbar": {
             "outlinewidth": 0,
             "ticks": ""
            },
            "colorscale": [
             [
              0,
              "#0d0887"
             ],
             [
              0.1111111111111111,
              "#46039f"
             ],
             [
              0.2222222222222222,
              "#7201a8"
             ],
             [
              0.3333333333333333,
              "#9c179e"
             ],
             [
              0.4444444444444444,
              "#bd3786"
             ],
             [
              0.5555555555555556,
              "#d8576b"
             ],
             [
              0.6666666666666666,
              "#ed7953"
             ],
             [
              0.7777777777777778,
              "#fb9f3a"
             ],
             [
              0.8888888888888888,
              "#fdca26"
             ],
             [
              1,
              "#f0f921"
             ]
            ],
            "type": "histogram2d"
           }
          ],
          "histogram2dcontour": [
           {
            "colorbar": {
             "outlinewidth": 0,
             "ticks": ""
            },
            "colorscale": [
             [
              0,
              "#0d0887"
             ],
             [
              0.1111111111111111,
              "#46039f"
             ],
             [
              0.2222222222222222,
              "#7201a8"
             ],
             [
              0.3333333333333333,
              "#9c179e"
             ],
             [
              0.4444444444444444,
              "#bd3786"
             ],
             [
              0.5555555555555556,
              "#d8576b"
             ],
             [
              0.6666666666666666,
              "#ed7953"
             ],
             [
              0.7777777777777778,
              "#fb9f3a"
             ],
             [
              0.8888888888888888,
              "#fdca26"
             ],
             [
              1,
              "#f0f921"
             ]
            ],
            "type": "histogram2dcontour"
           }
          ],
          "mesh3d": [
           {
            "colorbar": {
             "outlinewidth": 0,
             "ticks": ""
            },
            "type": "mesh3d"
           }
          ],
          "parcoords": [
           {
            "line": {
             "colorbar": {
              "outlinewidth": 0,
              "ticks": ""
             }
            },
            "type": "parcoords"
           }
          ],
          "pie": [
           {
            "automargin": true,
            "type": "pie"
           }
          ],
          "scatter": [
           {
            "marker": {
             "colorbar": {
              "outlinewidth": 0,
              "ticks": ""
             }
            },
            "type": "scatter"
           }
          ],
          "scatter3d": [
           {
            "line": {
             "colorbar": {
              "outlinewidth": 0,
              "ticks": ""
             }
            },
            "marker": {
             "colorbar": {
              "outlinewidth": 0,
              "ticks": ""
             }
            },
            "type": "scatter3d"
           }
          ],
          "scattercarpet": [
           {
            "marker": {
             "colorbar": {
              "outlinewidth": 0,
              "ticks": ""
             }
            },
            "type": "scattercarpet"
           }
          ],
          "scattergeo": [
           {
            "marker": {
             "colorbar": {
              "outlinewidth": 0,
              "ticks": ""
             }
            },
            "type": "scattergeo"
           }
          ],
          "scattergl": [
           {
            "marker": {
             "colorbar": {
              "outlinewidth": 0,
              "ticks": ""
             }
            },
            "type": "scattergl"
           }
          ],
          "scattermapbox": [
           {
            "marker": {
             "colorbar": {
              "outlinewidth": 0,
              "ticks": ""
             }
            },
            "type": "scattermapbox"
           }
          ],
          "scatterpolar": [
           {
            "marker": {
             "colorbar": {
              "outlinewidth": 0,
              "ticks": ""
             }
            },
            "type": "scatterpolar"
           }
          ],
          "scatterpolargl": [
           {
            "marker": {
             "colorbar": {
              "outlinewidth": 0,
              "ticks": ""
             }
            },
            "type": "scatterpolargl"
           }
          ],
          "scatterternary": [
           {
            "marker": {
             "colorbar": {
              "outlinewidth": 0,
              "ticks": ""
             }
            },
            "type": "scatterternary"
           }
          ],
          "surface": [
           {
            "colorbar": {
             "outlinewidth": 0,
             "ticks": ""
            },
            "colorscale": [
             [
              0,
              "#0d0887"
             ],
             [
              0.1111111111111111,
              "#46039f"
             ],
             [
              0.2222222222222222,
              "#7201a8"
             ],
             [
              0.3333333333333333,
              "#9c179e"
             ],
             [
              0.4444444444444444,
              "#bd3786"
             ],
             [
              0.5555555555555556,
              "#d8576b"
             ],
             [
              0.6666666666666666,
              "#ed7953"
             ],
             [
              0.7777777777777778,
              "#fb9f3a"
             ],
             [
              0.8888888888888888,
              "#fdca26"
             ],
             [
              1,
              "#f0f921"
             ]
            ],
            "type": "surface"
           }
          ],
          "table": [
           {
            "cells": {
             "fill": {
              "color": "#EBF0F8"
             },
             "line": {
              "color": "white"
             }
            },
            "header": {
             "fill": {
              "color": "#C8D4E3"
             },
             "line": {
              "color": "white"
             }
            },
            "type": "table"
           }
          ]
         },
         "layout": {
          "annotationdefaults": {
           "arrowcolor": "#2a3f5f",
           "arrowhead": 0,
           "arrowwidth": 1
          },
          "autotypenumbers": "strict",
          "coloraxis": {
           "colorbar": {
            "outlinewidth": 0,
            "ticks": ""
           }
          },
          "colorscale": {
           "diverging": [
            [
             0,
             "#8e0152"
            ],
            [
             0.1,
             "#c51b7d"
            ],
            [
             0.2,
             "#de77ae"
            ],
            [
             0.3,
             "#f1b6da"
            ],
            [
             0.4,
             "#fde0ef"
            ],
            [
             0.5,
             "#f7f7f7"
            ],
            [
             0.6,
             "#e6f5d0"
            ],
            [
             0.7,
             "#b8e186"
            ],
            [
             0.8,
             "#7fbc41"
            ],
            [
             0.9,
             "#4d9221"
            ],
            [
             1,
             "#276419"
            ]
           ],
           "sequential": [
            [
             0,
             "#0d0887"
            ],
            [
             0.1111111111111111,
             "#46039f"
            ],
            [
             0.2222222222222222,
             "#7201a8"
            ],
            [
             0.3333333333333333,
             "#9c179e"
            ],
            [
             0.4444444444444444,
             "#bd3786"
            ],
            [
             0.5555555555555556,
             "#d8576b"
            ],
            [
             0.6666666666666666,
             "#ed7953"
            ],
            [
             0.7777777777777778,
             "#fb9f3a"
            ],
            [
             0.8888888888888888,
             "#fdca26"
            ],
            [
             1,
             "#f0f921"
            ]
           ],
           "sequentialminus": [
            [
             0,
             "#0d0887"
            ],
            [
             0.1111111111111111,
             "#46039f"
            ],
            [
             0.2222222222222222,
             "#7201a8"
            ],
            [
             0.3333333333333333,
             "#9c179e"
            ],
            [
             0.4444444444444444,
             "#bd3786"
            ],
            [
             0.5555555555555556,
             "#d8576b"
            ],
            [
             0.6666666666666666,
             "#ed7953"
            ],
            [
             0.7777777777777778,
             "#fb9f3a"
            ],
            [
             0.8888888888888888,
             "#fdca26"
            ],
            [
             1,
             "#f0f921"
            ]
           ]
          },
          "colorway": [
           "#636efa",
           "#EF553B",
           "#00cc96",
           "#ab63fa",
           "#FFA15A",
           "#19d3f3",
           "#FF6692",
           "#B6E880",
           "#FF97FF",
           "#FECB52"
          ],
          "font": {
           "color": "#2a3f5f"
          },
          "geo": {
           "bgcolor": "white",
           "lakecolor": "white",
           "landcolor": "white",
           "showlakes": true,
           "showland": true,
           "subunitcolor": "#C8D4E3"
          },
          "hoverlabel": {
           "align": "left"
          },
          "hovermode": "closest",
          "mapbox": {
           "style": "light"
          },
          "paper_bgcolor": "white",
          "plot_bgcolor": "white",
          "polar": {
           "angularaxis": {
            "gridcolor": "#EBF0F8",
            "linecolor": "#EBF0F8",
            "ticks": ""
           },
           "bgcolor": "white",
           "radialaxis": {
            "gridcolor": "#EBF0F8",
            "linecolor": "#EBF0F8",
            "ticks": ""
           }
          },
          "scene": {
           "xaxis": {
            "backgroundcolor": "white",
            "gridcolor": "#DFE8F3",
            "gridwidth": 2,
            "linecolor": "#EBF0F8",
            "showbackground": true,
            "ticks": "",
            "zerolinecolor": "#EBF0F8"
           },
           "yaxis": {
            "backgroundcolor": "white",
            "gridcolor": "#DFE8F3",
            "gridwidth": 2,
            "linecolor": "#EBF0F8",
            "showbackground": true,
            "ticks": "",
            "zerolinecolor": "#EBF0F8"
           },
           "zaxis": {
            "backgroundcolor": "white",
            "gridcolor": "#DFE8F3",
            "gridwidth": 2,
            "linecolor": "#EBF0F8",
            "showbackground": true,
            "ticks": "",
            "zerolinecolor": "#EBF0F8"
           }
          },
          "shapedefaults": {
           "line": {
            "color": "#2a3f5f"
           }
          },
          "ternary": {
           "aaxis": {
            "gridcolor": "#DFE8F3",
            "linecolor": "#A2B1C6",
            "ticks": ""
           },
           "baxis": {
            "gridcolor": "#DFE8F3",
            "linecolor": "#A2B1C6",
            "ticks": ""
           },
           "bgcolor": "white",
           "caxis": {
            "gridcolor": "#DFE8F3",
            "linecolor": "#A2B1C6",
            "ticks": ""
           }
          },
          "title": {
           "x": 0.05
          },
          "xaxis": {
           "automargin": true,
           "gridcolor": "#EBF0F8",
           "linecolor": "#EBF0F8",
           "ticks": "",
           "title": {
            "standoff": 15
           },
           "zerolinecolor": "#EBF0F8",
           "zerolinewidth": 2
          },
          "yaxis": {
           "automargin": true,
           "gridcolor": "#EBF0F8",
           "linecolor": "#EBF0F8",
           "ticks": "",
           "title": {
            "standoff": 15
           },
           "zerolinecolor": "#EBF0F8",
           "zerolinewidth": 2
          }
         }
        },
        "title": {
         "text": "[2022-04-10 00:09:17] Episode: 2/2 Step: 201/200"
        },
        "xaxis": {
         "anchor": "y",
         "domain": [
          0,
          1
         ],
         "gridcolor": "Gainsboro",
         "linecolor": "Grey",
         "matches": "x4",
         "rangeslider": {
          "visible": false
         },
         "showticklabels": false,
         "title": {
          "font": {
           "size": 12
          },
          "standoff": 7,
          "text": "Price"
         }
        },
        "xaxis2": {
         "anchor": "y2",
         "domain": [
          0,
          1
         ],
         "gridcolor": "Gainsboro",
         "linecolor": "Grey",
         "matches": "x4",
         "showticklabels": false,
         "title": {
          "font": {
           "size": 12
          },
          "standoff": 7,
          "text": "Volume"
         }
        },
        "xaxis3": {
         "anchor": "y3",
         "domain": [
          0,
          1
         ],
         "gridcolor": "Gainsboro",
         "linecolor": "Grey",
         "matches": "x4",
         "showticklabels": false,
         "title": {
          "font": {
           "size": 12
          },
          "standoff": 7,
          "text": "Performance"
         }
        },
        "xaxis4": {
         "anchor": "y4",
         "domain": [
          0,
          1
         ],
         "gridcolor": "Gainsboro",
         "linecolor": "Grey",
         "title": {
          "font": {
           "size": 12
          },
          "standoff": 7,
          "text": "Net Worth"
         }
        },
        "yaxis": {
         "anchor": "x",
         "domain": [
          0.49950000000000006,
          1
         ],
         "gridcolor": "Gainsboro",
         "linecolor": "Grey"
        },
        "yaxis2": {
         "anchor": "x2",
         "domain": [
          0.333,
          0.46950000000000003
         ],
         "gridcolor": "Gainsboro",
         "linecolor": "Grey"
        },
        "yaxis3": {
         "anchor": "x3",
         "domain": [
          0.1665,
          0.30300000000000005
         ],
         "gridcolor": "Gainsboro",
         "linecolor": "Grey"
        },
        "yaxis4": {
         "anchor": "x4",
         "domain": [
          0,
          0.1365
         ],
         "gridcolor": "Gainsboro",
         "linecolor": "Grey"
        }
       }
      }
     },
     "metadata": {},
     "output_type": "display_data"
    },
    {
     "name": "stdout",
     "output_type": "stream",
     "text": [
      "WARNING:tensorflow:Compiled the loaded model, but the compiled metrics have yet to be built. `model.compile_metrics` will be empty until you train or evaluate the model.\n"
     ]
    },
    {
     "name": "stderr",
     "output_type": "stream",
     "text": [
      "WARNING:tensorflow:Compiled the loaded model, but the compiled metrics have yet to be built. `model.compile_metrics` will be empty until you train or evaluate the model.\n"
     ]
    },
    {
     "data": {
      "text/plain": [
       "-1302247.9461273197"
      ]
     },
     "execution_count": 13,
     "metadata": {},
     "output_type": "execute_result"
    }
   ],
   "source": [
    "# Treinando um  DQN trading agent\n",
    "agent = DQNAgent(env)\n",
    "\n",
    "agent.train(n_steps=200, n_episodes=2, save_path=\"agents/\")"
   ]
  },
  {
   "cell_type": "markdown",
   "metadata": {},
   "source": [
    "<p align=\"justify\">Estes gráficos nos dão uma visão geral das operações de mercado do nosso <i>Tranding bot</i>. O primeiro <i>subplot</i> nos mostra os movimentos de subida e descida dos preços. Depois, a segunda subparcela apresenta os volumes de <i>stock</i> na carteira, e no <i>subplot</i> mais inferior, pode ver o património líquido da carteira.</p>\n",
    "<p align=\"justify\">Se quisermos ver o património líquido ao longo do tempo (não apenas o primeiro instantâneo como acima) basta plotar:</p>"
   ]
  },
  {
   "cell_type": "code",
   "execution_count": 22,
   "metadata": {},
   "outputs": [
    {
     "data": {
      "image/png": "[encoded data removed]",
      "text/plain": [
       "<Figure size 1008x576 with 1 Axes>"
      ]
     },
     "metadata": {},
     "output_type": "display_data"
    }
   ],
   "source": [
    "performance = pd.DataFrame.from_dict(env.action_scheme.portfolio.performance, orient='index')\n",
    "performance.plot(figsize=(14,8))\n",
    "plt.show()"
   ]
  },
  {
   "cell_type": "code",
   "execution_count": 26,
   "metadata": {},
   "outputs": [
    {
     "data": {
      "image/png": "[encoded data removed]",
      "text/plain": [
       "<Figure size 1008x576 with 1 Axes>"
      ]
     },
     "metadata": {},
     "output_type": "display_data"
    }
   ],
   "source": [
    "performance['net_worth'].plot(figsize=(14,8))\n",
    "plt.legend()\n",
    "plt.xlabel('Index')\n",
    "plt.ylabel('Value')\n",
    "plt.show()"
   ]
  }
 ],
 "metadata": {
  "interpreter": {
   "hash": "f8bbe703e4409461e5c1796f0c401e26e62f32801f1a5b19455b89c31c613fbe"
  },
  "kernelspec": {
   "display_name": "Python 3.9.7 ('base')",
   "language": "python",
   "name": "python3"
  },
  "language_info": {
   "codemirror_mode": {
    "name": "ipython",
    "version": 3
   },
   "file_extension": ".py",
   "mimetype": "text/x-python",
   "name": "python",
   "nbconvert_exporter": "python",
   "pygments_lexer": "ipython3",
   "version": "3.9.7"
  },
  "orig_nbformat": 4
 },
 "nbformat": 4,
 "nbformat_minor": 2
}
