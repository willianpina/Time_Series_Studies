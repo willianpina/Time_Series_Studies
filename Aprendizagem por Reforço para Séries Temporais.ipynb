{
 "cells": [
  {
   "cell_type": "markdown",
   "metadata": {},
   "source": [
    "<h1 align=\"center\">Aprendizagem por Reforço para as Séries Temporais</h1>\n",
    "<p align='center'><img src = https://datapeaker.com/wp-content/uploads/2021/09/496302-1548589.jpg></p>\n",
    "<p align='justify'>A Aprendizagem por Reforço é um paradigma amplamente bem sucedido para problemas de controle e optimização da função que não requer dados rotulados. É uma estrutura poderosa para uma aprendizagem autónoma orientada pela experiência, em que um agente interage diretamente com o ambiente através de ações e melhora a sua eficiência por tentativa e erro.</p>"
   ]
  },
  {
   "cell_type": "markdown",
   "metadata": {},
   "source": [
    "<p align='justify'>A Aprendizagem por Reforço é um dos principais paradigmas na aprendizagem de máquina no que se refere aos métodos supervisionados e não supervisionados. Uma distinção importante é que os métodos supervisionados ou os métodos não supervisionados são passivos, respondendo apenas às mudanças, enquanto que na Aprendizagem por Reforço é ativa, no sentido de mudar o ambiente e procurar novos dados. Na realidade, a partir da perpectiva da Aprendizagem de Máquina, os algoritmos de aprendizagem de reforço podem ser vistos como alternados entre encontrar bons dados e fazer uma aprendizagem supervisionada sobre esses dados.</p>\n",
    "<p align=\"justify\">Na Aprendizagem por Reforço, um agente interage com o ambiente através das ações e recebe <i>feedback</i> sob a forma de recompensas. Ao contrário do que acontece na aprendizagem supervisionado, não há dados rotulados disponíveis, mas sim, o ambiente é que explorado com base na expectativa de recompensas cumulativas.</p>\n",
    "\n",
    "<p align=\"justify\">Conceitualmente, a aprendizagem por reforço é uma abordagem em que um agente interage diretamente com o ambiente através de ações. O agente aprende através de tentativa e erro para maximizar a recompensa.</p>"
   ]
  },
  {
   "cell_type": "markdown",
   "metadata": {},
   "source": [
    "<h2><i>Bandit Algorithms</i></h2>\n",
    "<p align='justify'>O <i>Multi-Armed Bandit</i> (MAB) é um problema clássico de aprendizagem por reforço, em que um jogador é confrontado com um <i>slot machine</i> (bandido) que tem alavancas k (braços), cada com uma distribuição de recompensas diferente. O objectivo do agente é maximizar a sua distribuição cumulativa de recompensa com base em julgamentos. O <i>Bandit learning</i> refere-se a algoritmos que tem como objetivo optimizar uma função objetiva estacionário desconhecida.</p>"
   ]
  },
  {
   "cell_type": "markdown",
   "metadata": {},
   "source": [
    "<h2><i>Deep Q-Learning</i></h2>\n",
    "<p align='justify'>O <i>Q-Learning</i> é um algoritmo para aprender o valor de uma ação num determinado estado. O <i>Q-learning</i> gira em torno da representação do recompensa esperada por uma ação tomada num determinado estado.</p>"
   ]
  },
  {
   "cell_type": "markdown",
   "metadata": {},
   "source": [
    "<h2>Aplicações</h2>"
   ]
  },
  {
   "cell_type": "markdown",
   "metadata": {},
   "source": [
    "<h3>Recomendações</h3>"
   ]
  },
  {
   "cell_type": "code",
   "execution_count": 27,
   "metadata": {},
   "outputs": [],
   "source": [
    "# Importando as Bibliotecas\n",
    "import pandas as pd\n",
    "from tqdm import trange\n",
    "import matplotlib.pyplot as plt\n",
    "from mab_ranking.bandits.rank_bandits import IndependentBandits\n",
    "from mab_ranking.bandits.bandits import DirichletThompsonSampling\n",
    "from sklearn.cluster import KMeans\n",
    "from sklearn.preprocessing import StandardScaler"
   ]
  },
  {
   "cell_type": "code",
   "execution_count": 28,
   "metadata": {},
   "outputs": [
    {
     "data": {
      "text/html": [
       "<div>\n",
       "<style scoped>\n",
       "    .dataframe tbody tr th:only-of-type {\n",
       "        vertical-align: middle;\n",
       "    }\n",
       "\n",
       "    .dataframe tbody tr th {\n",
       "        vertical-align: top;\n",
       "    }\n",
       "\n",
       "    .dataframe thead th {\n",
       "        text-align: right;\n",
       "    }\n",
       "</style>\n",
       "<table border=\"1\" class=\"dataframe\">\n",
       "  <thead>\n",
       "    <tr style=\"text-align: right;\">\n",
       "      <th></th>\n",
       "      <th>0</th>\n",
       "      <th>1</th>\n",
       "      <th>2</th>\n",
       "      <th>3</th>\n",
       "      <th>4</th>\n",
       "      <th>5</th>\n",
       "      <th>6</th>\n",
       "      <th>7</th>\n",
       "      <th>8</th>\n",
       "      <th>9</th>\n",
       "      <th>...</th>\n",
       "      <th>141</th>\n",
       "      <th>142</th>\n",
       "      <th>143</th>\n",
       "      <th>144</th>\n",
       "      <th>145</th>\n",
       "      <th>146</th>\n",
       "      <th>147</th>\n",
       "      <th>148</th>\n",
       "      <th>149</th>\n",
       "      <th>150</th>\n",
       "    </tr>\n",
       "    <tr>\n",
       "      <th>users</th>\n",
       "      <th></th>\n",
       "      <th></th>\n",
       "      <th></th>\n",
       "      <th></th>\n",
       "      <th></th>\n",
       "      <th></th>\n",
       "      <th></th>\n",
       "      <th></th>\n",
       "      <th></th>\n",
       "      <th></th>\n",
       "      <th></th>\n",
       "      <th></th>\n",
       "      <th></th>\n",
       "      <th></th>\n",
       "      <th></th>\n",
       "      <th></th>\n",
       "      <th></th>\n",
       "      <th></th>\n",
       "      <th></th>\n",
       "      <th></th>\n",
       "      <th></th>\n",
       "    </tr>\n",
       "  </thead>\n",
       "  <tbody>\n",
       "    <tr>\n",
       "      <th>0</th>\n",
       "      <td>1.0</td>\n",
       "      <td>0.0</td>\n",
       "      <td>0.0</td>\n",
       "      <td>0.0</td>\n",
       "      <td>0.0</td>\n",
       "      <td>0.0</td>\n",
       "      <td>0.0</td>\n",
       "      <td>0.0</td>\n",
       "      <td>0.0</td>\n",
       "      <td>0.0</td>\n",
       "      <td>...</td>\n",
       "      <td>0.0</td>\n",
       "      <td>0.0</td>\n",
       "      <td>0.0</td>\n",
       "      <td>0.0</td>\n",
       "      <td>0.0</td>\n",
       "      <td>0.0</td>\n",
       "      <td>0.0</td>\n",
       "      <td>0.0</td>\n",
       "      <td>0.0</td>\n",
       "      <td>0.0</td>\n",
       "    </tr>\n",
       "    <tr>\n",
       "      <th>1</th>\n",
       "      <td>1.0</td>\n",
       "      <td>0.0</td>\n",
       "      <td>0.0</td>\n",
       "      <td>0.0</td>\n",
       "      <td>0.0</td>\n",
       "      <td>0.0</td>\n",
       "      <td>0.0</td>\n",
       "      <td>1.0</td>\n",
       "      <td>1.0</td>\n",
       "      <td>0.0</td>\n",
       "      <td>...</td>\n",
       "      <td>0.0</td>\n",
       "      <td>0.0</td>\n",
       "      <td>0.0</td>\n",
       "      <td>0.0</td>\n",
       "      <td>0.0</td>\n",
       "      <td>0.0</td>\n",
       "      <td>0.0</td>\n",
       "      <td>0.0</td>\n",
       "      <td>0.0</td>\n",
       "      <td>0.0</td>\n",
       "    </tr>\n",
       "    <tr>\n",
       "      <th>2</th>\n",
       "      <td>1.0</td>\n",
       "      <td>0.0</td>\n",
       "      <td>0.0</td>\n",
       "      <td>0.0</td>\n",
       "      <td>0.0</td>\n",
       "      <td>0.0</td>\n",
       "      <td>0.0</td>\n",
       "      <td>0.0</td>\n",
       "      <td>0.0</td>\n",
       "      <td>0.0</td>\n",
       "      <td>...</td>\n",
       "      <td>0.0</td>\n",
       "      <td>0.0</td>\n",
       "      <td>0.0</td>\n",
       "      <td>0.0</td>\n",
       "      <td>0.0</td>\n",
       "      <td>0.0</td>\n",
       "      <td>0.0</td>\n",
       "      <td>0.0</td>\n",
       "      <td>0.0</td>\n",
       "      <td>0.0</td>\n",
       "    </tr>\n",
       "    <tr>\n",
       "      <th>3</th>\n",
       "      <td>1.0</td>\n",
       "      <td>0.0</td>\n",
       "      <td>0.0</td>\n",
       "      <td>0.0</td>\n",
       "      <td>0.0</td>\n",
       "      <td>0.0</td>\n",
       "      <td>0.0</td>\n",
       "      <td>0.0</td>\n",
       "      <td>0.0</td>\n",
       "      <td>0.0</td>\n",
       "      <td>...</td>\n",
       "      <td>0.0</td>\n",
       "      <td>0.0</td>\n",
       "      <td>0.0</td>\n",
       "      <td>0.0</td>\n",
       "      <td>0.0</td>\n",
       "      <td>0.0</td>\n",
       "      <td>0.0</td>\n",
       "      <td>0.0</td>\n",
       "      <td>0.0</td>\n",
       "      <td>0.0</td>\n",
       "    </tr>\n",
       "    <tr>\n",
       "      <th>4</th>\n",
       "      <td>1.0</td>\n",
       "      <td>0.0</td>\n",
       "      <td>0.0</td>\n",
       "      <td>0.0</td>\n",
       "      <td>0.0</td>\n",
       "      <td>0.0</td>\n",
       "      <td>0.0</td>\n",
       "      <td>0.0</td>\n",
       "      <td>0.0</td>\n",
       "      <td>0.0</td>\n",
       "      <td>...</td>\n",
       "      <td>0.0</td>\n",
       "      <td>0.0</td>\n",
       "      <td>0.0</td>\n",
       "      <td>0.0</td>\n",
       "      <td>0.0</td>\n",
       "      <td>0.0</td>\n",
       "      <td>0.0</td>\n",
       "      <td>0.0</td>\n",
       "      <td>0.0</td>\n",
       "      <td>0.0</td>\n",
       "    </tr>\n",
       "    <tr>\n",
       "      <th>...</th>\n",
       "      <td>...</td>\n",
       "      <td>...</td>\n",
       "      <td>...</td>\n",
       "      <td>...</td>\n",
       "      <td>...</td>\n",
       "      <td>...</td>\n",
       "      <td>...</td>\n",
       "      <td>...</td>\n",
       "      <td>...</td>\n",
       "      <td>...</td>\n",
       "      <td>...</td>\n",
       "      <td>...</td>\n",
       "      <td>...</td>\n",
       "      <td>...</td>\n",
       "      <td>...</td>\n",
       "      <td>...</td>\n",
       "      <td>...</td>\n",
       "      <td>...</td>\n",
       "      <td>...</td>\n",
       "      <td>...</td>\n",
       "      <td>...</td>\n",
       "    </tr>\n",
       "    <tr>\n",
       "      <th>50687</th>\n",
       "      <td>1.0</td>\n",
       "      <td>0.0</td>\n",
       "      <td>0.0</td>\n",
       "      <td>0.0</td>\n",
       "      <td>0.0</td>\n",
       "      <td>0.0</td>\n",
       "      <td>0.0</td>\n",
       "      <td>0.0</td>\n",
       "      <td>0.0</td>\n",
       "      <td>0.0</td>\n",
       "      <td>...</td>\n",
       "      <td>0.0</td>\n",
       "      <td>0.0</td>\n",
       "      <td>0.0</td>\n",
       "      <td>0.0</td>\n",
       "      <td>0.0</td>\n",
       "      <td>0.0</td>\n",
       "      <td>0.0</td>\n",
       "      <td>0.0</td>\n",
       "      <td>0.0</td>\n",
       "      <td>0.0</td>\n",
       "    </tr>\n",
       "    <tr>\n",
       "      <th>50688</th>\n",
       "      <td>1.0</td>\n",
       "      <td>0.0</td>\n",
       "      <td>0.0</td>\n",
       "      <td>0.0</td>\n",
       "      <td>0.0</td>\n",
       "      <td>0.0</td>\n",
       "      <td>0.0</td>\n",
       "      <td>0.0</td>\n",
       "      <td>0.0</td>\n",
       "      <td>0.0</td>\n",
       "      <td>...</td>\n",
       "      <td>0.0</td>\n",
       "      <td>0.0</td>\n",
       "      <td>0.0</td>\n",
       "      <td>0.0</td>\n",
       "      <td>0.0</td>\n",
       "      <td>0.0</td>\n",
       "      <td>0.0</td>\n",
       "      <td>0.0</td>\n",
       "      <td>0.0</td>\n",
       "      <td>0.0</td>\n",
       "    </tr>\n",
       "    <tr>\n",
       "      <th>50689</th>\n",
       "      <td>1.0</td>\n",
       "      <td>0.0</td>\n",
       "      <td>0.0</td>\n",
       "      <td>0.0</td>\n",
       "      <td>0.0</td>\n",
       "      <td>0.0</td>\n",
       "      <td>0.0</td>\n",
       "      <td>0.0</td>\n",
       "      <td>0.0</td>\n",
       "      <td>0.0</td>\n",
       "      <td>...</td>\n",
       "      <td>0.0</td>\n",
       "      <td>0.0</td>\n",
       "      <td>0.0</td>\n",
       "      <td>0.0</td>\n",
       "      <td>0.0</td>\n",
       "      <td>0.0</td>\n",
       "      <td>0.0</td>\n",
       "      <td>0.0</td>\n",
       "      <td>0.0</td>\n",
       "      <td>0.0</td>\n",
       "    </tr>\n",
       "    <tr>\n",
       "      <th>50690</th>\n",
       "      <td>1.0</td>\n",
       "      <td>0.0</td>\n",
       "      <td>0.0</td>\n",
       "      <td>0.0</td>\n",
       "      <td>0.0</td>\n",
       "      <td>0.0</td>\n",
       "      <td>0.0</td>\n",
       "      <td>0.0</td>\n",
       "      <td>0.0</td>\n",
       "      <td>0.0</td>\n",
       "      <td>...</td>\n",
       "      <td>0.0</td>\n",
       "      <td>0.0</td>\n",
       "      <td>0.0</td>\n",
       "      <td>0.0</td>\n",
       "      <td>0.0</td>\n",
       "      <td>0.0</td>\n",
       "      <td>0.0</td>\n",
       "      <td>0.0</td>\n",
       "      <td>0.0</td>\n",
       "      <td>0.0</td>\n",
       "    </tr>\n",
       "    <tr>\n",
       "      <th>50691</th>\n",
       "      <td>1.0</td>\n",
       "      <td>0.0</td>\n",
       "      <td>0.0</td>\n",
       "      <td>0.0</td>\n",
       "      <td>0.0</td>\n",
       "      <td>0.0</td>\n",
       "      <td>0.0</td>\n",
       "      <td>0.0</td>\n",
       "      <td>0.0</td>\n",
       "      <td>0.0</td>\n",
       "      <td>...</td>\n",
       "      <td>1.0</td>\n",
       "      <td>1.0</td>\n",
       "      <td>1.0</td>\n",
       "      <td>1.0</td>\n",
       "      <td>1.0</td>\n",
       "      <td>1.0</td>\n",
       "      <td>1.0</td>\n",
       "      <td>1.0</td>\n",
       "      <td>1.0</td>\n",
       "      <td>1.0</td>\n",
       "    </tr>\n",
       "  </tbody>\n",
       "</table>\n",
       "<p>49961 rows × 151 columns</p>\n",
       "</div>"
      ],
      "text/plain": [
       "       0    1    2    3    4    5    6    7    8    9    ...  141  142  143  \\\n",
       "users                                                    ...                  \n",
       "0      1.0  0.0  0.0  0.0  0.0  0.0  0.0  0.0  0.0  0.0  ...  0.0  0.0  0.0   \n",
       "1      1.0  0.0  0.0  0.0  0.0  0.0  0.0  1.0  1.0  0.0  ...  0.0  0.0  0.0   \n",
       "2      1.0  0.0  0.0  0.0  0.0  0.0  0.0  0.0  0.0  0.0  ...  0.0  0.0  0.0   \n",
       "3      1.0  0.0  0.0  0.0  0.0  0.0  0.0  0.0  0.0  0.0  ...  0.0  0.0  0.0   \n",
       "4      1.0  0.0  0.0  0.0  0.0  0.0  0.0  0.0  0.0  0.0  ...  0.0  0.0  0.0   \n",
       "...    ...  ...  ...  ...  ...  ...  ...  ...  ...  ...  ...  ...  ...  ...   \n",
       "50687  1.0  0.0  0.0  0.0  0.0  0.0  0.0  0.0  0.0  0.0  ...  0.0  0.0  0.0   \n",
       "50688  1.0  0.0  0.0  0.0  0.0  0.0  0.0  0.0  0.0  0.0  ...  0.0  0.0  0.0   \n",
       "50689  1.0  0.0  0.0  0.0  0.0  0.0  0.0  0.0  0.0  0.0  ...  0.0  0.0  0.0   \n",
       "50690  1.0  0.0  0.0  0.0  0.0  0.0  0.0  0.0  0.0  0.0  ...  0.0  0.0  0.0   \n",
       "50691  1.0  0.0  0.0  0.0  0.0  0.0  0.0  0.0  0.0  0.0  ...  1.0  1.0  1.0   \n",
       "\n",
       "       144  145  146  147  148  149  150  \n",
       "users                                     \n",
       "0      0.0  0.0  0.0  0.0  0.0  0.0  0.0  \n",
       "1      0.0  0.0  0.0  0.0  0.0  0.0  0.0  \n",
       "2      0.0  0.0  0.0  0.0  0.0  0.0  0.0  \n",
       "3      0.0  0.0  0.0  0.0  0.0  0.0  0.0  \n",
       "4      0.0  0.0  0.0  0.0  0.0  0.0  0.0  \n",
       "...    ...  ...  ...  ...  ...  ...  ...  \n",
       "50687  0.0  0.0  0.0  0.0  0.0  0.0  0.0  \n",
       "50688  0.0  0.0  0.0  0.0  0.0  0.0  0.0  \n",
       "50689  0.0  0.0  0.0  0.0  0.0  0.0  0.0  \n",
       "50690  0.0  0.0  0.0  0.0  0.0  0.0  0.0  \n",
       "50691  1.0  1.0  1.0  1.0  1.0  1.0  1.0  \n",
       "\n",
       "[49961 rows x 151 columns]"
      ]
     },
     "execution_count": 28,
     "metadata": {},
     "output_type": "execute_result"
    }
   ],
   "source": [
    "# Carregando os dados\n",
    "\n",
    "url = \"https://raw.githubusercontent.com/benman1/Machine-Learning-for-Time-Series-with-Python/main/chapter11/jesterfinal151cols.csv\"\n",
    "jester_data = pd.read_csv(url, header=None)\n",
    "jester_data.index.name = 'users'\n",
    "for col in jester_data.columns:\n",
    "    jester_data[col] = jester_data[col].apply(lambda x: 0.0 if x>=99 or x<7.0 else 1.0)\n",
    "jester_data = jester_data[jester_data.sum(axis=1) > 0]\n",
    "jester_data"
   ]
  },
  {
   "cell_type": "code",
   "execution_count": 29,
   "metadata": {},
   "outputs": [
    {
     "name": "stderr",
     "output_type": "stream",
     "text": [
      "100%|██████████| 7000/7000 [00:49<00:00, 141.20it/s]\n"
     ]
    }
   ],
   "source": [
    "# Escolhemos bandits com amostras Thompson da Beta Distribution e recomendamos as melhores 10 piadas. \n",
    "independent_bandits = IndependentBandits(\n",
    "    num_arms = jester_data.shape[1],\n",
    "    num_ranks = 10,\n",
    "    bandit_class = DirichletThompsonSampling\n",
    ")\n",
    "\n",
    "# Começar a simulação. O nosso caso hipotético website tem muitas visitas e receberemos o feedback sobre as 10 piadas que mostraremos como escolhidas.\n",
    "num_steps = 7000\n",
    "hit_rates = []\n",
    "for _ in trange(1, num_steps + 1):\n",
    "    selected_items = set(independent_bandits.choose())\n",
    "    # Escolher um usuário de forma aleatória\n",
    "    random_user = jester_data.sample().iloc[0, :]\n",
    "    ground_truth = set(random_user[random_user == 1].index)\n",
    "    hit_rate = len(ground_truth.intersection(selected_items)) / len(ground_truth)\n",
    "    feedback_list = [1.0 if item in ground_truth else 0.0 for item in selected_items]\n",
    "    independent_bandits.update(selected_items, feedback_list)\n",
    "    hit_rates.append(hit_rate)"
   ]
  },
  {
   "cell_type": "markdown",
   "metadata": {},
   "source": [
    "<p align=\"justify\">Nós simulamos 7.000 interações (visitas). A cada visita, mudaremos nossas escolhas de acordo com as expectativas de recompensas atualizadas.</p>"
   ]
  },
  {
   "cell_type": "code",
   "execution_count": 30,
   "metadata": {},
   "outputs": [
    {
     "data": {
      "image/png": "[encoded data removed]",
      "text/plain": [
       "<Figure size 864x432 with 1 Axes>"
      ]
     },
     "metadata": {},
     "output_type": "display_data"
    }
   ],
   "source": [
    "# Vamos plotar a taxa de acerto, as piadas que os utilizadoes estão selecioando.\n",
    "stats = pd.Series(hit_rates)\n",
    "plt.figure(figsize=(12, 6))\n",
    "plt.plot(stats.index, stats.rolling(200).mean(), \"--\")\n",
    "plt.xlabel('Iteration')\n",
    "plt.ylabel('Hit rate')\n",
    "plt.show()\n",
    "\n",
    "# Foi introduzida uma média móvel (mais de 200 interações) para obter um gráfico mais suave!"
   ]
  },
  {
   "cell_type": "markdown",
   "metadata": {},
   "source": [
    "<p align=\"justify\">A biblioteca <i>mab-ranking</i> suporta a informação contextual, então podemos experimentar fornecendo uma informação adicional. Vamos imaginar esta informação como diferentes grupos de usuários (<i>cohorts</i>). Nós poderíamos pensar em usuários que utilizam diferentes funcionalidades de pesquisa ou filtros no nosso site imaginário, como por exemplo \"piadas mais recentes\" ou \"mais populares\". De forma alternativa, poderiam ser de regiões diferentes. Ou pode ser uma categoria de <i>timestamp</i> que corresponde à hora do dia das visitas dos usuários ao nosso site.</p>"
   ]
  },
  {
   "cell_type": "code",
   "execution_count": 31,
   "metadata": {},
   "outputs": [
    {
     "name": "stderr",
     "output_type": "stream",
     "text": [
      "100%|██████████| 7000/7000 [00:49<00:00, 141.53it/s]\n"
     ]
    }
   ],
   "source": [
    "# Vamos agrupar ps utilizadores pelas suas preferências e utilizaremos os clusters.\n",
    "\n",
    "scaler = StandardScaler().fit(jester_data)\n",
    "kmeans = KMeans(n_clusters=5, random_state=0).fit(scaler.transform(jester_data)) # Criamos 5 grupos de usuários.\n",
    "contexts = pd.Series(kmeans.labels_, index=jester_data.index)\n",
    "\n",
    "# Vamos resetar nosso bandits\n",
    "independent_bandits = IndependentBandits(\n",
    "num_arms=jester_data.shape[1],\n",
    "num_ranks=10,\n",
    "bandit_class=DirichletThompsonSampling\n",
    ")\n",
    "\n",
    "# Vamos gerar a simulação de novo!!\n",
    "hit_rates = []\n",
    "for _ in trange(1, num_steps + 1):\n",
    "    selected_items = set(independent_bandits.choose())\n",
    "    # Escolher um usuário de forma aleatória\n",
    "    random_user = jester_data.sample().iloc[0, :]\n",
    "    ground_truth = set(random_user[random_user == 1].index)\n",
    "    hit_rate = len(ground_truth.intersection(selected_items)) / len(ground_truth)\n",
    "    feedback_list = [1.0 if item in ground_truth else 0.0 for item in selected_items]\n",
    "    independent_bandits.update(selected_items, feedback_list)\n",
    "    hit_rates.append(hit_rate)"
   ]
  },
  {
   "cell_type": "code",
   "execution_count": 32,
   "metadata": {},
   "outputs": [
    {
     "data": {
      "image/png": "[encoded data removed]",
      "text/plain": [
       "<Figure size 864x432 with 1 Axes>"
      ]
     },
     "metadata": {},
     "output_type": "display_data"
    }
   ],
   "source": [
    "# Plotando novamente!!\n",
    "stats = pd.Series(hit_rates)\n",
    "plt.figure(figsize=(12, 6))\n",
    "plt.plot(stats.index, stats.rolling(200).mean(), \"--\")\n",
    "plt.xlabel('Iteration')\n",
    "plt.ylabel('Hit rate')\n",
    "\n",
    "plt.show()"
   ]
  },
  {
   "cell_type": "markdown",
   "metadata": {},
   "source": [
    "<p align=\"justify\">Podemos ver que a taxa de sucesso é um pouco mais elevada do que anteriormente. Este modelo ignora a ordem das anedotas recomendadas no nosso hipotético website. Existem outras implementações <i>bandits</i> que modelam as fileiras. Um exercício divertido é criar um modelo probabilístico de expectativas de recompensa.</p>"
   ]
  },
  {
   "cell_type": "markdown",
   "metadata": {},
   "source": [
    "<h4>Negociações com DQN</h4>\n",
    "<p align=\"justify\">Este tutorial é baseado na biblioteca do <i>TensorTrade</i> que utilizaremos neste exemplo.O <i>TensorTrade</i> é uma estrutura para a construção, formação, avaliação e implementação de algoritmos de <i>trading</i> robustos utilizando a aprendizagem por reforço.</p>"
   ]
  },
  {
   "cell_type": "code",
   "execution_count": 33,
   "metadata": {},
   "outputs": [],
   "source": [
    "# Importando as Bibliotecas\n",
    "import pandas as pd\n",
    "import tensortrade.env.default as default\n",
    "\n",
    "from tensortrade.data.cdd import CryptoDataDownload\n",
    "from tensortrade.feed.core import Stream, DataFeed\n",
    "from tensortrade.oms.exchanges import Exchange\n",
    "from tensortrade.oms.services.execution.simulated import execute_order\n",
    "from tensortrade.oms.instruments import USD, BTC, ETH\n",
    "from tensortrade.oms.wallets import Wallet, Portfolio\n",
    "from tensortrade.agents import DQNAgent"
   ]
  },
  {
   "cell_type": "markdown",
   "metadata": {},
   "source": [
    "<p align='justify'>Estas importações referem-se a serviços de utilidade pública para a troca (simulada), o portifólio e o ambiente. Além disso, existem utilitários para o carregamento e alimentação dos dados na simulação, constantes para a conversão de moeda, e finalmente, há um <i>deep Q-agent</i>, que consiste de uma <i>Deep Q-Network</i>(DQN).</p>"
   ]
  },
  {
   "cell_type": "code",
   "execution_count": 34,
   "metadata": {},
   "outputs": [
    {
     "data": {
      "text/html": [
       "<div>\n",
       "<style scoped>\n",
       "    .dataframe tbody tr th:only-of-type {\n",
       "        vertical-align: middle;\n",
       "    }\n",
       "\n",
       "    .dataframe tbody tr th {\n",
       "        vertical-align: top;\n",
       "    }\n",
       "\n",
       "    .dataframe thead th {\n",
       "        text-align: right;\n",
       "    }\n",
       "</style>\n",
       "<table border=\"1\" class=\"dataframe\">\n",
       "  <thead>\n",
       "    <tr style=\"text-align: right;\">\n",
       "      <th></th>\n",
       "      <th>date</th>\n",
       "      <th>unix</th>\n",
       "      <th>open</th>\n",
       "      <th>high</th>\n",
       "      <th>low</th>\n",
       "      <th>close</th>\n",
       "      <th>volume</th>\n",
       "    </tr>\n",
       "  </thead>\n",
       "  <tbody>\n",
       "    <tr>\n",
       "      <th>0</th>\n",
       "      <td>2018-05-15 06:00:00</td>\n",
       "      <td>1526364000</td>\n",
       "      <td>8733.86</td>\n",
       "      <td>8796.68</td>\n",
       "      <td>8707.28</td>\n",
       "      <td>8740.99</td>\n",
       "      <td>559.93</td>\n",
       "    </tr>\n",
       "    <tr>\n",
       "      <th>1</th>\n",
       "      <td>2018-05-15 07:00:00</td>\n",
       "      <td>1526367600</td>\n",
       "      <td>8740.99</td>\n",
       "      <td>8766.00</td>\n",
       "      <td>8721.11</td>\n",
       "      <td>8739.00</td>\n",
       "      <td>273.58</td>\n",
       "    </tr>\n",
       "    <tr>\n",
       "      <th>2</th>\n",
       "      <td>2018-05-15 08:00:00</td>\n",
       "      <td>1526371200</td>\n",
       "      <td>8739.00</td>\n",
       "      <td>8750.27</td>\n",
       "      <td>8660.53</td>\n",
       "      <td>8728.49</td>\n",
       "      <td>917.79</td>\n",
       "    </tr>\n",
       "    <tr>\n",
       "      <th>3</th>\n",
       "      <td>2018-05-15 09:00:00</td>\n",
       "      <td>1526374800</td>\n",
       "      <td>8728.49</td>\n",
       "      <td>8754.40</td>\n",
       "      <td>8701.35</td>\n",
       "      <td>8708.32</td>\n",
       "      <td>182.62</td>\n",
       "    </tr>\n",
       "    <tr>\n",
       "      <th>4</th>\n",
       "      <td>2018-05-15 10:00:00</td>\n",
       "      <td>1526378400</td>\n",
       "      <td>8708.32</td>\n",
       "      <td>8865.00</td>\n",
       "      <td>8695.11</td>\n",
       "      <td>8795.90</td>\n",
       "      <td>1260.69</td>\n",
       "    </tr>\n",
       "  </tbody>\n",
       "</table>\n",
       "</div>"
      ],
      "text/plain": [
       "                 date        unix     open     high      low    close   volume\n",
       "0 2018-05-15 06:00:00  1526364000  8733.86  8796.68  8707.28  8740.99   559.93\n",
       "1 2018-05-15 07:00:00  1526367600  8740.99  8766.00  8721.11  8739.00   273.58\n",
       "2 2018-05-15 08:00:00  1526371200  8739.00  8750.27  8660.53  8728.49   917.79\n",
       "3 2018-05-15 09:00:00  1526374800  8728.49  8754.40  8701.35  8708.32   182.62\n",
       "4 2018-05-15 10:00:00  1526378400  8708.32  8865.00  8695.11  8795.90  1260.69"
      ]
     },
     "execution_count": 34,
     "metadata": {},
     "output_type": "execute_result"
    }
   ],
   "source": [
    "# Carregando o histórico dos preços de Criptomoedas.\n",
    "\n",
    "cdd = CryptoDataDownload()\n",
    "data = cdd.fetch('Bitstamp', 'USD', 'BTC', '1h')\n",
    "data.head()"
   ]
  },
  {
   "cell_type": "code",
   "execution_count": 35,
   "metadata": {},
   "outputs": [],
   "source": [
    "# Criando indicadores\n",
    "def rsi(price: Stream[float], period: float) -> Stream[float]:\n",
    "    r = price.diff()\n",
    "    upside = r.clamp_min(0).abs()\n",
    "    downside = r.clamp_max(0).abs()\n",
    "    rs = upside.ewm(alpha=1 / period).mean() / downside.ewm(alpha=1 / period).mean()\n",
    "    return 100*(1 - (1 + rs) ** -1)\n",
    "\n",
    "\n",
    "def macd(price: Stream[float], fast: float, slow: float, signal: float) -> Stream[float]:\n",
    "    fm = price.ewm(span=fast, adjust=False).mean()\n",
    "    sm = price.ewm(span=slow, adjust=False).mean()\n",
    "    md = fm - sm\n",
    "    signal = md - md.ewm(span=signal, adjust=False).mean()\n",
    "    return signal## Create features with the feed module\n",
    "\n",
    "# Escolhendo o fechamento dos preços\n",
    "features = []\n",
    "for c in data.columns[1:]:\n",
    "    s = Stream.source(list(data[c]), dtype=\"float\").rename(data[c].name)\n",
    "    features += [s]\n",
    "\n",
    "cp = Stream.select(features, lambda s: s.name == \"close\")\n",
    "\n",
    "# Adicionando 3 características (Indicador de Tendência, RSI, MACD):\n",
    "features = [\n",
    "    cp.log().diff().rename(\"lr\"),\n",
    "    rsi(cp, period=20).rename(\"rsi\"),\n",
    "    macd(cp, fast=10, slow=50, signal=5).rename(\"macd\")\n",
    "]\n",
    "\n",
    "feed = DataFeed(features)\n",
    "feed.compile()"
   ]
  },
  {
   "cell_type": "code",
   "execution_count": 36,
   "metadata": {},
   "outputs": [
    {
     "name": "stdout",
     "output_type": "stream",
     "text": [
      "{'lr': nan, 'rsi': nan, 'macd': 0.0}\n",
      "{'lr': -0.00022768891842694927, 'rsi': 0.0, 'macd': -0.1891859774210995}\n",
      "{'lr': -0.0012033785355889393, 'rsi': 0.0, 'macd': -1.2726616061000744}\n",
      "{'lr': -0.0023134975946028646, 'rsi': 0.0, 'macd': -3.6577343503541435}\n",
      "{'lr': 0.01000681330867259, 'rsi': 74.26253567956897, 'macd': 3.7087743627464844}\n"
     ]
    }
   ],
   "source": [
    "for i in range(5):\n",
    "    print(feed.next())"
   ]
  },
  {
   "cell_type": "markdown",
   "metadata": {},
   "source": [
    "<p align=\"justify\">A <i>Exchange</i> é a interface que nos permitirá executar as ordens. Uma <i>exchange</i> necessita de um nome, um serviço de execução, e um fluxos de dados de preços. Atualmente, o <i>TensorTrade</i> suporta um serviço de execução simulada utilizando dados simulados ou estocásticos.</p>"
   ]
  },
  {
   "cell_type": "code",
   "execution_count": 37,
   "metadata": {},
   "outputs": [],
   "source": [
    "# Criando um borker e um Portifólio\n",
    "bitstamp = Exchange(\"bitstamp\", service=execute_order)(\n",
    "    Stream.source(list(data[\"close\"]), dtype=\"float\").rename(\"USD-BTC\")\n",
    ")\n",
    "\n",
    "portfolio = Portfolio(USD, [\n",
    "    Wallet(bitstamp, 10000 * USD),\n",
    "    Wallet(bitstamp, 10 * BTC)\n",
    "])"
   ]
  },
  {
   "cell_type": "markdown",
   "metadata": {},
   "source": [
    "<p align=\"justify\"> Um portofólio pode ser qualquer combinação de trocas e instrumentos que a troca suporte.</p>"
   ]
  },
  {
   "cell_type": "code",
   "execution_count": 38,
   "metadata": {},
   "outputs": [
    {
     "data": {
      "text/plain": [
       "{'internal': {'bitstamp:/USD-BTC': 8740.99,\n",
       "  'bitstamp:/USD:/free': 10000.0,\n",
       "  'bitstamp:/USD:/locked': 0.0,\n",
       "  'bitstamp:/USD:/total': 10000.0,\n",
       "  'bitstamp:/BTC:/free': 10.0,\n",
       "  'bitstamp:/BTC:/locked': 0.0,\n",
       "  'bitstamp:/BTC:/total': 10.0,\n",
       "  'bitstamp:/BTC:/worth': 87409.9,\n",
       "  'net_worth': 97409.9},\n",
       " 'external': {'lr': nan, 'rsi': nan, 'macd': 0.0},\n",
       " 'renderer': {'date': Timestamp('2018-05-15 06:00:00'),\n",
       "  'open': 8733.86,\n",
       "  'high': 8796.68,\n",
       "  'low': 8707.28,\n",
       "  'close': 8740.99,\n",
       "  'volume': 559.93}}"
      ]
     },
     "execution_count": 38,
     "metadata": {},
     "output_type": "execute_result"
    }
   ],
   "source": [
    "# Renderizar:\n",
    "renderer_feed = DataFeed([\n",
    "    Stream.source(list(data[\"date\"])).rename(\"date\"),\n",
    "    Stream.source(list(data[\"open\"]), dtype=\"float\").rename(\"open\"),\n",
    "    Stream.source(list(data[\"high\"]), dtype=\"float\").rename(\"high\"),\n",
    "    Stream.source(list(data[\"low\"]), dtype=\"float\").rename(\"low\"),\n",
    "    Stream.source(list(data[\"close\"]), dtype=\"float\").rename(\"close\"), \n",
    "    Stream.source(list(data[\"volume\"]), dtype=\"float\").rename(\"volume\") \n",
    "])\n",
    "\n",
    "# O Ambiente de Trading:\n",
    "env = default.create(\n",
    "    portfolio=portfolio,\n",
    "    action_scheme=\"managed-risk\",\n",
    "    reward_scheme=\"risk-adjusted\",\n",
    "    feed=feed,\n",
    "    renderer_feed=renderer_feed,\n",
    "    renderer=default.renderers.PlotlyTradingChart(),\n",
    "    window_size=20\n",
    ")\n",
    "\n",
    "env.observer.feed.next()"
   ]
  },
  {
   "cell_type": "code",
   "execution_count": 39,
   "metadata": {},
   "outputs": [
    {
     "name": "stderr",
     "output_type": "stream",
     "text": [
      "C:\\Users\\willi\\AppData\\Local\\Temp\\ipykernel_18436\\1864819480.py:2: DeprecationWarning:\n",
      "\n",
      "Call to deprecated class DQNAgent. (Builtin agents are being deprecated in favor of external implementations (ie: Ray)) -- Deprecated since version 1.0.4.\n",
      "\n",
      "C:\\Users\\willi\\anaconda3\\lib\\site-packages\\deprecated\\classic.py:173: DeprecationWarning:\n",
      "\n",
      "Call to deprecated class Agent. (Builtin agents are being deprecated in favor of external implementations (ie: Ray)) -- Deprecated since version 1.0.4.\n",
      "\n",
      "C:\\Users\\willi\\anaconda3\\lib\\site-packages\\tensortrade\\agents\\dqn_agent.py:304: DeprecationWarning:\n",
      "\n",
      "Call to deprecated class ReplayMemory. (Builtin agents are being deprecated in favor of external implementations (ie: Ray)) -- Deprecated since version 1.0.4.\n",
      "\n"
     ]
    },
    {
     "name": "stdout",
     "output_type": "stream",
     "text": [
      "====      AGENT ID: 08b741d3-649d-4333-87dc-205eecf7c07b      ====\n"
     ]
    },
    {
     "data": {
      "application/vnd.jupyter.widget-view+json": {
       "model_id": "dc4636eeaeb44503acf6a2b1e182667b",
       "version_major": 2,
       "version_minor": 0
      },
      "text/plain": [
       "FigureWidget({\n",
       "    'data': [{'name': 'Price',\n",
       "              'showlegend': False,\n",
       "              'type': 'candle…"
      ]
     },
     "metadata": {},
     "output_type": "display_data"
    },
    {
     "data": {
      "application/vnd.plotly.v1+json": {
       "config": {
        "plotlyServerURL": "https://plot.ly"
       },
       "data": [
        {
         "close": [
          8740.99,
          8739,
          8728.49,
          8708.32,
          8795.9,
          8760,
          8760,
          8759.23,
          8517.77,
          8520.3,
          8535.23,
          8546.34,
          8526.65,
          8555.6,
          8512.1,
          8492.28,
          8460,
          8474.99,
          8455.92,
          8326.28,
          8133.43
         ],
         "high": [
          8796.68,
          8766,
          8750.27,
          8754.4,
          8865,
          8821.19,
          8798.6,
          8771.02,
          8761.7,
          8553.67,
          8589.1,
          8579.48,
          8555.51,
          8583.6,
          8569.92,
          8555.54,
          8557.51,
          8505,
          8505.33,
          8478.29,
          8339.81
         ],
         "low": [
          8707.28,
          8721.11,
          8660.53,
          8701.35,
          8695.11,
          8740.54,
          8741.52,
          8700,
          8467.42,
          8477.89,
          8500.78,
          8500,
          8400,
          8451.05,
          8461.38,
          8481.24,
          8420.37,
          8450,
          8430.94,
          8275.02,
          8100.01
         ],
         "name": "Price",
         "open": [
          8733.86,
          8740.99,
          8739,
          8728.49,
          8708.32,
          8795.9,
          8760,
          8760,
          8759.23,
          8517.77,
          8520.3,
          8535.23,
          8546.34,
          8526.65,
          8555.6,
          8512.1,
          8492.28,
          8460,
          8474.99,
          8455.92,
          8326.28
         ],
         "showlegend": false,
         "type": "candlestick",
         "uid": "8c6d8a56-07c4-4131-a4c8-63193c8a8ccd",
         "xaxis": "x",
         "yaxis": "y"
        },
        {
         "marker": {
          "color": "DodgerBlue"
         },
         "name": "Volume",
         "showlegend": false,
         "type": "bar",
         "uid": "145b46e2-d412-4928-981a-553342a3477e",
         "xaxis": "x2",
         "y": [
          559.93,
          273.58,
          917.79,
          182.62,
          1260.69,
          324.11,
          324.2,
          730.67,
          1341.75,
          792.07,
          385.69,
          475.08,
          877.26,
          670.49,
          610.97,
          168.99,
          305.92,
          136.05,
          154.26,
          1070.93,
          1710.2
         ],
         "yaxis": "y2"
        },
        {
         "mode": "lines",
         "name": "bitstamp:/USD-BTC",
         "type": "scatter",
         "uid": "8c525a7c-7cb9-4397-bed8-bf45f03e8a5f",
         "xaxis": "x3",
         "y": [
          8740.99,
          8739,
          8728.49,
          8708.32,
          8795.9,
          8760,
          8760,
          8759.23,
          8517.77,
          8520.3,
          8535.23,
          8546.34,
          8526.65,
          8555.6,
          8512.1,
          8492.28,
          8460,
          8474.99,
          8455.92,
          8326.28,
          8133.43
         ],
         "yaxis": "y3"
        },
        {
         "mode": "lines",
         "name": "bitstamp:/USD:/free",
         "type": "scatter",
         "uid": "401294ed-928f-428f-a642-2b39c2a3ff21",
         "xaxis": "x3",
         "y": [
          10000,
          10000,
          10000,
          2000,
          2000,
          2000,
          2000,
          2000,
          2000,
          9760.1,
          2928.03,
          878.41,
          878.41,
          878.41,
          878.41,
          878.41,
          878.41,
          878.41,
          878.41,
          878.41,
          878.41
         ],
         "yaxis": "y3"
        },
        {
         "mode": "lines",
         "name": "bitstamp:/USD:/locked",
         "type": "scatter",
         "uid": "2aef03b6-c4ff-49c5-a389-faa69b1e2dd5",
         "xaxis": "x3",
         "y": [
          0,
          0,
          0,
          0,
          0,
          0,
          0,
          0,
          0,
          0,
          0,
          0,
          0,
          0,
          0,
          0,
          0,
          0,
          0,
          0,
          0
         ],
         "yaxis": "y3"
        },
        {
         "mode": "lines",
         "name": "bitstamp:/USD:/total",
         "type": "scatter",
         "uid": "1cfdc07a-0fb3-45f5-8ac0-46485deef13b",
         "xaxis": "x3",
         "y": [
          10000,
          10000,
          10000,
          2000,
          2000,
          2000,
          2000,
          2000,
          2000,
          9760.1,
          2928.03,
          878.41,
          878.41,
          878.41,
          878.41,
          878.41,
          878.41,
          878.41,
          878.41,
          878.41,
          878.41
         ],
         "yaxis": "y3"
        },
        {
         "mode": "lines",
         "name": "bitstamp:/BTC:/free",
         "type": "scatter",
         "uid": "6f75c785-6a85-4a93-88f3-23bc8f1b0896",
         "xaxis": "x3",
         "y": [
          10,
          10,
          10,
          10,
          10,
          10,
          10,
          10,
          10,
          10,
          10,
          10,
          10,
          10,
          10,
          10,
          10,
          10,
          10,
          10,
          10
         ],
         "yaxis": "y3"
        },
        {
         "mode": "lines",
         "name": "bitstamp:/BTC:/locked",
         "type": "scatter",
         "uid": "ba02f11e-201e-468a-9ae6-fb1561982cfe",
         "xaxis": "x3",
         "y": [
          0,
          0,
          0,
          0.91378921,
          0.91378921,
          0.91378921,
          0.91378921,
          0.91378921,
          0.91378921,
          0,
          0.7994519,
          1.03886783,
          1.03886783,
          1.03886783,
          1.03886783,
          1.03886783,
          1.03886783,
          1.03886783,
          1.03886783,
          1.03886783,
          1.03886783
         ],
         "yaxis": "y3"
        },
        {
         "mode": "lines",
         "name": "bitstamp:/BTC:/total",
         "type": "scatter",
         "uid": "db06df65-6739-42e7-9218-1600ec083b58",
         "xaxis": "x3",
         "y": [
          10,
          10,
          10,
          10.91378921,
          10.91378921,
          10.91378921,
          10.91378921,
          10.91378921,
          10.91378921,
          10,
          10.7994519,
          11.03886783,
          11.03886783,
          11.03886783,
          11.03886783,
          11.03886783,
          11.03886783,
          11.03886783,
          11.03886783,
          11.03886783,
          11.03886783
         ],
         "yaxis": "y3"
        },
        {
         "mode": "lines",
         "name": "bitstamp:/BTC:/worth",
         "type": "scatter",
         "uid": "00269ee4-5684-47d5-acbb-521c67b732c8",
         "xaxis": "x3",
         "y": [
          87409.9,
          87390,
          87284.9,
          95040.76885322719,
          95996.59851223898,
          95604.79347959999,
          95604.79347959999,
          95596.38986190829,
          92961.1463192617,
          85203,
          92175.805840437,
          94341.91769024219,
          94124.5623826695,
          94444.137606348,
          93963.946855743,
          93745.1564953524,
          93388.82184179999,
          93554.2944705717,
          93343.7832610536,
          91912.7044355724,
          89783.8587745569
         ],
         "yaxis": "y3"
        },
        {
         "mode": "lines",
         "name": "net_worth",
         "type": "scatter",
         "uid": "c6aa695d-58af-49d4-a325-d546bfdc6beb",
         "xaxis": "x3",
         "y": [
          97409.9,
          97390,
          97284.9,
          97040.76885322719,
          97996.59851223898,
          97604.79347959999,
          97604.79347959999,
          97596.38986190829,
          94961.1463192617,
          94963.1,
          95103.835840437,
          95220.3276902422,
          95002.9723826695,
          95322.547606348,
          94842.356855743,
          94623.56649535241,
          94267.23184179999,
          94432.7044705717,
          94222.1932610536,
          92791.11443557241,
          90662.2687745569
         ],
         "yaxis": "y3"
        },
        {
         "marker": {
          "color": "DarkGreen"
         },
         "mode": "lines",
         "name": "Net Worth",
         "type": "scatter",
         "uid": "425ac698-5938-4ce2-abd8-e4fb972b4a58",
         "xaxis": "x4",
         "y": [
          97409.9,
          97390,
          97284.9,
          97040.76885322719,
          97996.59851223898,
          97604.79347959999,
          97604.79347959999,
          97596.38986190829,
          94961.1463192617,
          94963.1,
          95103.835840437,
          95220.3276902422,
          95002.9723826695,
          95322.547606348,
          94842.356855743,
          94623.56649535241,
          94267.23184179999,
          94432.7044705717,
          94222.1932610536,
          92791.11443557241,
          90662.2687745569
         ],
         "yaxis": "y4"
        }
       ],
       "layout": {
        "annotations": [
         {
          "arrowcolor": "DarkGreen",
          "arrowhead": 2,
          "arrowsize": 0.8,
          "arrowwidth": 4,
          "ax": 0,
          "ay": 15,
          "hoverlabel": {
           "bgcolor": "DarkGreen"
          },
          "hovertext": "Step 11 [2018-05-15 16:00:00]<br>BUY 0.23941593 BTC @ 8535.23 USD MARKET<br>Total: 2043.47 USD - Comm.: 6.15 USD",
          "opacity": 0.6,
          "showarrow": true,
          "x": 10,
          "xref": "x",
          "y": 8535.23,
          "yref": "y"
         },
         {
          "arrowcolor": "DarkGreen",
          "arrowhead": 2,
          "arrowsize": 0.8,
          "arrowwidth": 4,
          "ax": 0,
          "ay": 15,
          "hoverlabel": {
           "bgcolor": "DarkGreen"
          },
          "hovertext": "Step 10 [2018-05-15 15:00:00]<br>BUY 0.7994519 BTC @ 8520.3 USD MARKET<br>Total: 6811.57 USD - Comm.: 20.50 USD",
          "opacity": 0.6,
          "showarrow": true,
          "x": 9,
          "xref": "x",
          "y": 8520.3,
          "yref": "y"
         },
         {
          "arrowcolor": "FireBrick",
          "arrowhead": 2,
          "arrowsize": 0.8,
          "arrowwidth": 4,
          "ax": 0,
          "ay": -15,
          "hoverlabel": {
           "bgcolor": "FireBrick"
          },
          "hovertext": "Step 9 [2018-05-15 14:00:00]<br>SELL 0.91104784 BTC @ 8517.77 USD MARKET<br>Total: 7760.1 USD - Comm.: 0.00274137 BTC",
          "opacity": 0.6,
          "showarrow": true,
          "x": 8,
          "xref": "x",
          "y": 8517.77,
          "yref": "y"
         },
         {
          "arrowcolor": "DarkGreen",
          "arrowhead": 2,
          "arrowsize": 0.8,
          "arrowwidth": 4,
          "ax": 0,
          "ay": 15,
          "hoverlabel": {
           "bgcolor": "DarkGreen"
          },
          "hovertext": "Step 3 [2018-05-15 08:00:00]<br>BUY 0.91378921 BTC @ 8728.49 USD MARKET<br>Total: 7976.0 USD - Comm.: 24.00 USD",
          "opacity": 0.6,
          "showarrow": true,
          "x": 2,
          "xref": "x",
          "y": 8728.49,
          "yref": "y"
         }
        ],
        "margin": {
         "t": 50
        },
        "template": {
         "data": {
          "bar": [
           {
            "error_x": {
             "color": "#2a3f5f"
            },
            "error_y": {
             "color": "#2a3f5f"
            },
            "marker": {
             "line": {
              "color": "white",
              "width": 0.5
             },
             "pattern": {
              "fillmode": "overlay",
              "size": 10,
              "solidity": 0.2
             }
            },
            "type": "bar"
           }
          ],
          "barpolar": [
           {
            "marker": {
             "line": {
              "color": "white",
              "width": 0.5
             },
             "pattern": {
              "fillmode": "overlay",
              "size": 10,
              "solidity": 0.2
             }
            },
            "type": "barpolar"
           }
          ],
          "carpet": [
           {
            "aaxis": {
             "endlinecolor": "#2a3f5f",
             "gridcolor": "#C8D4E3",
             "linecolor": "#C8D4E3",
             "minorgridcolor": "#C8D4E3",
             "startlinecolor": "#2a3f5f"
            },
            "baxis": {
             "endlinecolor": "#2a3f5f",
             "gridcolor": "#C8D4E3",
             "linecolor": "#C8D4E3",
             "minorgridcolor": "#C8D4E3",
             "startlinecolor": "#2a3f5f"
            },
            "type": "carpet"
           }
          ],
          "choropleth": [
           {
            "colorbar": {
             "outlinewidth": 0,
             "ticks": ""
            },
            "type": "choropleth"
           }
          ],
          "contour": [
           {
            "colorbar": {
             "outlinewidth": 0,
             "ticks": ""
            },
            "colorscale": [
             [
              0,
              "#0d0887"
             ],
             [
              0.1111111111111111,
              "#46039f"
             ],
             [
              0.2222222222222222,
              "#7201a8"
             ],
             [
              0.3333333333333333,
              "#9c179e"
             ],
             [
              0.4444444444444444,
              "#bd3786"
             ],
             [
              0.5555555555555556,
              "#d8576b"
             ],
             [
              0.6666666666666666,
              "#ed7953"
             ],
             [
              0.7777777777777778,
              "#fb9f3a"
             ],
             [
              0.8888888888888888,
              "#fdca26"
             ],
             [
              1,
              "#f0f921"
             ]
            ],
            "type": "contour"
           }
          ],
          "contourcarpet": [
           {
            "colorbar": {
             "outlinewidth": 0,
             "ticks": ""
            },
            "type": "contourcarpet"
           }
          ],
          "heatmap": [
           {
            "colorbar": {
             "outlinewidth": 0,
             "ticks": ""
            },
            "colorscale": [
             [
              0,
              "#0d0887"
             ],
             [
              0.1111111111111111,
              "#46039f"
             ],
             [
              0.2222222222222222,
              "#7201a8"
             ],
             [
              0.3333333333333333,
              "#9c179e"
             ],
             [
              0.4444444444444444,
              "#bd3786"
             ],
             [
              0.5555555555555556,
              "#d8576b"
             ],
             [
              0.6666666666666666,
              "#ed7953"
             ],
             [
              0.7777777777777778,
              "#fb9f3a"
             ],
             [
              0.8888888888888888,
              "#fdca26"
             ],
             [
              1,
              "#f0f921"
             ]
            ],
            "type": "heatmap"
           }
          ],
          "heatmapgl": [
           {
            "colorbar": {
             "outlinewidth": 0,
             "ticks": ""
            },
            "colorscale": [
             [
              0,
              "#0d0887"
             ],
             [
              0.1111111111111111,
              "#46039f"
             ],
             [
              0.2222222222222222,
              "#7201a8"
             ],
             [
              0.3333333333333333,
              "#9c179e"
             ],
             [
              0.4444444444444444,
              "#bd3786"
             ],
             [
              0.5555555555555556,
              "#d8576b"
             ],
             [
              0.6666666666666666,
              "#ed7953"
             ],
             [
              0.7777777777777778,
              "#fb9f3a"
             ],
             [
              0.8888888888888888,
              "#fdca26"
             ],
             [
              1,
              "#f0f921"
             ]
            ],
            "type": "heatmapgl"
           }
          ],
          "histogram": [
           {
            "marker": {
             "pattern": {
              "fillmode": "overlay",
              "size": 10,
              "solidity": 0.2
             }
            },
            "type": "histogram"
           }
          ],
          "histogram2d": [
           {
            "colorbar": {
             "outlinewidth": 0,
             "ticks": ""
            },
            "colorscale": [
             [
              0,
              "#0d0887"
             ],
             [
              0.1111111111111111,
              "#46039f"
             ],
             [
              0.2222222222222222,
              "#7201a8"
             ],
             [
              0.3333333333333333,
              "#9c179e"
             ],
             [
              0.4444444444444444,
              "#bd3786"
             ],
             [
              0.5555555555555556,
              "#d8576b"
             ],
             [
              0.6666666666666666,
              "#ed7953"
             ],
             [
              0.7777777777777778,
              "#fb9f3a"
             ],
             [
              0.8888888888888888,
              "#fdca26"
             ],
             [
              1,
              "#f0f921"
             ]
            ],
            "type": "histogram2d"
           }
          ],
          "histogram2dcontour": [
           {
            "colorbar": {
             "outlinewidth": 0,
             "ticks": ""
            },
            "colorscale": [
             [
              0,
              "#0d0887"
             ],
             [
              0.1111111111111111,
              "#46039f"
             ],
             [
              0.2222222222222222,
              "#7201a8"
             ],
             [
              0.3333333333333333,
              "#9c179e"
             ],
             [
              0.4444444444444444,
              "#bd3786"
             ],
             [
              0.5555555555555556,
              "#d8576b"
             ],
             [
              0.6666666666666666,
              "#ed7953"
             ],
             [
              0.7777777777777778,
              "#fb9f3a"
             ],
             [
              0.8888888888888888,
              "#fdca26"
             ],
             [
              1,
              "#f0f921"
             ]
            ],
            "type": "histogram2dcontour"
           }
          ],
          "mesh3d": [
           {
            "colorbar": {
             "outlinewidth": 0,
             "ticks": ""
            },
            "type": "mesh3d"
           }
          ],
          "parcoords": [
           {
            "line": {
             "colorbar": {
              "outlinewidth": 0,
              "ticks": ""
             }
            },
            "type": "parcoords"
           }
          ],
          "pie": [
           {
            "automargin": true,
            "type": "pie"
           }
          ],
          "scatter": [
           {
            "marker": {
             "colorbar": {
              "outlinewidth": 0,
              "ticks": ""
             }
            },
            "type": "scatter"
           }
          ],
          "scatter3d": [
           {
            "line": {
             "colorbar": {
              "outlinewidth": 0,
              "ticks": ""
             }
            },
            "marker": {
             "colorbar": {
              "outlinewidth": 0,
              "ticks": ""
             }
            },
            "type": "scatter3d"
           }
          ],
          "scattercarpet": [
           {
            "marker": {
             "colorbar": {
              "outlinewidth": 0,
              "ticks": ""
             }
            },
            "type": "scattercarpet"
           }
          ],
          "scattergeo": [
           {
            "marker": {
             "colorbar": {
              "outlinewidth": 0,
              "ticks": ""
             }
            },
            "type": "scattergeo"
           }
          ],
          "scattergl": [
           {
            "marker": {
             "colorbar": {
              "outlinewidth": 0,
              "ticks": ""
             }
            },
            "type": "scattergl"
           }
          ],
          "scattermapbox": [
           {
            "marker": {
             "colorbar": {
              "outlinewidth": 0,
              "ticks": ""
             }
            },
            "type": "scattermapbox"
           }
          ],
          "scatterpolar": [
           {
            "marker": {
             "colorbar": {
              "outlinewidth": 0,
              "ticks": ""
             }
            },
            "type": "scatterpolar"
           }
          ],
          "scatterpolargl": [
           {
            "marker": {
             "colorbar": {
              "outlinewidth": 0,
              "ticks": ""
             }
            },
            "type": "scatterpolargl"
           }
          ],
          "scatterternary": [
           {
            "marker": {
             "colorbar": {
              "outlinewidth": 0,
              "ticks": ""
             }
            },
            "type": "scatterternary"
           }
          ],
          "surface": [
           {
            "colorbar": {
             "outlinewidth": 0,
             "ticks": ""
            },
            "colorscale": [
             [
              0,
              "#0d0887"
             ],
             [
              0.1111111111111111,
              "#46039f"
             ],
             [
              0.2222222222222222,
              "#7201a8"
             ],
             [
              0.3333333333333333,
              "#9c179e"
             ],
             [
              0.4444444444444444,
              "#bd3786"
             ],
             [
              0.5555555555555556,
              "#d8576b"
             ],
             [
              0.6666666666666666,
              "#ed7953"
             ],
             [
              0.7777777777777778,
              "#fb9f3a"
             ],
             [
              0.8888888888888888,
              "#fdca26"
             ],
             [
              1,
              "#f0f921"
             ]
            ],
            "type": "surface"
           }
          ],
          "table": [
           {
            "cells": {
             "fill": {
              "color": "#EBF0F8"
             },
             "line": {
              "color": "white"
             }
            },
            "header": {
             "fill": {
              "color": "#C8D4E3"
             },
             "line": {
              "color": "white"
             }
            },
            "type": "table"
           }
          ]
         },
         "layout": {
          "annotationdefaults": {
           "arrowcolor": "#2a3f5f",
           "arrowhead": 0,
           "arrowwidth": 1
          },
          "autotypenumbers": "strict",
          "coloraxis": {
           "colorbar": {
            "outlinewidth": 0,
            "ticks": ""
           }
          },
          "colorscale": {
           "diverging": [
            [
             0,
             "#8e0152"
            ],
            [
             0.1,
             "#c51b7d"
            ],
            [
             0.2,
             "#de77ae"
            ],
            [
             0.3,
             "#f1b6da"
            ],
            [
             0.4,
             "#fde0ef"
            ],
            [
             0.5,
             "#f7f7f7"
            ],
            [
             0.6,
             "#e6f5d0"
            ],
            [
             0.7,
             "#b8e186"
            ],
            [
             0.8,
             "#7fbc41"
            ],
            [
             0.9,
             "#4d9221"
            ],
            [
             1,
             "#276419"
            ]
           ],
           "sequential": [
            [
             0,
             "#0d0887"
            ],
            [
             0.1111111111111111,
             "#46039f"
            ],
            [
             0.2222222222222222,
             "#7201a8"
            ],
            [
             0.3333333333333333,
             "#9c179e"
            ],
            [
             0.4444444444444444,
             "#bd3786"
            ],
            [
             0.5555555555555556,
             "#d8576b"
            ],
            [
             0.6666666666666666,
             "#ed7953"
            ],
            [
             0.7777777777777778,
             "#fb9f3a"
            ],
            [
             0.8888888888888888,
             "#fdca26"
            ],
            [
             1,
             "#f0f921"
            ]
           ],
           "sequentialminus": [
            [
             0,
             "#0d0887"
            ],
            [
             0.1111111111111111,
             "#46039f"
            ],
            [
             0.2222222222222222,
             "#7201a8"
            ],
            [
             0.3333333333333333,
             "#9c179e"
            ],
            [
             0.4444444444444444,
             "#bd3786"
            ],
            [
             0.5555555555555556,
             "#d8576b"
            ],
            [
             0.6666666666666666,
             "#ed7953"
            ],
            [
             0.7777777777777778,
             "#fb9f3a"
            ],
            [
             0.8888888888888888,
             "#fdca26"
            ],
            [
             1,
             "#f0f921"
            ]
           ]
          },
          "colorway": [
           "#636efa",
           "#EF553B",
           "#00cc96",
           "#ab63fa",
           "#FFA15A",
           "#19d3f3",
           "#FF6692",
           "#B6E880",
           "#FF97FF",
           "#FECB52"
          ],
          "font": {
           "color": "#2a3f5f"
          },
          "geo": {
           "bgcolor": "white",
           "lakecolor": "white",
           "landcolor": "white",
           "showlakes": true,
           "showland": true,
           "subunitcolor": "#C8D4E3"
          },
          "hoverlabel": {
           "align": "left"
          },
          "hovermode": "closest",
          "mapbox": {
           "style": "light"
          },
          "paper_bgcolor": "white",
          "plot_bgcolor": "white",
          "polar": {
           "angularaxis": {
            "gridcolor": "#EBF0F8",
            "linecolor": "#EBF0F8",
            "ticks": ""
           },
           "bgcolor": "white",
           "radialaxis": {
            "gridcolor": "#EBF0F8",
            "linecolor": "#EBF0F8",
            "ticks": ""
           }
          },
          "scene": {
           "xaxis": {
            "backgroundcolor": "white",
            "gridcolor": "#DFE8F3",
            "gridwidth": 2,
            "linecolor": "#EBF0F8",
            "showbackground": true,
            "ticks": "",
            "zerolinecolor": "#EBF0F8"
           },
           "yaxis": {
            "backgroundcolor": "white",
            "gridcolor": "#DFE8F3",
            "gridwidth": 2,
            "linecolor": "#EBF0F8",
            "showbackground": true,
            "ticks": "",
            "zerolinecolor": "#EBF0F8"
           },
           "zaxis": {
            "backgroundcolor": "white",
            "gridcolor": "#DFE8F3",
            "gridwidth": 2,
            "linecolor": "#EBF0F8",
            "showbackground": true,
            "ticks": "",
            "zerolinecolor": "#EBF0F8"
           }
          },
          "shapedefaults": {
           "line": {
            "color": "#2a3f5f"
           }
          },
          "ternary": {
           "aaxis": {
            "gridcolor": "#DFE8F3",
            "linecolor": "#A2B1C6",
            "ticks": ""
           },
           "baxis": {
            "gridcolor": "#DFE8F3",
            "linecolor": "#A2B1C6",
            "ticks": ""
           },
           "bgcolor": "white",
           "caxis": {
            "gridcolor": "#DFE8F3",
            "linecolor": "#A2B1C6",
            "ticks": ""
           }
          },
          "title": {
           "x": 0.05
          },
          "xaxis": {
           "automargin": true,
           "gridcolor": "#EBF0F8",
           "linecolor": "#EBF0F8",
           "ticks": "",
           "title": {
            "standoff": 15
           },
           "zerolinecolor": "#EBF0F8",
           "zerolinewidth": 2
          },
          "yaxis": {
           "automargin": true,
           "gridcolor": "#EBF0F8",
           "linecolor": "#EBF0F8",
           "ticks": "",
           "title": {
            "standoff": 15
           },
           "zerolinecolor": "#EBF0F8",
           "zerolinewidth": 2
          }
         }
        },
        "title": {
         "text": "[2022-04-10 00:18:02] Episode: 2/2 Step: 21/200"
        },
        "xaxis": {
         "anchor": "y",
         "domain": [
          0,
          1
         ],
         "gridcolor": "Gainsboro",
         "linecolor": "Grey",
         "matches": "x4",
         "rangeslider": {
          "visible": false
         },
         "showticklabels": false,
         "title": {
          "font": {
           "size": 12
          },
          "standoff": 7,
          "text": "Price"
         }
        },
        "xaxis2": {
         "anchor": "y2",
         "domain": [
          0,
          1
         ],
         "gridcolor": "Gainsboro",
         "linecolor": "Grey",
         "matches": "x4",
         "showticklabels": false,
         "title": {
          "font": {
           "size": 12
          },
          "standoff": 7,
          "text": "Volume"
         }
        },
        "xaxis3": {
         "anchor": "y3",
         "domain": [
          0,
          1
         ],
         "gridcolor": "Gainsboro",
         "linecolor": "Grey",
         "matches": "x4",
         "showticklabels": false,
         "title": {
          "font": {
           "size": 12
          },
          "standoff": 7,
          "text": "Performance"
         }
        },
        "xaxis4": {
         "anchor": "y4",
         "domain": [
          0,
          1
         ],
         "gridcolor": "Gainsboro",
         "linecolor": "Grey",
         "title": {
          "font": {
           "size": 12
          },
          "standoff": 7,
          "text": "Net Worth"
         }
        },
        "yaxis": {
         "anchor": "x",
         "domain": [
          0.49950000000000006,
          1
         ],
         "gridcolor": "Gainsboro",
         "linecolor": "Grey"
        },
        "yaxis2": {
         "anchor": "x2",
         "domain": [
          0.333,
          0.46950000000000003
         ],
         "gridcolor": "Gainsboro",
         "linecolor": "Grey"
        },
        "yaxis3": {
         "anchor": "x3",
         "domain": [
          0.1665,
          0.30300000000000005
         ],
         "gridcolor": "Gainsboro",
         "linecolor": "Grey"
        },
        "yaxis4": {
         "anchor": "x4",
         "domain": [
          0,
          0.1365
         ],
         "gridcolor": "Gainsboro",
         "linecolor": "Grey"
        }
       }
      }
     },
     "metadata": {},
     "output_type": "display_data"
    },
    {
     "data": {
      "application/vnd.jupyter.widget-view+json": {
       "model_id": "dc4636eeaeb44503acf6a2b1e182667b",
       "version_major": 2,
       "version_minor": 0
      },
      "text/plain": [
       "FigureWidget({\n",
       "    'data': [{'close': array([8740.99, 8739.  , 8728.49, 8708.32, 8795.9 , 8760.  , 8760.  , 87…"
      ]
     },
     "metadata": {},
     "output_type": "display_data"
    },
    {
     "data": {
      "application/vnd.plotly.v1+json": {
       "config": {
        "plotlyServerURL": "https://plot.ly"
       },
       "data": [
        {
         "close": [
          8740.99,
          8739,
          8728.49,
          8708.32,
          8795.9,
          8760,
          8760,
          8759.23,
          8517.77,
          8520.3,
          8535.23,
          8546.34,
          8526.65,
          8555.6,
          8512.1,
          8492.28,
          8460,
          8474.99,
          8455.92,
          8326.28,
          8133.43,
          8164.79,
          8229.38,
          8220.4,
          8238.8,
          8232.99,
          8207.48,
          8243.45,
          8371.13,
          8373,
          8365.08,
          8179.99,
          8225,
          8285.8,
          8273.4,
          8297.4,
          8279.89,
          8252.72,
          8302.18,
          8295.85,
          8277.25
         ],
         "high": [
          8796.68,
          8766,
          8750.27,
          8754.4,
          8865,
          8821.19,
          8798.6,
          8771.02,
          8761.7,
          8553.67,
          8589.1,
          8579.48,
          8555.51,
          8583.6,
          8569.92,
          8555.54,
          8557.51,
          8505,
          8505.33,
          8478.29,
          8339.81,
          8217.44,
          8252.72,
          8248.63,
          8267.12,
          8255,
          8261.24,
          8263.93,
          8455.66,
          8439.44,
          8399.1,
          8381.73,
          8229.91,
          8377.29,
          8329.1,
          8350,
          8346.95,
          8377.29,
          8311.35,
          8319.96,
          8398.24
         ],
         "low": [
          8707.28,
          8721.11,
          8660.53,
          8701.35,
          8695.11,
          8740.54,
          8741.52,
          8700,
          8467.42,
          8477.89,
          8500.78,
          8500,
          8400,
          8451.05,
          8461.38,
          8481.24,
          8420.37,
          8450,
          8430.94,
          8275.02,
          8100.01,
          8122.56,
          8157.01,
          8166.25,
          8176.91,
          8213.79,
          8200,
          8207.48,
          8237.1,
          8370,
          8356.4,
          8145.1,
          8173.6,
          8211.8,
          8201,
          8250.9,
          8266.46,
          8252.72,
          8232.14,
          8268.37,
          8277.25
         ],
         "name": "Price",
         "open": [
          8733.86,
          8740.99,
          8739,
          8728.49,
          8708.32,
          8795.9,
          8760,
          8760,
          8759.23,
          8517.77,
          8520.3,
          8535.23,
          8546.34,
          8526.65,
          8555.6,
          8512.1,
          8492.28,
          8460,
          8474.99,
          8455.92,
          8326.28,
          8133.43,
          8164.79,
          8229.38,
          8220.4,
          8238.8,
          8232.99,
          8207.48,
          8243.45,
          8371.13,
          8373,
          8365.08,
          8179.99,
          8225,
          8285.8,
          8273.4,
          8297.4,
          8279.89,
          8252.72,
          8302.18,
          8295.85
         ],
         "showlegend": false,
         "type": "candlestick",
         "uid": "8c6d8a56-07c4-4131-a4c8-63193c8a8ccd",
         "xaxis": "x",
         "yaxis": "y"
        },
        {
         "marker": {
          "color": "DodgerBlue"
         },
         "name": "Volume",
         "showlegend": false,
         "type": "bar",
         "uid": "145b46e2-d412-4928-981a-553342a3477e",
         "xaxis": "x2",
         "y": [
          559.93,
          273.58,
          917.79,
          182.62,
          1260.69,
          324.11,
          324.2,
          730.67,
          1341.75,
          792.07,
          385.69,
          475.08,
          877.26,
          670.49,
          610.97,
          168.99,
          305.92,
          136.05,
          154.26,
          1070.93,
          1710.2,
          492.8,
          630.72,
          620.93,
          586.34,
          304.52,
          450.97,
          182.36,
          915.32,
          319.29,
          362.01,
          1046.38,
          357.91,
          561.2,
          322.53,
          1073.71,
          237.21,
          251.2,
          359.73,
          117.23,
          363.17
         ],
         "yaxis": "y2"
        },
        {
         "mode": "lines",
         "name": "bitstamp:/USD-BTC",
         "type": "scatter",
         "uid": "8c525a7c-7cb9-4397-bed8-bf45f03e8a5f",
         "xaxis": "x3",
         "y": [
          8740.99,
          8739,
          8728.49,
          8708.32,
          8795.9,
          8760,
          8760,
          8759.23,
          8517.77,
          8520.3,
          8535.23,
          8546.34,
          8526.65,
          8555.6,
          8512.1,
          8492.28,
          8460,
          8474.99,
          8455.92,
          8326.28,
          8133.43,
          8164.79,
          8229.38,
          8220.4,
          8238.8,
          8232.99,
          8207.48,
          8243.45,
          8371.13,
          8373,
          8365.08,
          8179.99,
          8225,
          8285.8,
          8273.4,
          8297.4,
          8279.89,
          8252.72,
          8302.18,
          8295.85,
          8277.25
         ],
         "yaxis": "y3"
        },
        {
         "mode": "lines",
         "name": "bitstamp:/USD:/free",
         "type": "scatter",
         "uid": "401294ed-928f-428f-a642-2b39c2a3ff21",
         "xaxis": "x3",
         "y": [
          10000,
          10000,
          10000,
          2000,
          2000,
          2000,
          2000,
          2000,
          2000,
          9760.1,
          2928.03,
          878.41,
          878.41,
          878.41,
          878.41,
          878.41,
          878.41,
          878.41,
          878.41,
          878.41,
          878.41,
          9302.62,
          0,
          0,
          0,
          0,
          0,
          0,
          0,
          0,
          0,
          0,
          0,
          0,
          0,
          0,
          0,
          0,
          0,
          0,
          0
         ],
         "yaxis": "y3"
        },
        {
         "mode": "lines",
         "name": "bitstamp:/USD:/locked",
         "type": "scatter",
         "uid": "2aef03b6-c4ff-49c5-a389-faa69b1e2dd5",
         "xaxis": "x3",
         "y": [
          0,
          0,
          0,
          0,
          0,
          0,
          0,
          0,
          0,
          0,
          0,
          0,
          0,
          0,
          0,
          0,
          0,
          0,
          0,
          0,
          0,
          0,
          0,
          0,
          0,
          0,
          0,
          0,
          0,
          0,
          0,
          0,
          0,
          0,
          0,
          0,
          0,
          0,
          0,
          0,
          0
         ],
         "yaxis": "y3"
        },
        {
         "mode": "lines",
         "name": "bitstamp:/USD:/total",
         "type": "scatter",
         "uid": "1cfdc07a-0fb3-45f5-8ac0-46485deef13b",
         "xaxis": "x3",
         "y": [
          10000,
          10000,
          10000,
          2000,
          2000,
          2000,
          2000,
          2000,
          2000,
          9760.1,
          2928.03,
          878.41,
          878.41,
          878.41,
          878.41,
          878.41,
          878.41,
          878.41,
          878.41,
          878.41,
          878.41,
          9302.62,
          0,
          0,
          0,
          0,
          0,
          0,
          0,
          0,
          0,
          0,
          0,
          0,
          0,
          0,
          0,
          0,
          0,
          0,
          0
         ],
         "yaxis": "y3"
        },
        {
         "mode": "lines",
         "name": "bitstamp:/BTC:/free",
         "type": "scatter",
         "uid": "6f75c785-6a85-4a93-88f3-23bc8f1b0896",
         "xaxis": "x3",
         "y": [
          10,
          10,
          10,
          10,
          10,
          10,
          10,
          10,
          10,
          10,
          10,
          10,
          10,
          10,
          10,
          10,
          10,
          10,
          10,
          10,
          10,
          10,
          10,
          10,
          10,
          10,
          10,
          10,
          10,
          10,
          10,
          10,
          10,
          10,
          10,
          10,
          10,
          10,
          10,
          10,
          10
         ],
         "yaxis": "y3"
        },
        {
         "mode": "lines",
         "name": "bitstamp:/BTC:/locked",
         "type": "scatter",
         "uid": "ba02f11e-201e-468a-9ae6-fb1561982cfe",
         "xaxis": "x3",
         "y": [
          0,
          0,
          0,
          0.91378921,
          0.91378921,
          0.91378921,
          0.91378921,
          0.91378921,
          0.91378921,
          0,
          0.7994519,
          1.03886783,
          1.03886783,
          1.03886783,
          1.03886783,
          1.03886783,
          1.03886783,
          1.03886783,
          1.03886783,
          1.03886783,
          1.03886783,
          0,
          1.13593981,
          1.13593981,
          1.13593981,
          1.13593981,
          1.13593981,
          1.13593981,
          1.13593981,
          1.13593981,
          1.13593981,
          1.13593981,
          1.13593981,
          1.13593981,
          1.13593981,
          1.13593981,
          1.13593981,
          1.13593981,
          1.13593981,
          1.13593981,
          1.13593981
         ],
         "yaxis": "y3"
        },
        {
         "mode": "lines",
         "name": "bitstamp:/BTC:/total",
         "type": "scatter",
         "uid": "db06df65-6739-42e7-9218-1600ec083b58",
         "xaxis": "x3",
         "y": [
          10,
          10,
          10,
          10.91378921,
          10.91378921,
          10.91378921,
          10.91378921,
          10.91378921,
          10.91378921,
          10,
          10.7994519,
          11.03886783,
          11.03886783,
          11.03886783,
          11.03886783,
          11.03886783,
          11.03886783,
          11.03886783,
          11.03886783,
          11.03886783,
          11.03886783,
          10,
          11.13593981,
          11.13593981,
          11.13593981,
          11.13593981,
          11.13593981,
          11.13593981,
          11.13593981,
          11.13593981,
          11.13593981,
          11.13593981,
          11.13593981,
          11.13593981,
          11.13593981,
          11.13593981,
          11.13593981,
          11.13593981,
          11.13593981,
          11.13593981,
          11.13593981
         ],
         "yaxis": "y3"
        },
        {
         "mode": "lines",
         "name": "bitstamp:/BTC:/worth",
         "type": "scatter",
         "uid": "00269ee4-5684-47d5-acbb-521c67b732c8",
         "xaxis": "x3",
         "y": [
          87409.9,
          87390,
          87284.9,
          95040.76885322719,
          95996.59851223898,
          95604.79347959999,
          95604.79347959999,
          95596.38986190829,
          92961.1463192617,
          85203,
          92175.805840437,
          94341.91769024219,
          94124.5623826695,
          94444.137606348,
          93963.946855743,
          93745.1564953524,
          93388.82184179999,
          93554.2944705717,
          93343.7832610536,
          91912.7044355724,
          89783.8587745569,
          81647.9,
          91641.88035361779,
          91541.879614124,
          91746.78090662799,
          91682.0810963319,
          91398.0032717788,
          91798.56302674451,
          93220.39982168529,
          93241.22402913,
          93153.0273858348,
          91091.8762864019,
          91593.10493725,
          92270.17007769799,
          92132.084424054,
          92399.346979494,
          92204.35667342089,
          91901.7931887832,
          92452.5767717858,
          92382.08627278851,
          92174.9577923225
         ],
         "yaxis": "y3"
        },
        {
         "mode": "lines",
         "name": "net_worth",
         "type": "scatter",
         "uid": "c6aa695d-58af-49d4-a325-d546bfdc6beb",
         "xaxis": "x3",
         "y": [
          97409.9,
          97390,
          97284.9,
          97040.76885322719,
          97996.59851223898,
          97604.79347959999,
          97604.79347959999,
          97596.38986190829,
          94961.1463192617,
          94963.1,
          95103.835840437,
          95220.3276902422,
          95002.9723826695,
          95322.547606348,
          94842.356855743,
          94623.56649535241,
          94267.23184179999,
          94432.7044705717,
          94222.1932610536,
          92791.11443557241,
          90662.2687745569,
          90950.51999999999,
          91641.88035361779,
          91541.879614124,
          91746.78090662799,
          91682.0810963319,
          91398.0032717788,
          91798.56302674451,
          93220.39982168529,
          93241.22402913,
          93153.0273858348,
          91091.8762864019,
          91593.10493725,
          92270.17007769799,
          92132.084424054,
          92399.346979494,
          92204.35667342089,
          91901.7931887832,
          92452.5767717858,
          92382.08627278851,
          92174.9577923225
         ],
         "yaxis": "y3"
        },
        {
         "marker": {
          "color": "DarkGreen"
         },
         "mode": "lines",
         "name": "Net Worth",
         "type": "scatter",
         "uid": "425ac698-5938-4ce2-abd8-e4fb972b4a58",
         "xaxis": "x4",
         "y": [
          97409.9,
          97390,
          97284.9,
          97040.76885322719,
          97996.59851223898,
          97604.79347959999,
          97604.79347959999,
          97596.38986190829,
          94961.1463192617,
          94963.1,
          95103.835840437,
          95220.3276902422,
          95002.9723826695,
          95322.547606348,
          94842.356855743,
          94623.56649535241,
          94267.23184179999,
          94432.7044705717,
          94222.1932610536,
          92791.11443557241,
          90662.2687745569,
          90950.51999999999,
          91641.88035361779,
          91541.879614124,
          91746.78090662799,
          91682.0810963319,
          91398.0032717788,
          91798.56302674451,
          93220.39982168529,
          93241.22402913,
          93153.0273858348,
          91091.8762864019,
          91593.10493725,
          92270.17007769799,
          92132.084424054,
          92399.346979494,
          92204.35667342089,
          91901.7931887832,
          92452.5767717858,
          92382.08627278851,
          92174.9577923225
         ],
         "yaxis": "y4"
        }
       ],
       "layout": {
        "annotations": [
         {
          "arrowcolor": "DarkGreen",
          "arrowhead": 2,
          "arrowsize": 0.8,
          "arrowwidth": 4,
          "ax": 0,
          "ay": 15,
          "hoverlabel": {
           "bgcolor": "DarkGreen"
          },
          "hovertext": "Step 11 [2018-05-15 16:00:00]<br>BUY 0.23941593 BTC @ 8535.23 USD MARKET<br>Total: 2043.47 USD - Comm.: 6.15 USD",
          "opacity": 0.6,
          "showarrow": true,
          "x": 10,
          "xref": "x",
          "y": 8535.23,
          "yref": "y"
         },
         {
          "arrowcolor": "DarkGreen",
          "arrowhead": 2,
          "arrowsize": 0.8,
          "arrowwidth": 4,
          "ax": 0,
          "ay": 15,
          "hoverlabel": {
           "bgcolor": "DarkGreen"
          },
          "hovertext": "Step 10 [2018-05-15 15:00:00]<br>BUY 0.7994519 BTC @ 8520.3 USD MARKET<br>Total: 6811.57 USD - Comm.: 20.50 USD",
          "opacity": 0.6,
          "showarrow": true,
          "x": 9,
          "xref": "x",
          "y": 8520.3,
          "yref": "y"
         },
         {
          "arrowcolor": "FireBrick",
          "arrowhead": 2,
          "arrowsize": 0.8,
          "arrowwidth": 4,
          "ax": 0,
          "ay": -15,
          "hoverlabel": {
           "bgcolor": "FireBrick"
          },
          "hovertext": "Step 9 [2018-05-15 14:00:00]<br>SELL 0.91104784 BTC @ 8517.77 USD MARKET<br>Total: 7760.1 USD - Comm.: 0.00274137 BTC",
          "opacity": 0.6,
          "showarrow": true,
          "x": 8,
          "xref": "x",
          "y": 8517.77,
          "yref": "y"
         },
         {
          "arrowcolor": "DarkGreen",
          "arrowhead": 2,
          "arrowsize": 0.8,
          "arrowwidth": 4,
          "ax": 0,
          "ay": 15,
          "hoverlabel": {
           "bgcolor": "DarkGreen"
          },
          "hovertext": "Step 3 [2018-05-15 08:00:00]<br>BUY 0.91378921 BTC @ 8728.49 USD MARKET<br>Total: 7976.0 USD - Comm.: 24.00 USD",
          "opacity": 0.6,
          "showarrow": true,
          "x": 2,
          "xref": "x",
          "y": 8728.49,
          "yref": "y"
         },
         {
          "arrowcolor": "DarkGreen",
          "arrowhead": 2,
          "arrowsize": 0.8,
          "arrowwidth": 4,
          "ax": 0,
          "ay": 15,
          "hoverlabel": {
           "bgcolor": "DarkGreen"
          },
          "hovertext": "Step 22 [2018-05-16 03:00:00]<br>BUY 1.13593981 BTC @ 8164.79 USD MARKET<br>Total: 9274.71 USD - Comm.: 27.91 USD",
          "opacity": 0.6,
          "showarrow": true,
          "x": 21,
          "xref": "x",
          "y": 8164.79,
          "yref": "y"
         },
         {
          "arrowcolor": "FireBrick",
          "arrowhead": 2,
          "arrowsize": 0.8,
          "arrowwidth": 4,
          "ax": 0,
          "ay": -15,
          "hoverlabel": {
           "bgcolor": "FireBrick"
          },
          "hovertext": "Step 21 [2018-05-16 02:00:00]<br>SELL 0.23869768 BTC @ 8133.43 USD MARKET<br>Total: 1941.43 USD - Comm.: 0.00071825 BTC",
          "opacity": 0.6,
          "showarrow": true,
          "x": 20,
          "xref": "x",
          "y": 8133.43,
          "yref": "y"
         },
         {
          "arrowcolor": "FireBrick",
          "arrowhead": 2,
          "arrowsize": 0.8,
          "arrowwidth": 4,
          "ax": 0,
          "ay": -15,
          "hoverlabel": {
           "bgcolor": "FireBrick"
          },
          "hovertext": "Step 21 [2018-05-16 02:00:00]<br>SELL 0.79705354 BTC @ 8133.43 USD MARKET<br>Total: 6482.78 USD - Comm.: 0.00239836 BTC",
          "opacity": 0.6,
          "showarrow": true,
          "x": 20,
          "xref": "x",
          "y": 8133.43,
          "yref": "y"
         }
        ],
        "margin": {
         "t": 50
        },
        "template": {
         "data": {
          "bar": [
           {
            "error_x": {
             "color": "#2a3f5f"
            },
            "error_y": {
             "color": "#2a3f5f"
            },
            "marker": {
             "line": {
              "color": "white",
              "width": 0.5
             },
             "pattern": {
              "fillmode": "overlay",
              "size": 10,
              "solidity": 0.2
             }
            },
            "type": "bar"
           }
          ],
          "barpolar": [
           {
            "marker": {
             "line": {
              "color": "white",
              "width": 0.5
             },
             "pattern": {
              "fillmode": "overlay",
              "size": 10,
              "solidity": 0.2
             }
            },
            "type": "barpolar"
           }
          ],
          "carpet": [
           {
            "aaxis": {
             "endlinecolor": "#2a3f5f",
             "gridcolor": "#C8D4E3",
             "linecolor": "#C8D4E3",
             "minorgridcolor": "#C8D4E3",
             "startlinecolor": "#2a3f5f"
            },
            "baxis": {
             "endlinecolor": "#2a3f5f",
             "gridcolor": "#C8D4E3",
             "linecolor": "#C8D4E3",
             "minorgridcolor": "#C8D4E3",
             "startlinecolor": "#2a3f5f"
            },
            "type": "carpet"
           }
          ],
          "choropleth": [
           {
            "colorbar": {
             "outlinewidth": 0,
             "ticks": ""
            },
            "type": "choropleth"
           }
          ],
          "contour": [
           {
            "colorbar": {
             "outlinewidth": 0,
             "ticks": ""
            },
            "colorscale": [
             [
              0,
              "#0d0887"
             ],
             [
              0.1111111111111111,
              "#46039f"
             ],
             [
              0.2222222222222222,
              "#7201a8"
             ],
             [
              0.3333333333333333,
              "#9c179e"
             ],
             [
              0.4444444444444444,
              "#bd3786"
             ],
             [
              0.5555555555555556,
              "#d8576b"
             ],
             [
              0.6666666666666666,
              "#ed7953"
             ],
             [
              0.7777777777777778,
              "#fb9f3a"
             ],
             [
              0.8888888888888888,
              "#fdca26"
             ],
             [
              1,
              "#f0f921"
             ]
            ],
            "type": "contour"
           }
          ],
          "contourcarpet": [
           {
            "colorbar": {
             "outlinewidth": 0,
             "ticks": ""
            },
            "type": "contourcarpet"
           }
          ],
          "heatmap": [
           {
            "colorbar": {
             "outlinewidth": 0,
             "ticks": ""
            },
            "colorscale": [
             [
              0,
              "#0d0887"
             ],
             [
              0.1111111111111111,
              "#46039f"
             ],
             [
              0.2222222222222222,
              "#7201a8"
             ],
             [
              0.3333333333333333,
              "#9c179e"
             ],
             [
              0.4444444444444444,
              "#bd3786"
             ],
             [
              0.5555555555555556,
              "#d8576b"
             ],
             [
              0.6666666666666666,
              "#ed7953"
             ],
             [
              0.7777777777777778,
              "#fb9f3a"
             ],
             [
              0.8888888888888888,
              "#fdca26"
             ],
             [
              1,
              "#f0f921"
             ]
            ],
            "type": "heatmap"
           }
          ],
          "heatmapgl": [
           {
            "colorbar": {
             "outlinewidth": 0,
             "ticks": ""
            },
            "colorscale": [
             [
              0,
              "#0d0887"
             ],
             [
              0.1111111111111111,
              "#46039f"
             ],
             [
              0.2222222222222222,
              "#7201a8"
             ],
             [
              0.3333333333333333,
              "#9c179e"
             ],
             [
              0.4444444444444444,
              "#bd3786"
             ],
             [
              0.5555555555555556,
              "#d8576b"
             ],
             [
              0.6666666666666666,
              "#ed7953"
             ],
             [
              0.7777777777777778,
              "#fb9f3a"
             ],
             [
              0.8888888888888888,
              "#fdca26"
             ],
             [
              1,
              "#f0f921"
             ]
            ],
            "type": "heatmapgl"
           }
          ],
          "histogram": [
           {
            "marker": {
             "pattern": {
              "fillmode": "overlay",
              "size": 10,
              "solidity": 0.2
             }
            },
            "type": "histogram"
           }
          ],
          "histogram2d": [
           {
            "colorbar": {
             "outlinewidth": 0,
             "ticks": ""
            },
            "colorscale": [
             [
              0,
              "#0d0887"
             ],
             [
              0.1111111111111111,
              "#46039f"
             ],
             [
              0.2222222222222222,
              "#7201a8"
             ],
             [
              0.3333333333333333,
              "#9c179e"
             ],
             [
              0.4444444444444444,
              "#bd3786"
             ],
             [
              0.5555555555555556,
              "#d8576b"
             ],
             [
              0.6666666666666666,
              "#ed7953"
             ],
             [
              0.7777777777777778,
              "#fb9f3a"
             ],
             [
              0.8888888888888888,
              "#fdca26"
             ],
             [
              1,
              "#f0f921"
             ]
            ],
            "type": "histogram2d"
           }
          ],
          "histogram2dcontour": [
           {
            "colorbar": {
             "outlinewidth": 0,
             "ticks": ""
            },
            "colorscale": [
             [
              0,
              "#0d0887"
             ],
             [
              0.1111111111111111,
              "#46039f"
             ],
             [
              0.2222222222222222,
              "#7201a8"
             ],
             [
              0.3333333333333333,
              "#9c179e"
             ],
             [
              0.4444444444444444,
              "#bd3786"
             ],
             [
              0.5555555555555556,
              "#d8576b"
             ],
             [
              0.6666666666666666,
              "#ed7953"
             ],
             [
              0.7777777777777778,
              "#fb9f3a"
             ],
             [
              0.8888888888888888,
              "#fdca26"
             ],
             [
              1,
              "#f0f921"
             ]
            ],
            "type": "histogram2dcontour"
           }
          ],
          "mesh3d": [
           {
            "colorbar": {
             "outlinewidth": 0,
             "ticks": ""
            },
            "type": "mesh3d"
           }
          ],
          "parcoords": [
           {
            "line": {
             "colorbar": {
              "outlinewidth": 0,
              "ticks": ""
             }
            },
            "type": "parcoords"
           }
          ],
          "pie": [
           {
            "automargin": true,
            "type": "pie"
           }
          ],
          "scatter": [
           {
            "marker": {
             "colorbar": {
              "outlinewidth": 0,
              "ticks": ""
             }
            },
            "type": "scatter"
           }
          ],
          "scatter3d": [
           {
            "line": {
             "colorbar": {
              "outlinewidth": 0,
              "ticks": ""
             }
            },
            "marker": {
             "colorbar": {
              "outlinewidth": 0,
              "ticks": ""
             }
            },
            "type": "scatter3d"
           }
          ],
          "scattercarpet": [
           {
            "marker": {
             "colorbar": {
              "outlinewidth": 0,
              "ticks": ""
             }
            },
            "type": "scattercarpet"
           }
          ],
          "scattergeo": [
           {
            "marker": {
             "colorbar": {
              "outlinewidth": 0,
              "ticks": ""
             }
            },
            "type": "scattergeo"
           }
          ],
          "scattergl": [
           {
            "marker": {
             "colorbar": {
              "outlinewidth": 0,
              "ticks": ""
             }
            },
            "type": "scattergl"
           }
          ],
          "scattermapbox": [
           {
            "marker": {
             "colorbar": {
              "outlinewidth": 0,
              "ticks": ""
             }
            },
            "type": "scattermapbox"
           }
          ],
          "scatterpolar": [
           {
            "marker": {
             "colorbar": {
              "outlinewidth": 0,
              "ticks": ""
             }
            },
            "type": "scatterpolar"
           }
          ],
          "scatterpolargl": [
           {
            "marker": {
             "colorbar": {
              "outlinewidth": 0,
              "ticks": ""
             }
            },
            "type": "scatterpolargl"
           }
          ],
          "scatterternary": [
           {
            "marker": {
             "colorbar": {
              "outlinewidth": 0,
              "ticks": ""
             }
            },
            "type": "scatterternary"
           }
          ],
          "surface": [
           {
            "colorbar": {
             "outlinewidth": 0,
             "ticks": ""
            },
            "colorscale": [
             [
              0,
              "#0d0887"
             ],
             [
              0.1111111111111111,
              "#46039f"
             ],
             [
              0.2222222222222222,
              "#7201a8"
             ],
             [
              0.3333333333333333,
              "#9c179e"
             ],
             [
              0.4444444444444444,
              "#bd3786"
             ],
             [
              0.5555555555555556,
              "#d8576b"
             ],
             [
              0.6666666666666666,
              "#ed7953"
             ],
             [
              0.7777777777777778,
              "#fb9f3a"
             ],
             [
              0.8888888888888888,
              "#fdca26"
             ],
             [
              1,
              "#f0f921"
             ]
            ],
            "type": "surface"
           }
          ],
          "table": [
           {
            "cells": {
             "fill": {
              "color": "#EBF0F8"
             },
             "line": {
              "color": "white"
             }
            },
            "header": {
             "fill": {
              "color": "#C8D4E3"
             },
             "line": {
              "color": "white"
             }
            },
            "type": "table"
           }
          ]
         },
         "layout": {
          "annotationdefaults": {
           "arrowcolor": "#2a3f5f",
           "arrowhead": 0,
           "arrowwidth": 1
          },
          "autotypenumbers": "strict",
          "coloraxis": {
           "colorbar": {
            "outlinewidth": 0,
            "ticks": ""
           }
          },
          "colorscale": {
           "diverging": [
            [
             0,
             "#8e0152"
            ],
            [
             0.1,
             "#c51b7d"
            ],
            [
             0.2,
             "#de77ae"
            ],
            [
             0.3,
             "#f1b6da"
            ],
            [
             0.4,
             "#fde0ef"
            ],
            [
             0.5,
             "#f7f7f7"
            ],
            [
             0.6,
             "#e6f5d0"
            ],
            [
             0.7,
             "#b8e186"
            ],
            [
             0.8,
             "#7fbc41"
            ],
            [
             0.9,
             "#4d9221"
            ],
            [
             1,
             "#276419"
            ]
           ],
           "sequential": [
            [
             0,
             "#0d0887"
            ],
            [
             0.1111111111111111,
             "#46039f"
            ],
            [
             0.2222222222222222,
             "#7201a8"
            ],
            [
             0.3333333333333333,
             "#9c179e"
            ],
            [
             0.4444444444444444,
             "#bd3786"
            ],
            [
             0.5555555555555556,
             "#d8576b"
            ],
            [
             0.6666666666666666,
             "#ed7953"
            ],
            [
             0.7777777777777778,
             "#fb9f3a"
            ],
            [
             0.8888888888888888,
             "#fdca26"
            ],
            [
             1,
             "#f0f921"
            ]
           ],
           "sequentialminus": [
            [
             0,
             "#0d0887"
            ],
            [
             0.1111111111111111,
             "#46039f"
            ],
            [
             0.2222222222222222,
             "#7201a8"
            ],
            [
             0.3333333333333333,
             "#9c179e"
            ],
            [
             0.4444444444444444,
             "#bd3786"
            ],
            [
             0.5555555555555556,
             "#d8576b"
            ],
            [
             0.6666666666666666,
             "#ed7953"
            ],
            [
             0.7777777777777778,
             "#fb9f3a"
            ],
            [
             0.8888888888888888,
             "#fdca26"
            ],
            [
             1,
             "#f0f921"
            ]
           ]
          },
          "colorway": [
           "#636efa",
           "#EF553B",
           "#00cc96",
           "#ab63fa",
           "#FFA15A",
           "#19d3f3",
           "#FF6692",
           "#B6E880",
           "#FF97FF",
           "#FECB52"
          ],
          "font": {
           "color": "#2a3f5f"
          },
          "geo": {
           "bgcolor": "white",
           "lakecolor": "white",
           "landcolor": "white",
           "showlakes": true,
           "showland": true,
           "subunitcolor": "#C8D4E3"
          },
          "hoverlabel": {
           "align": "left"
          },
          "hovermode": "closest",
          "mapbox": {
           "style": "light"
          },
          "paper_bgcolor": "white",
          "plot_bgcolor": "white",
          "polar": {
           "angularaxis": {
            "gridcolor": "#EBF0F8",
            "linecolor": "#EBF0F8",
            "ticks": ""
           },
           "bgcolor": "white",
           "radialaxis": {
            "gridcolor": "#EBF0F8",
            "linecolor": "#EBF0F8",
            "ticks": ""
           }
          },
          "scene": {
           "xaxis": {
            "backgroundcolor": "white",
            "gridcolor": "#DFE8F3",
            "gridwidth": 2,
            "linecolor": "#EBF0F8",
            "showbackground": true,
            "ticks": "",
            "zerolinecolor": "#EBF0F8"
           },
           "yaxis": {
            "backgroundcolor": "white",
            "gridcolor": "#DFE8F3",
            "gridwidth": 2,
            "linecolor": "#EBF0F8",
            "showbackground": true,
            "ticks": "",
            "zerolinecolor": "#EBF0F8"
           },
           "zaxis": {
            "backgroundcolor": "white",
            "gridcolor": "#DFE8F3",
            "gridwidth": 2,
            "linecolor": "#EBF0F8",
            "showbackground": true,
            "ticks": "",
            "zerolinecolor": "#EBF0F8"
           }
          },
          "shapedefaults": {
           "line": {
            "color": "#2a3f5f"
           }
          },
          "ternary": {
           "aaxis": {
            "gridcolor": "#DFE8F3",
            "linecolor": "#A2B1C6",
            "ticks": ""
           },
           "baxis": {
            "gridcolor": "#DFE8F3",
            "linecolor": "#A2B1C6",
            "ticks": ""
           },
           "bgcolor": "white",
           "caxis": {
            "gridcolor": "#DFE8F3",
            "linecolor": "#A2B1C6",
            "ticks": ""
           }
          },
          "title": {
           "x": 0.05
          },
          "xaxis": {
           "automargin": true,
           "gridcolor": "#EBF0F8",
           "linecolor": "#EBF0F8",
           "ticks": "",
           "title": {
            "standoff": 15
           },
           "zerolinecolor": "#EBF0F8",
           "zerolinewidth": 2
          },
          "yaxis": {
           "automargin": true,
           "gridcolor": "#EBF0F8",
           "linecolor": "#EBF0F8",
           "ticks": "",
           "title": {
            "standoff": 15
           },
           "zerolinecolor": "#EBF0F8",
           "zerolinewidth": 2
          }
         }
        },
        "title": {
         "text": "[2022-04-10 00:18:08] Episode: 2/2 Step: 41/200"
        },
        "xaxis": {
         "anchor": "y",
         "domain": [
          0,
          1
         ],
         "gridcolor": "Gainsboro",
         "linecolor": "Grey",
         "matches": "x4",
         "rangeslider": {
          "visible": false
         },
         "showticklabels": false,
         "title": {
          "font": {
           "size": 12
          },
          "standoff": 7,
          "text": "Price"
         }
        },
        "xaxis2": {
         "anchor": "y2",
         "domain": [
          0,
          1
         ],
         "gridcolor": "Gainsboro",
         "linecolor": "Grey",
         "matches": "x4",
         "showticklabels": false,
         "title": {
          "font": {
           "size": 12
          },
          "standoff": 7,
          "text": "Volume"
         }
        },
        "xaxis3": {
         "anchor": "y3",
         "domain": [
          0,
          1
         ],
         "gridcolor": "Gainsboro",
         "linecolor": "Grey",
         "matches": "x4",
         "showticklabels": false,
         "title": {
          "font": {
           "size": 12
          },
          "standoff": 7,
          "text": "Performance"
         }
        },
        "xaxis4": {
         "anchor": "y4",
         "domain": [
          0,
          1
         ],
         "gridcolor": "Gainsboro",
         "linecolor": "Grey",
         "title": {
          "font": {
           "size": 12
          },
          "standoff": 7,
          "text": "Net Worth"
         }
        },
        "yaxis": {
         "anchor": "x",
         "domain": [
          0.49950000000000006,
          1
         ],
         "gridcolor": "Gainsboro",
         "linecolor": "Grey"
        },
        "yaxis2": {
         "anchor": "x2",
         "domain": [
          0.333,
          0.46950000000000003
         ],
         "gridcolor": "Gainsboro",
         "linecolor": "Grey"
        },
        "yaxis3": {
         "anchor": "x3",
         "domain": [
          0.1665,
          0.30300000000000005
         ],
         "gridcolor": "Gainsboro",
         "linecolor": "Grey"
        },
        "yaxis4": {
         "anchor": "x4",
         "domain": [
          0,
          0.1365
         ],
         "gridcolor": "Gainsboro",
         "linecolor": "Grey"
        }
       }
      }
     },
     "metadata": {},
     "output_type": "display_data"
    },
    {
     "data": {
      "application/vnd.jupyter.widget-view+json": {
       "model_id": "dc4636eeaeb44503acf6a2b1e182667b",
       "version_major": 2,
       "version_minor": 0
      },
      "text/plain": [
       "FigureWidget({\n",
       "    'data': [{'close': array([8740.99, 8739.  , 8728.49, 8708.32, 8795.9 , 8760.  , 8760.  , 87…"
      ]
     },
     "metadata": {},
     "output_type": "display_data"
    },
    {
     "data": {
      "application/vnd.plotly.v1+json": {
       "config": {
        "plotlyServerURL": "https://plot.ly"
       },
       "data": [
        {
         "close": [
          8740.99,
          8739,
          8728.49,
          8708.32,
          8795.9,
          8760,
          8760,
          8759.23,
          8517.77,
          8520.3,
          8535.23,
          8546.34,
          8526.65,
          8555.6,
          8512.1,
          8492.28,
          8460,
          8474.99,
          8455.92,
          8326.28,
          8133.43,
          8164.79,
          8229.38,
          8220.4,
          8238.8,
          8232.99,
          8207.48,
          8243.45,
          8371.13,
          8373,
          8365.08,
          8179.99,
          8225,
          8285.8,
          8273.4,
          8297.4,
          8279.89,
          8252.72,
          8302.18,
          8295.85,
          8277.25,
          8346.59,
          8358.3,
          8375.1,
          8368.62,
          8366.72,
          8314.77,
          8363.7,
          8344.16,
          8247.4,
          8277.4,
          8291.67,
          8307.89,
          8298.9,
          8269.47,
          8300.98,
          8318.49,
          8306.39,
          8276.43,
          8257.69,
          8166
         ],
         "high": [
          8796.68,
          8766,
          8750.27,
          8754.4,
          8865,
          8821.19,
          8798.6,
          8771.02,
          8761.7,
          8553.67,
          8589.1,
          8579.48,
          8555.51,
          8583.6,
          8569.92,
          8555.54,
          8557.51,
          8505,
          8505.33,
          8478.29,
          8339.81,
          8217.44,
          8252.72,
          8248.63,
          8267.12,
          8255,
          8261.24,
          8263.93,
          8455.66,
          8439.44,
          8399.1,
          8381.73,
          8229.91,
          8377.29,
          8329.1,
          8350,
          8346.95,
          8377.29,
          8311.35,
          8319.96,
          8398.24,
          8372.58,
          8399.99,
          8386.53,
          8400,
          8500,
          8381,
          8371.3,
          8382.41,
          8351,
          8292.99,
          8325.8,
          8318.99,
          8324.9,
          8335.56,
          8309.4,
          8377.29,
          8330.41,
          8328.23,
          8284.36,
          8274.83
         ],
         "low": [
          8707.28,
          8721.11,
          8660.53,
          8701.35,
          8695.11,
          8740.54,
          8741.52,
          8700,
          8467.42,
          8477.89,
          8500.78,
          8500,
          8400,
          8451.05,
          8461.38,
          8481.24,
          8420.37,
          8450,
          8430.94,
          8275.02,
          8100.01,
          8122.56,
          8157.01,
          8166.25,
          8176.91,
          8213.79,
          8200,
          8207.48,
          8237.1,
          8370,
          8356.4,
          8145.1,
          8173.6,
          8211.8,
          8201,
          8250.9,
          8266.46,
          8252.72,
          8232.14,
          8268.37,
          8277.25,
          8277.25,
          8314.78,
          8314.77,
          8350.07,
          8331.39,
          8314.77,
          8275.45,
          8335.49,
          8191.14,
          8227.7,
          8264.13,
          8249.93,
          8269.52,
          8219.44,
          8262.68,
          8286.65,
          8289.87,
          8232.14,
          8232.14,
          8110.02
         ],
         "name": "Price",
         "open": [
          8733.86,
          8740.99,
          8739,
          8728.49,
          8708.32,
          8795.9,
          8760,
          8760,
          8759.23,
          8517.77,
          8520.3,
          8535.23,
          8546.34,
          8526.65,
          8555.6,
          8512.1,
          8492.28,
          8460,
          8474.99,
          8455.92,
          8326.28,
          8133.43,
          8164.79,
          8229.38,
          8220.4,
          8238.8,
          8232.99,
          8207.48,
          8243.45,
          8371.13,
          8373,
          8365.08,
          8179.99,
          8225,
          8285.8,
          8273.4,
          8297.4,
          8279.89,
          8252.72,
          8302.18,
          8295.85,
          8277.25,
          8346.59,
          8358.3,
          8375.1,
          8368.62,
          8366.72,
          8314.77,
          8363.7,
          8344.16,
          8247.4,
          8277.4,
          8291.67,
          8307.89,
          8298.9,
          8269.47,
          8300.98,
          8318.49,
          8306.39,
          8276.43,
          8257.69
         ],
         "showlegend": false,
         "type": "candlestick",
         "uid": "8c6d8a56-07c4-4131-a4c8-63193c8a8ccd",
         "xaxis": "x",
         "yaxis": "y"
        },
        {
         "marker": {
          "color": "DodgerBlue"
         },
         "name": "Volume",
         "showlegend": false,
         "type": "bar",
         "uid": "145b46e2-d412-4928-981a-553342a3477e",
         "xaxis": "x2",
         "y": [
          559.93,
          273.58,
          917.79,
          182.62,
          1260.69,
          324.11,
          324.2,
          730.67,
          1341.75,
          792.07,
          385.69,
          475.08,
          877.26,
          670.49,
          610.97,
          168.99,
          305.92,
          136.05,
          154.26,
          1070.93,
          1710.2,
          492.8,
          630.72,
          620.93,
          586.34,
          304.52,
          450.97,
          182.36,
          915.32,
          319.29,
          362.01,
          1046.38,
          357.91,
          561.2,
          322.53,
          1073.71,
          237.21,
          251.2,
          359.73,
          117.23,
          363.17,
          214.18,
          171.64,
          258.58,
          299.52,
          718.98,
          119.7,
          405.25,
          210.77,
          714.82,
          215.97,
          164.2,
          201.55,
          203.41,
          886.82,
          95.49,
          499.67,
          172.77,
          355.39,
          255.27,
          591.06
         ],
         "yaxis": "y2"
        },
        {
         "mode": "lines",
         "name": "bitstamp:/USD-BTC",
         "type": "scatter",
         "uid": "8c525a7c-7cb9-4397-bed8-bf45f03e8a5f",
         "xaxis": "x3",
         "y": [
          8740.99,
          8739,
          8728.49,
          8708.32,
          8795.9,
          8760,
          8760,
          8759.23,
          8517.77,
          8520.3,
          8535.23,
          8546.34,
          8526.65,
          8555.6,
          8512.1,
          8492.28,
          8460,
          8474.99,
          8455.92,
          8326.28,
          8133.43,
          8164.79,
          8229.38,
          8220.4,
          8238.8,
          8232.99,
          8207.48,
          8243.45,
          8371.13,
          8373,
          8365.08,
          8179.99,
          8225,
          8285.8,
          8273.4,
          8297.4,
          8279.89,
          8252.72,
          8302.18,
          8295.85,
          8277.25,
          8346.59,
          8358.3,
          8375.1,
          8368.62,
          8366.72,
          8314.77,
          8363.7,
          8344.16,
          8247.4,
          8277.4,
          8291.67,
          8307.89,
          8298.9,
          8269.47,
          8300.98,
          8318.49,
          8306.39,
          8276.43,
          8257.69,
          8166
         ],
         "yaxis": "y3"
        },
        {
         "mode": "lines",
         "name": "bitstamp:/USD:/free",
         "type": "scatter",
         "uid": "401294ed-928f-428f-a642-2b39c2a3ff21",
         "xaxis": "x3",
         "y": [
          10000,
          10000,
          10000,
          2000,
          2000,
          2000,
          2000,
          2000,
          2000,
          9760.1,
          2928.03,
          878.41,
          878.41,
          878.41,
          878.41,
          878.41,
          878.41,
          878.41,
          878.41,
          878.41,
          878.41,
          9302.62,
          0,
          0,
          0,
          0,
          0,
          0,
          0,
          0,
          0,
          0,
          0,
          0,
          0,
          0,
          0,
          0,
          0,
          0,
          0,
          0,
          0,
          0,
          0,
          0,
          0,
          0,
          0,
          0,
          0,
          0,
          0,
          0,
          0,
          0,
          0,
          0,
          0,
          0,
          0
         ],
         "yaxis": "y3"
        },
        {
         "mode": "lines",
         "name": "bitstamp:/USD:/locked",
         "type": "scatter",
         "uid": "2aef03b6-c4ff-49c5-a389-faa69b1e2dd5",
         "xaxis": "x3",
         "y": [
          0,
          0,
          0,
          0,
          0,
          0,
          0,
          0,
          0,
          0,
          0,
          0,
          0,
          0,
          0,
          0,
          0,
          0,
          0,
          0,
          0,
          0,
          0,
          0,
          0,
          0,
          0,
          0,
          0,
          0,
          0,
          0,
          0,
          0,
          0,
          0,
          0,
          0,
          0,
          0,
          0,
          0,
          0,
          0,
          0,
          0,
          0,
          0,
          0,
          0,
          0,
          0,
          0,
          0,
          0,
          0,
          0,
          0,
          0,
          0,
          0
         ],
         "yaxis": "y3"
        },
        {
         "mode": "lines",
         "name": "bitstamp:/USD:/total",
         "type": "scatter",
         "uid": "1cfdc07a-0fb3-45f5-8ac0-46485deef13b",
         "xaxis": "x3",
         "y": [
          10000,
          10000,
          10000,
          2000,
          2000,
          2000,
          2000,
          2000,
          2000,
          9760.1,
          2928.03,
          878.41,
          878.41,
          878.41,
          878.41,
          878.41,
          878.41,
          878.41,
          878.41,
          878.41,
          878.41,
          9302.62,
          0,
          0,
          0,
          0,
          0,
          0,
          0,
          0,
          0,
          0,
          0,
          0,
          0,
          0,
          0,
          0,
          0,
          0,
          0,
          0,
          0,
          0,
          0,
          0,
          0,
          0,
          0,
          0,
          0,
          0,
          0,
          0,
          0,
          0,
          0,
          0,
          0,
          0,
          0
         ],
         "yaxis": "y3"
        },
        {
         "mode": "lines",
         "name": "bitstamp:/BTC:/free",
         "type": "scatter",
         "uid": "6f75c785-6a85-4a93-88f3-23bc8f1b0896",
         "xaxis": "x3",
         "y": [
          10,
          10,
          10,
          10,
          10,
          10,
          10,
          10,
          10,
          10,
          10,
          10,
          10,
          10,
          10,
          10,
          10,
          10,
          10,
          10,
          10,
          10,
          10,
          10,
          10,
          10,
          10,
          10,
          10,
          10,
          10,
          10,
          10,
          10,
          10,
          10,
          10,
          10,
          10,
          10,
          10,
          10,
          10,
          10,
          10,
          10,
          10,
          10,
          10,
          10,
          10,
          10,
          10,
          10,
          10,
          10,
          10,
          10,
          10,
          10,
          10
         ],
         "yaxis": "y3"
        },
        {
         "mode": "lines",
         "name": "bitstamp:/BTC:/locked",
         "type": "scatter",
         "uid": "ba02f11e-201e-468a-9ae6-fb1561982cfe",
         "xaxis": "x3",
         "y": [
          0,
          0,
          0,
          0.91378921,
          0.91378921,
          0.91378921,
          0.91378921,
          0.91378921,
          0.91378921,
          0,
          0.7994519,
          1.03886783,
          1.03886783,
          1.03886783,
          1.03886783,
          1.03886783,
          1.03886783,
          1.03886783,
          1.03886783,
          1.03886783,
          1.03886783,
          0,
          1.13593981,
          1.13593981,
          1.13593981,
          1.13593981,
          1.13593981,
          1.13593981,
          1.13593981,
          1.13593981,
          1.13593981,
          1.13593981,
          1.13593981,
          1.13593981,
          1.13593981,
          1.13593981,
          1.13593981,
          1.13593981,
          1.13593981,
          1.13593981,
          1.13593981,
          1.13593981,
          1.13593981,
          1.13593981,
          1.13593981,
          1.13593981,
          1.13593981,
          1.13593981,
          1.13593981,
          1.13593981,
          1.13593981,
          1.13593981,
          1.13593981,
          1.13593981,
          1.13593981,
          1.13593981,
          1.13593981,
          1.13593981,
          1.13593981,
          1.13593981,
          1.13593981
         ],
         "yaxis": "y3"
        },
        {
         "mode": "lines",
         "name": "bitstamp:/BTC:/total",
         "type": "scatter",
         "uid": "db06df65-6739-42e7-9218-1600ec083b58",
         "xaxis": "x3",
         "y": [
          10,
          10,
          10,
          10.91378921,
          10.91378921,
          10.91378921,
          10.91378921,
          10.91378921,
          10.91378921,
          10,
          10.7994519,
          11.03886783,
          11.03886783,
          11.03886783,
          11.03886783,
          11.03886783,
          11.03886783,
          11.03886783,
          11.03886783,
          11.03886783,
          11.03886783,
          10,
          11.13593981,
          11.13593981,
          11.13593981,
          11.13593981,
          11.13593981,
          11.13593981,
          11.13593981,
          11.13593981,
          11.13593981,
          11.13593981,
          11.13593981,
          11.13593981,
          11.13593981,
          11.13593981,
          11.13593981,
          11.13593981,
          11.13593981,
          11.13593981,
          11.13593981,
          11.13593981,
          11.13593981,
          11.13593981,
          11.13593981,
          11.13593981,
          11.13593981,
          11.13593981,
          11.13593981,
          11.13593981,
          11.13593981,
          11.13593981,
          11.13593981,
          11.13593981,
          11.13593981,
          11.13593981,
          11.13593981,
          11.13593981,
          11.13593981,
          11.13593981,
          11.13593981
         ],
         "yaxis": "y3"
        },
        {
         "mode": "lines",
         "name": "bitstamp:/BTC:/worth",
         "type": "scatter",
         "uid": "00269ee4-5684-47d5-acbb-521c67b732c8",
         "xaxis": "x3",
         "y": [
          87409.9,
          87390,
          87284.9,
          95040.76885322719,
          95996.59851223898,
          95604.79347959999,
          95604.79347959999,
          95596.38986190829,
          92961.1463192617,
          85203,
          92175.805840437,
          94341.91769024219,
          94124.5623826695,
          94444.137606348,
          93963.946855743,
          93745.1564953524,
          93388.82184179999,
          93554.2944705717,
          93343.7832610536,
          91912.7044355724,
          89783.8587745569,
          81647.9,
          91641.88035361779,
          91541.879614124,
          91746.78090662799,
          91682.0810963319,
          91398.0032717788,
          91798.56302674451,
          93220.39982168529,
          93241.22402913,
          93153.0273858348,
          91091.8762864019,
          91593.10493725,
          92270.17007769799,
          92132.084424054,
          92399.346979494,
          92204.35667342089,
          91901.7931887832,
          92452.5767717858,
          92382.08627278851,
          92174.9577923225,
          92947.1238587479,
          93077.525713923,
          93264.60950273101,
          93192.44861276221,
          93171.29032712319,
          92592.7782539937,
          93137.65978889701,
          92920.0635250096,
          91842.549988994,
          92176.628183294,
          92335.5380443827,
          92516.1629881009,
          92416.050889209,
          92088.3201806007,
          92439.2136440138,
          92634.2039500869,
          92499.45907838589,
          92165.82632167831,
          91957.13880963891,
          90936.08448846
         ],
         "yaxis": "y3"
        },
        {
         "mode": "lines",
         "name": "net_worth",
         "type": "scatter",
         "uid": "c6aa695d-58af-49d4-a325-d546bfdc6beb",
         "xaxis": "x3",
         "y": [
          97409.9,
          97390,
          97284.9,
          97040.76885322719,
          97996.59851223898,
          97604.79347959999,
          97604.79347959999,
          97596.38986190829,
          94961.1463192617,
          94963.1,
          95103.835840437,
          95220.3276902422,
          95002.9723826695,
          95322.547606348,
          94842.356855743,
          94623.56649535241,
          94267.23184179999,
          94432.7044705717,
          94222.1932610536,
          92791.11443557241,
          90662.2687745569,
          90950.51999999999,
          91641.88035361779,
          91541.879614124,
          91746.78090662799,
          91682.0810963319,
          91398.0032717788,
          91798.56302674451,
          93220.39982168529,
          93241.22402913,
          93153.0273858348,
          91091.8762864019,
          91593.10493725,
          92270.17007769799,
          92132.084424054,
          92399.346979494,
          92204.35667342089,
          91901.7931887832,
          92452.5767717858,
          92382.08627278851,
          92174.9577923225,
          92947.1238587479,
          93077.525713923,
          93264.60950273101,
          93192.44861276221,
          93171.29032712319,
          92592.7782539937,
          93137.65978889701,
          92920.0635250096,
          91842.549988994,
          92176.628183294,
          92335.5380443827,
          92516.1629881009,
          92416.050889209,
          92088.3201806007,
          92439.2136440138,
          92634.2039500869,
          92499.45907838589,
          92165.82632167831,
          91957.13880963891,
          90936.08448846
         ],
         "yaxis": "y3"
        },
        {
         "marker": {
          "color": "DarkGreen"
         },
         "mode": "lines",
         "name": "Net Worth",
         "type": "scatter",
         "uid": "425ac698-5938-4ce2-abd8-e4fb972b4a58",
         "xaxis": "x4",
         "y": [
          97409.9,
          97390,
          97284.9,
          97040.76885322719,
          97996.59851223898,
          97604.79347959999,
          97604.79347959999,
          97596.38986190829,
          94961.1463192617,
          94963.1,
          95103.835840437,
          95220.3276902422,
          95002.9723826695,
          95322.547606348,
          94842.356855743,
          94623.56649535241,
          94267.23184179999,
          94432.7044705717,
          94222.1932610536,
          92791.11443557241,
          90662.2687745569,
          90950.51999999999,
          91641.88035361779,
          91541.879614124,
          91746.78090662799,
          91682.0810963319,
          91398.0032717788,
          91798.56302674451,
          93220.39982168529,
          93241.22402913,
          93153.0273858348,
          91091.8762864019,
          91593.10493725,
          92270.17007769799,
          92132.084424054,
          92399.346979494,
          92204.35667342089,
          91901.7931887832,
          92452.5767717858,
          92382.08627278851,
          92174.9577923225,
          92947.1238587479,
          93077.525713923,
          93264.60950273101,
          93192.44861276221,
          93171.29032712319,
          92592.7782539937,
          93137.65978889701,
          92920.0635250096,
          91842.549988994,
          92176.628183294,
          92335.5380443827,
          92516.1629881009,
          92416.050889209,
          92088.3201806007,
          92439.2136440138,
          92634.2039500869,
          92499.45907838589,
          92165.82632167831,
          91957.13880963891,
          90936.08448846
         ],
         "yaxis": "y4"
        }
       ],
       "layout": {
        "annotations": [
         {
          "arrowcolor": "DarkGreen",
          "arrowhead": 2,
          "arrowsize": 0.8,
          "arrowwidth": 4,
          "ax": 0,
          "ay": 15,
          "hoverlabel": {
           "bgcolor": "DarkGreen"
          },
          "hovertext": "Step 11 [2018-05-15 16:00:00]<br>BUY 0.23941593 BTC @ 8535.23 USD MARKET<br>Total: 2043.47 USD - Comm.: 6.15 USD",
          "opacity": 0.6,
          "showarrow": true,
          "x": 10,
          "xref": "x",
          "y": 8535.23,
          "yref": "y"
         },
         {
          "arrowcolor": "DarkGreen",
          "arrowhead": 2,
          "arrowsize": 0.8,
          "arrowwidth": 4,
          "ax": 0,
          "ay": 15,
          "hoverlabel": {
           "bgcolor": "DarkGreen"
          },
          "hovertext": "Step 10 [2018-05-15 15:00:00]<br>BUY 0.7994519 BTC @ 8520.3 USD MARKET<br>Total: 6811.57 USD - Comm.: 20.50 USD",
          "opacity": 0.6,
          "showarrow": true,
          "x": 9,
          "xref": "x",
          "y": 8520.3,
          "yref": "y"
         },
         {
          "arrowcolor": "FireBrick",
          "arrowhead": 2,
          "arrowsize": 0.8,
          "arrowwidth": 4,
          "ax": 0,
          "ay": -15,
          "hoverlabel": {
           "bgcolor": "FireBrick"
          },
          "hovertext": "Step 9 [2018-05-15 14:00:00]<br>SELL 0.91104784 BTC @ 8517.77 USD MARKET<br>Total: 7760.1 USD - Comm.: 0.00274137 BTC",
          "opacity": 0.6,
          "showarrow": true,
          "x": 8,
          "xref": "x",
          "y": 8517.77,
          "yref": "y"
         },
         {
          "arrowcolor": "DarkGreen",
          "arrowhead": 2,
          "arrowsize": 0.8,
          "arrowwidth": 4,
          "ax": 0,
          "ay": 15,
          "hoverlabel": {
           "bgcolor": "DarkGreen"
          },
          "hovertext": "Step 3 [2018-05-15 08:00:00]<br>BUY 0.91378921 BTC @ 8728.49 USD MARKET<br>Total: 7976.0 USD - Comm.: 24.00 USD",
          "opacity": 0.6,
          "showarrow": true,
          "x": 2,
          "xref": "x",
          "y": 8728.49,
          "yref": "y"
         },
         {
          "arrowcolor": "DarkGreen",
          "arrowhead": 2,
          "arrowsize": 0.8,
          "arrowwidth": 4,
          "ax": 0,
          "ay": 15,
          "hoverlabel": {
           "bgcolor": "DarkGreen"
          },
          "hovertext": "Step 22 [2018-05-16 03:00:00]<br>BUY 1.13593981 BTC @ 8164.79 USD MARKET<br>Total: 9274.71 USD - Comm.: 27.91 USD",
          "opacity": 0.6,
          "showarrow": true,
          "x": 21,
          "xref": "x",
          "y": 8164.79,
          "yref": "y"
         },
         {
          "arrowcolor": "FireBrick",
          "arrowhead": 2,
          "arrowsize": 0.8,
          "arrowwidth": 4,
          "ax": 0,
          "ay": -15,
          "hoverlabel": {
           "bgcolor": "FireBrick"
          },
          "hovertext": "Step 21 [2018-05-16 02:00:00]<br>SELL 0.23869768 BTC @ 8133.43 USD MARKET<br>Total: 1941.43 USD - Comm.: 0.00071825 BTC",
          "opacity": 0.6,
          "showarrow": true,
          "x": 20,
          "xref": "x",
          "y": 8133.43,
          "yref": "y"
         },
         {
          "arrowcolor": "FireBrick",
          "arrowhead": 2,
          "arrowsize": 0.8,
          "arrowwidth": 4,
          "ax": 0,
          "ay": -15,
          "hoverlabel": {
           "bgcolor": "FireBrick"
          },
          "hovertext": "Step 21 [2018-05-16 02:00:00]<br>SELL 0.79705354 BTC @ 8133.43 USD MARKET<br>Total: 6482.78 USD - Comm.: 0.00239836 BTC",
          "opacity": 0.6,
          "showarrow": true,
          "x": 20,
          "xref": "x",
          "y": 8133.43,
          "yref": "y"
         }
        ],
        "margin": {
         "t": 50
        },
        "template": {
         "data": {
          "bar": [
           {
            "error_x": {
             "color": "#2a3f5f"
            },
            "error_y": {
             "color": "#2a3f5f"
            },
            "marker": {
             "line": {
              "color": "white",
              "width": 0.5
             },
             "pattern": {
              "fillmode": "overlay",
              "size": 10,
              "solidity": 0.2
             }
            },
            "type": "bar"
           }
          ],
          "barpolar": [
           {
            "marker": {
             "line": {
              "color": "white",
              "width": 0.5
             },
             "pattern": {
              "fillmode": "overlay",
              "size": 10,
              "solidity": 0.2
             }
            },
            "type": "barpolar"
           }
          ],
          "carpet": [
           {
            "aaxis": {
             "endlinecolor": "#2a3f5f",
             "gridcolor": "#C8D4E3",
             "linecolor": "#C8D4E3",
             "minorgridcolor": "#C8D4E3",
             "startlinecolor": "#2a3f5f"
            },
            "baxis": {
             "endlinecolor": "#2a3f5f",
             "gridcolor": "#C8D4E3",
             "linecolor": "#C8D4E3",
             "minorgridcolor": "#C8D4E3",
             "startlinecolor": "#2a3f5f"
            },
            "type": "carpet"
           }
          ],
          "choropleth": [
           {
            "colorbar": {
             "outlinewidth": 0,
             "ticks": ""
            },
            "type": "choropleth"
           }
          ],
          "contour": [
           {
            "colorbar": {
             "outlinewidth": 0,
             "ticks": ""
            },
            "colorscale": [
             [
              0,
              "#0d0887"
             ],
             [
              0.1111111111111111,
              "#46039f"
             ],
             [
              0.2222222222222222,
              "#7201a8"
             ],
             [
              0.3333333333333333,
              "#9c179e"
             ],
             [
              0.4444444444444444,
              "#bd3786"
             ],
             [
              0.5555555555555556,
              "#d8576b"
             ],
             [
              0.6666666666666666,
              "#ed7953"
             ],
             [
              0.7777777777777778,
              "#fb9f3a"
             ],
             [
              0.8888888888888888,
              "#fdca26"
             ],
             [
              1,
              "#f0f921"
             ]
            ],
            "type": "contour"
           }
          ],
          "contourcarpet": [
           {
            "colorbar": {
             "outlinewidth": 0,
             "ticks": ""
            },
            "type": "contourcarpet"
           }
          ],
          "heatmap": [
           {
            "colorbar": {
             "outlinewidth": 0,
             "ticks": ""
            },
            "colorscale": [
             [
              0,
              "#0d0887"
             ],
             [
              0.1111111111111111,
              "#46039f"
             ],
             [
              0.2222222222222222,
              "#7201a8"
             ],
             [
              0.3333333333333333,
              "#9c179e"
             ],
             [
              0.4444444444444444,
              "#bd3786"
             ],
             [
              0.5555555555555556,
              "#d8576b"
             ],
             [
              0.6666666666666666,
              "#ed7953"
             ],
             [
              0.7777777777777778,
              "#fb9f3a"
             ],
             [
              0.8888888888888888,
              "#fdca26"
             ],
             [
              1,
              "#f0f921"
             ]
            ],
            "type": "heatmap"
           }
          ],
          "heatmapgl": [
           {
            "colorbar": {
             "outlinewidth": 0,
             "ticks": ""
            },
            "colorscale": [
             [
              0,
              "#0d0887"
             ],
             [
              0.1111111111111111,
              "#46039f"
             ],
             [
              0.2222222222222222,
              "#7201a8"
             ],
             [
              0.3333333333333333,
              "#9c179e"
             ],
             [
              0.4444444444444444,
              "#bd3786"
             ],
             [
              0.5555555555555556,
              "#d8576b"
             ],
             [
              0.6666666666666666,
              "#ed7953"
             ],
             [
              0.7777777777777778,
              "#fb9f3a"
             ],
             [
              0.8888888888888888,
              "#fdca26"
             ],
             [
              1,
              "#f0f921"
             ]
            ],
            "type": "heatmapgl"
           }
          ],
          "histogram": [
           {
            "marker": {
             "pattern": {
              "fillmode": "overlay",
              "size": 10,
              "solidity": 0.2
             }
            },
            "type": "histogram"
           }
          ],
          "histogram2d": [
           {
            "colorbar": {
             "outlinewidth": 0,
             "ticks": ""
            },
            "colorscale": [
             [
              0,
              "#0d0887"
             ],
             [
              0.1111111111111111,
              "#46039f"
             ],
             [
              0.2222222222222222,
              "#7201a8"
             ],
             [
              0.3333333333333333,
              "#9c179e"
             ],
             [
              0.4444444444444444,
              "#bd3786"
             ],
             [
              0.5555555555555556,
              "#d8576b"
             ],
             [
              0.6666666666666666,
              "#ed7953"
             ],
             [
              0.7777777777777778,
              "#fb9f3a"
             ],
             [
              0.8888888888888888,
              "#fdca26"
             ],
             [
              1,
              "#f0f921"
             ]
            ],
            "type": "histogram2d"
           }
          ],
          "histogram2dcontour": [
           {
            "colorbar": {
             "outlinewidth": 0,
             "ticks": ""
            },
            "colorscale": [
             [
              0,
              "#0d0887"
             ],
             [
              0.1111111111111111,
              "#46039f"
             ],
             [
              0.2222222222222222,
              "#7201a8"
             ],
             [
              0.3333333333333333,
              "#9c179e"
             ],
             [
              0.4444444444444444,
              "#bd3786"
             ],
             [
              0.5555555555555556,
              "#d8576b"
             ],
             [
              0.6666666666666666,
              "#ed7953"
             ],
             [
              0.7777777777777778,
              "#fb9f3a"
             ],
             [
              0.8888888888888888,
              "#fdca26"
             ],
             [
              1,
              "#f0f921"
             ]
            ],
            "type": "histogram2dcontour"
           }
          ],
          "mesh3d": [
           {
            "colorbar": {
             "outlinewidth": 0,
             "ticks": ""
            },
            "type": "mesh3d"
           }
          ],
          "parcoords": [
           {
            "line": {
             "colorbar": {
              "outlinewidth": 0,
              "ticks": ""
             }
            },
            "type": "parcoords"
           }
          ],
          "pie": [
           {
            "automargin": true,
            "type": "pie"
           }
          ],
          "scatter": [
           {
            "marker": {
             "colorbar": {
              "outlinewidth": 0,
              "ticks": ""
             }
            },
            "type": "scatter"
           }
          ],
          "scatter3d": [
           {
            "line": {
             "colorbar": {
              "outlinewidth": 0,
              "ticks": ""
             }
            },
            "marker": {
             "colorbar": {
              "outlinewidth": 0,
              "ticks": ""
             }
            },
            "type": "scatter3d"
           }
          ],
          "scattercarpet": [
           {
            "marker": {
             "colorbar": {
              "outlinewidth": 0,
              "ticks": ""
             }
            },
            "type": "scattercarpet"
           }
          ],
          "scattergeo": [
           {
            "marker": {
             "colorbar": {
              "outlinewidth": 0,
              "ticks": ""
             }
            },
            "type": "scattergeo"
           }
          ],
          "scattergl": [
           {
            "marker": {
             "colorbar": {
              "outlinewidth": 0,
              "ticks": ""
             }
            },
            "type": "scattergl"
           }
          ],
          "scattermapbox": [
           {
            "marker": {
             "colorbar": {
              "outlinewidth": 0,
              "ticks": ""
             }
            },
            "type": "scattermapbox"
           }
          ],
          "scatterpolar": [
           {
            "marker": {
             "colorbar": {
              "outlinewidth": 0,
              "ticks": ""
             }
            },
            "type": "scatterpolar"
           }
          ],
          "scatterpolargl": [
           {
            "marker": {
             "colorbar": {
              "outlinewidth": 0,
              "ticks": ""
             }
            },
            "type": "scatterpolargl"
           }
          ],
          "scatterternary": [
           {
            "marker": {
             "colorbar": {
              "outlinewidth": 0,
              "ticks": ""
             }
            },
            "type": "scatterternary"
           }
          ],
          "surface": [
           {
            "colorbar": {
             "outlinewidth": 0,
             "ticks": ""
            },
            "colorscale": [
             [
              0,
              "#0d0887"
             ],
             [
              0.1111111111111111,
              "#46039f"
             ],
             [
              0.2222222222222222,
              "#7201a8"
             ],
             [
              0.3333333333333333,
              "#9c179e"
             ],
             [
              0.4444444444444444,
              "#bd3786"
             ],
             [
              0.5555555555555556,
              "#d8576b"
             ],
             [
              0.6666666666666666,
              "#ed7953"
             ],
             [
              0.7777777777777778,
              "#fb9f3a"
             ],
             [
              0.8888888888888888,
              "#fdca26"
             ],
             [
              1,
              "#f0f921"
             ]
            ],
            "type": "surface"
           }
          ],
          "table": [
           {
            "cells": {
             "fill": {
              "color": "#EBF0F8"
             },
             "line": {
              "color": "white"
             }
            },
            "header": {
             "fill": {
              "color": "#C8D4E3"
             },
             "line": {
              "color": "white"
             }
            },
            "type": "table"
           }
          ]
         },
         "layout": {
          "annotationdefaults": {
           "arrowcolor": "#2a3f5f",
           "arrowhead": 0,
           "arrowwidth": 1
          },
          "autotypenumbers": "strict",
          "coloraxis": {
           "colorbar": {
            "outlinewidth": 0,
            "ticks": ""
           }
          },
          "colorscale": {
           "diverging": [
            [
             0,
             "#8e0152"
            ],
            [
             0.1,
             "#c51b7d"
            ],
            [
             0.2,
             "#de77ae"
            ],
            [
             0.3,
             "#f1b6da"
            ],
            [
             0.4,
             "#fde0ef"
            ],
            [
             0.5,
             "#f7f7f7"
            ],
            [
             0.6,
             "#e6f5d0"
            ],
            [
             0.7,
             "#b8e186"
            ],
            [
             0.8,
             "#7fbc41"
            ],
            [
             0.9,
             "#4d9221"
            ],
            [
             1,
             "#276419"
            ]
           ],
           "sequential": [
            [
             0,
             "#0d0887"
            ],
            [
             0.1111111111111111,
             "#46039f"
            ],
            [
             0.2222222222222222,
             "#7201a8"
            ],
            [
             0.3333333333333333,
             "#9c179e"
            ],
            [
             0.4444444444444444,
             "#bd3786"
            ],
            [
             0.5555555555555556,
             "#d8576b"
            ],
            [
             0.6666666666666666,
             "#ed7953"
            ],
            [
             0.7777777777777778,
             "#fb9f3a"
            ],
            [
             0.8888888888888888,
             "#fdca26"
            ],
            [
             1,
             "#f0f921"
            ]
           ],
           "sequentialminus": [
            [
             0,
             "#0d0887"
            ],
            [
             0.1111111111111111,
             "#46039f"
            ],
            [
             0.2222222222222222,
             "#7201a8"
            ],
            [
             0.3333333333333333,
             "#9c179e"
            ],
            [
             0.4444444444444444,
             "#bd3786"
            ],
            [
             0.5555555555555556,
             "#d8576b"
            ],
            [
             0.6666666666666666,
             "#ed7953"
            ],
            [
             0.7777777777777778,
             "#fb9f3a"
            ],
            [
             0.8888888888888888,
             "#fdca26"
            ],
            [
             1,
             "#f0f921"
            ]
           ]
          },
          "colorway": [
           "#636efa",
           "#EF553B",
           "#00cc96",
           "#ab63fa",
           "#FFA15A",
           "#19d3f3",
           "#FF6692",
           "#B6E880",
           "#FF97FF",
           "#FECB52"
          ],
          "font": {
           "color": "#2a3f5f"
          },
          "geo": {
           "bgcolor": "white",
           "lakecolor": "white",
           "landcolor": "white",
           "showlakes": true,
           "showland": true,
           "subunitcolor": "#C8D4E3"
          },
          "hoverlabel": {
           "align": "left"
          },
          "hovermode": "closest",
          "mapbox": {
           "style": "light"
          },
          "paper_bgcolor": "white",
          "plot_bgcolor": "white",
          "polar": {
           "angularaxis": {
            "gridcolor": "#EBF0F8",
            "linecolor": "#EBF0F8",
            "ticks": ""
           },
           "bgcolor": "white",
           "radialaxis": {
            "gridcolor": "#EBF0F8",
            "linecolor": "#EBF0F8",
            "ticks": ""
           }
          },
          "scene": {
           "xaxis": {
            "backgroundcolor": "white",
            "gridcolor": "#DFE8F3",
            "gridwidth": 2,
            "linecolor": "#EBF0F8",
            "showbackground": true,
            "ticks": "",
            "zerolinecolor": "#EBF0F8"
           },
           "yaxis": {
            "backgroundcolor": "white",
            "gridcolor": "#DFE8F3",
            "gridwidth": 2,
            "linecolor": "#EBF0F8",
            "showbackground": true,
            "ticks": "",
            "zerolinecolor": "#EBF0F8"
           },
           "zaxis": {
            "backgroundcolor": "white",
            "gridcolor": "#DFE8F3",
            "gridwidth": 2,
            "linecolor": "#EBF0F8",
            "showbackground": true,
            "ticks": "",
            "zerolinecolor": "#EBF0F8"
           }
          },
          "shapedefaults": {
           "line": {
            "color": "#2a3f5f"
           }
          },
          "ternary": {
           "aaxis": {
            "gridcolor": "#DFE8F3",
            "linecolor": "#A2B1C6",
            "ticks": ""
           },
           "baxis": {
            "gridcolor": "#DFE8F3",
            "linecolor": "#A2B1C6",
            "ticks": ""
           },
           "bgcolor": "white",
           "caxis": {
            "gridcolor": "#DFE8F3",
            "linecolor": "#A2B1C6",
            "ticks": ""
           }
          },
          "title": {
           "x": 0.05
          },
          "xaxis": {
           "automargin": true,
           "gridcolor": "#EBF0F8",
           "linecolor": "#EBF0F8",
           "ticks": "",
           "title": {
            "standoff": 15
           },
           "zerolinecolor": "#EBF0F8",
           "zerolinewidth": 2
          },
          "yaxis": {
           "automargin": true,
           "gridcolor": "#EBF0F8",
           "linecolor": "#EBF0F8",
           "ticks": "",
           "title": {
            "standoff": 15
           },
           "zerolinecolor": "#EBF0F8",
           "zerolinewidth": 2
          }
         }
        },
        "title": {
         "text": "[2022-04-10 00:18:15] Episode: 2/2 Step: 61/200"
        },
        "xaxis": {
         "anchor": "y",
         "domain": [
          0,
          1
         ],
         "gridcolor": "Gainsboro",
         "linecolor": "Grey",
         "matches": "x4",
         "rangeslider": {
          "visible": false
         },
         "showticklabels": false,
         "title": {
          "font": {
           "size": 12
          },
          "standoff": 7,
          "text": "Price"
         }
        },
        "xaxis2": {
         "anchor": "y2",
         "domain": [
          0,
          1
         ],
         "gridcolor": "Gainsboro",
         "linecolor": "Grey",
         "matches": "x4",
         "showticklabels": false,
         "title": {
          "font": {
           "size": 12
          },
          "standoff": 7,
          "text": "Volume"
         }
        },
        "xaxis3": {
         "anchor": "y3",
         "domain": [
          0,
          1
         ],
         "gridcolor": "Gainsboro",
         "linecolor": "Grey",
         "matches": "x4",
         "showticklabels": false,
         "title": {
          "font": {
           "size": 12
          },
          "standoff": 7,
          "text": "Performance"
         }
        },
        "xaxis4": {
         "anchor": "y4",
         "domain": [
          0,
          1
         ],
         "gridcolor": "Gainsboro",
         "linecolor": "Grey",
         "title": {
          "font": {
           "size": 12
          },
          "standoff": 7,
          "text": "Net Worth"
         }
        },
        "yaxis": {
         "anchor": "x",
         "domain": [
          0.49950000000000006,
          1
         ],
         "gridcolor": "Gainsboro",
         "linecolor": "Grey"
        },
        "yaxis2": {
         "anchor": "x2",
         "domain": [
          0.333,
          0.46950000000000003
         ],
         "gridcolor": "Gainsboro",
         "linecolor": "Grey"
        },
        "yaxis3": {
         "anchor": "x3",
         "domain": [
          0.1665,
          0.30300000000000005
         ],
         "gridcolor": "Gainsboro",
         "linecolor": "Grey"
        },
        "yaxis4": {
         "anchor": "x4",
         "domain": [
          0,
          0.1365
         ],
         "gridcolor": "Gainsboro",
         "linecolor": "Grey"
        }
       }
      }
     },
     "metadata": {},
     "output_type": "display_data"
    },
    {
     "data": {
      "application/vnd.jupyter.widget-view+json": {
       "model_id": "dc4636eeaeb44503acf6a2b1e182667b",
       "version_major": 2,
       "version_minor": 0
      },
      "text/plain": [
       "FigureWidget({\n",
       "    'data': [{'close': array([8740.99, 8739.  , 8728.49, 8708.32, 8795.9 , 8760.  , 8760.  , 87…"
      ]
     },
     "metadata": {},
     "output_type": "display_data"
    },
    {
     "data": {
      "application/vnd.plotly.v1+json": {
       "config": {
        "plotlyServerURL": "https://plot.ly"
       },
       "data": [
        {
         "close": [
          8740.99,
          8739,
          8728.49,
          8708.32,
          8795.9,
          8760,
          8760,
          8759.23,
          8517.77,
          8520.3,
          8535.23,
          8546.34,
          8526.65,
          8555.6,
          8512.1,
          8492.28,
          8460,
          8474.99,
          8455.92,
          8326.28,
          8133.43,
          8164.79,
          8229.38,
          8220.4,
          8238.8,
          8232.99,
          8207.48,
          8243.45,
          8371.13,
          8373,
          8365.08,
          8179.99,
          8225,
          8285.8,
          8273.4,
          8297.4,
          8279.89,
          8252.72,
          8302.18,
          8295.85,
          8277.25,
          8346.59,
          8358.3,
          8375.1,
          8368.62,
          8366.72,
          8314.77,
          8363.7,
          8344.16,
          8247.4,
          8277.4,
          8291.67,
          8307.89,
          8298.9,
          8269.47,
          8300.98,
          8318.49,
          8306.39,
          8276.43,
          8257.69,
          8166,
          8176.33,
          8200.7,
          8155.41,
          8080,
          8067.03,
          7958.08,
          7974.25,
          7998.5,
          7991.99,
          8022.7,
          8042.97,
          7965.67,
          8088.95,
          8122.19,
          8107.99,
          8137.73,
          8115,
          8107,
          8094.4,
          8080.01
         ],
         "high": [
          8796.68,
          8766,
          8750.27,
          8754.4,
          8865,
          8821.19,
          8798.6,
          8771.02,
          8761.7,
          8553.67,
          8589.1,
          8579.48,
          8555.51,
          8583.6,
          8569.92,
          8555.54,
          8557.51,
          8505,
          8505.33,
          8478.29,
          8339.81,
          8217.44,
          8252.72,
          8248.63,
          8267.12,
          8255,
          8261.24,
          8263.93,
          8455.66,
          8439.44,
          8399.1,
          8381.73,
          8229.91,
          8377.29,
          8329.1,
          8350,
          8346.95,
          8377.29,
          8311.35,
          8319.96,
          8398.24,
          8372.58,
          8399.99,
          8386.53,
          8400,
          8500,
          8381,
          8371.3,
          8382.41,
          8351,
          8292.99,
          8325.8,
          8318.99,
          8324.9,
          8335.56,
          8309.4,
          8377.29,
          8330.41,
          8328.23,
          8284.36,
          8274.83,
          8200,
          8232.14,
          8213.97,
          8155.41,
          8108.28,
          8068.92,
          8019.9,
          8026.66,
          8025,
          8104.69,
          8061.39,
          8045.99,
          8170.71,
          8144.16,
          8139.99,
          8152.99,
          8137.73,
          8143.72,
          8129.99,
          8106.76
         ],
         "low": [
          8707.28,
          8721.11,
          8660.53,
          8701.35,
          8695.11,
          8740.54,
          8741.52,
          8700,
          8467.42,
          8477.89,
          8500.78,
          8500,
          8400,
          8451.05,
          8461.38,
          8481.24,
          8420.37,
          8450,
          8430.94,
          8275.02,
          8100.01,
          8122.56,
          8157.01,
          8166.25,
          8176.91,
          8213.79,
          8200,
          8207.48,
          8237.1,
          8370,
          8356.4,
          8145.1,
          8173.6,
          8211.8,
          8201,
          8250.9,
          8266.46,
          8252.72,
          8232.14,
          8268.37,
          8277.25,
          8277.25,
          8314.78,
          8314.77,
          8350.07,
          8331.39,
          8314.77,
          8275.45,
          8335.49,
          8191.14,
          8227.7,
          8264.13,
          8249.93,
          8269.52,
          8219.44,
          8262.68,
          8286.65,
          8289.87,
          8232.14,
          8232.14,
          8110.02,
          8154.95,
          8168.6,
          8151,
          7980,
          8005.95,
          7929.53,
          7931.03,
          7950,
          7980.58,
          7991.99,
          7992.75,
          7953.4,
          7965.67,
          8085.94,
          8078.48,
          8092.9,
          8049.22,
          8079.46,
          8062.12,
          8043.96
         ],
         "name": "Price",
         "open": [
          8733.86,
          8740.99,
          8739,
          8728.49,
          8708.32,
          8795.9,
          8760,
          8760,
          8759.23,
          8517.77,
          8520.3,
          8535.23,
          8546.34,
          8526.65,
          8555.6,
          8512.1,
          8492.28,
          8460,
          8474.99,
          8455.92,
          8326.28,
          8133.43,
          8164.79,
          8229.38,
          8220.4,
          8238.8,
          8232.99,
          8207.48,
          8243.45,
          8371.13,
          8373,
          8365.08,
          8179.99,
          8225,
          8285.8,
          8273.4,
          8297.4,
          8279.89,
          8252.72,
          8302.18,
          8295.85,
          8277.25,
          8346.59,
          8358.3,
          8375.1,
          8368.62,
          8366.72,
          8314.77,
          8363.7,
          8344.16,
          8247.4,
          8277.4,
          8291.67,
          8307.89,
          8298.9,
          8269.47,
          8300.98,
          8318.49,
          8306.39,
          8276.43,
          8257.69,
          8166,
          8176.33,
          8200.7,
          8155.41,
          8080,
          8067.03,
          7958.08,
          7974.25,
          7998.5,
          7991.99,
          8022.7,
          8042.97,
          7965.67,
          8088.95,
          8122.19,
          8107.99,
          8137.73,
          8115,
          8107,
          8094.4
         ],
         "showlegend": false,
         "type": "candlestick",
         "uid": "8c6d8a56-07c4-4131-a4c8-63193c8a8ccd",
         "xaxis": "x",
         "yaxis": "y"
        },
        {
         "marker": {
          "color": "DodgerBlue"
         },
         "name": "Volume",
         "showlegend": false,
         "type": "bar",
         "uid": "145b46e2-d412-4928-981a-553342a3477e",
         "xaxis": "x2",
         "y": [
          559.93,
          273.58,
          917.79,
          182.62,
          1260.69,
          324.11,
          324.2,
          730.67,
          1341.75,
          792.07,
          385.69,
          475.08,
          877.26,
          670.49,
          610.97,
          168.99,
          305.92,
          136.05,
          154.26,
          1070.93,
          1710.2,
          492.8,
          630.72,
          620.93,
          586.34,
          304.52,
          450.97,
          182.36,
          915.32,
          319.29,
          362.01,
          1046.38,
          357.91,
          561.2,
          322.53,
          1073.71,
          237.21,
          251.2,
          359.73,
          117.23,
          363.17,
          214.18,
          171.64,
          258.58,
          299.52,
          718.98,
          119.7,
          405.25,
          210.77,
          714.82,
          215.97,
          164.2,
          201.55,
          203.41,
          886.82,
          95.49,
          499.67,
          172.77,
          355.39,
          255.27,
          591.06,
          133.1,
          149.13,
          87.55,
          1061.54,
          286.94,
          524.42,
          316,
          441.43,
          189.7,
          844.94,
          155.34,
          257.56,
          610.69,
          217.97,
          173.18,
          218.06,
          372.97,
          484.39,
          248.1,
          162.35
         ],
         "yaxis": "y2"
        },
        {
         "mode": "lines",
         "name": "bitstamp:/USD-BTC",
         "type": "scatter",
         "uid": "8c525a7c-7cb9-4397-bed8-bf45f03e8a5f",
         "xaxis": "x3",
         "y": [
          8740.99,
          8739,
          8728.49,
          8708.32,
          8795.9,
          8760,
          8760,
          8759.23,
          8517.77,
          8520.3,
          8535.23,
          8546.34,
          8526.65,
          8555.6,
          8512.1,
          8492.28,
          8460,
          8474.99,
          8455.92,
          8326.28,
          8133.43,
          8164.79,
          8229.38,
          8220.4,
          8238.8,
          8232.99,
          8207.48,
          8243.45,
          8371.13,
          8373,
          8365.08,
          8179.99,
          8225,
          8285.8,
          8273.4,
          8297.4,
          8279.89,
          8252.72,
          8302.18,
          8295.85,
          8277.25,
          8346.59,
          8358.3,
          8375.1,
          8368.62,
          8366.72,
          8314.77,
          8363.7,
          8344.16,
          8247.4,
          8277.4,
          8291.67,
          8307.89,
          8298.9,
          8269.47,
          8300.98,
          8318.49,
          8306.39,
          8276.43,
          8257.69,
          8166,
          8176.33,
          8200.7,
          8155.41,
          8080,
          8067.03,
          7958.08,
          7974.25,
          7998.5,
          7991.99,
          8022.7,
          8042.97,
          7965.67,
          8088.95,
          8122.19,
          8107.99,
          8137.73,
          8115,
          8107,
          8094.4,
          8080.01
         ],
         "yaxis": "y3"
        },
        {
         "mode": "lines",
         "name": "bitstamp:/USD:/free",
         "type": "scatter",
         "uid": "401294ed-928f-428f-a642-2b39c2a3ff21",
         "xaxis": "x3",
         "y": [
          10000,
          10000,
          10000,
          2000,
          2000,
          2000,
          2000,
          2000,
          2000,
          9760.1,
          2928.03,
          878.41,
          878.41,
          878.41,
          878.41,
          878.41,
          878.41,
          878.41,
          878.41,
          878.41,
          878.41,
          9302.62,
          0,
          0,
          0,
          0,
          0,
          0,
          0,
          0,
          0,
          0,
          0,
          0,
          0,
          0,
          0,
          0,
          0,
          0,
          0,
          0,
          0,
          0,
          0,
          0,
          0,
          0,
          0,
          0,
          0,
          0,
          0,
          0,
          0,
          0,
          0,
          0,
          0,
          0,
          0,
          0,
          0,
          0,
          0,
          0,
          0,
          0,
          0,
          0,
          0,
          0,
          0,
          0,
          0,
          0,
          0,
          0,
          0,
          0,
          0
         ],
         "yaxis": "y3"
        },
        {
         "mode": "lines",
         "name": "bitstamp:/USD:/locked",
         "type": "scatter",
         "uid": "2aef03b6-c4ff-49c5-a389-faa69b1e2dd5",
         "xaxis": "x3",
         "y": [
          0,
          0,
          0,
          0,
          0,
          0,
          0,
          0,
          0,
          0,
          0,
          0,
          0,
          0,
          0,
          0,
          0,
          0,
          0,
          0,
          0,
          0,
          0,
          0,
          0,
          0,
          0,
          0,
          0,
          0,
          0,
          0,
          0,
          0,
          0,
          0,
          0,
          0,
          0,
          0,
          0,
          0,
          0,
          0,
          0,
          0,
          0,
          0,
          0,
          0,
          0,
          0,
          0,
          0,
          0,
          0,
          0,
          0,
          0,
          0,
          0,
          0,
          0,
          0,
          0,
          0,
          0,
          0,
          0,
          0,
          0,
          0,
          0,
          0,
          0,
          0,
          0,
          0,
          0,
          0,
          0
         ],
         "yaxis": "y3"
        },
        {
         "mode": "lines",
         "name": "bitstamp:/USD:/total",
         "type": "scatter",
         "uid": "1cfdc07a-0fb3-45f5-8ac0-46485deef13b",
         "xaxis": "x3",
         "y": [
          10000,
          10000,
          10000,
          2000,
          2000,
          2000,
          2000,
          2000,
          2000,
          9760.1,
          2928.03,
          878.41,
          878.41,
          878.41,
          878.41,
          878.41,
          878.41,
          878.41,
          878.41,
          878.41,
          878.41,
          9302.62,
          0,
          0,
          0,
          0,
          0,
          0,
          0,
          0,
          0,
          0,
          0,
          0,
          0,
          0,
          0,
          0,
          0,
          0,
          0,
          0,
          0,
          0,
          0,
          0,
          0,
          0,
          0,
          0,
          0,
          0,
          0,
          0,
          0,
          0,
          0,
          0,
          0,
          0,
          0,
          0,
          0,
          0,
          0,
          0,
          0,
          0,
          0,
          0,
          0,
          0,
          0,
          0,
          0,
          0,
          0,
          0,
          0,
          0,
          0
         ],
         "yaxis": "y3"
        },
        {
         "mode": "lines",
         "name": "bitstamp:/BTC:/free",
         "type": "scatter",
         "uid": "6f75c785-6a85-4a93-88f3-23bc8f1b0896",
         "xaxis": "x3",
         "y": [
          10,
          10,
          10,
          10,
          10,
          10,
          10,
          10,
          10,
          10,
          10,
          10,
          10,
          10,
          10,
          10,
          10,
          10,
          10,
          10,
          10,
          10,
          10,
          10,
          10,
          10,
          10,
          10,
          10,
          10,
          10,
          10,
          10,
          10,
          10,
          10,
          10,
          10,
          10,
          10,
          10,
          10,
          10,
          10,
          10,
          10,
          10,
          10,
          10,
          10,
          10,
          10,
          10,
          10,
          10,
          10,
          10,
          10,
          10,
          10,
          10,
          10,
          10,
          10,
          10,
          10,
          10,
          10,
          10,
          10,
          10,
          10,
          10,
          10,
          10,
          10,
          10,
          10,
          10,
          10,
          10
         ],
         "yaxis": "y3"
        },
        {
         "mode": "lines",
         "name": "bitstamp:/BTC:/locked",
         "type": "scatter",
         "uid": "ba02f11e-201e-468a-9ae6-fb1561982cfe",
         "xaxis": "x3",
         "y": [
          0,
          0,
          0,
          0.91378921,
          0.91378921,
          0.91378921,
          0.91378921,
          0.91378921,
          0.91378921,
          0,
          0.7994519,
          1.03886783,
          1.03886783,
          1.03886783,
          1.03886783,
          1.03886783,
          1.03886783,
          1.03886783,
          1.03886783,
          1.03886783,
          1.03886783,
          0,
          1.13593981,
          1.13593981,
          1.13593981,
          1.13593981,
          1.13593981,
          1.13593981,
          1.13593981,
          1.13593981,
          1.13593981,
          1.13593981,
          1.13593981,
          1.13593981,
          1.13593981,
          1.13593981,
          1.13593981,
          1.13593981,
          1.13593981,
          1.13593981,
          1.13593981,
          1.13593981,
          1.13593981,
          1.13593981,
          1.13593981,
          1.13593981,
          1.13593981,
          1.13593981,
          1.13593981,
          1.13593981,
          1.13593981,
          1.13593981,
          1.13593981,
          1.13593981,
          1.13593981,
          1.13593981,
          1.13593981,
          1.13593981,
          1.13593981,
          1.13593981,
          1.13593981,
          1.13593981,
          1.13593981,
          1.13593981,
          1.13593981,
          1.13593981,
          1.13593981,
          1.13593981,
          1.13593981,
          1.13593981,
          1.13593981,
          1.13593981,
          1.13593981,
          1.13593981,
          1.13593981,
          1.13593981,
          1.13593981,
          1.13593981,
          1.13593981,
          1.13593981,
          1.13593981
         ],
         "yaxis": "y3"
        },
        {
         "mode": "lines",
         "name": "bitstamp:/BTC:/total",
         "type": "scatter",
         "uid": "db06df65-6739-42e7-9218-1600ec083b58",
         "xaxis": "x3",
         "y": [
          10,
          10,
          10,
          10.91378921,
          10.91378921,
          10.91378921,
          10.91378921,
          10.91378921,
          10.91378921,
          10,
          10.7994519,
          11.03886783,
          11.03886783,
          11.03886783,
          11.03886783,
          11.03886783,
          11.03886783,
          11.03886783,
          11.03886783,
          11.03886783,
          11.03886783,
          10,
          11.13593981,
          11.13593981,
          11.13593981,
          11.13593981,
          11.13593981,
          11.13593981,
          11.13593981,
          11.13593981,
          11.13593981,
          11.13593981,
          11.13593981,
          11.13593981,
          11.13593981,
          11.13593981,
          11.13593981,
          11.13593981,
          11.13593981,
          11.13593981,
          11.13593981,
          11.13593981,
          11.13593981,
          11.13593981,
          11.13593981,
          11.13593981,
          11.13593981,
          11.13593981,
          11.13593981,
          11.13593981,
          11.13593981,
          11.13593981,
          11.13593981,
          11.13593981,
          11.13593981,
          11.13593981,
          11.13593981,
          11.13593981,
          11.13593981,
          11.13593981,
          11.13593981,
          11.13593981,
          11.13593981,
          11.13593981,
          11.13593981,
          11.13593981,
          11.13593981,
          11.13593981,
          11.13593981,
          11.13593981,
          11.13593981,
          11.13593981,
          11.13593981,
          11.13593981,
          11.13593981,
          11.13593981,
          11.13593981,
          11.13593981,
          11.13593981,
          11.13593981,
          11.13593981
         ],
         "yaxis": "y3"
        },
        {
         "mode": "lines",
         "name": "bitstamp:/BTC:/worth",
         "type": "scatter",
         "uid": "00269ee4-5684-47d5-acbb-521c67b732c8",
         "xaxis": "x3",
         "y": [
          87409.9,
          87390,
          87284.9,
          95040.76885322719,
          95996.59851223898,
          95604.79347959999,
          95604.79347959999,
          95596.38986190829,
          92961.1463192617,
          85203,
          92175.805840437,
          94341.91769024219,
          94124.5623826695,
          94444.137606348,
          93963.946855743,
          93745.1564953524,
          93388.82184179999,
          93554.2944705717,
          93343.7832610536,
          91912.7044355724,
          89783.8587745569,
          81647.9,
          91641.88035361779,
          91541.879614124,
          91746.78090662799,
          91682.0810963319,
          91398.0032717788,
          91798.56302674451,
          93220.39982168529,
          93241.22402913,
          93153.0273858348,
          91091.8762864019,
          91593.10493725,
          92270.17007769799,
          92132.084424054,
          92399.346979494,
          92204.35667342089,
          91901.7931887832,
          92452.5767717858,
          92382.08627278851,
          92174.9577923225,
          92947.1238587479,
          93077.525713923,
          93264.60950273101,
          93192.44861276221,
          93171.29032712319,
          92592.7782539937,
          93137.65978889701,
          92920.0635250096,
          91842.549988994,
          92176.628183294,
          92335.5380443827,
          92516.1629881009,
          92416.050889209,
          92088.3201806007,
          92439.2136440138,
          92634.2039500869,
          92499.45907838589,
          92165.82632167831,
          91957.13880963891,
          90936.08448846,
          91051.1187466973,
          91322.50159986701,
          90818.15488587209,
          89978.3936648,
          89833.9605254643,
          88620.6998831648,
          88800.7680298925,
          89070.814570285,
          88998.3196021219,
          89340.304313687,
          89566.0298136357,
          88705.2216663227,
          90078.0603260995,
          90448.2189653839,
          90290.0886200819,
          90621.2714700313,
          90368.15155815,
          90279.06403967,
          90138.751198064,
          89978.50502419811
         ],
         "yaxis": "y3"
        },
        {
         "mode": "lines",
         "name": "net_worth",
         "type": "scatter",
         "uid": "c6aa695d-58af-49d4-a325-d546bfdc6beb",
         "xaxis": "x3",
         "y": [
          97409.9,
          97390,
          97284.9,
          97040.76885322719,
          97996.59851223898,
          97604.79347959999,
          97604.79347959999,
          97596.38986190829,
          94961.1463192617,
          94963.1,
          95103.835840437,
          95220.3276902422,
          95002.9723826695,
          95322.547606348,
          94842.356855743,
          94623.56649535241,
          94267.23184179999,
          94432.7044705717,
          94222.1932610536,
          92791.11443557241,
          90662.2687745569,
          90950.51999999999,
          91641.88035361779,
          91541.879614124,
          91746.78090662799,
          91682.0810963319,
          91398.0032717788,
          91798.56302674451,
          93220.39982168529,
          93241.22402913,
          93153.0273858348,
          91091.8762864019,
          91593.10493725,
          92270.17007769799,
          92132.084424054,
          92399.346979494,
          92204.35667342089,
          91901.7931887832,
          92452.5767717858,
          92382.08627278851,
          92174.9577923225,
          92947.1238587479,
          93077.525713923,
          93264.60950273101,
          93192.44861276221,
          93171.29032712319,
          92592.7782539937,
          93137.65978889701,
          92920.0635250096,
          91842.549988994,
          92176.628183294,
          92335.5380443827,
          92516.1629881009,
          92416.050889209,
          92088.3201806007,
          92439.2136440138,
          92634.2039500869,
          92499.45907838589,
          92165.82632167831,
          91957.13880963891,
          90936.08448846,
          91051.1187466973,
          91322.50159986701,
          90818.15488587209,
          89978.3936648,
          89833.9605254643,
          88620.6998831648,
          88800.7680298925,
          89070.814570285,
          88998.3196021219,
          89340.304313687,
          89566.0298136357,
          88705.2216663227,
          90078.0603260995,
          90448.2189653839,
          90290.0886200819,
          90621.2714700313,
          90368.15155815,
          90279.06403967,
          90138.751198064,
          89978.50502419811
         ],
         "yaxis": "y3"
        },
        {
         "marker": {
          "color": "DarkGreen"
         },
         "mode": "lines",
         "name": "Net Worth",
         "type": "scatter",
         "uid": "425ac698-5938-4ce2-abd8-e4fb972b4a58",
         "xaxis": "x4",
         "y": [
          97409.9,
          97390,
          97284.9,
          97040.76885322719,
          97996.59851223898,
          97604.79347959999,
          97604.79347959999,
          97596.38986190829,
          94961.1463192617,
          94963.1,
          95103.835840437,
          95220.3276902422,
          95002.9723826695,
          95322.547606348,
          94842.356855743,
          94623.56649535241,
          94267.23184179999,
          94432.7044705717,
          94222.1932610536,
          92791.11443557241,
          90662.2687745569,
          90950.51999999999,
          91641.88035361779,
          91541.879614124,
          91746.78090662799,
          91682.0810963319,
          91398.0032717788,
          91798.56302674451,
          93220.39982168529,
          93241.22402913,
          93153.0273858348,
          91091.8762864019,
          91593.10493725,
          92270.17007769799,
          92132.084424054,
          92399.346979494,
          92204.35667342089,
          91901.7931887832,
          92452.5767717858,
          92382.08627278851,
          92174.9577923225,
          92947.1238587479,
          93077.525713923,
          93264.60950273101,
          93192.44861276221,
          93171.29032712319,
          92592.7782539937,
          93137.65978889701,
          92920.0635250096,
          91842.549988994,
          92176.628183294,
          92335.5380443827,
          92516.1629881009,
          92416.050889209,
          92088.3201806007,
          92439.2136440138,
          92634.2039500869,
          92499.45907838589,
          92165.82632167831,
          91957.13880963891,
          90936.08448846,
          91051.1187466973,
          91322.50159986701,
          90818.15488587209,
          89978.3936648,
          89833.9605254643,
          88620.6998831648,
          88800.7680298925,
          89070.814570285,
          88998.3196021219,
          89340.304313687,
          89566.0298136357,
          88705.2216663227,
          90078.0603260995,
          90448.2189653839,
          90290.0886200819,
          90621.2714700313,
          90368.15155815,
          90279.06403967,
          90138.751198064,
          89978.50502419811
         ],
         "yaxis": "y4"
        }
       ],
       "layout": {
        "annotations": [
         {
          "arrowcolor": "DarkGreen",
          "arrowhead": 2,
          "arrowsize": 0.8,
          "arrowwidth": 4,
          "ax": 0,
          "ay": 15,
          "hoverlabel": {
           "bgcolor": "DarkGreen"
          },
          "hovertext": "Step 11 [2018-05-15 16:00:00]<br>BUY 0.23941593 BTC @ 8535.23 USD MARKET<br>Total: 2043.47 USD - Comm.: 6.15 USD",
          "opacity": 0.6,
          "showarrow": true,
          "x": 10,
          "xref": "x",
          "y": 8535.23,
          "yref": "y"
         },
         {
          "arrowcolor": "DarkGreen",
          "arrowhead": 2,
          "arrowsize": 0.8,
          "arrowwidth": 4,
          "ax": 0,
          "ay": 15,
          "hoverlabel": {
           "bgcolor": "DarkGreen"
          },
          "hovertext": "Step 10 [2018-05-15 15:00:00]<br>BUY 0.7994519 BTC @ 8520.3 USD MARKET<br>Total: 6811.57 USD - Comm.: 20.50 USD",
          "opacity": 0.6,
          "showarrow": true,
          "x": 9,
          "xref": "x",
          "y": 8520.3,
          "yref": "y"
         },
         {
          "arrowcolor": "FireBrick",
          "arrowhead": 2,
          "arrowsize": 0.8,
          "arrowwidth": 4,
          "ax": 0,
          "ay": -15,
          "hoverlabel": {
           "bgcolor": "FireBrick"
          },
          "hovertext": "Step 9 [2018-05-15 14:00:00]<br>SELL 0.91104784 BTC @ 8517.77 USD MARKET<br>Total: 7760.1 USD - Comm.: 0.00274137 BTC",
          "opacity": 0.6,
          "showarrow": true,
          "x": 8,
          "xref": "x",
          "y": 8517.77,
          "yref": "y"
         },
         {
          "arrowcolor": "DarkGreen",
          "arrowhead": 2,
          "arrowsize": 0.8,
          "arrowwidth": 4,
          "ax": 0,
          "ay": 15,
          "hoverlabel": {
           "bgcolor": "DarkGreen"
          },
          "hovertext": "Step 3 [2018-05-15 08:00:00]<br>BUY 0.91378921 BTC @ 8728.49 USD MARKET<br>Total: 7976.0 USD - Comm.: 24.00 USD",
          "opacity": 0.6,
          "showarrow": true,
          "x": 2,
          "xref": "x",
          "y": 8728.49,
          "yref": "y"
         },
         {
          "arrowcolor": "DarkGreen",
          "arrowhead": 2,
          "arrowsize": 0.8,
          "arrowwidth": 4,
          "ax": 0,
          "ay": 15,
          "hoverlabel": {
           "bgcolor": "DarkGreen"
          },
          "hovertext": "Step 22 [2018-05-16 03:00:00]<br>BUY 1.13593981 BTC @ 8164.79 USD MARKET<br>Total: 9274.71 USD - Comm.: 27.91 USD",
          "opacity": 0.6,
          "showarrow": true,
          "x": 21,
          "xref": "x",
          "y": 8164.79,
          "yref": "y"
         },
         {
          "arrowcolor": "FireBrick",
          "arrowhead": 2,
          "arrowsize": 0.8,
          "arrowwidth": 4,
          "ax": 0,
          "ay": -15,
          "hoverlabel": {
           "bgcolor": "FireBrick"
          },
          "hovertext": "Step 21 [2018-05-16 02:00:00]<br>SELL 0.23869768 BTC @ 8133.43 USD MARKET<br>Total: 1941.43 USD - Comm.: 0.00071825 BTC",
          "opacity": 0.6,
          "showarrow": true,
          "x": 20,
          "xref": "x",
          "y": 8133.43,
          "yref": "y"
         },
         {
          "arrowcolor": "FireBrick",
          "arrowhead": 2,
          "arrowsize": 0.8,
          "arrowwidth": 4,
          "ax": 0,
          "ay": -15,
          "hoverlabel": {
           "bgcolor": "FireBrick"
          },
          "hovertext": "Step 21 [2018-05-16 02:00:00]<br>SELL 0.79705354 BTC @ 8133.43 USD MARKET<br>Total: 6482.78 USD - Comm.: 0.00239836 BTC",
          "opacity": 0.6,
          "showarrow": true,
          "x": 20,
          "xref": "x",
          "y": 8133.43,
          "yref": "y"
         }
        ],
        "margin": {
         "t": 50
        },
        "template": {
         "data": {
          "bar": [
           {
            "error_x": {
             "color": "#2a3f5f"
            },
            "error_y": {
             "color": "#2a3f5f"
            },
            "marker": {
             "line": {
              "color": "white",
              "width": 0.5
             },
             "pattern": {
              "fillmode": "overlay",
              "size": 10,
              "solidity": 0.2
             }
            },
            "type": "bar"
           }
          ],
          "barpolar": [
           {
            "marker": {
             "line": {
              "color": "white",
              "width": 0.5
             },
             "pattern": {
              "fillmode": "overlay",
              "size": 10,
              "solidity": 0.2
             }
            },
            "type": "barpolar"
           }
          ],
          "carpet": [
           {
            "aaxis": {
             "endlinecolor": "#2a3f5f",
             "gridcolor": "#C8D4E3",
             "linecolor": "#C8D4E3",
             "minorgridcolor": "#C8D4E3",
             "startlinecolor": "#2a3f5f"
            },
            "baxis": {
             "endlinecolor": "#2a3f5f",
             "gridcolor": "#C8D4E3",
             "linecolor": "#C8D4E3",
             "minorgridcolor": "#C8D4E3",
             "startlinecolor": "#2a3f5f"
            },
            "type": "carpet"
           }
          ],
          "choropleth": [
           {
            "colorbar": {
             "outlinewidth": 0,
             "ticks": ""
            },
            "type": "choropleth"
           }
          ],
          "contour": [
           {
            "colorbar": {
             "outlinewidth": 0,
             "ticks": ""
            },
            "colorscale": [
             [
              0,
              "#0d0887"
             ],
             [
              0.1111111111111111,
              "#46039f"
             ],
             [
              0.2222222222222222,
              "#7201a8"
             ],
             [
              0.3333333333333333,
              "#9c179e"
             ],
             [
              0.4444444444444444,
              "#bd3786"
             ],
             [
              0.5555555555555556,
              "#d8576b"
             ],
             [
              0.6666666666666666,
              "#ed7953"
             ],
             [
              0.7777777777777778,
              "#fb9f3a"
             ],
             [
              0.8888888888888888,
              "#fdca26"
             ],
             [
              1,
              "#f0f921"
             ]
            ],
            "type": "contour"
           }
          ],
          "contourcarpet": [
           {
            "colorbar": {
             "outlinewidth": 0,
             "ticks": ""
            },
            "type": "contourcarpet"
           }
          ],
          "heatmap": [
           {
            "colorbar": {
             "outlinewidth": 0,
             "ticks": ""
            },
            "colorscale": [
             [
              0,
              "#0d0887"
             ],
             [
              0.1111111111111111,
              "#46039f"
             ],
             [
              0.2222222222222222,
              "#7201a8"
             ],
             [
              0.3333333333333333,
              "#9c179e"
             ],
             [
              0.4444444444444444,
              "#bd3786"
             ],
             [
              0.5555555555555556,
              "#d8576b"
             ],
             [
              0.6666666666666666,
              "#ed7953"
             ],
             [
              0.7777777777777778,
              "#fb9f3a"
             ],
             [
              0.8888888888888888,
              "#fdca26"
             ],
             [
              1,
              "#f0f921"
             ]
            ],
            "type": "heatmap"
           }
          ],
          "heatmapgl": [
           {
            "colorbar": {
             "outlinewidth": 0,
             "ticks": ""
            },
            "colorscale": [
             [
              0,
              "#0d0887"
             ],
             [
              0.1111111111111111,
              "#46039f"
             ],
             [
              0.2222222222222222,
              "#7201a8"
             ],
             [
              0.3333333333333333,
              "#9c179e"
             ],
             [
              0.4444444444444444,
              "#bd3786"
             ],
             [
              0.5555555555555556,
              "#d8576b"
             ],
             [
              0.6666666666666666,
              "#ed7953"
             ],
             [
              0.7777777777777778,
              "#fb9f3a"
             ],
             [
              0.8888888888888888,
              "#fdca26"
             ],
             [
              1,
              "#f0f921"
             ]
            ],
            "type": "heatmapgl"
           }
          ],
          "histogram": [
           {
            "marker": {
             "pattern": {
              "fillmode": "overlay",
              "size": 10,
              "solidity": 0.2
             }
            },
            "type": "histogram"
           }
          ],
          "histogram2d": [
           {
            "colorbar": {
             "outlinewidth": 0,
             "ticks": ""
            },
            "colorscale": [
             [
              0,
              "#0d0887"
             ],
             [
              0.1111111111111111,
              "#46039f"
             ],
             [
              0.2222222222222222,
              "#7201a8"
             ],
             [
              0.3333333333333333,
              "#9c179e"
             ],
             [
              0.4444444444444444,
              "#bd3786"
             ],
             [
              0.5555555555555556,
              "#d8576b"
             ],
             [
              0.6666666666666666,
              "#ed7953"
             ],
             [
              0.7777777777777778,
              "#fb9f3a"
             ],
             [
              0.8888888888888888,
              "#fdca26"
             ],
             [
              1,
              "#f0f921"
             ]
            ],
            "type": "histogram2d"
           }
          ],
          "histogram2dcontour": [
           {
            "colorbar": {
             "outlinewidth": 0,
             "ticks": ""
            },
            "colorscale": [
             [
              0,
              "#0d0887"
             ],
             [
              0.1111111111111111,
              "#46039f"
             ],
             [
              0.2222222222222222,
              "#7201a8"
             ],
             [
              0.3333333333333333,
              "#9c179e"
             ],
             [
              0.4444444444444444,
              "#bd3786"
             ],
             [
              0.5555555555555556,
              "#d8576b"
             ],
             [
              0.6666666666666666,
              "#ed7953"
             ],
             [
              0.7777777777777778,
              "#fb9f3a"
             ],
             [
              0.8888888888888888,
              "#fdca26"
             ],
             [
              1,
              "#f0f921"
             ]
            ],
            "type": "histogram2dcontour"
           }
          ],
          "mesh3d": [
           {
            "colorbar": {
             "outlinewidth": 0,
             "ticks": ""
            },
            "type": "mesh3d"
           }
          ],
          "parcoords": [
           {
            "line": {
             "colorbar": {
              "outlinewidth": 0,
              "ticks": ""
             }
            },
            "type": "parcoords"
           }
          ],
          "pie": [
           {
            "automargin": true,
            "type": "pie"
           }
          ],
          "scatter": [
           {
            "marker": {
             "colorbar": {
              "outlinewidth": 0,
              "ticks": ""
             }
            },
            "type": "scatter"
           }
          ],
          "scatter3d": [
           {
            "line": {
             "colorbar": {
              "outlinewidth": 0,
              "ticks": ""
             }
            },
            "marker": {
             "colorbar": {
              "outlinewidth": 0,
              "ticks": ""
             }
            },
            "type": "scatter3d"
           }
          ],
          "scattercarpet": [
           {
            "marker": {
             "colorbar": {
              "outlinewidth": 0,
              "ticks": ""
             }
            },
            "type": "scattercarpet"
           }
          ],
          "scattergeo": [
           {
            "marker": {
             "colorbar": {
              "outlinewidth": 0,
              "ticks": ""
             }
            },
            "type": "scattergeo"
           }
          ],
          "scattergl": [
           {
            "marker": {
             "colorbar": {
              "outlinewidth": 0,
              "ticks": ""
             }
            },
            "type": "scattergl"
           }
          ],
          "scattermapbox": [
           {
            "marker": {
             "colorbar": {
              "outlinewidth": 0,
              "ticks": ""
             }
            },
            "type": "scattermapbox"
           }
          ],
          "scatterpolar": [
           {
            "marker": {
             "colorbar": {
              "outlinewidth": 0,
              "ticks": ""
             }
            },
            "type": "scatterpolar"
           }
          ],
          "scatterpolargl": [
           {
            "marker": {
             "colorbar": {
              "outlinewidth": 0,
              "ticks": ""
             }
            },
            "type": "scatterpolargl"
           }
          ],
          "scatterternary": [
           {
            "marker": {
             "colorbar": {
              "outlinewidth": 0,
              "ticks": ""
             }
            },
            "type": "scatterternary"
           }
          ],
          "surface": [
           {
            "colorbar": {
             "outlinewidth": 0,
             "ticks": ""
            },
            "colorscale": [
             [
              0,
              "#0d0887"
             ],
             [
              0.1111111111111111,
              "#46039f"
             ],
             [
              0.2222222222222222,
              "#7201a8"
             ],
             [
              0.3333333333333333,
              "#9c179e"
             ],
             [
              0.4444444444444444,
              "#bd3786"
             ],
             [
              0.5555555555555556,
              "#d8576b"
             ],
             [
              0.6666666666666666,
              "#ed7953"
             ],
             [
              0.7777777777777778,
              "#fb9f3a"
             ],
             [
              0.8888888888888888,
              "#fdca26"
             ],
             [
              1,
              "#f0f921"
             ]
            ],
            "type": "surface"
           }
          ],
          "table": [
           {
            "cells": {
             "fill": {
              "color": "#EBF0F8"
             },
             "line": {
              "color": "white"
             }
            },
            "header": {
             "fill": {
              "color": "#C8D4E3"
             },
             "line": {
              "color": "white"
             }
            },
            "type": "table"
           }
          ]
         },
         "layout": {
          "annotationdefaults": {
           "arrowcolor": "#2a3f5f",
           "arrowhead": 0,
           "arrowwidth": 1
          },
          "autotypenumbers": "strict",
          "coloraxis": {
           "colorbar": {
            "outlinewidth": 0,
            "ticks": ""
           }
          },
          "colorscale": {
           "diverging": [
            [
             0,
             "#8e0152"
            ],
            [
             0.1,
             "#c51b7d"
            ],
            [
             0.2,
             "#de77ae"
            ],
            [
             0.3,
             "#f1b6da"
            ],
            [
             0.4,
             "#fde0ef"
            ],
            [
             0.5,
             "#f7f7f7"
            ],
            [
             0.6,
             "#e6f5d0"
            ],
            [
             0.7,
             "#b8e186"
            ],
            [
             0.8,
             "#7fbc41"
            ],
            [
             0.9,
             "#4d9221"
            ],
            [
             1,
             "#276419"
            ]
           ],
           "sequential": [
            [
             0,
             "#0d0887"
            ],
            [
             0.1111111111111111,
             "#46039f"
            ],
            [
             0.2222222222222222,
             "#7201a8"
            ],
            [
             0.3333333333333333,
             "#9c179e"
            ],
            [
             0.4444444444444444,
             "#bd3786"
            ],
            [
             0.5555555555555556,
             "#d8576b"
            ],
            [
             0.6666666666666666,
             "#ed7953"
            ],
            [
             0.7777777777777778,
             "#fb9f3a"
            ],
            [
             0.8888888888888888,
             "#fdca26"
            ],
            [
             1,
             "#f0f921"
            ]
           ],
           "sequentialminus": [
            [
             0,
             "#0d0887"
            ],
            [
             0.1111111111111111,
             "#46039f"
            ],
            [
             0.2222222222222222,
             "#7201a8"
            ],
            [
             0.3333333333333333,
             "#9c179e"
            ],
            [
             0.4444444444444444,
             "#bd3786"
            ],
            [
             0.5555555555555556,
             "#d8576b"
            ],
            [
             0.6666666666666666,
             "#ed7953"
            ],
            [
             0.7777777777777778,
             "#fb9f3a"
            ],
            [
             0.8888888888888888,
             "#fdca26"
            ],
            [
             1,
             "#f0f921"
            ]
           ]
          },
          "colorway": [
           "#636efa",
           "#EF553B",
           "#00cc96",
           "#ab63fa",
           "#FFA15A",
           "#19d3f3",
           "#FF6692",
           "#B6E880",
           "#FF97FF",
           "#FECB52"
          ],
          "font": {
           "color": "#2a3f5f"
          },
          "geo": {
           "bgcolor": "white",
           "lakecolor": "white",
           "landcolor": "white",
           "showlakes": true,
           "showland": true,
           "subunitcolor": "#C8D4E3"
          },
          "hoverlabel": {
           "align": "left"
          },
          "hovermode": "closest",
          "mapbox": {
           "style": "light"
          },
          "paper_bgcolor": "white",
          "plot_bgcolor": "white",
          "polar": {
           "angularaxis": {
            "gridcolor": "#EBF0F8",
            "linecolor": "#EBF0F8",
            "ticks": ""
           },
           "bgcolor": "white",
           "radialaxis": {
            "gridcolor": "#EBF0F8",
            "linecolor": "#EBF0F8",
            "ticks": ""
           }
          },
          "scene": {
           "xaxis": {
            "backgroundcolor": "white",
            "gridcolor": "#DFE8F3",
            "gridwidth": 2,
            "linecolor": "#EBF0F8",
            "showbackground": true,
            "ticks": "",
            "zerolinecolor": "#EBF0F8"
           },
           "yaxis": {
            "backgroundcolor": "white",
            "gridcolor": "#DFE8F3",
            "gridwidth": 2,
            "linecolor": "#EBF0F8",
            "showbackground": true,
            "ticks": "",
            "zerolinecolor": "#EBF0F8"
           },
           "zaxis": {
            "backgroundcolor": "white",
            "gridcolor": "#DFE8F3",
            "gridwidth": 2,
            "linecolor": "#EBF0F8",
            "showbackground": true,
            "ticks": "",
            "zerolinecolor": "#EBF0F8"
           }
          },
          "shapedefaults": {
           "line": {
            "color": "#2a3f5f"
           }
          },
          "ternary": {
           "aaxis": {
            "gridcolor": "#DFE8F3",
            "linecolor": "#A2B1C6",
            "ticks": ""
           },
           "baxis": {
            "gridcolor": "#DFE8F3",
            "linecolor": "#A2B1C6",
            "ticks": ""
           },
           "bgcolor": "white",
           "caxis": {
            "gridcolor": "#DFE8F3",
            "linecolor": "#A2B1C6",
            "ticks": ""
           }
          },
          "title": {
           "x": 0.05
          },
          "xaxis": {
           "automargin": true,
           "gridcolor": "#EBF0F8",
           "linecolor": "#EBF0F8",
           "ticks": "",
           "title": {
            "standoff": 15
           },
           "zerolinecolor": "#EBF0F8",
           "zerolinewidth": 2
          },
          "yaxis": {
           "automargin": true,
           "gridcolor": "#EBF0F8",
           "linecolor": "#EBF0F8",
           "ticks": "",
           "title": {
            "standoff": 15
           },
           "zerolinecolor": "#EBF0F8",
           "zerolinewidth": 2
          }
         }
        },
        "title": {
         "text": "[2022-04-10 00:18:21] Episode: 2/2 Step: 81/200"
        },
        "xaxis": {
         "anchor": "y",
         "domain": [
          0,
          1
         ],
         "gridcolor": "Gainsboro",
         "linecolor": "Grey",
         "matches": "x4",
         "rangeslider": {
          "visible": false
         },
         "showticklabels": false,
         "title": {
          "font": {
           "size": 12
          },
          "standoff": 7,
          "text": "Price"
         }
        },
        "xaxis2": {
         "anchor": "y2",
         "domain": [
          0,
          1
         ],
         "gridcolor": "Gainsboro",
         "linecolor": "Grey",
         "matches": "x4",
         "showticklabels": false,
         "title": {
          "font": {
           "size": 12
          },
          "standoff": 7,
          "text": "Volume"
         }
        },
        "xaxis3": {
         "anchor": "y3",
         "domain": [
          0,
          1
         ],
         "gridcolor": "Gainsboro",
         "linecolor": "Grey",
         "matches": "x4",
         "showticklabels": false,
         "title": {
          "font": {
           "size": 12
          },
          "standoff": 7,
          "text": "Performance"
         }
        },
        "xaxis4": {
         "anchor": "y4",
         "domain": [
          0,
          1
         ],
         "gridcolor": "Gainsboro",
         "linecolor": "Grey",
         "title": {
          "font": {
           "size": 12
          },
          "standoff": 7,
          "text": "Net Worth"
         }
        },
        "yaxis": {
         "anchor": "x",
         "domain": [
          0.49950000000000006,
          1
         ],
         "gridcolor": "Gainsboro",
         "linecolor": "Grey"
        },
        "yaxis2": {
         "anchor": "x2",
         "domain": [
          0.333,
          0.46950000000000003
         ],
         "gridcolor": "Gainsboro",
         "linecolor": "Grey"
        },
        "yaxis3": {
         "anchor": "x3",
         "domain": [
          0.1665,
          0.30300000000000005
         ],
         "gridcolor": "Gainsboro",
         "linecolor": "Grey"
        },
        "yaxis4": {
         "anchor": "x4",
         "domain": [
          0,
          0.1365
         ],
         "gridcolor": "Gainsboro",
         "linecolor": "Grey"
        }
       }
      }
     },
     "metadata": {},
     "output_type": "display_data"
    },
    {
     "data": {
      "application/vnd.jupyter.widget-view+json": {
       "model_id": "dc4636eeaeb44503acf6a2b1e182667b",
       "version_major": 2,
       "version_minor": 0
      },
      "text/plain": [
       "FigureWidget({\n",
       "    'data': [{'close': array([8740.99, 8739.  , 8728.49, 8708.32, 8795.9 , 8760.  , 8760.  , 87…"
      ]
     },
     "metadata": {},
     "output_type": "display_data"
    },
    {
     "data": {
      "application/vnd.plotly.v1+json": {
       "config": {
        "plotlyServerURL": "https://plot.ly"
       },
       "data": [
        {
         "close": [
          8740.99,
          8739,
          8728.49,
          8708.32,
          8795.9,
          8760,
          8760,
          8759.23,
          8517.77,
          8520.3,
          8535.23,
          8546.34,
          8526.65,
          8555.6,
          8512.1,
          8492.28,
          8460,
          8474.99,
          8455.92,
          8326.28,
          8133.43,
          8164.79,
          8229.38,
          8220.4,
          8238.8,
          8232.99,
          8207.48,
          8243.45,
          8371.13,
          8373,
          8365.08,
          8179.99,
          8225,
          8285.8,
          8273.4,
          8297.4,
          8279.89,
          8252.72,
          8302.18,
          8295.85,
          8277.25,
          8346.59,
          8358.3,
          8375.1,
          8368.62,
          8366.72,
          8314.77,
          8363.7,
          8344.16,
          8247.4,
          8277.4,
          8291.67,
          8307.89,
          8298.9,
          8269.47,
          8300.98,
          8318.49,
          8306.39,
          8276.43,
          8257.69,
          8166,
          8176.33,
          8200.7,
          8155.41,
          8080,
          8067.03,
          7958.08,
          7974.25,
          7998.5,
          7991.99,
          8022.7,
          8042.97,
          7965.67,
          8088.95,
          8122.19,
          8107.99,
          8137.73,
          8115,
          8107,
          8094.4,
          8080.01,
          8117.09,
          8126.99,
          8110.95,
          8215.39,
          8231.42,
          8240.13,
          8235,
          8219.9,
          8248.87,
          8213.5,
          8200.99,
          8200,
          8237.3,
          8228.13,
          8240.83,
          8214.9,
          8170.07,
          8229.87,
          8205.87,
          8252.56
         ],
         "high": [
          8796.68,
          8766,
          8750.27,
          8754.4,
          8865,
          8821.19,
          8798.6,
          8771.02,
          8761.7,
          8553.67,
          8589.1,
          8579.48,
          8555.51,
          8583.6,
          8569.92,
          8555.54,
          8557.51,
          8505,
          8505.33,
          8478.29,
          8339.81,
          8217.44,
          8252.72,
          8248.63,
          8267.12,
          8255,
          8261.24,
          8263.93,
          8455.66,
          8439.44,
          8399.1,
          8381.73,
          8229.91,
          8377.29,
          8329.1,
          8350,
          8346.95,
          8377.29,
          8311.35,
          8319.96,
          8398.24,
          8372.58,
          8399.99,
          8386.53,
          8400,
          8500,
          8381,
          8371.3,
          8382.41,
          8351,
          8292.99,
          8325.8,
          8318.99,
          8324.9,
          8335.56,
          8309.4,
          8377.29,
          8330.41,
          8328.23,
          8284.36,
          8274.83,
          8200,
          8232.14,
          8213.97,
          8155.41,
          8108.28,
          8068.92,
          8019.9,
          8026.66,
          8025,
          8104.69,
          8061.39,
          8045.99,
          8170.71,
          8144.16,
          8139.99,
          8152.99,
          8137.73,
          8143.72,
          8129.99,
          8106.76,
          8139,
          8152.04,
          8146.99,
          8232.14,
          8275.1,
          8256.12,
          8274.1,
          8255.8,
          8253.97,
          8261.09,
          8235.76,
          8227,
          8273.36,
          8264.21,
          8250,
          8250.86,
          8235.77,
          8232.12,
          8232.14,
          8252.72
         ],
         "low": [
          8707.28,
          8721.11,
          8660.53,
          8701.35,
          8695.11,
          8740.54,
          8741.52,
          8700,
          8467.42,
          8477.89,
          8500.78,
          8500,
          8400,
          8451.05,
          8461.38,
          8481.24,
          8420.37,
          8450,
          8430.94,
          8275.02,
          8100.01,
          8122.56,
          8157.01,
          8166.25,
          8176.91,
          8213.79,
          8200,
          8207.48,
          8237.1,
          8370,
          8356.4,
          8145.1,
          8173.6,
          8211.8,
          8201,
          8250.9,
          8266.46,
          8252.72,
          8232.14,
          8268.37,
          8277.25,
          8277.25,
          8314.78,
          8314.77,
          8350.07,
          8331.39,
          8314.77,
          8275.45,
          8335.49,
          8191.14,
          8227.7,
          8264.13,
          8249.93,
          8269.52,
          8219.44,
          8262.68,
          8286.65,
          8289.87,
          8232.14,
          8232.14,
          8110.02,
          8154.95,
          8168.6,
          8151,
          7980,
          8005.95,
          7929.53,
          7931.03,
          7950,
          7980.58,
          7991.99,
          7992.75,
          7953.4,
          7965.67,
          8085.94,
          8078.48,
          8092.9,
          8049.22,
          8079.46,
          8062.12,
          8043.96,
          8063.1,
          8088.46,
          8094.43,
          8088.46,
          8191.14,
          8212,
          8224.5,
          8211,
          8211.01,
          8210.03,
          8158.27,
          8177.65,
          8179.41,
          8221.92,
          8217.32,
          8213.52,
          8141.08,
          8146.1,
          8186.03,
          8197.09
         ],
         "name": "Price",
         "open": [
          8733.86,
          8740.99,
          8739,
          8728.49,
          8708.32,
          8795.9,
          8760,
          8760,
          8759.23,
          8517.77,
          8520.3,
          8535.23,
          8546.34,
          8526.65,
          8555.6,
          8512.1,
          8492.28,
          8460,
          8474.99,
          8455.92,
          8326.28,
          8133.43,
          8164.79,
          8229.38,
          8220.4,
          8238.8,
          8232.99,
          8207.48,
          8243.45,
          8371.13,
          8373,
          8365.08,
          8179.99,
          8225,
          8285.8,
          8273.4,
          8297.4,
          8279.89,
          8252.72,
          8302.18,
          8295.85,
          8277.25,
          8346.59,
          8358.3,
          8375.1,
          8368.62,
          8366.72,
          8314.77,
          8363.7,
          8344.16,
          8247.4,
          8277.4,
          8291.67,
          8307.89,
          8298.9,
          8269.47,
          8300.98,
          8318.49,
          8306.39,
          8276.43,
          8257.69,
          8166,
          8176.33,
          8200.7,
          8155.41,
          8080,
          8067.03,
          7958.08,
          7974.25,
          7998.5,
          7991.99,
          8022.7,
          8042.97,
          7965.67,
          8088.95,
          8122.19,
          8107.99,
          8137.73,
          8115,
          8107,
          8094.4,
          8080.01,
          8117.09,
          8126.99,
          8110.95,
          8215.39,
          8231.42,
          8240.13,
          8235,
          8219.9,
          8248.87,
          8213.5,
          8200.99,
          8200,
          8237.3,
          8228.13,
          8240.83,
          8214.9,
          8170.07,
          8229.87,
          8205.87
         ],
         "showlegend": false,
         "type": "candlestick",
         "uid": "8c6d8a56-07c4-4131-a4c8-63193c8a8ccd",
         "xaxis": "x",
         "yaxis": "y"
        },
        {
         "marker": {
          "color": "DodgerBlue"
         },
         "name": "Volume",
         "showlegend": false,
         "type": "bar",
         "uid": "145b46e2-d412-4928-981a-553342a3477e",
         "xaxis": "x2",
         "y": [
          559.93,
          273.58,
          917.79,
          182.62,
          1260.69,
          324.11,
          324.2,
          730.67,
          1341.75,
          792.07,
          385.69,
          475.08,
          877.26,
          670.49,
          610.97,
          168.99,
          305.92,
          136.05,
          154.26,
          1070.93,
          1710.2,
          492.8,
          630.72,
          620.93,
          586.34,
          304.52,
          450.97,
          182.36,
          915.32,
          319.29,
          362.01,
          1046.38,
          357.91,
          561.2,
          322.53,
          1073.71,
          237.21,
          251.2,
          359.73,
          117.23,
          363.17,
          214.18,
          171.64,
          258.58,
          299.52,
          718.98,
          119.7,
          405.25,
          210.77,
          714.82,
          215.97,
          164.2,
          201.55,
          203.41,
          886.82,
          95.49,
          499.67,
          172.77,
          355.39,
          255.27,
          591.06,
          133.1,
          149.13,
          87.55,
          1061.54,
          286.94,
          524.42,
          316,
          441.43,
          189.7,
          844.94,
          155.34,
          257.56,
          610.69,
          217.97,
          173.18,
          218.06,
          372.97,
          484.39,
          248.1,
          162.35,
          303.42,
          290.69,
          160.93,
          369.4,
          487.27,
          93.35,
          96.68,
          72.14,
          90.22,
          168.52,
          203.15,
          71.42,
          464.56,
          57,
          89.42,
          49.47,
          200.05,
          254.37,
          65.05,
          118.19
         ],
         "yaxis": "y2"
        },
        {
         "mode": "lines",
         "name": "bitstamp:/USD-BTC",
         "type": "scatter",
         "uid": "8c525a7c-7cb9-4397-bed8-bf45f03e8a5f",
         "xaxis": "x3",
         "y": [
          8740.99,
          8739,
          8728.49,
          8708.32,
          8795.9,
          8760,
          8760,
          8759.23,
          8517.77,
          8520.3,
          8535.23,
          8546.34,
          8526.65,
          8555.6,
          8512.1,
          8492.28,
          8460,
          8474.99,
          8455.92,
          8326.28,
          8133.43,
          8164.79,
          8229.38,
          8220.4,
          8238.8,
          8232.99,
          8207.48,
          8243.45,
          8371.13,
          8373,
          8365.08,
          8179.99,
          8225,
          8285.8,
          8273.4,
          8297.4,
          8279.89,
          8252.72,
          8302.18,
          8295.85,
          8277.25,
          8346.59,
          8358.3,
          8375.1,
          8368.62,
          8366.72,
          8314.77,
          8363.7,
          8344.16,
          8247.4,
          8277.4,
          8291.67,
          8307.89,
          8298.9,
          8269.47,
          8300.98,
          8318.49,
          8306.39,
          8276.43,
          8257.69,
          8166,
          8176.33,
          8200.7,
          8155.41,
          8080,
          8067.03,
          7958.08,
          7974.25,
          7998.5,
          7991.99,
          8022.7,
          8042.97,
          7965.67,
          8088.95,
          8122.19,
          8107.99,
          8137.73,
          8115,
          8107,
          8094.4,
          8080.01,
          8117.09,
          8126.99,
          8110.95,
          8215.39,
          8231.42,
          8240.13,
          8235,
          8219.9,
          8248.87,
          8213.5,
          8200.99,
          8200,
          8237.3,
          8228.13,
          8240.83,
          8214.9,
          8170.07,
          8229.87,
          8205.87,
          8252.56
         ],
         "yaxis": "y3"
        },
        {
         "mode": "lines",
         "name": "bitstamp:/USD:/free",
         "type": "scatter",
         "uid": "401294ed-928f-428f-a642-2b39c2a3ff21",
         "xaxis": "x3",
         "y": [
          10000,
          10000,
          10000,
          2000,
          2000,
          2000,
          2000,
          2000,
          2000,
          9760.1,
          2928.03,
          878.41,
          878.41,
          878.41,
          878.41,
          878.41,
          878.41,
          878.41,
          878.41,
          878.41,
          878.41,
          9302.62,
          0,
          0,
          0,
          0,
          0,
          0,
          0,
          0,
          0,
          0,
          0,
          0,
          0,
          0,
          0,
          0,
          0,
          0,
          0,
          0,
          0,
          0,
          0,
          0,
          0,
          0,
          0,
          0,
          0,
          0,
          0,
          0,
          0,
          0,
          0,
          0,
          0,
          0,
          0,
          0,
          0,
          0,
          0,
          0,
          0,
          0,
          0,
          0,
          0,
          0,
          0,
          0,
          0,
          0,
          0,
          0,
          0,
          0,
          0,
          0,
          0,
          0,
          0,
          0,
          0,
          0,
          0,
          0,
          0,
          0,
          0,
          0,
          0,
          0,
          0,
          0,
          0,
          0,
          0
         ],
         "yaxis": "y3"
        },
        {
         "mode": "lines",
         "name": "bitstamp:/USD:/locked",
         "type": "scatter",
         "uid": "2aef03b6-c4ff-49c5-a389-faa69b1e2dd5",
         "xaxis": "x3",
         "y": [
          0,
          0,
          0,
          0,
          0,
          0,
          0,
          0,
          0,
          0,
          0,
          0,
          0,
          0,
          0,
          0,
          0,
          0,
          0,
          0,
          0,
          0,
          0,
          0,
          0,
          0,
          0,
          0,
          0,
          0,
          0,
          0,
          0,
          0,
          0,
          0,
          0,
          0,
          0,
          0,
          0,
          0,
          0,
          0,
          0,
          0,
          0,
          0,
          0,
          0,
          0,
          0,
          0,
          0,
          0,
          0,
          0,
          0,
          0,
          0,
          0,
          0,
          0,
          0,
          0,
          0,
          0,
          0,
          0,
          0,
          0,
          0,
          0,
          0,
          0,
          0,
          0,
          0,
          0,
          0,
          0,
          0,
          0,
          0,
          0,
          0,
          0,
          0,
          0,
          0,
          0,
          0,
          0,
          0,
          0,
          0,
          0,
          0,
          0,
          0,
          0
         ],
         "yaxis": "y3"
        },
        {
         "mode": "lines",
         "name": "bitstamp:/USD:/total",
         "type": "scatter",
         "uid": "1cfdc07a-0fb3-45f5-8ac0-46485deef13b",
         "xaxis": "x3",
         "y": [
          10000,
          10000,
          10000,
          2000,
          2000,
          2000,
          2000,
          2000,
          2000,
          9760.1,
          2928.03,
          878.41,
          878.41,
          878.41,
          878.41,
          878.41,
          878.41,
          878.41,
          878.41,
          878.41,
          878.41,
          9302.62,
          0,
          0,
          0,
          0,
          0,
          0,
          0,
          0,
          0,
          0,
          0,
          0,
          0,
          0,
          0,
          0,
          0,
          0,
          0,
          0,
          0,
          0,
          0,
          0,
          0,
          0,
          0,
          0,
          0,
          0,
          0,
          0,
          0,
          0,
          0,
          0,
          0,
          0,
          0,
          0,
          0,
          0,
          0,
          0,
          0,
          0,
          0,
          0,
          0,
          0,
          0,
          0,
          0,
          0,
          0,
          0,
          0,
          0,
          0,
          0,
          0,
          0,
          0,
          0,
          0,
          0,
          0,
          0,
          0,
          0,
          0,
          0,
          0,
          0,
          0,
          0,
          0,
          0,
          0
         ],
         "yaxis": "y3"
        },
        {
         "mode": "lines",
         "name": "bitstamp:/BTC:/free",
         "type": "scatter",
         "uid": "6f75c785-6a85-4a93-88f3-23bc8f1b0896",
         "xaxis": "x3",
         "y": [
          10,
          10,
          10,
          10,
          10,
          10,
          10,
          10,
          10,
          10,
          10,
          10,
          10,
          10,
          10,
          10,
          10,
          10,
          10,
          10,
          10,
          10,
          10,
          10,
          10,
          10,
          10,
          10,
          10,
          10,
          10,
          10,
          10,
          10,
          10,
          10,
          10,
          10,
          10,
          10,
          10,
          10,
          10,
          10,
          10,
          10,
          10,
          10,
          10,
          10,
          10,
          10,
          10,
          10,
          10,
          10,
          10,
          10,
          10,
          10,
          10,
          10,
          10,
          10,
          10,
          10,
          10,
          10,
          10,
          10,
          10,
          10,
          10,
          10,
          10,
          10,
          10,
          10,
          10,
          10,
          10,
          10,
          10,
          10,
          10,
          10,
          10,
          10,
          10,
          10,
          10,
          10,
          10,
          10,
          10,
          10,
          10,
          10,
          10,
          10,
          10
         ],
         "yaxis": "y3"
        },
        {
         "mode": "lines",
         "name": "bitstamp:/BTC:/locked",
         "type": "scatter",
         "uid": "ba02f11e-201e-468a-9ae6-fb1561982cfe",
         "xaxis": "x3",
         "y": [
          0,
          0,
          0,
          0.91378921,
          0.91378921,
          0.91378921,
          0.91378921,
          0.91378921,
          0.91378921,
          0,
          0.7994519,
          1.03886783,
          1.03886783,
          1.03886783,
          1.03886783,
          1.03886783,
          1.03886783,
          1.03886783,
          1.03886783,
          1.03886783,
          1.03886783,
          0,
          1.13593981,
          1.13593981,
          1.13593981,
          1.13593981,
          1.13593981,
          1.13593981,
          1.13593981,
          1.13593981,
          1.13593981,
          1.13593981,
          1.13593981,
          1.13593981,
          1.13593981,
          1.13593981,
          1.13593981,
          1.13593981,
          1.13593981,
          1.13593981,
          1.13593981,
          1.13593981,
          1.13593981,
          1.13593981,
          1.13593981,
          1.13593981,
          1.13593981,
          1.13593981,
          1.13593981,
          1.13593981,
          1.13593981,
          1.13593981,
          1.13593981,
          1.13593981,
          1.13593981,
          1.13593981,
          1.13593981,
          1.13593981,
          1.13593981,
          1.13593981,
          1.13593981,
          1.13593981,
          1.13593981,
          1.13593981,
          1.13593981,
          1.13593981,
          1.13593981,
          1.13593981,
          1.13593981,
          1.13593981,
          1.13593981,
          1.13593981,
          1.13593981,
          1.13593981,
          1.13593981,
          1.13593981,
          1.13593981,
          1.13593981,
          1.13593981,
          1.13593981,
          1.13593981,
          1.13593981,
          1.13593981,
          1.13593981,
          1.13593981,
          1.13593981,
          1.13593981,
          1.13593981,
          1.13593981,
          1.13593981,
          1.13593981,
          1.13593981,
          1.13593981,
          1.13593981,
          1.13593981,
          1.13593981,
          1.13593981,
          1.13593981,
          1.13593981,
          1.13593981,
          1.13593981
         ],
         "yaxis": "y3"
        },
        {
         "mode": "lines",
         "name": "bitstamp:/BTC:/total",
         "type": "scatter",
         "uid": "db06df65-6739-42e7-9218-1600ec083b58",
         "xaxis": "x3",
         "y": [
          10,
          10,
          10,
          10.91378921,
          10.91378921,
          10.91378921,
          10.91378921,
          10.91378921,
          10.91378921,
          10,
          10.7994519,
          11.03886783,
          11.03886783,
          11.03886783,
          11.03886783,
          11.03886783,
          11.03886783,
          11.03886783,
          11.03886783,
          11.03886783,
          11.03886783,
          10,
          11.13593981,
          11.13593981,
          11.13593981,
          11.13593981,
          11.13593981,
          11.13593981,
          11.13593981,
          11.13593981,
          11.13593981,
          11.13593981,
          11.13593981,
          11.13593981,
          11.13593981,
          11.13593981,
          11.13593981,
          11.13593981,
          11.13593981,
          11.13593981,
          11.13593981,
          11.13593981,
          11.13593981,
          11.13593981,
          11.13593981,
          11.13593981,
          11.13593981,
          11.13593981,
          11.13593981,
          11.13593981,
          11.13593981,
          11.13593981,
          11.13593981,
          11.13593981,
          11.13593981,
          11.13593981,
          11.13593981,
          11.13593981,
          11.13593981,
          11.13593981,
          11.13593981,
          11.13593981,
          11.13593981,
          11.13593981,
          11.13593981,
          11.13593981,
          11.13593981,
          11.13593981,
          11.13593981,
          11.13593981,
          11.13593981,
          11.13593981,
          11.13593981,
          11.13593981,
          11.13593981,
          11.13593981,
          11.13593981,
          11.13593981,
          11.13593981,
          11.13593981,
          11.13593981,
          11.13593981,
          11.13593981,
          11.13593981,
          11.13593981,
          11.13593981,
          11.13593981,
          11.13593981,
          11.13593981,
          11.13593981,
          11.13593981,
          11.13593981,
          11.13593981,
          11.13593981,
          11.13593981,
          11.13593981,
          11.13593981,
          11.13593981,
          11.13593981,
          11.13593981,
          11.13593981
         ],
         "yaxis": "y3"
        },
        {
         "mode": "lines",
         "name": "bitstamp:/BTC:/worth",
         "type": "scatter",
         "uid": "00269ee4-5684-47d5-acbb-521c67b732c8",
         "xaxis": "x3",
         "y": [
          87409.9,
          87390,
          87284.9,
          95040.76885322719,
          95996.59851223898,
          95604.79347959999,
          95604.79347959999,
          95596.38986190829,
          92961.1463192617,
          85203,
          92175.805840437,
          94341.91769024219,
          94124.5623826695,
          94444.137606348,
          93963.946855743,
          93745.1564953524,
          93388.82184179999,
          93554.2944705717,
          93343.7832610536,
          91912.7044355724,
          89783.8587745569,
          81647.9,
          91641.88035361779,
          91541.879614124,
          91746.78090662799,
          91682.0810963319,
          91398.0032717788,
          91798.56302674451,
          93220.39982168529,
          93241.22402913,
          93153.0273858348,
          91091.8762864019,
          91593.10493725,
          92270.17007769799,
          92132.084424054,
          92399.346979494,
          92204.35667342089,
          91901.7931887832,
          92452.5767717858,
          92382.08627278851,
          92174.9577923225,
          92947.1238587479,
          93077.525713923,
          93264.60950273101,
          93192.44861276221,
          93171.29032712319,
          92592.7782539937,
          93137.65978889701,
          92920.0635250096,
          91842.549988994,
          92176.628183294,
          92335.5380443827,
          92516.1629881009,
          92416.050889209,
          92088.3201806007,
          92439.2136440138,
          92634.2039500869,
          92499.45907838589,
          92165.82632167831,
          91957.13880963891,
          90936.08448846,
          91051.1187466973,
          91322.50159986701,
          90818.15488587209,
          89978.3936648,
          89833.9605254643,
          88620.6998831648,
          88800.7680298925,
          89070.814570285,
          88998.3196021219,
          89340.304313687,
          89566.0298136357,
          88705.2216663227,
          90078.0603260995,
          90448.2189653839,
          90290.0886200819,
          90621.2714700313,
          90368.15155815,
          90279.06403967,
          90138.751198064,
          89978.50502419811,
          90391.4256723529,
          90501.67147647189,
          90323.05100191949,
          91486.08855567589,
          91664.5976708302,
          91761.59170657529,
          91704.46433535,
          91536.311644219,
          91858.91982051471,
          91465.041629435,
          91325.7310224119,
          91314.706442,
          91730.07699691299,
          91627.9604288553,
          91769.3868644423,
          91480.63194516899,
          90981.4077634867,
          91647.33696412471,
          91380.07440868471,
          91900.0114384136
         ],
         "yaxis": "y3"
        },
        {
         "mode": "lines",
         "name": "net_worth",
         "type": "scatter",
         "uid": "c6aa695d-58af-49d4-a325-d546bfdc6beb",
         "xaxis": "x3",
         "y": [
          97409.9,
          97390,
          97284.9,
          97040.76885322719,
          97996.59851223898,
          97604.79347959999,
          97604.79347959999,
          97596.38986190829,
          94961.1463192617,
          94963.1,
          95103.835840437,
          95220.3276902422,
          95002.9723826695,
          95322.547606348,
          94842.356855743,
          94623.56649535241,
          94267.23184179999,
          94432.7044705717,
          94222.1932610536,
          92791.11443557241,
          90662.2687745569,
          90950.51999999999,
          91641.88035361779,
          91541.879614124,
          91746.78090662799,
          91682.0810963319,
          91398.0032717788,
          91798.56302674451,
          93220.39982168529,
          93241.22402913,
          93153.0273858348,
          91091.8762864019,
          91593.10493725,
          92270.17007769799,
          92132.084424054,
          92399.346979494,
          92204.35667342089,
          91901.7931887832,
          92452.5767717858,
          92382.08627278851,
          92174.9577923225,
          92947.1238587479,
          93077.525713923,
          93264.60950273101,
          93192.44861276221,
          93171.29032712319,
          92592.7782539937,
          93137.65978889701,
          92920.0635250096,
          91842.549988994,
          92176.628183294,
          92335.5380443827,
          92516.1629881009,
          92416.050889209,
          92088.3201806007,
          92439.2136440138,
          92634.2039500869,
          92499.45907838589,
          92165.82632167831,
          91957.13880963891,
          90936.08448846,
          91051.1187466973,
          91322.50159986701,
          90818.15488587209,
          89978.3936648,
          89833.9605254643,
          88620.6998831648,
          88800.7680298925,
          89070.814570285,
          88998.3196021219,
          89340.304313687,
          89566.0298136357,
          88705.2216663227,
          90078.0603260995,
          90448.2189653839,
          90290.0886200819,
          90621.2714700313,
          90368.15155815,
          90279.06403967,
          90138.751198064,
          89978.50502419811,
          90391.4256723529,
          90501.67147647189,
          90323.05100191949,
          91486.08855567589,
          91664.5976708302,
          91761.59170657529,
          91704.46433535,
          91536.311644219,
          91858.91982051471,
          91465.041629435,
          91325.7310224119,
          91314.706442,
          91730.07699691299,
          91627.9604288553,
          91769.3868644423,
          91480.63194516899,
          90981.4077634867,
          91647.33696412471,
          91380.07440868471,
          91900.0114384136
         ],
         "yaxis": "y3"
        },
        {
         "marker": {
          "color": "DarkGreen"
         },
         "mode": "lines",
         "name": "Net Worth",
         "type": "scatter",
         "uid": "425ac698-5938-4ce2-abd8-e4fb972b4a58",
         "xaxis": "x4",
         "y": [
          97409.9,
          97390,
          97284.9,
          97040.76885322719,
          97996.59851223898,
          97604.79347959999,
          97604.79347959999,
          97596.38986190829,
          94961.1463192617,
          94963.1,
          95103.835840437,
          95220.3276902422,
          95002.9723826695,
          95322.547606348,
          94842.356855743,
          94623.56649535241,
          94267.23184179999,
          94432.7044705717,
          94222.1932610536,
          92791.11443557241,
          90662.2687745569,
          90950.51999999999,
          91641.88035361779,
          91541.879614124,
          91746.78090662799,
          91682.0810963319,
          91398.0032717788,
          91798.56302674451,
          93220.39982168529,
          93241.22402913,
          93153.0273858348,
          91091.8762864019,
          91593.10493725,
          92270.17007769799,
          92132.084424054,
          92399.346979494,
          92204.35667342089,
          91901.7931887832,
          92452.5767717858,
          92382.08627278851,
          92174.9577923225,
          92947.1238587479,
          93077.525713923,
          93264.60950273101,
          93192.44861276221,
          93171.29032712319,
          92592.7782539937,
          93137.65978889701,
          92920.0635250096,
          91842.549988994,
          92176.628183294,
          92335.5380443827,
          92516.1629881009,
          92416.050889209,
          92088.3201806007,
          92439.2136440138,
          92634.2039500869,
          92499.45907838589,
          92165.82632167831,
          91957.13880963891,
          90936.08448846,
          91051.1187466973,
          91322.50159986701,
          90818.15488587209,
          89978.3936648,
          89833.9605254643,
          88620.6998831648,
          88800.7680298925,
          89070.814570285,
          88998.3196021219,
          89340.304313687,
          89566.0298136357,
          88705.2216663227,
          90078.0603260995,
          90448.2189653839,
          90290.0886200819,
          90621.2714700313,
          90368.15155815,
          90279.06403967,
          90138.751198064,
          89978.50502419811,
          90391.4256723529,
          90501.67147647189,
          90323.05100191949,
          91486.08855567589,
          91664.5976708302,
          91761.59170657529,
          91704.46433535,
          91536.311644219,
          91858.91982051471,
          91465.041629435,
          91325.7310224119,
          91314.706442,
          91730.07699691299,
          91627.9604288553,
          91769.3868644423,
          91480.63194516899,
          90981.4077634867,
          91647.33696412471,
          91380.07440868471,
          91900.0114384136
         ],
         "yaxis": "y4"
        }
       ],
       "layout": {
        "annotations": [
         {
          "arrowcolor": "DarkGreen",
          "arrowhead": 2,
          "arrowsize": 0.8,
          "arrowwidth": 4,
          "ax": 0,
          "ay": 15,
          "hoverlabel": {
           "bgcolor": "DarkGreen"
          },
          "hovertext": "Step 11 [2018-05-15 16:00:00]<br>BUY 0.23941593 BTC @ 8535.23 USD MARKET<br>Total: 2043.47 USD - Comm.: 6.15 USD",
          "opacity": 0.6,
          "showarrow": true,
          "x": 10,
          "xref": "x",
          "y": 8535.23,
          "yref": "y"
         },
         {
          "arrowcolor": "DarkGreen",
          "arrowhead": 2,
          "arrowsize": 0.8,
          "arrowwidth": 4,
          "ax": 0,
          "ay": 15,
          "hoverlabel": {
           "bgcolor": "DarkGreen"
          },
          "hovertext": "Step 10 [2018-05-15 15:00:00]<br>BUY 0.7994519 BTC @ 8520.3 USD MARKET<br>Total: 6811.57 USD - Comm.: 20.50 USD",
          "opacity": 0.6,
          "showarrow": true,
          "x": 9,
          "xref": "x",
          "y": 8520.3,
          "yref": "y"
         },
         {
          "arrowcolor": "FireBrick",
          "arrowhead": 2,
          "arrowsize": 0.8,
          "arrowwidth": 4,
          "ax": 0,
          "ay": -15,
          "hoverlabel": {
           "bgcolor": "FireBrick"
          },
          "hovertext": "Step 9 [2018-05-15 14:00:00]<br>SELL 0.91104784 BTC @ 8517.77 USD MARKET<br>Total: 7760.1 USD - Comm.: 0.00274137 BTC",
          "opacity": 0.6,
          "showarrow": true,
          "x": 8,
          "xref": "x",
          "y": 8517.77,
          "yref": "y"
         },
         {
          "arrowcolor": "DarkGreen",
          "arrowhead": 2,
          "arrowsize": 0.8,
          "arrowwidth": 4,
          "ax": 0,
          "ay": 15,
          "hoverlabel": {
           "bgcolor": "DarkGreen"
          },
          "hovertext": "Step 3 [2018-05-15 08:00:00]<br>BUY 0.91378921 BTC @ 8728.49 USD MARKET<br>Total: 7976.0 USD - Comm.: 24.00 USD",
          "opacity": 0.6,
          "showarrow": true,
          "x": 2,
          "xref": "x",
          "y": 8728.49,
          "yref": "y"
         },
         {
          "arrowcolor": "DarkGreen",
          "arrowhead": 2,
          "arrowsize": 0.8,
          "arrowwidth": 4,
          "ax": 0,
          "ay": 15,
          "hoverlabel": {
           "bgcolor": "DarkGreen"
          },
          "hovertext": "Step 22 [2018-05-16 03:00:00]<br>BUY 1.13593981 BTC @ 8164.79 USD MARKET<br>Total: 9274.71 USD - Comm.: 27.91 USD",
          "opacity": 0.6,
          "showarrow": true,
          "x": 21,
          "xref": "x",
          "y": 8164.79,
          "yref": "y"
         },
         {
          "arrowcolor": "FireBrick",
          "arrowhead": 2,
          "arrowsize": 0.8,
          "arrowwidth": 4,
          "ax": 0,
          "ay": -15,
          "hoverlabel": {
           "bgcolor": "FireBrick"
          },
          "hovertext": "Step 21 [2018-05-16 02:00:00]<br>SELL 0.23869768 BTC @ 8133.43 USD MARKET<br>Total: 1941.43 USD - Comm.: 0.00071825 BTC",
          "opacity": 0.6,
          "showarrow": true,
          "x": 20,
          "xref": "x",
          "y": 8133.43,
          "yref": "y"
         },
         {
          "arrowcolor": "FireBrick",
          "arrowhead": 2,
          "arrowsize": 0.8,
          "arrowwidth": 4,
          "ax": 0,
          "ay": -15,
          "hoverlabel": {
           "bgcolor": "FireBrick"
          },
          "hovertext": "Step 21 [2018-05-16 02:00:00]<br>SELL 0.79705354 BTC @ 8133.43 USD MARKET<br>Total: 6482.78 USD - Comm.: 0.00239836 BTC",
          "opacity": 0.6,
          "showarrow": true,
          "x": 20,
          "xref": "x",
          "y": 8133.43,
          "yref": "y"
         }
        ],
        "margin": {
         "t": 50
        },
        "template": {
         "data": {
          "bar": [
           {
            "error_x": {
             "color": "#2a3f5f"
            },
            "error_y": {
             "color": "#2a3f5f"
            },
            "marker": {
             "line": {
              "color": "white",
              "width": 0.5
             },
             "pattern": {
              "fillmode": "overlay",
              "size": 10,
              "solidity": 0.2
             }
            },
            "type": "bar"
           }
          ],
          "barpolar": [
           {
            "marker": {
             "line": {
              "color": "white",
              "width": 0.5
             },
             "pattern": {
              "fillmode": "overlay",
              "size": 10,
              "solidity": 0.2
             }
            },
            "type": "barpolar"
           }
          ],
          "carpet": [
           {
            "aaxis": {
             "endlinecolor": "#2a3f5f",
             "gridcolor": "#C8D4E3",
             "linecolor": "#C8D4E3",
             "minorgridcolor": "#C8D4E3",
             "startlinecolor": "#2a3f5f"
            },
            "baxis": {
             "endlinecolor": "#2a3f5f",
             "gridcolor": "#C8D4E3",
             "linecolor": "#C8D4E3",
             "minorgridcolor": "#C8D4E3",
             "startlinecolor": "#2a3f5f"
            },
            "type": "carpet"
           }
          ],
          "choropleth": [
           {
            "colorbar": {
             "outlinewidth": 0,
             "ticks": ""
            },
            "type": "choropleth"
           }
          ],
          "contour": [
           {
            "colorbar": {
             "outlinewidth": 0,
             "ticks": ""
            },
            "colorscale": [
             [
              0,
              "#0d0887"
             ],
             [
              0.1111111111111111,
              "#46039f"
             ],
             [
              0.2222222222222222,
              "#7201a8"
             ],
             [
              0.3333333333333333,
              "#9c179e"
             ],
             [
              0.4444444444444444,
              "#bd3786"
             ],
             [
              0.5555555555555556,
              "#d8576b"
             ],
             [
              0.6666666666666666,
              "#ed7953"
             ],
             [
              0.7777777777777778,
              "#fb9f3a"
             ],
             [
              0.8888888888888888,
              "#fdca26"
             ],
             [
              1,
              "#f0f921"
             ]
            ],
            "type": "contour"
           }
          ],
          "contourcarpet": [
           {
            "colorbar": {
             "outlinewidth": 0,
             "ticks": ""
            },
            "type": "contourcarpet"
           }
          ],
          "heatmap": [
           {
            "colorbar": {
             "outlinewidth": 0,
             "ticks": ""
            },
            "colorscale": [
             [
              0,
              "#0d0887"
             ],
             [
              0.1111111111111111,
              "#46039f"
             ],
             [
              0.2222222222222222,
              "#7201a8"
             ],
             [
              0.3333333333333333,
              "#9c179e"
             ],
             [
              0.4444444444444444,
              "#bd3786"
             ],
             [
              0.5555555555555556,
              "#d8576b"
             ],
             [
              0.6666666666666666,
              "#ed7953"
             ],
             [
              0.7777777777777778,
              "#fb9f3a"
             ],
             [
              0.8888888888888888,
              "#fdca26"
             ],
             [
              1,
              "#f0f921"
             ]
            ],
            "type": "heatmap"
           }
          ],
          "heatmapgl": [
           {
            "colorbar": {
             "outlinewidth": 0,
             "ticks": ""
            },
            "colorscale": [
             [
              0,
              "#0d0887"
             ],
             [
              0.1111111111111111,
              "#46039f"
             ],
             [
              0.2222222222222222,
              "#7201a8"
             ],
             [
              0.3333333333333333,
              "#9c179e"
             ],
             [
              0.4444444444444444,
              "#bd3786"
             ],
             [
              0.5555555555555556,
              "#d8576b"
             ],
             [
              0.6666666666666666,
              "#ed7953"
             ],
             [
              0.7777777777777778,
              "#fb9f3a"
             ],
             [
              0.8888888888888888,
              "#fdca26"
             ],
             [
              1,
              "#f0f921"
             ]
            ],
            "type": "heatmapgl"
           }
          ],
          "histogram": [
           {
            "marker": {
             "pattern": {
              "fillmode": "overlay",
              "size": 10,
              "solidity": 0.2
             }
            },
            "type": "histogram"
           }
          ],
          "histogram2d": [
           {
            "colorbar": {
             "outlinewidth": 0,
             "ticks": ""
            },
            "colorscale": [
             [
              0,
              "#0d0887"
             ],
             [
              0.1111111111111111,
              "#46039f"
             ],
             [
              0.2222222222222222,
              "#7201a8"
             ],
             [
              0.3333333333333333,
              "#9c179e"
             ],
             [
              0.4444444444444444,
              "#bd3786"
             ],
             [
              0.5555555555555556,
              "#d8576b"
             ],
             [
              0.6666666666666666,
              "#ed7953"
             ],
             [
              0.7777777777777778,
              "#fb9f3a"
             ],
             [
              0.8888888888888888,
              "#fdca26"
             ],
             [
              1,
              "#f0f921"
             ]
            ],
            "type": "histogram2d"
           }
          ],
          "histogram2dcontour": [
           {
            "colorbar": {
             "outlinewidth": 0,
             "ticks": ""
            },
            "colorscale": [
             [
              0,
              "#0d0887"
             ],
             [
              0.1111111111111111,
              "#46039f"
             ],
             [
              0.2222222222222222,
              "#7201a8"
             ],
             [
              0.3333333333333333,
              "#9c179e"
             ],
             [
              0.4444444444444444,
              "#bd3786"
             ],
             [
              0.5555555555555556,
              "#d8576b"
             ],
             [
              0.6666666666666666,
              "#ed7953"
             ],
             [
              0.7777777777777778,
              "#fb9f3a"
             ],
             [
              0.8888888888888888,
              "#fdca26"
             ],
             [
              1,
              "#f0f921"
             ]
            ],
            "type": "histogram2dcontour"
           }
          ],
          "mesh3d": [
           {
            "colorbar": {
             "outlinewidth": 0,
             "ticks": ""
            },
            "type": "mesh3d"
           }
          ],
          "parcoords": [
           {
            "line": {
             "colorbar": {
              "outlinewidth": 0,
              "ticks": ""
             }
            },
            "type": "parcoords"
           }
          ],
          "pie": [
           {
            "automargin": true,
            "type": "pie"
           }
          ],
          "scatter": [
           {
            "marker": {
             "colorbar": {
              "outlinewidth": 0,
              "ticks": ""
             }
            },
            "type": "scatter"
           }
          ],
          "scatter3d": [
           {
            "line": {
             "colorbar": {
              "outlinewidth": 0,
              "ticks": ""
             }
            },
            "marker": {
             "colorbar": {
              "outlinewidth": 0,
              "ticks": ""
             }
            },
            "type": "scatter3d"
           }
          ],
          "scattercarpet": [
           {
            "marker": {
             "colorbar": {
              "outlinewidth": 0,
              "ticks": ""
             }
            },
            "type": "scattercarpet"
           }
          ],
          "scattergeo": [
           {
            "marker": {
             "colorbar": {
              "outlinewidth": 0,
              "ticks": ""
             }
            },
            "type": "scattergeo"
           }
          ],
          "scattergl": [
           {
            "marker": {
             "colorbar": {
              "outlinewidth": 0,
              "ticks": ""
             }
            },
            "type": "scattergl"
           }
          ],
          "scattermapbox": [
           {
            "marker": {
             "colorbar": {
              "outlinewidth": 0,
              "ticks": ""
             }
            },
            "type": "scattermapbox"
           }
          ],
          "scatterpolar": [
           {
            "marker": {
             "colorbar": {
              "outlinewidth": 0,
              "ticks": ""
             }
            },
            "type": "scatterpolar"
           }
          ],
          "scatterpolargl": [
           {
            "marker": {
             "colorbar": {
              "outlinewidth": 0,
              "ticks": ""
             }
            },
            "type": "scatterpolargl"
           }
          ],
          "scatterternary": [
           {
            "marker": {
             "colorbar": {
              "outlinewidth": 0,
              "ticks": ""
             }
            },
            "type": "scatterternary"
           }
          ],
          "surface": [
           {
            "colorbar": {
             "outlinewidth": 0,
             "ticks": ""
            },
            "colorscale": [
             [
              0,
              "#0d0887"
             ],
             [
              0.1111111111111111,
              "#46039f"
             ],
             [
              0.2222222222222222,
              "#7201a8"
             ],
             [
              0.3333333333333333,
              "#9c179e"
             ],
             [
              0.4444444444444444,
              "#bd3786"
             ],
             [
              0.5555555555555556,
              "#d8576b"
             ],
             [
              0.6666666666666666,
              "#ed7953"
             ],
             [
              0.7777777777777778,
              "#fb9f3a"
             ],
             [
              0.8888888888888888,
              "#fdca26"
             ],
             [
              1,
              "#f0f921"
             ]
            ],
            "type": "surface"
           }
          ],
          "table": [
           {
            "cells": {
             "fill": {
              "color": "#EBF0F8"
             },
             "line": {
              "color": "white"
             }
            },
            "header": {
             "fill": {
              "color": "#C8D4E3"
             },
             "line": {
              "color": "white"
             }
            },
            "type": "table"
           }
          ]
         },
         "layout": {
          "annotationdefaults": {
           "arrowcolor": "#2a3f5f",
           "arrowhead": 0,
           "arrowwidth": 1
          },
          "autotypenumbers": "strict",
          "coloraxis": {
           "colorbar": {
            "outlinewidth": 0,
            "ticks": ""
           }
          },
          "colorscale": {
           "diverging": [
            [
             0,
             "#8e0152"
            ],
            [
             0.1,
             "#c51b7d"
            ],
            [
             0.2,
             "#de77ae"
            ],
            [
             0.3,
             "#f1b6da"
            ],
            [
             0.4,
             "#fde0ef"
            ],
            [
             0.5,
             "#f7f7f7"
            ],
            [
             0.6,
             "#e6f5d0"
            ],
            [
             0.7,
             "#b8e186"
            ],
            [
             0.8,
             "#7fbc41"
            ],
            [
             0.9,
             "#4d9221"
            ],
            [
             1,
             "#276419"
            ]
           ],
           "sequential": [
            [
             0,
             "#0d0887"
            ],
            [
             0.1111111111111111,
             "#46039f"
            ],
            [
             0.2222222222222222,
             "#7201a8"
            ],
            [
             0.3333333333333333,
             "#9c179e"
            ],
            [
             0.4444444444444444,
             "#bd3786"
            ],
            [
             0.5555555555555556,
             "#d8576b"
            ],
            [
             0.6666666666666666,
             "#ed7953"
            ],
            [
             0.7777777777777778,
             "#fb9f3a"
            ],
            [
             0.8888888888888888,
             "#fdca26"
            ],
            [
             1,
             "#f0f921"
            ]
           ],
           "sequentialminus": [
            [
             0,
             "#0d0887"
            ],
            [
             0.1111111111111111,
             "#46039f"
            ],
            [
             0.2222222222222222,
             "#7201a8"
            ],
            [
             0.3333333333333333,
             "#9c179e"
            ],
            [
             0.4444444444444444,
             "#bd3786"
            ],
            [
             0.5555555555555556,
             "#d8576b"
            ],
            [
             0.6666666666666666,
             "#ed7953"
            ],
            [
             0.7777777777777778,
             "#fb9f3a"
            ],
            [
             0.8888888888888888,
             "#fdca26"
            ],
            [
             1,
             "#f0f921"
            ]
           ]
          },
          "colorway": [
           "#636efa",
           "#EF553B",
           "#00cc96",
           "#ab63fa",
           "#FFA15A",
           "#19d3f3",
           "#FF6692",
           "#B6E880",
           "#FF97FF",
           "#FECB52"
          ],
          "font": {
           "color": "#2a3f5f"
          },
          "geo": {
           "bgcolor": "white",
           "lakecolor": "white",
           "landcolor": "white",
           "showlakes": true,
           "showland": true,
           "subunitcolor": "#C8D4E3"
          },
          "hoverlabel": {
           "align": "left"
          },
          "hovermode": "closest",
          "mapbox": {
           "style": "light"
          },
          "paper_bgcolor": "white",
          "plot_bgcolor": "white",
          "polar": {
           "angularaxis": {
            "gridcolor": "#EBF0F8",
            "linecolor": "#EBF0F8",
            "ticks": ""
           },
           "bgcolor": "white",
           "radialaxis": {
            "gridcolor": "#EBF0F8",
            "linecolor": "#EBF0F8",
            "ticks": ""
           }
          },
          "scene": {
           "xaxis": {
            "backgroundcolor": "white",
            "gridcolor": "#DFE8F3",
            "gridwidth": 2,
            "linecolor": "#EBF0F8",
            "showbackground": true,
            "ticks": "",
            "zerolinecolor": "#EBF0F8"
           },
           "yaxis": {
            "backgroundcolor": "white",
            "gridcolor": "#DFE8F3",
            "gridwidth": 2,
            "linecolor": "#EBF0F8",
            "showbackground": true,
            "ticks": "",
            "zerolinecolor": "#EBF0F8"
           },
           "zaxis": {
            "backgroundcolor": "white",
            "gridcolor": "#DFE8F3",
            "gridwidth": 2,
            "linecolor": "#EBF0F8",
            "showbackground": true,
            "ticks": "",
            "zerolinecolor": "#EBF0F8"
           }
          },
          "shapedefaults": {
           "line": {
            "color": "#2a3f5f"
           }
          },
          "ternary": {
           "aaxis": {
            "gridcolor": "#DFE8F3",
            "linecolor": "#A2B1C6",
            "ticks": ""
           },
           "baxis": {
            "gridcolor": "#DFE8F3",
            "linecolor": "#A2B1C6",
            "ticks": ""
           },
           "bgcolor": "white",
           "caxis": {
            "gridcolor": "#DFE8F3",
            "linecolor": "#A2B1C6",
            "ticks": ""
           }
          },
          "title": {
           "x": 0.05
          },
          "xaxis": {
           "automargin": true,
           "gridcolor": "#EBF0F8",
           "linecolor": "#EBF0F8",
           "ticks": "",
           "title": {
            "standoff": 15
           },
           "zerolinecolor": "#EBF0F8",
           "zerolinewidth": 2
          },
          "yaxis": {
           "automargin": true,
           "gridcolor": "#EBF0F8",
           "linecolor": "#EBF0F8",
           "ticks": "",
           "title": {
            "standoff": 15
           },
           "zerolinecolor": "#EBF0F8",
           "zerolinewidth": 2
          }
         }
        },
        "title": {
         "text": "[2022-04-10 00:18:27] Episode: 2/2 Step: 101/200"
        },
        "xaxis": {
         "anchor": "y",
         "domain": [
          0,
          1
         ],
         "gridcolor": "Gainsboro",
         "linecolor": "Grey",
         "matches": "x4",
         "rangeslider": {
          "visible": false
         },
         "showticklabels": false,
         "title": {
          "font": {
           "size": 12
          },
          "standoff": 7,
          "text": "Price"
         }
        },
        "xaxis2": {
         "anchor": "y2",
         "domain": [
          0,
          1
         ],
         "gridcolor": "Gainsboro",
         "linecolor": "Grey",
         "matches": "x4",
         "showticklabels": false,
         "title": {
          "font": {
           "size": 12
          },
          "standoff": 7,
          "text": "Volume"
         }
        },
        "xaxis3": {
         "anchor": "y3",
         "domain": [
          0,
          1
         ],
         "gridcolor": "Gainsboro",
         "linecolor": "Grey",
         "matches": "x4",
         "showticklabels": false,
         "title": {
          "font": {
           "size": 12
          },
          "standoff": 7,
          "text": "Performance"
         }
        },
        "xaxis4": {
         "anchor": "y4",
         "domain": [
          0,
          1
         ],
         "gridcolor": "Gainsboro",
         "linecolor": "Grey",
         "title": {
          "font": {
           "size": 12
          },
          "standoff": 7,
          "text": "Net Worth"
         }
        },
        "yaxis": {
         "anchor": "x",
         "domain": [
          0.49950000000000006,
          1
         ],
         "gridcolor": "Gainsboro",
         "linecolor": "Grey"
        },
        "yaxis2": {
         "anchor": "x2",
         "domain": [
          0.333,
          0.46950000000000003
         ],
         "gridcolor": "Gainsboro",
         "linecolor": "Grey"
        },
        "yaxis3": {
         "anchor": "x3",
         "domain": [
          0.1665,
          0.30300000000000005
         ],
         "gridcolor": "Gainsboro",
         "linecolor": "Grey"
        },
        "yaxis4": {
         "anchor": "x4",
         "domain": [
          0,
          0.1365
         ],
         "gridcolor": "Gainsboro",
         "linecolor": "Grey"
        }
       }
      }
     },
     "metadata": {},
     "output_type": "display_data"
    },
    {
     "data": {
      "application/vnd.jupyter.widget-view+json": {
       "model_id": "dc4636eeaeb44503acf6a2b1e182667b",
       "version_major": 2,
       "version_minor": 0
      },
      "text/plain": [
       "FigureWidget({\n",
       "    'data': [{'close': array([8740.99, 8739.  , 8728.49, 8708.32, 8795.9 , 8760.  , 8760.  , 87…"
      ]
     },
     "metadata": {},
     "output_type": "display_data"
    },
    {
     "data": {
      "application/vnd.plotly.v1+json": {
       "config": {
        "plotlyServerURL": "https://plot.ly"
       },
       "data": [
        {
         "close": [
          8740.99,
          8739,
          8728.49,
          8708.32,
          8795.9,
          8760,
          8760,
          8759.23,
          8517.77,
          8520.3,
          8535.23,
          8546.34,
          8526.65,
          8555.6,
          8512.1,
          8492.28,
          8460,
          8474.99,
          8455.92,
          8326.28,
          8133.43,
          8164.79,
          8229.38,
          8220.4,
          8238.8,
          8232.99,
          8207.48,
          8243.45,
          8371.13,
          8373,
          8365.08,
          8179.99,
          8225,
          8285.8,
          8273.4,
          8297.4,
          8279.89,
          8252.72,
          8302.18,
          8295.85,
          8277.25,
          8346.59,
          8358.3,
          8375.1,
          8368.62,
          8366.72,
          8314.77,
          8363.7,
          8344.16,
          8247.4,
          8277.4,
          8291.67,
          8307.89,
          8298.9,
          8269.47,
          8300.98,
          8318.49,
          8306.39,
          8276.43,
          8257.69,
          8166,
          8176.33,
          8200.7,
          8155.41,
          8080,
          8067.03,
          7958.08,
          7974.25,
          7998.5,
          7991.99,
          8022.7,
          8042.97,
          7965.67,
          8088.95,
          8122.19,
          8107.99,
          8137.73,
          8115,
          8107,
          8094.4,
          8080.01,
          8117.09,
          8126.99,
          8110.95,
          8215.39,
          8231.42,
          8240.13,
          8235,
          8219.9,
          8248.87,
          8213.5,
          8200.99,
          8200,
          8237.3,
          8228.13,
          8240.83,
          8214.9,
          8170.07,
          8229.87,
          8205.87,
          8252.56,
          8365,
          8348.65,
          8303.99,
          8310.48,
          8310,
          8289.87,
          8304.99,
          8301.35,
          8313.12,
          8240.07,
          8199.99,
          8226.98,
          8231.2,
          8198.89,
          8215.85,
          8279.99,
          8255.08,
          8270.4,
          8244.24,
          8239.12
         ],
         "high": [
          8796.68,
          8766,
          8750.27,
          8754.4,
          8865,
          8821.19,
          8798.6,
          8771.02,
          8761.7,
          8553.67,
          8589.1,
          8579.48,
          8555.51,
          8583.6,
          8569.92,
          8555.54,
          8557.51,
          8505,
          8505.33,
          8478.29,
          8339.81,
          8217.44,
          8252.72,
          8248.63,
          8267.12,
          8255,
          8261.24,
          8263.93,
          8455.66,
          8439.44,
          8399.1,
          8381.73,
          8229.91,
          8377.29,
          8329.1,
          8350,
          8346.95,
          8377.29,
          8311.35,
          8319.96,
          8398.24,
          8372.58,
          8399.99,
          8386.53,
          8400,
          8500,
          8381,
          8371.3,
          8382.41,
          8351,
          8292.99,
          8325.8,
          8318.99,
          8324.9,
          8335.56,
          8309.4,
          8377.29,
          8330.41,
          8328.23,
          8284.36,
          8274.83,
          8200,
          8232.14,
          8213.97,
          8155.41,
          8108.28,
          8068.92,
          8019.9,
          8026.66,
          8025,
          8104.69,
          8061.39,
          8045.99,
          8170.71,
          8144.16,
          8139.99,
          8152.99,
          8137.73,
          8143.72,
          8129.99,
          8106.76,
          8139,
          8152.04,
          8146.99,
          8232.14,
          8275.1,
          8256.12,
          8274.1,
          8255.8,
          8253.97,
          8261.09,
          8235.76,
          8227,
          8273.36,
          8264.21,
          8250,
          8250.86,
          8235.77,
          8232.12,
          8232.14,
          8252.72,
          8370,
          8395,
          8374.48,
          8331,
          8319.43,
          8323.4,
          8314.55,
          8330.62,
          8314.8,
          8323.99,
          8263.03,
          8247.78,
          8253.75,
          8237.89,
          8235,
          8279.99,
          8290,
          8278.71,
          8275.34,
          8279.31
         ],
         "low": [
          8707.28,
          8721.11,
          8660.53,
          8701.35,
          8695.11,
          8740.54,
          8741.52,
          8700,
          8467.42,
          8477.89,
          8500.78,
          8500,
          8400,
          8451.05,
          8461.38,
          8481.24,
          8420.37,
          8450,
          8430.94,
          8275.02,
          8100.01,
          8122.56,
          8157.01,
          8166.25,
          8176.91,
          8213.79,
          8200,
          8207.48,
          8237.1,
          8370,
          8356.4,
          8145.1,
          8173.6,
          8211.8,
          8201,
          8250.9,
          8266.46,
          8252.72,
          8232.14,
          8268.37,
          8277.25,
          8277.25,
          8314.78,
          8314.77,
          8350.07,
          8331.39,
          8314.77,
          8275.45,
          8335.49,
          8191.14,
          8227.7,
          8264.13,
          8249.93,
          8269.52,
          8219.44,
          8262.68,
          8286.65,
          8289.87,
          8232.14,
          8232.14,
          8110.02,
          8154.95,
          8168.6,
          8151,
          7980,
          8005.95,
          7929.53,
          7931.03,
          7950,
          7980.58,
          7991.99,
          7992.75,
          7953.4,
          7965.67,
          8085.94,
          8078.48,
          8092.9,
          8049.22,
          8079.46,
          8062.12,
          8043.96,
          8063.1,
          8088.46,
          8094.43,
          8088.46,
          8191.14,
          8212,
          8224.5,
          8211,
          8211.01,
          8210.03,
          8158.27,
          8177.65,
          8179.41,
          8221.92,
          8217.32,
          8213.52,
          8141.08,
          8146.1,
          8186.03,
          8197.09,
          8231.21,
          8323.82,
          8296,
          8296.31,
          8282.65,
          8280,
          8273.36,
          8290.08,
          8277.93,
          8240.07,
          8191.14,
          8178,
          8193.7,
          8180,
          8170.71,
          8215.53,
          8240.02,
          8237.17,
          8237.17,
          8239.12
         ],
         "name": "Price",
         "open": [
          8733.86,
          8740.99,
          8739,
          8728.49,
          8708.32,
          8795.9,
          8760,
          8760,
          8759.23,
          8517.77,
          8520.3,
          8535.23,
          8546.34,
          8526.65,
          8555.6,
          8512.1,
          8492.28,
          8460,
          8474.99,
          8455.92,
          8326.28,
          8133.43,
          8164.79,
          8229.38,
          8220.4,
          8238.8,
          8232.99,
          8207.48,
          8243.45,
          8371.13,
          8373,
          8365.08,
          8179.99,
          8225,
          8285.8,
          8273.4,
          8297.4,
          8279.89,
          8252.72,
          8302.18,
          8295.85,
          8277.25,
          8346.59,
          8358.3,
          8375.1,
          8368.62,
          8366.72,
          8314.77,
          8363.7,
          8344.16,
          8247.4,
          8277.4,
          8291.67,
          8307.89,
          8298.9,
          8269.47,
          8300.98,
          8318.49,
          8306.39,
          8276.43,
          8257.69,
          8166,
          8176.33,
          8200.7,
          8155.41,
          8080,
          8067.03,
          7958.08,
          7974.25,
          7998.5,
          7991.99,
          8022.7,
          8042.97,
          7965.67,
          8088.95,
          8122.19,
          8107.99,
          8137.73,
          8115,
          8107,
          8094.4,
          8080.01,
          8117.09,
          8126.99,
          8110.95,
          8215.39,
          8231.42,
          8240.13,
          8235,
          8219.9,
          8248.87,
          8213.5,
          8200.99,
          8200,
          8237.3,
          8228.13,
          8240.83,
          8214.9,
          8170.07,
          8229.87,
          8205.87,
          8252.56,
          8365,
          8348.65,
          8303.99,
          8310.48,
          8310,
          8289.87,
          8304.99,
          8301.35,
          8313.12,
          8240.07,
          8199.99,
          8226.98,
          8231.2,
          8198.89,
          8215.85,
          8279.99,
          8255.08,
          8270.4,
          8244.24
         ],
         "showlegend": false,
         "type": "candlestick",
         "uid": "8c6d8a56-07c4-4131-a4c8-63193c8a8ccd",
         "xaxis": "x",
         "yaxis": "y"
        },
        {
         "marker": {
          "color": "DodgerBlue"
         },
         "name": "Volume",
         "showlegend": false,
         "type": "bar",
         "uid": "145b46e2-d412-4928-981a-553342a3477e",
         "xaxis": "x2",
         "y": [
          559.93,
          273.58,
          917.79,
          182.62,
          1260.69,
          324.11,
          324.2,
          730.67,
          1341.75,
          792.07,
          385.69,
          475.08,
          877.26,
          670.49,
          610.97,
          168.99,
          305.92,
          136.05,
          154.26,
          1070.93,
          1710.2,
          492.8,
          630.72,
          620.93,
          586.34,
          304.52,
          450.97,
          182.36,
          915.32,
          319.29,
          362.01,
          1046.38,
          357.91,
          561.2,
          322.53,
          1073.71,
          237.21,
          251.2,
          359.73,
          117.23,
          363.17,
          214.18,
          171.64,
          258.58,
          299.52,
          718.98,
          119.7,
          405.25,
          210.77,
          714.82,
          215.97,
          164.2,
          201.55,
          203.41,
          886.82,
          95.49,
          499.67,
          172.77,
          355.39,
          255.27,
          591.06,
          133.1,
          149.13,
          87.55,
          1061.54,
          286.94,
          524.42,
          316,
          441.43,
          189.7,
          844.94,
          155.34,
          257.56,
          610.69,
          217.97,
          173.18,
          218.06,
          372.97,
          484.39,
          248.1,
          162.35,
          303.42,
          290.69,
          160.93,
          369.4,
          487.27,
          93.35,
          96.68,
          72.14,
          90.22,
          168.52,
          203.15,
          71.42,
          464.56,
          57,
          89.42,
          49.47,
          200.05,
          254.37,
          65.05,
          118.19,
          452.4,
          181.03,
          288.04,
          145.78,
          110.14,
          55.48,
          80.87,
          67.01,
          59.16,
          121.26,
          244.37,
          156.87,
          80.48,
          139.32,
          93.52,
          200.23,
          97.4,
          68.08,
          47,
          36.65
         ],
         "yaxis": "y2"
        },
        {
         "mode": "lines",
         "name": "bitstamp:/USD-BTC",
         "type": "scatter",
         "uid": "8c525a7c-7cb9-4397-bed8-bf45f03e8a5f",
         "xaxis": "x3",
         "y": [
          8740.99,
          8739,
          8728.49,
          8708.32,
          8795.9,
          8760,
          8760,
          8759.23,
          8517.77,
          8520.3,
          8535.23,
          8546.34,
          8526.65,
          8555.6,
          8512.1,
          8492.28,
          8460,
          8474.99,
          8455.92,
          8326.28,
          8133.43,
          8164.79,
          8229.38,
          8220.4,
          8238.8,
          8232.99,
          8207.48,
          8243.45,
          8371.13,
          8373,
          8365.08,
          8179.99,
          8225,
          8285.8,
          8273.4,
          8297.4,
          8279.89,
          8252.72,
          8302.18,
          8295.85,
          8277.25,
          8346.59,
          8358.3,
          8375.1,
          8368.62,
          8366.72,
          8314.77,
          8363.7,
          8344.16,
          8247.4,
          8277.4,
          8291.67,
          8307.89,
          8298.9,
          8269.47,
          8300.98,
          8318.49,
          8306.39,
          8276.43,
          8257.69,
          8166,
          8176.33,
          8200.7,
          8155.41,
          8080,
          8067.03,
          7958.08,
          7974.25,
          7998.5,
          7991.99,
          8022.7,
          8042.97,
          7965.67,
          8088.95,
          8122.19,
          8107.99,
          8137.73,
          8115,
          8107,
          8094.4,
          8080.01,
          8117.09,
          8126.99,
          8110.95,
          8215.39,
          8231.42,
          8240.13,
          8235,
          8219.9,
          8248.87,
          8213.5,
          8200.99,
          8200,
          8237.3,
          8228.13,
          8240.83,
          8214.9,
          8170.07,
          8229.87,
          8205.87,
          8252.56,
          8365,
          8348.65,
          8303.99,
          8310.48,
          8310,
          8289.87,
          8304.99,
          8301.35,
          8313.12,
          8240.07,
          8199.99,
          8226.98,
          8231.2,
          8198.89,
          8215.85,
          8279.99,
          8255.08,
          8270.4,
          8244.24,
          8239.12
         ],
         "yaxis": "y3"
        },
        {
         "mode": "lines",
         "name": "bitstamp:/USD:/free",
         "type": "scatter",
         "uid": "401294ed-928f-428f-a642-2b39c2a3ff21",
         "xaxis": "x3",
         "y": [
          10000,
          10000,
          10000,
          2000,
          2000,
          2000,
          2000,
          2000,
          2000,
          9760.1,
          2928.03,
          878.41,
          878.41,
          878.41,
          878.41,
          878.41,
          878.41,
          878.41,
          878.41,
          878.41,
          878.41,
          9302.62,
          0,
          0,
          0,
          0,
          0,
          0,
          0,
          0,
          0,
          0,
          0,
          0,
          0,
          0,
          0,
          0,
          0,
          0,
          0,
          0,
          0,
          0,
          0,
          0,
          0,
          0,
          0,
          0,
          0,
          0,
          0,
          0,
          0,
          0,
          0,
          0,
          0,
          0,
          0,
          0,
          0,
          0,
          0,
          0,
          0,
          0,
          0,
          0,
          0,
          0,
          0,
          0,
          0,
          0,
          0,
          0,
          0,
          0,
          0,
          0,
          0,
          0,
          0,
          0,
          0,
          0,
          0,
          0,
          0,
          0,
          0,
          0,
          0,
          0,
          0,
          0,
          0,
          0,
          0,
          0,
          0,
          0,
          0,
          0,
          0,
          0,
          0,
          0,
          0,
          0,
          0,
          0,
          0,
          0,
          0,
          0,
          0,
          0,
          0
         ],
         "yaxis": "y3"
        },
        {
         "mode": "lines",
         "name": "bitstamp:/USD:/locked",
         "type": "scatter",
         "uid": "2aef03b6-c4ff-49c5-a389-faa69b1e2dd5",
         "xaxis": "x3",
         "y": [
          0,
          0,
          0,
          0,
          0,
          0,
          0,
          0,
          0,
          0,
          0,
          0,
          0,
          0,
          0,
          0,
          0,
          0,
          0,
          0,
          0,
          0,
          0,
          0,
          0,
          0,
          0,
          0,
          0,
          0,
          0,
          0,
          0,
          0,
          0,
          0,
          0,
          0,
          0,
          0,
          0,
          0,
          0,
          0,
          0,
          0,
          0,
          0,
          0,
          0,
          0,
          0,
          0,
          0,
          0,
          0,
          0,
          0,
          0,
          0,
          0,
          0,
          0,
          0,
          0,
          0,
          0,
          0,
          0,
          0,
          0,
          0,
          0,
          0,
          0,
          0,
          0,
          0,
          0,
          0,
          0,
          0,
          0,
          0,
          0,
          0,
          0,
          0,
          0,
          0,
          0,
          0,
          0,
          0,
          0,
          0,
          0,
          0,
          0,
          0,
          0,
          0,
          0,
          0,
          0,
          0,
          0,
          0,
          0,
          0,
          0,
          0,
          0,
          0,
          0,
          0,
          0,
          0,
          0,
          0,
          0
         ],
         "yaxis": "y3"
        },
        {
         "mode": "lines",
         "name": "bitstamp:/USD:/total",
         "type": "scatter",
         "uid": "1cfdc07a-0fb3-45f5-8ac0-46485deef13b",
         "xaxis": "x3",
         "y": [
          10000,
          10000,
          10000,
          2000,
          2000,
          2000,
          2000,
          2000,
          2000,
          9760.1,
          2928.03,
          878.41,
          878.41,
          878.41,
          878.41,
          878.41,
          878.41,
          878.41,
          878.41,
          878.41,
          878.41,
          9302.62,
          0,
          0,
          0,
          0,
          0,
          0,
          0,
          0,
          0,
          0,
          0,
          0,
          0,
          0,
          0,
          0,
          0,
          0,
          0,
          0,
          0,
          0,
          0,
          0,
          0,
          0,
          0,
          0,
          0,
          0,
          0,
          0,
          0,
          0,
          0,
          0,
          0,
          0,
          0,
          0,
          0,
          0,
          0,
          0,
          0,
          0,
          0,
          0,
          0,
          0,
          0,
          0,
          0,
          0,
          0,
          0,
          0,
          0,
          0,
          0,
          0,
          0,
          0,
          0,
          0,
          0,
          0,
          0,
          0,
          0,
          0,
          0,
          0,
          0,
          0,
          0,
          0,
          0,
          0,
          0,
          0,
          0,
          0,
          0,
          0,
          0,
          0,
          0,
          0,
          0,
          0,
          0,
          0,
          0,
          0,
          0,
          0,
          0,
          0
         ],
         "yaxis": "y3"
        },
        {
         "mode": "lines",
         "name": "bitstamp:/BTC:/free",
         "type": "scatter",
         "uid": "6f75c785-6a85-4a93-88f3-23bc8f1b0896",
         "xaxis": "x3",
         "y": [
          10,
          10,
          10,
          10,
          10,
          10,
          10,
          10,
          10,
          10,
          10,
          10,
          10,
          10,
          10,
          10,
          10,
          10,
          10,
          10,
          10,
          10,
          10,
          10,
          10,
          10,
          10,
          10,
          10,
          10,
          10,
          10,
          10,
          10,
          10,
          10,
          10,
          10,
          10,
          10,
          10,
          10,
          10,
          10,
          10,
          10,
          10,
          10,
          10,
          10,
          10,
          10,
          10,
          10,
          10,
          10,
          10,
          10,
          10,
          10,
          10,
          10,
          10,
          10,
          10,
          10,
          10,
          10,
          10,
          10,
          10,
          10,
          10,
          10,
          10,
          10,
          10,
          10,
          10,
          10,
          10,
          10,
          10,
          10,
          10,
          10,
          10,
          10,
          10,
          10,
          10,
          10,
          10,
          10,
          10,
          10,
          10,
          10,
          10,
          10,
          10,
          10,
          10,
          10,
          10,
          10,
          10,
          10,
          10,
          10,
          10,
          10,
          10,
          10,
          10,
          10,
          10,
          10,
          10,
          10,
          10
         ],
         "yaxis": "y3"
        },
        {
         "mode": "lines",
         "name": "bitstamp:/BTC:/locked",
         "type": "scatter",
         "uid": "ba02f11e-201e-468a-9ae6-fb1561982cfe",
         "xaxis": "x3",
         "y": [
          0,
          0,
          0,
          0.91378921,
          0.91378921,
          0.91378921,
          0.91378921,
          0.91378921,
          0.91378921,
          0,
          0.7994519,
          1.03886783,
          1.03886783,
          1.03886783,
          1.03886783,
          1.03886783,
          1.03886783,
          1.03886783,
          1.03886783,
          1.03886783,
          1.03886783,
          0,
          1.13593981,
          1.13593981,
          1.13593981,
          1.13593981,
          1.13593981,
          1.13593981,
          1.13593981,
          1.13593981,
          1.13593981,
          1.13593981,
          1.13593981,
          1.13593981,
          1.13593981,
          1.13593981,
          1.13593981,
          1.13593981,
          1.13593981,
          1.13593981,
          1.13593981,
          1.13593981,
          1.13593981,
          1.13593981,
          1.13593981,
          1.13593981,
          1.13593981,
          1.13593981,
          1.13593981,
          1.13593981,
          1.13593981,
          1.13593981,
          1.13593981,
          1.13593981,
          1.13593981,
          1.13593981,
          1.13593981,
          1.13593981,
          1.13593981,
          1.13593981,
          1.13593981,
          1.13593981,
          1.13593981,
          1.13593981,
          1.13593981,
          1.13593981,
          1.13593981,
          1.13593981,
          1.13593981,
          1.13593981,
          1.13593981,
          1.13593981,
          1.13593981,
          1.13593981,
          1.13593981,
          1.13593981,
          1.13593981,
          1.13593981,
          1.13593981,
          1.13593981,
          1.13593981,
          1.13593981,
          1.13593981,
          1.13593981,
          1.13593981,
          1.13593981,
          1.13593981,
          1.13593981,
          1.13593981,
          1.13593981,
          1.13593981,
          1.13593981,
          1.13593981,
          1.13593981,
          1.13593981,
          1.13593981,
          1.13593981,
          1.13593981,
          1.13593981,
          1.13593981,
          1.13593981,
          1.13593981,
          1.13593981,
          1.13593981,
          1.13593981,
          1.13593981,
          1.13593981,
          1.13593981,
          1.13593981,
          1.13593981,
          1.13593981,
          1.13593981,
          1.13593981,
          1.13593981,
          1.13593981,
          1.13593981,
          1.13593981,
          1.13593981,
          1.13593981,
          1.13593981,
          1.13593981
         ],
         "yaxis": "y3"
        },
        {
         "mode": "lines",
         "name": "bitstamp:/BTC:/total",
         "type": "scatter",
         "uid": "db06df65-6739-42e7-9218-1600ec083b58",
         "xaxis": "x3",
         "y": [
          10,
          10,
          10,
          10.91378921,
          10.91378921,
          10.91378921,
          10.91378921,
          10.91378921,
          10.91378921,
          10,
          10.7994519,
          11.03886783,
          11.03886783,
          11.03886783,
          11.03886783,
          11.03886783,
          11.03886783,
          11.03886783,
          11.03886783,
          11.03886783,
          11.03886783,
          10,
          11.13593981,
          11.13593981,
          11.13593981,
          11.13593981,
          11.13593981,
          11.13593981,
          11.13593981,
          11.13593981,
          11.13593981,
          11.13593981,
          11.13593981,
          11.13593981,
          11.13593981,
          11.13593981,
          11.13593981,
          11.13593981,
          11.13593981,
          11.13593981,
          11.13593981,
          11.13593981,
          11.13593981,
          11.13593981,
          11.13593981,
          11.13593981,
          11.13593981,
          11.13593981,
          11.13593981,
          11.13593981,
          11.13593981,
          11.13593981,
          11.13593981,
          11.13593981,
          11.13593981,
          11.13593981,
          11.13593981,
          11.13593981,
          11.13593981,
          11.13593981,
          11.13593981,
          11.13593981,
          11.13593981,
          11.13593981,
          11.13593981,
          11.13593981,
          11.13593981,
          11.13593981,
          11.13593981,
          11.13593981,
          11.13593981,
          11.13593981,
          11.13593981,
          11.13593981,
          11.13593981,
          11.13593981,
          11.13593981,
          11.13593981,
          11.13593981,
          11.13593981,
          11.13593981,
          11.13593981,
          11.13593981,
          11.13593981,
          11.13593981,
          11.13593981,
          11.13593981,
          11.13593981,
          11.13593981,
          11.13593981,
          11.13593981,
          11.13593981,
          11.13593981,
          11.13593981,
          11.13593981,
          11.13593981,
          11.13593981,
          11.13593981,
          11.13593981,
          11.13593981,
          11.13593981,
          11.13593981,
          11.13593981,
          11.13593981,
          11.13593981,
          11.13593981,
          11.13593981,
          11.13593981,
          11.13593981,
          11.13593981,
          11.13593981,
          11.13593981,
          11.13593981,
          11.13593981,
          11.13593981,
          11.13593981,
          11.13593981,
          11.13593981,
          11.13593981,
          11.13593981,
          11.13593981
         ],
         "yaxis": "y3"
        },
        {
         "mode": "lines",
         "name": "bitstamp:/BTC:/worth",
         "type": "scatter",
         "uid": "00269ee4-5684-47d5-acbb-521c67b732c8",
         "xaxis": "x3",
         "y": [
          87409.9,
          87390,
          87284.9,
          95040.76885322719,
          95996.59851223898,
          95604.79347959999,
          95604.79347959999,
          95596.38986190829,
          92961.1463192617,
          85203,
          92175.805840437,
          94341.91769024219,
          94124.5623826695,
          94444.137606348,
          93963.946855743,
          93745.1564953524,
          93388.82184179999,
          93554.2944705717,
          93343.7832610536,
          91912.7044355724,
          89783.8587745569,
          81647.9,
          91641.88035361779,
          91541.879614124,
          91746.78090662799,
          91682.0810963319,
          91398.0032717788,
          91798.56302674451,
          93220.39982168529,
          93241.22402913,
          93153.0273858348,
          91091.8762864019,
          91593.10493725,
          92270.17007769799,
          92132.084424054,
          92399.346979494,
          92204.35667342089,
          91901.7931887832,
          92452.5767717858,
          92382.08627278851,
          92174.9577923225,
          92947.1238587479,
          93077.525713923,
          93264.60950273101,
          93192.44861276221,
          93171.29032712319,
          92592.7782539937,
          93137.65978889701,
          92920.0635250096,
          91842.549988994,
          92176.628183294,
          92335.5380443827,
          92516.1629881009,
          92416.050889209,
          92088.3201806007,
          92439.2136440138,
          92634.2039500869,
          92499.45907838589,
          92165.82632167831,
          91957.13880963891,
          90936.08448846,
          91051.1187466973,
          91322.50159986701,
          90818.15488587209,
          89978.3936648,
          89833.9605254643,
          88620.6998831648,
          88800.7680298925,
          89070.814570285,
          88998.3196021219,
          89340.304313687,
          89566.0298136357,
          88705.2216663227,
          90078.0603260995,
          90448.2189653839,
          90290.0886200819,
          90621.2714700313,
          90368.15155815,
          90279.06403967,
          90138.751198064,
          89978.50502419811,
          90391.4256723529,
          90501.67147647189,
          90323.05100191949,
          91486.08855567589,
          91664.5976708302,
          91761.59170657529,
          91704.46433535,
          91536.311644219,
          91858.91982051471,
          91465.041629435,
          91325.7310224119,
          91314.706442,
          91730.07699691299,
          91627.9604288553,
          91769.3868644423,
          91480.63194516899,
          90981.4077634867,
          91647.33696412471,
          91380.07440868471,
          91900.0114384136,
          93152.13651065,
          92970.0638947565,
          92472.73282284189,
          92545.00507220879,
          92539.6598211,
          92315.4933527247,
          92483.8687626519,
          92443.3339417435,
          92574.4039533072,
          91760.9235501867,
          91314.5950826019,
          91615.15409807379,
          91662.14776407201,
          91302.34554881089,
          91491.2110879885,
          92205.47026740189,
          91928.0740067348,
          92098.676604624,
          91807.3604191944,
          91750.34440736721
         ],
         "yaxis": "y3"
        },
        {
         "mode": "lines",
         "name": "net_worth",
         "type": "scatter",
         "uid": "c6aa695d-58af-49d4-a325-d546bfdc6beb",
         "xaxis": "x3",
         "y": [
          97409.9,
          97390,
          97284.9,
          97040.76885322719,
          97996.59851223898,
          97604.79347959999,
          97604.79347959999,
          97596.38986190829,
          94961.1463192617,
          94963.1,
          95103.835840437,
          95220.3276902422,
          95002.9723826695,
          95322.547606348,
          94842.356855743,
          94623.56649535241,
          94267.23184179999,
          94432.7044705717,
          94222.1932610536,
          92791.11443557241,
          90662.2687745569,
          90950.51999999999,
          91641.88035361779,
          91541.879614124,
          91746.78090662799,
          91682.0810963319,
          91398.0032717788,
          91798.56302674451,
          93220.39982168529,
          93241.22402913,
          93153.0273858348,
          91091.8762864019,
          91593.10493725,
          92270.17007769799,
          92132.084424054,
          92399.346979494,
          92204.35667342089,
          91901.7931887832,
          92452.5767717858,
          92382.08627278851,
          92174.9577923225,
          92947.1238587479,
          93077.525713923,
          93264.60950273101,
          93192.44861276221,
          93171.29032712319,
          92592.7782539937,
          93137.65978889701,
          92920.0635250096,
          91842.549988994,
          92176.628183294,
          92335.5380443827,
          92516.1629881009,
          92416.050889209,
          92088.3201806007,
          92439.2136440138,
          92634.2039500869,
          92499.45907838589,
          92165.82632167831,
          91957.13880963891,
          90936.08448846,
          91051.1187466973,
          91322.50159986701,
          90818.15488587209,
          89978.3936648,
          89833.9605254643,
          88620.6998831648,
          88800.7680298925,
          89070.814570285,
          88998.3196021219,
          89340.304313687,
          89566.0298136357,
          88705.2216663227,
          90078.0603260995,
          90448.2189653839,
          90290.0886200819,
          90621.2714700313,
          90368.15155815,
          90279.06403967,
          90138.751198064,
          89978.50502419811,
          90391.4256723529,
          90501.67147647189,
          90323.05100191949,
          91486.08855567589,
          91664.5976708302,
          91761.59170657529,
          91704.46433535,
          91536.311644219,
          91858.91982051471,
          91465.041629435,
          91325.7310224119,
          91314.706442,
          91730.07699691299,
          91627.9604288553,
          91769.3868644423,
          91480.63194516899,
          90981.4077634867,
          91647.33696412471,
          91380.07440868471,
          91900.0114384136,
          93152.13651065,
          92970.0638947565,
          92472.73282284189,
          92545.00507220879,
          92539.6598211,
          92315.4933527247,
          92483.8687626519,
          92443.3339417435,
          92574.4039533072,
          91760.9235501867,
          91314.5950826019,
          91615.15409807379,
          91662.14776407201,
          91302.34554881089,
          91491.2110879885,
          92205.47026740189,
          91928.0740067348,
          92098.676604624,
          91807.3604191944,
          91750.34440736721
         ],
         "yaxis": "y3"
        },
        {
         "marker": {
          "color": "DarkGreen"
         },
         "mode": "lines",
         "name": "Net Worth",
         "type": "scatter",
         "uid": "425ac698-5938-4ce2-abd8-e4fb972b4a58",
         "xaxis": "x4",
         "y": [
          97409.9,
          97390,
          97284.9,
          97040.76885322719,
          97996.59851223898,
          97604.79347959999,
          97604.79347959999,
          97596.38986190829,
          94961.1463192617,
          94963.1,
          95103.835840437,
          95220.3276902422,
          95002.9723826695,
          95322.547606348,
          94842.356855743,
          94623.56649535241,
          94267.23184179999,
          94432.7044705717,
          94222.1932610536,
          92791.11443557241,
          90662.2687745569,
          90950.51999999999,
          91641.88035361779,
          91541.879614124,
          91746.78090662799,
          91682.0810963319,
          91398.0032717788,
          91798.56302674451,
          93220.39982168529,
          93241.22402913,
          93153.0273858348,
          91091.8762864019,
          91593.10493725,
          92270.17007769799,
          92132.084424054,
          92399.346979494,
          92204.35667342089,
          91901.7931887832,
          92452.5767717858,
          92382.08627278851,
          92174.9577923225,
          92947.1238587479,
          93077.525713923,
          93264.60950273101,
          93192.44861276221,
          93171.29032712319,
          92592.7782539937,
          93137.65978889701,
          92920.0635250096,
          91842.549988994,
          92176.628183294,
          92335.5380443827,
          92516.1629881009,
          92416.050889209,
          92088.3201806007,
          92439.2136440138,
          92634.2039500869,
          92499.45907838589,
          92165.82632167831,
          91957.13880963891,
          90936.08448846,
          91051.1187466973,
          91322.50159986701,
          90818.15488587209,
          89978.3936648,
          89833.9605254643,
          88620.6998831648,
          88800.7680298925,
          89070.814570285,
          88998.3196021219,
          89340.304313687,
          89566.0298136357,
          88705.2216663227,
          90078.0603260995,
          90448.2189653839,
          90290.0886200819,
          90621.2714700313,
          90368.15155815,
          90279.06403967,
          90138.751198064,
          89978.50502419811,
          90391.4256723529,
          90501.67147647189,
          90323.05100191949,
          91486.08855567589,
          91664.5976708302,
          91761.59170657529,
          91704.46433535,
          91536.311644219,
          91858.91982051471,
          91465.041629435,
          91325.7310224119,
          91314.706442,
          91730.07699691299,
          91627.9604288553,
          91769.3868644423,
          91480.63194516899,
          90981.4077634867,
          91647.33696412471,
          91380.07440868471,
          91900.0114384136,
          93152.13651065,
          92970.0638947565,
          92472.73282284189,
          92545.00507220879,
          92539.6598211,
          92315.4933527247,
          92483.8687626519,
          92443.3339417435,
          92574.4039533072,
          91760.9235501867,
          91314.5950826019,
          91615.15409807379,
          91662.14776407201,
          91302.34554881089,
          91491.2110879885,
          92205.47026740189,
          91928.0740067348,
          92098.676604624,
          91807.3604191944,
          91750.34440736721
         ],
         "yaxis": "y4"
        }
       ],
       "layout": {
        "annotations": [
         {
          "arrowcolor": "DarkGreen",
          "arrowhead": 2,
          "arrowsize": 0.8,
          "arrowwidth": 4,
          "ax": 0,
          "ay": 15,
          "hoverlabel": {
           "bgcolor": "DarkGreen"
          },
          "hovertext": "Step 11 [2018-05-15 16:00:00]<br>BUY 0.23941593 BTC @ 8535.23 USD MARKET<br>Total: 2043.47 USD - Comm.: 6.15 USD",
          "opacity": 0.6,
          "showarrow": true,
          "x": 10,
          "xref": "x",
          "y": 8535.23,
          "yref": "y"
         },
         {
          "arrowcolor": "DarkGreen",
          "arrowhead": 2,
          "arrowsize": 0.8,
          "arrowwidth": 4,
          "ax": 0,
          "ay": 15,
          "hoverlabel": {
           "bgcolor": "DarkGreen"
          },
          "hovertext": "Step 10 [2018-05-15 15:00:00]<br>BUY 0.7994519 BTC @ 8520.3 USD MARKET<br>Total: 6811.57 USD - Comm.: 20.50 USD",
          "opacity": 0.6,
          "showarrow": true,
          "x": 9,
          "xref": "x",
          "y": 8520.3,
          "yref": "y"
         },
         {
          "arrowcolor": "FireBrick",
          "arrowhead": 2,
          "arrowsize": 0.8,
          "arrowwidth": 4,
          "ax": 0,
          "ay": -15,
          "hoverlabel": {
           "bgcolor": "FireBrick"
          },
          "hovertext": "Step 9 [2018-05-15 14:00:00]<br>SELL 0.91104784 BTC @ 8517.77 USD MARKET<br>Total: 7760.1 USD - Comm.: 0.00274137 BTC",
          "opacity": 0.6,
          "showarrow": true,
          "x": 8,
          "xref": "x",
          "y": 8517.77,
          "yref": "y"
         },
         {
          "arrowcolor": "DarkGreen",
          "arrowhead": 2,
          "arrowsize": 0.8,
          "arrowwidth": 4,
          "ax": 0,
          "ay": 15,
          "hoverlabel": {
           "bgcolor": "DarkGreen"
          },
          "hovertext": "Step 3 [2018-05-15 08:00:00]<br>BUY 0.91378921 BTC @ 8728.49 USD MARKET<br>Total: 7976.0 USD - Comm.: 24.00 USD",
          "opacity": 0.6,
          "showarrow": true,
          "x": 2,
          "xref": "x",
          "y": 8728.49,
          "yref": "y"
         },
         {
          "arrowcolor": "DarkGreen",
          "arrowhead": 2,
          "arrowsize": 0.8,
          "arrowwidth": 4,
          "ax": 0,
          "ay": 15,
          "hoverlabel": {
           "bgcolor": "DarkGreen"
          },
          "hovertext": "Step 22 [2018-05-16 03:00:00]<br>BUY 1.13593981 BTC @ 8164.79 USD MARKET<br>Total: 9274.71 USD - Comm.: 27.91 USD",
          "opacity": 0.6,
          "showarrow": true,
          "x": 21,
          "xref": "x",
          "y": 8164.79,
          "yref": "y"
         },
         {
          "arrowcolor": "FireBrick",
          "arrowhead": 2,
          "arrowsize": 0.8,
          "arrowwidth": 4,
          "ax": 0,
          "ay": -15,
          "hoverlabel": {
           "bgcolor": "FireBrick"
          },
          "hovertext": "Step 21 [2018-05-16 02:00:00]<br>SELL 0.23869768 BTC @ 8133.43 USD MARKET<br>Total: 1941.43 USD - Comm.: 0.00071825 BTC",
          "opacity": 0.6,
          "showarrow": true,
          "x": 20,
          "xref": "x",
          "y": 8133.43,
          "yref": "y"
         },
         {
          "arrowcolor": "FireBrick",
          "arrowhead": 2,
          "arrowsize": 0.8,
          "arrowwidth": 4,
          "ax": 0,
          "ay": -15,
          "hoverlabel": {
           "bgcolor": "FireBrick"
          },
          "hovertext": "Step 21 [2018-05-16 02:00:00]<br>SELL 0.79705354 BTC @ 8133.43 USD MARKET<br>Total: 6482.78 USD - Comm.: 0.00239836 BTC",
          "opacity": 0.6,
          "showarrow": true,
          "x": 20,
          "xref": "x",
          "y": 8133.43,
          "yref": "y"
         }
        ],
        "margin": {
         "t": 50
        },
        "template": {
         "data": {
          "bar": [
           {
            "error_x": {
             "color": "#2a3f5f"
            },
            "error_y": {
             "color": "#2a3f5f"
            },
            "marker": {
             "line": {
              "color": "white",
              "width": 0.5
             },
             "pattern": {
              "fillmode": "overlay",
              "size": 10,
              "solidity": 0.2
             }
            },
            "type": "bar"
           }
          ],
          "barpolar": [
           {
            "marker": {
             "line": {
              "color": "white",
              "width": 0.5
             },
             "pattern": {
              "fillmode": "overlay",
              "size": 10,
              "solidity": 0.2
             }
            },
            "type": "barpolar"
           }
          ],
          "carpet": [
           {
            "aaxis": {
             "endlinecolor": "#2a3f5f",
             "gridcolor": "#C8D4E3",
             "linecolor": "#C8D4E3",
             "minorgridcolor": "#C8D4E3",
             "startlinecolor": "#2a3f5f"
            },
            "baxis": {
             "endlinecolor": "#2a3f5f",
             "gridcolor": "#C8D4E3",
             "linecolor": "#C8D4E3",
             "minorgridcolor": "#C8D4E3",
             "startlinecolor": "#2a3f5f"
            },
            "type": "carpet"
           }
          ],
          "choropleth": [
           {
            "colorbar": {
             "outlinewidth": 0,
             "ticks": ""
            },
            "type": "choropleth"
           }
          ],
          "contour": [
           {
            "colorbar": {
             "outlinewidth": 0,
             "ticks": ""
            },
            "colorscale": [
             [
              0,
              "#0d0887"
             ],
             [
              0.1111111111111111,
              "#46039f"
             ],
             [
              0.2222222222222222,
              "#7201a8"
             ],
             [
              0.3333333333333333,
              "#9c179e"
             ],
             [
              0.4444444444444444,
              "#bd3786"
             ],
             [
              0.5555555555555556,
              "#d8576b"
             ],
             [
              0.6666666666666666,
              "#ed7953"
             ],
             [
              0.7777777777777778,
              "#fb9f3a"
             ],
             [
              0.8888888888888888,
              "#fdca26"
             ],
             [
              1,
              "#f0f921"
             ]
            ],
            "type": "contour"
           }
          ],
          "contourcarpet": [
           {
            "colorbar": {
             "outlinewidth": 0,
             "ticks": ""
            },
            "type": "contourcarpet"
           }
          ],
          "heatmap": [
           {
            "colorbar": {
             "outlinewidth": 0,
             "ticks": ""
            },
            "colorscale": [
             [
              0,
              "#0d0887"
             ],
             [
              0.1111111111111111,
              "#46039f"
             ],
             [
              0.2222222222222222,
              "#7201a8"
             ],
             [
              0.3333333333333333,
              "#9c179e"
             ],
             [
              0.4444444444444444,
              "#bd3786"
             ],
             [
              0.5555555555555556,
              "#d8576b"
             ],
             [
              0.6666666666666666,
              "#ed7953"
             ],
             [
              0.7777777777777778,
              "#fb9f3a"
             ],
             [
              0.8888888888888888,
              "#fdca26"
             ],
             [
              1,
              "#f0f921"
             ]
            ],
            "type": "heatmap"
           }
          ],
          "heatmapgl": [
           {
            "colorbar": {
             "outlinewidth": 0,
             "ticks": ""
            },
            "colorscale": [
             [
              0,
              "#0d0887"
             ],
             [
              0.1111111111111111,
              "#46039f"
             ],
             [
              0.2222222222222222,
              "#7201a8"
             ],
             [
              0.3333333333333333,
              "#9c179e"
             ],
             [
              0.4444444444444444,
              "#bd3786"
             ],
             [
              0.5555555555555556,
              "#d8576b"
             ],
             [
              0.6666666666666666,
              "#ed7953"
             ],
             [
              0.7777777777777778,
              "#fb9f3a"
             ],
             [
              0.8888888888888888,
              "#fdca26"
             ],
             [
              1,
              "#f0f921"
             ]
            ],
            "type": "heatmapgl"
           }
          ],
          "histogram": [
           {
            "marker": {
             "pattern": {
              "fillmode": "overlay",
              "size": 10,
              "solidity": 0.2
             }
            },
            "type": "histogram"
           }
          ],
          "histogram2d": [
           {
            "colorbar": {
             "outlinewidth": 0,
             "ticks": ""
            },
            "colorscale": [
             [
              0,
              "#0d0887"
             ],
             [
              0.1111111111111111,
              "#46039f"
             ],
             [
              0.2222222222222222,
              "#7201a8"
             ],
             [
              0.3333333333333333,
              "#9c179e"
             ],
             [
              0.4444444444444444,
              "#bd3786"
             ],
             [
              0.5555555555555556,
              "#d8576b"
             ],
             [
              0.6666666666666666,
              "#ed7953"
             ],
             [
              0.7777777777777778,
              "#fb9f3a"
             ],
             [
              0.8888888888888888,
              "#fdca26"
             ],
             [
              1,
              "#f0f921"
             ]
            ],
            "type": "histogram2d"
           }
          ],
          "histogram2dcontour": [
           {
            "colorbar": {
             "outlinewidth": 0,
             "ticks": ""
            },
            "colorscale": [
             [
              0,
              "#0d0887"
             ],
             [
              0.1111111111111111,
              "#46039f"
             ],
             [
              0.2222222222222222,
              "#7201a8"
             ],
             [
              0.3333333333333333,
              "#9c179e"
             ],
             [
              0.4444444444444444,
              "#bd3786"
             ],
             [
              0.5555555555555556,
              "#d8576b"
             ],
             [
              0.6666666666666666,
              "#ed7953"
             ],
             [
              0.7777777777777778,
              "#fb9f3a"
             ],
             [
              0.8888888888888888,
              "#fdca26"
             ],
             [
              1,
              "#f0f921"
             ]
            ],
            "type": "histogram2dcontour"
           }
          ],
          "mesh3d": [
           {
            "colorbar": {
             "outlinewidth": 0,
             "ticks": ""
            },
            "type": "mesh3d"
           }
          ],
          "parcoords": [
           {
            "line": {
             "colorbar": {
              "outlinewidth": 0,
              "ticks": ""
             }
            },
            "type": "parcoords"
           }
          ],
          "pie": [
           {
            "automargin": true,
            "type": "pie"
           }
          ],
          "scatter": [
           {
            "marker": {
             "colorbar": {
              "outlinewidth": 0,
              "ticks": ""
             }
            },
            "type": "scatter"
           }
          ],
          "scatter3d": [
           {
            "line": {
             "colorbar": {
              "outlinewidth": 0,
              "ticks": ""
             }
            },
            "marker": {
             "colorbar": {
              "outlinewidth": 0,
              "ticks": ""
             }
            },
            "type": "scatter3d"
           }
          ],
          "scattercarpet": [
           {
            "marker": {
             "colorbar": {
              "outlinewidth": 0,
              "ticks": ""
             }
            },
            "type": "scattercarpet"
           }
          ],
          "scattergeo": [
           {
            "marker": {
             "colorbar": {
              "outlinewidth": 0,
              "ticks": ""
             }
            },
            "type": "scattergeo"
           }
          ],
          "scattergl": [
           {
            "marker": {
             "colorbar": {
              "outlinewidth": 0,
              "ticks": ""
             }
            },
            "type": "scattergl"
           }
          ],
          "scattermapbox": [
           {
            "marker": {
             "colorbar": {
              "outlinewidth": 0,
              "ticks": ""
             }
            },
            "type": "scattermapbox"
           }
          ],
          "scatterpolar": [
           {
            "marker": {
             "colorbar": {
              "outlinewidth": 0,
              "ticks": ""
             }
            },
            "type": "scatterpolar"
           }
          ],
          "scatterpolargl": [
           {
            "marker": {
             "colorbar": {
              "outlinewidth": 0,
              "ticks": ""
             }
            },
            "type": "scatterpolargl"
           }
          ],
          "scatterternary": [
           {
            "marker": {
             "colorbar": {
              "outlinewidth": 0,
              "ticks": ""
             }
            },
            "type": "scatterternary"
           }
          ],
          "surface": [
           {
            "colorbar": {
             "outlinewidth": 0,
             "ticks": ""
            },
            "colorscale": [
             [
              0,
              "#0d0887"
             ],
             [
              0.1111111111111111,
              "#46039f"
             ],
             [
              0.2222222222222222,
              "#7201a8"
             ],
             [
              0.3333333333333333,
              "#9c179e"
             ],
             [
              0.4444444444444444,
              "#bd3786"
             ],
             [
              0.5555555555555556,
              "#d8576b"
             ],
             [
              0.6666666666666666,
              "#ed7953"
             ],
             [
              0.7777777777777778,
              "#fb9f3a"
             ],
             [
              0.8888888888888888,
              "#fdca26"
             ],
             [
              1,
              "#f0f921"
             ]
            ],
            "type": "surface"
           }
          ],
          "table": [
           {
            "cells": {
             "fill": {
              "color": "#EBF0F8"
             },
             "line": {
              "color": "white"
             }
            },
            "header": {
             "fill": {
              "color": "#C8D4E3"
             },
             "line": {
              "color": "white"
             }
            },
            "type": "table"
           }
          ]
         },
         "layout": {
          "annotationdefaults": {
           "arrowcolor": "#2a3f5f",
           "arrowhead": 0,
           "arrowwidth": 1
          },
          "autotypenumbers": "strict",
          "coloraxis": {
           "colorbar": {
            "outlinewidth": 0,
            "ticks": ""
           }
          },
          "colorscale": {
           "diverging": [
            [
             0,
             "#8e0152"
            ],
            [
             0.1,
             "#c51b7d"
            ],
            [
             0.2,
             "#de77ae"
            ],
            [
             0.3,
             "#f1b6da"
            ],
            [
             0.4,
             "#fde0ef"
            ],
            [
             0.5,
             "#f7f7f7"
            ],
            [
             0.6,
             "#e6f5d0"
            ],
            [
             0.7,
             "#b8e186"
            ],
            [
             0.8,
             "#7fbc41"
            ],
            [
             0.9,
             "#4d9221"
            ],
            [
             1,
             "#276419"
            ]
           ],
           "sequential": [
            [
             0,
             "#0d0887"
            ],
            [
             0.1111111111111111,
             "#46039f"
            ],
            [
             0.2222222222222222,
             "#7201a8"
            ],
            [
             0.3333333333333333,
             "#9c179e"
            ],
            [
             0.4444444444444444,
             "#bd3786"
            ],
            [
             0.5555555555555556,
             "#d8576b"
            ],
            [
             0.6666666666666666,
             "#ed7953"
            ],
            [
             0.7777777777777778,
             "#fb9f3a"
            ],
            [
             0.8888888888888888,
             "#fdca26"
            ],
            [
             1,
             "#f0f921"
            ]
           ],
           "sequentialminus": [
            [
             0,
             "#0d0887"
            ],
            [
             0.1111111111111111,
             "#46039f"
            ],
            [
             0.2222222222222222,
             "#7201a8"
            ],
            [
             0.3333333333333333,
             "#9c179e"
            ],
            [
             0.4444444444444444,
             "#bd3786"
            ],
            [
             0.5555555555555556,
             "#d8576b"
            ],
            [
             0.6666666666666666,
             "#ed7953"
            ],
            [
             0.7777777777777778,
             "#fb9f3a"
            ],
            [
             0.8888888888888888,
             "#fdca26"
            ],
            [
             1,
             "#f0f921"
            ]
           ]
          },
          "colorway": [
           "#636efa",
           "#EF553B",
           "#00cc96",
           "#ab63fa",
           "#FFA15A",
           "#19d3f3",
           "#FF6692",
           "#B6E880",
           "#FF97FF",
           "#FECB52"
          ],
          "font": {
           "color": "#2a3f5f"
          },
          "geo": {
           "bgcolor": "white",
           "lakecolor": "white",
           "landcolor": "white",
           "showlakes": true,
           "showland": true,
           "subunitcolor": "#C8D4E3"
          },
          "hoverlabel": {
           "align": "left"
          },
          "hovermode": "closest",
          "mapbox": {
           "style": "light"
          },
          "paper_bgcolor": "white",
          "plot_bgcolor": "white",
          "polar": {
           "angularaxis": {
            "gridcolor": "#EBF0F8",
            "linecolor": "#EBF0F8",
            "ticks": ""
           },
           "bgcolor": "white",
           "radialaxis": {
            "gridcolor": "#EBF0F8",
            "linecolor": "#EBF0F8",
            "ticks": ""
           }
          },
          "scene": {
           "xaxis": {
            "backgroundcolor": "white",
            "gridcolor": "#DFE8F3",
            "gridwidth": 2,
            "linecolor": "#EBF0F8",
            "showbackground": true,
            "ticks": "",
            "zerolinecolor": "#EBF0F8"
           },
           "yaxis": {
            "backgroundcolor": "white",
            "gridcolor": "#DFE8F3",
            "gridwidth": 2,
            "linecolor": "#EBF0F8",
            "showbackground": true,
            "ticks": "",
            "zerolinecolor": "#EBF0F8"
           },
           "zaxis": {
            "backgroundcolor": "white",
            "gridcolor": "#DFE8F3",
            "gridwidth": 2,
            "linecolor": "#EBF0F8",
            "showbackground": true,
            "ticks": "",
            "zerolinecolor": "#EBF0F8"
           }
          },
          "shapedefaults": {
           "line": {
            "color": "#2a3f5f"
           }
          },
          "ternary": {
           "aaxis": {
            "gridcolor": "#DFE8F3",
            "linecolor": "#A2B1C6",
            "ticks": ""
           },
           "baxis": {
            "gridcolor": "#DFE8F3",
            "linecolor": "#A2B1C6",
            "ticks": ""
           },
           "bgcolor": "white",
           "caxis": {
            "gridcolor": "#DFE8F3",
            "linecolor": "#A2B1C6",
            "ticks": ""
           }
          },
          "title": {
           "x": 0.05
          },
          "xaxis": {
           "automargin": true,
           "gridcolor": "#EBF0F8",
           "linecolor": "#EBF0F8",
           "ticks": "",
           "title": {
            "standoff": 15
           },
           "zerolinecolor": "#EBF0F8",
           "zerolinewidth": 2
          },
          "yaxis": {
           "automargin": true,
           "gridcolor": "#EBF0F8",
           "linecolor": "#EBF0F8",
           "ticks": "",
           "title": {
            "standoff": 15
           },
           "zerolinecolor": "#EBF0F8",
           "zerolinewidth": 2
          }
         }
        },
        "title": {
         "text": "[2022-04-10 00:18:33] Episode: 2/2 Step: 121/200"
        },
        "xaxis": {
         "anchor": "y",
         "domain": [
          0,
          1
         ],
         "gridcolor": "Gainsboro",
         "linecolor": "Grey",
         "matches": "x4",
         "rangeslider": {
          "visible": false
         },
         "showticklabels": false,
         "title": {
          "font": {
           "size": 12
          },
          "standoff": 7,
          "text": "Price"
         }
        },
        "xaxis2": {
         "anchor": "y2",
         "domain": [
          0,
          1
         ],
         "gridcolor": "Gainsboro",
         "linecolor": "Grey",
         "matches": "x4",
         "showticklabels": false,
         "title": {
          "font": {
           "size": 12
          },
          "standoff": 7,
          "text": "Volume"
         }
        },
        "xaxis3": {
         "anchor": "y3",
         "domain": [
          0,
          1
         ],
         "gridcolor": "Gainsboro",
         "linecolor": "Grey",
         "matches": "x4",
         "showticklabels": false,
         "title": {
          "font": {
           "size": 12
          },
          "standoff": 7,
          "text": "Performance"
         }
        },
        "xaxis4": {
         "anchor": "y4",
         "domain": [
          0,
          1
         ],
         "gridcolor": "Gainsboro",
         "linecolor": "Grey",
         "title": {
          "font": {
           "size": 12
          },
          "standoff": 7,
          "text": "Net Worth"
         }
        },
        "yaxis": {
         "anchor": "x",
         "domain": [
          0.49950000000000006,
          1
         ],
         "gridcolor": "Gainsboro",
         "linecolor": "Grey"
        },
        "yaxis2": {
         "anchor": "x2",
         "domain": [
          0.333,
          0.46950000000000003
         ],
         "gridcolor": "Gainsboro",
         "linecolor": "Grey"
        },
        "yaxis3": {
         "anchor": "x3",
         "domain": [
          0.1665,
          0.30300000000000005
         ],
         "gridcolor": "Gainsboro",
         "linecolor": "Grey"
        },
        "yaxis4": {
         "anchor": "x4",
         "domain": [
          0,
          0.1365
         ],
         "gridcolor": "Gainsboro",
         "linecolor": "Grey"
        }
       }
      }
     },
     "metadata": {},
     "output_type": "display_data"
    },
    {
     "data": {
      "application/vnd.jupyter.widget-view+json": {
       "model_id": "dc4636eeaeb44503acf6a2b1e182667b",
       "version_major": 2,
       "version_minor": 0
      },
      "text/plain": [
       "FigureWidget({\n",
       "    'data': [{'close': array([8740.99, 8739.  , 8728.49, 8708.32, 8795.9 , 8760.  , 8760.  , 87…"
      ]
     },
     "metadata": {},
     "output_type": "display_data"
    },
    {
     "data": {
      "application/vnd.plotly.v1+json": {
       "config": {
        "plotlyServerURL": "https://plot.ly"
       },
       "data": [
        {
         "close": [
          8740.99,
          8739,
          8728.49,
          8708.32,
          8795.9,
          8760,
          8760,
          8759.23,
          8517.77,
          8520.3,
          8535.23,
          8546.34,
          8526.65,
          8555.6,
          8512.1,
          8492.28,
          8460,
          8474.99,
          8455.92,
          8326.28,
          8133.43,
          8164.79,
          8229.38,
          8220.4,
          8238.8,
          8232.99,
          8207.48,
          8243.45,
          8371.13,
          8373,
          8365.08,
          8179.99,
          8225,
          8285.8,
          8273.4,
          8297.4,
          8279.89,
          8252.72,
          8302.18,
          8295.85,
          8277.25,
          8346.59,
          8358.3,
          8375.1,
          8368.62,
          8366.72,
          8314.77,
          8363.7,
          8344.16,
          8247.4,
          8277.4,
          8291.67,
          8307.89,
          8298.9,
          8269.47,
          8300.98,
          8318.49,
          8306.39,
          8276.43,
          8257.69,
          8166,
          8176.33,
          8200.7,
          8155.41,
          8080,
          8067.03,
          7958.08,
          7974.25,
          7998.5,
          7991.99,
          8022.7,
          8042.97,
          7965.67,
          8088.95,
          8122.19,
          8107.99,
          8137.73,
          8115,
          8107,
          8094.4,
          8080.01,
          8117.09,
          8126.99,
          8110.95,
          8215.39,
          8231.42,
          8240.13,
          8235,
          8219.9,
          8248.87,
          8213.5,
          8200.99,
          8200,
          8237.3,
          8228.13,
          8240.83,
          8214.9,
          8170.07,
          8229.87,
          8205.87,
          8252.56,
          8365,
          8348.65,
          8303.99,
          8310.48,
          8310,
          8289.87,
          8304.99,
          8301.35,
          8313.12,
          8240.07,
          8199.99,
          8226.98,
          8231.2,
          8198.89,
          8215.85,
          8279.99,
          8255.08,
          8270.4,
          8244.24,
          8239.12,
          8267.14,
          8282.27,
          8350.62,
          8336.6,
          8336.91,
          8311.21,
          8312.09,
          8345.19,
          8377.2,
          8481.11,
          8516.36,
          8524,
          8517.04,
          8558.5,
          8521.99,
          8484.93,
          8518.48,
          8488.99,
          8466.72,
          8492.55
         ],
         "high": [
          8796.68,
          8766,
          8750.27,
          8754.4,
          8865,
          8821.19,
          8798.6,
          8771.02,
          8761.7,
          8553.67,
          8589.1,
          8579.48,
          8555.51,
          8583.6,
          8569.92,
          8555.54,
          8557.51,
          8505,
          8505.33,
          8478.29,
          8339.81,
          8217.44,
          8252.72,
          8248.63,
          8267.12,
          8255,
          8261.24,
          8263.93,
          8455.66,
          8439.44,
          8399.1,
          8381.73,
          8229.91,
          8377.29,
          8329.1,
          8350,
          8346.95,
          8377.29,
          8311.35,
          8319.96,
          8398.24,
          8372.58,
          8399.99,
          8386.53,
          8400,
          8500,
          8381,
          8371.3,
          8382.41,
          8351,
          8292.99,
          8325.8,
          8318.99,
          8324.9,
          8335.56,
          8309.4,
          8377.29,
          8330.41,
          8328.23,
          8284.36,
          8274.83,
          8200,
          8232.14,
          8213.97,
          8155.41,
          8108.28,
          8068.92,
          8019.9,
          8026.66,
          8025,
          8104.69,
          8061.39,
          8045.99,
          8170.71,
          8144.16,
          8139.99,
          8152.99,
          8137.73,
          8143.72,
          8129.99,
          8106.76,
          8139,
          8152.04,
          8146.99,
          8232.14,
          8275.1,
          8256.12,
          8274.1,
          8255.8,
          8253.97,
          8261.09,
          8235.76,
          8227,
          8273.36,
          8264.21,
          8250,
          8250.86,
          8235.77,
          8232.12,
          8232.14,
          8252.72,
          8370,
          8395,
          8374.48,
          8331,
          8319.43,
          8323.4,
          8314.55,
          8330.62,
          8314.8,
          8323.99,
          8263.03,
          8247.78,
          8253.75,
          8237.89,
          8235,
          8279.99,
          8290,
          8278.71,
          8275.34,
          8279.31,
          8279.98,
          8294.04,
          8356.4,
          8374.94,
          8354.83,
          8360.45,
          8337.14,
          8351.97,
          8377.29,
          8549,
          8531.9,
          8551.79,
          8529.9,
          8590,
          8576.1,
          8549.89,
          8531.89,
          8550,
          8493.29,
          8522.98
         ],
         "low": [
          8707.28,
          8721.11,
          8660.53,
          8701.35,
          8695.11,
          8740.54,
          8741.52,
          8700,
          8467.42,
          8477.89,
          8500.78,
          8500,
          8400,
          8451.05,
          8461.38,
          8481.24,
          8420.37,
          8450,
          8430.94,
          8275.02,
          8100.01,
          8122.56,
          8157.01,
          8166.25,
          8176.91,
          8213.79,
          8200,
          8207.48,
          8237.1,
          8370,
          8356.4,
          8145.1,
          8173.6,
          8211.8,
          8201,
          8250.9,
          8266.46,
          8252.72,
          8232.14,
          8268.37,
          8277.25,
          8277.25,
          8314.78,
          8314.77,
          8350.07,
          8331.39,
          8314.77,
          8275.45,
          8335.49,
          8191.14,
          8227.7,
          8264.13,
          8249.93,
          8269.52,
          8219.44,
          8262.68,
          8286.65,
          8289.87,
          8232.14,
          8232.14,
          8110.02,
          8154.95,
          8168.6,
          8151,
          7980,
          8005.95,
          7929.53,
          7931.03,
          7950,
          7980.58,
          7991.99,
          7992.75,
          7953.4,
          7965.67,
          8085.94,
          8078.48,
          8092.9,
          8049.22,
          8079.46,
          8062.12,
          8043.96,
          8063.1,
          8088.46,
          8094.43,
          8088.46,
          8191.14,
          8212,
          8224.5,
          8211,
          8211.01,
          8210.03,
          8158.27,
          8177.65,
          8179.41,
          8221.92,
          8217.32,
          8213.52,
          8141.08,
          8146.1,
          8186.03,
          8197.09,
          8231.21,
          8323.82,
          8296,
          8296.31,
          8282.65,
          8280,
          8273.36,
          8290.08,
          8277.93,
          8240.07,
          8191.14,
          8178,
          8193.7,
          8180,
          8170.71,
          8215.53,
          8240.02,
          8237.17,
          8237.17,
          8239.12,
          8227.79,
          8247.57,
          8274.24,
          8326.1,
          8320.61,
          8281.31,
          8269.85,
          8311.16,
          8336.11,
          8369.86,
          8471.51,
          8511,
          8476.66,
          8507.68,
          8509.24,
          8482.53,
          8484.93,
          8450,
          8434.47,
          8461.1
         ],
         "name": "Price",
         "open": [
          8733.86,
          8740.99,
          8739,
          8728.49,
          8708.32,
          8795.9,
          8760,
          8760,
          8759.23,
          8517.77,
          8520.3,
          8535.23,
          8546.34,
          8526.65,
          8555.6,
          8512.1,
          8492.28,
          8460,
          8474.99,
          8455.92,
          8326.28,
          8133.43,
          8164.79,
          8229.38,
          8220.4,
          8238.8,
          8232.99,
          8207.48,
          8243.45,
          8371.13,
          8373,
          8365.08,
          8179.99,
          8225,
          8285.8,
          8273.4,
          8297.4,
          8279.89,
          8252.72,
          8302.18,
          8295.85,
          8277.25,
          8346.59,
          8358.3,
          8375.1,
          8368.62,
          8366.72,
          8314.77,
          8363.7,
          8344.16,
          8247.4,
          8277.4,
          8291.67,
          8307.89,
          8298.9,
          8269.47,
          8300.98,
          8318.49,
          8306.39,
          8276.43,
          8257.69,
          8166,
          8176.33,
          8200.7,
          8155.41,
          8080,
          8067.03,
          7958.08,
          7974.25,
          7998.5,
          7991.99,
          8022.7,
          8042.97,
          7965.67,
          8088.95,
          8122.19,
          8107.99,
          8137.73,
          8115,
          8107,
          8094.4,
          8080.01,
          8117.09,
          8126.99,
          8110.95,
          8215.39,
          8231.42,
          8240.13,
          8235,
          8219.9,
          8248.87,
          8213.5,
          8200.99,
          8200,
          8237.3,
          8228.13,
          8240.83,
          8214.9,
          8170.07,
          8229.87,
          8205.87,
          8252.56,
          8365,
          8348.65,
          8303.99,
          8310.48,
          8310,
          8289.87,
          8304.99,
          8301.35,
          8313.12,
          8240.07,
          8199.99,
          8226.98,
          8231.2,
          8198.89,
          8215.85,
          8279.99,
          8255.08,
          8270.4,
          8244.24,
          8239.12,
          8267.14,
          8282.27,
          8350.62,
          8336.6,
          8336.91,
          8311.21,
          8312.09,
          8345.19,
          8377.2,
          8481.11,
          8516.36,
          8524,
          8517.04,
          8558.5,
          8521.99,
          8484.93,
          8518.48,
          8488.99,
          8466.72
         ],
         "showlegend": false,
         "type": "candlestick",
         "uid": "8c6d8a56-07c4-4131-a4c8-63193c8a8ccd",
         "xaxis": "x",
         "yaxis": "y"
        },
        {
         "marker": {
          "color": "DodgerBlue"
         },
         "name": "Volume",
         "showlegend": false,
         "type": "bar",
         "uid": "145b46e2-d412-4928-981a-553342a3477e",
         "xaxis": "x2",
         "y": [
          559.93,
          273.58,
          917.79,
          182.62,
          1260.69,
          324.11,
          324.2,
          730.67,
          1341.75,
          792.07,
          385.69,
          475.08,
          877.26,
          670.49,
          610.97,
          168.99,
          305.92,
          136.05,
          154.26,
          1070.93,
          1710.2,
          492.8,
          630.72,
          620.93,
          586.34,
          304.52,
          450.97,
          182.36,
          915.32,
          319.29,
          362.01,
          1046.38,
          357.91,
          561.2,
          322.53,
          1073.71,
          237.21,
          251.2,
          359.73,
          117.23,
          363.17,
          214.18,
          171.64,
          258.58,
          299.52,
          718.98,
          119.7,
          405.25,
          210.77,
          714.82,
          215.97,
          164.2,
          201.55,
          203.41,
          886.82,
          95.49,
          499.67,
          172.77,
          355.39,
          255.27,
          591.06,
          133.1,
          149.13,
          87.55,
          1061.54,
          286.94,
          524.42,
          316,
          441.43,
          189.7,
          844.94,
          155.34,
          257.56,
          610.69,
          217.97,
          173.18,
          218.06,
          372.97,
          484.39,
          248.1,
          162.35,
          303.42,
          290.69,
          160.93,
          369.4,
          487.27,
          93.35,
          96.68,
          72.14,
          90.22,
          168.52,
          203.15,
          71.42,
          464.56,
          57,
          89.42,
          49.47,
          200.05,
          254.37,
          65.05,
          118.19,
          452.4,
          181.03,
          288.04,
          145.78,
          110.14,
          55.48,
          80.87,
          67.01,
          59.16,
          121.26,
          244.37,
          156.87,
          80.48,
          139.32,
          93.52,
          200.23,
          97.4,
          68.08,
          47,
          36.65,
          28.75,
          182.85,
          400.18,
          288.1,
          182.94,
          777.81,
          493.59,
          118.63,
          174.37,
          901.75,
          222.45,
          113.8,
          84.2,
          261.44,
          168.78,
          111.07,
          122.12,
          267.32,
          210.39,
          211.36
         ],
         "yaxis": "y2"
        },
        {
         "mode": "lines",
         "name": "bitstamp:/USD-BTC",
         "type": "scatter",
         "uid": "8c525a7c-7cb9-4397-bed8-bf45f03e8a5f",
         "xaxis": "x3",
         "y": [
          8740.99,
          8739,
          8728.49,
          8708.32,
          8795.9,
          8760,
          8760,
          8759.23,
          8517.77,
          8520.3,
          8535.23,
          8546.34,
          8526.65,
          8555.6,
          8512.1,
          8492.28,
          8460,
          8474.99,
          8455.92,
          8326.28,
          8133.43,
          8164.79,
          8229.38,
          8220.4,
          8238.8,
          8232.99,
          8207.48,
          8243.45,
          8371.13,
          8373,
          8365.08,
          8179.99,
          8225,
          8285.8,
          8273.4,
          8297.4,
          8279.89,
          8252.72,
          8302.18,
          8295.85,
          8277.25,
          8346.59,
          8358.3,
          8375.1,
          8368.62,
          8366.72,
          8314.77,
          8363.7,
          8344.16,
          8247.4,
          8277.4,
          8291.67,
          8307.89,
          8298.9,
          8269.47,
          8300.98,
          8318.49,
          8306.39,
          8276.43,
          8257.69,
          8166,
          8176.33,
          8200.7,
          8155.41,
          8080,
          8067.03,
          7958.08,
          7974.25,
          7998.5,
          7991.99,
          8022.7,
          8042.97,
          7965.67,
          8088.95,
          8122.19,
          8107.99,
          8137.73,
          8115,
          8107,
          8094.4,
          8080.01,
          8117.09,
          8126.99,
          8110.95,
          8215.39,
          8231.42,
          8240.13,
          8235,
          8219.9,
          8248.87,
          8213.5,
          8200.99,
          8200,
          8237.3,
          8228.13,
          8240.83,
          8214.9,
          8170.07,
          8229.87,
          8205.87,
          8252.56,
          8365,
          8348.65,
          8303.99,
          8310.48,
          8310,
          8289.87,
          8304.99,
          8301.35,
          8313.12,
          8240.07,
          8199.99,
          8226.98,
          8231.2,
          8198.89,
          8215.85,
          8279.99,
          8255.08,
          8270.4,
          8244.24,
          8239.12,
          8267.14,
          8282.27,
          8350.62,
          8336.6,
          8336.91,
          8311.21,
          8312.09,
          8345.19,
          8377.2,
          8481.11,
          8516.36,
          8524,
          8517.04,
          8558.5,
          8521.99,
          8484.93,
          8518.48,
          8488.99,
          8466.72,
          8492.55
         ],
         "yaxis": "y3"
        },
        {
         "mode": "lines",
         "name": "bitstamp:/USD:/free",
         "type": "scatter",
         "uid": "401294ed-928f-428f-a642-2b39c2a3ff21",
         "xaxis": "x3",
         "y": [
          10000,
          10000,
          10000,
          2000,
          2000,
          2000,
          2000,
          2000,
          2000,
          9760.1,
          2928.03,
          878.41,
          878.41,
          878.41,
          878.41,
          878.41,
          878.41,
          878.41,
          878.41,
          878.41,
          878.41,
          9302.62,
          0,
          0,
          0,
          0,
          0,
          0,
          0,
          0,
          0,
          0,
          0,
          0,
          0,
          0,
          0,
          0,
          0,
          0,
          0,
          0,
          0,
          0,
          0,
          0,
          0,
          0,
          0,
          0,
          0,
          0,
          0,
          0,
          0,
          0,
          0,
          0,
          0,
          0,
          0,
          0,
          0,
          0,
          0,
          0,
          0,
          0,
          0,
          0,
          0,
          0,
          0,
          0,
          0,
          0,
          0,
          0,
          0,
          0,
          0,
          0,
          0,
          0,
          0,
          0,
          0,
          0,
          0,
          0,
          0,
          0,
          0,
          0,
          0,
          0,
          0,
          0,
          0,
          0,
          0,
          0,
          0,
          0,
          0,
          0,
          0,
          0,
          0,
          0,
          0,
          0,
          0,
          0,
          0,
          0,
          0,
          0,
          0,
          0,
          0,
          0,
          0,
          0,
          0,
          0,
          0,
          0,
          0,
          0,
          0,
          9605.13,
          2881.54,
          864.46,
          864.46,
          864.46,
          864.46,
          864.46,
          864.46,
          864.46,
          864.46
         ],
         "yaxis": "y3"
        },
        {
         "mode": "lines",
         "name": "bitstamp:/USD:/locked",
         "type": "scatter",
         "uid": "2aef03b6-c4ff-49c5-a389-faa69b1e2dd5",
         "xaxis": "x3",
         "y": [
          0,
          0,
          0,
          0,
          0,
          0,
          0,
          0,
          0,
          0,
          0,
          0,
          0,
          0,
          0,
          0,
          0,
          0,
          0,
          0,
          0,
          0,
          0,
          0,
          0,
          0,
          0,
          0,
          0,
          0,
          0,
          0,
          0,
          0,
          0,
          0,
          0,
          0,
          0,
          0,
          0,
          0,
          0,
          0,
          0,
          0,
          0,
          0,
          0,
          0,
          0,
          0,
          0,
          0,
          0,
          0,
          0,
          0,
          0,
          0,
          0,
          0,
          0,
          0,
          0,
          0,
          0,
          0,
          0,
          0,
          0,
          0,
          0,
          0,
          0,
          0,
          0,
          0,
          0,
          0,
          0,
          0,
          0,
          0,
          0,
          0,
          0,
          0,
          0,
          0,
          0,
          0,
          0,
          0,
          0,
          0,
          0,
          0,
          0,
          0,
          0,
          0,
          0,
          0,
          0,
          0,
          0,
          0,
          0,
          0,
          0,
          0,
          0,
          0,
          0,
          0,
          0,
          0,
          0,
          0,
          0,
          0,
          0,
          0,
          0,
          0,
          0,
          0,
          0,
          0,
          0,
          0,
          0,
          0,
          0,
          0,
          0,
          0,
          0,
          0,
          0
         ],
         "yaxis": "y3"
        },
        {
         "mode": "lines",
         "name": "bitstamp:/USD:/total",
         "type": "scatter",
         "uid": "1cfdc07a-0fb3-45f5-8ac0-46485deef13b",
         "xaxis": "x3",
         "y": [
          10000,
          10000,
          10000,
          2000,
          2000,
          2000,
          2000,
          2000,
          2000,
          9760.1,
          2928.03,
          878.41,
          878.41,
          878.41,
          878.41,
          878.41,
          878.41,
          878.41,
          878.41,
          878.41,
          878.41,
          9302.62,
          0,
          0,
          0,
          0,
          0,
          0,
          0,
          0,
          0,
          0,
          0,
          0,
          0,
          0,
          0,
          0,
          0,
          0,
          0,
          0,
          0,
          0,
          0,
          0,
          0,
          0,
          0,
          0,
          0,
          0,
          0,
          0,
          0,
          0,
          0,
          0,
          0,
          0,
          0,
          0,
          0,
          0,
          0,
          0,
          0,
          0,
          0,
          0,
          0,
          0,
          0,
          0,
          0,
          0,
          0,
          0,
          0,
          0,
          0,
          0,
          0,
          0,
          0,
          0,
          0,
          0,
          0,
          0,
          0,
          0,
          0,
          0,
          0,
          0,
          0,
          0,
          0,
          0,
          0,
          0,
          0,
          0,
          0,
          0,
          0,
          0,
          0,
          0,
          0,
          0,
          0,
          0,
          0,
          0,
          0,
          0,
          0,
          0,
          0,
          0,
          0,
          0,
          0,
          0,
          0,
          0,
          0,
          0,
          0,
          9605.13,
          2881.54,
          864.46,
          864.46,
          864.46,
          864.46,
          864.46,
          864.46,
          864.46,
          864.46
         ],
         "yaxis": "y3"
        },
        {
         "mode": "lines",
         "name": "bitstamp:/BTC:/free",
         "type": "scatter",
         "uid": "6f75c785-6a85-4a93-88f3-23bc8f1b0896",
         "xaxis": "x3",
         "y": [
          10,
          10,
          10,
          10,
          10,
          10,
          10,
          10,
          10,
          10,
          10,
          10,
          10,
          10,
          10,
          10,
          10,
          10,
          10,
          10,
          10,
          10,
          10,
          10,
          10,
          10,
          10,
          10,
          10,
          10,
          10,
          10,
          10,
          10,
          10,
          10,
          10,
          10,
          10,
          10,
          10,
          10,
          10,
          10,
          10,
          10,
          10,
          10,
          10,
          10,
          10,
          10,
          10,
          10,
          10,
          10,
          10,
          10,
          10,
          10,
          10,
          10,
          10,
          10,
          10,
          10,
          10,
          10,
          10,
          10,
          10,
          10,
          10,
          10,
          10,
          10,
          10,
          10,
          10,
          10,
          10,
          10,
          10,
          10,
          10,
          10,
          10,
          10,
          10,
          10,
          10,
          10,
          10,
          10,
          10,
          10,
          10,
          10,
          10,
          10,
          10,
          10,
          10,
          10,
          10,
          10,
          10,
          10,
          10,
          10,
          10,
          10,
          10,
          10,
          10,
          10,
          10,
          10,
          10,
          10,
          10,
          10,
          10,
          10,
          10,
          10,
          10,
          10,
          10,
          10,
          10,
          10,
          10,
          10,
          10,
          10,
          10,
          10,
          10,
          10,
          10
         ],
         "yaxis": "y3"
        },
        {
         "mode": "lines",
         "name": "bitstamp:/BTC:/locked",
         "type": "scatter",
         "uid": "ba02f11e-201e-468a-9ae6-fb1561982cfe",
         "xaxis": "x3",
         "y": [
          0,
          0,
          0,
          0.91378921,
          0.91378921,
          0.91378921,
          0.91378921,
          0.91378921,
          0.91378921,
          0,
          0.7994519,
          1.03886783,
          1.03886783,
          1.03886783,
          1.03886783,
          1.03886783,
          1.03886783,
          1.03886783,
          1.03886783,
          1.03886783,
          1.03886783,
          0,
          1.13593981,
          1.13593981,
          1.13593981,
          1.13593981,
          1.13593981,
          1.13593981,
          1.13593981,
          1.13593981,
          1.13593981,
          1.13593981,
          1.13593981,
          1.13593981,
          1.13593981,
          1.13593981,
          1.13593981,
          1.13593981,
          1.13593981,
          1.13593981,
          1.13593981,
          1.13593981,
          1.13593981,
          1.13593981,
          1.13593981,
          1.13593981,
          1.13593981,
          1.13593981,
          1.13593981,
          1.13593981,
          1.13593981,
          1.13593981,
          1.13593981,
          1.13593981,
          1.13593981,
          1.13593981,
          1.13593981,
          1.13593981,
          1.13593981,
          1.13593981,
          1.13593981,
          1.13593981,
          1.13593981,
          1.13593981,
          1.13593981,
          1.13593981,
          1.13593981,
          1.13593981,
          1.13593981,
          1.13593981,
          1.13593981,
          1.13593981,
          1.13593981,
          1.13593981,
          1.13593981,
          1.13593981,
          1.13593981,
          1.13593981,
          1.13593981,
          1.13593981,
          1.13593981,
          1.13593981,
          1.13593981,
          1.13593981,
          1.13593981,
          1.13593981,
          1.13593981,
          1.13593981,
          1.13593981,
          1.13593981,
          1.13593981,
          1.13593981,
          1.13593981,
          1.13593981,
          1.13593981,
          1.13593981,
          1.13593981,
          1.13593981,
          1.13593981,
          1.13593981,
          1.13593981,
          1.13593981,
          1.13593981,
          1.13593981,
          1.13593981,
          1.13593981,
          1.13593981,
          1.13593981,
          1.13593981,
          1.13593981,
          1.13593981,
          1.13593981,
          1.13593981,
          1.13593981,
          1.13593981,
          1.13593981,
          1.13593981,
          1.13593981,
          1.13593981,
          1.13593981,
          1.13593981,
          1.13593981,
          1.13593981,
          1.13593981,
          1.13593981,
          1.13593981,
          1.13593981,
          1.13593981,
          1.13593981,
          1.13593981,
          1.13593981,
          0,
          0.78712267,
          1.02304829,
          1.02304829,
          1.02304829,
          1.02304829,
          1.02304829,
          1.02304829,
          1.02304829,
          1.02304829
         ],
         "yaxis": "y3"
        },
        {
         "mode": "lines",
         "name": "bitstamp:/BTC:/total",
         "type": "scatter",
         "uid": "db06df65-6739-42e7-9218-1600ec083b58",
         "xaxis": "x3",
         "y": [
          10,
          10,
          10,
          10.91378921,
          10.91378921,
          10.91378921,
          10.91378921,
          10.91378921,
          10.91378921,
          10,
          10.7994519,
          11.03886783,
          11.03886783,
          11.03886783,
          11.03886783,
          11.03886783,
          11.03886783,
          11.03886783,
          11.03886783,
          11.03886783,
          11.03886783,
          10,
          11.13593981,
          11.13593981,
          11.13593981,
          11.13593981,
          11.13593981,
          11.13593981,
          11.13593981,
          11.13593981,
          11.13593981,
          11.13593981,
          11.13593981,
          11.13593981,
          11.13593981,
          11.13593981,
          11.13593981,
          11.13593981,
          11.13593981,
          11.13593981,
          11.13593981,
          11.13593981,
          11.13593981,
          11.13593981,
          11.13593981,
          11.13593981,
          11.13593981,
          11.13593981,
          11.13593981,
          11.13593981,
          11.13593981,
          11.13593981,
          11.13593981,
          11.13593981,
          11.13593981,
          11.13593981,
          11.13593981,
          11.13593981,
          11.13593981,
          11.13593981,
          11.13593981,
          11.13593981,
          11.13593981,
          11.13593981,
          11.13593981,
          11.13593981,
          11.13593981,
          11.13593981,
          11.13593981,
          11.13593981,
          11.13593981,
          11.13593981,
          11.13593981,
          11.13593981,
          11.13593981,
          11.13593981,
          11.13593981,
          11.13593981,
          11.13593981,
          11.13593981,
          11.13593981,
          11.13593981,
          11.13593981,
          11.13593981,
          11.13593981,
          11.13593981,
          11.13593981,
          11.13593981,
          11.13593981,
          11.13593981,
          11.13593981,
          11.13593981,
          11.13593981,
          11.13593981,
          11.13593981,
          11.13593981,
          11.13593981,
          11.13593981,
          11.13593981,
          11.13593981,
          11.13593981,
          11.13593981,
          11.13593981,
          11.13593981,
          11.13593981,
          11.13593981,
          11.13593981,
          11.13593981,
          11.13593981,
          11.13593981,
          11.13593981,
          11.13593981,
          11.13593981,
          11.13593981,
          11.13593981,
          11.13593981,
          11.13593981,
          11.13593981,
          11.13593981,
          11.13593981,
          11.13593981,
          11.13593981,
          11.13593981,
          11.13593981,
          11.13593981,
          11.13593981,
          11.13593981,
          11.13593981,
          11.13593981,
          11.13593981,
          11.13593981,
          10,
          10.78712267,
          11.02304829,
          11.02304829,
          11.02304829,
          11.02304829,
          11.02304829,
          11.02304829,
          11.02304829,
          11.02304829
         ],
         "yaxis": "y3"
        },
        {
         "mode": "lines",
         "name": "bitstamp:/BTC:/worth",
         "type": "scatter",
         "uid": "00269ee4-5684-47d5-acbb-521c67b732c8",
         "xaxis": "x3",
         "y": [
          87409.9,
          87390,
          87284.9,
          95040.76885322719,
          95996.59851223898,
          95604.79347959999,
          95604.79347959999,
          95596.38986190829,
          92961.1463192617,
          85203,
          92175.805840437,
          94341.91769024219,
          94124.5623826695,
          94444.137606348,
          93963.946855743,
          93745.1564953524,
          93388.82184179999,
          93554.2944705717,
          93343.7832610536,
          91912.7044355724,
          89783.8587745569,
          81647.9,
          91641.88035361779,
          91541.879614124,
          91746.78090662799,
          91682.0810963319,
          91398.0032717788,
          91798.56302674451,
          93220.39982168529,
          93241.22402913,
          93153.0273858348,
          91091.8762864019,
          91593.10493725,
          92270.17007769799,
          92132.084424054,
          92399.346979494,
          92204.35667342089,
          91901.7931887832,
          92452.5767717858,
          92382.08627278851,
          92174.9577923225,
          92947.1238587479,
          93077.525713923,
          93264.60950273101,
          93192.44861276221,
          93171.29032712319,
          92592.7782539937,
          93137.65978889701,
          92920.0635250096,
          91842.549988994,
          92176.628183294,
          92335.5380443827,
          92516.1629881009,
          92416.050889209,
          92088.3201806007,
          92439.2136440138,
          92634.2039500869,
          92499.45907838589,
          92165.82632167831,
          91957.13880963891,
          90936.08448846,
          91051.1187466973,
          91322.50159986701,
          90818.15488587209,
          89978.3936648,
          89833.9605254643,
          88620.6998831648,
          88800.7680298925,
          89070.814570285,
          88998.3196021219,
          89340.304313687,
          89566.0298136357,
          88705.2216663227,
          90078.0603260995,
          90448.2189653839,
          90290.0886200819,
          90621.2714700313,
          90368.15155815,
          90279.06403967,
          90138.751198064,
          89978.50502419811,
          90391.4256723529,
          90501.67147647189,
          90323.05100191949,
          91486.08855567589,
          91664.5976708302,
          91761.59170657529,
          91704.46433535,
          91536.311644219,
          91858.91982051471,
          91465.041629435,
          91325.7310224119,
          91314.706442,
          91730.07699691299,
          91627.9604288553,
          91769.3868644423,
          91480.63194516899,
          90981.4077634867,
          91647.33696412471,
          91380.07440868471,
          91900.0114384136,
          93152.13651065,
          92970.0638947565,
          92472.73282284189,
          92545.00507220879,
          92539.6598211,
          92315.4933527247,
          92483.8687626519,
          92443.3339417435,
          92574.4039533072,
          91760.9235501867,
          91314.5950826019,
          91615.15409807379,
          91662.14776407201,
          91302.34554881089,
          91491.2110879885,
          92205.47026740189,
          91928.0740067348,
          92098.676604624,
          91807.3604191944,
          91750.34440736721,
          92062.3734408434,
          92230.8602101687,
          92992.00169618221,
          92835.875820046,
          92839.3279613871,
          92553.13430827009,
          92562.9339353029,
          92931.53354301391,
          93287.994976332,
          94445.13048198911,
          85163.6,
          91949.43363908,
          93883.74320786161,
          94340.758789965,
          93938.3072968971,
          93529.7931272697,
          93899.6163973992,
          93574.5467033271,
          93329.0634179088,
          93613.7887552395
         ],
         "yaxis": "y3"
        },
        {
         "mode": "lines",
         "name": "net_worth",
         "type": "scatter",
         "uid": "c6aa695d-58af-49d4-a325-d546bfdc6beb",
         "xaxis": "x3",
         "y": [
          97409.9,
          97390,
          97284.9,
          97040.76885322719,
          97996.59851223898,
          97604.79347959999,
          97604.79347959999,
          97596.38986190829,
          94961.1463192617,
          94963.1,
          95103.835840437,
          95220.3276902422,
          95002.9723826695,
          95322.547606348,
          94842.356855743,
          94623.56649535241,
          94267.23184179999,
          94432.7044705717,
          94222.1932610536,
          92791.11443557241,
          90662.2687745569,
          90950.51999999999,
          91641.88035361779,
          91541.879614124,
          91746.78090662799,
          91682.0810963319,
          91398.0032717788,
          91798.56302674451,
          93220.39982168529,
          93241.22402913,
          93153.0273858348,
          91091.8762864019,
          91593.10493725,
          92270.17007769799,
          92132.084424054,
          92399.346979494,
          92204.35667342089,
          91901.7931887832,
          92452.5767717858,
          92382.08627278851,
          92174.9577923225,
          92947.1238587479,
          93077.525713923,
          93264.60950273101,
          93192.44861276221,
          93171.29032712319,
          92592.7782539937,
          93137.65978889701,
          92920.0635250096,
          91842.549988994,
          92176.628183294,
          92335.5380443827,
          92516.1629881009,
          92416.050889209,
          92088.3201806007,
          92439.2136440138,
          92634.2039500869,
          92499.45907838589,
          92165.82632167831,
          91957.13880963891,
          90936.08448846,
          91051.1187466973,
          91322.50159986701,
          90818.15488587209,
          89978.3936648,
          89833.9605254643,
          88620.6998831648,
          88800.7680298925,
          89070.814570285,
          88998.3196021219,
          89340.304313687,
          89566.0298136357,
          88705.2216663227,
          90078.0603260995,
          90448.2189653839,
          90290.0886200819,
          90621.2714700313,
          90368.15155815,
          90279.06403967,
          90138.751198064,
          89978.50502419811,
          90391.4256723529,
          90501.67147647189,
          90323.05100191949,
          91486.08855567589,
          91664.5976708302,
          91761.59170657529,
          91704.46433535,
          91536.311644219,
          91858.91982051471,
          91465.041629435,
          91325.7310224119,
          91314.706442,
          91730.07699691299,
          91627.9604288553,
          91769.3868644423,
          91480.63194516899,
          90981.4077634867,
          91647.33696412471,
          91380.07440868471,
          91900.0114384136,
          93152.13651065,
          92970.0638947565,
          92472.73282284189,
          92545.00507220879,
          92539.6598211,
          92315.4933527247,
          92483.8687626519,
          92443.3339417435,
          92574.4039533072,
          91760.9235501867,
          91314.5950826019,
          91615.15409807379,
          91662.14776407201,
          91302.34554881089,
          91491.2110879885,
          92205.47026740189,
          91928.0740067348,
          92098.676604624,
          91807.3604191944,
          91750.34440736721,
          92062.3734408434,
          92230.8602101687,
          92992.00169618221,
          92835.875820046,
          92839.3279613871,
          92553.13430827009,
          92562.9339353029,
          92931.53354301391,
          93287.994976332,
          94445.13048198911,
          94768.73000000001,
          94830.97363908,
          94748.20320786162,
          95205.218789965,
          94802.7672968971,
          94394.25312726971,
          94764.0763973992,
          94439.0067033271,
          94193.5234179088,
          94478.2487552395
         ],
         "yaxis": "y3"
        },
        {
         "marker": {
          "color": "DarkGreen"
         },
         "mode": "lines",
         "name": "Net Worth",
         "type": "scatter",
         "uid": "425ac698-5938-4ce2-abd8-e4fb972b4a58",
         "xaxis": "x4",
         "y": [
          97409.9,
          97390,
          97284.9,
          97040.76885322719,
          97996.59851223898,
          97604.79347959999,
          97604.79347959999,
          97596.38986190829,
          94961.1463192617,
          94963.1,
          95103.835840437,
          95220.3276902422,
          95002.9723826695,
          95322.547606348,
          94842.356855743,
          94623.56649535241,
          94267.23184179999,
          94432.7044705717,
          94222.1932610536,
          92791.11443557241,
          90662.2687745569,
          90950.51999999999,
          91641.88035361779,
          91541.879614124,
          91746.78090662799,
          91682.0810963319,
          91398.0032717788,
          91798.56302674451,
          93220.39982168529,
          93241.22402913,
          93153.0273858348,
          91091.8762864019,
          91593.10493725,
          92270.17007769799,
          92132.084424054,
          92399.346979494,
          92204.35667342089,
          91901.7931887832,
          92452.5767717858,
          92382.08627278851,
          92174.9577923225,
          92947.1238587479,
          93077.525713923,
          93264.60950273101,
          93192.44861276221,
          93171.29032712319,
          92592.7782539937,
          93137.65978889701,
          92920.0635250096,
          91842.549988994,
          92176.628183294,
          92335.5380443827,
          92516.1629881009,
          92416.050889209,
          92088.3201806007,
          92439.2136440138,
          92634.2039500869,
          92499.45907838589,
          92165.82632167831,
          91957.13880963891,
          90936.08448846,
          91051.1187466973,
          91322.50159986701,
          90818.15488587209,
          89978.3936648,
          89833.9605254643,
          88620.6998831648,
          88800.7680298925,
          89070.814570285,
          88998.3196021219,
          89340.304313687,
          89566.0298136357,
          88705.2216663227,
          90078.0603260995,
          90448.2189653839,
          90290.0886200819,
          90621.2714700313,
          90368.15155815,
          90279.06403967,
          90138.751198064,
          89978.50502419811,
          90391.4256723529,
          90501.67147647189,
          90323.05100191949,
          91486.08855567589,
          91664.5976708302,
          91761.59170657529,
          91704.46433535,
          91536.311644219,
          91858.91982051471,
          91465.041629435,
          91325.7310224119,
          91314.706442,
          91730.07699691299,
          91627.9604288553,
          91769.3868644423,
          91480.63194516899,
          90981.4077634867,
          91647.33696412471,
          91380.07440868471,
          91900.0114384136,
          93152.13651065,
          92970.0638947565,
          92472.73282284189,
          92545.00507220879,
          92539.6598211,
          92315.4933527247,
          92483.8687626519,
          92443.3339417435,
          92574.4039533072,
          91760.9235501867,
          91314.5950826019,
          91615.15409807379,
          91662.14776407201,
          91302.34554881089,
          91491.2110879885,
          92205.47026740189,
          91928.0740067348,
          92098.676604624,
          91807.3604191944,
          91750.34440736721,
          92062.3734408434,
          92230.8602101687,
          92992.00169618221,
          92835.875820046,
          92839.3279613871,
          92553.13430827009,
          92562.9339353029,
          92931.53354301391,
          93287.994976332,
          94445.13048198911,
          94768.73000000001,
          94830.97363908,
          94748.20320786162,
          95205.218789965,
          94802.7672968971,
          94394.25312726971,
          94764.0763973992,
          94439.0067033271,
          94193.5234179088,
          94478.2487552395
         ],
         "yaxis": "y4"
        }
       ],
       "layout": {
        "annotations": [
         {
          "arrowcolor": "DarkGreen",
          "arrowhead": 2,
          "arrowsize": 0.8,
          "arrowwidth": 4,
          "ax": 0,
          "ay": 15,
          "hoverlabel": {
           "bgcolor": "DarkGreen"
          },
          "hovertext": "Step 11 [2018-05-15 16:00:00]<br>BUY 0.23941593 BTC @ 8535.23 USD MARKET<br>Total: 2043.47 USD - Comm.: 6.15 USD",
          "opacity": 0.6,
          "showarrow": true,
          "x": 10,
          "xref": "x",
          "y": 8535.23,
          "yref": "y"
         },
         {
          "arrowcolor": "DarkGreen",
          "arrowhead": 2,
          "arrowsize": 0.8,
          "arrowwidth": 4,
          "ax": 0,
          "ay": 15,
          "hoverlabel": {
           "bgcolor": "DarkGreen"
          },
          "hovertext": "Step 10 [2018-05-15 15:00:00]<br>BUY 0.7994519 BTC @ 8520.3 USD MARKET<br>Total: 6811.57 USD - Comm.: 20.50 USD",
          "opacity": 0.6,
          "showarrow": true,
          "x": 9,
          "xref": "x",
          "y": 8520.3,
          "yref": "y"
         },
         {
          "arrowcolor": "FireBrick",
          "arrowhead": 2,
          "arrowsize": 0.8,
          "arrowwidth": 4,
          "ax": 0,
          "ay": -15,
          "hoverlabel": {
           "bgcolor": "FireBrick"
          },
          "hovertext": "Step 9 [2018-05-15 14:00:00]<br>SELL 0.91104784 BTC @ 8517.77 USD MARKET<br>Total: 7760.1 USD - Comm.: 0.00274137 BTC",
          "opacity": 0.6,
          "showarrow": true,
          "x": 8,
          "xref": "x",
          "y": 8517.77,
          "yref": "y"
         },
         {
          "arrowcolor": "DarkGreen",
          "arrowhead": 2,
          "arrowsize": 0.8,
          "arrowwidth": 4,
          "ax": 0,
          "ay": 15,
          "hoverlabel": {
           "bgcolor": "DarkGreen"
          },
          "hovertext": "Step 3 [2018-05-15 08:00:00]<br>BUY 0.91378921 BTC @ 8728.49 USD MARKET<br>Total: 7976.0 USD - Comm.: 24.00 USD",
          "opacity": 0.6,
          "showarrow": true,
          "x": 2,
          "xref": "x",
          "y": 8728.49,
          "yref": "y"
         },
         {
          "arrowcolor": "DarkGreen",
          "arrowhead": 2,
          "arrowsize": 0.8,
          "arrowwidth": 4,
          "ax": 0,
          "ay": 15,
          "hoverlabel": {
           "bgcolor": "DarkGreen"
          },
          "hovertext": "Step 22 [2018-05-16 03:00:00]<br>BUY 1.13593981 BTC @ 8164.79 USD MARKET<br>Total: 9274.71 USD - Comm.: 27.91 USD",
          "opacity": 0.6,
          "showarrow": true,
          "x": 21,
          "xref": "x",
          "y": 8164.79,
          "yref": "y"
         },
         {
          "arrowcolor": "FireBrick",
          "arrowhead": 2,
          "arrowsize": 0.8,
          "arrowwidth": 4,
          "ax": 0,
          "ay": -15,
          "hoverlabel": {
           "bgcolor": "FireBrick"
          },
          "hovertext": "Step 21 [2018-05-16 02:00:00]<br>SELL 0.23869768 BTC @ 8133.43 USD MARKET<br>Total: 1941.43 USD - Comm.: 0.00071825 BTC",
          "opacity": 0.6,
          "showarrow": true,
          "x": 20,
          "xref": "x",
          "y": 8133.43,
          "yref": "y"
         },
         {
          "arrowcolor": "FireBrick",
          "arrowhead": 2,
          "arrowsize": 0.8,
          "arrowwidth": 4,
          "ax": 0,
          "ay": -15,
          "hoverlabel": {
           "bgcolor": "FireBrick"
          },
          "hovertext": "Step 21 [2018-05-16 02:00:00]<br>SELL 0.79705354 BTC @ 8133.43 USD MARKET<br>Total: 6482.78 USD - Comm.: 0.00239836 BTC",
          "opacity": 0.6,
          "showarrow": true,
          "x": 20,
          "xref": "x",
          "y": 8133.43,
          "yref": "y"
         },
         {
          "arrowcolor": "DarkGreen",
          "arrowhead": 2,
          "arrowsize": 0.8,
          "arrowwidth": 4,
          "ax": 0,
          "ay": 15,
          "hoverlabel": {
           "bgcolor": "DarkGreen"
          },
          "hovertext": "Step 133 [2018-05-20 18:00:00]<br>BUY 0.23592562 BTC @ 8524.0 USD MARKET<br>Total: 2011.03 USD - Comm.: 6.05 USD",
          "opacity": 0.6,
          "showarrow": true,
          "x": 132,
          "xref": "x",
          "y": 8524,
          "yref": "y"
         },
         {
          "arrowcolor": "DarkGreen",
          "arrowhead": 2,
          "arrowsize": 0.8,
          "arrowwidth": 4,
          "ax": 0,
          "ay": 15,
          "hoverlabel": {
           "bgcolor": "DarkGreen"
          },
          "hovertext": "Step 132 [2018-05-20 17:00:00]<br>BUY 0.78712267 BTC @ 8516.36 USD MARKET<br>Total: 6703.42 USD - Comm.: 20.17 USD",
          "opacity": 0.6,
          "showarrow": true,
          "x": 131,
          "xref": "x",
          "y": 8516.36,
          "yref": "y"
         },
         {
          "arrowcolor": "FireBrick",
          "arrowhead": 2,
          "arrowsize": 0.8,
          "arrowwidth": 4,
          "ax": 0,
          "ay": -15,
          "hoverlabel": {
           "bgcolor": "FireBrick"
          },
          "hovertext": "Step 131 [2018-05-20 16:00:00]<br>SELL 1.13253199 BTC @ 8481.11 USD MARKET<br>Total: 9605.13 USD - Comm.: 0.00340782 BTC",
          "opacity": 0.6,
          "showarrow": true,
          "x": 130,
          "xref": "x",
          "y": 8481.11,
          "yref": "y"
         }
        ],
        "margin": {
         "t": 50
        },
        "template": {
         "data": {
          "bar": [
           {
            "error_x": {
             "color": "#2a3f5f"
            },
            "error_y": {
             "color": "#2a3f5f"
            },
            "marker": {
             "line": {
              "color": "white",
              "width": 0.5
             },
             "pattern": {
              "fillmode": "overlay",
              "size": 10,
              "solidity": 0.2
             }
            },
            "type": "bar"
           }
          ],
          "barpolar": [
           {
            "marker": {
             "line": {
              "color": "white",
              "width": 0.5
             },
             "pattern": {
              "fillmode": "overlay",
              "size": 10,
              "solidity": 0.2
             }
            },
            "type": "barpolar"
           }
          ],
          "carpet": [
           {
            "aaxis": {
             "endlinecolor": "#2a3f5f",
             "gridcolor": "#C8D4E3",
             "linecolor": "#C8D4E3",
             "minorgridcolor": "#C8D4E3",
             "startlinecolor": "#2a3f5f"
            },
            "baxis": {
             "endlinecolor": "#2a3f5f",
             "gridcolor": "#C8D4E3",
             "linecolor": "#C8D4E3",
             "minorgridcolor": "#C8D4E3",
             "startlinecolor": "#2a3f5f"
            },
            "type": "carpet"
           }
          ],
          "choropleth": [
           {
            "colorbar": {
             "outlinewidth": 0,
             "ticks": ""
            },
            "type": "choropleth"
           }
          ],
          "contour": [
           {
            "colorbar": {
             "outlinewidth": 0,
             "ticks": ""
            },
            "colorscale": [
             [
              0,
              "#0d0887"
             ],
             [
              0.1111111111111111,
              "#46039f"
             ],
             [
              0.2222222222222222,
              "#7201a8"
             ],
             [
              0.3333333333333333,
              "#9c179e"
             ],
             [
              0.4444444444444444,
              "#bd3786"
             ],
             [
              0.5555555555555556,
              "#d8576b"
             ],
             [
              0.6666666666666666,
              "#ed7953"
             ],
             [
              0.7777777777777778,
              "#fb9f3a"
             ],
             [
              0.8888888888888888,
              "#fdca26"
             ],
             [
              1,
              "#f0f921"
             ]
            ],
            "type": "contour"
           }
          ],
          "contourcarpet": [
           {
            "colorbar": {
             "outlinewidth": 0,
             "ticks": ""
            },
            "type": "contourcarpet"
           }
          ],
          "heatmap": [
           {
            "colorbar": {
             "outlinewidth": 0,
             "ticks": ""
            },
            "colorscale": [
             [
              0,
              "#0d0887"
             ],
             [
              0.1111111111111111,
              "#46039f"
             ],
             [
              0.2222222222222222,
              "#7201a8"
             ],
             [
              0.3333333333333333,
              "#9c179e"
             ],
             [
              0.4444444444444444,
              "#bd3786"
             ],
             [
              0.5555555555555556,
              "#d8576b"
             ],
             [
              0.6666666666666666,
              "#ed7953"
             ],
             [
              0.7777777777777778,
              "#fb9f3a"
             ],
             [
              0.8888888888888888,
              "#fdca26"
             ],
             [
              1,
              "#f0f921"
             ]
            ],
            "type": "heatmap"
           }
          ],
          "heatmapgl": [
           {
            "colorbar": {
             "outlinewidth": 0,
             "ticks": ""
            },
            "colorscale": [
             [
              0,
              "#0d0887"
             ],
             [
              0.1111111111111111,
              "#46039f"
             ],
             [
              0.2222222222222222,
              "#7201a8"
             ],
             [
              0.3333333333333333,
              "#9c179e"
             ],
             [
              0.4444444444444444,
              "#bd3786"
             ],
             [
              0.5555555555555556,
              "#d8576b"
             ],
             [
              0.6666666666666666,
              "#ed7953"
             ],
             [
              0.7777777777777778,
              "#fb9f3a"
             ],
             [
              0.8888888888888888,
              "#fdca26"
             ],
             [
              1,
              "#f0f921"
             ]
            ],
            "type": "heatmapgl"
           }
          ],
          "histogram": [
           {
            "marker": {
             "pattern": {
              "fillmode": "overlay",
              "size": 10,
              "solidity": 0.2
             }
            },
            "type": "histogram"
           }
          ],
          "histogram2d": [
           {
            "colorbar": {
             "outlinewidth": 0,
             "ticks": ""
            },
            "colorscale": [
             [
              0,
              "#0d0887"
             ],
             [
              0.1111111111111111,
              "#46039f"
             ],
             [
              0.2222222222222222,
              "#7201a8"
             ],
             [
              0.3333333333333333,
              "#9c179e"
             ],
             [
              0.4444444444444444,
              "#bd3786"
             ],
             [
              0.5555555555555556,
              "#d8576b"
             ],
             [
              0.6666666666666666,
              "#ed7953"
             ],
             [
              0.7777777777777778,
              "#fb9f3a"
             ],
             [
              0.8888888888888888,
              "#fdca26"
             ],
             [
              1,
              "#f0f921"
             ]
            ],
            "type": "histogram2d"
           }
          ],
          "histogram2dcontour": [
           {
            "colorbar": {
             "outlinewidth": 0,
             "ticks": ""
            },
            "colorscale": [
             [
              0,
              "#0d0887"
             ],
             [
              0.1111111111111111,
              "#46039f"
             ],
             [
              0.2222222222222222,
              "#7201a8"
             ],
             [
              0.3333333333333333,
              "#9c179e"
             ],
             [
              0.4444444444444444,
              "#bd3786"
             ],
             [
              0.5555555555555556,
              "#d8576b"
             ],
             [
              0.6666666666666666,
              "#ed7953"
             ],
             [
              0.7777777777777778,
              "#fb9f3a"
             ],
             [
              0.8888888888888888,
              "#fdca26"
             ],
             [
              1,
              "#f0f921"
             ]
            ],
            "type": "histogram2dcontour"
           }
          ],
          "mesh3d": [
           {
            "colorbar": {
             "outlinewidth": 0,
             "ticks": ""
            },
            "type": "mesh3d"
           }
          ],
          "parcoords": [
           {
            "line": {
             "colorbar": {
              "outlinewidth": 0,
              "ticks": ""
             }
            },
            "type": "parcoords"
           }
          ],
          "pie": [
           {
            "automargin": true,
            "type": "pie"
           }
          ],
          "scatter": [
           {
            "marker": {
             "colorbar": {
              "outlinewidth": 0,
              "ticks": ""
             }
            },
            "type": "scatter"
           }
          ],
          "scatter3d": [
           {
            "line": {
             "colorbar": {
              "outlinewidth": 0,
              "ticks": ""
             }
            },
            "marker": {
             "colorbar": {
              "outlinewidth": 0,
              "ticks": ""
             }
            },
            "type": "scatter3d"
           }
          ],
          "scattercarpet": [
           {
            "marker": {
             "colorbar": {
              "outlinewidth": 0,
              "ticks": ""
             }
            },
            "type": "scattercarpet"
           }
          ],
          "scattergeo": [
           {
            "marker": {
             "colorbar": {
              "outlinewidth": 0,
              "ticks": ""
             }
            },
            "type": "scattergeo"
           }
          ],
          "scattergl": [
           {
            "marker": {
             "colorbar": {
              "outlinewidth": 0,
              "ticks": ""
             }
            },
            "type": "scattergl"
           }
          ],
          "scattermapbox": [
           {
            "marker": {
             "colorbar": {
              "outlinewidth": 0,
              "ticks": ""
             }
            },
            "type": "scattermapbox"
           }
          ],
          "scatterpolar": [
           {
            "marker": {
             "colorbar": {
              "outlinewidth": 0,
              "ticks": ""
             }
            },
            "type": "scatterpolar"
           }
          ],
          "scatterpolargl": [
           {
            "marker": {
             "colorbar": {
              "outlinewidth": 0,
              "ticks": ""
             }
            },
            "type": "scatterpolargl"
           }
          ],
          "scatterternary": [
           {
            "marker": {
             "colorbar": {
              "outlinewidth": 0,
              "ticks": ""
             }
            },
            "type": "scatterternary"
           }
          ],
          "surface": [
           {
            "colorbar": {
             "outlinewidth": 0,
             "ticks": ""
            },
            "colorscale": [
             [
              0,
              "#0d0887"
             ],
             [
              0.1111111111111111,
              "#46039f"
             ],
             [
              0.2222222222222222,
              "#7201a8"
             ],
             [
              0.3333333333333333,
              "#9c179e"
             ],
             [
              0.4444444444444444,
              "#bd3786"
             ],
             [
              0.5555555555555556,
              "#d8576b"
             ],
             [
              0.6666666666666666,
              "#ed7953"
             ],
             [
              0.7777777777777778,
              "#fb9f3a"
             ],
             [
              0.8888888888888888,
              "#fdca26"
             ],
             [
              1,
              "#f0f921"
             ]
            ],
            "type": "surface"
           }
          ],
          "table": [
           {
            "cells": {
             "fill": {
              "color": "#EBF0F8"
             },
             "line": {
              "color": "white"
             }
            },
            "header": {
             "fill": {
              "color": "#C8D4E3"
             },
             "line": {
              "color": "white"
             }
            },
            "type": "table"
           }
          ]
         },
         "layout": {
          "annotationdefaults": {
           "arrowcolor": "#2a3f5f",
           "arrowhead": 0,
           "arrowwidth": 1
          },
          "autotypenumbers": "strict",
          "coloraxis": {
           "colorbar": {
            "outlinewidth": 0,
            "ticks": ""
           }
          },
          "colorscale": {
           "diverging": [
            [
             0,
             "#8e0152"
            ],
            [
             0.1,
             "#c51b7d"
            ],
            [
             0.2,
             "#de77ae"
            ],
            [
             0.3,
             "#f1b6da"
            ],
            [
             0.4,
             "#fde0ef"
            ],
            [
             0.5,
             "#f7f7f7"
            ],
            [
             0.6,
             "#e6f5d0"
            ],
            [
             0.7,
             "#b8e186"
            ],
            [
             0.8,
             "#7fbc41"
            ],
            [
             0.9,
             "#4d9221"
            ],
            [
             1,
             "#276419"
            ]
           ],
           "sequential": [
            [
             0,
             "#0d0887"
            ],
            [
             0.1111111111111111,
             "#46039f"
            ],
            [
             0.2222222222222222,
             "#7201a8"
            ],
            [
             0.3333333333333333,
             "#9c179e"
            ],
            [
             0.4444444444444444,
             "#bd3786"
            ],
            [
             0.5555555555555556,
             "#d8576b"
            ],
            [
             0.6666666666666666,
             "#ed7953"
            ],
            [
             0.7777777777777778,
             "#fb9f3a"
            ],
            [
             0.8888888888888888,
             "#fdca26"
            ],
            [
             1,
             "#f0f921"
            ]
           ],
           "sequentialminus": [
            [
             0,
             "#0d0887"
            ],
            [
             0.1111111111111111,
             "#46039f"
            ],
            [
             0.2222222222222222,
             "#7201a8"
            ],
            [
             0.3333333333333333,
             "#9c179e"
            ],
            [
             0.4444444444444444,
             "#bd3786"
            ],
            [
             0.5555555555555556,
             "#d8576b"
            ],
            [
             0.6666666666666666,
             "#ed7953"
            ],
            [
             0.7777777777777778,
             "#fb9f3a"
            ],
            [
             0.8888888888888888,
             "#fdca26"
            ],
            [
             1,
             "#f0f921"
            ]
           ]
          },
          "colorway": [
           "#636efa",
           "#EF553B",
           "#00cc96",
           "#ab63fa",
           "#FFA15A",
           "#19d3f3",
           "#FF6692",
           "#B6E880",
           "#FF97FF",
           "#FECB52"
          ],
          "font": {
           "color": "#2a3f5f"
          },
          "geo": {
           "bgcolor": "white",
           "lakecolor": "white",
           "landcolor": "white",
           "showlakes": true,
           "showland": true,
           "subunitcolor": "#C8D4E3"
          },
          "hoverlabel": {
           "align": "left"
          },
          "hovermode": "closest",
          "mapbox": {
           "style": "light"
          },
          "paper_bgcolor": "white",
          "plot_bgcolor": "white",
          "polar": {
           "angularaxis": {
            "gridcolor": "#EBF0F8",
            "linecolor": "#EBF0F8",
            "ticks": ""
           },
           "bgcolor": "white",
           "radialaxis": {
            "gridcolor": "#EBF0F8",
            "linecolor": "#EBF0F8",
            "ticks": ""
           }
          },
          "scene": {
           "xaxis": {
            "backgroundcolor": "white",
            "gridcolor": "#DFE8F3",
            "gridwidth": 2,
            "linecolor": "#EBF0F8",
            "showbackground": true,
            "ticks": "",
            "zerolinecolor": "#EBF0F8"
           },
           "yaxis": {
            "backgroundcolor": "white",
            "gridcolor": "#DFE8F3",
            "gridwidth": 2,
            "linecolor": "#EBF0F8",
            "showbackground": true,
            "ticks": "",
            "zerolinecolor": "#EBF0F8"
           },
           "zaxis": {
            "backgroundcolor": "white",
            "gridcolor": "#DFE8F3",
            "gridwidth": 2,
            "linecolor": "#EBF0F8",
            "showbackground": true,
            "ticks": "",
            "zerolinecolor": "#EBF0F8"
           }
          },
          "shapedefaults": {
           "line": {
            "color": "#2a3f5f"
           }
          },
          "ternary": {
           "aaxis": {
            "gridcolor": "#DFE8F3",
            "linecolor": "#A2B1C6",
            "ticks": ""
           },
           "baxis": {
            "gridcolor": "#DFE8F3",
            "linecolor": "#A2B1C6",
            "ticks": ""
           },
           "bgcolor": "white",
           "caxis": {
            "gridcolor": "#DFE8F3",
            "linecolor": "#A2B1C6",
            "ticks": ""
           }
          },
          "title": {
           "x": 0.05
          },
          "xaxis": {
           "automargin": true,
           "gridcolor": "#EBF0F8",
           "linecolor": "#EBF0F8",
           "ticks": "",
           "title": {
            "standoff": 15
           },
           "zerolinecolor": "#EBF0F8",
           "zerolinewidth": 2
          },
          "yaxis": {
           "automargin": true,
           "gridcolor": "#EBF0F8",
           "linecolor": "#EBF0F8",
           "ticks": "",
           "title": {
            "standoff": 15
           },
           "zerolinecolor": "#EBF0F8",
           "zerolinewidth": 2
          }
         }
        },
        "title": {
         "text": "[2022-04-10 00:18:40] Episode: 2/2 Step: 141/200"
        },
        "xaxis": {
         "anchor": "y",
         "domain": [
          0,
          1
         ],
         "gridcolor": "Gainsboro",
         "linecolor": "Grey",
         "matches": "x4",
         "rangeslider": {
          "visible": false
         },
         "showticklabels": false,
         "title": {
          "font": {
           "size": 12
          },
          "standoff": 7,
          "text": "Price"
         }
        },
        "xaxis2": {
         "anchor": "y2",
         "domain": [
          0,
          1
         ],
         "gridcolor": "Gainsboro",
         "linecolor": "Grey",
         "matches": "x4",
         "showticklabels": false,
         "title": {
          "font": {
           "size": 12
          },
          "standoff": 7,
          "text": "Volume"
         }
        },
        "xaxis3": {
         "anchor": "y3",
         "domain": [
          0,
          1
         ],
         "gridcolor": "Gainsboro",
         "linecolor": "Grey",
         "matches": "x4",
         "showticklabels": false,
         "title": {
          "font": {
           "size": 12
          },
          "standoff": 7,
          "text": "Performance"
         }
        },
        "xaxis4": {
         "anchor": "y4",
         "domain": [
          0,
          1
         ],
         "gridcolor": "Gainsboro",
         "linecolor": "Grey",
         "title": {
          "font": {
           "size": 12
          },
          "standoff": 7,
          "text": "Net Worth"
         }
        },
        "yaxis": {
         "anchor": "x",
         "domain": [
          0.49950000000000006,
          1
         ],
         "gridcolor": "Gainsboro",
         "linecolor": "Grey"
        },
        "yaxis2": {
         "anchor": "x2",
         "domain": [
          0.333,
          0.46950000000000003
         ],
         "gridcolor": "Gainsboro",
         "linecolor": "Grey"
        },
        "yaxis3": {
         "anchor": "x3",
         "domain": [
          0.1665,
          0.30300000000000005
         ],
         "gridcolor": "Gainsboro",
         "linecolor": "Grey"
        },
        "yaxis4": {
         "anchor": "x4",
         "domain": [
          0,
          0.1365
         ],
         "gridcolor": "Gainsboro",
         "linecolor": "Grey"
        }
       }
      }
     },
     "metadata": {},
     "output_type": "display_data"
    },
    {
     "data": {
      "application/vnd.jupyter.widget-view+json": {
       "model_id": "dc4636eeaeb44503acf6a2b1e182667b",
       "version_major": 2,
       "version_minor": 0
      },
      "text/plain": [
       "FigureWidget({\n",
       "    'data': [{'close': array([8740.99, 8739.  , 8728.49, 8708.32, 8795.9 , 8760.  , 8760.  , 87…"
      ]
     },
     "metadata": {},
     "output_type": "display_data"
    },
    {
     "data": {
      "application/vnd.plotly.v1+json": {
       "config": {
        "plotlyServerURL": "https://plot.ly"
       },
       "data": [
        {
         "close": [
          8740.99,
          8739,
          8728.49,
          8708.32,
          8795.9,
          8760,
          8760,
          8759.23,
          8517.77,
          8520.3,
          8535.23,
          8546.34,
          8526.65,
          8555.6,
          8512.1,
          8492.28,
          8460,
          8474.99,
          8455.92,
          8326.28,
          8133.43,
          8164.79,
          8229.38,
          8220.4,
          8238.8,
          8232.99,
          8207.48,
          8243.45,
          8371.13,
          8373,
          8365.08,
          8179.99,
          8225,
          8285.8,
          8273.4,
          8297.4,
          8279.89,
          8252.72,
          8302.18,
          8295.85,
          8277.25,
          8346.59,
          8358.3,
          8375.1,
          8368.62,
          8366.72,
          8314.77,
          8363.7,
          8344.16,
          8247.4,
          8277.4,
          8291.67,
          8307.89,
          8298.9,
          8269.47,
          8300.98,
          8318.49,
          8306.39,
          8276.43,
          8257.69,
          8166,
          8176.33,
          8200.7,
          8155.41,
          8080,
          8067.03,
          7958.08,
          7974.25,
          7998.5,
          7991.99,
          8022.7,
          8042.97,
          7965.67,
          8088.95,
          8122.19,
          8107.99,
          8137.73,
          8115,
          8107,
          8094.4,
          8080.01,
          8117.09,
          8126.99,
          8110.95,
          8215.39,
          8231.42,
          8240.13,
          8235,
          8219.9,
          8248.87,
          8213.5,
          8200.99,
          8200,
          8237.3,
          8228.13,
          8240.83,
          8214.9,
          8170.07,
          8229.87,
          8205.87,
          8252.56,
          8365,
          8348.65,
          8303.99,
          8310.48,
          8310,
          8289.87,
          8304.99,
          8301.35,
          8313.12,
          8240.07,
          8199.99,
          8226.98,
          8231.2,
          8198.89,
          8215.85,
          8279.99,
          8255.08,
          8270.4,
          8244.24,
          8239.12,
          8267.14,
          8282.27,
          8350.62,
          8336.6,
          8336.91,
          8311.21,
          8312.09,
          8345.19,
          8377.2,
          8481.11,
          8516.36,
          8524,
          8517.04,
          8558.5,
          8521.99,
          8484.93,
          8518.48,
          8488.99,
          8466.72,
          8492.55,
          8494.28,
          8510.95,
          8498.64,
          8551.1,
          8524.22,
          8510.11,
          8475.62,
          8476.58,
          8467.13,
          8499.84,
          8490.42,
          8407.09,
          8409.42,
          8400.96,
          8383.14,
          8350,
          8373.01,
          8412.8,
          8385.57,
          8408.53
         ],
         "high": [
          8796.68,
          8766,
          8750.27,
          8754.4,
          8865,
          8821.19,
          8798.6,
          8771.02,
          8761.7,
          8553.67,
          8589.1,
          8579.48,
          8555.51,
          8583.6,
          8569.92,
          8555.54,
          8557.51,
          8505,
          8505.33,
          8478.29,
          8339.81,
          8217.44,
          8252.72,
          8248.63,
          8267.12,
          8255,
          8261.24,
          8263.93,
          8455.66,
          8439.44,
          8399.1,
          8381.73,
          8229.91,
          8377.29,
          8329.1,
          8350,
          8346.95,
          8377.29,
          8311.35,
          8319.96,
          8398.24,
          8372.58,
          8399.99,
          8386.53,
          8400,
          8500,
          8381,
          8371.3,
          8382.41,
          8351,
          8292.99,
          8325.8,
          8318.99,
          8324.9,
          8335.56,
          8309.4,
          8377.29,
          8330.41,
          8328.23,
          8284.36,
          8274.83,
          8200,
          8232.14,
          8213.97,
          8155.41,
          8108.28,
          8068.92,
          8019.9,
          8026.66,
          8025,
          8104.69,
          8061.39,
          8045.99,
          8170.71,
          8144.16,
          8139.99,
          8152.99,
          8137.73,
          8143.72,
          8129.99,
          8106.76,
          8139,
          8152.04,
          8146.99,
          8232.14,
          8275.1,
          8256.12,
          8274.1,
          8255.8,
          8253.97,
          8261.09,
          8235.76,
          8227,
          8273.36,
          8264.21,
          8250,
          8250.86,
          8235.77,
          8232.12,
          8232.14,
          8252.72,
          8370,
          8395,
          8374.48,
          8331,
          8319.43,
          8323.4,
          8314.55,
          8330.62,
          8314.8,
          8323.99,
          8263.03,
          8247.78,
          8253.75,
          8237.89,
          8235,
          8279.99,
          8290,
          8278.71,
          8275.34,
          8279.31,
          8279.98,
          8294.04,
          8356.4,
          8374.94,
          8354.83,
          8360.45,
          8337.14,
          8351.97,
          8377.29,
          8549,
          8531.9,
          8551.79,
          8529.9,
          8590,
          8576.1,
          8549.89,
          8531.89,
          8550,
          8493.29,
          8522.98,
          8517,
          8537.29,
          8524.51,
          8589.1,
          8589.07,
          8536.92,
          8524.03,
          8497.8,
          8498,
          8513.5,
          8510,
          8494.7,
          8427.29,
          8419.03,
          8415.47,
          8389.99,
          8397.57,
          8455,
          8429.66,
          8412.61
         ],
         "low": [
          8707.28,
          8721.11,
          8660.53,
          8701.35,
          8695.11,
          8740.54,
          8741.52,
          8700,
          8467.42,
          8477.89,
          8500.78,
          8500,
          8400,
          8451.05,
          8461.38,
          8481.24,
          8420.37,
          8450,
          8430.94,
          8275.02,
          8100.01,
          8122.56,
          8157.01,
          8166.25,
          8176.91,
          8213.79,
          8200,
          8207.48,
          8237.1,
          8370,
          8356.4,
          8145.1,
          8173.6,
          8211.8,
          8201,
          8250.9,
          8266.46,
          8252.72,
          8232.14,
          8268.37,
          8277.25,
          8277.25,
          8314.78,
          8314.77,
          8350.07,
          8331.39,
          8314.77,
          8275.45,
          8335.49,
          8191.14,
          8227.7,
          8264.13,
          8249.93,
          8269.52,
          8219.44,
          8262.68,
          8286.65,
          8289.87,
          8232.14,
          8232.14,
          8110.02,
          8154.95,
          8168.6,
          8151,
          7980,
          8005.95,
          7929.53,
          7931.03,
          7950,
          7980.58,
          7991.99,
          7992.75,
          7953.4,
          7965.67,
          8085.94,
          8078.48,
          8092.9,
          8049.22,
          8079.46,
          8062.12,
          8043.96,
          8063.1,
          8088.46,
          8094.43,
          8088.46,
          8191.14,
          8212,
          8224.5,
          8211,
          8211.01,
          8210.03,
          8158.27,
          8177.65,
          8179.41,
          8221.92,
          8217.32,
          8213.52,
          8141.08,
          8146.1,
          8186.03,
          8197.09,
          8231.21,
          8323.82,
          8296,
          8296.31,
          8282.65,
          8280,
          8273.36,
          8290.08,
          8277.93,
          8240.07,
          8191.14,
          8178,
          8193.7,
          8180,
          8170.71,
          8215.53,
          8240.02,
          8237.17,
          8237.17,
          8239.12,
          8227.79,
          8247.57,
          8274.24,
          8326.1,
          8320.61,
          8281.31,
          8269.85,
          8311.16,
          8336.11,
          8369.86,
          8471.51,
          8511,
          8476.66,
          8507.68,
          8509.24,
          8482.53,
          8484.93,
          8450,
          8434.47,
          8461.1,
          8481,
          8480,
          8488.1,
          8471.09,
          8509.2,
          8482.64,
          8469,
          8440.4,
          8440.52,
          8461.8,
          8480,
          8358.17,
          8380.73,
          8370,
          8383.12,
          8320,
          8349.17,
          8357.11,
          8370.58,
          8367.21
         ],
         "name": "Price",
         "open": [
          8733.86,
          8740.99,
          8739,
          8728.49,
          8708.32,
          8795.9,
          8760,
          8760,
          8759.23,
          8517.77,
          8520.3,
          8535.23,
          8546.34,
          8526.65,
          8555.6,
          8512.1,
          8492.28,
          8460,
          8474.99,
          8455.92,
          8326.28,
          8133.43,
          8164.79,
          8229.38,
          8220.4,
          8238.8,
          8232.99,
          8207.48,
          8243.45,
          8371.13,
          8373,
          8365.08,
          8179.99,
          8225,
          8285.8,
          8273.4,
          8297.4,
          8279.89,
          8252.72,
          8302.18,
          8295.85,
          8277.25,
          8346.59,
          8358.3,
          8375.1,
          8368.62,
          8366.72,
          8314.77,
          8363.7,
          8344.16,
          8247.4,
          8277.4,
          8291.67,
          8307.89,
          8298.9,
          8269.47,
          8300.98,
          8318.49,
          8306.39,
          8276.43,
          8257.69,
          8166,
          8176.33,
          8200.7,
          8155.41,
          8080,
          8067.03,
          7958.08,
          7974.25,
          7998.5,
          7991.99,
          8022.7,
          8042.97,
          7965.67,
          8088.95,
          8122.19,
          8107.99,
          8137.73,
          8115,
          8107,
          8094.4,
          8080.01,
          8117.09,
          8126.99,
          8110.95,
          8215.39,
          8231.42,
          8240.13,
          8235,
          8219.9,
          8248.87,
          8213.5,
          8200.99,
          8200,
          8237.3,
          8228.13,
          8240.83,
          8214.9,
          8170.07,
          8229.87,
          8205.87,
          8252.56,
          8365,
          8348.65,
          8303.99,
          8310.48,
          8310,
          8289.87,
          8304.99,
          8301.35,
          8313.12,
          8240.07,
          8199.99,
          8226.98,
          8231.2,
          8198.89,
          8215.85,
          8279.99,
          8255.08,
          8270.4,
          8244.24,
          8239.12,
          8267.14,
          8282.27,
          8350.62,
          8336.6,
          8336.91,
          8311.21,
          8312.09,
          8345.19,
          8377.2,
          8481.11,
          8516.36,
          8524,
          8517.04,
          8558.5,
          8521.99,
          8484.93,
          8518.48,
          8488.99,
          8466.72,
          8492.55,
          8494.28,
          8510.95,
          8498.64,
          8551.1,
          8524.22,
          8510.11,
          8475.62,
          8476.58,
          8467.13,
          8499.84,
          8490.42,
          8407.09,
          8409.42,
          8400.96,
          8383.14,
          8350,
          8373.01,
          8412.8,
          8385.57
         ],
         "showlegend": false,
         "type": "candlestick",
         "uid": "8c6d8a56-07c4-4131-a4c8-63193c8a8ccd",
         "xaxis": "x",
         "yaxis": "y"
        },
        {
         "marker": {
          "color": "DodgerBlue"
         },
         "name": "Volume",
         "showlegend": false,
         "type": "bar",
         "uid": "145b46e2-d412-4928-981a-553342a3477e",
         "xaxis": "x2",
         "y": [
          559.93,
          273.58,
          917.79,
          182.62,
          1260.69,
          324.11,
          324.2,
          730.67,
          1341.75,
          792.07,
          385.69,
          475.08,
          877.26,
          670.49,
          610.97,
          168.99,
          305.92,
          136.05,
          154.26,
          1070.93,
          1710.2,
          492.8,
          630.72,
          620.93,
          586.34,
          304.52,
          450.97,
          182.36,
          915.32,
          319.29,
          362.01,
          1046.38,
          357.91,
          561.2,
          322.53,
          1073.71,
          237.21,
          251.2,
          359.73,
          117.23,
          363.17,
          214.18,
          171.64,
          258.58,
          299.52,
          718.98,
          119.7,
          405.25,
          210.77,
          714.82,
          215.97,
          164.2,
          201.55,
          203.41,
          886.82,
          95.49,
          499.67,
          172.77,
          355.39,
          255.27,
          591.06,
          133.1,
          149.13,
          87.55,
          1061.54,
          286.94,
          524.42,
          316,
          441.43,
          189.7,
          844.94,
          155.34,
          257.56,
          610.69,
          217.97,
          173.18,
          218.06,
          372.97,
          484.39,
          248.1,
          162.35,
          303.42,
          290.69,
          160.93,
          369.4,
          487.27,
          93.35,
          96.68,
          72.14,
          90.22,
          168.52,
          203.15,
          71.42,
          464.56,
          57,
          89.42,
          49.47,
          200.05,
          254.37,
          65.05,
          118.19,
          452.4,
          181.03,
          288.04,
          145.78,
          110.14,
          55.48,
          80.87,
          67.01,
          59.16,
          121.26,
          244.37,
          156.87,
          80.48,
          139.32,
          93.52,
          200.23,
          97.4,
          68.08,
          47,
          36.65,
          28.75,
          182.85,
          400.18,
          288.1,
          182.94,
          777.81,
          493.59,
          118.63,
          174.37,
          901.75,
          222.45,
          113.8,
          84.2,
          261.44,
          168.78,
          111.07,
          122.12,
          267.32,
          210.39,
          211.36,
          146.22,
          93.39,
          89.04,
          307.59,
          307.2,
          164.24,
          151.21,
          399.77,
          362.01,
          260.85,
          232.32,
          1109.45,
          348.5,
          210.57,
          274.92,
          277.83,
          99.57,
          273.12,
          129.47,
          113.05
         ],
         "yaxis": "y2"
        },
        {
         "mode": "lines",
         "name": "bitstamp:/USD-BTC",
         "type": "scatter",
         "uid": "8c525a7c-7cb9-4397-bed8-bf45f03e8a5f",
         "xaxis": "x3",
         "y": [
          8740.99,
          8739,
          8728.49,
          8708.32,
          8795.9,
          8760,
          8760,
          8759.23,
          8517.77,
          8520.3,
          8535.23,
          8546.34,
          8526.65,
          8555.6,
          8512.1,
          8492.28,
          8460,
          8474.99,
          8455.92,
          8326.28,
          8133.43,
          8164.79,
          8229.38,
          8220.4,
          8238.8,
          8232.99,
          8207.48,
          8243.45,
          8371.13,
          8373,
          8365.08,
          8179.99,
          8225,
          8285.8,
          8273.4,
          8297.4,
          8279.89,
          8252.72,
          8302.18,
          8295.85,
          8277.25,
          8346.59,
          8358.3,
          8375.1,
          8368.62,
          8366.72,
          8314.77,
          8363.7,
          8344.16,
          8247.4,
          8277.4,
          8291.67,
          8307.89,
          8298.9,
          8269.47,
          8300.98,
          8318.49,
          8306.39,
          8276.43,
          8257.69,
          8166,
          8176.33,
          8200.7,
          8155.41,
          8080,
          8067.03,
          7958.08,
          7974.25,
          7998.5,
          7991.99,
          8022.7,
          8042.97,
          7965.67,
          8088.95,
          8122.19,
          8107.99,
          8137.73,
          8115,
          8107,
          8094.4,
          8080.01,
          8117.09,
          8126.99,
          8110.95,
          8215.39,
          8231.42,
          8240.13,
          8235,
          8219.9,
          8248.87,
          8213.5,
          8200.99,
          8200,
          8237.3,
          8228.13,
          8240.83,
          8214.9,
          8170.07,
          8229.87,
          8205.87,
          8252.56,
          8365,
          8348.65,
          8303.99,
          8310.48,
          8310,
          8289.87,
          8304.99,
          8301.35,
          8313.12,
          8240.07,
          8199.99,
          8226.98,
          8231.2,
          8198.89,
          8215.85,
          8279.99,
          8255.08,
          8270.4,
          8244.24,
          8239.12,
          8267.14,
          8282.27,
          8350.62,
          8336.6,
          8336.91,
          8311.21,
          8312.09,
          8345.19,
          8377.2,
          8481.11,
          8516.36,
          8524,
          8517.04,
          8558.5,
          8521.99,
          8484.93,
          8518.48,
          8488.99,
          8466.72,
          8492.55,
          8494.28,
          8510.95,
          8498.64,
          8551.1,
          8524.22,
          8510.11,
          8475.62,
          8476.58,
          8467.13,
          8499.84,
          8490.42,
          8407.09,
          8409.42,
          8400.96,
          8383.14,
          8350,
          8373.01,
          8412.8,
          8385.57,
          8408.53
         ],
         "yaxis": "y3"
        },
        {
         "mode": "lines",
         "name": "bitstamp:/USD:/free",
         "type": "scatter",
         "uid": "401294ed-928f-428f-a642-2b39c2a3ff21",
         "xaxis": "x3",
         "y": [
          10000,
          10000,
          10000,
          2000,
          2000,
          2000,
          2000,
          2000,
          2000,
          9760.1,
          2928.03,
          878.41,
          878.41,
          878.41,
          878.41,
          878.41,
          878.41,
          878.41,
          878.41,
          878.41,
          878.41,
          9302.62,
          0,
          0,
          0,
          0,
          0,
          0,
          0,
          0,
          0,
          0,
          0,
          0,
          0,
          0,
          0,
          0,
          0,
          0,
          0,
          0,
          0,
          0,
          0,
          0,
          0,
          0,
          0,
          0,
          0,
          0,
          0,
          0,
          0,
          0,
          0,
          0,
          0,
          0,
          0,
          0,
          0,
          0,
          0,
          0,
          0,
          0,
          0,
          0,
          0,
          0,
          0,
          0,
          0,
          0,
          0,
          0,
          0,
          0,
          0,
          0,
          0,
          0,
          0,
          0,
          0,
          0,
          0,
          0,
          0,
          0,
          0,
          0,
          0,
          0,
          0,
          0,
          0,
          0,
          0,
          0,
          0,
          0,
          0,
          0,
          0,
          0,
          0,
          0,
          0,
          0,
          0,
          0,
          0,
          0,
          0,
          0,
          0,
          0,
          0,
          0,
          0,
          0,
          0,
          0,
          0,
          0,
          0,
          0,
          0,
          9605.13,
          2881.54,
          864.46,
          864.46,
          864.46,
          864.46,
          864.46,
          864.46,
          864.46,
          864.46,
          864.46,
          864.46,
          864.46,
          864.46,
          864.46,
          864.46,
          864.46,
          864.46,
          864.46,
          864.46,
          864.46,
          864.46,
          864.46,
          864.46,
          864.46,
          864.46,
          864.46,
          864.46,
          864.46,
          864.46
         ],
         "yaxis": "y3"
        },
        {
         "mode": "lines",
         "name": "bitstamp:/USD:/locked",
         "type": "scatter",
         "uid": "2aef03b6-c4ff-49c5-a389-faa69b1e2dd5",
         "xaxis": "x3",
         "y": [
          0,
          0,
          0,
          0,
          0,
          0,
          0,
          0,
          0,
          0,
          0,
          0,
          0,
          0,
          0,
          0,
          0,
          0,
          0,
          0,
          0,
          0,
          0,
          0,
          0,
          0,
          0,
          0,
          0,
          0,
          0,
          0,
          0,
          0,
          0,
          0,
          0,
          0,
          0,
          0,
          0,
          0,
          0,
          0,
          0,
          0,
          0,
          0,
          0,
          0,
          0,
          0,
          0,
          0,
          0,
          0,
          0,
          0,
          0,
          0,
          0,
          0,
          0,
          0,
          0,
          0,
          0,
          0,
          0,
          0,
          0,
          0,
          0,
          0,
          0,
          0,
          0,
          0,
          0,
          0,
          0,
          0,
          0,
          0,
          0,
          0,
          0,
          0,
          0,
          0,
          0,
          0,
          0,
          0,
          0,
          0,
          0,
          0,
          0,
          0,
          0,
          0,
          0,
          0,
          0,
          0,
          0,
          0,
          0,
          0,
          0,
          0,
          0,
          0,
          0,
          0,
          0,
          0,
          0,
          0,
          0,
          0,
          0,
          0,
          0,
          0,
          0,
          0,
          0,
          0,
          0,
          0,
          0,
          0,
          0,
          0,
          0,
          0,
          0,
          0,
          0,
          0,
          0,
          0,
          0,
          0,
          0,
          0,
          0,
          0,
          0,
          0,
          0,
          0,
          0,
          0,
          0,
          0,
          0,
          0,
          0
         ],
         "yaxis": "y3"
        },
        {
         "mode": "lines",
         "name": "bitstamp:/USD:/total",
         "type": "scatter",
         "uid": "1cfdc07a-0fb3-45f5-8ac0-46485deef13b",
         "xaxis": "x3",
         "y": [
          10000,
          10000,
          10000,
          2000,
          2000,
          2000,
          2000,
          2000,
          2000,
          9760.1,
          2928.03,
          878.41,
          878.41,
          878.41,
          878.41,
          878.41,
          878.41,
          878.41,
          878.41,
          878.41,
          878.41,
          9302.62,
          0,
          0,
          0,
          0,
          0,
          0,
          0,
          0,
          0,
          0,
          0,
          0,
          0,
          0,
          0,
          0,
          0,
          0,
          0,
          0,
          0,
          0,
          0,
          0,
          0,
          0,
          0,
          0,
          0,
          0,
          0,
          0,
          0,
          0,
          0,
          0,
          0,
          0,
          0,
          0,
          0,
          0,
          0,
          0,
          0,
          0,
          0,
          0,
          0,
          0,
          0,
          0,
          0,
          0,
          0,
          0,
          0,
          0,
          0,
          0,
          0,
          0,
          0,
          0,
          0,
          0,
          0,
          0,
          0,
          0,
          0,
          0,
          0,
          0,
          0,
          0,
          0,
          0,
          0,
          0,
          0,
          0,
          0,
          0,
          0,
          0,
          0,
          0,
          0,
          0,
          0,
          0,
          0,
          0,
          0,
          0,
          0,
          0,
          0,
          0,
          0,
          0,
          0,
          0,
          0,
          0,
          0,
          0,
          0,
          9605.13,
          2881.54,
          864.46,
          864.46,
          864.46,
          864.46,
          864.46,
          864.46,
          864.46,
          864.46,
          864.46,
          864.46,
          864.46,
          864.46,
          864.46,
          864.46,
          864.46,
          864.46,
          864.46,
          864.46,
          864.46,
          864.46,
          864.46,
          864.46,
          864.46,
          864.46,
          864.46,
          864.46,
          864.46,
          864.46
         ],
         "yaxis": "y3"
        },
        {
         "mode": "lines",
         "name": "bitstamp:/BTC:/free",
         "type": "scatter",
         "uid": "6f75c785-6a85-4a93-88f3-23bc8f1b0896",
         "xaxis": "x3",
         "y": [
          10,
          10,
          10,
          10,
          10,
          10,
          10,
          10,
          10,
          10,
          10,
          10,
          10,
          10,
          10,
          10,
          10,
          10,
          10,
          10,
          10,
          10,
          10,
          10,
          10,
          10,
          10,
          10,
          10,
          10,
          10,
          10,
          10,
          10,
          10,
          10,
          10,
          10,
          10,
          10,
          10,
          10,
          10,
          10,
          10,
          10,
          10,
          10,
          10,
          10,
          10,
          10,
          10,
          10,
          10,
          10,
          10,
          10,
          10,
          10,
          10,
          10,
          10,
          10,
          10,
          10,
          10,
          10,
          10,
          10,
          10,
          10,
          10,
          10,
          10,
          10,
          10,
          10,
          10,
          10,
          10,
          10,
          10,
          10,
          10,
          10,
          10,
          10,
          10,
          10,
          10,
          10,
          10,
          10,
          10,
          10,
          10,
          10,
          10,
          10,
          10,
          10,
          10,
          10,
          10,
          10,
          10,
          10,
          10,
          10,
          10,
          10,
          10,
          10,
          10,
          10,
          10,
          10,
          10,
          10,
          10,
          10,
          10,
          10,
          10,
          10,
          10,
          10,
          10,
          10,
          10,
          10,
          10,
          10,
          10,
          10,
          10,
          10,
          10,
          10,
          10,
          10,
          10,
          10,
          10,
          10,
          10,
          10,
          10,
          10,
          10,
          10,
          10,
          10,
          10,
          10,
          10,
          10,
          10,
          10,
          10
         ],
         "yaxis": "y3"
        },
        {
         "mode": "lines",
         "name": "bitstamp:/BTC:/locked",
         "type": "scatter",
         "uid": "ba02f11e-201e-468a-9ae6-fb1561982cfe",
         "xaxis": "x3",
         "y": [
          0,
          0,
          0,
          0.91378921,
          0.91378921,
          0.91378921,
          0.91378921,
          0.91378921,
          0.91378921,
          0,
          0.7994519,
          1.03886783,
          1.03886783,
          1.03886783,
          1.03886783,
          1.03886783,
          1.03886783,
          1.03886783,
          1.03886783,
          1.03886783,
          1.03886783,
          0,
          1.13593981,
          1.13593981,
          1.13593981,
          1.13593981,
          1.13593981,
          1.13593981,
          1.13593981,
          1.13593981,
          1.13593981,
          1.13593981,
          1.13593981,
          1.13593981,
          1.13593981,
          1.13593981,
          1.13593981,
          1.13593981,
          1.13593981,
          1.13593981,
          1.13593981,
          1.13593981,
          1.13593981,
          1.13593981,
          1.13593981,
          1.13593981,
          1.13593981,
          1.13593981,
          1.13593981,
          1.13593981,
          1.13593981,
          1.13593981,
          1.13593981,
          1.13593981,
          1.13593981,
          1.13593981,
          1.13593981,
          1.13593981,
          1.13593981,
          1.13593981,
          1.13593981,
          1.13593981,
          1.13593981,
          1.13593981,
          1.13593981,
          1.13593981,
          1.13593981,
          1.13593981,
          1.13593981,
          1.13593981,
          1.13593981,
          1.13593981,
          1.13593981,
          1.13593981,
          1.13593981,
          1.13593981,
          1.13593981,
          1.13593981,
          1.13593981,
          1.13593981,
          1.13593981,
          1.13593981,
          1.13593981,
          1.13593981,
          1.13593981,
          1.13593981,
          1.13593981,
          1.13593981,
          1.13593981,
          1.13593981,
          1.13593981,
          1.13593981,
          1.13593981,
          1.13593981,
          1.13593981,
          1.13593981,
          1.13593981,
          1.13593981,
          1.13593981,
          1.13593981,
          1.13593981,
          1.13593981,
          1.13593981,
          1.13593981,
          1.13593981,
          1.13593981,
          1.13593981,
          1.13593981,
          1.13593981,
          1.13593981,
          1.13593981,
          1.13593981,
          1.13593981,
          1.13593981,
          1.13593981,
          1.13593981,
          1.13593981,
          1.13593981,
          1.13593981,
          1.13593981,
          1.13593981,
          1.13593981,
          1.13593981,
          1.13593981,
          1.13593981,
          1.13593981,
          1.13593981,
          1.13593981,
          1.13593981,
          1.13593981,
          1.13593981,
          0,
          0.78712267,
          1.02304829,
          1.02304829,
          1.02304829,
          1.02304829,
          1.02304829,
          1.02304829,
          1.02304829,
          1.02304829,
          1.02304829,
          1.02304829,
          1.02304829,
          1.02304829,
          1.02304829,
          1.02304829,
          1.02304829,
          1.02304829,
          1.02304829,
          1.02304829,
          1.02304829,
          1.02304829,
          1.02304829,
          1.02304829,
          1.02304829,
          1.02304829,
          1.02304829,
          1.02304829,
          1.02304829,
          1.02304829
         ],
         "yaxis": "y3"
        },
        {
         "mode": "lines",
         "name": "bitstamp:/BTC:/total",
         "type": "scatter",
         "uid": "db06df65-6739-42e7-9218-1600ec083b58",
         "xaxis": "x3",
         "y": [
          10,
          10,
          10,
          10.91378921,
          10.91378921,
          10.91378921,
          10.91378921,
          10.91378921,
          10.91378921,
          10,
          10.7994519,
          11.03886783,
          11.03886783,
          11.03886783,
          11.03886783,
          11.03886783,
          11.03886783,
          11.03886783,
          11.03886783,
          11.03886783,
          11.03886783,
          10,
          11.13593981,
          11.13593981,
          11.13593981,
          11.13593981,
          11.13593981,
          11.13593981,
          11.13593981,
          11.13593981,
          11.13593981,
          11.13593981,
          11.13593981,
          11.13593981,
          11.13593981,
          11.13593981,
          11.13593981,
          11.13593981,
          11.13593981,
          11.13593981,
          11.13593981,
          11.13593981,
          11.13593981,
          11.13593981,
          11.13593981,
          11.13593981,
          11.13593981,
          11.13593981,
          11.13593981,
          11.13593981,
          11.13593981,
          11.13593981,
          11.13593981,
          11.13593981,
          11.13593981,
          11.13593981,
          11.13593981,
          11.13593981,
          11.13593981,
          11.13593981,
          11.13593981,
          11.13593981,
          11.13593981,
          11.13593981,
          11.13593981,
          11.13593981,
          11.13593981,
          11.13593981,
          11.13593981,
          11.13593981,
          11.13593981,
          11.13593981,
          11.13593981,
          11.13593981,
          11.13593981,
          11.13593981,
          11.13593981,
          11.13593981,
          11.13593981,
          11.13593981,
          11.13593981,
          11.13593981,
          11.13593981,
          11.13593981,
          11.13593981,
          11.13593981,
          11.13593981,
          11.13593981,
          11.13593981,
          11.13593981,
          11.13593981,
          11.13593981,
          11.13593981,
          11.13593981,
          11.13593981,
          11.13593981,
          11.13593981,
          11.13593981,
          11.13593981,
          11.13593981,
          11.13593981,
          11.13593981,
          11.13593981,
          11.13593981,
          11.13593981,
          11.13593981,
          11.13593981,
          11.13593981,
          11.13593981,
          11.13593981,
          11.13593981,
          11.13593981,
          11.13593981,
          11.13593981,
          11.13593981,
          11.13593981,
          11.13593981,
          11.13593981,
          11.13593981,
          11.13593981,
          11.13593981,
          11.13593981,
          11.13593981,
          11.13593981,
          11.13593981,
          11.13593981,
          11.13593981,
          11.13593981,
          11.13593981,
          11.13593981,
          11.13593981,
          10,
          10.78712267,
          11.02304829,
          11.02304829,
          11.02304829,
          11.02304829,
          11.02304829,
          11.02304829,
          11.02304829,
          11.02304829,
          11.02304829,
          11.02304829,
          11.02304829,
          11.02304829,
          11.02304829,
          11.02304829,
          11.02304829,
          11.02304829,
          11.02304829,
          11.02304829,
          11.02304829,
          11.02304829,
          11.02304829,
          11.02304829,
          11.02304829,
          11.02304829,
          11.02304829,
          11.02304829,
          11.02304829,
          11.02304829
         ],
         "yaxis": "y3"
        },
        {
         "mode": "lines",
         "name": "bitstamp:/BTC:/worth",
         "type": "scatter",
         "uid": "00269ee4-5684-47d5-acbb-521c67b732c8",
         "xaxis": "x3",
         "y": [
          87409.9,
          87390,
          87284.9,
          95040.76885322719,
          95996.59851223898,
          95604.79347959999,
          95604.79347959999,
          95596.38986190829,
          92961.1463192617,
          85203,
          92175.805840437,
          94341.91769024219,
          94124.5623826695,
          94444.137606348,
          93963.946855743,
          93745.1564953524,
          93388.82184179999,
          93554.2944705717,
          93343.7832610536,
          91912.7044355724,
          89783.8587745569,
          81647.9,
          91641.88035361779,
          91541.879614124,
          91746.78090662799,
          91682.0810963319,
          91398.0032717788,
          91798.56302674451,
          93220.39982168529,
          93241.22402913,
          93153.0273858348,
          91091.8762864019,
          91593.10493725,
          92270.17007769799,
          92132.084424054,
          92399.346979494,
          92204.35667342089,
          91901.7931887832,
          92452.5767717858,
          92382.08627278851,
          92174.9577923225,
          92947.1238587479,
          93077.525713923,
          93264.60950273101,
          93192.44861276221,
          93171.29032712319,
          92592.7782539937,
          93137.65978889701,
          92920.0635250096,
          91842.549988994,
          92176.628183294,
          92335.5380443827,
          92516.1629881009,
          92416.050889209,
          92088.3201806007,
          92439.2136440138,
          92634.2039500869,
          92499.45907838589,
          92165.82632167831,
          91957.13880963891,
          90936.08448846,
          91051.1187466973,
          91322.50159986701,
          90818.15488587209,
          89978.3936648,
          89833.9605254643,
          88620.6998831648,
          88800.7680298925,
          89070.814570285,
          88998.3196021219,
          89340.304313687,
          89566.0298136357,
          88705.2216663227,
          90078.0603260995,
          90448.2189653839,
          90290.0886200819,
          90621.2714700313,
          90368.15155815,
          90279.06403967,
          90138.751198064,
          89978.50502419811,
          90391.4256723529,
          90501.67147647189,
          90323.05100191949,
          91486.08855567589,
          91664.5976708302,
          91761.59170657529,
          91704.46433535,
          91536.311644219,
          91858.91982051471,
          91465.041629435,
          91325.7310224119,
          91314.706442,
          91730.07699691299,
          91627.9604288553,
          91769.3868644423,
          91480.63194516899,
          90981.4077634867,
          91647.33696412471,
          91380.07440868471,
          91900.0114384136,
          93152.13651065,
          92970.0638947565,
          92472.73282284189,
          92545.00507220879,
          92539.6598211,
          92315.4933527247,
          92483.8687626519,
          92443.3339417435,
          92574.4039533072,
          91760.9235501867,
          91314.5950826019,
          91615.15409807379,
          91662.14776407201,
          91302.34554881089,
          91491.2110879885,
          92205.47026740189,
          91928.0740067348,
          92098.676604624,
          91807.3604191944,
          91750.34440736721,
          92062.3734408434,
          92230.8602101687,
          92992.00169618221,
          92835.875820046,
          92839.3279613871,
          92553.13430827009,
          92562.9339353029,
          92931.53354301391,
          93287.994976332,
          94445.13048198911,
          85163.6,
          91949.43363908,
          93883.74320786161,
          94340.758789965,
          93938.3072968971,
          93529.7931272697,
          93899.6163973992,
          93574.5467033271,
          93329.0634179088,
          93613.7887552395,
          93632.8586287812,
          93816.61284377551,
          93680.9191193256,
          94259.18823261901,
          93962.88869458379,
          93807.3534832119,
          93427.16854768981,
          93437.7506740482,
          93333.5828677077,
          93694.1467772736,
          93590.3096623818,
          92671.7590483761,
          92697.4427508918,
          92604.18776235839,
          92407.7570418306,
          92042.4532215,
          92296.09356265291,
          92734.70065411199,
          92434.54304917529,
          92687.63223791371
         ],
         "yaxis": "y3"
        },
        {
         "mode": "lines",
         "name": "net_worth",
         "type": "scatter",
         "uid": "c6aa695d-58af-49d4-a325-d546bfdc6beb",
         "xaxis": "x3",
         "y": [
          97409.9,
          97390,
          97284.9,
          97040.76885322719,
          97996.59851223898,
          97604.79347959999,
          97604.79347959999,
          97596.38986190829,
          94961.1463192617,
          94963.1,
          95103.835840437,
          95220.3276902422,
          95002.9723826695,
          95322.547606348,
          94842.356855743,
          94623.56649535241,
          94267.23184179999,
          94432.7044705717,
          94222.1932610536,
          92791.11443557241,
          90662.2687745569,
          90950.51999999999,
          91641.88035361779,
          91541.879614124,
          91746.78090662799,
          91682.0810963319,
          91398.0032717788,
          91798.56302674451,
          93220.39982168529,
          93241.22402913,
          93153.0273858348,
          91091.8762864019,
          91593.10493725,
          92270.17007769799,
          92132.084424054,
          92399.346979494,
          92204.35667342089,
          91901.7931887832,
          92452.5767717858,
          92382.08627278851,
          92174.9577923225,
          92947.1238587479,
          93077.525713923,
          93264.60950273101,
          93192.44861276221,
          93171.29032712319,
          92592.7782539937,
          93137.65978889701,
          92920.0635250096,
          91842.549988994,
          92176.628183294,
          92335.5380443827,
          92516.1629881009,
          92416.050889209,
          92088.3201806007,
          92439.2136440138,
          92634.2039500869,
          92499.45907838589,
          92165.82632167831,
          91957.13880963891,
          90936.08448846,
          91051.1187466973,
          91322.50159986701,
          90818.15488587209,
          89978.3936648,
          89833.9605254643,
          88620.6998831648,
          88800.7680298925,
          89070.814570285,
          88998.3196021219,
          89340.304313687,
          89566.0298136357,
          88705.2216663227,
          90078.0603260995,
          90448.2189653839,
          90290.0886200819,
          90621.2714700313,
          90368.15155815,
          90279.06403967,
          90138.751198064,
          89978.50502419811,
          90391.4256723529,
          90501.67147647189,
          90323.05100191949,
          91486.08855567589,
          91664.5976708302,
          91761.59170657529,
          91704.46433535,
          91536.311644219,
          91858.91982051471,
          91465.041629435,
          91325.7310224119,
          91314.706442,
          91730.07699691299,
          91627.9604288553,
          91769.3868644423,
          91480.63194516899,
          90981.4077634867,
          91647.33696412471,
          91380.07440868471,
          91900.0114384136,
          93152.13651065,
          92970.0638947565,
          92472.73282284189,
          92545.00507220879,
          92539.6598211,
          92315.4933527247,
          92483.8687626519,
          92443.3339417435,
          92574.4039533072,
          91760.9235501867,
          91314.5950826019,
          91615.15409807379,
          91662.14776407201,
          91302.34554881089,
          91491.2110879885,
          92205.47026740189,
          91928.0740067348,
          92098.676604624,
          91807.3604191944,
          91750.34440736721,
          92062.3734408434,
          92230.8602101687,
          92992.00169618221,
          92835.875820046,
          92839.3279613871,
          92553.13430827009,
          92562.9339353029,
          92931.53354301391,
          93287.994976332,
          94445.13048198911,
          94768.73000000001,
          94830.97363908,
          94748.20320786162,
          95205.218789965,
          94802.7672968971,
          94394.25312726971,
          94764.0763973992,
          94439.0067033271,
          94193.5234179088,
          94478.2487552395,
          94497.31862878121,
          94681.07284377552,
          94545.3791193256,
          95123.64823261902,
          94827.3486945838,
          94671.81348321191,
          94291.62854768982,
          94302.21067404821,
          94198.0428677077,
          94558.60677727361,
          94454.7696623818,
          93536.21904837611,
          93561.90275089181,
          93468.64776235839,
          93272.2170418306,
          92906.91322150001,
          93160.55356265292,
          93599.160654112,
          93299.0030491753,
          93552.09223791372
         ],
         "yaxis": "y3"
        },
        {
         "marker": {
          "color": "DarkGreen"
         },
         "mode": "lines",
         "name": "Net Worth",
         "type": "scatter",
         "uid": "425ac698-5938-4ce2-abd8-e4fb972b4a58",
         "xaxis": "x4",
         "y": [
          97409.9,
          97390,
          97284.9,
          97040.76885322719,
          97996.59851223898,
          97604.79347959999,
          97604.79347959999,
          97596.38986190829,
          94961.1463192617,
          94963.1,
          95103.835840437,
          95220.3276902422,
          95002.9723826695,
          95322.547606348,
          94842.356855743,
          94623.56649535241,
          94267.23184179999,
          94432.7044705717,
          94222.1932610536,
          92791.11443557241,
          90662.2687745569,
          90950.51999999999,
          91641.88035361779,
          91541.879614124,
          91746.78090662799,
          91682.0810963319,
          91398.0032717788,
          91798.56302674451,
          93220.39982168529,
          93241.22402913,
          93153.0273858348,
          91091.8762864019,
          91593.10493725,
          92270.17007769799,
          92132.084424054,
          92399.346979494,
          92204.35667342089,
          91901.7931887832,
          92452.5767717858,
          92382.08627278851,
          92174.9577923225,
          92947.1238587479,
          93077.525713923,
          93264.60950273101,
          93192.44861276221,
          93171.29032712319,
          92592.7782539937,
          93137.65978889701,
          92920.0635250096,
          91842.549988994,
          92176.628183294,
          92335.5380443827,
          92516.1629881009,
          92416.050889209,
          92088.3201806007,
          92439.2136440138,
          92634.2039500869,
          92499.45907838589,
          92165.82632167831,
          91957.13880963891,
          90936.08448846,
          91051.1187466973,
          91322.50159986701,
          90818.15488587209,
          89978.3936648,
          89833.9605254643,
          88620.6998831648,
          88800.7680298925,
          89070.814570285,
          88998.3196021219,
          89340.304313687,
          89566.0298136357,
          88705.2216663227,
          90078.0603260995,
          90448.2189653839,
          90290.0886200819,
          90621.2714700313,
          90368.15155815,
          90279.06403967,
          90138.751198064,
          89978.50502419811,
          90391.4256723529,
          90501.67147647189,
          90323.05100191949,
          91486.08855567589,
          91664.5976708302,
          91761.59170657529,
          91704.46433535,
          91536.311644219,
          91858.91982051471,
          91465.041629435,
          91325.7310224119,
          91314.706442,
          91730.07699691299,
          91627.9604288553,
          91769.3868644423,
          91480.63194516899,
          90981.4077634867,
          91647.33696412471,
          91380.07440868471,
          91900.0114384136,
          93152.13651065,
          92970.0638947565,
          92472.73282284189,
          92545.00507220879,
          92539.6598211,
          92315.4933527247,
          92483.8687626519,
          92443.3339417435,
          92574.4039533072,
          91760.9235501867,
          91314.5950826019,
          91615.15409807379,
          91662.14776407201,
          91302.34554881089,
          91491.2110879885,
          92205.47026740189,
          91928.0740067348,
          92098.676604624,
          91807.3604191944,
          91750.34440736721,
          92062.3734408434,
          92230.8602101687,
          92992.00169618221,
          92835.875820046,
          92839.3279613871,
          92553.13430827009,
          92562.9339353029,
          92931.53354301391,
          93287.994976332,
          94445.13048198911,
          94768.73000000001,
          94830.97363908,
          94748.20320786162,
          95205.218789965,
          94802.7672968971,
          94394.25312726971,
          94764.0763973992,
          94439.0067033271,
          94193.5234179088,
          94478.2487552395,
          94497.31862878121,
          94681.07284377552,
          94545.3791193256,
          95123.64823261902,
          94827.3486945838,
          94671.81348321191,
          94291.62854768982,
          94302.21067404821,
          94198.0428677077,
          94558.60677727361,
          94454.7696623818,
          93536.21904837611,
          93561.90275089181,
          93468.64776235839,
          93272.2170418306,
          92906.91322150001,
          93160.55356265292,
          93599.160654112,
          93299.0030491753,
          93552.09223791372
         ],
         "yaxis": "y4"
        }
       ],
       "layout": {
        "annotations": [
         {
          "arrowcolor": "DarkGreen",
          "arrowhead": 2,
          "arrowsize": 0.8,
          "arrowwidth": 4,
          "ax": 0,
          "ay": 15,
          "hoverlabel": {
           "bgcolor": "DarkGreen"
          },
          "hovertext": "Step 11 [2018-05-15 16:00:00]<br>BUY 0.23941593 BTC @ 8535.23 USD MARKET<br>Total: 2043.47 USD - Comm.: 6.15 USD",
          "opacity": 0.6,
          "showarrow": true,
          "x": 10,
          "xref": "x",
          "y": 8535.23,
          "yref": "y"
         },
         {
          "arrowcolor": "DarkGreen",
          "arrowhead": 2,
          "arrowsize": 0.8,
          "arrowwidth": 4,
          "ax": 0,
          "ay": 15,
          "hoverlabel": {
           "bgcolor": "DarkGreen"
          },
          "hovertext": "Step 10 [2018-05-15 15:00:00]<br>BUY 0.7994519 BTC @ 8520.3 USD MARKET<br>Total: 6811.57 USD - Comm.: 20.50 USD",
          "opacity": 0.6,
          "showarrow": true,
          "x": 9,
          "xref": "x",
          "y": 8520.3,
          "yref": "y"
         },
         {
          "arrowcolor": "FireBrick",
          "arrowhead": 2,
          "arrowsize": 0.8,
          "arrowwidth": 4,
          "ax": 0,
          "ay": -15,
          "hoverlabel": {
           "bgcolor": "FireBrick"
          },
          "hovertext": "Step 9 [2018-05-15 14:00:00]<br>SELL 0.91104784 BTC @ 8517.77 USD MARKET<br>Total: 7760.1 USD - Comm.: 0.00274137 BTC",
          "opacity": 0.6,
          "showarrow": true,
          "x": 8,
          "xref": "x",
          "y": 8517.77,
          "yref": "y"
         },
         {
          "arrowcolor": "DarkGreen",
          "arrowhead": 2,
          "arrowsize": 0.8,
          "arrowwidth": 4,
          "ax": 0,
          "ay": 15,
          "hoverlabel": {
           "bgcolor": "DarkGreen"
          },
          "hovertext": "Step 3 [2018-05-15 08:00:00]<br>BUY 0.91378921 BTC @ 8728.49 USD MARKET<br>Total: 7976.0 USD - Comm.: 24.00 USD",
          "opacity": 0.6,
          "showarrow": true,
          "x": 2,
          "xref": "x",
          "y": 8728.49,
          "yref": "y"
         },
         {
          "arrowcolor": "DarkGreen",
          "arrowhead": 2,
          "arrowsize": 0.8,
          "arrowwidth": 4,
          "ax": 0,
          "ay": 15,
          "hoverlabel": {
           "bgcolor": "DarkGreen"
          },
          "hovertext": "Step 22 [2018-05-16 03:00:00]<br>BUY 1.13593981 BTC @ 8164.79 USD MARKET<br>Total: 9274.71 USD - Comm.: 27.91 USD",
          "opacity": 0.6,
          "showarrow": true,
          "x": 21,
          "xref": "x",
          "y": 8164.79,
          "yref": "y"
         },
         {
          "arrowcolor": "FireBrick",
          "arrowhead": 2,
          "arrowsize": 0.8,
          "arrowwidth": 4,
          "ax": 0,
          "ay": -15,
          "hoverlabel": {
           "bgcolor": "FireBrick"
          },
          "hovertext": "Step 21 [2018-05-16 02:00:00]<br>SELL 0.23869768 BTC @ 8133.43 USD MARKET<br>Total: 1941.43 USD - Comm.: 0.00071825 BTC",
          "opacity": 0.6,
          "showarrow": true,
          "x": 20,
          "xref": "x",
          "y": 8133.43,
          "yref": "y"
         },
         {
          "arrowcolor": "FireBrick",
          "arrowhead": 2,
          "arrowsize": 0.8,
          "arrowwidth": 4,
          "ax": 0,
          "ay": -15,
          "hoverlabel": {
           "bgcolor": "FireBrick"
          },
          "hovertext": "Step 21 [2018-05-16 02:00:00]<br>SELL 0.79705354 BTC @ 8133.43 USD MARKET<br>Total: 6482.78 USD - Comm.: 0.00239836 BTC",
          "opacity": 0.6,
          "showarrow": true,
          "x": 20,
          "xref": "x",
          "y": 8133.43,
          "yref": "y"
         },
         {
          "arrowcolor": "DarkGreen",
          "arrowhead": 2,
          "arrowsize": 0.8,
          "arrowwidth": 4,
          "ax": 0,
          "ay": 15,
          "hoverlabel": {
           "bgcolor": "DarkGreen"
          },
          "hovertext": "Step 133 [2018-05-20 18:00:00]<br>BUY 0.23592562 BTC @ 8524.0 USD MARKET<br>Total: 2011.03 USD - Comm.: 6.05 USD",
          "opacity": 0.6,
          "showarrow": true,
          "x": 132,
          "xref": "x",
          "y": 8524,
          "yref": "y"
         },
         {
          "arrowcolor": "DarkGreen",
          "arrowhead": 2,
          "arrowsize": 0.8,
          "arrowwidth": 4,
          "ax": 0,
          "ay": 15,
          "hoverlabel": {
           "bgcolor": "DarkGreen"
          },
          "hovertext": "Step 132 [2018-05-20 17:00:00]<br>BUY 0.78712267 BTC @ 8516.36 USD MARKET<br>Total: 6703.42 USD - Comm.: 20.17 USD",
          "opacity": 0.6,
          "showarrow": true,
          "x": 131,
          "xref": "x",
          "y": 8516.36,
          "yref": "y"
         },
         {
          "arrowcolor": "FireBrick",
          "arrowhead": 2,
          "arrowsize": 0.8,
          "arrowwidth": 4,
          "ax": 0,
          "ay": -15,
          "hoverlabel": {
           "bgcolor": "FireBrick"
          },
          "hovertext": "Step 131 [2018-05-20 16:00:00]<br>SELL 1.13253199 BTC @ 8481.11 USD MARKET<br>Total: 9605.13 USD - Comm.: 0.00340782 BTC",
          "opacity": 0.6,
          "showarrow": true,
          "x": 130,
          "xref": "x",
          "y": 8481.11,
          "yref": "y"
         }
        ],
        "margin": {
         "t": 50
        },
        "template": {
         "data": {
          "bar": [
           {
            "error_x": {
             "color": "#2a3f5f"
            },
            "error_y": {
             "color": "#2a3f5f"
            },
            "marker": {
             "line": {
              "color": "white",
              "width": 0.5
             },
             "pattern": {
              "fillmode": "overlay",
              "size": 10,
              "solidity": 0.2
             }
            },
            "type": "bar"
           }
          ],
          "barpolar": [
           {
            "marker": {
             "line": {
              "color": "white",
              "width": 0.5
             },
             "pattern": {
              "fillmode": "overlay",
              "size": 10,
              "solidity": 0.2
             }
            },
            "type": "barpolar"
           }
          ],
          "carpet": [
           {
            "aaxis": {
             "endlinecolor": "#2a3f5f",
             "gridcolor": "#C8D4E3",
             "linecolor": "#C8D4E3",
             "minorgridcolor": "#C8D4E3",
             "startlinecolor": "#2a3f5f"
            },
            "baxis": {
             "endlinecolor": "#2a3f5f",
             "gridcolor": "#C8D4E3",
             "linecolor": "#C8D4E3",
             "minorgridcolor": "#C8D4E3",
             "startlinecolor": "#2a3f5f"
            },
            "type": "carpet"
           }
          ],
          "choropleth": [
           {
            "colorbar": {
             "outlinewidth": 0,
             "ticks": ""
            },
            "type": "choropleth"
           }
          ],
          "contour": [
           {
            "colorbar": {
             "outlinewidth": 0,
             "ticks": ""
            },
            "colorscale": [
             [
              0,
              "#0d0887"
             ],
             [
              0.1111111111111111,
              "#46039f"
             ],
             [
              0.2222222222222222,
              "#7201a8"
             ],
             [
              0.3333333333333333,
              "#9c179e"
             ],
             [
              0.4444444444444444,
              "#bd3786"
             ],
             [
              0.5555555555555556,
              "#d8576b"
             ],
             [
              0.6666666666666666,
              "#ed7953"
             ],
             [
              0.7777777777777778,
              "#fb9f3a"
             ],
             [
              0.8888888888888888,
              "#fdca26"
             ],
             [
              1,
              "#f0f921"
             ]
            ],
            "type": "contour"
           }
          ],
          "contourcarpet": [
           {
            "colorbar": {
             "outlinewidth": 0,
             "ticks": ""
            },
            "type": "contourcarpet"
           }
          ],
          "heatmap": [
           {
            "colorbar": {
             "outlinewidth": 0,
             "ticks": ""
            },
            "colorscale": [
             [
              0,
              "#0d0887"
             ],
             [
              0.1111111111111111,
              "#46039f"
             ],
             [
              0.2222222222222222,
              "#7201a8"
             ],
             [
              0.3333333333333333,
              "#9c179e"
             ],
             [
              0.4444444444444444,
              "#bd3786"
             ],
             [
              0.5555555555555556,
              "#d8576b"
             ],
             [
              0.6666666666666666,
              "#ed7953"
             ],
             [
              0.7777777777777778,
              "#fb9f3a"
             ],
             [
              0.8888888888888888,
              "#fdca26"
             ],
             [
              1,
              "#f0f921"
             ]
            ],
            "type": "heatmap"
           }
          ],
          "heatmapgl": [
           {
            "colorbar": {
             "outlinewidth": 0,
             "ticks": ""
            },
            "colorscale": [
             [
              0,
              "#0d0887"
             ],
             [
              0.1111111111111111,
              "#46039f"
             ],
             [
              0.2222222222222222,
              "#7201a8"
             ],
             [
              0.3333333333333333,
              "#9c179e"
             ],
             [
              0.4444444444444444,
              "#bd3786"
             ],
             [
              0.5555555555555556,
              "#d8576b"
             ],
             [
              0.6666666666666666,
              "#ed7953"
             ],
             [
              0.7777777777777778,
              "#fb9f3a"
             ],
             [
              0.8888888888888888,
              "#fdca26"
             ],
             [
              1,
              "#f0f921"
             ]
            ],
            "type": "heatmapgl"
           }
          ],
          "histogram": [
           {
            "marker": {
             "pattern": {
              "fillmode": "overlay",
              "size": 10,
              "solidity": 0.2
             }
            },
            "type": "histogram"
           }
          ],
          "histogram2d": [
           {
            "colorbar": {
             "outlinewidth": 0,
             "ticks": ""
            },
            "colorscale": [
             [
              0,
              "#0d0887"
             ],
             [
              0.1111111111111111,
              "#46039f"
             ],
             [
              0.2222222222222222,
              "#7201a8"
             ],
             [
              0.3333333333333333,
              "#9c179e"
             ],
             [
              0.4444444444444444,
              "#bd3786"
             ],
             [
              0.5555555555555556,
              "#d8576b"
             ],
             [
              0.6666666666666666,
              "#ed7953"
             ],
             [
              0.7777777777777778,
              "#fb9f3a"
             ],
             [
              0.8888888888888888,
              "#fdca26"
             ],
             [
              1,
              "#f0f921"
             ]
            ],
            "type": "histogram2d"
           }
          ],
          "histogram2dcontour": [
           {
            "colorbar": {
             "outlinewidth": 0,
             "ticks": ""
            },
            "colorscale": [
             [
              0,
              "#0d0887"
             ],
             [
              0.1111111111111111,
              "#46039f"
             ],
             [
              0.2222222222222222,
              "#7201a8"
             ],
             [
              0.3333333333333333,
              "#9c179e"
             ],
             [
              0.4444444444444444,
              "#bd3786"
             ],
             [
              0.5555555555555556,
              "#d8576b"
             ],
             [
              0.6666666666666666,
              "#ed7953"
             ],
             [
              0.7777777777777778,
              "#fb9f3a"
             ],
             [
              0.8888888888888888,
              "#fdca26"
             ],
             [
              1,
              "#f0f921"
             ]
            ],
            "type": "histogram2dcontour"
           }
          ],
          "mesh3d": [
           {
            "colorbar": {
             "outlinewidth": 0,
             "ticks": ""
            },
            "type": "mesh3d"
           }
          ],
          "parcoords": [
           {
            "line": {
             "colorbar": {
              "outlinewidth": 0,
              "ticks": ""
             }
            },
            "type": "parcoords"
           }
          ],
          "pie": [
           {
            "automargin": true,
            "type": "pie"
           }
          ],
          "scatter": [
           {
            "marker": {
             "colorbar": {
              "outlinewidth": 0,
              "ticks": ""
             }
            },
            "type": "scatter"
           }
          ],
          "scatter3d": [
           {
            "line": {
             "colorbar": {
              "outlinewidth": 0,
              "ticks": ""
             }
            },
            "marker": {
             "colorbar": {
              "outlinewidth": 0,
              "ticks": ""
             }
            },
            "type": "scatter3d"
           }
          ],
          "scattercarpet": [
           {
            "marker": {
             "colorbar": {
              "outlinewidth": 0,
              "ticks": ""
             }
            },
            "type": "scattercarpet"
           }
          ],
          "scattergeo": [
           {
            "marker": {
             "colorbar": {
              "outlinewidth": 0,
              "ticks": ""
             }
            },
            "type": "scattergeo"
           }
          ],
          "scattergl": [
           {
            "marker": {
             "colorbar": {
              "outlinewidth": 0,
              "ticks": ""
             }
            },
            "type": "scattergl"
           }
          ],
          "scattermapbox": [
           {
            "marker": {
             "colorbar": {
              "outlinewidth": 0,
              "ticks": ""
             }
            },
            "type": "scattermapbox"
           }
          ],
          "scatterpolar": [
           {
            "marker": {
             "colorbar": {
              "outlinewidth": 0,
              "ticks": ""
             }
            },
            "type": "scatterpolar"
           }
          ],
          "scatterpolargl": [
           {
            "marker": {
             "colorbar": {
              "outlinewidth": 0,
              "ticks": ""
             }
            },
            "type": "scatterpolargl"
           }
          ],
          "scatterternary": [
           {
            "marker": {
             "colorbar": {
              "outlinewidth": 0,
              "ticks": ""
             }
            },
            "type": "scatterternary"
           }
          ],
          "surface": [
           {
            "colorbar": {
             "outlinewidth": 0,
             "ticks": ""
            },
            "colorscale": [
             [
              0,
              "#0d0887"
             ],
             [
              0.1111111111111111,
              "#46039f"
             ],
             [
              0.2222222222222222,
              "#7201a8"
             ],
             [
              0.3333333333333333,
              "#9c179e"
             ],
             [
              0.4444444444444444,
              "#bd3786"
             ],
             [
              0.5555555555555556,
              "#d8576b"
             ],
             [
              0.6666666666666666,
              "#ed7953"
             ],
             [
              0.7777777777777778,
              "#fb9f3a"
             ],
             [
              0.8888888888888888,
              "#fdca26"
             ],
             [
              1,
              "#f0f921"
             ]
            ],
            "type": "surface"
           }
          ],
          "table": [
           {
            "cells": {
             "fill": {
              "color": "#EBF0F8"
             },
             "line": {
              "color": "white"
             }
            },
            "header": {
             "fill": {
              "color": "#C8D4E3"
             },
             "line": {
              "color": "white"
             }
            },
            "type": "table"
           }
          ]
         },
         "layout": {
          "annotationdefaults": {
           "arrowcolor": "#2a3f5f",
           "arrowhead": 0,
           "arrowwidth": 1
          },
          "autotypenumbers": "strict",
          "coloraxis": {
           "colorbar": {
            "outlinewidth": 0,
            "ticks": ""
           }
          },
          "colorscale": {
           "diverging": [
            [
             0,
             "#8e0152"
            ],
            [
             0.1,
             "#c51b7d"
            ],
            [
             0.2,
             "#de77ae"
            ],
            [
             0.3,
             "#f1b6da"
            ],
            [
             0.4,
             "#fde0ef"
            ],
            [
             0.5,
             "#f7f7f7"
            ],
            [
             0.6,
             "#e6f5d0"
            ],
            [
             0.7,
             "#b8e186"
            ],
            [
             0.8,
             "#7fbc41"
            ],
            [
             0.9,
             "#4d9221"
            ],
            [
             1,
             "#276419"
            ]
           ],
           "sequential": [
            [
             0,
             "#0d0887"
            ],
            [
             0.1111111111111111,
             "#46039f"
            ],
            [
             0.2222222222222222,
             "#7201a8"
            ],
            [
             0.3333333333333333,
             "#9c179e"
            ],
            [
             0.4444444444444444,
             "#bd3786"
            ],
            [
             0.5555555555555556,
             "#d8576b"
            ],
            [
             0.6666666666666666,
             "#ed7953"
            ],
            [
             0.7777777777777778,
             "#fb9f3a"
            ],
            [
             0.8888888888888888,
             "#fdca26"
            ],
            [
             1,
             "#f0f921"
            ]
           ],
           "sequentialminus": [
            [
             0,
             "#0d0887"
            ],
            [
             0.1111111111111111,
             "#46039f"
            ],
            [
             0.2222222222222222,
             "#7201a8"
            ],
            [
             0.3333333333333333,
             "#9c179e"
            ],
            [
             0.4444444444444444,
             "#bd3786"
            ],
            [
             0.5555555555555556,
             "#d8576b"
            ],
            [
             0.6666666666666666,
             "#ed7953"
            ],
            [
             0.7777777777777778,
             "#fb9f3a"
            ],
            [
             0.8888888888888888,
             "#fdca26"
            ],
            [
             1,
             "#f0f921"
            ]
           ]
          },
          "colorway": [
           "#636efa",
           "#EF553B",
           "#00cc96",
           "#ab63fa",
           "#FFA15A",
           "#19d3f3",
           "#FF6692",
           "#B6E880",
           "#FF97FF",
           "#FECB52"
          ],
          "font": {
           "color": "#2a3f5f"
          },
          "geo": {
           "bgcolor": "white",
           "lakecolor": "white",
           "landcolor": "white",
           "showlakes": true,
           "showland": true,
           "subunitcolor": "#C8D4E3"
          },
          "hoverlabel": {
           "align": "left"
          },
          "hovermode": "closest",
          "mapbox": {
           "style": "light"
          },
          "paper_bgcolor": "white",
          "plot_bgcolor": "white",
          "polar": {
           "angularaxis": {
            "gridcolor": "#EBF0F8",
            "linecolor": "#EBF0F8",
            "ticks": ""
           },
           "bgcolor": "white",
           "radialaxis": {
            "gridcolor": "#EBF0F8",
            "linecolor": "#EBF0F8",
            "ticks": ""
           }
          },
          "scene": {
           "xaxis": {
            "backgroundcolor": "white",
            "gridcolor": "#DFE8F3",
            "gridwidth": 2,
            "linecolor": "#EBF0F8",
            "showbackground": true,
            "ticks": "",
            "zerolinecolor": "#EBF0F8"
           },
           "yaxis": {
            "backgroundcolor": "white",
            "gridcolor": "#DFE8F3",
            "gridwidth": 2,
            "linecolor": "#EBF0F8",
            "showbackground": true,
            "ticks": "",
            "zerolinecolor": "#EBF0F8"
           },
           "zaxis": {
            "backgroundcolor": "white",
            "gridcolor": "#DFE8F3",
            "gridwidth": 2,
            "linecolor": "#EBF0F8",
            "showbackground": true,
            "ticks": "",
            "zerolinecolor": "#EBF0F8"
           }
          },
          "shapedefaults": {
           "line": {
            "color": "#2a3f5f"
           }
          },
          "ternary": {
           "aaxis": {
            "gridcolor": "#DFE8F3",
            "linecolor": "#A2B1C6",
            "ticks": ""
           },
           "baxis": {
            "gridcolor": "#DFE8F3",
            "linecolor": "#A2B1C6",
            "ticks": ""
           },
           "bgcolor": "white",
           "caxis": {
            "gridcolor": "#DFE8F3",
            "linecolor": "#A2B1C6",
            "ticks": ""
           }
          },
          "title": {
           "x": 0.05
          },
          "xaxis": {
           "automargin": true,
           "gridcolor": "#EBF0F8",
           "linecolor": "#EBF0F8",
           "ticks": "",
           "title": {
            "standoff": 15
           },
           "zerolinecolor": "#EBF0F8",
           "zerolinewidth": 2
          },
          "yaxis": {
           "automargin": true,
           "gridcolor": "#EBF0F8",
           "linecolor": "#EBF0F8",
           "ticks": "",
           "title": {
            "standoff": 15
           },
           "zerolinecolor": "#EBF0F8",
           "zerolinewidth": 2
          }
         }
        },
        "title": {
         "text": "[2022-04-10 00:18:46] Episode: 2/2 Step: 161/200"
        },
        "xaxis": {
         "anchor": "y",
         "domain": [
          0,
          1
         ],
         "gridcolor": "Gainsboro",
         "linecolor": "Grey",
         "matches": "x4",
         "rangeslider": {
          "visible": false
         },
         "showticklabels": false,
         "title": {
          "font": {
           "size": 12
          },
          "standoff": 7,
          "text": "Price"
         }
        },
        "xaxis2": {
         "anchor": "y2",
         "domain": [
          0,
          1
         ],
         "gridcolor": "Gainsboro",
         "linecolor": "Grey",
         "matches": "x4",
         "showticklabels": false,
         "title": {
          "font": {
           "size": 12
          },
          "standoff": 7,
          "text": "Volume"
         }
        },
        "xaxis3": {
         "anchor": "y3",
         "domain": [
          0,
          1
         ],
         "gridcolor": "Gainsboro",
         "linecolor": "Grey",
         "matches": "x4",
         "showticklabels": false,
         "title": {
          "font": {
           "size": 12
          },
          "standoff": 7,
          "text": "Performance"
         }
        },
        "xaxis4": {
         "anchor": "y4",
         "domain": [
          0,
          1
         ],
         "gridcolor": "Gainsboro",
         "linecolor": "Grey",
         "title": {
          "font": {
           "size": 12
          },
          "standoff": 7,
          "text": "Net Worth"
         }
        },
        "yaxis": {
         "anchor": "x",
         "domain": [
          0.49950000000000006,
          1
         ],
         "gridcolor": "Gainsboro",
         "linecolor": "Grey"
        },
        "yaxis2": {
         "anchor": "x2",
         "domain": [
          0.333,
          0.46950000000000003
         ],
         "gridcolor": "Gainsboro",
         "linecolor": "Grey"
        },
        "yaxis3": {
         "anchor": "x3",
         "domain": [
          0.1665,
          0.30300000000000005
         ],
         "gridcolor": "Gainsboro",
         "linecolor": "Grey"
        },
        "yaxis4": {
         "anchor": "x4",
         "domain": [
          0,
          0.1365
         ],
         "gridcolor": "Gainsboro",
         "linecolor": "Grey"
        }
       }
      }
     },
     "metadata": {},
     "output_type": "display_data"
    },
    {
     "data": {
      "application/vnd.jupyter.widget-view+json": {
       "model_id": "dc4636eeaeb44503acf6a2b1e182667b",
       "version_major": 2,
       "version_minor": 0
      },
      "text/plain": [
       "FigureWidget({\n",
       "    'data': [{'close': array([8740.99, 8739.  , 8728.49, 8708.32, 8795.9 , 8760.  , 8760.  , 87…"
      ]
     },
     "metadata": {},
     "output_type": "display_data"
    },
    {
     "data": {
      "application/vnd.plotly.v1+json": {
       "config": {
        "plotlyServerURL": "https://plot.ly"
       },
       "data": [
        {
         "close": [
          8740.99,
          8739,
          8728.49,
          8708.32,
          8795.9,
          8760,
          8760,
          8759.23,
          8517.77,
          8520.3,
          8535.23,
          8546.34,
          8526.65,
          8555.6,
          8512.1,
          8492.28,
          8460,
          8474.99,
          8455.92,
          8326.28,
          8133.43,
          8164.79,
          8229.38,
          8220.4,
          8238.8,
          8232.99,
          8207.48,
          8243.45,
          8371.13,
          8373,
          8365.08,
          8179.99,
          8225,
          8285.8,
          8273.4,
          8297.4,
          8279.89,
          8252.72,
          8302.18,
          8295.85,
          8277.25,
          8346.59,
          8358.3,
          8375.1,
          8368.62,
          8366.72,
          8314.77,
          8363.7,
          8344.16,
          8247.4,
          8277.4,
          8291.67,
          8307.89,
          8298.9,
          8269.47,
          8300.98,
          8318.49,
          8306.39,
          8276.43,
          8257.69,
          8166,
          8176.33,
          8200.7,
          8155.41,
          8080,
          8067.03,
          7958.08,
          7974.25,
          7998.5,
          7991.99,
          8022.7,
          8042.97,
          7965.67,
          8088.95,
          8122.19,
          8107.99,
          8137.73,
          8115,
          8107,
          8094.4,
          8080.01,
          8117.09,
          8126.99,
          8110.95,
          8215.39,
          8231.42,
          8240.13,
          8235,
          8219.9,
          8248.87,
          8213.5,
          8200.99,
          8200,
          8237.3,
          8228.13,
          8240.83,
          8214.9,
          8170.07,
          8229.87,
          8205.87,
          8252.56,
          8365,
          8348.65,
          8303.99,
          8310.48,
          8310,
          8289.87,
          8304.99,
          8301.35,
          8313.12,
          8240.07,
          8199.99,
          8226.98,
          8231.2,
          8198.89,
          8215.85,
          8279.99,
          8255.08,
          8270.4,
          8244.24,
          8239.12,
          8267.14,
          8282.27,
          8350.62,
          8336.6,
          8336.91,
          8311.21,
          8312.09,
          8345.19,
          8377.2,
          8481.11,
          8516.36,
          8524,
          8517.04,
          8558.5,
          8521.99,
          8484.93,
          8518.48,
          8488.99,
          8466.72,
          8492.55,
          8494.28,
          8510.95,
          8498.64,
          8551.1,
          8524.22,
          8510.11,
          8475.62,
          8476.58,
          8467.13,
          8499.84,
          8490.42,
          8407.09,
          8409.42,
          8400.96,
          8383.14,
          8350,
          8373.01,
          8412.8,
          8385.57,
          8408.53,
          8391.76,
          8367.36,
          8280.24,
          8297.91,
          8333.99,
          8285.29,
          8280,
          8317.02,
          8320.16,
          8295.9,
          8245.47,
          8264.98,
          8200,
          8170,
          8217,
          8231.63,
          8232.8,
          8225.38,
          8200.01,
          8219.98
         ],
         "high": [
          8796.68,
          8766,
          8750.27,
          8754.4,
          8865,
          8821.19,
          8798.6,
          8771.02,
          8761.7,
          8553.67,
          8589.1,
          8579.48,
          8555.51,
          8583.6,
          8569.92,
          8555.54,
          8557.51,
          8505,
          8505.33,
          8478.29,
          8339.81,
          8217.44,
          8252.72,
          8248.63,
          8267.12,
          8255,
          8261.24,
          8263.93,
          8455.66,
          8439.44,
          8399.1,
          8381.73,
          8229.91,
          8377.29,
          8329.1,
          8350,
          8346.95,
          8377.29,
          8311.35,
          8319.96,
          8398.24,
          8372.58,
          8399.99,
          8386.53,
          8400,
          8500,
          8381,
          8371.3,
          8382.41,
          8351,
          8292.99,
          8325.8,
          8318.99,
          8324.9,
          8335.56,
          8309.4,
          8377.29,
          8330.41,
          8328.23,
          8284.36,
          8274.83,
          8200,
          8232.14,
          8213.97,
          8155.41,
          8108.28,
          8068.92,
          8019.9,
          8026.66,
          8025,
          8104.69,
          8061.39,
          8045.99,
          8170.71,
          8144.16,
          8139.99,
          8152.99,
          8137.73,
          8143.72,
          8129.99,
          8106.76,
          8139,
          8152.04,
          8146.99,
          8232.14,
          8275.1,
          8256.12,
          8274.1,
          8255.8,
          8253.97,
          8261.09,
          8235.76,
          8227,
          8273.36,
          8264.21,
          8250,
          8250.86,
          8235.77,
          8232.12,
          8232.14,
          8252.72,
          8370,
          8395,
          8374.48,
          8331,
          8319.43,
          8323.4,
          8314.55,
          8330.62,
          8314.8,
          8323.99,
          8263.03,
          8247.78,
          8253.75,
          8237.89,
          8235,
          8279.99,
          8290,
          8278.71,
          8275.34,
          8279.31,
          8279.98,
          8294.04,
          8356.4,
          8374.94,
          8354.83,
          8360.45,
          8337.14,
          8351.97,
          8377.29,
          8549,
          8531.9,
          8551.79,
          8529.9,
          8590,
          8576.1,
          8549.89,
          8531.89,
          8550,
          8493.29,
          8522.98,
          8517,
          8537.29,
          8524.51,
          8589.1,
          8589.07,
          8536.92,
          8524.03,
          8497.8,
          8498,
          8513.5,
          8510,
          8494.7,
          8427.29,
          8419.03,
          8415.47,
          8389.99,
          8397.57,
          8455,
          8429.66,
          8412.61,
          8424,
          8417.65,
          8369.7,
          8326.5,
          8336.65,
          8333.99,
          8314.32,
          8355.97,
          8333.49,
          8325.6,
          8296.01,
          8264.98,
          8271.31,
          8200,
          8232.14,
          8246,
          8248.94,
          8259.95,
          8242.49,
          8232.04
         ],
         "low": [
          8707.28,
          8721.11,
          8660.53,
          8701.35,
          8695.11,
          8740.54,
          8741.52,
          8700,
          8467.42,
          8477.89,
          8500.78,
          8500,
          8400,
          8451.05,
          8461.38,
          8481.24,
          8420.37,
          8450,
          8430.94,
          8275.02,
          8100.01,
          8122.56,
          8157.01,
          8166.25,
          8176.91,
          8213.79,
          8200,
          8207.48,
          8237.1,
          8370,
          8356.4,
          8145.1,
          8173.6,
          8211.8,
          8201,
          8250.9,
          8266.46,
          8252.72,
          8232.14,
          8268.37,
          8277.25,
          8277.25,
          8314.78,
          8314.77,
          8350.07,
          8331.39,
          8314.77,
          8275.45,
          8335.49,
          8191.14,
          8227.7,
          8264.13,
          8249.93,
          8269.52,
          8219.44,
          8262.68,
          8286.65,
          8289.87,
          8232.14,
          8232.14,
          8110.02,
          8154.95,
          8168.6,
          8151,
          7980,
          8005.95,
          7929.53,
          7931.03,
          7950,
          7980.58,
          7991.99,
          7992.75,
          7953.4,
          7965.67,
          8085.94,
          8078.48,
          8092.9,
          8049.22,
          8079.46,
          8062.12,
          8043.96,
          8063.1,
          8088.46,
          8094.43,
          8088.46,
          8191.14,
          8212,
          8224.5,
          8211,
          8211.01,
          8210.03,
          8158.27,
          8177.65,
          8179.41,
          8221.92,
          8217.32,
          8213.52,
          8141.08,
          8146.1,
          8186.03,
          8197.09,
          8231.21,
          8323.82,
          8296,
          8296.31,
          8282.65,
          8280,
          8273.36,
          8290.08,
          8277.93,
          8240.07,
          8191.14,
          8178,
          8193.7,
          8180,
          8170.71,
          8215.53,
          8240.02,
          8237.17,
          8237.17,
          8239.12,
          8227.79,
          8247.57,
          8274.24,
          8326.1,
          8320.61,
          8281.31,
          8269.85,
          8311.16,
          8336.11,
          8369.86,
          8471.51,
          8511,
          8476.66,
          8507.68,
          8509.24,
          8482.53,
          8484.93,
          8450,
          8434.47,
          8461.1,
          8481,
          8480,
          8488.1,
          8471.09,
          8509.2,
          8482.64,
          8469,
          8440.4,
          8440.52,
          8461.8,
          8480,
          8358.17,
          8380.73,
          8370,
          8383.12,
          8320,
          8349.17,
          8357.11,
          8370.58,
          8367.21,
          8376.99,
          8335.6,
          8252.72,
          8264.49,
          8282.59,
          8271.09,
          8261.52,
          8280,
          8297,
          8290,
          8220,
          8230.45,
          8180,
          8119.38,
          8170,
          8189.84,
          8210.76,
          8212.68,
          8200,
          8186
         ],
         "name": "Price",
         "open": [
          8733.86,
          8740.99,
          8739,
          8728.49,
          8708.32,
          8795.9,
          8760,
          8760,
          8759.23,
          8517.77,
          8520.3,
          8535.23,
          8546.34,
          8526.65,
          8555.6,
          8512.1,
          8492.28,
          8460,
          8474.99,
          8455.92,
          8326.28,
          8133.43,
          8164.79,
          8229.38,
          8220.4,
          8238.8,
          8232.99,
          8207.48,
          8243.45,
          8371.13,
          8373,
          8365.08,
          8179.99,
          8225,
          8285.8,
          8273.4,
          8297.4,
          8279.89,
          8252.72,
          8302.18,
          8295.85,
          8277.25,
          8346.59,
          8358.3,
          8375.1,
          8368.62,
          8366.72,
          8314.77,
          8363.7,
          8344.16,
          8247.4,
          8277.4,
          8291.67,
          8307.89,
          8298.9,
          8269.47,
          8300.98,
          8318.49,
          8306.39,
          8276.43,
          8257.69,
          8166,
          8176.33,
          8200.7,
          8155.41,
          8080,
          8067.03,
          7958.08,
          7974.25,
          7998.5,
          7991.99,
          8022.7,
          8042.97,
          7965.67,
          8088.95,
          8122.19,
          8107.99,
          8137.73,
          8115,
          8107,
          8094.4,
          8080.01,
          8117.09,
          8126.99,
          8110.95,
          8215.39,
          8231.42,
          8240.13,
          8235,
          8219.9,
          8248.87,
          8213.5,
          8200.99,
          8200,
          8237.3,
          8228.13,
          8240.83,
          8214.9,
          8170.07,
          8229.87,
          8205.87,
          8252.56,
          8365,
          8348.65,
          8303.99,
          8310.48,
          8310,
          8289.87,
          8304.99,
          8301.35,
          8313.12,
          8240.07,
          8199.99,
          8226.98,
          8231.2,
          8198.89,
          8215.85,
          8279.99,
          8255.08,
          8270.4,
          8244.24,
          8239.12,
          8267.14,
          8282.27,
          8350.62,
          8336.6,
          8336.91,
          8311.21,
          8312.09,
          8345.19,
          8377.2,
          8481.11,
          8516.36,
          8524,
          8517.04,
          8558.5,
          8521.99,
          8484.93,
          8518.48,
          8488.99,
          8466.72,
          8492.55,
          8494.28,
          8510.95,
          8498.64,
          8551.1,
          8524.22,
          8510.11,
          8475.62,
          8476.58,
          8467.13,
          8499.84,
          8490.42,
          8407.09,
          8409.42,
          8400.96,
          8383.14,
          8350,
          8373.01,
          8412.8,
          8385.57,
          8408.53,
          8391.76,
          8367.36,
          8280.24,
          8297.91,
          8333.99,
          8285.29,
          8280,
          8317.02,
          8320.16,
          8295.9,
          8245.47,
          8264.98,
          8200,
          8170,
          8217,
          8231.63,
          8232.8,
          8225.38,
          8200.01
         ],
         "showlegend": false,
         "type": "candlestick",
         "uid": "8c6d8a56-07c4-4131-a4c8-63193c8a8ccd",
         "xaxis": "x",
         "yaxis": "y"
        },
        {
         "marker": {
          "color": "DodgerBlue"
         },
         "name": "Volume",
         "showlegend": false,
         "type": "bar",
         "uid": "145b46e2-d412-4928-981a-553342a3477e",
         "xaxis": "x2",
         "y": [
          559.93,
          273.58,
          917.79,
          182.62,
          1260.69,
          324.11,
          324.2,
          730.67,
          1341.75,
          792.07,
          385.69,
          475.08,
          877.26,
          670.49,
          610.97,
          168.99,
          305.92,
          136.05,
          154.26,
          1070.93,
          1710.2,
          492.8,
          630.72,
          620.93,
          586.34,
          304.52,
          450.97,
          182.36,
          915.32,
          319.29,
          362.01,
          1046.38,
          357.91,
          561.2,
          322.53,
          1073.71,
          237.21,
          251.2,
          359.73,
          117.23,
          363.17,
          214.18,
          171.64,
          258.58,
          299.52,
          718.98,
          119.7,
          405.25,
          210.77,
          714.82,
          215.97,
          164.2,
          201.55,
          203.41,
          886.82,
          95.49,
          499.67,
          172.77,
          355.39,
          255.27,
          591.06,
          133.1,
          149.13,
          87.55,
          1061.54,
          286.94,
          524.42,
          316,
          441.43,
          189.7,
          844.94,
          155.34,
          257.56,
          610.69,
          217.97,
          173.18,
          218.06,
          372.97,
          484.39,
          248.1,
          162.35,
          303.42,
          290.69,
          160.93,
          369.4,
          487.27,
          93.35,
          96.68,
          72.14,
          90.22,
          168.52,
          203.15,
          71.42,
          464.56,
          57,
          89.42,
          49.47,
          200.05,
          254.37,
          65.05,
          118.19,
          452.4,
          181.03,
          288.04,
          145.78,
          110.14,
          55.48,
          80.87,
          67.01,
          59.16,
          121.26,
          244.37,
          156.87,
          80.48,
          139.32,
          93.52,
          200.23,
          97.4,
          68.08,
          47,
          36.65,
          28.75,
          182.85,
          400.18,
          288.1,
          182.94,
          777.81,
          493.59,
          118.63,
          174.37,
          901.75,
          222.45,
          113.8,
          84.2,
          261.44,
          168.78,
          111.07,
          122.12,
          267.32,
          210.39,
          211.36,
          146.22,
          93.39,
          89.04,
          307.59,
          307.2,
          164.24,
          151.21,
          399.77,
          362.01,
          260.85,
          232.32,
          1109.45,
          348.5,
          210.57,
          274.92,
          277.83,
          99.57,
          273.12,
          129.47,
          113.05,
          87.6,
          159.37,
          433.28,
          133.29,
          200.57,
          210.33,
          206.4,
          357.53,
          107.43,
          116.54,
          479.07,
          290.38,
          812.96,
          1542.87,
          430.36,
          312.54,
          132.75,
          333.64,
          205.86,
          120.33
         ],
         "yaxis": "y2"
        },
        {
         "mode": "lines",
         "name": "bitstamp:/USD-BTC",
         "type": "scatter",
         "uid": "8c525a7c-7cb9-4397-bed8-bf45f03e8a5f",
         "xaxis": "x3",
         "y": [
          8740.99,
          8739,
          8728.49,
          8708.32,
          8795.9,
          8760,
          8760,
          8759.23,
          8517.77,
          8520.3,
          8535.23,
          8546.34,
          8526.65,
          8555.6,
          8512.1,
          8492.28,
          8460,
          8474.99,
          8455.92,
          8326.28,
          8133.43,
          8164.79,
          8229.38,
          8220.4,
          8238.8,
          8232.99,
          8207.48,
          8243.45,
          8371.13,
          8373,
          8365.08,
          8179.99,
          8225,
          8285.8,
          8273.4,
          8297.4,
          8279.89,
          8252.72,
          8302.18,
          8295.85,
          8277.25,
          8346.59,
          8358.3,
          8375.1,
          8368.62,
          8366.72,
          8314.77,
          8363.7,
          8344.16,
          8247.4,
          8277.4,
          8291.67,
          8307.89,
          8298.9,
          8269.47,
          8300.98,
          8318.49,
          8306.39,
          8276.43,
          8257.69,
          8166,
          8176.33,
          8200.7,
          8155.41,
          8080,
          8067.03,
          7958.08,
          7974.25,
          7998.5,
          7991.99,
          8022.7,
          8042.97,
          7965.67,
          8088.95,
          8122.19,
          8107.99,
          8137.73,
          8115,
          8107,
          8094.4,
          8080.01,
          8117.09,
          8126.99,
          8110.95,
          8215.39,
          8231.42,
          8240.13,
          8235,
          8219.9,
          8248.87,
          8213.5,
          8200.99,
          8200,
          8237.3,
          8228.13,
          8240.83,
          8214.9,
          8170.07,
          8229.87,
          8205.87,
          8252.56,
          8365,
          8348.65,
          8303.99,
          8310.48,
          8310,
          8289.87,
          8304.99,
          8301.35,
          8313.12,
          8240.07,
          8199.99,
          8226.98,
          8231.2,
          8198.89,
          8215.85,
          8279.99,
          8255.08,
          8270.4,
          8244.24,
          8239.12,
          8267.14,
          8282.27,
          8350.62,
          8336.6,
          8336.91,
          8311.21,
          8312.09,
          8345.19,
          8377.2,
          8481.11,
          8516.36,
          8524,
          8517.04,
          8558.5,
          8521.99,
          8484.93,
          8518.48,
          8488.99,
          8466.72,
          8492.55,
          8494.28,
          8510.95,
          8498.64,
          8551.1,
          8524.22,
          8510.11,
          8475.62,
          8476.58,
          8467.13,
          8499.84,
          8490.42,
          8407.09,
          8409.42,
          8400.96,
          8383.14,
          8350,
          8373.01,
          8412.8,
          8385.57,
          8408.53,
          8391.76,
          8367.36,
          8280.24,
          8297.91,
          8333.99,
          8285.29,
          8280,
          8317.02,
          8320.16,
          8295.9,
          8245.47,
          8264.98,
          8200,
          8170,
          8217,
          8231.63,
          8232.8,
          8225.38,
          8200.01,
          8219.98
         ],
         "yaxis": "y3"
        },
        {
         "mode": "lines",
         "name": "bitstamp:/USD:/free",
         "type": "scatter",
         "uid": "401294ed-928f-428f-a642-2b39c2a3ff21",
         "xaxis": "x3",
         "y": [
          10000,
          10000,
          10000,
          2000,
          2000,
          2000,
          2000,
          2000,
          2000,
          9760.1,
          2928.03,
          878.41,
          878.41,
          878.41,
          878.41,
          878.41,
          878.41,
          878.41,
          878.41,
          878.41,
          878.41,
          9302.62,
          0,
          0,
          0,
          0,
          0,
          0,
          0,
          0,
          0,
          0,
          0,
          0,
          0,
          0,
          0,
          0,
          0,
          0,
          0,
          0,
          0,
          0,
          0,
          0,
          0,
          0,
          0,
          0,
          0,
          0,
          0,
          0,
          0,
          0,
          0,
          0,
          0,
          0,
          0,
          0,
          0,
          0,
          0,
          0,
          0,
          0,
          0,
          0,
          0,
          0,
          0,
          0,
          0,
          0,
          0,
          0,
          0,
          0,
          0,
          0,
          0,
          0,
          0,
          0,
          0,
          0,
          0,
          0,
          0,
          0,
          0,
          0,
          0,
          0,
          0,
          0,
          0,
          0,
          0,
          0,
          0,
          0,
          0,
          0,
          0,
          0,
          0,
          0,
          0,
          0,
          0,
          0,
          0,
          0,
          0,
          0,
          0,
          0,
          0,
          0,
          0,
          0,
          0,
          0,
          0,
          0,
          0,
          0,
          0,
          9605.13,
          2881.54,
          864.46,
          864.46,
          864.46,
          864.46,
          864.46,
          864.46,
          864.46,
          864.46,
          864.46,
          864.46,
          864.46,
          864.46,
          864.46,
          864.46,
          864.46,
          864.46,
          864.46,
          864.46,
          864.46,
          864.46,
          864.46,
          864.46,
          864.46,
          864.46,
          864.46,
          864.46,
          864.46,
          864.46,
          864.46,
          864.46,
          864.46,
          864.46,
          864.46,
          864.46,
          864.46,
          864.46,
          864.46,
          864.46,
          864.46,
          864.46,
          864.46,
          864.46,
          9197.69,
          2759.31,
          827.79,
          827.79,
          827.79,
          827.79
         ],
         "yaxis": "y3"
        },
        {
         "mode": "lines",
         "name": "bitstamp:/USD:/locked",
         "type": "scatter",
         "uid": "2aef03b6-c4ff-49c5-a389-faa69b1e2dd5",
         "xaxis": "x3",
         "y": [
          0,
          0,
          0,
          0,
          0,
          0,
          0,
          0,
          0,
          0,
          0,
          0,
          0,
          0,
          0,
          0,
          0,
          0,
          0,
          0,
          0,
          0,
          0,
          0,
          0,
          0,
          0,
          0,
          0,
          0,
          0,
          0,
          0,
          0,
          0,
          0,
          0,
          0,
          0,
          0,
          0,
          0,
          0,
          0,
          0,
          0,
          0,
          0,
          0,
          0,
          0,
          0,
          0,
          0,
          0,
          0,
          0,
          0,
          0,
          0,
          0,
          0,
          0,
          0,
          0,
          0,
          0,
          0,
          0,
          0,
          0,
          0,
          0,
          0,
          0,
          0,
          0,
          0,
          0,
          0,
          0,
          0,
          0,
          0,
          0,
          0,
          0,
          0,
          0,
          0,
          0,
          0,
          0,
          0,
          0,
          0,
          0,
          0,
          0,
          0,
          0,
          0,
          0,
          0,
          0,
          0,
          0,
          0,
          0,
          0,
          0,
          0,
          0,
          0,
          0,
          0,
          0,
          0,
          0,
          0,
          0,
          0,
          0,
          0,
          0,
          0,
          0,
          0,
          0,
          0,
          0,
          0,
          0,
          0,
          0,
          0,
          0,
          0,
          0,
          0,
          0,
          0,
          0,
          0,
          0,
          0,
          0,
          0,
          0,
          0,
          0,
          0,
          0,
          0,
          0,
          0,
          0,
          0,
          0,
          0,
          0,
          0,
          0,
          0,
          0,
          0,
          0,
          0,
          0,
          0,
          0,
          0,
          0,
          0,
          0,
          0,
          0,
          0,
          0,
          0,
          0
         ],
         "yaxis": "y3"
        },
        {
         "mode": "lines",
         "name": "bitstamp:/USD:/total",
         "type": "scatter",
         "uid": "1cfdc07a-0fb3-45f5-8ac0-46485deef13b",
         "xaxis": "x3",
         "y": [
          10000,
          10000,
          10000,
          2000,
          2000,
          2000,
          2000,
          2000,
          2000,
          9760.1,
          2928.03,
          878.41,
          878.41,
          878.41,
          878.41,
          878.41,
          878.41,
          878.41,
          878.41,
          878.41,
          878.41,
          9302.62,
          0,
          0,
          0,
          0,
          0,
          0,
          0,
          0,
          0,
          0,
          0,
          0,
          0,
          0,
          0,
          0,
          0,
          0,
          0,
          0,
          0,
          0,
          0,
          0,
          0,
          0,
          0,
          0,
          0,
          0,
          0,
          0,
          0,
          0,
          0,
          0,
          0,
          0,
          0,
          0,
          0,
          0,
          0,
          0,
          0,
          0,
          0,
          0,
          0,
          0,
          0,
          0,
          0,
          0,
          0,
          0,
          0,
          0,
          0,
          0,
          0,
          0,
          0,
          0,
          0,
          0,
          0,
          0,
          0,
          0,
          0,
          0,
          0,
          0,
          0,
          0,
          0,
          0,
          0,
          0,
          0,
          0,
          0,
          0,
          0,
          0,
          0,
          0,
          0,
          0,
          0,
          0,
          0,
          0,
          0,
          0,
          0,
          0,
          0,
          0,
          0,
          0,
          0,
          0,
          0,
          0,
          0,
          0,
          0,
          9605.13,
          2881.54,
          864.46,
          864.46,
          864.46,
          864.46,
          864.46,
          864.46,
          864.46,
          864.46,
          864.46,
          864.46,
          864.46,
          864.46,
          864.46,
          864.46,
          864.46,
          864.46,
          864.46,
          864.46,
          864.46,
          864.46,
          864.46,
          864.46,
          864.46,
          864.46,
          864.46,
          864.46,
          864.46,
          864.46,
          864.46,
          864.46,
          864.46,
          864.46,
          864.46,
          864.46,
          864.46,
          864.46,
          864.46,
          864.46,
          864.46,
          864.46,
          864.46,
          864.46,
          9197.69,
          2759.31,
          827.79,
          827.79,
          827.79,
          827.79
         ],
         "yaxis": "y3"
        },
        {
         "mode": "lines",
         "name": "bitstamp:/BTC:/free",
         "type": "scatter",
         "uid": "6f75c785-6a85-4a93-88f3-23bc8f1b0896",
         "xaxis": "x3",
         "y": [
          10,
          10,
          10,
          10,
          10,
          10,
          10,
          10,
          10,
          10,
          10,
          10,
          10,
          10,
          10,
          10,
          10,
          10,
          10,
          10,
          10,
          10,
          10,
          10,
          10,
          10,
          10,
          10,
          10,
          10,
          10,
          10,
          10,
          10,
          10,
          10,
          10,
          10,
          10,
          10,
          10,
          10,
          10,
          10,
          10,
          10,
          10,
          10,
          10,
          10,
          10,
          10,
          10,
          10,
          10,
          10,
          10,
          10,
          10,
          10,
          10,
          10,
          10,
          10,
          10,
          10,
          10,
          10,
          10,
          10,
          10,
          10,
          10,
          10,
          10,
          10,
          10,
          10,
          10,
          10,
          10,
          10,
          10,
          10,
          10,
          10,
          10,
          10,
          10,
          10,
          10,
          10,
          10,
          10,
          10,
          10,
          10,
          10,
          10,
          10,
          10,
          10,
          10,
          10,
          10,
          10,
          10,
          10,
          10,
          10,
          10,
          10,
          10,
          10,
          10,
          10,
          10,
          10,
          10,
          10,
          10,
          10,
          10,
          10,
          10,
          10,
          10,
          10,
          10,
          10,
          10,
          10,
          10,
          10,
          10,
          10,
          10,
          10,
          10,
          10,
          10,
          10,
          10,
          10,
          10,
          10,
          10,
          10,
          10,
          10,
          10,
          10,
          10,
          10,
          10,
          10,
          10,
          10,
          10,
          10,
          10,
          10,
          10,
          10,
          10,
          10,
          10,
          10,
          10,
          10,
          10,
          10,
          10,
          10,
          10,
          10,
          10,
          10,
          10,
          10,
          10
         ],
         "yaxis": "y3"
        },
        {
         "mode": "lines",
         "name": "bitstamp:/BTC:/locked",
         "type": "scatter",
         "uid": "ba02f11e-201e-468a-9ae6-fb1561982cfe",
         "xaxis": "x3",
         "y": [
          0,
          0,
          0,
          0.91378921,
          0.91378921,
          0.91378921,
          0.91378921,
          0.91378921,
          0.91378921,
          0,
          0.7994519,
          1.03886783,
          1.03886783,
          1.03886783,
          1.03886783,
          1.03886783,
          1.03886783,
          1.03886783,
          1.03886783,
          1.03886783,
          1.03886783,
          0,
          1.13593981,
          1.13593981,
          1.13593981,
          1.13593981,
          1.13593981,
          1.13593981,
          1.13593981,
          1.13593981,
          1.13593981,
          1.13593981,
          1.13593981,
          1.13593981,
          1.13593981,
          1.13593981,
          1.13593981,
          1.13593981,
          1.13593981,
          1.13593981,
          1.13593981,
          1.13593981,
          1.13593981,
          1.13593981,
          1.13593981,
          1.13593981,
          1.13593981,
          1.13593981,
          1.13593981,
          1.13593981,
          1.13593981,
          1.13593981,
          1.13593981,
          1.13593981,
          1.13593981,
          1.13593981,
          1.13593981,
          1.13593981,
          1.13593981,
          1.13593981,
          1.13593981,
          1.13593981,
          1.13593981,
          1.13593981,
          1.13593981,
          1.13593981,
          1.13593981,
          1.13593981,
          1.13593981,
          1.13593981,
          1.13593981,
          1.13593981,
          1.13593981,
          1.13593981,
          1.13593981,
          1.13593981,
          1.13593981,
          1.13593981,
          1.13593981,
          1.13593981,
          1.13593981,
          1.13593981,
          1.13593981,
          1.13593981,
          1.13593981,
          1.13593981,
          1.13593981,
          1.13593981,
          1.13593981,
          1.13593981,
          1.13593981,
          1.13593981,
          1.13593981,
          1.13593981,
          1.13593981,
          1.13593981,
          1.13593981,
          1.13593981,
          1.13593981,
          1.13593981,
          1.13593981,
          1.13593981,
          1.13593981,
          1.13593981,
          1.13593981,
          1.13593981,
          1.13593981,
          1.13593981,
          1.13593981,
          1.13593981,
          1.13593981,
          1.13593981,
          1.13593981,
          1.13593981,
          1.13593981,
          1.13593981,
          1.13593981,
          1.13593981,
          1.13593981,
          1.13593981,
          1.13593981,
          1.13593981,
          1.13593981,
          1.13593981,
          1.13593981,
          1.13593981,
          1.13593981,
          1.13593981,
          1.13593981,
          1.13593981,
          1.13593981,
          0,
          0.78712267,
          1.02304829,
          1.02304829,
          1.02304829,
          1.02304829,
          1.02304829,
          1.02304829,
          1.02304829,
          1.02304829,
          1.02304829,
          1.02304829,
          1.02304829,
          1.02304829,
          1.02304829,
          1.02304829,
          1.02304829,
          1.02304829,
          1.02304829,
          1.02304829,
          1.02304829,
          1.02304829,
          1.02304829,
          1.02304829,
          1.02304829,
          1.02304829,
          1.02304829,
          1.02304829,
          1.02304829,
          1.02304829,
          1.02304829,
          1.02304829,
          1.02304829,
          1.02304829,
          1.02304829,
          1.02304829,
          1.02304829,
          1.02304829,
          1.02304829,
          1.02304829,
          1.02304829,
          1.02304829,
          1.02304829,
          1.02304829,
          0,
          0.78119265,
          1.01513538,
          1.01513538,
          1.01513538,
          1.01513538
         ],
         "yaxis": "y3"
        },
        {
         "mode": "lines",
         "name": "bitstamp:/BTC:/total",
         "type": "scatter",
         "uid": "db06df65-6739-42e7-9218-1600ec083b58",
         "xaxis": "x3",
         "y": [
          10,
          10,
          10,
          10.91378921,
          10.91378921,
          10.91378921,
          10.91378921,
          10.91378921,
          10.91378921,
          10,
          10.7994519,
          11.03886783,
          11.03886783,
          11.03886783,
          11.03886783,
          11.03886783,
          11.03886783,
          11.03886783,
          11.03886783,
          11.03886783,
          11.03886783,
          10,
          11.13593981,
          11.13593981,
          11.13593981,
          11.13593981,
          11.13593981,
          11.13593981,
          11.13593981,
          11.13593981,
          11.13593981,
          11.13593981,
          11.13593981,
          11.13593981,
          11.13593981,
          11.13593981,
          11.13593981,
          11.13593981,
          11.13593981,
          11.13593981,
          11.13593981,
          11.13593981,
          11.13593981,
          11.13593981,
          11.13593981,
          11.13593981,
          11.13593981,
          11.13593981,
          11.13593981,
          11.13593981,
          11.13593981,
          11.13593981,
          11.13593981,
          11.13593981,
          11.13593981,
          11.13593981,
          11.13593981,
          11.13593981,
          11.13593981,
          11.13593981,
          11.13593981,
          11.13593981,
          11.13593981,
          11.13593981,
          11.13593981,
          11.13593981,
          11.13593981,
          11.13593981,
          11.13593981,
          11.13593981,
          11.13593981,
          11.13593981,
          11.13593981,
          11.13593981,
          11.13593981,
          11.13593981,
          11.13593981,
          11.13593981,
          11.13593981,
          11.13593981,
          11.13593981,
          11.13593981,
          11.13593981,
          11.13593981,
          11.13593981,
          11.13593981,
          11.13593981,
          11.13593981,
          11.13593981,
          11.13593981,
          11.13593981,
          11.13593981,
          11.13593981,
          11.13593981,
          11.13593981,
          11.13593981,
          11.13593981,
          11.13593981,
          11.13593981,
          11.13593981,
          11.13593981,
          11.13593981,
          11.13593981,
          11.13593981,
          11.13593981,
          11.13593981,
          11.13593981,
          11.13593981,
          11.13593981,
          11.13593981,
          11.13593981,
          11.13593981,
          11.13593981,
          11.13593981,
          11.13593981,
          11.13593981,
          11.13593981,
          11.13593981,
          11.13593981,
          11.13593981,
          11.13593981,
          11.13593981,
          11.13593981,
          11.13593981,
          11.13593981,
          11.13593981,
          11.13593981,
          11.13593981,
          11.13593981,
          11.13593981,
          11.13593981,
          10,
          10.78712267,
          11.02304829,
          11.02304829,
          11.02304829,
          11.02304829,
          11.02304829,
          11.02304829,
          11.02304829,
          11.02304829,
          11.02304829,
          11.02304829,
          11.02304829,
          11.02304829,
          11.02304829,
          11.02304829,
          11.02304829,
          11.02304829,
          11.02304829,
          11.02304829,
          11.02304829,
          11.02304829,
          11.02304829,
          11.02304829,
          11.02304829,
          11.02304829,
          11.02304829,
          11.02304829,
          11.02304829,
          11.02304829,
          11.02304829,
          11.02304829,
          11.02304829,
          11.02304829,
          11.02304829,
          11.02304829,
          11.02304829,
          11.02304829,
          11.02304829,
          11.02304829,
          11.02304829,
          11.02304829,
          11.02304829,
          11.02304829,
          10,
          10.78119265,
          11.01513538,
          11.01513538,
          11.01513538,
          11.01513538
         ],
         "yaxis": "y3"
        },
        {
         "mode": "lines",
         "name": "bitstamp:/BTC:/worth",
         "type": "scatter",
         "uid": "00269ee4-5684-47d5-acbb-521c67b732c8",
         "xaxis": "x3",
         "y": [
          87409.9,
          87390,
          87284.9,
          95040.76885322719,
          95996.59851223898,
          95604.79347959999,
          95604.79347959999,
          95596.38986190829,
          92961.1463192617,
          85203,
          92175.805840437,
          94341.91769024219,
          94124.5623826695,
          94444.137606348,
          93963.946855743,
          93745.1564953524,
          93388.82184179999,
          93554.2944705717,
          93343.7832610536,
          91912.7044355724,
          89783.8587745569,
          81647.9,
          91641.88035361779,
          91541.879614124,
          91746.78090662799,
          91682.0810963319,
          91398.0032717788,
          91798.56302674451,
          93220.39982168529,
          93241.22402913,
          93153.0273858348,
          91091.8762864019,
          91593.10493725,
          92270.17007769799,
          92132.084424054,
          92399.346979494,
          92204.35667342089,
          91901.7931887832,
          92452.5767717858,
          92382.08627278851,
          92174.9577923225,
          92947.1238587479,
          93077.525713923,
          93264.60950273101,
          93192.44861276221,
          93171.29032712319,
          92592.7782539937,
          93137.65978889701,
          92920.0635250096,
          91842.549988994,
          92176.628183294,
          92335.5380443827,
          92516.1629881009,
          92416.050889209,
          92088.3201806007,
          92439.2136440138,
          92634.2039500869,
          92499.45907838589,
          92165.82632167831,
          91957.13880963891,
          90936.08448846,
          91051.1187466973,
          91322.50159986701,
          90818.15488587209,
          89978.3936648,
          89833.9605254643,
          88620.6998831648,
          88800.7680298925,
          89070.814570285,
          88998.3196021219,
          89340.304313687,
          89566.0298136357,
          88705.2216663227,
          90078.0603260995,
          90448.2189653839,
          90290.0886200819,
          90621.2714700313,
          90368.15155815,
          90279.06403967,
          90138.751198064,
          89978.50502419811,
          90391.4256723529,
          90501.67147647189,
          90323.05100191949,
          91486.08855567589,
          91664.5976708302,
          91761.59170657529,
          91704.46433535,
          91536.311644219,
          91858.91982051471,
          91465.041629435,
          91325.7310224119,
          91314.706442,
          91730.07699691299,
          91627.9604288553,
          91769.3868644423,
          91480.63194516899,
          90981.4077634867,
          91647.33696412471,
          91380.07440868471,
          91900.0114384136,
          93152.13651065,
          92970.0638947565,
          92472.73282284189,
          92545.00507220879,
          92539.6598211,
          92315.4933527247,
          92483.8687626519,
          92443.3339417435,
          92574.4039533072,
          91760.9235501867,
          91314.5950826019,
          91615.15409807379,
          91662.14776407201,
          91302.34554881089,
          91491.2110879885,
          92205.47026740189,
          91928.0740067348,
          92098.676604624,
          91807.3604191944,
          91750.34440736721,
          92062.3734408434,
          92230.8602101687,
          92992.00169618221,
          92835.875820046,
          92839.3279613871,
          92553.13430827009,
          92562.9339353029,
          92931.53354301391,
          93287.994976332,
          94445.13048198911,
          85163.6,
          91949.43363908,
          93883.74320786161,
          94340.758789965,
          93938.3072968971,
          93529.7931272697,
          93899.6163973992,
          93574.5467033271,
          93329.0634179088,
          93613.7887552395,
          93632.8586287812,
          93816.61284377551,
          93680.9191193256,
          94259.18823261901,
          93962.88869458379,
          93807.3534832119,
          93427.16854768981,
          93437.7506740482,
          93333.5828677077,
          93694.1467772736,
          93590.3096623818,
          92671.7590483761,
          92697.4427508918,
          92604.18776235839,
          92407.7570418306,
          92042.4532215,
          92296.09356265291,
          92734.70065411199,
          92434.54304917529,
          92687.63223791371,
          92502.7757180904,
          92233.81333981441,
          91273.4853727896,
          91468.2626360739,
          91865.9742183771,
          91329.1517666541,
          91270.8398412,
          91678.9130888958,
          91713.5254605264,
          91446.106309011,
          90890.21398374629,
          91105.2736558842,
          90388.995978,
          90058.3045293,
          82170,
          88746.7888535195,
          90685.40655646399,
          90603.6742519444,
          90324.2202673538,
          90544.1925208924
         ],
         "yaxis": "y3"
        },
        {
         "mode": "lines",
         "name": "net_worth",
         "type": "scatter",
         "uid": "c6aa695d-58af-49d4-a325-d546bfdc6beb",
         "xaxis": "x3",
         "y": [
          97409.9,
          97390,
          97284.9,
          97040.76885322719,
          97996.59851223898,
          97604.79347959999,
          97604.79347959999,
          97596.38986190829,
          94961.1463192617,
          94963.1,
          95103.835840437,
          95220.3276902422,
          95002.9723826695,
          95322.547606348,
          94842.356855743,
          94623.56649535241,
          94267.23184179999,
          94432.7044705717,
          94222.1932610536,
          92791.11443557241,
          90662.2687745569,
          90950.51999999999,
          91641.88035361779,
          91541.879614124,
          91746.78090662799,
          91682.0810963319,
          91398.0032717788,
          91798.56302674451,
          93220.39982168529,
          93241.22402913,
          93153.0273858348,
          91091.8762864019,
          91593.10493725,
          92270.17007769799,
          92132.084424054,
          92399.346979494,
          92204.35667342089,
          91901.7931887832,
          92452.5767717858,
          92382.08627278851,
          92174.9577923225,
          92947.1238587479,
          93077.525713923,
          93264.60950273101,
          93192.44861276221,
          93171.29032712319,
          92592.7782539937,
          93137.65978889701,
          92920.0635250096,
          91842.549988994,
          92176.628183294,
          92335.5380443827,
          92516.1629881009,
          92416.050889209,
          92088.3201806007,
          92439.2136440138,
          92634.2039500869,
          92499.45907838589,
          92165.82632167831,
          91957.13880963891,
          90936.08448846,
          91051.1187466973,
          91322.50159986701,
          90818.15488587209,
          89978.3936648,
          89833.9605254643,
          88620.6998831648,
          88800.7680298925,
          89070.814570285,
          88998.3196021219,
          89340.304313687,
          89566.0298136357,
          88705.2216663227,
          90078.0603260995,
          90448.2189653839,
          90290.0886200819,
          90621.2714700313,
          90368.15155815,
          90279.06403967,
          90138.751198064,
          89978.50502419811,
          90391.4256723529,
          90501.67147647189,
          90323.05100191949,
          91486.08855567589,
          91664.5976708302,
          91761.59170657529,
          91704.46433535,
          91536.311644219,
          91858.91982051471,
          91465.041629435,
          91325.7310224119,
          91314.706442,
          91730.07699691299,
          91627.9604288553,
          91769.3868644423,
          91480.63194516899,
          90981.4077634867,
          91647.33696412471,
          91380.07440868471,
          91900.0114384136,
          93152.13651065,
          92970.0638947565,
          92472.73282284189,
          92545.00507220879,
          92539.6598211,
          92315.4933527247,
          92483.8687626519,
          92443.3339417435,
          92574.4039533072,
          91760.9235501867,
          91314.5950826019,
          91615.15409807379,
          91662.14776407201,
          91302.34554881089,
          91491.2110879885,
          92205.47026740189,
          91928.0740067348,
          92098.676604624,
          91807.3604191944,
          91750.34440736721,
          92062.3734408434,
          92230.8602101687,
          92992.00169618221,
          92835.875820046,
          92839.3279613871,
          92553.13430827009,
          92562.9339353029,
          92931.53354301391,
          93287.994976332,
          94445.13048198911,
          94768.73000000001,
          94830.97363908,
          94748.20320786162,
          95205.218789965,
          94802.7672968971,
          94394.25312726971,
          94764.0763973992,
          94439.0067033271,
          94193.5234179088,
          94478.2487552395,
          94497.31862878121,
          94681.07284377552,
          94545.3791193256,
          95123.64823261902,
          94827.3486945838,
          94671.81348321191,
          94291.62854768982,
          94302.21067404821,
          94198.0428677077,
          94558.60677727361,
          94454.7696623818,
          93536.21904837611,
          93561.90275089181,
          93468.64776235839,
          93272.2170418306,
          92906.91322150001,
          93160.55356265292,
          93599.160654112,
          93299.0030491753,
          93552.09223791372,
          93367.23571809041,
          93098.27333981442,
          92137.9453727896,
          92332.7226360739,
          92730.43421837711,
          92193.61176665411,
          92135.2998412,
          92543.37308889581,
          92577.98546052641,
          92310.566309011,
          91754.6739837463,
          91969.7336558842,
          91253.45597800001,
          90922.76452930001,
          91367.69,
          91506.09885351949,
          91513.19655646398,
          91431.46425194439,
          91152.01026735379,
          91371.98252089239
         ],
         "yaxis": "y3"
        },
        {
         "marker": {
          "color": "DarkGreen"
         },
         "mode": "lines",
         "name": "Net Worth",
         "type": "scatter",
         "uid": "425ac698-5938-4ce2-abd8-e4fb972b4a58",
         "xaxis": "x4",
         "y": [
          97409.9,
          97390,
          97284.9,
          97040.76885322719,
          97996.59851223898,
          97604.79347959999,
          97604.79347959999,
          97596.38986190829,
          94961.1463192617,
          94963.1,
          95103.835840437,
          95220.3276902422,
          95002.9723826695,
          95322.547606348,
          94842.356855743,
          94623.56649535241,
          94267.23184179999,
          94432.7044705717,
          94222.1932610536,
          92791.11443557241,
          90662.2687745569,
          90950.51999999999,
          91641.88035361779,
          91541.879614124,
          91746.78090662799,
          91682.0810963319,
          91398.0032717788,
          91798.56302674451,
          93220.39982168529,
          93241.22402913,
          93153.0273858348,
          91091.8762864019,
          91593.10493725,
          92270.17007769799,
          92132.084424054,
          92399.346979494,
          92204.35667342089,
          91901.7931887832,
          92452.5767717858,
          92382.08627278851,
          92174.9577923225,
          92947.1238587479,
          93077.525713923,
          93264.60950273101,
          93192.44861276221,
          93171.29032712319,
          92592.7782539937,
          93137.65978889701,
          92920.0635250096,
          91842.549988994,
          92176.628183294,
          92335.5380443827,
          92516.1629881009,
          92416.050889209,
          92088.3201806007,
          92439.2136440138,
          92634.2039500869,
          92499.45907838589,
          92165.82632167831,
          91957.13880963891,
          90936.08448846,
          91051.1187466973,
          91322.50159986701,
          90818.15488587209,
          89978.3936648,
          89833.9605254643,
          88620.6998831648,
          88800.7680298925,
          89070.814570285,
          88998.3196021219,
          89340.304313687,
          89566.0298136357,
          88705.2216663227,
          90078.0603260995,
          90448.2189653839,
          90290.0886200819,
          90621.2714700313,
          90368.15155815,
          90279.06403967,
          90138.751198064,
          89978.50502419811,
          90391.4256723529,
          90501.67147647189,
          90323.05100191949,
          91486.08855567589,
          91664.5976708302,
          91761.59170657529,
          91704.46433535,
          91536.311644219,
          91858.91982051471,
          91465.041629435,
          91325.7310224119,
          91314.706442,
          91730.07699691299,
          91627.9604288553,
          91769.3868644423,
          91480.63194516899,
          90981.4077634867,
          91647.33696412471,
          91380.07440868471,
          91900.0114384136,
          93152.13651065,
          92970.0638947565,
          92472.73282284189,
          92545.00507220879,
          92539.6598211,
          92315.4933527247,
          92483.8687626519,
          92443.3339417435,
          92574.4039533072,
          91760.9235501867,
          91314.5950826019,
          91615.15409807379,
          91662.14776407201,
          91302.34554881089,
          91491.2110879885,
          92205.47026740189,
          91928.0740067348,
          92098.676604624,
          91807.3604191944,
          91750.34440736721,
          92062.3734408434,
          92230.8602101687,
          92992.00169618221,
          92835.875820046,
          92839.3279613871,
          92553.13430827009,
          92562.9339353029,
          92931.53354301391,
          93287.994976332,
          94445.13048198911,
          94768.73000000001,
          94830.97363908,
          94748.20320786162,
          95205.218789965,
          94802.7672968971,
          94394.25312726971,
          94764.0763973992,
          94439.0067033271,
          94193.5234179088,
          94478.2487552395,
          94497.31862878121,
          94681.07284377552,
          94545.3791193256,
          95123.64823261902,
          94827.3486945838,
          94671.81348321191,
          94291.62854768982,
          94302.21067404821,
          94198.0428677077,
          94558.60677727361,
          94454.7696623818,
          93536.21904837611,
          93561.90275089181,
          93468.64776235839,
          93272.2170418306,
          92906.91322150001,
          93160.55356265292,
          93599.160654112,
          93299.0030491753,
          93552.09223791372,
          93367.23571809041,
          93098.27333981442,
          92137.9453727896,
          92332.7226360739,
          92730.43421837711,
          92193.61176665411,
          92135.2998412,
          92543.37308889581,
          92577.98546052641,
          92310.566309011,
          91754.6739837463,
          91969.7336558842,
          91253.45597800001,
          90922.76452930001,
          91367.69,
          91506.09885351949,
          91513.19655646398,
          91431.46425194439,
          91152.01026735379,
          91371.98252089239
         ],
         "yaxis": "y4"
        }
       ],
       "layout": {
        "annotations": [
         {
          "arrowcolor": "DarkGreen",
          "arrowhead": 2,
          "arrowsize": 0.8,
          "arrowwidth": 4,
          "ax": 0,
          "ay": 15,
          "hoverlabel": {
           "bgcolor": "DarkGreen"
          },
          "hovertext": "Step 11 [2018-05-15 16:00:00]<br>BUY 0.23941593 BTC @ 8535.23 USD MARKET<br>Total: 2043.47 USD - Comm.: 6.15 USD",
          "opacity": 0.6,
          "showarrow": true,
          "x": 10,
          "xref": "x",
          "y": 8535.23,
          "yref": "y"
         },
         {
          "arrowcolor": "DarkGreen",
          "arrowhead": 2,
          "arrowsize": 0.8,
          "arrowwidth": 4,
          "ax": 0,
          "ay": 15,
          "hoverlabel": {
           "bgcolor": "DarkGreen"
          },
          "hovertext": "Step 10 [2018-05-15 15:00:00]<br>BUY 0.7994519 BTC @ 8520.3 USD MARKET<br>Total: 6811.57 USD - Comm.: 20.50 USD",
          "opacity": 0.6,
          "showarrow": true,
          "x": 9,
          "xref": "x",
          "y": 8520.3,
          "yref": "y"
         },
         {
          "arrowcolor": "FireBrick",
          "arrowhead": 2,
          "arrowsize": 0.8,
          "arrowwidth": 4,
          "ax": 0,
          "ay": -15,
          "hoverlabel": {
           "bgcolor": "FireBrick"
          },
          "hovertext": "Step 9 [2018-05-15 14:00:00]<br>SELL 0.91104784 BTC @ 8517.77 USD MARKET<br>Total: 7760.1 USD - Comm.: 0.00274137 BTC",
          "opacity": 0.6,
          "showarrow": true,
          "x": 8,
          "xref": "x",
          "y": 8517.77,
          "yref": "y"
         },
         {
          "arrowcolor": "DarkGreen",
          "arrowhead": 2,
          "arrowsize": 0.8,
          "arrowwidth": 4,
          "ax": 0,
          "ay": 15,
          "hoverlabel": {
           "bgcolor": "DarkGreen"
          },
          "hovertext": "Step 3 [2018-05-15 08:00:00]<br>BUY 0.91378921 BTC @ 8728.49 USD MARKET<br>Total: 7976.0 USD - Comm.: 24.00 USD",
          "opacity": 0.6,
          "showarrow": true,
          "x": 2,
          "xref": "x",
          "y": 8728.49,
          "yref": "y"
         },
         {
          "arrowcolor": "DarkGreen",
          "arrowhead": 2,
          "arrowsize": 0.8,
          "arrowwidth": 4,
          "ax": 0,
          "ay": 15,
          "hoverlabel": {
           "bgcolor": "DarkGreen"
          },
          "hovertext": "Step 22 [2018-05-16 03:00:00]<br>BUY 1.13593981 BTC @ 8164.79 USD MARKET<br>Total: 9274.71 USD - Comm.: 27.91 USD",
          "opacity": 0.6,
          "showarrow": true,
          "x": 21,
          "xref": "x",
          "y": 8164.79,
          "yref": "y"
         },
         {
          "arrowcolor": "FireBrick",
          "arrowhead": 2,
          "arrowsize": 0.8,
          "arrowwidth": 4,
          "ax": 0,
          "ay": -15,
          "hoverlabel": {
           "bgcolor": "FireBrick"
          },
          "hovertext": "Step 21 [2018-05-16 02:00:00]<br>SELL 0.23869768 BTC @ 8133.43 USD MARKET<br>Total: 1941.43 USD - Comm.: 0.00071825 BTC",
          "opacity": 0.6,
          "showarrow": true,
          "x": 20,
          "xref": "x",
          "y": 8133.43,
          "yref": "y"
         },
         {
          "arrowcolor": "FireBrick",
          "arrowhead": 2,
          "arrowsize": 0.8,
          "arrowwidth": 4,
          "ax": 0,
          "ay": -15,
          "hoverlabel": {
           "bgcolor": "FireBrick"
          },
          "hovertext": "Step 21 [2018-05-16 02:00:00]<br>SELL 0.79705354 BTC @ 8133.43 USD MARKET<br>Total: 6482.78 USD - Comm.: 0.00239836 BTC",
          "opacity": 0.6,
          "showarrow": true,
          "x": 20,
          "xref": "x",
          "y": 8133.43,
          "yref": "y"
         },
         {
          "arrowcolor": "DarkGreen",
          "arrowhead": 2,
          "arrowsize": 0.8,
          "arrowwidth": 4,
          "ax": 0,
          "ay": 15,
          "hoverlabel": {
           "bgcolor": "DarkGreen"
          },
          "hovertext": "Step 133 [2018-05-20 18:00:00]<br>BUY 0.23592562 BTC @ 8524.0 USD MARKET<br>Total: 2011.03 USD - Comm.: 6.05 USD",
          "opacity": 0.6,
          "showarrow": true,
          "x": 132,
          "xref": "x",
          "y": 8524,
          "yref": "y"
         },
         {
          "arrowcolor": "DarkGreen",
          "arrowhead": 2,
          "arrowsize": 0.8,
          "arrowwidth": 4,
          "ax": 0,
          "ay": 15,
          "hoverlabel": {
           "bgcolor": "DarkGreen"
          },
          "hovertext": "Step 132 [2018-05-20 17:00:00]<br>BUY 0.78712267 BTC @ 8516.36 USD MARKET<br>Total: 6703.42 USD - Comm.: 20.17 USD",
          "opacity": 0.6,
          "showarrow": true,
          "x": 131,
          "xref": "x",
          "y": 8516.36,
          "yref": "y"
         },
         {
          "arrowcolor": "FireBrick",
          "arrowhead": 2,
          "arrowsize": 0.8,
          "arrowwidth": 4,
          "ax": 0,
          "ay": -15,
          "hoverlabel": {
           "bgcolor": "FireBrick"
          },
          "hovertext": "Step 131 [2018-05-20 16:00:00]<br>SELL 1.13253199 BTC @ 8481.11 USD MARKET<br>Total: 9605.13 USD - Comm.: 0.00340782 BTC",
          "opacity": 0.6,
          "showarrow": true,
          "x": 130,
          "xref": "x",
          "y": 8481.11,
          "yref": "y"
         },
         {
          "arrowcolor": "DarkGreen",
          "arrowhead": 2,
          "arrowsize": 0.8,
          "arrowwidth": 4,
          "ax": 0,
          "ay": 15,
          "hoverlabel": {
           "bgcolor": "DarkGreen"
          },
          "hovertext": "Step 177 [2018-05-22 14:00:00]<br>BUY 0.23394273 BTC @ 8231.63 USD MARKET<br>Total: 1925.73 USD - Comm.: 5.79 USD",
          "opacity": 0.6,
          "showarrow": true,
          "x": 176,
          "xref": "x",
          "y": 8231.63,
          "yref": "y"
         },
         {
          "arrowcolor": "DarkGreen",
          "arrowhead": 2,
          "arrowsize": 0.8,
          "arrowwidth": 4,
          "ax": 0,
          "ay": 15,
          "hoverlabel": {
           "bgcolor": "DarkGreen"
          },
          "hovertext": "Step 176 [2018-05-22 13:00:00]<br>BUY 0.78119265 BTC @ 8217.0 USD MARKET<br>Total: 6419.06 USD - Comm.: 19.32 USD",
          "opacity": 0.6,
          "showarrow": true,
          "x": 175,
          "xref": "x",
          "y": 8217,
          "yref": "y"
         },
         {
          "arrowcolor": "FireBrick",
          "arrowhead": 2,
          "arrowsize": 0.8,
          "arrowwidth": 4,
          "ax": 0,
          "ay": -15,
          "hoverlabel": {
           "bgcolor": "FireBrick"
          },
          "hovertext": "Step 175 [2018-05-22 12:00:00]<br>SELL 0.23521784 BTC @ 8170.0 USD MARKET<br>Total: 1921.73 USD - Comm.: 0.00070778 BTC",
          "opacity": 0.6,
          "showarrow": true,
          "x": 174,
          "xref": "x",
          "y": 8170,
          "yref": "y"
         },
         {
          "arrowcolor": "FireBrick",
          "arrowhead": 2,
          "arrowsize": 0.8,
          "arrowwidth": 4,
          "ax": 0,
          "ay": -15,
          "hoverlabel": {
           "bgcolor": "FireBrick"
          },
          "hovertext": "Step 175 [2018-05-22 12:00:00]<br>SELL 0.7847613 BTC @ 8170.0 USD MARKET<br>Total: 6411.5 USD - Comm.: 0.00236137 BTC",
          "opacity": 0.6,
          "showarrow": true,
          "x": 174,
          "xref": "x",
          "y": 8170,
          "yref": "y"
         }
        ],
        "margin": {
         "t": 50
        },
        "template": {
         "data": {
          "bar": [
           {
            "error_x": {
             "color": "#2a3f5f"
            },
            "error_y": {
             "color": "#2a3f5f"
            },
            "marker": {
             "line": {
              "color": "white",
              "width": 0.5
             },
             "pattern": {
              "fillmode": "overlay",
              "size": 10,
              "solidity": 0.2
             }
            },
            "type": "bar"
           }
          ],
          "barpolar": [
           {
            "marker": {
             "line": {
              "color": "white",
              "width": 0.5
             },
             "pattern": {
              "fillmode": "overlay",
              "size": 10,
              "solidity": 0.2
             }
            },
            "type": "barpolar"
           }
          ],
          "carpet": [
           {
            "aaxis": {
             "endlinecolor": "#2a3f5f",
             "gridcolor": "#C8D4E3",
             "linecolor": "#C8D4E3",
             "minorgridcolor": "#C8D4E3",
             "startlinecolor": "#2a3f5f"
            },
            "baxis": {
             "endlinecolor": "#2a3f5f",
             "gridcolor": "#C8D4E3",
             "linecolor": "#C8D4E3",
             "minorgridcolor": "#C8D4E3",
             "startlinecolor": "#2a3f5f"
            },
            "type": "carpet"
           }
          ],
          "choropleth": [
           {
            "colorbar": {
             "outlinewidth": 0,
             "ticks": ""
            },
            "type": "choropleth"
           }
          ],
          "contour": [
           {
            "colorbar": {
             "outlinewidth": 0,
             "ticks": ""
            },
            "colorscale": [
             [
              0,
              "#0d0887"
             ],
             [
              0.1111111111111111,
              "#46039f"
             ],
             [
              0.2222222222222222,
              "#7201a8"
             ],
             [
              0.3333333333333333,
              "#9c179e"
             ],
             [
              0.4444444444444444,
              "#bd3786"
             ],
             [
              0.5555555555555556,
              "#d8576b"
             ],
             [
              0.6666666666666666,
              "#ed7953"
             ],
             [
              0.7777777777777778,
              "#fb9f3a"
             ],
             [
              0.8888888888888888,
              "#fdca26"
             ],
             [
              1,
              "#f0f921"
             ]
            ],
            "type": "contour"
           }
          ],
          "contourcarpet": [
           {
            "colorbar": {
             "outlinewidth": 0,
             "ticks": ""
            },
            "type": "contourcarpet"
           }
          ],
          "heatmap": [
           {
            "colorbar": {
             "outlinewidth": 0,
             "ticks": ""
            },
            "colorscale": [
             [
              0,
              "#0d0887"
             ],
             [
              0.1111111111111111,
              "#46039f"
             ],
             [
              0.2222222222222222,
              "#7201a8"
             ],
             [
              0.3333333333333333,
              "#9c179e"
             ],
             [
              0.4444444444444444,
              "#bd3786"
             ],
             [
              0.5555555555555556,
              "#d8576b"
             ],
             [
              0.6666666666666666,
              "#ed7953"
             ],
             [
              0.7777777777777778,
              "#fb9f3a"
             ],
             [
              0.8888888888888888,
              "#fdca26"
             ],
             [
              1,
              "#f0f921"
             ]
            ],
            "type": "heatmap"
           }
          ],
          "heatmapgl": [
           {
            "colorbar": {
             "outlinewidth": 0,
             "ticks": ""
            },
            "colorscale": [
             [
              0,
              "#0d0887"
             ],
             [
              0.1111111111111111,
              "#46039f"
             ],
             [
              0.2222222222222222,
              "#7201a8"
             ],
             [
              0.3333333333333333,
              "#9c179e"
             ],
             [
              0.4444444444444444,
              "#bd3786"
             ],
             [
              0.5555555555555556,
              "#d8576b"
             ],
             [
              0.6666666666666666,
              "#ed7953"
             ],
             [
              0.7777777777777778,
              "#fb9f3a"
             ],
             [
              0.8888888888888888,
              "#fdca26"
             ],
             [
              1,
              "#f0f921"
             ]
            ],
            "type": "heatmapgl"
           }
          ],
          "histogram": [
           {
            "marker": {
             "pattern": {
              "fillmode": "overlay",
              "size": 10,
              "solidity": 0.2
             }
            },
            "type": "histogram"
           }
          ],
          "histogram2d": [
           {
            "colorbar": {
             "outlinewidth": 0,
             "ticks": ""
            },
            "colorscale": [
             [
              0,
              "#0d0887"
             ],
             [
              0.1111111111111111,
              "#46039f"
             ],
             [
              0.2222222222222222,
              "#7201a8"
             ],
             [
              0.3333333333333333,
              "#9c179e"
             ],
             [
              0.4444444444444444,
              "#bd3786"
             ],
             [
              0.5555555555555556,
              "#d8576b"
             ],
             [
              0.6666666666666666,
              "#ed7953"
             ],
             [
              0.7777777777777778,
              "#fb9f3a"
             ],
             [
              0.8888888888888888,
              "#fdca26"
             ],
             [
              1,
              "#f0f921"
             ]
            ],
            "type": "histogram2d"
           }
          ],
          "histogram2dcontour": [
           {
            "colorbar": {
             "outlinewidth": 0,
             "ticks": ""
            },
            "colorscale": [
             [
              0,
              "#0d0887"
             ],
             [
              0.1111111111111111,
              "#46039f"
             ],
             [
              0.2222222222222222,
              "#7201a8"
             ],
             [
              0.3333333333333333,
              "#9c179e"
             ],
             [
              0.4444444444444444,
              "#bd3786"
             ],
             [
              0.5555555555555556,
              "#d8576b"
             ],
             [
              0.6666666666666666,
              "#ed7953"
             ],
             [
              0.7777777777777778,
              "#fb9f3a"
             ],
             [
              0.8888888888888888,
              "#fdca26"
             ],
             [
              1,
              "#f0f921"
             ]
            ],
            "type": "histogram2dcontour"
           }
          ],
          "mesh3d": [
           {
            "colorbar": {
             "outlinewidth": 0,
             "ticks": ""
            },
            "type": "mesh3d"
           }
          ],
          "parcoords": [
           {
            "line": {
             "colorbar": {
              "outlinewidth": 0,
              "ticks": ""
             }
            },
            "type": "parcoords"
           }
          ],
          "pie": [
           {
            "automargin": true,
            "type": "pie"
           }
          ],
          "scatter": [
           {
            "marker": {
             "colorbar": {
              "outlinewidth": 0,
              "ticks": ""
             }
            },
            "type": "scatter"
           }
          ],
          "scatter3d": [
           {
            "line": {
             "colorbar": {
              "outlinewidth": 0,
              "ticks": ""
             }
            },
            "marker": {
             "colorbar": {
              "outlinewidth": 0,
              "ticks": ""
             }
            },
            "type": "scatter3d"
           }
          ],
          "scattercarpet": [
           {
            "marker": {
             "colorbar": {
              "outlinewidth": 0,
              "ticks": ""
             }
            },
            "type": "scattercarpet"
           }
          ],
          "scattergeo": [
           {
            "marker": {
             "colorbar": {
              "outlinewidth": 0,
              "ticks": ""
             }
            },
            "type": "scattergeo"
           }
          ],
          "scattergl": [
           {
            "marker": {
             "colorbar": {
              "outlinewidth": 0,
              "ticks": ""
             }
            },
            "type": "scattergl"
           }
          ],
          "scattermapbox": [
           {
            "marker": {
             "colorbar": {
              "outlinewidth": 0,
              "ticks": ""
             }
            },
            "type": "scattermapbox"
           }
          ],
          "scatterpolar": [
           {
            "marker": {
             "colorbar": {
              "outlinewidth": 0,
              "ticks": ""
             }
            },
            "type": "scatterpolar"
           }
          ],
          "scatterpolargl": [
           {
            "marker": {
             "colorbar": {
              "outlinewidth": 0,
              "ticks": ""
             }
            },
            "type": "scatterpolargl"
           }
          ],
          "scatterternary": [
           {
            "marker": {
             "colorbar": {
              "outlinewidth": 0,
              "ticks": ""
             }
            },
            "type": "scatterternary"
           }
          ],
          "surface": [
           {
            "colorbar": {
             "outlinewidth": 0,
             "ticks": ""
            },
            "colorscale": [
             [
              0,
              "#0d0887"
             ],
             [
              0.1111111111111111,
              "#46039f"
             ],
             [
              0.2222222222222222,
              "#7201a8"
             ],
             [
              0.3333333333333333,
              "#9c179e"
             ],
             [
              0.4444444444444444,
              "#bd3786"
             ],
             [
              0.5555555555555556,
              "#d8576b"
             ],
             [
              0.6666666666666666,
              "#ed7953"
             ],
             [
              0.7777777777777778,
              "#fb9f3a"
             ],
             [
              0.8888888888888888,
              "#fdca26"
             ],
             [
              1,
              "#f0f921"
             ]
            ],
            "type": "surface"
           }
          ],
          "table": [
           {
            "cells": {
             "fill": {
              "color": "#EBF0F8"
             },
             "line": {
              "color": "white"
             }
            },
            "header": {
             "fill": {
              "color": "#C8D4E3"
             },
             "line": {
              "color": "white"
             }
            },
            "type": "table"
           }
          ]
         },
         "layout": {
          "annotationdefaults": {
           "arrowcolor": "#2a3f5f",
           "arrowhead": 0,
           "arrowwidth": 1
          },
          "autotypenumbers": "strict",
          "coloraxis": {
           "colorbar": {
            "outlinewidth": 0,
            "ticks": ""
           }
          },
          "colorscale": {
           "diverging": [
            [
             0,
             "#8e0152"
            ],
            [
             0.1,
             "#c51b7d"
            ],
            [
             0.2,
             "#de77ae"
            ],
            [
             0.3,
             "#f1b6da"
            ],
            [
             0.4,
             "#fde0ef"
            ],
            [
             0.5,
             "#f7f7f7"
            ],
            [
             0.6,
             "#e6f5d0"
            ],
            [
             0.7,
             "#b8e186"
            ],
            [
             0.8,
             "#7fbc41"
            ],
            [
             0.9,
             "#4d9221"
            ],
            [
             1,
             "#276419"
            ]
           ],
           "sequential": [
            [
             0,
             "#0d0887"
            ],
            [
             0.1111111111111111,
             "#46039f"
            ],
            [
             0.2222222222222222,
             "#7201a8"
            ],
            [
             0.3333333333333333,
             "#9c179e"
            ],
            [
             0.4444444444444444,
             "#bd3786"
            ],
            [
             0.5555555555555556,
             "#d8576b"
            ],
            [
             0.6666666666666666,
             "#ed7953"
            ],
            [
             0.7777777777777778,
             "#fb9f3a"
            ],
            [
             0.8888888888888888,
             "#fdca26"
            ],
            [
             1,
             "#f0f921"
            ]
           ],
           "sequentialminus": [
            [
             0,
             "#0d0887"
            ],
            [
             0.1111111111111111,
             "#46039f"
            ],
            [
             0.2222222222222222,
             "#7201a8"
            ],
            [
             0.3333333333333333,
             "#9c179e"
            ],
            [
             0.4444444444444444,
             "#bd3786"
            ],
            [
             0.5555555555555556,
             "#d8576b"
            ],
            [
             0.6666666666666666,
             "#ed7953"
            ],
            [
             0.7777777777777778,
             "#fb9f3a"
            ],
            [
             0.8888888888888888,
             "#fdca26"
            ],
            [
             1,
             "#f0f921"
            ]
           ]
          },
          "colorway": [
           "#636efa",
           "#EF553B",
           "#00cc96",
           "#ab63fa",
           "#FFA15A",
           "#19d3f3",
           "#FF6692",
           "#B6E880",
           "#FF97FF",
           "#FECB52"
          ],
          "font": {
           "color": "#2a3f5f"
          },
          "geo": {
           "bgcolor": "white",
           "lakecolor": "white",
           "landcolor": "white",
           "showlakes": true,
           "showland": true,
           "subunitcolor": "#C8D4E3"
          },
          "hoverlabel": {
           "align": "left"
          },
          "hovermode": "closest",
          "mapbox": {
           "style": "light"
          },
          "paper_bgcolor": "white",
          "plot_bgcolor": "white",
          "polar": {
           "angularaxis": {
            "gridcolor": "#EBF0F8",
            "linecolor": "#EBF0F8",
            "ticks": ""
           },
           "bgcolor": "white",
           "radialaxis": {
            "gridcolor": "#EBF0F8",
            "linecolor": "#EBF0F8",
            "ticks": ""
           }
          },
          "scene": {
           "xaxis": {
            "backgroundcolor": "white",
            "gridcolor": "#DFE8F3",
            "gridwidth": 2,
            "linecolor": "#EBF0F8",
            "showbackground": true,
            "ticks": "",
            "zerolinecolor": "#EBF0F8"
           },
           "yaxis": {
            "backgroundcolor": "white",
            "gridcolor": "#DFE8F3",
            "gridwidth": 2,
            "linecolor": "#EBF0F8",
            "showbackground": true,
            "ticks": "",
            "zerolinecolor": "#EBF0F8"
           },
           "zaxis": {
            "backgroundcolor": "white",
            "gridcolor": "#DFE8F3",
            "gridwidth": 2,
            "linecolor": "#EBF0F8",
            "showbackground": true,
            "ticks": "",
            "zerolinecolor": "#EBF0F8"
           }
          },
          "shapedefaults": {
           "line": {
            "color": "#2a3f5f"
           }
          },
          "ternary": {
           "aaxis": {
            "gridcolor": "#DFE8F3",
            "linecolor": "#A2B1C6",
            "ticks": ""
           },
           "baxis": {
            "gridcolor": "#DFE8F3",
            "linecolor": "#A2B1C6",
            "ticks": ""
           },
           "bgcolor": "white",
           "caxis": {
            "gridcolor": "#DFE8F3",
            "linecolor": "#A2B1C6",
            "ticks": ""
           }
          },
          "title": {
           "x": 0.05
          },
          "xaxis": {
           "automargin": true,
           "gridcolor": "#EBF0F8",
           "linecolor": "#EBF0F8",
           "ticks": "",
           "title": {
            "standoff": 15
           },
           "zerolinecolor": "#EBF0F8",
           "zerolinewidth": 2
          },
          "yaxis": {
           "automargin": true,
           "gridcolor": "#EBF0F8",
           "linecolor": "#EBF0F8",
           "ticks": "",
           "title": {
            "standoff": 15
           },
           "zerolinecolor": "#EBF0F8",
           "zerolinewidth": 2
          }
         }
        },
        "title": {
         "text": "[2022-04-10 00:18:53] Episode: 2/2 Step: 181/200"
        },
        "xaxis": {
         "anchor": "y",
         "domain": [
          0,
          1
         ],
         "gridcolor": "Gainsboro",
         "linecolor": "Grey",
         "matches": "x4",
         "rangeslider": {
          "visible": false
         },
         "showticklabels": false,
         "title": {
          "font": {
           "size": 12
          },
          "standoff": 7,
          "text": "Price"
         }
        },
        "xaxis2": {
         "anchor": "y2",
         "domain": [
          0,
          1
         ],
         "gridcolor": "Gainsboro",
         "linecolor": "Grey",
         "matches": "x4",
         "showticklabels": false,
         "title": {
          "font": {
           "size": 12
          },
          "standoff": 7,
          "text": "Volume"
         }
        },
        "xaxis3": {
         "anchor": "y3",
         "domain": [
          0,
          1
         ],
         "gridcolor": "Gainsboro",
         "linecolor": "Grey",
         "matches": "x4",
         "showticklabels": false,
         "title": {
          "font": {
           "size": 12
          },
          "standoff": 7,
          "text": "Performance"
         }
        },
        "xaxis4": {
         "anchor": "y4",
         "domain": [
          0,
          1
         ],
         "gridcolor": "Gainsboro",
         "linecolor": "Grey",
         "title": {
          "font": {
           "size": 12
          },
          "standoff": 7,
          "text": "Net Worth"
         }
        },
        "yaxis": {
         "anchor": "x",
         "domain": [
          0.49950000000000006,
          1
         ],
         "gridcolor": "Gainsboro",
         "linecolor": "Grey"
        },
        "yaxis2": {
         "anchor": "x2",
         "domain": [
          0.333,
          0.46950000000000003
         ],
         "gridcolor": "Gainsboro",
         "linecolor": "Grey"
        },
        "yaxis3": {
         "anchor": "x3",
         "domain": [
          0.1665,
          0.30300000000000005
         ],
         "gridcolor": "Gainsboro",
         "linecolor": "Grey"
        },
        "yaxis4": {
         "anchor": "x4",
         "domain": [
          0,
          0.1365
         ],
         "gridcolor": "Gainsboro",
         "linecolor": "Grey"
        }
       }
      }
     },
     "metadata": {},
     "output_type": "display_data"
    },
    {
     "data": {
      "application/vnd.jupyter.widget-view+json": {
       "model_id": "dc4636eeaeb44503acf6a2b1e182667b",
       "version_major": 2,
       "version_minor": 0
      },
      "text/plain": [
       "FigureWidget({\n",
       "    'data': [{'close': array([8740.99, 8739.  , 8728.49, 8708.32, 8795.9 , 8760.  , 8760.  , 87…"
      ]
     },
     "metadata": {},
     "output_type": "display_data"
    },
    {
     "data": {
      "application/vnd.plotly.v1+json": {
       "config": {
        "plotlyServerURL": "https://plot.ly"
       },
       "data": [
        {
         "close": [
          8740.99,
          8739,
          8728.49,
          8708.32,
          8795.9,
          8760,
          8760,
          8759.23,
          8517.77,
          8520.3,
          8535.23,
          8546.34,
          8526.65,
          8555.6,
          8512.1,
          8492.28,
          8460,
          8474.99,
          8455.92,
          8326.28,
          8133.43,
          8164.79,
          8229.38,
          8220.4,
          8238.8,
          8232.99,
          8207.48,
          8243.45,
          8371.13,
          8373,
          8365.08,
          8179.99,
          8225,
          8285.8,
          8273.4,
          8297.4,
          8279.89,
          8252.72,
          8302.18,
          8295.85,
          8277.25,
          8346.59,
          8358.3,
          8375.1,
          8368.62,
          8366.72,
          8314.77,
          8363.7,
          8344.16,
          8247.4,
          8277.4,
          8291.67,
          8307.89,
          8298.9,
          8269.47,
          8300.98,
          8318.49,
          8306.39,
          8276.43,
          8257.69,
          8166,
          8176.33,
          8200.7,
          8155.41,
          8080,
          8067.03,
          7958.08,
          7974.25,
          7998.5,
          7991.99,
          8022.7,
          8042.97,
          7965.67,
          8088.95,
          8122.19,
          8107.99,
          8137.73,
          8115,
          8107,
          8094.4,
          8080.01,
          8117.09,
          8126.99,
          8110.95,
          8215.39,
          8231.42,
          8240.13,
          8235,
          8219.9,
          8248.87,
          8213.5,
          8200.99,
          8200,
          8237.3,
          8228.13,
          8240.83,
          8214.9,
          8170.07,
          8229.87,
          8205.87,
          8252.56,
          8365,
          8348.65,
          8303.99,
          8310.48,
          8310,
          8289.87,
          8304.99,
          8301.35,
          8313.12,
          8240.07,
          8199.99,
          8226.98,
          8231.2,
          8198.89,
          8215.85,
          8279.99,
          8255.08,
          8270.4,
          8244.24,
          8239.12,
          8267.14,
          8282.27,
          8350.62,
          8336.6,
          8336.91,
          8311.21,
          8312.09,
          8345.19,
          8377.2,
          8481.11,
          8516.36,
          8524,
          8517.04,
          8558.5,
          8521.99,
          8484.93,
          8518.48,
          8488.99,
          8466.72,
          8492.55,
          8494.28,
          8510.95,
          8498.64,
          8551.1,
          8524.22,
          8510.11,
          8475.62,
          8476.58,
          8467.13,
          8499.84,
          8490.42,
          8407.09,
          8409.42,
          8400.96,
          8383.14,
          8350,
          8373.01,
          8412.8,
          8385.57,
          8408.53,
          8391.76,
          8367.36,
          8280.24,
          8297.91,
          8333.99,
          8285.29,
          8280,
          8317.02,
          8320.16,
          8295.9,
          8245.47,
          8264.98,
          8200,
          8170,
          8217,
          8231.63,
          8232.8,
          8225.38,
          8200.01,
          8219.98,
          8187.98,
          8100.32,
          8076.99,
          7964.73,
          7984.08,
          7949.35,
          7900.61,
          7895.5,
          7960,
          7900,
          7921.99,
          7943.07,
          7856.37,
          7848.3,
          7852.68,
          7847.1,
          7849.31,
          7911.83,
          7901.01,
          7887
         ],
         "high": [
          8796.68,
          8766,
          8750.27,
          8754.4,
          8865,
          8821.19,
          8798.6,
          8771.02,
          8761.7,
          8553.67,
          8589.1,
          8579.48,
          8555.51,
          8583.6,
          8569.92,
          8555.54,
          8557.51,
          8505,
          8505.33,
          8478.29,
          8339.81,
          8217.44,
          8252.72,
          8248.63,
          8267.12,
          8255,
          8261.24,
          8263.93,
          8455.66,
          8439.44,
          8399.1,
          8381.73,
          8229.91,
          8377.29,
          8329.1,
          8350,
          8346.95,
          8377.29,
          8311.35,
          8319.96,
          8398.24,
          8372.58,
          8399.99,
          8386.53,
          8400,
          8500,
          8381,
          8371.3,
          8382.41,
          8351,
          8292.99,
          8325.8,
          8318.99,
          8324.9,
          8335.56,
          8309.4,
          8377.29,
          8330.41,
          8328.23,
          8284.36,
          8274.83,
          8200,
          8232.14,
          8213.97,
          8155.41,
          8108.28,
          8068.92,
          8019.9,
          8026.66,
          8025,
          8104.69,
          8061.39,
          8045.99,
          8170.71,
          8144.16,
          8139.99,
          8152.99,
          8137.73,
          8143.72,
          8129.99,
          8106.76,
          8139,
          8152.04,
          8146.99,
          8232.14,
          8275.1,
          8256.12,
          8274.1,
          8255.8,
          8253.97,
          8261.09,
          8235.76,
          8227,
          8273.36,
          8264.21,
          8250,
          8250.86,
          8235.77,
          8232.12,
          8232.14,
          8252.72,
          8370,
          8395,
          8374.48,
          8331,
          8319.43,
          8323.4,
          8314.55,
          8330.62,
          8314.8,
          8323.99,
          8263.03,
          8247.78,
          8253.75,
          8237.89,
          8235,
          8279.99,
          8290,
          8278.71,
          8275.34,
          8279.31,
          8279.98,
          8294.04,
          8356.4,
          8374.94,
          8354.83,
          8360.45,
          8337.14,
          8351.97,
          8377.29,
          8549,
          8531.9,
          8551.79,
          8529.9,
          8590,
          8576.1,
          8549.89,
          8531.89,
          8550,
          8493.29,
          8522.98,
          8517,
          8537.29,
          8524.51,
          8589.1,
          8589.07,
          8536.92,
          8524.03,
          8497.8,
          8498,
          8513.5,
          8510,
          8494.7,
          8427.29,
          8419.03,
          8415.47,
          8389.99,
          8397.57,
          8455,
          8429.66,
          8412.61,
          8424,
          8417.65,
          8369.7,
          8326.5,
          8336.65,
          8333.99,
          8314.32,
          8355.97,
          8333.49,
          8325.6,
          8296.01,
          8264.98,
          8271.31,
          8200,
          8232.14,
          8246,
          8248.94,
          8259.95,
          8242.49,
          8232.04,
          8230.9,
          8205,
          8118.98,
          8103.07,
          8040.95,
          8032.01,
          7960.25,
          7920,
          7960,
          7960,
          7935,
          7960.99,
          7951.38,
          7888.92,
          7870,
          7909.75,
          7882.27,
          7949.27,
          7944.73,
          7916.48
         ],
         "low": [
          8707.28,
          8721.11,
          8660.53,
          8701.35,
          8695.11,
          8740.54,
          8741.52,
          8700,
          8467.42,
          8477.89,
          8500.78,
          8500,
          8400,
          8451.05,
          8461.38,
          8481.24,
          8420.37,
          8450,
          8430.94,
          8275.02,
          8100.01,
          8122.56,
          8157.01,
          8166.25,
          8176.91,
          8213.79,
          8200,
          8207.48,
          8237.1,
          8370,
          8356.4,
          8145.1,
          8173.6,
          8211.8,
          8201,
          8250.9,
          8266.46,
          8252.72,
          8232.14,
          8268.37,
          8277.25,
          8277.25,
          8314.78,
          8314.77,
          8350.07,
          8331.39,
          8314.77,
          8275.45,
          8335.49,
          8191.14,
          8227.7,
          8264.13,
          8249.93,
          8269.52,
          8219.44,
          8262.68,
          8286.65,
          8289.87,
          8232.14,
          8232.14,
          8110.02,
          8154.95,
          8168.6,
          8151,
          7980,
          8005.95,
          7929.53,
          7931.03,
          7950,
          7980.58,
          7991.99,
          7992.75,
          7953.4,
          7965.67,
          8085.94,
          8078.48,
          8092.9,
          8049.22,
          8079.46,
          8062.12,
          8043.96,
          8063.1,
          8088.46,
          8094.43,
          8088.46,
          8191.14,
          8212,
          8224.5,
          8211,
          8211.01,
          8210.03,
          8158.27,
          8177.65,
          8179.41,
          8221.92,
          8217.32,
          8213.52,
          8141.08,
          8146.1,
          8186.03,
          8197.09,
          8231.21,
          8323.82,
          8296,
          8296.31,
          8282.65,
          8280,
          8273.36,
          8290.08,
          8277.93,
          8240.07,
          8191.14,
          8178,
          8193.7,
          8180,
          8170.71,
          8215.53,
          8240.02,
          8237.17,
          8237.17,
          8239.12,
          8227.79,
          8247.57,
          8274.24,
          8326.1,
          8320.61,
          8281.31,
          8269.85,
          8311.16,
          8336.11,
          8369.86,
          8471.51,
          8511,
          8476.66,
          8507.68,
          8509.24,
          8482.53,
          8484.93,
          8450,
          8434.47,
          8461.1,
          8481,
          8480,
          8488.1,
          8471.09,
          8509.2,
          8482.64,
          8469,
          8440.4,
          8440.52,
          8461.8,
          8480,
          8358.17,
          8380.73,
          8370,
          8383.12,
          8320,
          8349.17,
          8357.11,
          8370.58,
          8367.21,
          8376.99,
          8335.6,
          8252.72,
          8264.49,
          8282.59,
          8271.09,
          8261.52,
          8280,
          8297,
          8290,
          8220,
          8230.45,
          8180,
          8119.38,
          8170,
          8189.84,
          8210.76,
          8212.68,
          8200,
          8186,
          8161.77,
          8063.15,
          8050.01,
          7951.41,
          7964.73,
          7949.35,
          7861.32,
          7865,
          7886.48,
          7870.35,
          7885.2,
          7896.41,
          7811.62,
          7808.05,
          7808,
          7836.79,
          7801.02,
          7847.36,
          7883,
          7850.72
         ],
         "name": "Price",
         "open": [
          8733.86,
          8740.99,
          8739,
          8728.49,
          8708.32,
          8795.9,
          8760,
          8760,
          8759.23,
          8517.77,
          8520.3,
          8535.23,
          8546.34,
          8526.65,
          8555.6,
          8512.1,
          8492.28,
          8460,
          8474.99,
          8455.92,
          8326.28,
          8133.43,
          8164.79,
          8229.38,
          8220.4,
          8238.8,
          8232.99,
          8207.48,
          8243.45,
          8371.13,
          8373,
          8365.08,
          8179.99,
          8225,
          8285.8,
          8273.4,
          8297.4,
          8279.89,
          8252.72,
          8302.18,
          8295.85,
          8277.25,
          8346.59,
          8358.3,
          8375.1,
          8368.62,
          8366.72,
          8314.77,
          8363.7,
          8344.16,
          8247.4,
          8277.4,
          8291.67,
          8307.89,
          8298.9,
          8269.47,
          8300.98,
          8318.49,
          8306.39,
          8276.43,
          8257.69,
          8166,
          8176.33,
          8200.7,
          8155.41,
          8080,
          8067.03,
          7958.08,
          7974.25,
          7998.5,
          7991.99,
          8022.7,
          8042.97,
          7965.67,
          8088.95,
          8122.19,
          8107.99,
          8137.73,
          8115,
          8107,
          8094.4,
          8080.01,
          8117.09,
          8126.99,
          8110.95,
          8215.39,
          8231.42,
          8240.13,
          8235,
          8219.9,
          8248.87,
          8213.5,
          8200.99,
          8200,
          8237.3,
          8228.13,
          8240.83,
          8214.9,
          8170.07,
          8229.87,
          8205.87,
          8252.56,
          8365,
          8348.65,
          8303.99,
          8310.48,
          8310,
          8289.87,
          8304.99,
          8301.35,
          8313.12,
          8240.07,
          8199.99,
          8226.98,
          8231.2,
          8198.89,
          8215.85,
          8279.99,
          8255.08,
          8270.4,
          8244.24,
          8239.12,
          8267.14,
          8282.27,
          8350.62,
          8336.6,
          8336.91,
          8311.21,
          8312.09,
          8345.19,
          8377.2,
          8481.11,
          8516.36,
          8524,
          8517.04,
          8558.5,
          8521.99,
          8484.93,
          8518.48,
          8488.99,
          8466.72,
          8492.55,
          8494.28,
          8510.95,
          8498.64,
          8551.1,
          8524.22,
          8510.11,
          8475.62,
          8476.58,
          8467.13,
          8499.84,
          8490.42,
          8407.09,
          8409.42,
          8400.96,
          8383.14,
          8350,
          8373.01,
          8412.8,
          8385.57,
          8408.53,
          8391.76,
          8367.36,
          8280.24,
          8297.91,
          8333.99,
          8285.29,
          8280,
          8317.02,
          8320.16,
          8295.9,
          8245.47,
          8264.98,
          8200,
          8170,
          8217,
          8231.63,
          8232.8,
          8225.38,
          8200.01,
          8219.98,
          8187.98,
          8100.32,
          8076.99,
          7964.73,
          7984.08,
          7949.35,
          7900.61,
          7895.5,
          7960,
          7900,
          7921.99,
          7943.07,
          7856.37,
          7848.3,
          7852.68,
          7847.1,
          7849.31,
          7911.83,
          7901.01
         ],
         "showlegend": false,
         "type": "candlestick",
         "uid": "8c6d8a56-07c4-4131-a4c8-63193c8a8ccd",
         "xaxis": "x",
         "yaxis": "y"
        },
        {
         "marker": {
          "color": "DodgerBlue"
         },
         "name": "Volume",
         "showlegend": false,
         "type": "bar",
         "uid": "145b46e2-d412-4928-981a-553342a3477e",
         "xaxis": "x2",
         "y": [
          559.93,
          273.58,
          917.79,
          182.62,
          1260.69,
          324.11,
          324.2,
          730.67,
          1341.75,
          792.07,
          385.69,
          475.08,
          877.26,
          670.49,
          610.97,
          168.99,
          305.92,
          136.05,
          154.26,
          1070.93,
          1710.2,
          492.8,
          630.72,
          620.93,
          586.34,
          304.52,
          450.97,
          182.36,
          915.32,
          319.29,
          362.01,
          1046.38,
          357.91,
          561.2,
          322.53,
          1073.71,
          237.21,
          251.2,
          359.73,
          117.23,
          363.17,
          214.18,
          171.64,
          258.58,
          299.52,
          718.98,
          119.7,
          405.25,
          210.77,
          714.82,
          215.97,
          164.2,
          201.55,
          203.41,
          886.82,
          95.49,
          499.67,
          172.77,
          355.39,
          255.27,
          591.06,
          133.1,
          149.13,
          87.55,
          1061.54,
          286.94,
          524.42,
          316,
          441.43,
          189.7,
          844.94,
          155.34,
          257.56,
          610.69,
          217.97,
          173.18,
          218.06,
          372.97,
          484.39,
          248.1,
          162.35,
          303.42,
          290.69,
          160.93,
          369.4,
          487.27,
          93.35,
          96.68,
          72.14,
          90.22,
          168.52,
          203.15,
          71.42,
          464.56,
          57,
          89.42,
          49.47,
          200.05,
          254.37,
          65.05,
          118.19,
          452.4,
          181.03,
          288.04,
          145.78,
          110.14,
          55.48,
          80.87,
          67.01,
          59.16,
          121.26,
          244.37,
          156.87,
          80.48,
          139.32,
          93.52,
          200.23,
          97.4,
          68.08,
          47,
          36.65,
          28.75,
          182.85,
          400.18,
          288.1,
          182.94,
          777.81,
          493.59,
          118.63,
          174.37,
          901.75,
          222.45,
          113.8,
          84.2,
          261.44,
          168.78,
          111.07,
          122.12,
          267.32,
          210.39,
          211.36,
          146.22,
          93.39,
          89.04,
          307.59,
          307.2,
          164.24,
          151.21,
          399.77,
          362.01,
          260.85,
          232.32,
          1109.45,
          348.5,
          210.57,
          274.92,
          277.83,
          99.57,
          273.12,
          129.47,
          113.05,
          87.6,
          159.37,
          433.28,
          133.29,
          200.57,
          210.33,
          206.4,
          357.53,
          107.43,
          116.54,
          479.07,
          290.38,
          812.96,
          1542.87,
          430.36,
          312.54,
          132.75,
          333.64,
          205.86,
          120.33,
          263.1,
          457.64,
          451.55,
          962.22,
          381.04,
          386.95,
          905.87,
          453.48,
          542.31,
          476.48,
          341.79,
          654.23,
          769.1,
          719.94,
          523.05,
          409.37,
          255.12,
          551.86,
          340.62,
          488.69
         ],
         "yaxis": "y2"
        },
        {
         "mode": "lines",
         "name": "bitstamp:/USD-BTC",
         "type": "scatter",
         "uid": "8c525a7c-7cb9-4397-bed8-bf45f03e8a5f",
         "xaxis": "x3",
         "y": [
          8740.99,
          8739,
          8728.49,
          8708.32,
          8795.9,
          8760,
          8760,
          8759.23,
          8517.77,
          8520.3,
          8535.23,
          8546.34,
          8526.65,
          8555.6,
          8512.1,
          8492.28,
          8460,
          8474.99,
          8455.92,
          8326.28,
          8133.43,
          8164.79,
          8229.38,
          8220.4,
          8238.8,
          8232.99,
          8207.48,
          8243.45,
          8371.13,
          8373,
          8365.08,
          8179.99,
          8225,
          8285.8,
          8273.4,
          8297.4,
          8279.89,
          8252.72,
          8302.18,
          8295.85,
          8277.25,
          8346.59,
          8358.3,
          8375.1,
          8368.62,
          8366.72,
          8314.77,
          8363.7,
          8344.16,
          8247.4,
          8277.4,
          8291.67,
          8307.89,
          8298.9,
          8269.47,
          8300.98,
          8318.49,
          8306.39,
          8276.43,
          8257.69,
          8166,
          8176.33,
          8200.7,
          8155.41,
          8080,
          8067.03,
          7958.08,
          7974.25,
          7998.5,
          7991.99,
          8022.7,
          8042.97,
          7965.67,
          8088.95,
          8122.19,
          8107.99,
          8137.73,
          8115,
          8107,
          8094.4,
          8080.01,
          8117.09,
          8126.99,
          8110.95,
          8215.39,
          8231.42,
          8240.13,
          8235,
          8219.9,
          8248.87,
          8213.5,
          8200.99,
          8200,
          8237.3,
          8228.13,
          8240.83,
          8214.9,
          8170.07,
          8229.87,
          8205.87,
          8252.56,
          8365,
          8348.65,
          8303.99,
          8310.48,
          8310,
          8289.87,
          8304.99,
          8301.35,
          8313.12,
          8240.07,
          8199.99,
          8226.98,
          8231.2,
          8198.89,
          8215.85,
          8279.99,
          8255.08,
          8270.4,
          8244.24,
          8239.12,
          8267.14,
          8282.27,
          8350.62,
          8336.6,
          8336.91,
          8311.21,
          8312.09,
          8345.19,
          8377.2,
          8481.11,
          8516.36,
          8524,
          8517.04,
          8558.5,
          8521.99,
          8484.93,
          8518.48,
          8488.99,
          8466.72,
          8492.55,
          8494.28,
          8510.95,
          8498.64,
          8551.1,
          8524.22,
          8510.11,
          8475.62,
          8476.58,
          8467.13,
          8499.84,
          8490.42,
          8407.09,
          8409.42,
          8400.96,
          8383.14,
          8350,
          8373.01,
          8412.8,
          8385.57,
          8408.53,
          8391.76,
          8367.36,
          8280.24,
          8297.91,
          8333.99,
          8285.29,
          8280,
          8317.02,
          8320.16,
          8295.9,
          8245.47,
          8264.98,
          8200,
          8170,
          8217,
          8231.63,
          8232.8,
          8225.38,
          8200.01,
          8219.98,
          8187.98,
          8100.32,
          8076.99,
          7964.73,
          7984.08,
          7949.35,
          7900.61,
          7895.5,
          7960,
          7900,
          7921.99,
          7943.07,
          7856.37,
          7848.3,
          7852.68,
          7847.1,
          7849.31,
          7911.83,
          7901.01,
          7887
         ],
         "yaxis": "y3"
        },
        {
         "mode": "lines",
         "name": "bitstamp:/USD:/free",
         "type": "scatter",
         "uid": "401294ed-928f-428f-a642-2b39c2a3ff21",
         "xaxis": "x3",
         "y": [
          10000,
          10000,
          10000,
          2000,
          2000,
          2000,
          2000,
          2000,
          2000,
          9760.1,
          2928.03,
          878.41,
          878.41,
          878.41,
          878.41,
          878.41,
          878.41,
          878.41,
          878.41,
          878.41,
          878.41,
          9302.62,
          0,
          0,
          0,
          0,
          0,
          0,
          0,
          0,
          0,
          0,
          0,
          0,
          0,
          0,
          0,
          0,
          0,
          0,
          0,
          0,
          0,
          0,
          0,
          0,
          0,
          0,
          0,
          0,
          0,
          0,
          0,
          0,
          0,
          0,
          0,
          0,
          0,
          0,
          0,
          0,
          0,
          0,
          0,
          0,
          0,
          0,
          0,
          0,
          0,
          0,
          0,
          0,
          0,
          0,
          0,
          0,
          0,
          0,
          0,
          0,
          0,
          0,
          0,
          0,
          0,
          0,
          0,
          0,
          0,
          0,
          0,
          0,
          0,
          0,
          0,
          0,
          0,
          0,
          0,
          0,
          0,
          0,
          0,
          0,
          0,
          0,
          0,
          0,
          0,
          0,
          0,
          0,
          0,
          0,
          0,
          0,
          0,
          0,
          0,
          0,
          0,
          0,
          0,
          0,
          0,
          0,
          0,
          0,
          0,
          9605.13,
          2881.54,
          864.46,
          864.46,
          864.46,
          864.46,
          864.46,
          864.46,
          864.46,
          864.46,
          864.46,
          864.46,
          864.46,
          864.46,
          864.46,
          864.46,
          864.46,
          864.46,
          864.46,
          864.46,
          864.46,
          864.46,
          864.46,
          864.46,
          864.46,
          864.46,
          864.46,
          864.46,
          864.46,
          864.46,
          864.46,
          864.46,
          864.46,
          864.46,
          864.46,
          864.46,
          864.46,
          864.46,
          864.46,
          864.46,
          864.46,
          864.46,
          864.46,
          864.46,
          9197.69,
          2759.31,
          827.79,
          827.79,
          827.79,
          827.79,
          827.79,
          827.79,
          827.79,
          827.79,
          827.79,
          827.79,
          827.79,
          2670.54,
          801.16,
          801.16,
          801.16,
          801.16,
          801.16,
          6920.09,
          2076.03,
          2076.03,
          2076.03,
          2076.03,
          2076.03,
          2076.03
         ],
         "yaxis": "y3"
        },
        {
         "mode": "lines",
         "name": "bitstamp:/USD:/locked",
         "type": "scatter",
         "uid": "2aef03b6-c4ff-49c5-a389-faa69b1e2dd5",
         "xaxis": "x3",
         "y": [
          0,
          0,
          0,
          0,
          0,
          0,
          0,
          0,
          0,
          0,
          0,
          0,
          0,
          0,
          0,
          0,
          0,
          0,
          0,
          0,
          0,
          0,
          0,
          0,
          0,
          0,
          0,
          0,
          0,
          0,
          0,
          0,
          0,
          0,
          0,
          0,
          0,
          0,
          0,
          0,
          0,
          0,
          0,
          0,
          0,
          0,
          0,
          0,
          0,
          0,
          0,
          0,
          0,
          0,
          0,
          0,
          0,
          0,
          0,
          0,
          0,
          0,
          0,
          0,
          0,
          0,
          0,
          0,
          0,
          0,
          0,
          0,
          0,
          0,
          0,
          0,
          0,
          0,
          0,
          0,
          0,
          0,
          0,
          0,
          0,
          0,
          0,
          0,
          0,
          0,
          0,
          0,
          0,
          0,
          0,
          0,
          0,
          0,
          0,
          0,
          0,
          0,
          0,
          0,
          0,
          0,
          0,
          0,
          0,
          0,
          0,
          0,
          0,
          0,
          0,
          0,
          0,
          0,
          0,
          0,
          0,
          0,
          0,
          0,
          0,
          0,
          0,
          0,
          0,
          0,
          0,
          0,
          0,
          0,
          0,
          0,
          0,
          0,
          0,
          0,
          0,
          0,
          0,
          0,
          0,
          0,
          0,
          0,
          0,
          0,
          0,
          0,
          0,
          0,
          0,
          0,
          0,
          0,
          0,
          0,
          0,
          0,
          0,
          0,
          0,
          0,
          0,
          0,
          0,
          0,
          0,
          0,
          0,
          0,
          0,
          0,
          0,
          0,
          0,
          0,
          0,
          0,
          0,
          0,
          0,
          0,
          0,
          0,
          0,
          0,
          0,
          0,
          0,
          0,
          0,
          0,
          0,
          0,
          0,
          0,
          0
         ],
         "yaxis": "y3"
        },
        {
         "mode": "lines",
         "name": "bitstamp:/USD:/total",
         "type": "scatter",
         "uid": "1cfdc07a-0fb3-45f5-8ac0-46485deef13b",
         "xaxis": "x3",
         "y": [
          10000,
          10000,
          10000,
          2000,
          2000,
          2000,
          2000,
          2000,
          2000,
          9760.1,
          2928.03,
          878.41,
          878.41,
          878.41,
          878.41,
          878.41,
          878.41,
          878.41,
          878.41,
          878.41,
          878.41,
          9302.62,
          0,
          0,
          0,
          0,
          0,
          0,
          0,
          0,
          0,
          0,
          0,
          0,
          0,
          0,
          0,
          0,
          0,
          0,
          0,
          0,
          0,
          0,
          0,
          0,
          0,
          0,
          0,
          0,
          0,
          0,
          0,
          0,
          0,
          0,
          0,
          0,
          0,
          0,
          0,
          0,
          0,
          0,
          0,
          0,
          0,
          0,
          0,
          0,
          0,
          0,
          0,
          0,
          0,
          0,
          0,
          0,
          0,
          0,
          0,
          0,
          0,
          0,
          0,
          0,
          0,
          0,
          0,
          0,
          0,
          0,
          0,
          0,
          0,
          0,
          0,
          0,
          0,
          0,
          0,
          0,
          0,
          0,
          0,
          0,
          0,
          0,
          0,
          0,
          0,
          0,
          0,
          0,
          0,
          0,
          0,
          0,
          0,
          0,
          0,
          0,
          0,
          0,
          0,
          0,
          0,
          0,
          0,
          0,
          0,
          9605.13,
          2881.54,
          864.46,
          864.46,
          864.46,
          864.46,
          864.46,
          864.46,
          864.46,
          864.46,
          864.46,
          864.46,
          864.46,
          864.46,
          864.46,
          864.46,
          864.46,
          864.46,
          864.46,
          864.46,
          864.46,
          864.46,
          864.46,
          864.46,
          864.46,
          864.46,
          864.46,
          864.46,
          864.46,
          864.46,
          864.46,
          864.46,
          864.46,
          864.46,
          864.46,
          864.46,
          864.46,
          864.46,
          864.46,
          864.46,
          864.46,
          864.46,
          864.46,
          864.46,
          9197.69,
          2759.31,
          827.79,
          827.79,
          827.79,
          827.79,
          827.79,
          827.79,
          827.79,
          827.79,
          827.79,
          827.79,
          827.79,
          2670.54,
          801.16,
          801.16,
          801.16,
          801.16,
          801.16,
          6920.09,
          2076.03,
          2076.03,
          2076.03,
          2076.03,
          2076.03,
          2076.03
         ],
         "yaxis": "y3"
        },
        {
         "mode": "lines",
         "name": "bitstamp:/BTC:/free",
         "type": "scatter",
         "uid": "6f75c785-6a85-4a93-88f3-23bc8f1b0896",
         "xaxis": "x3",
         "y": [
          10,
          10,
          10,
          10,
          10,
          10,
          10,
          10,
          10,
          10,
          10,
          10,
          10,
          10,
          10,
          10,
          10,
          10,
          10,
          10,
          10,
          10,
          10,
          10,
          10,
          10,
          10,
          10,
          10,
          10,
          10,
          10,
          10,
          10,
          10,
          10,
          10,
          10,
          10,
          10,
          10,
          10,
          10,
          10,
          10,
          10,
          10,
          10,
          10,
          10,
          10,
          10,
          10,
          10,
          10,
          10,
          10,
          10,
          10,
          10,
          10,
          10,
          10,
          10,
          10,
          10,
          10,
          10,
          10,
          10,
          10,
          10,
          10,
          10,
          10,
          10,
          10,
          10,
          10,
          10,
          10,
          10,
          10,
          10,
          10,
          10,
          10,
          10,
          10,
          10,
          10,
          10,
          10,
          10,
          10,
          10,
          10,
          10,
          10,
          10,
          10,
          10,
          10,
          10,
          10,
          10,
          10,
          10,
          10,
          10,
          10,
          10,
          10,
          10,
          10,
          10,
          10,
          10,
          10,
          10,
          10,
          10,
          10,
          10,
          10,
          10,
          10,
          10,
          10,
          10,
          10,
          10,
          10,
          10,
          10,
          10,
          10,
          10,
          10,
          10,
          10,
          10,
          10,
          10,
          10,
          10,
          10,
          10,
          10,
          10,
          10,
          10,
          10,
          10,
          10,
          10,
          10,
          10,
          10,
          10,
          10,
          10,
          10,
          10,
          10,
          10,
          10,
          10,
          10,
          10,
          10,
          10,
          10,
          10,
          10,
          10,
          10,
          10,
          10,
          10,
          10,
          10,
          10,
          10,
          10,
          10,
          10,
          10,
          10,
          10,
          10,
          10,
          10,
          10,
          10,
          10,
          10,
          10,
          10,
          10,
          10
         ],
         "yaxis": "y3"
        },
        {
         "mode": "lines",
         "name": "bitstamp:/BTC:/locked",
         "type": "scatter",
         "uid": "ba02f11e-201e-468a-9ae6-fb1561982cfe",
         "xaxis": "x3",
         "y": [
          0,
          0,
          0,
          0.91378921,
          0.91378921,
          0.91378921,
          0.91378921,
          0.91378921,
          0.91378921,
          0,
          0.7994519,
          1.03886783,
          1.03886783,
          1.03886783,
          1.03886783,
          1.03886783,
          1.03886783,
          1.03886783,
          1.03886783,
          1.03886783,
          1.03886783,
          0,
          1.13593981,
          1.13593981,
          1.13593981,
          1.13593981,
          1.13593981,
          1.13593981,
          1.13593981,
          1.13593981,
          1.13593981,
          1.13593981,
          1.13593981,
          1.13593981,
          1.13593981,
          1.13593981,
          1.13593981,
          1.13593981,
          1.13593981,
          1.13593981,
          1.13593981,
          1.13593981,
          1.13593981,
          1.13593981,
          1.13593981,
          1.13593981,
          1.13593981,
          1.13593981,
          1.13593981,
          1.13593981,
          1.13593981,
          1.13593981,
          1.13593981,
          1.13593981,
          1.13593981,
          1.13593981,
          1.13593981,
          1.13593981,
          1.13593981,
          1.13593981,
          1.13593981,
          1.13593981,
          1.13593981,
          1.13593981,
          1.13593981,
          1.13593981,
          1.13593981,
          1.13593981,
          1.13593981,
          1.13593981,
          1.13593981,
          1.13593981,
          1.13593981,
          1.13593981,
          1.13593981,
          1.13593981,
          1.13593981,
          1.13593981,
          1.13593981,
          1.13593981,
          1.13593981,
          1.13593981,
          1.13593981,
          1.13593981,
          1.13593981,
          1.13593981,
          1.13593981,
          1.13593981,
          1.13593981,
          1.13593981,
          1.13593981,
          1.13593981,
          1.13593981,
          1.13593981,
          1.13593981,
          1.13593981,
          1.13593981,
          1.13593981,
          1.13593981,
          1.13593981,
          1.13593981,
          1.13593981,
          1.13593981,
          1.13593981,
          1.13593981,
          1.13593981,
          1.13593981,
          1.13593981,
          1.13593981,
          1.13593981,
          1.13593981,
          1.13593981,
          1.13593981,
          1.13593981,
          1.13593981,
          1.13593981,
          1.13593981,
          1.13593981,
          1.13593981,
          1.13593981,
          1.13593981,
          1.13593981,
          1.13593981,
          1.13593981,
          1.13593981,
          1.13593981,
          1.13593981,
          1.13593981,
          1.13593981,
          1.13593981,
          1.13593981,
          0,
          0.78712267,
          1.02304829,
          1.02304829,
          1.02304829,
          1.02304829,
          1.02304829,
          1.02304829,
          1.02304829,
          1.02304829,
          1.02304829,
          1.02304829,
          1.02304829,
          1.02304829,
          1.02304829,
          1.02304829,
          1.02304829,
          1.02304829,
          1.02304829,
          1.02304829,
          1.02304829,
          1.02304829,
          1.02304829,
          1.02304829,
          1.02304829,
          1.02304829,
          1.02304829,
          1.02304829,
          1.02304829,
          1.02304829,
          1.02304829,
          1.02304829,
          1.02304829,
          1.02304829,
          1.02304829,
          1.02304829,
          1.02304829,
          1.02304829,
          1.02304829,
          1.02304829,
          1.02304829,
          1.02304829,
          1.02304829,
          1.02304829,
          0,
          0.78119265,
          1.01513538,
          1.01513538,
          1.01513538,
          1.01513538,
          1.01513538,
          1.01513538,
          1.01513538,
          1.01513538,
          1.01513538,
          1.01513538,
          1.01513538,
          0.78119265,
          1.01724736,
          1.01724736,
          1.01724736,
          1.01724736,
          1.01724736,
          0.23605471,
          0.85141472,
          0.85141472,
          0.85141472,
          0.85141472,
          0.85141472,
          0.85141472
         ],
         "yaxis": "y3"
        },
        {
         "mode": "lines",
         "name": "bitstamp:/BTC:/total",
         "type": "scatter",
         "uid": "db06df65-6739-42e7-9218-1600ec083b58",
         "xaxis": "x3",
         "y": [
          10,
          10,
          10,
          10.91378921,
          10.91378921,
          10.91378921,
          10.91378921,
          10.91378921,
          10.91378921,
          10,
          10.7994519,
          11.03886783,
          11.03886783,
          11.03886783,
          11.03886783,
          11.03886783,
          11.03886783,
          11.03886783,
          11.03886783,
          11.03886783,
          11.03886783,
          10,
          11.13593981,
          11.13593981,
          11.13593981,
          11.13593981,
          11.13593981,
          11.13593981,
          11.13593981,
          11.13593981,
          11.13593981,
          11.13593981,
          11.13593981,
          11.13593981,
          11.13593981,
          11.13593981,
          11.13593981,
          11.13593981,
          11.13593981,
          11.13593981,
          11.13593981,
          11.13593981,
          11.13593981,
          11.13593981,
          11.13593981,
          11.13593981,
          11.13593981,
          11.13593981,
          11.13593981,
          11.13593981,
          11.13593981,
          11.13593981,
          11.13593981,
          11.13593981,
          11.13593981,
          11.13593981,
          11.13593981,
          11.13593981,
          11.13593981,
          11.13593981,
          11.13593981,
          11.13593981,
          11.13593981,
          11.13593981,
          11.13593981,
          11.13593981,
          11.13593981,
          11.13593981,
          11.13593981,
          11.13593981,
          11.13593981,
          11.13593981,
          11.13593981,
          11.13593981,
          11.13593981,
          11.13593981,
          11.13593981,
          11.13593981,
          11.13593981,
          11.13593981,
          11.13593981,
          11.13593981,
          11.13593981,
          11.13593981,
          11.13593981,
          11.13593981,
          11.13593981,
          11.13593981,
          11.13593981,
          11.13593981,
          11.13593981,
          11.13593981,
          11.13593981,
          11.13593981,
          11.13593981,
          11.13593981,
          11.13593981,
          11.13593981,
          11.13593981,
          11.13593981,
          11.13593981,
          11.13593981,
          11.13593981,
          11.13593981,
          11.13593981,
          11.13593981,
          11.13593981,
          11.13593981,
          11.13593981,
          11.13593981,
          11.13593981,
          11.13593981,
          11.13593981,
          11.13593981,
          11.13593981,
          11.13593981,
          11.13593981,
          11.13593981,
          11.13593981,
          11.13593981,
          11.13593981,
          11.13593981,
          11.13593981,
          11.13593981,
          11.13593981,
          11.13593981,
          11.13593981,
          11.13593981,
          11.13593981,
          11.13593981,
          11.13593981,
          10,
          10.78712267,
          11.02304829,
          11.02304829,
          11.02304829,
          11.02304829,
          11.02304829,
          11.02304829,
          11.02304829,
          11.02304829,
          11.02304829,
          11.02304829,
          11.02304829,
          11.02304829,
          11.02304829,
          11.02304829,
          11.02304829,
          11.02304829,
          11.02304829,
          11.02304829,
          11.02304829,
          11.02304829,
          11.02304829,
          11.02304829,
          11.02304829,
          11.02304829,
          11.02304829,
          11.02304829,
          11.02304829,
          11.02304829,
          11.02304829,
          11.02304829,
          11.02304829,
          11.02304829,
          11.02304829,
          11.02304829,
          11.02304829,
          11.02304829,
          11.02304829,
          11.02304829,
          11.02304829,
          11.02304829,
          11.02304829,
          11.02304829,
          10,
          10.78119265,
          11.01513538,
          11.01513538,
          11.01513538,
          11.01513538,
          11.01513538,
          11.01513538,
          11.01513538,
          11.01513538,
          11.01513538,
          11.01513538,
          11.01513538,
          10.78119265,
          11.01724736,
          11.01724736,
          11.01724736,
          11.01724736,
          11.01724736,
          10.23605471,
          10.85141472,
          10.85141472,
          10.85141472,
          10.85141472,
          10.85141472,
          10.85141472
         ],
         "yaxis": "y3"
        },
        {
         "mode": "lines",
         "name": "bitstamp:/BTC:/worth",
         "type": "scatter",
         "uid": "00269ee4-5684-47d5-acbb-521c67b732c8",
         "xaxis": "x3",
         "y": [
          87409.9,
          87390,
          87284.9,
          95040.76885322719,
          95996.59851223898,
          95604.79347959999,
          95604.79347959999,
          95596.38986190829,
          92961.1463192617,
          85203,
          92175.805840437,
          94341.91769024219,
          94124.5623826695,
          94444.137606348,
          93963.946855743,
          93745.1564953524,
          93388.82184179999,
          93554.2944705717,
          93343.7832610536,
          91912.7044355724,
          89783.8587745569,
          81647.9,
          91641.88035361779,
          91541.879614124,
          91746.78090662799,
          91682.0810963319,
          91398.0032717788,
          91798.56302674451,
          93220.39982168529,
          93241.22402913,
          93153.0273858348,
          91091.8762864019,
          91593.10493725,
          92270.17007769799,
          92132.084424054,
          92399.346979494,
          92204.35667342089,
          91901.7931887832,
          92452.5767717858,
          92382.08627278851,
          92174.9577923225,
          92947.1238587479,
          93077.525713923,
          93264.60950273101,
          93192.44861276221,
          93171.29032712319,
          92592.7782539937,
          93137.65978889701,
          92920.0635250096,
          91842.549988994,
          92176.628183294,
          92335.5380443827,
          92516.1629881009,
          92416.050889209,
          92088.3201806007,
          92439.2136440138,
          92634.2039500869,
          92499.45907838589,
          92165.82632167831,
          91957.13880963891,
          90936.08448846,
          91051.1187466973,
          91322.50159986701,
          90818.15488587209,
          89978.3936648,
          89833.9605254643,
          88620.6998831648,
          88800.7680298925,
          89070.814570285,
          88998.3196021219,
          89340.304313687,
          89566.0298136357,
          88705.2216663227,
          90078.0603260995,
          90448.2189653839,
          90290.0886200819,
          90621.2714700313,
          90368.15155815,
          90279.06403967,
          90138.751198064,
          89978.50502419811,
          90391.4256723529,
          90501.67147647189,
          90323.05100191949,
          91486.08855567589,
          91664.5976708302,
          91761.59170657529,
          91704.46433535,
          91536.311644219,
          91858.91982051471,
          91465.041629435,
          91325.7310224119,
          91314.706442,
          91730.07699691299,
          91627.9604288553,
          91769.3868644423,
          91480.63194516899,
          90981.4077634867,
          91647.33696412471,
          91380.07440868471,
          91900.0114384136,
          93152.13651065,
          92970.0638947565,
          92472.73282284189,
          92545.00507220879,
          92539.6598211,
          92315.4933527247,
          92483.8687626519,
          92443.3339417435,
          92574.4039533072,
          91760.9235501867,
          91314.5950826019,
          91615.15409807379,
          91662.14776407201,
          91302.34554881089,
          91491.2110879885,
          92205.47026740189,
          91928.0740067348,
          92098.676604624,
          91807.3604191944,
          91750.34440736721,
          92062.3734408434,
          92230.8602101687,
          92992.00169618221,
          92835.875820046,
          92839.3279613871,
          92553.13430827009,
          92562.9339353029,
          92931.53354301391,
          93287.994976332,
          94445.13048198911,
          85163.6,
          91949.43363908,
          93883.74320786161,
          94340.758789965,
          93938.3072968971,
          93529.7931272697,
          93899.6163973992,
          93574.5467033271,
          93329.0634179088,
          93613.7887552395,
          93632.8586287812,
          93816.61284377551,
          93680.9191193256,
          94259.18823261901,
          93962.88869458379,
          93807.3534832119,
          93427.16854768981,
          93437.7506740482,
          93333.5828677077,
          93694.1467772736,
          93590.3096623818,
          92671.7590483761,
          92697.4427508918,
          92604.18776235839,
          92407.7570418306,
          92042.4532215,
          92296.09356265291,
          92734.70065411199,
          92434.54304917529,
          92687.63223791371,
          92502.7757180904,
          92233.81333981441,
          91273.4853727896,
          91468.2626360739,
          91865.9742183771,
          91329.1517666541,
          91270.8398412,
          91678.9130888958,
          91713.5254605264,
          91446.106309011,
          90890.21398374629,
          91105.2736558842,
          90388.995978,
          90058.3045293,
          82170,
          88746.7888535195,
          90685.40655646399,
          90603.6742519444,
          90324.2202673538,
          90544.1925208924,
          90191.7081887324,
          89226.1214213216,
          88969.1383129062,
          87732.5792151474,
          87945.7220847504,
          87563.166433003,
          87026.2887345818,
          85122.90656807499,
          87697.28898560001,
          87036.254144,
          87278.5234134464,
          87510.7669877952,
          86555.5716416832,
          80335.628180493,
          85212.6873434496,
          85152.136449312,
          85176.1180758432,
          85854.54852413759,
          85737.13621686719,
          85585.10789664
         ],
         "yaxis": "y3"
        },
        {
         "mode": "lines",
         "name": "net_worth",
         "type": "scatter",
         "uid": "c6aa695d-58af-49d4-a325-d546bfdc6beb",
         "xaxis": "x3",
         "y": [
          97409.9,
          97390,
          97284.9,
          97040.76885322719,
          97996.59851223898,
          97604.79347959999,
          97604.79347959999,
          97596.38986190829,
          94961.1463192617,
          94963.1,
          95103.835840437,
          95220.3276902422,
          95002.9723826695,
          95322.547606348,
          94842.356855743,
          94623.56649535241,
          94267.23184179999,
          94432.7044705717,
          94222.1932610536,
          92791.11443557241,
          90662.2687745569,
          90950.51999999999,
          91641.88035361779,
          91541.879614124,
          91746.78090662799,
          91682.0810963319,
          91398.0032717788,
          91798.56302674451,
          93220.39982168529,
          93241.22402913,
          93153.0273858348,
          91091.8762864019,
          91593.10493725,
          92270.17007769799,
          92132.084424054,
          92399.346979494,
          92204.35667342089,
          91901.7931887832,
          92452.5767717858,
          92382.08627278851,
          92174.9577923225,
          92947.1238587479,
          93077.525713923,
          93264.60950273101,
          93192.44861276221,
          93171.29032712319,
          92592.7782539937,
          93137.65978889701,
          92920.0635250096,
          91842.549988994,
          92176.628183294,
          92335.5380443827,
          92516.1629881009,
          92416.050889209,
          92088.3201806007,
          92439.2136440138,
          92634.2039500869,
          92499.45907838589,
          92165.82632167831,
          91957.13880963891,
          90936.08448846,
          91051.1187466973,
          91322.50159986701,
          90818.15488587209,
          89978.3936648,
          89833.9605254643,
          88620.6998831648,
          88800.7680298925,
          89070.814570285,
          88998.3196021219,
          89340.304313687,
          89566.0298136357,
          88705.2216663227,
          90078.0603260995,
          90448.2189653839,
          90290.0886200819,
          90621.2714700313,
          90368.15155815,
          90279.06403967,
          90138.751198064,
          89978.50502419811,
          90391.4256723529,
          90501.67147647189,
          90323.05100191949,
          91486.08855567589,
          91664.5976708302,
          91761.59170657529,
          91704.46433535,
          91536.311644219,
          91858.91982051471,
          91465.041629435,
          91325.7310224119,
          91314.706442,
          91730.07699691299,
          91627.9604288553,
          91769.3868644423,
          91480.63194516899,
          90981.4077634867,
          91647.33696412471,
          91380.07440868471,
          91900.0114384136,
          93152.13651065,
          92970.0638947565,
          92472.73282284189,
          92545.00507220879,
          92539.6598211,
          92315.4933527247,
          92483.8687626519,
          92443.3339417435,
          92574.4039533072,
          91760.9235501867,
          91314.5950826019,
          91615.15409807379,
          91662.14776407201,
          91302.34554881089,
          91491.2110879885,
          92205.47026740189,
          91928.0740067348,
          92098.676604624,
          91807.3604191944,
          91750.34440736721,
          92062.3734408434,
          92230.8602101687,
          92992.00169618221,
          92835.875820046,
          92839.3279613871,
          92553.13430827009,
          92562.9339353029,
          92931.53354301391,
          93287.994976332,
          94445.13048198911,
          94768.73000000001,
          94830.97363908,
          94748.20320786162,
          95205.218789965,
          94802.7672968971,
          94394.25312726971,
          94764.0763973992,
          94439.0067033271,
          94193.5234179088,
          94478.2487552395,
          94497.31862878121,
          94681.07284377552,
          94545.3791193256,
          95123.64823261902,
          94827.3486945838,
          94671.81348321191,
          94291.62854768982,
          94302.21067404821,
          94198.0428677077,
          94558.60677727361,
          94454.7696623818,
          93536.21904837611,
          93561.90275089181,
          93468.64776235839,
          93272.2170418306,
          92906.91322150001,
          93160.55356265292,
          93599.160654112,
          93299.0030491753,
          93552.09223791372,
          93367.23571809041,
          93098.27333981442,
          92137.9453727896,
          92332.7226360739,
          92730.43421837711,
          92193.61176665411,
          92135.2998412,
          92543.37308889581,
          92577.98546052641,
          92310.566309011,
          91754.6739837463,
          91969.7336558842,
          91253.45597800001,
          90922.76452930001,
          91367.69,
          91506.09885351949,
          91513.19655646398,
          91431.46425194439,
          91152.01026735379,
          91371.98252089239,
          91019.4981887324,
          90053.9114213216,
          89796.9283129062,
          88560.3692151474,
          88773.5120847504,
          88390.956433003,
          87854.0787345818,
          87793.44656807499,
          88498.44898560001,
          87837.41414400001,
          88079.6834134464,
          88311.9269877952,
          87356.7316416832,
          87255.718180493,
          87288.71734344959,
          87228.166449312,
          87252.1480758432,
          87930.57852413759,
          87813.16621686719,
          87661.13789664
         ],
         "yaxis": "y3"
        },
        {
         "marker": {
          "color": "DarkGreen"
         },
         "mode": "lines",
         "name": "Net Worth",
         "type": "scatter",
         "uid": "425ac698-5938-4ce2-abd8-e4fb972b4a58",
         "xaxis": "x4",
         "y": [
          97409.9,
          97390,
          97284.9,
          97040.76885322719,
          97996.59851223898,
          97604.79347959999,
          97604.79347959999,
          97596.38986190829,
          94961.1463192617,
          94963.1,
          95103.835840437,
          95220.3276902422,
          95002.9723826695,
          95322.547606348,
          94842.356855743,
          94623.56649535241,
          94267.23184179999,
          94432.7044705717,
          94222.1932610536,
          92791.11443557241,
          90662.2687745569,
          90950.51999999999,
          91641.88035361779,
          91541.879614124,
          91746.78090662799,
          91682.0810963319,
          91398.0032717788,
          91798.56302674451,
          93220.39982168529,
          93241.22402913,
          93153.0273858348,
          91091.8762864019,
          91593.10493725,
          92270.17007769799,
          92132.084424054,
          92399.346979494,
          92204.35667342089,
          91901.7931887832,
          92452.5767717858,
          92382.08627278851,
          92174.9577923225,
          92947.1238587479,
          93077.525713923,
          93264.60950273101,
          93192.44861276221,
          93171.29032712319,
          92592.7782539937,
          93137.65978889701,
          92920.0635250096,
          91842.549988994,
          92176.628183294,
          92335.5380443827,
          92516.1629881009,
          92416.050889209,
          92088.3201806007,
          92439.2136440138,
          92634.2039500869,
          92499.45907838589,
          92165.82632167831,
          91957.13880963891,
          90936.08448846,
          91051.1187466973,
          91322.50159986701,
          90818.15488587209,
          89978.3936648,
          89833.9605254643,
          88620.6998831648,
          88800.7680298925,
          89070.814570285,
          88998.3196021219,
          89340.304313687,
          89566.0298136357,
          88705.2216663227,
          90078.0603260995,
          90448.2189653839,
          90290.0886200819,
          90621.2714700313,
          90368.15155815,
          90279.06403967,
          90138.751198064,
          89978.50502419811,
          90391.4256723529,
          90501.67147647189,
          90323.05100191949,
          91486.08855567589,
          91664.5976708302,
          91761.59170657529,
          91704.46433535,
          91536.311644219,
          91858.91982051471,
          91465.041629435,
          91325.7310224119,
          91314.706442,
          91730.07699691299,
          91627.9604288553,
          91769.3868644423,
          91480.63194516899,
          90981.4077634867,
          91647.33696412471,
          91380.07440868471,
          91900.0114384136,
          93152.13651065,
          92970.0638947565,
          92472.73282284189,
          92545.00507220879,
          92539.6598211,
          92315.4933527247,
          92483.8687626519,
          92443.3339417435,
          92574.4039533072,
          91760.9235501867,
          91314.5950826019,
          91615.15409807379,
          91662.14776407201,
          91302.34554881089,
          91491.2110879885,
          92205.47026740189,
          91928.0740067348,
          92098.676604624,
          91807.3604191944,
          91750.34440736721,
          92062.3734408434,
          92230.8602101687,
          92992.00169618221,
          92835.875820046,
          92839.3279613871,
          92553.13430827009,
          92562.9339353029,
          92931.53354301391,
          93287.994976332,
          94445.13048198911,
          94768.73000000001,
          94830.97363908,
          94748.20320786162,
          95205.218789965,
          94802.7672968971,
          94394.25312726971,
          94764.0763973992,
          94439.0067033271,
          94193.5234179088,
          94478.2487552395,
          94497.31862878121,
          94681.07284377552,
          94545.3791193256,
          95123.64823261902,
          94827.3486945838,
          94671.81348321191,
          94291.62854768982,
          94302.21067404821,
          94198.0428677077,
          94558.60677727361,
          94454.7696623818,
          93536.21904837611,
          93561.90275089181,
          93468.64776235839,
          93272.2170418306,
          92906.91322150001,
          93160.55356265292,
          93599.160654112,
          93299.0030491753,
          93552.09223791372,
          93367.23571809041,
          93098.27333981442,
          92137.9453727896,
          92332.7226360739,
          92730.43421837711,
          92193.61176665411,
          92135.2998412,
          92543.37308889581,
          92577.98546052641,
          92310.566309011,
          91754.6739837463,
          91969.7336558842,
          91253.45597800001,
          90922.76452930001,
          91367.69,
          91506.09885351949,
          91513.19655646398,
          91431.46425194439,
          91152.01026735379,
          91371.98252089239,
          91019.4981887324,
          90053.9114213216,
          89796.9283129062,
          88560.3692151474,
          88773.5120847504,
          88390.956433003,
          87854.0787345818,
          87793.44656807499,
          88498.44898560001,
          87837.41414400001,
          88079.6834134464,
          88311.9269877952,
          87356.7316416832,
          87255.718180493,
          87288.71734344959,
          87228.166449312,
          87252.1480758432,
          87930.57852413759,
          87813.16621686719,
          87661.13789664
         ],
         "yaxis": "y4"
        }
       ],
       "layout": {
        "annotations": [
         {
          "arrowcolor": "DarkGreen",
          "arrowhead": 2,
          "arrowsize": 0.8,
          "arrowwidth": 4,
          "ax": 0,
          "ay": 15,
          "hoverlabel": {
           "bgcolor": "DarkGreen"
          },
          "hovertext": "Step 11 [2018-05-15 16:00:00]<br>BUY 0.23941593 BTC @ 8535.23 USD MARKET<br>Total: 2043.47 USD - Comm.: 6.15 USD",
          "opacity": 0.6,
          "showarrow": true,
          "x": 10,
          "xref": "x",
          "y": 8535.23,
          "yref": "y"
         },
         {
          "arrowcolor": "DarkGreen",
          "arrowhead": 2,
          "arrowsize": 0.8,
          "arrowwidth": 4,
          "ax": 0,
          "ay": 15,
          "hoverlabel": {
           "bgcolor": "DarkGreen"
          },
          "hovertext": "Step 10 [2018-05-15 15:00:00]<br>BUY 0.7994519 BTC @ 8520.3 USD MARKET<br>Total: 6811.57 USD - Comm.: 20.50 USD",
          "opacity": 0.6,
          "showarrow": true,
          "x": 9,
          "xref": "x",
          "y": 8520.3,
          "yref": "y"
         },
         {
          "arrowcolor": "FireBrick",
          "arrowhead": 2,
          "arrowsize": 0.8,
          "arrowwidth": 4,
          "ax": 0,
          "ay": -15,
          "hoverlabel": {
           "bgcolor": "FireBrick"
          },
          "hovertext": "Step 9 [2018-05-15 14:00:00]<br>SELL 0.91104784 BTC @ 8517.77 USD MARKET<br>Total: 7760.1 USD - Comm.: 0.00274137 BTC",
          "opacity": 0.6,
          "showarrow": true,
          "x": 8,
          "xref": "x",
          "y": 8517.77,
          "yref": "y"
         },
         {
          "arrowcolor": "DarkGreen",
          "arrowhead": 2,
          "arrowsize": 0.8,
          "arrowwidth": 4,
          "ax": 0,
          "ay": 15,
          "hoverlabel": {
           "bgcolor": "DarkGreen"
          },
          "hovertext": "Step 3 [2018-05-15 08:00:00]<br>BUY 0.91378921 BTC @ 8728.49 USD MARKET<br>Total: 7976.0 USD - Comm.: 24.00 USD",
          "opacity": 0.6,
          "showarrow": true,
          "x": 2,
          "xref": "x",
          "y": 8728.49,
          "yref": "y"
         },
         {
          "arrowcolor": "DarkGreen",
          "arrowhead": 2,
          "arrowsize": 0.8,
          "arrowwidth": 4,
          "ax": 0,
          "ay": 15,
          "hoverlabel": {
           "bgcolor": "DarkGreen"
          },
          "hovertext": "Step 22 [2018-05-16 03:00:00]<br>BUY 1.13593981 BTC @ 8164.79 USD MARKET<br>Total: 9274.71 USD - Comm.: 27.91 USD",
          "opacity": 0.6,
          "showarrow": true,
          "x": 21,
          "xref": "x",
          "y": 8164.79,
          "yref": "y"
         },
         {
          "arrowcolor": "FireBrick",
          "arrowhead": 2,
          "arrowsize": 0.8,
          "arrowwidth": 4,
          "ax": 0,
          "ay": -15,
          "hoverlabel": {
           "bgcolor": "FireBrick"
          },
          "hovertext": "Step 21 [2018-05-16 02:00:00]<br>SELL 0.23869768 BTC @ 8133.43 USD MARKET<br>Total: 1941.43 USD - Comm.: 0.00071825 BTC",
          "opacity": 0.6,
          "showarrow": true,
          "x": 20,
          "xref": "x",
          "y": 8133.43,
          "yref": "y"
         },
         {
          "arrowcolor": "FireBrick",
          "arrowhead": 2,
          "arrowsize": 0.8,
          "arrowwidth": 4,
          "ax": 0,
          "ay": -15,
          "hoverlabel": {
           "bgcolor": "FireBrick"
          },
          "hovertext": "Step 21 [2018-05-16 02:00:00]<br>SELL 0.79705354 BTC @ 8133.43 USD MARKET<br>Total: 6482.78 USD - Comm.: 0.00239836 BTC",
          "opacity": 0.6,
          "showarrow": true,
          "x": 20,
          "xref": "x",
          "y": 8133.43,
          "yref": "y"
         },
         {
          "arrowcolor": "DarkGreen",
          "arrowhead": 2,
          "arrowsize": 0.8,
          "arrowwidth": 4,
          "ax": 0,
          "ay": 15,
          "hoverlabel": {
           "bgcolor": "DarkGreen"
          },
          "hovertext": "Step 133 [2018-05-20 18:00:00]<br>BUY 0.23592562 BTC @ 8524.0 USD MARKET<br>Total: 2011.03 USD - Comm.: 6.05 USD",
          "opacity": 0.6,
          "showarrow": true,
          "x": 132,
          "xref": "x",
          "y": 8524,
          "yref": "y"
         },
         {
          "arrowcolor": "DarkGreen",
          "arrowhead": 2,
          "arrowsize": 0.8,
          "arrowwidth": 4,
          "ax": 0,
          "ay": 15,
          "hoverlabel": {
           "bgcolor": "DarkGreen"
          },
          "hovertext": "Step 132 [2018-05-20 17:00:00]<br>BUY 0.78712267 BTC @ 8516.36 USD MARKET<br>Total: 6703.42 USD - Comm.: 20.17 USD",
          "opacity": 0.6,
          "showarrow": true,
          "x": 131,
          "xref": "x",
          "y": 8516.36,
          "yref": "y"
         },
         {
          "arrowcolor": "FireBrick",
          "arrowhead": 2,
          "arrowsize": 0.8,
          "arrowwidth": 4,
          "ax": 0,
          "ay": -15,
          "hoverlabel": {
           "bgcolor": "FireBrick"
          },
          "hovertext": "Step 131 [2018-05-20 16:00:00]<br>SELL 1.13253199 BTC @ 8481.11 USD MARKET<br>Total: 9605.13 USD - Comm.: 0.00340782 BTC",
          "opacity": 0.6,
          "showarrow": true,
          "x": 130,
          "xref": "x",
          "y": 8481.11,
          "yref": "y"
         },
         {
          "arrowcolor": "DarkGreen",
          "arrowhead": 2,
          "arrowsize": 0.8,
          "arrowwidth": 4,
          "ax": 0,
          "ay": 15,
          "hoverlabel": {
           "bgcolor": "DarkGreen"
          },
          "hovertext": "Step 177 [2018-05-22 14:00:00]<br>BUY 0.23394273 BTC @ 8231.63 USD MARKET<br>Total: 1925.73 USD - Comm.: 5.79 USD",
          "opacity": 0.6,
          "showarrow": true,
          "x": 176,
          "xref": "x",
          "y": 8231.63,
          "yref": "y"
         },
         {
          "arrowcolor": "DarkGreen",
          "arrowhead": 2,
          "arrowsize": 0.8,
          "arrowwidth": 4,
          "ax": 0,
          "ay": 15,
          "hoverlabel": {
           "bgcolor": "DarkGreen"
          },
          "hovertext": "Step 176 [2018-05-22 13:00:00]<br>BUY 0.78119265 BTC @ 8217.0 USD MARKET<br>Total: 6419.06 USD - Comm.: 19.32 USD",
          "opacity": 0.6,
          "showarrow": true,
          "x": 175,
          "xref": "x",
          "y": 8217,
          "yref": "y"
         },
         {
          "arrowcolor": "FireBrick",
          "arrowhead": 2,
          "arrowsize": 0.8,
          "arrowwidth": 4,
          "ax": 0,
          "ay": -15,
          "hoverlabel": {
           "bgcolor": "FireBrick"
          },
          "hovertext": "Step 175 [2018-05-22 12:00:00]<br>SELL 0.23521784 BTC @ 8170.0 USD MARKET<br>Total: 1921.73 USD - Comm.: 0.00070778 BTC",
          "opacity": 0.6,
          "showarrow": true,
          "x": 174,
          "xref": "x",
          "y": 8170,
          "yref": "y"
         },
         {
          "arrowcolor": "FireBrick",
          "arrowhead": 2,
          "arrowsize": 0.8,
          "arrowwidth": 4,
          "ax": 0,
          "ay": -15,
          "hoverlabel": {
           "bgcolor": "FireBrick"
          },
          "hovertext": "Step 175 [2018-05-22 12:00:00]<br>SELL 0.7847613 BTC @ 8170.0 USD MARKET<br>Total: 6411.5 USD - Comm.: 0.00236137 BTC",
          "opacity": 0.6,
          "showarrow": true,
          "x": 174,
          "xref": "x",
          "y": 8170,
          "yref": "y"
         },
         {
          "arrowcolor": "DarkGreen",
          "arrowhead": 2,
          "arrowsize": 0.8,
          "arrowwidth": 4,
          "ax": 0,
          "ay": 15,
          "hoverlabel": {
           "bgcolor": "DarkGreen"
          },
          "hovertext": "Step 195 [2018-05-23 08:00:00]<br>BUY 0.61536001 BTC @ 7848.3 USD MARKET<br>Total: 4829.53 USD - Comm.: 14.53 USD",
          "opacity": 0.6,
          "showarrow": true,
          "x": 194,
          "xref": "x",
          "y": 7848.3,
          "yref": "y"
         },
         {
          "arrowcolor": "FireBrick",
          "arrowhead": 2,
          "arrowsize": 0.8,
          "arrowwidth": 4,
          "ax": 0,
          "ay": -15,
          "hoverlabel": {
           "bgcolor": "FireBrick"
          },
          "hovertext": "Step 194 [2018-05-23 07:00:00]<br>SELL 0.77884907 BTC @ 7856.37 USD MARKET<br>Total: 6118.93 USD - Comm.: 0.00234358 BTC",
          "opacity": 0.6,
          "showarrow": true,
          "x": 193,
          "xref": "x",
          "y": 7856.37,
          "yref": "y"
         },
         {
          "arrowcolor": "DarkGreen",
          "arrowhead": 2,
          "arrowsize": 0.8,
          "arrowwidth": 4,
          "ax": 0,
          "ay": 15,
          "hoverlabel": {
           "bgcolor": "DarkGreen"
          },
          "hovertext": "Step 189 [2018-05-23 02:00:00]<br>BUY 0.23605471 BTC @ 7895.5 USD MARKET<br>Total: 1863.77 USD - Comm.: 5.61 USD",
          "opacity": 0.6,
          "showarrow": true,
          "x": 188,
          "xref": "x",
          "y": 7895.5,
          "yref": "y"
         },
         {
          "arrowcolor": "FireBrick",
          "arrowhead": 2,
          "arrowsize": 0.8,
          "arrowwidth": 4,
          "ax": 0,
          "ay": -15,
          "hoverlabel": {
           "bgcolor": "FireBrick"
          },
          "hovertext": "Step 188 [2018-05-23 01:00:00]<br>SELL 0.2332409 BTC @ 7900.61 USD MARKET<br>Total: 1842.75 USD - Comm.: 0.00070183 BTC",
          "opacity": 0.6,
          "showarrow": true,
          "x": 187,
          "xref": "x",
          "y": 7900.61,
          "yref": "y"
         }
        ],
        "margin": {
         "t": 50
        },
        "template": {
         "data": {
          "bar": [
           {
            "error_x": {
             "color": "#2a3f5f"
            },
            "error_y": {
             "color": "#2a3f5f"
            },
            "marker": {
             "line": {
              "color": "white",
              "width": 0.5
             },
             "pattern": {
              "fillmode": "overlay",
              "size": 10,
              "solidity": 0.2
             }
            },
            "type": "bar"
           }
          ],
          "barpolar": [
           {
            "marker": {
             "line": {
              "color": "white",
              "width": 0.5
             },
             "pattern": {
              "fillmode": "overlay",
              "size": 10,
              "solidity": 0.2
             }
            },
            "type": "barpolar"
           }
          ],
          "carpet": [
           {
            "aaxis": {
             "endlinecolor": "#2a3f5f",
             "gridcolor": "#C8D4E3",
             "linecolor": "#C8D4E3",
             "minorgridcolor": "#C8D4E3",
             "startlinecolor": "#2a3f5f"
            },
            "baxis": {
             "endlinecolor": "#2a3f5f",
             "gridcolor": "#C8D4E3",
             "linecolor": "#C8D4E3",
             "minorgridcolor": "#C8D4E3",
             "startlinecolor": "#2a3f5f"
            },
            "type": "carpet"
           }
          ],
          "choropleth": [
           {
            "colorbar": {
             "outlinewidth": 0,
             "ticks": ""
            },
            "type": "choropleth"
           }
          ],
          "contour": [
           {
            "colorbar": {
             "outlinewidth": 0,
             "ticks": ""
            },
            "colorscale": [
             [
              0,
              "#0d0887"
             ],
             [
              0.1111111111111111,
              "#46039f"
             ],
             [
              0.2222222222222222,
              "#7201a8"
             ],
             [
              0.3333333333333333,
              "#9c179e"
             ],
             [
              0.4444444444444444,
              "#bd3786"
             ],
             [
              0.5555555555555556,
              "#d8576b"
             ],
             [
              0.6666666666666666,
              "#ed7953"
             ],
             [
              0.7777777777777778,
              "#fb9f3a"
             ],
             [
              0.8888888888888888,
              "#fdca26"
             ],
             [
              1,
              "#f0f921"
             ]
            ],
            "type": "contour"
           }
          ],
          "contourcarpet": [
           {
            "colorbar": {
             "outlinewidth": 0,
             "ticks": ""
            },
            "type": "contourcarpet"
           }
          ],
          "heatmap": [
           {
            "colorbar": {
             "outlinewidth": 0,
             "ticks": ""
            },
            "colorscale": [
             [
              0,
              "#0d0887"
             ],
             [
              0.1111111111111111,
              "#46039f"
             ],
             [
              0.2222222222222222,
              "#7201a8"
             ],
             [
              0.3333333333333333,
              "#9c179e"
             ],
             [
              0.4444444444444444,
              "#bd3786"
             ],
             [
              0.5555555555555556,
              "#d8576b"
             ],
             [
              0.6666666666666666,
              "#ed7953"
             ],
             [
              0.7777777777777778,
              "#fb9f3a"
             ],
             [
              0.8888888888888888,
              "#fdca26"
             ],
             [
              1,
              "#f0f921"
             ]
            ],
            "type": "heatmap"
           }
          ],
          "heatmapgl": [
           {
            "colorbar": {
             "outlinewidth": 0,
             "ticks": ""
            },
            "colorscale": [
             [
              0,
              "#0d0887"
             ],
             [
              0.1111111111111111,
              "#46039f"
             ],
             [
              0.2222222222222222,
              "#7201a8"
             ],
             [
              0.3333333333333333,
              "#9c179e"
             ],
             [
              0.4444444444444444,
              "#bd3786"
             ],
             [
              0.5555555555555556,
              "#d8576b"
             ],
             [
              0.6666666666666666,
              "#ed7953"
             ],
             [
              0.7777777777777778,
              "#fb9f3a"
             ],
             [
              0.8888888888888888,
              "#fdca26"
             ],
             [
              1,
              "#f0f921"
             ]
            ],
            "type": "heatmapgl"
           }
          ],
          "histogram": [
           {
            "marker": {
             "pattern": {
              "fillmode": "overlay",
              "size": 10,
              "solidity": 0.2
             }
            },
            "type": "histogram"
           }
          ],
          "histogram2d": [
           {
            "colorbar": {
             "outlinewidth": 0,
             "ticks": ""
            },
            "colorscale": [
             [
              0,
              "#0d0887"
             ],
             [
              0.1111111111111111,
              "#46039f"
             ],
             [
              0.2222222222222222,
              "#7201a8"
             ],
             [
              0.3333333333333333,
              "#9c179e"
             ],
             [
              0.4444444444444444,
              "#bd3786"
             ],
             [
              0.5555555555555556,
              "#d8576b"
             ],
             [
              0.6666666666666666,
              "#ed7953"
             ],
             [
              0.7777777777777778,
              "#fb9f3a"
             ],
             [
              0.8888888888888888,
              "#fdca26"
             ],
             [
              1,
              "#f0f921"
             ]
            ],
            "type": "histogram2d"
           }
          ],
          "histogram2dcontour": [
           {
            "colorbar": {
             "outlinewidth": 0,
             "ticks": ""
            },
            "colorscale": [
             [
              0,
              "#0d0887"
             ],
             [
              0.1111111111111111,
              "#46039f"
             ],
             [
              0.2222222222222222,
              "#7201a8"
             ],
             [
              0.3333333333333333,
              "#9c179e"
             ],
             [
              0.4444444444444444,
              "#bd3786"
             ],
             [
              0.5555555555555556,
              "#d8576b"
             ],
             [
              0.6666666666666666,
              "#ed7953"
             ],
             [
              0.7777777777777778,
              "#fb9f3a"
             ],
             [
              0.8888888888888888,
              "#fdca26"
             ],
             [
              1,
              "#f0f921"
             ]
            ],
            "type": "histogram2dcontour"
           }
          ],
          "mesh3d": [
           {
            "colorbar": {
             "outlinewidth": 0,
             "ticks": ""
            },
            "type": "mesh3d"
           }
          ],
          "parcoords": [
           {
            "line": {
             "colorbar": {
              "outlinewidth": 0,
              "ticks": ""
             }
            },
            "type": "parcoords"
           }
          ],
          "pie": [
           {
            "automargin": true,
            "type": "pie"
           }
          ],
          "scatter": [
           {
            "marker": {
             "colorbar": {
              "outlinewidth": 0,
              "ticks": ""
             }
            },
            "type": "scatter"
           }
          ],
          "scatter3d": [
           {
            "line": {
             "colorbar": {
              "outlinewidth": 0,
              "ticks": ""
             }
            },
            "marker": {
             "colorbar": {
              "outlinewidth": 0,
              "ticks": ""
             }
            },
            "type": "scatter3d"
           }
          ],
          "scattercarpet": [
           {
            "marker": {
             "colorbar": {
              "outlinewidth": 0,
              "ticks": ""
             }
            },
            "type": "scattercarpet"
           }
          ],
          "scattergeo": [
           {
            "marker": {
             "colorbar": {
              "outlinewidth": 0,
              "ticks": ""
             }
            },
            "type": "scattergeo"
           }
          ],
          "scattergl": [
           {
            "marker": {
             "colorbar": {
              "outlinewidth": 0,
              "ticks": ""
             }
            },
            "type": "scattergl"
           }
          ],
          "scattermapbox": [
           {
            "marker": {
             "colorbar": {
              "outlinewidth": 0,
              "ticks": ""
             }
            },
            "type": "scattermapbox"
           }
          ],
          "scatterpolar": [
           {
            "marker": {
             "colorbar": {
              "outlinewidth": 0,
              "ticks": ""
             }
            },
            "type": "scatterpolar"
           }
          ],
          "scatterpolargl": [
           {
            "marker": {
             "colorbar": {
              "outlinewidth": 0,
              "ticks": ""
             }
            },
            "type": "scatterpolargl"
           }
          ],
          "scatterternary": [
           {
            "marker": {
             "colorbar": {
              "outlinewidth": 0,
              "ticks": ""
             }
            },
            "type": "scatterternary"
           }
          ],
          "surface": [
           {
            "colorbar": {
             "outlinewidth": 0,
             "ticks": ""
            },
            "colorscale": [
             [
              0,
              "#0d0887"
             ],
             [
              0.1111111111111111,
              "#46039f"
             ],
             [
              0.2222222222222222,
              "#7201a8"
             ],
             [
              0.3333333333333333,
              "#9c179e"
             ],
             [
              0.4444444444444444,
              "#bd3786"
             ],
             [
              0.5555555555555556,
              "#d8576b"
             ],
             [
              0.6666666666666666,
              "#ed7953"
             ],
             [
              0.7777777777777778,
              "#fb9f3a"
             ],
             [
              0.8888888888888888,
              "#fdca26"
             ],
             [
              1,
              "#f0f921"
             ]
            ],
            "type": "surface"
           }
          ],
          "table": [
           {
            "cells": {
             "fill": {
              "color": "#EBF0F8"
             },
             "line": {
              "color": "white"
             }
            },
            "header": {
             "fill": {
              "color": "#C8D4E3"
             },
             "line": {
              "color": "white"
             }
            },
            "type": "table"
           }
          ]
         },
         "layout": {
          "annotationdefaults": {
           "arrowcolor": "#2a3f5f",
           "arrowhead": 0,
           "arrowwidth": 1
          },
          "autotypenumbers": "strict",
          "coloraxis": {
           "colorbar": {
            "outlinewidth": 0,
            "ticks": ""
           }
          },
          "colorscale": {
           "diverging": [
            [
             0,
             "#8e0152"
            ],
            [
             0.1,
             "#c51b7d"
            ],
            [
             0.2,
             "#de77ae"
            ],
            [
             0.3,
             "#f1b6da"
            ],
            [
             0.4,
             "#fde0ef"
            ],
            [
             0.5,
             "#f7f7f7"
            ],
            [
             0.6,
             "#e6f5d0"
            ],
            [
             0.7,
             "#b8e186"
            ],
            [
             0.8,
             "#7fbc41"
            ],
            [
             0.9,
             "#4d9221"
            ],
            [
             1,
             "#276419"
            ]
           ],
           "sequential": [
            [
             0,
             "#0d0887"
            ],
            [
             0.1111111111111111,
             "#46039f"
            ],
            [
             0.2222222222222222,
             "#7201a8"
            ],
            [
             0.3333333333333333,
             "#9c179e"
            ],
            [
             0.4444444444444444,
             "#bd3786"
            ],
            [
             0.5555555555555556,
             "#d8576b"
            ],
            [
             0.6666666666666666,
             "#ed7953"
            ],
            [
             0.7777777777777778,
             "#fb9f3a"
            ],
            [
             0.8888888888888888,
             "#fdca26"
            ],
            [
             1,
             "#f0f921"
            ]
           ],
           "sequentialminus": [
            [
             0,
             "#0d0887"
            ],
            [
             0.1111111111111111,
             "#46039f"
            ],
            [
             0.2222222222222222,
             "#7201a8"
            ],
            [
             0.3333333333333333,
             "#9c179e"
            ],
            [
             0.4444444444444444,
             "#bd3786"
            ],
            [
             0.5555555555555556,
             "#d8576b"
            ],
            [
             0.6666666666666666,
             "#ed7953"
            ],
            [
             0.7777777777777778,
             "#fb9f3a"
            ],
            [
             0.8888888888888888,
             "#fdca26"
            ],
            [
             1,
             "#f0f921"
            ]
           ]
          },
          "colorway": [
           "#636efa",
           "#EF553B",
           "#00cc96",
           "#ab63fa",
           "#FFA15A",
           "#19d3f3",
           "#FF6692",
           "#B6E880",
           "#FF97FF",
           "#FECB52"
          ],
          "font": {
           "color": "#2a3f5f"
          },
          "geo": {
           "bgcolor": "white",
           "lakecolor": "white",
           "landcolor": "white",
           "showlakes": true,
           "showland": true,
           "subunitcolor": "#C8D4E3"
          },
          "hoverlabel": {
           "align": "left"
          },
          "hovermode": "closest",
          "mapbox": {
           "style": "light"
          },
          "paper_bgcolor": "white",
          "plot_bgcolor": "white",
          "polar": {
           "angularaxis": {
            "gridcolor": "#EBF0F8",
            "linecolor": "#EBF0F8",
            "ticks": ""
           },
           "bgcolor": "white",
           "radialaxis": {
            "gridcolor": "#EBF0F8",
            "linecolor": "#EBF0F8",
            "ticks": ""
           }
          },
          "scene": {
           "xaxis": {
            "backgroundcolor": "white",
            "gridcolor": "#DFE8F3",
            "gridwidth": 2,
            "linecolor": "#EBF0F8",
            "showbackground": true,
            "ticks": "",
            "zerolinecolor": "#EBF0F8"
           },
           "yaxis": {
            "backgroundcolor": "white",
            "gridcolor": "#DFE8F3",
            "gridwidth": 2,
            "linecolor": "#EBF0F8",
            "showbackground": true,
            "ticks": "",
            "zerolinecolor": "#EBF0F8"
           },
           "zaxis": {
            "backgroundcolor": "white",
            "gridcolor": "#DFE8F3",
            "gridwidth": 2,
            "linecolor": "#EBF0F8",
            "showbackground": true,
            "ticks": "",
            "zerolinecolor": "#EBF0F8"
           }
          },
          "shapedefaults": {
           "line": {
            "color": "#2a3f5f"
           }
          },
          "ternary": {
           "aaxis": {
            "gridcolor": "#DFE8F3",
            "linecolor": "#A2B1C6",
            "ticks": ""
           },
           "baxis": {
            "gridcolor": "#DFE8F3",
            "linecolor": "#A2B1C6",
            "ticks": ""
           },
           "bgcolor": "white",
           "caxis": {
            "gridcolor": "#DFE8F3",
            "linecolor": "#A2B1C6",
            "ticks": ""
           }
          },
          "title": {
           "x": 0.05
          },
          "xaxis": {
           "automargin": true,
           "gridcolor": "#EBF0F8",
           "linecolor": "#EBF0F8",
           "ticks": "",
           "title": {
            "standoff": 15
           },
           "zerolinecolor": "#EBF0F8",
           "zerolinewidth": 2
          },
          "yaxis": {
           "automargin": true,
           "gridcolor": "#EBF0F8",
           "linecolor": "#EBF0F8",
           "ticks": "",
           "title": {
            "standoff": 15
           },
           "zerolinecolor": "#EBF0F8",
           "zerolinewidth": 2
          }
         }
        },
        "title": {
         "text": "[2022-04-10 00:18:59] Episode: 2/2 Step: 201/200"
        },
        "xaxis": {
         "anchor": "y",
         "domain": [
          0,
          1
         ],
         "gridcolor": "Gainsboro",
         "linecolor": "Grey",
         "matches": "x4",
         "rangeslider": {
          "visible": false
         },
         "showticklabels": false,
         "title": {
          "font": {
           "size": 12
          },
          "standoff": 7,
          "text": "Price"
         }
        },
        "xaxis2": {
         "anchor": "y2",
         "domain": [
          0,
          1
         ],
         "gridcolor": "Gainsboro",
         "linecolor": "Grey",
         "matches": "x4",
         "showticklabels": false,
         "title": {
          "font": {
           "size": 12
          },
          "standoff": 7,
          "text": "Volume"
         }
        },
        "xaxis3": {
         "anchor": "y3",
         "domain": [
          0,
          1
         ],
         "gridcolor": "Gainsboro",
         "linecolor": "Grey",
         "matches": "x4",
         "showticklabels": false,
         "title": {
          "font": {
           "size": 12
          },
          "standoff": 7,
          "text": "Performance"
         }
        },
        "xaxis4": {
         "anchor": "y4",
         "domain": [
          0,
          1
         ],
         "gridcolor": "Gainsboro",
         "linecolor": "Grey",
         "title": {
          "font": {
           "size": 12
          },
          "standoff": 7,
          "text": "Net Worth"
         }
        },
        "yaxis": {
         "anchor": "x",
         "domain": [
          0.49950000000000006,
          1
         ],
         "gridcolor": "Gainsboro",
         "linecolor": "Grey"
        },
        "yaxis2": {
         "anchor": "x2",
         "domain": [
          0.333,
          0.46950000000000003
         ],
         "gridcolor": "Gainsboro",
         "linecolor": "Grey"
        },
        "yaxis3": {
         "anchor": "x3",
         "domain": [
          0.1665,
          0.30300000000000005
         ],
         "gridcolor": "Gainsboro",
         "linecolor": "Grey"
        },
        "yaxis4": {
         "anchor": "x4",
         "domain": [
          0,
          0.1365
         ],
         "gridcolor": "Gainsboro",
         "linecolor": "Grey"
        }
       }
      }
     },
     "metadata": {},
     "output_type": "display_data"
    },
    {
     "name": "stdout",
     "output_type": "stream",
     "text": [
      "WARNING:tensorflow:Compiled the loaded model, but the compiled metrics have yet to be built. `model.compile_metrics` will be empty until you train or evaluate the model.\n"
     ]
    },
    {
     "name": "stderr",
     "output_type": "stream",
     "text": [
      "WARNING:tensorflow:Compiled the loaded model, but the compiled metrics have yet to be built. `model.compile_metrics` will be empty until you train or evaluate the model.\n"
     ]
    },
    {
     "data": {
      "text/plain": [
       "-1310236.248805885"
      ]
     },
     "execution_count": 39,
     "metadata": {},
     "output_type": "execute_result"
    }
   ],
   "source": [
    "# Treinando um  DQN trading agent\n",
    "agent = DQNAgent(env)\n",
    "\n",
    "agent.train(n_steps=200, n_episodes=2, save_path=\"agents/\")"
   ]
  },
  {
   "cell_type": "markdown",
   "metadata": {},
   "source": [
    "<p align=\"justify\">Estes gráficos nos dão uma visão geral das operações de mercado do nosso <i>Tranding bot</i>. O primeiro <i>subplot</i> nos mostra os movimentos de subida e descida dos preços. Depois, a segunda subparcela apresenta os volumes de <i>stock</i> na carteira, e no <i>subplot</i> mais inferior, pode ver o património líquido da carteira.</p>\n",
    "<p align=\"justify\">Se quisermos ver o património líquido ao longo do tempo (não apenas o primeiro instantâneo como acima) basta plotar:</p>"
   ]
  },
  {
   "cell_type": "code",
   "execution_count": 40,
   "metadata": {},
   "outputs": [
    {
     "data": {
      "image/png": "[encoded data removed]",
      "text/plain": [
       "<Figure size 1008x576 with 1 Axes>"
      ]
     },
     "metadata": {},
     "output_type": "display_data"
    }
   ],
   "source": [
    "performance = pd.DataFrame.from_dict(env.action_scheme.portfolio.performance, orient='index')\n",
    "performance.plot(figsize=(14,8))\n",
    "plt.show()"
   ]
  },
  {
   "cell_type": "code",
   "execution_count": 41,
   "metadata": {},
   "outputs": [
    {
     "data": {
      "image/png": "[encoded data removed]",
      "text/plain": [
       "<Figure size 1008x576 with 1 Axes>"
      ]
     },
     "metadata": {},
     "output_type": "display_data"
    }
   ],
   "source": [
    "performance['net_worth'].plot(figsize=(14,8))\n",
    "plt.legend()\n",
    "plt.xlabel('Index')\n",
    "plt.ylabel('Value')\n",
    "plt.show()"
   ]
  }
 ],
 "metadata": {
  "interpreter": {
   "hash": "f8bbe703e4409461e5c1796f0c401e26e62f32801f1a5b19455b89c31c613fbe"
  },
  "kernelspec": {
   "display_name": "Python 3.9.7 ('base')",
   "language": "python",
   "name": "python3"
  },
  "language_info": {
   "codemirror_mode": {
    "name": "ipython",
    "version": 3
   },
   "file_extension": ".py",
   "mimetype": "text/x-python",
   "name": "python",
   "nbconvert_exporter": "python",
   "pygments_lexer": "ipython3",
   "version": "3.9.7"
  },
  "orig_nbformat": 4
 },
 "nbformat": 4,
 "nbformat_minor": 2
}
