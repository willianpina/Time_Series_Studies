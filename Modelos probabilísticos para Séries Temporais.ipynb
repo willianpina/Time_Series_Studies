{
 "cells": [
  {
   "cell_type": "markdown",
   "metadata": {},
   "source": [
    "<h1 align='center'>Modelos Probabilísticos para Séries Temporais</h1>\n",
    "<p align='center'><img src=https://dhg1h5j42swfq.cloudfront.net/2020/10/13230005/artigo-esta.jpg></p>\n",
    "\n",
    "\n",
    "<p align='justify'>Será introduzido os modelos <i>Prophet</i> e <i>Markov</i>, além dos modelos <i>Fuzzy</i> para Séries temporais. Vamos comentar alguns aspectos sobre:</p>\n",
    "<li>Modelos probabilísticos para Séries Temporais</li>\n",
    "<li><i>Prophet</i></li>\n",
    "<li>Modelos <i>Markov</i></li>\n",
    "<li>Modelagem <i>Fuzzy</i></li>\n",
    "<li>Modelos Estuturais Baeysianos para Séries Temporais</li>"
   ]
  },
  {
   "cell_type": "markdown",
   "metadata": {},
   "source": [
    "<h3>Modelos Probabilísticos para Séries Temporais</h3>\n",
    "<p align='justify'>O Modelos Probabilísticos podem nos ajudar a tomar decisões sob incerteza e em situações em que as estimativas têm que vir com confiança, como nas previsões financeiras, isso pode ser crucial. Para previsões de vendas ou fluxo de caixa, anexar probabilidades às previsões do modelo pode facilitar\n",
    "para os gestores financeiros atuarem sobre as novas informações.</p>\n",
    "<p align='justify'>O Modelo <i>Prophet</i> veio do <i>Facebook</i> e é baseado em modelos de decomposição com parâmetros interpretaveis. O interessante é que os parâmetros podem ser ajustados pelos analistas.</p>\n",
    "<p align='justify'>Tanto o <i>Prophet</i> quanto o <i>Silverkite</i> são algoritmos que têm como objetivo séries temporais que podem ter tendências de mudança, sazonalidade e eventos recorrentes, tais como, feriados, e efeitos de longo prazo e, portanto, são adequados para muitas aplicações em Ciência de Dados, onde o foco está em tarefas como planejamento de recursos, otimização de decisões financeiras e acompanhamento do progresso para análise operacional - tarefas típicas da pesquisa operacional.</p>\n",
    "<p align='justify'>Neste contexto, podemos levar em consideração as seguintes bibliotecas, além das já citadas anteriormente:</p>\n",
    "<li><a href=https://pyfts.readthedocs.io/en/latest//><i>pyFTS</i></a></li>\n",
    "<li><a href=https://www.tensorflow.org/probability?hl=pt-br><i>TensorFlow Probability</i></a></li>\n",
    "<li><a href=https://ts.gluon.ai/><i>Gluon-TS</i></a></li>"
   ]
  },
  {
   "cell_type": "markdown",
   "metadata": {},
   "source": [
    "<h3><i>Prophet</i></h3>\n",
    "<p align=\"justify\">Os autores que criaram o algoritmo escreveram que os problemas de previsão e anomalia detecção na prática envolvem a complexidade de lidar com uma variedade de problemas de previsão no <i>Facebook</i> com partes em tendências, múltiplas sazonalidades, feriados flutuantes e na confiança construída em toda a organização nessas previsões.</p>\n",
    "<p align=\"justify\">Com esses objetivos em mente, o <i>Prophet</i> foi projetado para ser escalável para muitas séries temporais, flexível o suficiente para uma ampla gama de séries temporais relevantes para os negócios, possivelmente idiossincráticas, e ao mesmo tempo intuitivo o suficiente para ser configurado por especialistas do domínio que podem ter pouco conhecimento de métodos de séries temporais. Embora o <i>Prophet</i> seja classificado como um algoritmo complexo adequado para tarefas de predições, cabe ressaltar que não existe \"Bala de Prata\". A performance de um modelo depende do conjunto de dados e da tarefa que for ser desempenhada.</p>"
   ]
  },
  {
   "cell_type": "markdown",
   "metadata": {},
   "source": [
    "<h3><i>Modelos de Markov</i></h3>\n",
    "<p align=\"justify\">Uma cadeia de <i>Markov</i> é um modelo probabilístico que descreve uma sequência de eventos possíveis que satisfaz a propriedade de Markov.</p>\n",
    "<p align=\"justify\"><q><b>Propriedade de Markov</b>:Em uma sequência ou processo estocástico que possui a propriedade de Markov, a probabilidade de cada evento depende apenas do estado imediatamente anterior (ao invés de estados anteriores). Essas sequências ou processos também podem ser chamados de Markoviano ou Processo Markoviano.</q></p>"
   ]
  },
  {
   "cell_type": "markdown",
   "metadata": {},
   "source": [
    "<h3><i>Modelagem Difusa (Fuzzy)</i></h3>\n",
    "<p align=\"justify\">A teoria dos conjuntos difusos é uma abordagem que pode lidar com problemas relacionados a julgamentos subjetivos e imprecisos. A imprecisão é inerente à linguagem cotidiana, e foi inventada para expressar e trabalhar com isso de maneira intuitiva. A lógica difusa expressa a crença subjetiva e a imprecisão. Tem sido afirmado que a teoria da probabilidade é um subconjunto da lógica difusa.</p>"
   ]
  },
  {
   "cell_type": "markdown",
   "metadata": {},
   "source": [
    "<h3><i>Modelos Séries Temporais Estrutural Bayesianas</i></h3>\n",
    "<p align=\"justify\">Na inferência causal, queremos analisar o efeito de um tratamento. O tratamento pode ser qualquer ação que interaja com o sistema ou ambiente que nos interessa, desde alterar as cores de um botão em um site até o lançamento de um produto. Temos a opção de realizar a ação (por exemplo, liberar o produto), observando assim o resultado sob tratamento, ou não tomar a ação, onde observamos o resultado sob nenhum tratamento.</p>"
   ]
  },
  {
   "cell_type": "markdown",
   "metadata": {},
   "source": [
    "<h3><i>Aplicações dos Modelos Probabilísticos</i></h3>"
   ]
  },
  {
   "cell_type": "code",
   "execution_count": 2,
   "metadata": {},
   "outputs": [],
   "source": [
    "import pandas as pd\n",
    "import numpy as np\n",
    "from pandas_datareader.data import DataReader\n",
    "from datetime import datetime\n",
    "yahoo_data = DataReader('JPM', 'yahoo', datetime(2001,6,1),\n",
    "                        datetime(2021,6,1))\n",
    "yahoo_df = yahoo_data['Adj Close'].to_frame().reset_index('Date')"
   ]
  },
  {
   "cell_type": "code",
   "execution_count": 3,
   "metadata": {},
   "outputs": [
    {
     "data": {
      "text/plain": [
       "Date         datetime64[ns]\n",
       "Adj Close           float64\n",
       "dtype: object"
      ]
     },
     "execution_count": 3,
     "metadata": {},
     "output_type": "execute_result"
    }
   ],
   "source": [
    "yahoo_df.dtypes"
   ]
  },
  {
   "cell_type": "code",
   "execution_count": 4,
   "metadata": {
    "collapsed": false,
    "pycharm": {
     "name": "#%%\n"
    }
   },
   "outputs": [
    {
     "ename": "AttributeError",
     "evalue": "'Prophet' object has no attribute 'stan_backend'",
     "output_type": "error",
     "traceback": [
      "\u001B[1;31m---------------------------------------------------------------------------\u001B[0m",
      "\u001B[1;31mAttributeError\u001B[0m                            Traceback (most recent call last)",
      "\u001B[1;32mc:\\Users\\willi\\OneDrive\\Documentos\\4. GitHub\\Time_Series_Studies\\Modelos probabilísticos para Séries Temporais.ipynb Cell 10'\u001B[0m in \u001B[0;36m<cell line: 2>\u001B[1;34m()\u001B[0m\n\u001B[0;32m      <a href='vscode-notebook-cell:/c%3A/Users/willi/OneDrive/Documentos/4.%20GitHub/Time_Series_Studies/Modelos%20probabil%C3%ADsticos%20para%20S%C3%A9ries%20Temporais.ipynb#ch0000009?line=0'>1</a>\u001B[0m \u001B[39mfrom\u001B[39;00m \u001B[39mprophet\u001B[39;00m \u001B[39mimport\u001B[39;00m Prophet\n\u001B[1;32m----> <a href='vscode-notebook-cell:/c%3A/Users/willi/OneDrive/Documentos/4.%20GitHub/Time_Series_Studies/Modelos%20probabil%C3%ADsticos%20para%20S%C3%A9ries%20Temporais.ipynb#ch0000009?line=1'>2</a>\u001B[0m forecaster \u001B[39m=\u001B[39m Prophet()\n\u001B[0;32m      <a href='vscode-notebook-cell:/c%3A/Users/willi/OneDrive/Documentos/4.%20GitHub/Time_Series_Studies/Modelos%20probabil%C3%ADsticos%20para%20S%C3%A9ries%20Temporais.ipynb#ch0000009?line=2'>3</a>\u001B[0m forecaster\u001B[39m.\u001B[39mfit(\n\u001B[0;32m      <a href='vscode-notebook-cell:/c%3A/Users/willi/OneDrive/Documentos/4.%20GitHub/Time_Series_Studies/Modelos%20probabil%C3%ADsticos%20para%20S%C3%A9ries%20Temporais.ipynb#ch0000009?line=3'>4</a>\u001B[0m \tyahoo_df\u001B[39m.\u001B[39mrename(columns\u001B[39m=\u001B[39m{\u001B[39m\"\u001B[39m\u001B[39mDate\u001B[39m\u001B[39m\"\u001B[39m: \u001B[39m\"\u001B[39m\u001B[39mds\u001B[39m\u001B[39m\"\u001B[39m, \u001B[39m\"\u001B[39m\u001B[39mAdj Close\u001B[39m\u001B[39m\"\u001B[39m:\u001B[39m'\u001B[39m\u001B[39my\u001B[39m\u001B[39m'\u001B[39m})\n\u001B[0;32m      <a href='vscode-notebook-cell:/c%3A/Users/willi/OneDrive/Documentos/4.%20GitHub/Time_Series_Studies/Modelos%20probabil%C3%ADsticos%20para%20S%C3%A9ries%20Temporais.ipynb#ch0000009?line=4'>5</a>\u001B[0m )\n\u001B[0;32m      <a href='vscode-notebook-cell:/c%3A/Users/willi/OneDrive/Documentos/4.%20GitHub/Time_Series_Studies/Modelos%20probabil%C3%ADsticos%20para%20S%C3%A9ries%20Temporais.ipynb#ch0000009?line=6'>7</a>\u001B[0m \u001B[39m# Temos que renomear nossas colunas ds e y para manter as convenções do Prophet. Agora temos um modelo de Prophet treinado!!!\u001B[39;00m\n",
      "File \u001B[1;32m~\\anaconda3\\lib\\site-packages\\prophet\\forecaster.py:141\u001B[0m, in \u001B[0;36m__init__\u001B[1;34m(self, growth, changepoints, n_changepoints, changepoint_range, yearly_seasonality, weekly_seasonality, daily_seasonality, holidays, seasonality_mode, seasonality_prior_scale, holidays_prior_scale, changepoint_prior_scale, mcmc_samples, interval_width, uncertainty_samples, stan_backend)\u001B[0m\n",
      "File \u001B[1;32m~\\anaconda3\\lib\\site-packages\\prophet\\forecaster.py:154\u001B[0m, in \u001B[0;36m_load_stan_backend\u001B[1;34m(self, stan_backend)\u001B[0m\n",
      "\u001B[1;31mAttributeError\u001B[0m: 'Prophet' object has no attribute 'stan_backend'"
     ]
    }
   ],
   "source": [
    "from prophet import Prophet\n",
    "forecaster = Prophet()\n",
    "forecaster.fit(\n",
    "\tyahoo_df.rename(columns={\"Date\": \"ds\", \"Adj Close\":'y'})\n",
    ")\n",
    "\n",
    "# Temos que renomear nossas colunas ds e y para manter as convenções do Prophet. Agora temos um modelo de Prophet treinado!!!\n",
    "future = forecaster.make_future_dataframe(periods=90)"
   ]
  }
 ],
 "metadata": {
  "interpreter": {
   "hash": "f8bbe703e4409461e5c1796f0c401e26e62f32801f1a5b19455b89c31c613fbe"
  },
  "kernelspec": {
   "display_name": "Python 3.9.7 ('base')",
   "language": "python",
   "name": "python3"
  },
  "language_info": {
   "codemirror_mode": {
    "name": "ipython",
    "version": 3
   },
   "file_extension": ".py",
   "mimetype": "text/x-python",
   "name": "python",
   "nbconvert_exporter": "python",
   "pygments_lexer": "ipython3",
   "version": "3.9.7"
  },
  "orig_nbformat": 4
 },
 "nbformat": 4,
 "nbformat_minor": 2
}