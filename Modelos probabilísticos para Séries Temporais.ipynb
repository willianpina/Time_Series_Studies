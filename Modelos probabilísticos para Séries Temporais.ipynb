{
 "cells": [
  {
   "cell_type": "markdown",
   "metadata": {},
   "source": [
    "<h1 align='center'>Modelos Probabilísticos para Séries Temporais</h1>\n",
    "<p align='center'><img src=https://dhg1h5j42swfq.cloudfront.net/2020/10/13230005/artigo-esta.jpg></p>\n",
    "\n",
    "\n",
    "<p align='justify'>Será introduzido os modelos <i>Prophet</i> e <i>Markov</i>, além dos modelos <i>Fuzzy</i> para Séries temporais. Vamos comentar alguns aspectos sobre:</p>\n",
    "<li>Modelos probabilísticos para Séries Temporais</li>\n",
    "<li><i>Prophet</i></li>\n",
    "<li>Modelos <i>Markov</i></li>\n",
    "<li>Modelagem <i>Fuzzy</i></li>\n",
    "<li>Modelos Estuturais Baeysianos para Séries Temporais</li>"
   ]
  },
  {
   "cell_type": "markdown",
   "metadata": {},
   "source": [
    "<h3>Modelos Probabilísticos para Séries Temporais</h3>\n",
    "<p align='justify'>O Modelos Probabilísticos podem nos ajudar a tomar decisões sob incerteza e em situações em que as estimativas têm que vir com confiança, como nas previsões financeiras, isso pode ser crucial. Para previsões de vendas ou fluxo de caixa, anexar probabilidades às previsões do modelo pode facilitar\n",
    "para os gestores financeiros atuarem sobre as novas informações.</p>\n",
    "<p align='justify'>O Modelo <i>Prophet</i> veio do <i>Facebook</i> e é baseado em modelos de decomposição com parâmetros interpretaveis. O interessante é que os parâmetros podem ser ajustados pelos analistas.</p>\n",
    "<p align='justify'>Tanto o <i>Prophet</i> quanto o <i>Silverkite</i> são algoritmos que têm como objetivo séries temporais que podem ter tendências de mudança, sazonalidade e eventos recorrentes, tais como, feriados, e efeitos de longo prazo e, portanto, são adequados para muitas aplicações em Ciência de Dados, onde o foco está em tarefas como planejamento de recursos, otimização de decisões financeiras e acompanhamento do progresso para análise operacional - tarefas típicas da pesquisa operacional.</p>\n",
    "<p align='justify'>Neste contexto, podemos levar em consideração as seguintes bibliotecas, além das já citadas anteriormente:</p>\n",
    "<li><a href=https://pyfts.readthedocs.io/en/latest//><i>pyFTS</i></a></li>\n",
    "<li><a href=https://www.tensorflow.org/probability?hl=pt-br><i>TensorFlow Probability</i></a></li>\n",
    "<li><a href=https://ts.gluon.ai/><i>Gluon-TS</i></a></li>"
   ]
  },
  {
   "cell_type": "markdown",
   "metadata": {},
   "source": [
    "<h3><i>Prophet</i></h3>\n",
    "<p align=\"justify\">Os autores que criaram o algoritmo escreveram que os problemas de previsão e anomalia detecção na prática envolvem a complexidade de lidar com uma variedade de problemas de previsão no <i>Facebook</i> com partes em tendências, múltiplas sazonalidades, feriados flutuantes e na confiança construída em toda a organização nessas previsões.</p>\n",
    "<p align=\"justify\">Com esses objetivos em mente, o <i>Prophet</i> foi projetado para ser escalável para muitas séries temporais, flexível o suficiente para uma ampla gama de séries temporais relevantes para os negócios, possivelmente idiossincráticas, e ao mesmo tempo intuitivo o suficiente para ser configurado por especialistas do domínio que podem ter pouco conhecimento de métodos de séries temporais. Embora o <i>Prophet</i> seja classificado como um algoritmo complexo adequado para tarefas de predições, cabe ressaltar que não existe \"Bala de Prata\". A performance de um modelo depende do conjunto de dados e da tarefa que for ser desempenhada.</p>"
   ]
  },
  {
   "cell_type": "markdown",
   "metadata": {},
   "source": [
    "<h3><i>Modelos de Markov</i></h3>\n",
    "<p align=\"justify\">Uma cadeia de <i>Markov</i> é um modelo probabilístico que descreve uma sequência de eventos possíveis que satisfaz a propriedade de Markov.</p>\n",
    "<q><b>Propriedade de Markov</b>:Em uma sequência ou processo estocástico que possui a propriedade de Markov, a probabilidade de cada evento depende apenas do estado imediatamente anterior (ao invés de estados anteriores). Essas sequências ou processos também podem ser chamados de Markoviano ou Processo Markoviano.</q>"
   ]
  },
  {
   "cell_type": "markdown",
   "metadata": {},
   "source": [
    "<h3><i>Modelagem Fuzzy</i></h3>\n",
    "<p align=\"justify\">"
   ]
  }
 ],
 "metadata": {
  "interpreter": {
   "hash": "f8bbe703e4409461e5c1796f0c401e26e62f32801f1a5b19455b89c31c613fbe"
  },
  "kernelspec": {
   "display_name": "Python 3.9.7 ('base')",
   "language": "python",
   "name": "python3"
  },
  "language_info": {
   "name": "python",
   "version": "3.9.7"
  },
  "orig_nbformat": 4
 },
 "nbformat": 4,
 "nbformat_minor": 2
}
