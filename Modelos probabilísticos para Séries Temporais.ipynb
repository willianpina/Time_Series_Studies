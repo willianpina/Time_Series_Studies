{
 "cells": [
  {
   "cell_type": "markdown",
   "metadata": {},
   "source": [
    "<h1 align='center'>Modelos Probabilísticos para Séries Temporais</h1>\n",
    "<p align='center'><img src=https://dhg1h5j42swfq.cloudfront.net/2020/10/13230005/artigo-esta.jpg></p>\n",
    "\n",
    "\n",
    "<p align='justify'>Será introduzido os modelos <i>Prophet</i> e <i>Markov</i>, além dos modelos <i>Fuzzy</i> para Séries temporais. Vamos comentar alguns aspectos sobre:</p>\n",
    "<li>Modelos probabilísticos para Séries Temporais</li>\n",
    "<li><i>Prophet</i></li>\n",
    "<li>Modelos <i>Markov</i></li>\n",
    "<li>Modelagem <i>Fuzzy</i></li>\n",
    "<li>Modelos Estuturais Baeysianos para Séries Temporais</li>"
   ]
  }
 ],
 "metadata": {
  "interpreter": {
   "hash": "f8bbe703e4409461e5c1796f0c401e26e62f32801f1a5b19455b89c31c613fbe"
  },
  "kernelspec": {
   "display_name": "Python 3.9.7 ('base')",
   "language": "python",
   "name": "python3"
  },
  "language_info": {
   "name": "python",
   "version": "3.9.7"
  },
  "orig_nbformat": 4
 },
 "nbformat": 4,
 "nbformat_minor": 2
}
