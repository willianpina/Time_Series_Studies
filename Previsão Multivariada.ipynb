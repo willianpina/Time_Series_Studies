{
 "cells": [
  {
   "cell_type": "markdown",
   "metadata": {},
   "source": [
    "<h1 align='center'>Previsão Multivariada</h1>\n",
    "<p align='center'><img src= https://i0.wp.com/operdata.com.br/wp-content/uploads/2019/06/analise-multivariada.png?fit=1030%2C370&ssl=1></p>"
   ]
  },
  {
   "cell_type": "markdown",
   "metadata": {},
   "source": [
    "<h2>Previsão de uma Série Temporal Multivariada</h2>\n",
    "<p align=\"justify\">A previsão de séries temporais é um tópico de pesquisa ativo na academia. A previsão de tendências de longo prazo não é apenas um desafio divertido, mas tem implicações importantes para o planejamento estratégico e a pesquisa operacional em aplicativos do mundo real, como gerenciamento de operações de TI, fabricação e segurança cibernética.</p>\n",
    "<p align=\"justify\">Uma série temporal multivariada tem mais de uma variável dependente. Isso significa que cada variável dependente não depende apenas de seus próprios valores passados, mas também potencialmente dos valores passados de outras variáveis. Isso introduz a complexidade como colinearidade, onde as variáveis dependentes não são independentes, mas sim correlacionadas. A colinearidade viola as suposições de muitos modelos lineares e, portanto, é ainda mais atraente recorrer a modelos que possam capturar interações de recursos.</p>\n",
    "\n",
    "<p align=\"justify\">Mais no lado do aprendizado de máquina, um método comum para conjuntos, principalmente em <i>bagging</i>, é treinar vários modelos e ponderar suas previsões por seu desempenho. <i>Bagging</i> usa amostragem com substituição para criar amostras de treinamento para ajustar os modelos base. O erro <i>out-of-bag</i> (OOB) é o erro médio de previsão de um modelo em amostras de treinamento que não faziam parte do conjunto de treinamento. \n",
    "<p align=\"justify\">Os <i>Ensembles</i> também podem ser compostos por modelos básicos de diferentes tipos, chamados de <i>ensembles</i> heterogêneos. O <i>Scikit-learn</i> fornece empilhamento para regressão e classificação, onde um modelo final pode encontrar coeficientes, ponderados para as previsões do modelo base, para combinar as previsões do modelo base.</i>"
   ]
  },
  {
   "cell_type": "markdown",
   "metadata": {},
   "source": [
    "<h2>Aplicações</h2>"
   ]
  }
 ],
 "metadata": {
  "interpreter": {
   "hash": "f8bbe703e4409461e5c1796f0c401e26e62f32801f1a5b19455b89c31c613fbe"
  },
  "kernelspec": {
   "display_name": "Python 3.9.7 ('base')",
   "language": "python",
   "name": "python3"
  },
  "language_info": {
   "codemirror_mode": {
    "name": "ipython",
    "version": 3
   },
   "file_extension": ".py",
   "mimetype": "text/x-python",
   "name": "python",
   "nbconvert_exporter": "python",
   "pygments_lexer": "ipython3",
   "version": "3.9.5"
  },
  "orig_nbformat": 4
 },
 "nbformat": 4,
 "nbformat_minor": 2
}