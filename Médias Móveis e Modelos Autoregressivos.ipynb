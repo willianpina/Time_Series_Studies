{
 "cells": [
  {
   "cell_type": "markdown",
   "source": [
    "<h1 align=\"center\">Previsões com Médias Móveis e Modelos Autoregressivos</h1>\n",
    "<p align=\"center\"><img src=https://economia.culturamix.com/blog/wp-content/gallery/medias-moveis-para-mini-indice-2/M%C3%A9dias-M%C3%B3veis-Para-Mini-%C3%8Dndice-2.png></p>\n",
    "\n",
    "<p align=\"justify\">As Médias Móveis, Modelos Autoregressivos e os modelos derivados destes dois, tais como, ARMA, ARIMA, VAR, GAR, dentre outros, são amplamente utilizados nos estudos das Séries Temporais voltadas para a Estatística e Econometria. Embora esses modelos sejam os mais utilizados para a execução de tarefas nas Séries Temporais, muitos outros modelos surgiram e se mostraram mais competitivos ou até superando o desempenhos destes que foram apresentados, conhecidos como \"Modelos Clássicos\". A principal biblioteca para implementarmos esses modelos será a <i>statsmodels</i>.</p>"
   ],
   "metadata": {
    "collapsed": false
   }
  },
  {
   "cell_type": "markdown",
   "source": [
    "<h2>Os Modelos Clássicos</h2>\n",
    "<p align=\"justify\">Vale relembrar que muitas Séries Temporais apresentam tendências e sazonalidades, enquanto outros modelos assumem as características estácionárias. Se uma Série Temporal é estacionária, a <b>média</b> e o <b>desvio padrão</b> permanece constante ao longo do período. Dessa forma, a Série Temporal não apresenta tendência e nenhum ciclo de variabilidade.</p>\n",
    "<p align=\"justify\">A remoção de componentes irregulares (tendências e flutuações sazonais) é um aspecto intrínseco da aplicação desses modelos. Os modelos então prevêem o que sobrou após remover a sazonalidade e a tendência. A maioria das abordagens são funcionais apenas em Séries Temporais univariadas, ou seja, com um único vetor ou um único valor que se altera ao longo do tempo. Embora haja extensões propostas para Séries Temporais multivariadas, elas não são tão populares quanto para as versões univaridadas.</p>\n",
    "<p align=\"justify\">Outro aspecto importante dos modelos clássicos são lineares, o que significa que eles assumes a lineraridade nas relações entre os valores e em diferentes passos de tempo. Na prática, a maioria dos modelos funcionam bem em uma Série Temporal estacionária. Com base nisso, a aplicação de modelos está restrita as Séries Temporais que possuem a característica de estacionariedade. Os métodos estatísticos para análise e previsão de Séries Temporais não lineares não possui destaque, no entanto, existem alguns modelos, tais como o Modelo Autoregressivo de Limiar, que pode ser utilizado.</p>\n",
    "<p align=\"justify\">No mundo real, as Séries Temporais vêm de processos complicados que podem não ser lineares e não estacionário. Existem mais de uma forma de descrevê-los, cada qual com seus prós e contras. Atualemnte, modelos não lineares possuem uma linha de pesquisa diferente, ou seja, as redes neurais ou o campo mais amplo da apredizagem de máquina.</p>\n"
   ],
   "metadata": {
    "collapsed": false
   }
  },
  {
   "cell_type": "markdown",
   "source": [
    "<h2>A biblioteca <i>Statsmodels</i></h2>\n",
    "<p align='center'>\n",
    "\t<table border=\"1\">\n",
    "\t <caption>Classes mais importantes do <i>statsmodels</i></caption>\n",
    "\t<tr>\n",
    "\t<th align='center'>Classe</td>\n",
    "\t<th align='center'>Descrição</td>\n",
    "\t</tr>\n",
    "\t<tr>\n",
    "\t<td>ar_model.AutoReg</td>\n",
    "\t<td>Modelo de Autoregressão Univariada</td>\n",
    "\t</tr>\n",
    "\t<tr>\n",
    "\t<td>arima.model.ARIMA</td>\n",
    "\t<td>Autoregressive Integrated Moving Average (ARIMA)\n",
    "model</td>\n",
    "\t</tr>\n",
    "\t<tr>\n",
    "\t<td>ExponentialSmoothing</td>\n",
    "\t<td>Holt Winter's Exponential Smoothing</td>\n",
    "\t</tr>\n",
    "\t<tr>\n",
    "\t<td>SimpleExpSmoothing</td>\n",
    "\t<td>Simple Exponential Smoothing</td>\n",
    "\t</tr>\n",
    "</table></p>"
   ],
   "metadata": {
    "collapsed": false,
    "pycharm": {
     "name": "#%% md\n"
    }
   }
  }
 ],
 "metadata": {
  "kernelspec": {
   "display_name": "Python 3",
   "language": "python",
   "name": "python3"
  },
  "language_info": {
   "codemirror_mode": {
    "name": "ipython",
    "version": 2
   },
   "file_extension": ".py",
   "mimetype": "text/x-python",
   "name": "python",
   "nbconvert_exporter": "python",
   "pygments_lexer": "ipython2",
   "version": "2.7.6"
  }
 },
 "nbformat": 4,
 "nbformat_minor": 0
}