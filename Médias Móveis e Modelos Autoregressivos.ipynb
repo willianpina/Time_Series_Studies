{
 "cells": [
  {
   "cell_type": "markdown",
   "source": [
    "<h1 align=\"center\">Previsões com Médias Móveis e Modelos Autoregressivos</h1>\n",
    "<p align=\"center\"><img src=https://economia.culturamix.com/blog/wp-content/gallery/medias-moveis-para-mini-indice-2/M%C3%A9dias-M%C3%B3veis-Para-Mini-%C3%8Dndice-2.png></p>\n",
    "\n",
    "<p align=\"justify\">As Médias Móveis, Modelos Autoregressivos e os modelos derivados destes dois, tais como, ARMA, ARIMA, VAR, GAR, dentre outros, são amplamente utilizados nos estudos das Séries Temporais voltadas para a Estatística e Econometria. Embora esses modelos sejam os mais utilizados para a execução de tarefas nas Séries Temporais, muitos outros modelos surgiram e se mostraram mais competitivos ou até superando o desempenhos destes que foram apresentados, conhecidos como \"Modelos Clássicos\". A principal biblioteca para implementarmos esses modelos será a <i>statsmodels</i>.</p>"
   ],
   "metadata": {
    "collapsed": false
   }
  },
  {
   "cell_type": "markdown",
   "source": [],
   "metadata": {
    "collapsed": false
   }
  },
  {
   "cell_type": "code",
   "execution_count": null,
   "metadata": {
    "collapsed": true
   },
   "outputs": [],
   "source": []
  }
 ],
 "metadata": {
  "kernelspec": {
   "display_name": "Python 3",
   "language": "python",
   "name": "python3"
  },
  "language_info": {
   "codemirror_mode": {
    "name": "ipython",
    "version": 2
   },
   "file_extension": ".py",
   "mimetype": "text/x-python",
   "name": "python",
   "nbconvert_exporter": "python",
   "pygments_lexer": "ipython2",
   "version": "2.7.6"
  }
 },
 "nbformat": 4,
 "nbformat_minor": 0
}