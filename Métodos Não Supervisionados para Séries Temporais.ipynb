{
 "cells": [
  {
   "cell_type": "markdown",
   "metadata": {
    "collapsed": true,
    "pycharm": {
     "name": "#%% md\n"
    }
   },
   "source": [
    "<h1 align=\"center\">Métodos Não Supervisionados para as Séries Temporais</h1>\n",
    "<p align=\"center\"><img src= https://cienciaenegocios.com/wp-content/uploads/2018/09/o-que-e-machine-learning.jpg heigth=250 width=400></p>"
   ]
  },
  {
   "cell_type": "markdown",
   "source": [
    "<p align = \"justify\">O ponto central de um aprendizado não supervisionado está na extração da estruturas nas Séries Temporais mais importantes no reconhecimento de similaridades entre as subsequências. Esta é a essência da Detecção de Anomalias ou Detecção de <i>Outliers</i>, onde nos queremos identificar as sequências que notadamente são diferentes do restante da Série.</p>\n",
    "<p align=\"justify\">Uma série temporal é usualmente não estácionáriam, não linear e evolui dinamicamente. Um desafio importante de se trabalhar com Séries Temporais é reconhecer as mudanças nos processos subjacentes. Isso é conhecido como Change Point Detection (CPD) - \"Detecção de Ponto de Mudança\" ou  \"Detecção de Desvio\". É importante aprofundar neste estudo para entender essas mudanças, porque a existências de pontos de mmudança e pontos anômalos são problemas comuns com as aplicações em tempo real. </p>"
   ],
   "metadata": {
    "collapsed": false
   }
  },
  {
   "cell_type": "markdown",
   "source": [
    "<h2>Métodos Não Supervisionados para Séries Temporais</h2>\n",
    "<p align=\"justify\">A principal diferença entre uma Série Temporal e os outros tipos de dados é a dependência dos dados em relação ao eixo temporal (eixo X), uma estrutura de correlação em um ponto 1 pode ter informações para a mesma estrutura no ponto 2. As Séries Temporais geralmente tem alta dimensionalidade.</p>\n",
    "<p align=\"justify\">Para reduzir o ruído e diminuir a dimensionalidade, emprega-se a Análise das Ondas ou as Técnicas de Processamento de Sinal para realizar a filtragem e a Decomposição de Fourier. Tudo isso, geralmente, é a base para a detecção de anomalias ou CPD que são discutidas posteriomente.</p>"
   ],
   "metadata": {
    "collapsed": false
   }
  },
  {
   "cell_type": "markdown",
   "source": [
    "<h2>Detecção de Anomalias</h2>\n",
    "<p align=\"justify\">Em problemas de detecção de anomalias, nós queremos identificar sequências que são notadamente diferentes do resto das séries. Anomalias ou <i>Outlier</i> podem algumas vezes ser resultado de erros de mensuração ou ruídos, mas eles poderiam indicar mudanças de comportamento ou comportamentos aberrantes no conjunto ou sistema que está sob observação, o que nos indicaria uma ação urgente a ser tomada em alguns casos.</p>\n",
    "<p align=\"justify\">Existem alguns desafios para detectar anomalias em séries temporais, conforme a seguir:</p>\n",
    "<li>Falta de uma definição do que deve ser considerado um <i>Outlier</i></li>\n",
    "<li>Ruídos nos dados de entrada</li>\n",
    "<li>Complexidade da Série Temporal</li>\n",
    "<li>Alto desequilíbrio</li>"
   ],
   "metadata": {
    "collapsed": false
   }
  },
  {
   "cell_type": "markdown",
   "source": [
    "<p align=\"justify\">Para detecção de anomalias destaca-se as seguintes biliotecas:</p>\n",
    "\n",
    "<table border='1'>\n",
    "\t<tr>\n",
    "\t<th>Library</th>\n",
    "\t<th>Link</th>\n",
    "\t<th>Star - GitHub</th>\n",
    "\t</tr>\n",
    "\t<tr>\n",
    "\t<td>Prophet</td>\n",
    "\t<td><a href=https://facebook.github.io/prophet/docs/quick_start.html#python-api>https://facebook.github.io/prophet/docs/quick_start.html#python-api</a></td>\n",
    "\t<td>12.7 K</td>\n",
    "\t</tr>\n",
    "\t<tr>\n",
    "\t<td>PyOD</td>\n",
    "\t<td><a href= https://pyod.readthedocs.io/en/latest/>https://pyod.readthedocs.io/en/latest/</a></td>\n",
    "\t<td>4.5 K</td>\n",
    "\t</tr>\n",
    "</table>\n",
    "\n",
    "<p align=\"justify\">Tanto o Prophet e o PyOD tem melhorado suas funcionalidades e também a sua popularidade (GitHub Stars). Muito algoritmos de Deep Learning tem sido aplicado para detecção de anomalias, tanto em Séries Temporais Univaridadas quanto em Multivariadas.</p>"
   ],
   "metadata": {
    "collapsed": false,
    "pycharm": {
     "name": "#%% md\n"
    }
   }
  },
  {
   "cell_type": "markdown",
   "source": [
    "<h2>Detecção de Ponto de Mudança</h2>\n",
    "<p align=\"justify\">Um problema comum com séries temporais são as mudanças no comportamento dos dados observados em algum sistema. De modo geral, um ponto de mudança sinaliza uma mudança abrupta e significativa na transição entre os estados no processo de geração da série. A lista a seguir possui algumas aplicações para Detecção de Ponto de Mudança:\n",
    "<li>Reconhecimento de fala</li>\n",
    "<li>Análise de Imagem</li>\n",
    "<li>Ginástica</li>\n",
    "<li>Finanças</li></p>\n",
    "\n",
    "<p align=\"justify\">Um exemplo muito claro de Detecção de Ponto de Mudança é o mercado de ações. Para os investidores, é fundamental saber quando o mercado muda sua direção (subida ou queda) no valor. Dessa forma, reconhecer essas mudanças pode fazer a diferença entre ganhar ou perder. </p>\n",
    "\n",
    "<p align=\"justify\">Um desafio particularmente interessante com os algoritmos de Detecção de Mudanças é detectar esses pontos de inflexão em tempo real. Isso significa detectar um ponto de mudança assim que ele ocorrer ou, no mínimo no próximo ponto de mudança).Os algoritmos de Detecção de Mundanças são compostos de três componentes: Função de Custos, Métodos de Busca e restrições. As funções de custo são funções de distância que poder aplicada a uma subseção da série temporal (univariada ou multivariada).</p>\n",
    "\n",
    "<p align=\"justify\">Um exemplo de função de custo é a <i>least absolute deviation (LAD)</i> que é um estimador de um deslocamento no ponto central (Média, Mediana e Moda) de uma distribuição definida. A função de pesquisa itera ao longo da série temporal para detectar os pontos de mudança. Finalmente, a restrição pode entrar em jogo como uma penalidade no algoritmo de busca. Algumas bibliotecas com métodos de Detecção de Mudança:</p>\n",
    "<table border='1'>\n",
    "\t<tr>\n",
    "\t<th>Library</th>\n",
    "\t<th>Link</th>\n",
    "\t<th>Mantenendor</th>\n",
    "\t</tr>\n",
    "\t<tr>\n",
    "\t<td>Greykite</td>\n",
    "\t<td><a href=https://linkedin.github.io/greykite/docs/0.1.0/html/pages/greykite/overview.html>https://linkedin.github.io/greykite/docs/0.1.0/html/pages/greykite/overview.html</a></td>\n",
    "\t<td>LinkedIn</td>\n",
    "\t</tr>\n",
    "\t<tr>\n",
    "\t<td>ruptures</td>\n",
    "\t<td><a href= https://centre-borelli.github.io/ruptures-docs/>https://centre-borelli.github.io/ruptures-docs/</a></td>\n",
    "\t<td>Charles Truong</td>\n",
    "\t</tr>\n",
    "</table>"
   ],
   "metadata": {
    "collapsed": false
   }
  },
  {
   "cell_type": "markdown",
   "source": [
    "<h2>clustering</h2>\n",
    "<p align = \"justify\">A análise de <i>clustering</i> é o processo de encontrar grupos significativos (cluster) de pontos ou objetos em um conjunto de dados com base em sua similaridade. O agrupamenteo de séries temporais é desafioador porque ada ponto de dados é um período de tempo (uma sequência ordenada). A seguir, uma tabela com as principais bibliotecas para <i>clustering</i>, ambas bibliotecas são altamente recomendadas.</p>\n",
    "<table border='1'>\n",
    "\t<tr>\n",
    "\t<th>Library</th>\n",
    "\t<th>Link</th>\n",
    "\t<th>Stars on GitHub</th>\n",
    "\t</tr>\n",
    "\t<tr>\n",
    "\t<td>tslearn</td>\n",
    "\t<td><a href=https://tslearn.readthedocs.io/en/stable/>https://tslearn.readthedocs.io/en/stable/</a></td>\n",
    "\t<td>1.7K</td>\n",
    "\t</tr>\n",
    "\t<tr>\n",
    "\t<td>river</td>\n",
    "\t<td><a href= https://riverml.xyz/latest/api/overview/> https://riverml.xyz/latest/api/overview/</a></td>\n",
    "\t<td>1.7K</td>\n",
    "\t</tr>\n",
    "</table>"
   ],
   "metadata": {
    "collapsed": false
   }
  },
  {
   "cell_type": "code",
   "execution_count": 2,
   "outputs": [
    {
     "ename": "ModuleNotFoundError",
     "evalue": "No module named 'alibi_detect'",
     "output_type": "error",
     "traceback": [
      "\u001B[1;31m---------------------------------------------------------------------------\u001B[0m",
      "\u001B[1;31mModuleNotFoundError\u001B[0m                       Traceback (most recent call last)",
      "\u001B[1;32m~\\AppData\\Local\\Temp/ipykernel_18620/1035483950.py\u001B[0m in \u001B[0;36m<module>\u001B[1;34m\u001B[0m\n\u001B[0;32m      1\u001B[0m \u001B[1;31m# Detecção de Anomalias\u001B[0m\u001B[1;33m\u001B[0m\u001B[1;33m\u001B[0m\u001B[1;33m\u001B[0m\u001B[0m\n\u001B[1;32m----> 2\u001B[1;33m \u001B[1;32mfrom\u001B[0m \u001B[0malibi_detect\u001B[0m\u001B[1;33m.\u001B[0m\u001B[0mdatasets\u001B[0m \u001B[1;32mimport\u001B[0m \u001B[0mfetch_kdd\u001B[0m\u001B[1;33m\u001B[0m\u001B[1;33m\u001B[0m\u001B[0m\n\u001B[0m",
      "\u001B[1;31mModuleNotFoundError\u001B[0m: No module named 'alibi_detect'"
     ]
    }
   ],
   "source": [
    "# Detecção de Anomalias\n",
    "from alibi_detect.datasets import fetch_kdd"
   ],
   "metadata": {
    "collapsed": false,
    "pycharm": {
     "name": "#%%\n"
    }
   }
  }
 ],
 "metadata": {
  "kernelspec": {
   "display_name": "Python 3",
   "language": "python",
   "name": "python3"
  },
  "language_info": {
   "codemirror_mode": {
    "name": "ipython",
    "version": 2
   },
   "file_extension": ".py",
   "mimetype": "text/x-python",
   "name": "python",
   "nbconvert_exporter": "python",
   "pygments_lexer": "ipython2",
   "version": "2.7.6"
  }
 },
 "nbformat": 4,
 "nbformat_minor": 0
}