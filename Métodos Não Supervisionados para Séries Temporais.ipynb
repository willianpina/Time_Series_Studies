{
 "cells": [
  {
   "cell_type": "markdown",
   "metadata": {
    "collapsed": true,
    "pycharm": {
     "name": "#%% md\n"
    }
   },
   "source": [
    "<h1 align=\"center\">Métodos Não Supervisionados para as Séries Temporais</h1>\n",
    "<p align=\"center\"><img src= https://cienciaenegocios.com/wp-content/uploads/2018/09/o-que-e-machine-learning.jpg heigth=250 width=400></p>"
   ]
  },
  {
   "cell_type": "markdown",
   "source": [
    "<p align = \"justify\">O ponto central de um aprendizado não supervisionado está na extração da estruturas nas Séries Temporais mais importantes no reconhecimento de similaridades entre as subsequências. Esta é a essência da Detecção de Anomalias ou Detecção de <i>Outliers</i>, onde nos queremos identificar as sequências que notadamente são diferentes do restante da Série.</p>"
   ],
   "metadata": {
    "collapsed": false
   }
  }
 ],
 "metadata": {
  "kernelspec": {
   "display_name": "Python 3",
   "language": "python",
   "name": "python3"
  },
  "language_info": {
   "codemirror_mode": {
    "name": "ipython",
    "version": 2
   },
   "file_extension": ".py",
   "mimetype": "text/x-python",
   "name": "python",
   "nbconvert_exporter": "python",
   "pygments_lexer": "ipython2",
   "version": "2.7.6"
  }
 },
 "nbformat": 4,
 "nbformat_minor": 0
}