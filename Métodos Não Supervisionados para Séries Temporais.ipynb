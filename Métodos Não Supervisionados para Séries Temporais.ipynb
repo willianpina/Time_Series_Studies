{
 "cells": [
  {
   "cell_type": "markdown",
   "metadata": {
    "collapsed": true,
    "pycharm": {
     "name": "#%% md\n"
    }
   },
   "source": [
    "<h1 align=\"center\">Métodos Não Supervisionados para as Séries Temporais</h1>\n",
    "<p align=\"center\"><img src= https://cienciaenegocios.com/wp-content/uploads/2018/09/o-que-e-machine-learning.jpg heigth=250 width=400></p>"
   ]
  },
  {
   "cell_type": "markdown",
   "source": [
    "<p align = \"justify\">O ponto central de um aprendizado não supervisionado está na extração da estruturas nas Séries Temporais mais importantes no reconhecimento de similaridades entre as subsequências. Esta é a essência da Detecção de Anomalias ou Detecção de <i>Outliers</i>, onde nos queremos identificar as sequências que notadamente são diferentes do restante da Série.</p>\n",
    "<p align=\"justify\">Uma série temporal é usualmente não estácionáriam, não linear e evolui dinamicamente. Um desafio importante de se trabalhar com Séries Temporais é reconhecer as mudanças nos processos subjacentes. Isso é conhecido como Change Point Detection (CPD) - \"Detecção de Ponto de Mudança\" ou  \"Detecção de Desvio\". É importante aprofundar neste estudo para entender essas mudanças, porque a existências de pontos de mmudança e pontos anômalos são problemas comuns com as aplicações em tempo real. </p>"
   ],
   "metadata": {
    "collapsed": false
   }
  },
  {
   "cell_type": "markdown",
   "source": [
    "<h2>Métodos Não Supervisionados para Séries Temporais</h2>\n",
    "<p align=\"justify\">A principal diferença entre uma Série Temporal e os outros tipos de dados é a dependência dos dados em relação ao eixo temporal (eixo X), uma estrutura de correlação em um ponto 1 pode ter informações para a mesma estrutura no ponto 2. As Séries Temporais geralmente tem alta dimensionalidade.</p>\n",
    "<p align=\"justify\">Para reduzir o ruído e diminuir a dimensionalidade, emprega-se a Análise das Ondas ou as Técnicas de Processamento de Sinal para realizar a filtragem e a Decomposição de Fourier. Tudo isso, geralmente, é a base para a detecção de anomalias ou CPD que são discutidas posteriomente.</p>"
   ],
   "metadata": {
    "collapsed": false
   }
  },
  {
   "cell_type": "markdown",
   "source": [
    "<h2>Detecção de Anomalias</h2>\n",
    "<p align=\"justify\">Em problemas de detecção de anomalias, nós queremos identificar sequências que são notadamente diferentes do resto das séries. Anomalias ou <i>Outlier</i> podem algumas vezes ser resultado de erros de mensuração ou ruídos, mas eles poderiam indicar mudanças de comportamento ou comportamentos aberrantes no conjunto ou sistema que está sob observação, o que nos indicaria uma ação urgente a ser tomada em alguns casos.</p>\n",
    "<p align=\"justify\">Existem alguns desafios para detectar anomalias em séries temporais, conforme a seguir:</p>\n",
    "<li>Falta de uma definição do que deve ser considerado um <i>Outlier</i></li>\n",
    "<li>Ruídos nos dados de entrada</li>\n",
    "<li>Complexidade da Série Temporal</li>\n",
    "<li>Alto desequilíbrio</li>"
   ],
   "metadata": {
    "collapsed": false
   }
  }
 ],
 "metadata": {
  "kernelspec": {
   "display_name": "Python 3",
   "language": "python",
   "name": "python3"
  },
  "language_info": {
   "codemirror_mode": {
    "name": "ipython",
    "version": 2
   },
   "file_extension": ".py",
   "mimetype": "text/x-python",
   "name": "python",
   "nbconvert_exporter": "python",
   "pygments_lexer": "ipython2",
   "version": "2.7.6"
  }
 },
 "nbformat": 4,
 "nbformat_minor": 0
}