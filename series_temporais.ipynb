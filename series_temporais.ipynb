{
 "cells": [
  {
   "cell_type": "markdown",
   "metadata": {},
   "source": [
    "<h1 align='center'><b>Análise das Séries Temporais</b></h1>\n",
    "<p align=\"center\"><img src=imagens\\caracteristicas-das-series-temporais-519x480.jpg width=\"550\" height=\"350\"></p>\n"
   ]
  },
  {
   "cell_type": "markdown",
   "metadata": {},
   "source": [
    "<p align='justify'>A Análise de Séries Temporais (AST) pode resolver um problema familiar dos conjuntos de dados que envolve ideias e hipóteses. Alguns Cientistas de Dados utilizam as séries temporais como parte de seu <i>Storytelling</i>. A principal diferença entre a Análise de Séries Temporais e o Aprendizado de Máquina é que a Análise de Séries Temporais não incluem formalmente modelos estatísticos e inferência.</p>\n",
    "<p> Vamos observar alguns padrões fundamentais para a Análise das Séries Temporais, a partir do carregamento dos conjuntos de dados a identificação de <b>tendências</b> e <b>sazonalidades</b>.\n",
    "<p> De um modo geral, a Análise de Séries Temporais é parecido com a <b>Análise Exploratória de Dados (EDA, em inglês)</b> específica para AST. Embora essa comparação seja um pouco equivocada uma vez que a AST pode ser tanto descritiva quanto exploratória.</p>\n",
    "<p>A diferença entre análise descritiva e exploratória é:</p>\n",
    "<li><b>Análise Descritiva:</b> resumir as características de um Conjunto de Dados.</li>\n",
    "<li><b>Análise Exploratória:</b> analisar os padrões, tendências, ou relações entre as variáveis.</li>\n",
    "\n",
    "<p>A AST é o processo de extração de informações estatísticas e sumarizadas de uma Séries Temporal, com foco na análise da tendência e sazonalidade.</p>\n",
    "\n",
    "<p>O passo a passo para trabalhar com Séries Temporais é:</p>\n",
    "<li>Importar o conjunto de dados</li>\n",
    "<li>Fazer a limpeza de dados</li>\n",
    "<li>Entender as variáveis</li>\n",
    "<li>Descobrir as relações entre as variáveis</li>\n",
    "<li>Identificar as tendências e sazonalidades</li>\n",
    "<li>Realizar o preprocessamento (incluindo <i>feature engineering</i>)</li>\n",
    "<li>Treinar o modelo de <i>Machine Learning</i></li>"
   ]
  },
  {
   "cell_type": "code",
   "execution_count": null,
   "metadata": {},
   "outputs": [],
   "source": []
  }
 ],
 "metadata": {
  "interpreter": {
   "hash": "adc9bb8b32507af041d48f79beff297e5596f2d08c3fa998d68427d7acb13fb8"
  },
  "kernelspec": {
   "display_name": "Python 3.9.5 64-bit",
   "language": "python",
   "name": "python3"
  },
  "language_info": {
   "name": "python",
   "version": "3.9.5"
  },
  "orig_nbformat": 4
 },
 "nbformat": 4,
 "nbformat_minor": 2
}
