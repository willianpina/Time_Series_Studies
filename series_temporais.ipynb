{
 "cells": [
  {
   "cell_type": "markdown",
   "metadata": {},
   "source": [
    "<h1 align='center'><b>Análise das Séries Temporais</b></h1>\n",
    "<p align=\"center\"><img src=imagens\\caracteristicas-das-series-temporais-519x480.jpg width=\"550\" height=\"350\"></p>\n"
   ]
  },
  {
   "cell_type": "markdown",
   "metadata": {},
   "source": [
    "<p align='justify'>A Análise de Séries Temporais (AST) pode resolver um problema familiar dos conjuntos de dados que envolve ideias e hipóteses. Alguns Cientistas de Dados utilizam as séries temporais como parte de seu <i>Storytelling</i>. A principal diferença entre a Análise de Séries Temporais e o Aprendizado de Máquina é que a Análise de Séries Temporais não incluem formalmente modelos estatísticos e inferência.</p>\n",
    "<p> Vamos observar alguns padrões fundamentais para a Análise das Séries Temporais, a partir do carregamento dos conjuntos de dados a identificação de <b>tendências</b> e <b>sazonalidades</b>.\n",
    "<p> De um modo geral, a Análise de Séries Temporais é parecido com a <b>Análise Exploratória de Dados (EDA, em inglês)</b> específica para AST. Embora essa comparação seja um pouco equivocada uma vez que a AST pode ser tanto descritiva quanto exploratória.</p>\n",
    "<p>A diferença entre análise descritiva e exploratória é:</p>\n",
    "<li><b>Análise Descritiva:</b> resumir as características de um Conjunto de Dados.</li>\n",
    "<li><b>Análise Exploratória:</b> analisar os padrões, tendências, ou relações entre as variáveis.</li>\n",
    "\n",
    "<p>A AST é o processo de extração de informações estatísticas e sumarizadas de uma Séries Temporal, com foco na análise da tendência e sazonalidade.</p>\n",
    "\n",
    "<p>O passo a passo para trabalhar com Séries Temporais é:</p>\n",
    "<li>Importar o conjunto de dados</li>\n",
    "<li>Fazer a limpeza de dados</li>\n",
    "<li>Entender as variáveis</li>\n",
    "<li>Descobrir as relações entre as variáveis</li>\n",
    "<li>Identificar as tendências e sazonalidades</li>\n",
    "<li>Realizar o preprocessamento (incluindo <i>feature engineering</i>)</li>\n",
    "<li>Treinar o modelo de <i>Machine Learning</i></li>\n",
    "\n",
    "<p>Neste contexto, é importante saber diferenciar as técnicas que podem ser utilizadas com a análise univariada e multivariada. <b>Análise Univariada</b> significa que estaremos observando apenas uma única variável. <b>Análise Multivariada</b> significa que estaremos observando e calculando as correlações entre variáveis, por meio de gráficos <i>Scatter</i>.</p>"
   ]
  },
  {
   "cell_type": "code",
   "execution_count": 62,
   "metadata": {},
   "outputs": [
    {
     "data": {
      "text/plain": [
       "'2022-03-02T15:00:00'"
      ]
     },
     "execution_count": 62,
     "metadata": {},
     "output_type": "execute_result"
    }
   ],
   "source": [
    "# Trabalhando com datas\n",
    "\n",
    "from datetime import date\n",
    "\n",
    "hoje = date.today()\n",
    "dia_D = date(2022,3,6)\n",
    "\n",
    "from datetime import datetime\n",
    "agora = datetime.now()\n",
    "\n",
    "alguma_data = datetime(2022,3,2,15,00,00)\n",
    "alguma_data.isoformat()"
   ]
  },
  {
   "cell_type": "code",
   "execution_count": 63,
   "metadata": {},
   "outputs": [
    {
     "data": {
      "text/plain": [
       "'Wednesday 02. March 2022'"
      ]
     },
     "execution_count": 63,
     "metadata": {},
     "output_type": "execute_result"
    }
   ],
   "source": [
    "from datetime import timedelta\n",
    "year = timedelta(days=365)\n",
    "year * 10\n",
    "\n",
    "some_date = date.fromisoformat('2022-03-02')\n",
    "some_date.strftime('%A %d. %B %Y')"
   ]
  },
  {
   "cell_type": "markdown",
   "metadata": {},
   "source": [
    "<h3>Pandas</h3>"
   ]
  },
  {
   "cell_type": "code",
   "execution_count": 64,
   "metadata": {},
   "outputs": [
    {
     "data": {
      "text/plain": [
       "DatetimeIndex(['2022-01-01', '2022-01-02', '2022-01-03', '2022-01-04',\n",
       "               '2022-01-05', '2022-01-06', '2022-01-07', '2022-01-08',\n",
       "               '2022-01-09', '2022-01-10',\n",
       "               ...\n",
       "               '2022-12-22', '2022-12-23', '2022-12-24', '2022-12-25',\n",
       "               '2022-12-26', '2022-12-27', '2022-12-28', '2022-12-29',\n",
       "               '2022-12-30', '2022-12-31'],\n",
       "              dtype='datetime64[ns]', length=365, freq='D')"
      ]
     },
     "execution_count": 64,
     "metadata": {},
     "output_type": "execute_result"
    }
   ],
   "source": [
    "import pandas as pd\n",
    "pd.date_range(start='2022-01-01', end='2022-12-31')"
   ]
  },
  {
   "cell_type": "code",
   "execution_count": 65,
   "metadata": {},
   "outputs": [
    {
     "data": {
      "text/plain": [
       "0   2021-01-01\n",
       "1   2021-01-02\n",
       "2   2021-01-03\n",
       "dtype: datetime64[ns]"
      ]
     },
     "execution_count": 65,
     "metadata": {},
     "output_type": "execute_result"
    }
   ],
   "source": [
    "pd.Series(pd.date_range(\"2021\", freq=\"D\", periods=3))"
   ]
  },
  {
   "cell_type": "code",
   "execution_count": 66,
   "metadata": {},
   "outputs": [
    {
     "data": {
      "text/plain": [
       "0   2021-03-24\n",
       "1   2022-04-25\n",
       "dtype: datetime64[ns]"
      ]
     },
     "execution_count": 66,
     "metadata": {},
     "output_type": "execute_result"
    }
   ],
   "source": [
    "df = pd.DataFrame({'year': [2021, 2022],\n",
    "'month': [3, 4],\n",
    "'day': [24, 25]}\n",
    ")\n",
    "ts1 = pd.to_datetime(df)\n",
    "ts2 = pd.to_datetime('20210324', format='%Y%m%d')\n",
    "ts1"
   ]
  },
  {
   "cell_type": "code",
   "execution_count": 67,
   "metadata": {},
   "outputs": [
    {
     "data": {
      "text/plain": [
       "0     NaN\n",
       "1     NaN\n",
       "2     6.0\n",
       "3     9.0\n",
       "4    12.0\n",
       "dtype: float64"
      ]
     },
     "execution_count": 67,
     "metadata": {},
     "output_type": "execute_result"
    }
   ],
   "source": [
    "# Trabalhando com Janelas de Rolagem\n",
    "\n",
    "pd.Series([1,2,3,4,5]).rolling(3).sum()"
   ]
  },
  {
   "cell_type": "code",
   "execution_count": 68,
   "metadata": {},
   "outputs": [
    {
     "data": {
      "text/plain": [
       "2022-01-01   -1.807309\n",
       "2022-01-02    1.102219\n",
       "2022-01-03   -1.226312\n",
       "2022-01-04   -1.019430\n",
       "2022-01-05   -0.416049\n",
       "                ...   \n",
       "2022-12-27    0.070651\n",
       "2022-12-28   -1.451192\n",
       "2022-12-29    0.788581\n",
       "2022-12-30    0.487625\n",
       "2022-12-31    0.573036\n",
       "Freq: D, Length: 365, dtype: float64"
      ]
     },
     "execution_count": 68,
     "metadata": {},
     "output_type": "execute_result"
    }
   ],
   "source": [
    "import numpy as np\n",
    "rng = pd.date_range('2022-01-01', '2022-12-31', freq='D')\n",
    "ts = pd.Series(np.random.randn(len(rng)), index=rng)\n",
    "ts"
   ]
  },
  {
   "cell_type": "code",
   "execution_count": 69,
   "metadata": {},
   "outputs": [
    {
     "data": {
      "text/plain": [
       "2022-01-01   -1.807309\n",
       "2022-01-02    1.102219\n",
       "Freq: D, dtype: float64"
      ]
     },
     "execution_count": 69,
     "metadata": {},
     "output_type": "execute_result"
    }
   ],
   "source": [
    "# Indexando uma Série Temporal\n",
    "ts[:2]"
   ]
  },
  {
   "cell_type": "code",
   "execution_count": 70,
   "metadata": {},
   "outputs": [
    {
     "data": {
      "text/plain": [
       "2022-01-01         NaN\n",
       "2022-01-02   -1.807309\n",
       "2022-01-03    1.102219\n",
       "2022-01-04   -1.226312\n",
       "2022-01-05   -1.019430\n",
       "Freq: D, dtype: float64"
      ]
     },
     "execution_count": 70,
     "metadata": {},
     "output_type": "execute_result"
    }
   ],
   "source": [
    "# Atrasando ou adiantando os dados de uma Série Temporal\n",
    "ts.shift(1)[:5]"
   ]
  },
  {
   "cell_type": "code",
   "execution_count": 71,
   "metadata": {},
   "outputs": [
    {
     "data": {
      "text/plain": [
       "2022-01-31    0.712559\n",
       "2022-02-28    0.492253\n",
       "2022-03-31    0.122467\n",
       "2022-04-30   -0.503029\n",
       "2022-05-31   -0.170333\n",
       "2022-06-30   -0.248974\n",
       "2022-07-31    0.127464\n",
       "2022-08-31   -0.041441\n",
       "2022-09-30    0.037192\n",
       "2022-10-31    1.863449\n",
       "2022-11-30   -1.423311\n",
       "2022-12-31    0.573036\n",
       "Freq: M, dtype: float64"
      ]
     },
     "execution_count": 71,
     "metadata": {},
     "output_type": "execute_result"
    }
   ],
   "source": [
    "ts.asfreq('M')"
   ]
  },
  {
   "cell_type": "code",
   "execution_count": 72,
   "metadata": {},
   "outputs": [
    {
     "data": {
      "text/plain": [
       "Index(['cotacaoCompra', 'cotacaoVenda', 'dataHoraCotacao'], dtype='object')"
      ]
     },
     "execution_count": 72,
     "metadata": {},
     "output_type": "execute_result"
    }
   ],
   "source": [
    "# Dados relativos ao Cotação do Dólar de acordo com Banco Central do Brasil\n",
    "\n",
    "dados = pd.read_csv(\"data\\Cotação do Dólar por período.csv\")\n",
    "len(dados) # tamanho\n",
    "dados.columns"
   ]
  },
  {
   "cell_type": "code",
   "execution_count": 73,
   "metadata": {},
   "outputs": [
    {
     "data": {
      "text/plain": [
       "compra      object\n",
       "venda       object\n",
       "dataHora    object\n",
       "dtype: object"
      ]
     },
     "execution_count": 73,
     "metadata": {},
     "output_type": "execute_result"
    }
   ],
   "source": [
    "# Renomeando as colunas\n",
    "dados = dados.rename(\n",
    "    columns={'cotacaoCompra': 'compra',\n",
    "    'cotacaoVenda':'venda',\n",
    "    'dataHoraCotacao':'dataHora'}\n",
    ")\n",
    "\n",
    "dados.dtypes"
   ]
  },
  {
   "cell_type": "code",
   "execution_count": 74,
   "metadata": {},
   "outputs": [],
   "source": [
    "# Convertendo os dados de Compra e Venda de String para Float\n",
    "dados['compra'] = dados['compra'].str.replace(',','.').astype(float)\n",
    "dados['venda'] = dados['venda'].str.replace(',','.').astype(float)"
   ]
  },
  {
   "cell_type": "code",
   "execution_count": 76,
   "metadata": {},
   "outputs": [
    {
     "data": {
      "text/plain": [
       "compra      0.0\n",
       "venda       0.0\n",
       "dataHora    0.0\n",
       "dtype: float64"
      ]
     },
     "execution_count": 76,
     "metadata": {},
     "output_type": "execute_result"
    }
   ],
   "source": [
    "# Verificando se não há valores nulos\n",
    "dados.isnull().mean()"
   ]
  },
  {
   "cell_type": "code",
   "execution_count": 78,
   "metadata": {},
   "outputs": [
    {
     "data": {
      "text/html": [
       "<div>\n",
       "<style scoped>\n",
       "    .dataframe tbody tr th:only-of-type {\n",
       "        vertical-align: middle;\n",
       "    }\n",
       "\n",
       "    .dataframe tbody tr th {\n",
       "        vertical-align: top;\n",
       "    }\n",
       "\n",
       "    .dataframe thead th {\n",
       "        text-align: right;\n",
       "    }\n",
       "</style>\n",
       "<table border=\"1\" class=\"dataframe\">\n",
       "  <thead>\n",
       "    <tr style=\"text-align: right;\">\n",
       "      <th></th>\n",
       "      <th>count</th>\n",
       "      <th>mean</th>\n",
       "      <th>std</th>\n",
       "      <th>min</th>\n",
       "      <th>25%</th>\n",
       "      <th>50%</th>\n",
       "      <th>75%</th>\n",
       "      <th>max</th>\n",
       "    </tr>\n",
       "  </thead>\n",
       "  <tbody>\n",
       "    <tr>\n",
       "      <th>compra</th>\n",
       "      <td>297.0</td>\n",
       "      <td>5.385413</td>\n",
       "      <td>0.210185</td>\n",
       "      <td>4.9200</td>\n",
       "      <td>5.2274</td>\n",
       "      <td>5.3904</td>\n",
       "      <td>5.5661</td>\n",
       "      <td>5.8391</td>\n",
       "    </tr>\n",
       "    <tr>\n",
       "      <th>venda</th>\n",
       "      <td>297.0</td>\n",
       "      <td>5.386037</td>\n",
       "      <td>0.210201</td>\n",
       "      <td>4.9206</td>\n",
       "      <td>5.2281</td>\n",
       "      <td>5.3910</td>\n",
       "      <td>5.5667</td>\n",
       "      <td>5.8397</td>\n",
       "    </tr>\n",
       "  </tbody>\n",
       "</table>\n",
       "</div>"
      ],
      "text/plain": [
       "        count      mean       std     min     25%     50%     75%     max\n",
       "compra  297.0  5.385413  0.210185  4.9200  5.2274  5.3904  5.5661  5.8391\n",
       "venda   297.0  5.386037  0.210201  4.9206  5.2281  5.3910  5.5667  5.8397"
      ]
     },
     "execution_count": 78,
     "metadata": {},
     "output_type": "execute_result"
    }
   ],
   "source": [
    "dados.describe().T"
   ]
  },
  {
   "cell_type": "code",
   "execution_count": 84,
   "metadata": {},
   "outputs": [
    {
     "data": {
      "image/png": "[encoded data removed]",
      "text/plain": [
       "<Figure size 864x360 with 1 Axes>"
      ]
     },
     "metadata": {
      "needs_background": "light"
     },
     "output_type": "display_data"
    }
   ],
   "source": [
    "# Vamos plotar esse gráfico\n",
    "import matplotlib.pyplot as plt\n",
    "plt.figure(figsize=(12,5))\n",
    "n, bins, patches = plt.hist(\n",
    "    x=dados['compra'],\n",
    "    bins='auto',\n",
    "    alpha=0.7,\n",
    "    rwidth=0.85\n",
    ")\n",
    "plt.grid(axis='y', alpha=0.75)\n",
    "plt.xlabel('Compra')\n",
    "plt.ylabel('Frequência')\n",
    "plt.show()"
   ]
  }
 ],
 "metadata": {
  "interpreter": {
   "hash": "adc9bb8b32507af041d48f79beff297e5596f2d08c3fa998d68427d7acb13fb8"
  },
  "kernelspec": {
   "display_name": "Python 3.9.5 64-bit",
   "language": "python",
   "name": "python3"
  },
  "language_info": {
   "codemirror_mode": {
    "name": "ipython",
    "version": 3
   },
   "file_extension": ".py",
   "mimetype": "text/x-python",
   "name": "python",
   "nbconvert_exporter": "python",
   "pygments_lexer": "ipython3",
   "version": "3.9.5"
  },
  "orig_nbformat": 4
 },
 "nbformat": 4,
 "nbformat_minor": 2
}
