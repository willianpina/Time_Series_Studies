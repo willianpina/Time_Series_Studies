{
 "cells": [
  {
   "cell_type": "markdown",
   "metadata": {
    "collapsed": true,
    "pycharm": {
     "name": "#%% md\n"
    }
   },
   "source": [
    "<h1 align = \"center\">Aprendizagem Online para Séries Temporais</h1>\n",
    "<p align =\"center\"><img src = https://guiadoestudante.abril.com.br/wp-content/uploads/sites/4/2021/04/Curso-online.jpg height=350 width=550></p>\n",
    "<p align =\"justify\">Aprendizagem <i>Online</i> significa que nós continuamente estarem atualizando o nosso modelo com novos dados de entrada. A vantagem do algoritmos de aprendizagem <i>online</i> é que eles podem manipular com alta velocidade grandes conjuntos de <i>streaming</i> de dados que são capazes de adaptar a novas distribuições de dados.</p>"
   ]
  },
  {
   "cell_type": "markdown",
   "metadata": {},
   "source": [
    "<h2>Aprendizagem <i>Online</i> para Séries Temporais</h2>\n",
    "<p align=\"justify\"></p>Existem dois principais cenários para a aprendizagem: <i>online e offline</i>. <b>Aprendizagem Online</b> significa que estamos ajustando incrementalmente como os dados fluem no <i>streaming data</i>. Por outro lado, <b>Aprendizagem Offline</b>, que é a abordagem mais conhecida, implica em um conjunto de dados estático que é conhecido e os parâmetros dos algoritmos de <i>machine learning</i> são ajustados para todo o conjunto de uma única vez (as vezes todo o conjunto de dados consumidos na memória ou em <i>batches</i>). Existem 3 casos comuns de aprendizagem <i>online</i>: Aplicações de <i>Big Data</i>, aplicações em tempo real ou aplicações em ambientes dinâmicos.</p>\n"
   ]
  },
  {
   "cell_type": "markdown",
   "metadata": {},
   "source": [
    "<p align=\"justify\">Um aplicação comum em aprendizagem <i>online</i> é em séries temporais, e um desafio particular que no processo de geração de observaçõe ao longo do tempo  algo pode ser alterado. Isto é chamado de conceito de <i>Drift</i> (deriva).</p>"
   ]
  },
  {
   "cell_type": "markdown",
   "metadata": {},
   "source": [
    "<p>\n",
    "<table border=\"1\">\n",
    "    <tr>\n",
    "        <th></th>\n",
    "        <th>Offline</th>\n",
    "        <th>Online</th>\n",
    "    </tr>\n",
    "    <tr>\n",
    "        <td>Necessidade Monitorar</td>\n",
    "        <td>Sim. O modelo pode se tornar obsoleto e perder performace.</td>\n",
    "        <td>Adapta a mudança dos dados.</td>\n",
    "    </tr>\n",
    "    <tr>\n",
    "        <td>Custos de reciclagem</td>\n",
    "        <td>Caro (do Zero)</td>\n",
    "        <td>Barato (Incremental)</td>\n",
    "    </tr>\n",
    "    <tr>\n",
    "        <td>Requisitos de memória</td>\n",
    "        <td>Possibilidade de alta demanda de memória</td>\n",
    "        <td>Baixa</td>\n",
    "    </tr>\n",
    "    <tr>\n",
    "        <td>Aplicações</td>\n",
    "        <td>Classificação de Imagens, reconhecimento de fala, onde os dados assumem ser estáticos.</td>\n",
    "        <td>Finanças, e-commerce, economia, saúde e bem-estar, onde os dados estão dinamicamente mudando.</td>\n",
    "    </tr>\n",
    "    <tr>\n",
    "        <td>Ferramentas</td>\n",
    "        <td><i>tslearn, sktime, prophet</i></td>\n",
    "        <td><i>Scikit-Multiflow, River</i></td>\n",
    "    </tr>\n",
    "    </table></p>"
   ]
  },
  {
   "cell_type": "markdown",
   "metadata": {},
   "source": [
    "<p align=\"justify\">Existem alguns métodos de avaliação para modelos online: <i>Holdout - Prequential</i>. No <i>Holdout</i>, nós aplicaremos o modelo corrente para o conjunto teste (independente). Esse modo é muito popular tanto no aprendizado em lote quanto no online (stream), pois oferece uma visão imparcial da estimativa de desempenho.Na Avaliação <i>Prequential</i>, nós testamos à medida em que avançamos na sequência. Cada novo ponto de dados é testado primeiro e depois treinado.</p>"
   ]
  },
  {
   "cell_type": "markdown",
   "metadata": {},
   "source": [
    "<h2>Algoritmos Online</h2>\n",
    "<p align=\"justify\">Quando os dados se tornam disponíveis gradualmente ao longo do tempo ou seu tamanho excede os limites de memória do sistema e, em seguida, os algoritmos de aprendizado de máquina incrementais, sejam eles supervisionados ou não supervisionados, pode se atualizar os parâmetros em partes dos dados em vez de começar o aprendizado do zero. O aprendizado incremental é onde os parâmetros são continuamente adaptados para ajustar um modelo a novos dados de entrada.</p>\n",
    "<p align=\"justify\">O <i>Scikit-learn</i>, a biblioteca padrão para aprendizado de máquina em <i>Python</i>, tem apenas um número limitado de algoritmos incrementais. Ela é focada em modelos de aprendizado em lote. Em contraste, existem bibliotecas especializadas para aprendizagem online com recursos adaptativos e algoritmos incrementais que cobrem muitos casos de uso, como conjuntos de dados desequilibrados.</p>"
   ]
  },
  {
   "cell_type": "markdown",
   "metadata": {},
   "source": [
    "<p align=\"justify\">A <i>River</i> é o resultado da fusão de duas bibliotecas: <i>Creme</i> (pretendido como um trocadilho com incremental) e <i>Scikit-Multiflow</i>. A <i>River</i> vem com muitos métodos meta e ensemble. Muitos desses meta ou métodos ensemble podem usar modelos <i>scikit-learn</i> como modelos básicos.</p>"
   ]
  },
  {
   "cell_type": "markdown",
   "metadata": {},
   "source": [
    "<h2><i>Drift</i></h2>\n",
    "<p align=\"justify\">Um dos principais determinantes da qualidade dos dados é o <i>Drift</i>. O <i>Drift</i> (também: deslocamento do conjunto de dados) significa que os padrões nos dados mudam ao longo do tempo. O <i>Drift</i> é importante porque o desempenho de um modelo de aprendizado de máquina pode ser afetado negativamente por alterações no conjunto de dados.As transições de <i>Drift</i> podem ocorrer de forma abrupta, incremental, gradual ou recorrente.</p>"
   ]
  },
  {
   "cell_type": "markdown",
   "metadata": {},
   "source": [
    "<p align=\"justify\">Quando a transição é abrupta, as mudanças ocorrem em um tempo-espaço sem aparente preparação ou aviso. A incremental ocorre com uma pequena mudança, seguida de uma grande mudança e assim sucessivamente. Quando uma transição acontece gradualmente, pode parecer um vai-e-vem entre diferentes forças até que uma nova linha de base seja estabelecida. O tipo de transição recorrente ou cíclico ocorre quando há uma mudança regular ou recorrente entre as diferentes linhas de base.</p>"
   ]
  },
  {
   "cell_type": "markdown",
   "metadata": {},
   "source": [
    "Existem três diferentes tipos de <i>drift</i>:\n",
    "<li>Drift Covariado:descreve uma mudança nas variáveis independentes (características).</li>\n",
    "<li>Drift de Probabilidade anterior é a mudança na variável alvo.</li>\n",
    "<li>Drift de Conceito é quando ocorre uma mudança na relação entre a variável independente e as variáveis de destino.</li>"
   ]
  },
  {
   "cell_type": "markdown",
   "metadata": {},
   "source": []
  }
 ],
 "metadata": {
  "kernelspec": {
   "display_name": "Python 3",
   "language": "python",
   "name": "python3"
  },
  "language_info": {
   "codemirror_mode": {
    "name": "ipython",
    "version": 2
   },
   "file_extension": ".py",
   "mimetype": "text/x-python",
   "name": "python",
   "nbconvert_exporter": "python",
   "pygments_lexer": "ipython2",
   "version": "3.9.5"
  }
 },
 "nbformat": 4,
 "nbformat_minor": 0
}
